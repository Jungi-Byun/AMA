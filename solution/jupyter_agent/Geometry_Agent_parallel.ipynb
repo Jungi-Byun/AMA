{
 "cells": [
  {
   "cell_type": "code",
   "execution_count": 1,
   "id": "56126aa2-e3ad-4c84-b952-0c65c9b229e7",
   "metadata": {},
   "outputs": [],
   "source": [
    "!pip install -q langchain langgraph transformers accelerate"
   ]
  },
  {
   "cell_type": "code",
   "execution_count": 2,
   "id": "db9e9f5f-d6da-4ccd-b561-dfbb59a8afe6",
   "metadata": {},
   "outputs": [
    {
     "name": "stderr",
     "output_type": "stream",
     "text": [
      "/home/jungi.byun/AMA/solution/jupyter_env/lib/python3.10/site-packages/tqdm/auto.py:21: TqdmWarning: IProgress not found. Please update jupyter and ipywidgets. See https://ipywidgets.readthedocs.io/en/stable/user_install.html\n",
      "  from .autonotebook import tqdm as notebook_tqdm\n",
      "2025-07-08 10:29:39.129739: I tensorflow/core/util/port.cc:153] oneDNN custom operations are on. You may see slightly different numerical results due to floating-point round-off errors from different computation orders. To turn them off, set the environment variable `TF_ENABLE_ONEDNN_OPTS=0`.\n",
      "2025-07-08 10:29:39.158858: E external/local_xla/xla/stream_executor/cuda/cuda_fft.cc:467] Unable to register cuFFT factory: Attempting to register factory for plugin cuFFT when one has already been registered\n",
      "WARNING: All log messages before absl::InitializeLog() is called are written to STDERR\n",
      "E0000 00:00:1751938179.196249 1278916 cuda_dnn.cc:8579] Unable to register cuDNN factory: Attempting to register factory for plugin cuDNN when one has already been registered\n",
      "E0000 00:00:1751938179.208405 1278916 cuda_blas.cc:1407] Unable to register cuBLAS factory: Attempting to register factory for plugin cuBLAS when one has already been registered\n",
      "W0000 00:00:1751938179.234029 1278916 computation_placer.cc:177] computation placer already registered. Please check linkage and avoid linking the same target more than once.\n",
      "W0000 00:00:1751938179.234058 1278916 computation_placer.cc:177] computation placer already registered. Please check linkage and avoid linking the same target more than once.\n",
      "W0000 00:00:1751938179.234060 1278916 computation_placer.cc:177] computation placer already registered. Please check linkage and avoid linking the same target more than once.\n",
      "W0000 00:00:1751938179.234062 1278916 computation_placer.cc:177] computation placer already registered. Please check linkage and avoid linking the same target more than once.\n",
      "2025-07-08 10:29:39.246308: I tensorflow/core/platform/cpu_feature_guard.cc:210] This TensorFlow binary is optimized to use available CPU instructions in performance-critical operations.\n",
      "To enable the following instructions: AVX2 AVX512F AVX512_VNNI FMA, in other operations, rebuild TensorFlow with the appropriate compiler flags.\n",
      "Loading checkpoint shards: 100%|███████████████████████████████████████████████████████████████████████████████████████████████████████████████████████████████████████████████████| 2/2 [00:00<00:00, 27.58it/s]\n"
     ]
    }
   ],
   "source": [
    "from transformers import AutoTokenizer, AutoModelForCausalLM\n",
    "\n",
    "model_name = \"LGAI-EXAONE/EXAONE-3.5-2.4B-Instruct\"\n",
    "\n",
    "tokenizer = AutoTokenizer.from_pretrained(model_name)\n",
    "model = AutoModelForCausalLM.from_pretrained(model_name, trust_remote_code=True).to(\"cuda\")"
   ]
  },
  {
   "cell_type": "code",
   "execution_count": 3,
   "id": "93e0dc6e-c822-4238-a026-69ca349e65ce",
   "metadata": {},
   "outputs": [],
   "source": [
    "from typing import TypedDict, Optional, Dict, Any, Annotated, List\n",
    "from langgraph.graph import StateGraph, END\n",
    "\n",
    "class GeometryState(TypedDict):\n",
    "    user_request: str\n",
    "    math_concept: str = \"\"\n",
    "    parameters: Optional[Dict[str, Any]]\n",
    "    generated_code: str = \"\"\n",
    "    comments: str = \"\"\n",
    "    formulas: Optional[Dict[str, str]]"
   ]
  },
  {
   "cell_type": "code",
   "execution_count": 4,
   "id": "5fd19638-e3f0-444b-8268-e8ca5dd52cdf",
   "metadata": {},
   "outputs": [],
   "source": [
    "import json\n",
    "\n",
    "def extract_shape_node(state: GeometryState) -> GeometryState:\n",
    "    messages = [\n",
    "        {\n",
    "            \"role\": \"system\",\n",
    "            \"content\": \"\"\"\n",
    "                사용자가 제공하는 수학과 관련된 문장에서 어떠한 개념을 그려주면 사용자의 이해를 도울 수 있을지, JSON 형식으로 출력하세요.\n",
    "                아래 JSON의 schema에 맞게 하나만 출력하세요. 다른 설명은 절대 추가하지 마세요.\n",
    "                쉼표, 따옴표, 중괄호 등 문법을 엄격히 지키세요. 문제가 있어도 반드시 완전한 JSON으로만 출력하세요.\n",
    "                출력 형식 예시 (값은 사용자가 제공하는 수학과 관련된 문장에서 나온 개념과 인자를 사용해야 합니다):\n",
    "                {\n",
    "                    \"math_concept\": \"원\"\n",
    "                    \"parameters\": {\n",
    "                        \"radius\": 1\n",
    "                    }\n",
    "                }\n",
    "                그릴 수 있는 개념과 인자 다음과 같습니다. (사용자가 제공하는 수학과 관련된 문장에서 찾은 개념의 영단어와 문장을 영어로 번역한 것과 비교하여 찾아보세요)\n",
    "                    - 선분(Line Segment) 또는 반직선(Half Line) 또는 곧은선, 직선, 라인(Line, Straight Line)\n",
    "                        - 인자 없음\n",
    "                    - 굽은선, 곡선, 커브(Curve)\n",
    "                        - 인자 없음\n",
    "                    - 각 또는 각도(Angle)\n",
    "                        - size(예: 60° = 60)\n",
    "                    - 직각(Right Angle)\n",
    "                    - 직각삼각형(Right Triangle)\n",
    "                        - base\n",
    "                        - height\n",
    "                    - 직사각형(Rectangle)\n",
    "                        - width\n",
    "                        - height\n",
    "                    - 정사각형(Square)\n",
    "                        - length\n",
    "                    - 원(Circle)\n",
    "                        - radius\n",
    "             \"\"\"\n",
    "        },\n",
    "        {\n",
    "            \"role\": \"user\",\n",
    "            \"content\": state[\"user_request\"]\n",
    "        }\n",
    "    ]\n",
    "    \n",
    "    input_ids = tokenizer.apply_chat_template(\n",
    "        messages,\n",
    "        tokenize=True,\n",
    "        add_generation_prompt=True,\n",
    "        return_tensors=\"pt\"\n",
    "    )\n",
    "\n",
    "    output = model.generate(\n",
    "        input_ids.to(\"cuda\"),\n",
    "        eos_token_id=tokenizer.eos_token_id,\n",
    "        max_new_tokens=128,\n",
    "        do_sample=False,\n",
    "    )\n",
    "\n",
    "    decoded = tokenizer.decode(output[0], skip_special_tokens=True)\n",
    "    \n",
    "    # 마크다운 제거 로직\n",
    "    decoded = decoded[decoded.find(\"```json\") + len(\"```json\"):decoded.rfind(\"```\")]\n",
    "    parsed = json.loads(decoded)\n",
    "\n",
    "    state[\"math_concept\"] = parsed[\"math_concept\"]\n",
    "    if parsed[\"parameters\"] is not None:\n",
    "        state[\"parameters\"] = parsed[\"parameters\"]\n",
    "        \n",
    "    return state"
   ]
  },
  {
   "cell_type": "code",
   "execution_count": 5,
   "id": "1e954fe4-9fae-4e3b-9f70-2fd465108978",
   "metadata": {},
   "outputs": [],
   "source": [
    "def gen_lines_prototype(svg_frame=500, stroke=\"black\", stroke_width=2):\n",
    "    \"\"\"\n",
    "    곧은선(선분, 반직선, 직선)을 그립니다.\n",
    "    \"\"\"\n",
    "\n",
    "    x0, y0 = svg_frame // 4, svg_frame // 4\n",
    "    x1, y1 = svg_frame // 4, svg_frame // 2\n",
    "    x2, y2 = svg_frame // 4, (svg_frame * 3) // 4\n",
    "\n",
    "    distance = svg_frame // 2\n",
    "\n",
    "    svg_content = f'''<svg width=\"{svg_frame}\" height=\"{svg_frame}\" xmlns=\"http://www.w3.org/2000/svg\">\n",
    "    <text x=\"{svg_frame // 2}\" y=\"{svg_frame // 20}\" font-size=\"{svg_frame // 20}\" text-anchor=\"middle\">곧은선</text>\n",
    "    <text x=\"{svg_frame // 2}\" y=\"{(svg_frame * 3) // 20}\" font-size=\"{svg_frame // 20}\" text-anchor=\"middle\">선분</text>\n",
    "    <!-- 선분 -->\n",
    "    <circle cx=\"{x0}\" cy=\"{y0}\" r=\"1\" stroke=\"{stroke}\" stroke-width=\"{stroke_width}\" fill=\"black\" />\n",
    "    <circle cx=\"{x0 + distance}\" cy=\"{y0}\" r=\"1\" stroke=\"{stroke}\" stroke-width=\"{stroke_width}\" fill=\"black\" />\n",
    "    <line x1=\"{x0}\" y1=\"{y0}\" x2=\"{x0 + distance}\" y2=\"{y0}\" stroke=\"{stroke}\" stroke-width=\"{stroke_width}\" />\n",
    "    <!-- 반직선 -->\n",
    "    <text x=\"{svg_frame // 2}\" y=\"{(svg_frame * 7) // 20}\" font-size=\"{svg_frame // 20}\" text-anchor=\"middle\">반직선</text>\n",
    "    <circle cx=\"{x1}\" cy=\"{y1}\" r=\"1\" stroke=\"{stroke}\" stroke-width=\"{stroke_width}\" fill=\"black\" />\n",
    "    <circle cx=\"{x1 + distance}\" cy=\"{y1}\" r=\"1\" stroke=\"{stroke}\" stroke-width=\"{stroke_width}\" fill=\"black\" />\n",
    "    <line x1=\"{x1}\" y1=\"{y1}\" x2=\"{svg_frame}\" y2=\"{y1}\" stroke=\"{stroke}\" stroke-width=\"{stroke_width}\" />\n",
    "    <!-- 직선 -->\n",
    "    <text x=\"{svg_frame // 2}\" y=\"{(svg_frame * 3) // 5}\" font-size=\"{svg_frame // 20}\" text-anchor=\"middle\">직선</text>\n",
    "    <circle cx=\"{x2}\" cy=\"{y2}\" r=\"1\" stroke=\"{stroke}\" stroke-width=\"{stroke_width}\" fill=\"black\" />\n",
    "    <circle cx=\"{x2 + distance}\" cy=\"{y2}\" r=\"1\" stroke=\"{stroke}\" stroke-width=\"{stroke_width}\" fill=\"black\" />\n",
    "    <line x1=\"0\" y1=\"{y2}\" x2=\"{svg_frame}\" y2=\"{y2}\" stroke=\"{stroke}\" stroke-width=\"{stroke_width}\" />\n",
    "    </svg>\n",
    "    '''\n",
    "    \n",
    "    return svg_content"
   ]
  },
  {
   "cell_type": "code",
   "execution_count": 6,
   "id": "ecc06698-ae04-4170-9cc3-75b673321dec",
   "metadata": {},
   "outputs": [],
   "source": [
    "import math\n",
    "\n",
    "def gen_curves_prototype(svg_frame=500, stroke=\"black\", stroke_width=2):\n",
    "    \"\"\"\n",
    "    굽은선(곡선)을 그립니다    \n",
    "    \"\"\"\n",
    "    \n",
    "    svg_content = f'''\n",
    "    <svg width=\"{svg_frame}\" height=\"{svg_frame}\" xmlns=\"http://www.w3.org/2000/svg\">\n",
    "    <text x=\"{svg_frame // 2}\" y=\"{svg_frame // 10}\" font-size=\"{svg_frame // 20}\" text-anchor=\"middle\">굽은선</text>\n",
    "    <!-- 복잡한 S자 곡선 (두 개의 Cubic Bézier) -->\n",
    "    <path d=\"M {svg_frame // 5},{(svg_frame * 4) // 5}\n",
    "    C {svg_frame // 5},{svg_frame // 5} {(svg_frame * 4) // 5},{svg_frame // 5} {(svg_frame * 4) // 5},{svg_frame // 2}\n",
    "    C {(svg_frame * 4) // 5},{(svg_frame * 4) // 5} {svg_frame // 5},{(svg_frame * 4) // 5} {svg_frame // 5},{svg_frame // 5}\"\n",
    "    stroke=\"{stroke}\" fill=\"none\" stroke-width=\"{stroke_width}\"/>\n",
    "    </svg>\n",
    "    '''\n",
    "    return svg_content"
   ]
  },
  {
   "cell_type": "code",
   "execution_count": 7,
   "id": "9b1f0da9-7e46-4613-9b14-5c92a3cbc04b",
   "metadata": {},
   "outputs": [],
   "source": [
    "def gen_circle_prototype(variants=None, svg_frame=500, stroke=\"black\", stroke_width=2, fill=\"none\"):\n",
    "    \"\"\"\n",
    "    SVG 파일로 원을 생성합니다.\n",
    "    \n",
    "    Parameters:\n",
    "        cx (int): 원의 중심 X좌표\n",
    "        cy (int): 원의 중심 Y좌표\n",
    "        r (int): 반지름\n",
    "        stroke (str): 선 색상\n",
    "        stroke_width (int): 선 두께\n",
    "        fill (str): 내부 색상\n",
    "        svg_width (int): SVG 전체 너비\n",
    "        svg_height (int): SVG 전체 높이\n",
    "    \"\"\"\n",
    "\n",
    "    cx = svg_frame // 2\n",
    "    cy = cx\n",
    "    if variants[\"radius\"] is None:\n",
    "        r = svg_frame // 3\n",
    "    else:\n",
    "        r = min(variants[\"radius\"] * 50, 450)\n",
    "    \n",
    "    svg_content = f'''<svg width=\"{svg_frame}\" height=\"{svg_frame}\" xmlns=\"http://www.w3.org/2000/svg\">\n",
    "    <text x=\"{svg_frame // 2}\" y=\"{svg_frame // 10}\" font-size=\"{svg_frame // 20}\" text-anchor=\"middle\">원</text>\n",
    "    <circle cx=\"{cx}\" cy=\"{cy}\" r=\"{r}\" stroke=\"{stroke}\" stroke-width=\"{stroke_width}\" fill=\"{fill}\" />\n",
    "    <circle cx=\"{cx}\" cy=\"{cy}\" r=\"1\" stroke=\"{stroke}\" stroke-width=\"{stroke_width}\" fill=\"black\" />\n",
    "    <line x1=\"{cx}\" y1=\"{cy}\" x2=\"{cx + r}\" y2=\"{cy}\" stroke=\"{stroke}\" stroke-width=\"{stroke_width}\" />\n",
    "    </svg>\n",
    "    '''\n",
    "\n",
    "    return svg_content"
   ]
  },
  {
   "cell_type": "code",
   "execution_count": 8,
   "id": "d1b3356c-a7e7-4171-91c1-1e763d47e342",
   "metadata": {},
   "outputs": [],
   "source": [
    "def gen_rectangle_prototype(variants=None, is_square=False, svg_frame=500, stroke=\"black\", stroke_width=2, fill=\"none\"):\n",
    "    \"\"\"\n",
    "    SVG 직사각형을 그리는 코드 문자열을 생성합니다.\n",
    "\n",
    "    Parameters:\n",
    "        x (int): 왼쪽 위 꼭짓점 X좌표\n",
    "        y (int): 왼쪽 위 꼭짓점 Y좌표\n",
    "        width (int): 직사각형 가로 길이\n",
    "        height (int): 직사각형 세로 길이\n",
    "        stroke (str): 테두리 색상\n",
    "        stroke_width (int): 테두리 두께\n",
    "        fill (str): 내부 색상\n",
    "        svg_width (int): SVG 전체 폭\n",
    "        svg_height (int): SVG 전체 높이\n",
    "\n",
    "    Returns:\n",
    "        str: SVG 코드 문자열\n",
    "    \"\"\"\n",
    "\n",
    "    x = svg_frame // 5\n",
    "    y = svg_frame // 5\n",
    "    if is_square:\n",
    "        s_width = (svg_frame * 3) // 5 if variants[\"length\"] is None else min(300, variants[\"length\"] * 100)\n",
    "        s_height = s_width\n",
    "        svg_height = svg_frame\n",
    "        name = \"정사각형\"\n",
    "    else:\n",
    "        s_width = (svg_frame * 3) // 5  if variants[\"width\"] is None else min(300, variants[\"width\"] * 50)\n",
    "        s_height = width // 2 if variants[\"height\"] is None else min(300, variants[\"height\"] * 50)\n",
    "        svg_height = min(500, ((y + s_height) * 5) // 4)\n",
    "        name = \"직사각형\"\n",
    "\n",
    "    # svg_width = x + width + x, svg_height = y + height + y\n",
    "    svg_content = f'''<svg width=\"{svg_frame}\" height=\"{svg_height}\" xmlns=\"http://www.w3.org/2000/svg\">\n",
    "    <text x=\"{svg_frame // 2}\" y=\"{svg_frame // 10}\" font-size=\"{svg_frame // 20}\" text-anchor=\"middle\">{name}</text>\n",
    "    <rect x=\"{x}\" y=\"{y}\" width=\"{s_width}\" height=\"{s_height}\" stroke=\"{stroke}\" stroke-width=\"{stroke_width}\" fill=\"{fill}\" />\n",
    "    </svg>'''\n",
    "    return svg_content"
   ]
  },
  {
   "cell_type": "code",
   "execution_count": 9,
   "id": "b44b7ceb-bef7-408a-8401-f4e9a47f4486",
   "metadata": {},
   "outputs": [],
   "source": [
    "import math\n",
    "\n",
    "def gen_angle_prototype(variants=None, svg_frame=500, stroke=\"black\", stroke_width=2, arc_color=\"black\"):\n",
    "    \"\"\"\n",
    "    기준선과 기울어진 선 + 각도를 나타내는 호를 그립니다.\n",
    "    \"\"\"\n",
    "\n",
    "    # 기준점\n",
    "    x0, y0 = svg_frame // 4, (svg_frame * 2) // 3\n",
    "\n",
    "    # 기준선 끝점 (수평)\n",
    "    line_length = svg_frame // 2\n",
    "    x1 = x0 + line_length\n",
    "    y1 = y0\n",
    "\n",
    "    # 기울어진 선 끝점\n",
    "    angle_deg = 60 if variants[\"size\"] is None else variants[\"size\"]\n",
    "    if 180 < angle_deg:\n",
    "        angle_deg = angle_deg % 90\n",
    "    rad = math.radians(angle_deg)\n",
    "    x2 = x0 + line_length * math.cos(-rad)\n",
    "    y2 = y0 + line_length * math.sin(-rad)\n",
    "\n",
    "    # 호의 시작점 (반지름만큼 떨어진 점)\n",
    "    arc_radius = svg_frame // 10\n",
    "    arc_start_x = x0 + arc_radius * math.cos(-rad)\n",
    "    arc_start_y = y0 + arc_radius * math.sin(-rad)\n",
    "\n",
    "    # 호의 끝점 (반지름과 각도로 계산)\n",
    "    arc_end_x = x0 + arc_radius\n",
    "    arc_end_y = y0\n",
    "\n",
    "    # SVG 내용\n",
    "    svg_content = f'''<svg width=\"{svg_frame}\" height=\"{(svg_frame * 3) // 4}\" xmlns=\"http://www.w3.org/2000/svg\">\n",
    "    <text x=\"{svg_frame // 2}\" y=\"{svg_frame // 10}\" font-size=\"{svg_frame // 20}\" text-anchor=\"middle\">각</text>\n",
    "    <!-- 기준선 -->\n",
    "    <line x1=\"{x0}\" y1=\"{y0}\" x2=\"{x1}\" y2=\"{y1}\" stroke=\"{stroke}\" stroke-width=\"{stroke_width}\" />\n",
    "    <!-- 기울어진 선 -->\n",
    "    <line x1=\"{x0}\" y1=\"{y0}\" x2=\"{x2}\" y2=\"{y2}\" stroke=\"{stroke}\" stroke-width=\"{stroke_width}\" />\n",
    "    <!-- 각도 호 -->\n",
    "    <path d=\"M {arc_start_x},{arc_start_y} A {arc_radius},{arc_radius} 0 0,1 {arc_end_x},{arc_end_y}\" stroke=\"{arc_color}\" stroke-width=\"{stroke_width}\" fill=\"none\"/>\n",
    "    </svg>\n",
    "    '''\n",
    "\n",
    "    return svg_content"
   ]
  },
  {
   "cell_type": "code",
   "execution_count": 10,
   "id": "e2035951-7cde-4ac3-92d5-2965b21f573d",
   "metadata": {},
   "outputs": [],
   "source": [
    "def gen_right_angle_prototype(svg_frame=500, stroke=\"black\", stroke_width=2):\n",
    "    \"\"\"\n",
    "    직각과 직각을 나타내는 보조선을 그립니다\n",
    "    \"\"\"\n",
    "    # 기준점\n",
    "    x0, y0 = svg_frame // 4, (svg_frame * 4) // 5\n",
    "\n",
    "    # 기준선 끝점 (수평)\n",
    "    line_length = (svg_frame * 2) // 3\n",
    "    x1 = x0 + line_length\n",
    "    y1 = y0\n",
    "\n",
    "    # 기울어진 선 끝점\n",
    "    x2 = x0\n",
    "    y2 = y0 - line_length\n",
    "\n",
    "    # 직각 보조선\n",
    "    epsilon = svg_frame // 10\n",
    "\n",
    "    h1 = x0 + epsilon\n",
    "    h2 = y0 - epsilon\n",
    "\n",
    "    # SVG 내용\n",
    "    svg_content = f'''<svg width=\"{svg_frame}\" height=\"{svg_frame}\" xmlns=\"http://www.w3.org/2000/svg\">\n",
    "    <text x=\"{svg_frame // 2}\" y=\"{svg_frame // 10}\" font-size=\"{svg_frame // 20}\" text-anchor=\"middle\">직각</text>\n",
    "    <!-- 기준선 -->\n",
    "    <line x1=\"{x0}\" y1=\"{y0}\" x2=\"{x1}\" y2=\"{y1}\" stroke=\"{stroke}\" stroke-width=\"{stroke_width}\" />\n",
    "    <!-- 기울어진 선 -->\n",
    "    <line x1=\"{x0}\" y1=\"{y0}\" x2=\"{x2}\" y2=\"{y2}\" stroke=\"{stroke}\" stroke-width=\"{stroke_width}\" />\n",
    "    <!-- 직각 보조선 -->\n",
    "    <line x1=\"{h1}\" y1=\"{y0}\" x2=\"{h1}\" y2=\"{h2}\" stroke=\"{stroke}\" stroke-width=\"{stroke_width}\" />\n",
    "    <line x1=\"{x0}\" y1=\"{h2}\" x2=\"{h1}\" y2=\"{h2}\" stroke=\"{stroke}\" stroke-width=\"{stroke_width}\" />\n",
    "    </svg>\n",
    "    '''\n",
    "    \n",
    "    return svg_content"
   ]
  },
  {
   "cell_type": "code",
   "execution_count": 11,
   "id": "7d4b359d-562a-49df-8ed3-e3a1f4348d55",
   "metadata": {},
   "outputs": [],
   "source": [
    "def gen_right_triangle_prototype(variants=None, svg_frame=500, stroke=\"black\", stroke_width=2):\n",
    "    \"\"\"\n",
    "    직각삼각형을 그립니다\n",
    "    \"\"\"\n",
    "\n",
    "    # 기준점\n",
    "    rt_base = variants[\"base\"] * 75 if variants[\"base\"] is not None else (svg_frame * 2) // 3\n",
    "    rt_height = variants[\"height\"] * 75 if variants[\"height\"] is not None else svg_frame // 2\n",
    "    x0, y0 = svg_frame // 6, (svg_frame * 5) // 6\n",
    "    x1, y1 = min(x0 + rt_base, (svg_frame * 5) // 6), y0\n",
    "    x2, y2 = x1, max(y1 - rt_height, svg_frame // 3)\n",
    "\n",
    "    epsilon = min(rt_base, rt_height) // 10\n",
    "\n",
    "    h1 = x1 - epsilon\n",
    "    h2 = y1 - epsilon\n",
    "    \n",
    "    # SVG 내용\n",
    "    svg_content = f'''<svg width=\"{svg_frame}\" height=\"{svg_frame}\" xmlns=\"http://www.w3.org/2000/svg\">\n",
    "    <text x=\"{svg_frame // 2}\" y=\"{svg_frame // 10}\" font-size=\"{svg_frame // 20}\" text-anchor=\"middle\">직각삼각형</text>\n",
    "    <!-- 직각삼각형 -->\n",
    "    <line x1=\"{x0}\" y1=\"{y0}\" x2=\"{x1}\" y2=\"{y1}\" stroke=\"{stroke}\" stroke-width=\"{stroke_width}\" />\n",
    "    <line x1=\"{x1}\" y1=\"{y1}\" x2=\"{x2}\" y2=\"{y2}\" stroke=\"{stroke}\" stroke-width=\"{stroke_width}\" />\n",
    "    <line x1=\"{x0}\" y1=\"{y0}\" x2=\"{x2}\" y2=\"{y2}\" stroke=\"{stroke}\" stroke-width=\"{stroke_width}\" />\n",
    "    <!-- 직각 보조선 -->\n",
    "    <line x1=\"{h1}\" y1=\"{y1}\" x2=\"{h1}\" y2=\"{h2}\" stroke=\"{stroke}\" stroke-width=\"{stroke_width}\" />\n",
    "    <line x1=\"{h1}\" y1=\"{h2}\" x2=\"{x1}\" y2=\"{h2}\" stroke=\"{stroke}\" stroke-width=\"{stroke_width}\" />\n",
    "    </svg>\n",
    "    '''\n",
    "    return svg_content"
   ]
  },
  {
   "cell_type": "code",
   "execution_count": 12,
   "id": "f3155185-b773-43d2-87ed-5363f16b2754",
   "metadata": {},
   "outputs": [],
   "source": [
    "def generate_code_node(state: GeometryState) -> GeometryState:\n",
    "    concept = state[\"math_concept\"]\n",
    "\n",
    "    if concept == \"원\" or concept == \"Circle\":\n",
    "        radius = state[\"parameters\"][\"radius\"] if \"radius\" in state[\"parameters\"].keys() else None\n",
    "        code = gen_circle_prototype(state[\"parameters\"])\n",
    "    elif concept == \"선분\" or concept == \"반직선\" or concept == \"직선\" or concept == \"곧은선\" or concept == \"Line\":\n",
    "        code = gen_lines_prototype()\n",
    "    elif concept == \"곡선\" or concept == \"굽은선\" or concept == \"Curve\":\n",
    "        code = gen_curves_prototype()\n",
    "    elif concept == \"각\" or concept == \"각도\" or concept == \"Angle\":\n",
    "        code = gen_angle_prototype(state[\"parameters\"])\n",
    "    elif concept == \"직각\" or concept == \"Right Angle\":\n",
    "        code = gen_right_angle_prototype()\n",
    "    elif concept == \"직각삼각형\" or concept == \"Right Triangle\":\n",
    "        code = gen_right_triangle_prototype(state[\"parameters\"])\n",
    "    elif concept == \"직사각형\" or concept == \"Rectangle\" :\n",
    "        code = gen_rectangle_prototype(state[\"parameters\"])\n",
    "    elif concept == \"정사각형\" or concept == \"Square\":\n",
    "        code = gen_rectangle_prototype(state[\"parameters\"], True)\n",
    "    else:\n",
    "        code = f\"# '{concept}'을 그리는 코드는 아직 구현되지 않았습니다.\"\n",
    "\n",
    "    # return {**state, \"generated_code\": code}\n",
    "    return {\"generated_code\": code}"
   ]
  },
  {
   "cell_type": "code",
   "execution_count": 13,
   "id": "d72bdc11-4c66-4c42-a85e-29d534ea72f1",
   "metadata": {},
   "outputs": [],
   "source": [
    "def generate_comments_node(state: GeometryState) -> GeometryState:\n",
    "    messages = [\n",
    "        {\n",
    "            \"role\": \"system\",\n",
    "            \"content\": '''\n",
    "                당신은 초등학생들이 수학 문제를 풀 때 힌트를 제공하는 초등학교 선생님입니다.\n",
    "                수학 개념{state[\"math_concept\"]}에 대한 설명을 다음 내용을 포함하여 간결하게 제공해주세요.\n",
    "                    - 정의\n",
    "                    - 기본 성질(공식은 제외하세요)\n",
    "                원주율을 \\pi가 아닌 3.14로하여 제공해주세요.\n",
    "             '''\n",
    "        },\n",
    "        {\n",
    "            \"role\": \"user\",\n",
    "            \"content\": state[\"math_concept\"]\n",
    "        }\n",
    "    ]\n",
    "    \n",
    "    input_ids = tokenizer.apply_chat_template(\n",
    "        messages,\n",
    "        tokenize=True,\n",
    "        add_generation_prompt=True,\n",
    "        return_tensors=\"pt\"\n",
    "    )\n",
    "\n",
    "    output = model.generate(\n",
    "        input_ids.to(\"cuda\"),\n",
    "        eos_token_id=tokenizer.eos_token_id,\n",
    "        max_new_tokens=512,\n",
    "        do_sample=False,\n",
    "    )\n",
    "\n",
    "    decoded = tokenizer.decode(output[0], skip_special_tokens=True)\n",
    "\n",
    "    # 답변 추출 로직\n",
    "    decoded = decoded[decoded.find(\"[|assistant|]\") + len(\"[|assistant|]\"):]\n",
    "\n",
    "    # state[\"comments\"] = decoded\n",
    "\n",
    "    return {\"comments\": decoded}"
   ]
  },
  {
   "cell_type": "code",
   "execution_count": 14,
   "id": "0d724d3f-a394-4067-a213-3cfffbf75347",
   "metadata": {},
   "outputs": [],
   "source": [
    "def generate_formulas_node(state: GeometryState) -> GeometryState:\n",
    "    supported_shape = {\"직각삼각형\": \"Right Triangle\", \"직사각형\": \"Rectangle\", \"정사각형\": \"Square\", \"원\": \"Circle\"}\n",
    "\n",
    "    math_concept = state[\"math_concept\"]\n",
    "    if math_concept not in supported_shape.keys() and math_concept not in supported_shape.values():\n",
    "        return state\n",
    "        \n",
    "    messages = [\n",
    "        {\n",
    "            \"role\": \"system\",\n",
    "            \"content\": '''\n",
    "                당신은 초등학생들이 수학 문제를 풀 때 힌트를 제공하는 초등학교 선생님입니다.\n",
    "                초등학생의 이해를 돕기위해, 수학 개념{state[\"math_concept\"]}에 대한 둘레와 넓이 공식을 JSON 형식으로 출력하세요.\n",
    "                아래 JSON의 schema에 맞게 하나만 출력하세요. 다른 설명은 절대 추가하지 마세요.\n",
    "                쉼표, 따옴표, 중괄호 등 문법을 엄격히 지키세요. 문제가 있어도 반드시 완전한 JSON으로만 출력하세요.\n",
    "                출력 형식 예시 (값은 {state[\"math_concept\"]}에 대한 둘레와 넓이 공식을 사용하세요.):\n",
    "                {\n",
    "                    \"formulas\": {\n",
    "                        \"perimeter\": \"2 \\\\times 3.14(원주율) \\\\times \\mathrm{반지름}\",\n",
    "                        \"area\": \"3.14(원주율) \\\\times \\mathrm{반지름} \\\\times \\mathrm{반지름}\",\n",
    "                    }\n",
    "                }\n",
    "                공식을 제공할 수 있는 개념은 다음과 같습니다. (사용자가 제공하는 수학과 관련된 문장에서 찾은 개념의 영단어와 문장을 영어로 번역한 것과 비교하여 찾아보세요)\n",
    "                    - 직각삼각형(Right Triangle)\n",
    "                        - 둘레: 밑변 + 높이 + 빗변\n",
    "                        - 넓이: 밑변 × 높이 ÷ 2\n",
    "                    - 직사각형(Rectangle)\n",
    "                        - 둘레: 2 × (밑변 + 높이)\n",
    "                        - 넓이: 밑변 × 높이                    \n",
    "                    - 정사각형(Square)\n",
    "                        - 둘레: 4 × 한 변의 길이\n",
    "                        - 넓이: 한 변의 길이 × 한 변의 길이\n",
    "                    - 원(Circle)\n",
    "                        - 둘레: 2 × 3.14 × 반지름\n",
    "                        - 넓이: 3.14 × 반지름 × 반지름\n",
    "                원주율을 \\pi가 아닌 3.14로하여 제공해주세요.\n",
    "             '''\n",
    "        },\n",
    "        {\n",
    "            \"role\": \"user\",\n",
    "            \"content\": state[\"math_concept\"]\n",
    "        }\n",
    "    ]\n",
    "    \n",
    "    input_ids = tokenizer.apply_chat_template(\n",
    "        messages,\n",
    "        tokenize=True,\n",
    "        add_generation_prompt=True,\n",
    "        return_tensors=\"pt\"\n",
    "    )\n",
    "\n",
    "    output = model.generate(\n",
    "        input_ids.to(\"cuda\"),\n",
    "        eos_token_id=tokenizer.eos_token_id,\n",
    "        max_new_tokens=512,\n",
    "        do_sample=False,\n",
    "    )\n",
    "\n",
    "    decoded = tokenizer.decode(output[0], skip_special_tokens=True)\n",
    "\n",
    "    # 마크다운 제거 로직\n",
    "    decoded = decoded[decoded.find(\"```json\") + len(\"```json\"):decoded.rfind(\"```\")]\n",
    "    decoded = decoded.replace('\\\\', '\\\\\\\\')\n",
    "    parsed = json.loads(decoded)\n",
    "    \n",
    "    # state[\"formulas\"] = parsed[\"formulas\"]\n",
    "\n",
    "    return {\"formulas\": parsed[\"formulas\"]}"
   ]
  },
  {
   "cell_type": "code",
   "execution_count": 15,
   "id": "91a84abd-13f0-43ea-8773-6241fd4364d9",
   "metadata": {},
   "outputs": [],
   "source": [
    "def merge_hints(state: GeometryState) -> GeometryState:\n",
    "    return state"
   ]
  },
  {
   "cell_type": "code",
   "execution_count": 16,
   "id": "458f97ba-b654-4475-bcfb-d5eb555adb6e",
   "metadata": {},
   "outputs": [
    {
     "data": {
      "image/png": "[encoded data removed]",
      "text/plain": [
       "<langgraph.graph.state.CompiledStateGraph object at 0x7f248df7efb0>"
      ]
     },
     "execution_count": 16,
     "metadata": {},
     "output_type": "execute_result"
    }
   ],
   "source": [
    "# LangGraph StateGraph 생성\n",
    "geometry_agent = StateGraph(GeometryState)\n",
    "\n",
    "# 노드 등록\n",
    "geometry_agent.add_node(\"extract_shape\", extract_shape_node)\n",
    "geometry_agent.add_node(\"generate_code\", generate_code_node)\n",
    "geometry_agent.add_node(\"generate_comments\", generate_comments_node)\n",
    "geometry_agent.add_node(\"generate_formulas\", generate_formulas_node)\n",
    "geometry_agent.add_node(\"aggregate_hints\", merge_hints)\n",
    "\n",
    "# 엣지 연결\n",
    "geometry_agent.set_entry_point(\"extract_shape\")\n",
    "geometry_agent.add_edge(\"extract_shape\", \"generate_code\")\n",
    "geometry_agent.add_edge(\"extract_shape\", \"generate_comments\")\n",
    "geometry_agent.add_edge(\"extract_shape\", \"generate_formulas\")\n",
    "geometry_agent.add_edge(\"generate_code\", \"aggregate_hints\")\n",
    "geometry_agent.add_edge(\"generate_comments\", \"aggregate_hints\")\n",
    "geometry_agent.add_edge(\"generate_formulas\", \"aggregate_hints\")\n",
    "geometry_agent.add_edge(\"aggregate_hints\", END)\n",
    "\n",
    "# 그래프 완성\n",
    "app = geometry_agent.compile()\n",
    "app"
   ]
  },
  {
   "cell_type": "code",
   "execution_count": 17,
   "id": "2ec9779a-d022-47e1-b135-c734fd8d8794",
   "metadata": {},
   "outputs": [],
   "source": [
    "from IPython.display import SVG, display\n",
    "\n",
    "def show_svg(svg_content):\n",
    "    display(SVG(svg_content))"
   ]
  },
  {
   "cell_type": "code",
   "execution_count": 18,
   "id": "3c6ccd28-e436-45aa-a61c-b2b5e67a2247",
   "metadata": {},
   "outputs": [],
   "source": [
    "from IPython.display import Math, display\n",
    "\n",
    "def show_formulas(formula):\n",
    "    display(Math(formula))"
   ]
  },
  {
   "cell_type": "code",
   "execution_count": 19,
   "id": "00d8ca65-5075-4d4d-86f2-e9586500dffb",
   "metadata": {},
   "outputs": [
    {
     "name": "stdout",
     "output_type": "stream",
     "text": [
      "요청한 문장: 곧은선이 뭐야?\n",
      "추출된 개념: 직선\n",
      "추출된 인자: {}\n",
      "\n",
      "생성된 코드:\n",
      " <svg width=\"500\" height=\"500\" xmlns=\"http://www.w3.org/2000/svg\">\n",
      "    <text x=\"250\" y=\"25\" font-size=\"25\" text-anchor=\"middle\">곧은선</text>\n",
      "    <text x=\"250\" y=\"75\" font-size=\"25\" text-anchor=\"middle\">선분</text>\n",
      "    <!-- 선분 -->\n",
      "    <circle cx=\"125\" cy=\"125\" r=\"1\" stroke=\"black\" stroke-width=\"2\" fill=\"black\" />\n",
      "    <circle cx=\"375\" cy=\"125\" r=\"1\" stroke=\"black\" stroke-width=\"2\" fill=\"black\" />\n",
      "    <line x1=\"125\" y1=\"125\" x2=\"375\" y2=\"125\" stroke=\"black\" stroke-width=\"2\" />\n",
      "    <!-- 반직선 -->\n",
      "    <text x=\"250\" y=\"175\" font-size=\"25\" text-anchor=\"middle\">반직선</text>\n",
      "    <circle cx=\"125\" cy=\"250\" r=\"1\" stroke=\"black\" stroke-width=\"2\" fill=\"black\" />\n",
      "    <circle cx=\"375\" cy=\"250\" r=\"1\" stroke=\"black\" stroke-width=\"2\" fill=\"black\" />\n",
      "    <line x1=\"125\" y1=\"250\" x2=\"500\" y2=\"250\" stroke=\"black\" stroke-width=\"2\" />\n",
      "    <!-- 직선 -->\n",
      "    <text x=\"250\" y=\"300\" font-size=\"25\" text-anchor=\"middle\">직선</text>\n",
      "    <circle cx=\"125\" cy=\"375\" r=\"1\" stroke=\"black\" stroke-width=\"2\" fill=\"black\" />\n",
      "    <circle cx=\"375\" cy=\"375\" r=\"1\" stroke=\"black\" stroke-width=\"2\" fill=\"black\" />\n",
      "    <line x1=\"0\" y1=\"375\" x2=\"500\" y2=\"375\" stroke=\"black\" stroke-width=\"2\" />\n",
      "    </svg>\n",
      "    \n",
      "\n",
      "생성된 설명:\n",
      " ### 직선에 대한 설명\n",
      "\n",
      "#### 정의\n",
      "직선은 평면 위에서 가장 짧은 거리로 두 점을 연결하는 선을 말합니다. 이 선은 양쪽으로 무한히 계속되며, 방향이 항상 일정합니다. 직선 위의 모든 점들은 서로 평행하게 연결되어 있어, 어떤 방향으로든 뻗어나갈 수 있습니다.\n",
      "\n",
      "#### 기본 성질\n",
      "1. **무한한 길이**: 직선은 양쪽으로 무한히 이어집니다. 즉, 시작점에서 끝점까지의 거리가 아무리 길어도 계속해서 뻗어나갈 수 있습니다.\n",
      "2. **평행한 선들**: 같은 방향으로 무한히 뻗어나가는 두 직선은 서로 평행합니다. 반대로, 서로 다른 방향으로 무한히 뻗어나가는 두 직선은 교차하지 않습니다.\n",
      "3. **직선 위의 점들**: 직선 위의 모든 점들은 서로 연결되어 있어, 어떤 두 점을 잇는 선분은 항상 직선의 일부분입니다.\n",
      "4. **직선의 대칭성**: 직선을 기준으로 대칭인 두 부분은 서로 완전히 일치합니다. 예를 들어, 한 점을 기준으로 대칭인 두 점은 직선 양쪽에 동일한 거리에 위치합니다.\n",
      "\n",
      "이러한 성질들로 인해 직선은 기하학에서 매우 중요한 개념으로 사용됩니다!\n"
     ]
    },
    {
     "data": {
      "image/svg+xml": [
       "<svg xmlns=\"http://www.w3.org/2000/svg\" width=\"500\" height=\"500\">\n",
       "    <text x=\"250\" y=\"25\" font-size=\"25\" text-anchor=\"middle\">곧은선</text>\n",
       "    <text x=\"250\" y=\"75\" font-size=\"25\" text-anchor=\"middle\">선분</text>\n",
       "    <!-- 선분 -->\n",
       "    <circle cx=\"125\" cy=\"125\" r=\"1\" stroke=\"black\" stroke-width=\"2\" fill=\"black\"/>\n",
       "    <circle cx=\"375\" cy=\"125\" r=\"1\" stroke=\"black\" stroke-width=\"2\" fill=\"black\"/>\n",
       "    <line x1=\"125\" y1=\"125\" x2=\"375\" y2=\"125\" stroke=\"black\" stroke-width=\"2\"/>\n",
       "    <!-- 반직선 -->\n",
       "    <text x=\"250\" y=\"175\" font-size=\"25\" text-anchor=\"middle\">반직선</text>\n",
       "    <circle cx=\"125\" cy=\"250\" r=\"1\" stroke=\"black\" stroke-width=\"2\" fill=\"black\"/>\n",
       "    <circle cx=\"375\" cy=\"250\" r=\"1\" stroke=\"black\" stroke-width=\"2\" fill=\"black\"/>\n",
       "    <line x1=\"125\" y1=\"250\" x2=\"500\" y2=\"250\" stroke=\"black\" stroke-width=\"2\"/>\n",
       "    <!-- 직선 -->\n",
       "    <text x=\"250\" y=\"300\" font-size=\"25\" text-anchor=\"middle\">직선</text>\n",
       "    <circle cx=\"125\" cy=\"375\" r=\"1\" stroke=\"black\" stroke-width=\"2\" fill=\"black\"/>\n",
       "    <circle cx=\"375\" cy=\"375\" r=\"1\" stroke=\"black\" stroke-width=\"2\" fill=\"black\"/>\n",
       "    <line x1=\"0\" y1=\"375\" x2=\"500\" y2=\"375\" stroke=\"black\" stroke-width=\"2\"/>\n",
       "    </svg>"
      ],
      "text/plain": [
       "<IPython.core.display.SVG object>"
      ]
     },
     "metadata": {},
     "output_type": "display_data"
    },
    {
     "name": "stdout",
     "output_type": "stream",
     "text": [
      "====================================================================================================\n",
      "요청한 문장: 대표적인 굽은선을 그려줘\n",
      "추출된 개념: 곡선\n",
      "추출된 인자: {'type': '타원', 'description': '타원은 가장 대표적인 굽은선의 한 종류로, 두 초점 사이의 거리의 합이 일정한 점들의 집합으로 정의됩니다.'}\n",
      "\n",
      "생성된 코드:\n",
      " \n",
      "    <svg width=\"500\" height=\"500\" xmlns=\"http://www.w3.org/2000/svg\">\n",
      "    <text x=\"250\" y=\"50\" font-size=\"25\" text-anchor=\"middle\">굽은선</text>\n",
      "    <!-- 복잡한 S자 곡선 (두 개의 Cubic Bézier) -->\n",
      "    <path d=\"M 100,400\n",
      "    C 100,100 400,100 400,250\n",
      "    C 400,400 100,400 100,100\"\n",
      "    stroke=\"black\" fill=\"none\" stroke-width=\"2\"/>\n",
      "    </svg>\n",
      "    \n",
      "\n",
      "생성된 설명:\n",
      " ### 곡선에 대한 설명\n",
      "\n",
      "**정의:**\n",
      "곡선은 직선이 아닌, 연속적으로 이어지는 점들의 모임으로 이루어진 도형입니다. 쉽게 말해, 직선처럼 일정한 방향으로만 움직이는 것이 아니라, 부드럽게 휘어지거나 굽어지는 형태를 가진 선을 말합니다.\n",
      "\n",
      "**기본 성질:**\n",
      "1. **연속성:** 곡선 위의 모든 점들은 부드럽게 이어져 있어, 어떤 작은 구간에서도 끊어지지 않고 이어집니다.\n",
      "2. **길이:** 곡선의 길이는 그 곡선을 따라 측정한 총 거리입니다. 이 길이는 곡선의 모양에 따라 달라집니다. 예를 들어, 원의 둘레는 반지름에 따라 결정되며, 이는 곡선의 길이를 정확히 계산하는 방법 중 하나입니다.\n",
      "3. **곡률:** 곡선이 얼마나 빠르게 방향을 바꾸는지를 나타내는 값입니다. 곡률이 크면 곡선이 더 급하게 굽어지고, 작으면 더 부드럽게 굽어집니다. 예를 들어, 원의 경우 모든 점에서 곡률이 일정합니다.\n",
      "4. **접선:** 곡선 위의 어떤 점에서 그 점을 지나는 가장 가까운 직선을 접선이라고 합니다. 이 접선은 그 점에서 곡선의 방향을 가장 잘 나타냅니다.\n",
      "\n",
      "이러한 성질들 덕분에 곡선은 자연 현상이나 공학적 설계 등 다양한 분야에서 중요한 역할을 합니다.\n"
     ]
    },
    {
     "data": {
      "image/svg+xml": [
       "<svg xmlns=\"http://www.w3.org/2000/svg\" width=\"500\" height=\"500\">\n",
       "    <text x=\"250\" y=\"50\" font-size=\"25\" text-anchor=\"middle\">굽은선</text>\n",
       "    <!-- 복잡한 S자 곡선 (두 개의 Cubic Bézier) -->\n",
       "    <path d=\"M 100,400     C 100,100 400,100 400,250     C 400,400 100,400 100,100\" stroke=\"black\" fill=\"none\" stroke-width=\"2\"/>\n",
       "    </svg>"
      ],
      "text/plain": [
       "<IPython.core.display.SVG object>"
      ]
     },
     "metadata": {},
     "output_type": "display_data"
    },
    {
     "name": "stdout",
     "output_type": "stream",
     "text": [
      "====================================================================================================\n",
      "요청한 문장: 중심이 (0,0)이고 반지름이 2인 원을 그려주세요.\n",
      "추출된 개념: Circle\n",
      "추출된 인자: {'radius': 2}\n",
      "\n",
      "생성된 코드:\n",
      " <svg width=\"500\" height=\"500\" xmlns=\"http://www.w3.org/2000/svg\">\n",
      "    <text x=\"250\" y=\"50\" font-size=\"25\" text-anchor=\"middle\">원</text>\n",
      "    <circle cx=\"250\" cy=\"250\" r=\"100\" stroke=\"black\" stroke-width=\"2\" fill=\"none\" />\n",
      "    <circle cx=\"250\" cy=\"250\" r=\"1\" stroke=\"black\" stroke-width=\"2\" fill=\"black\" />\n",
      "    <line x1=\"250\" y1=\"250\" x2=\"350\" y2=\"250\" stroke=\"black\" stroke-width=\"2\" />\n",
      "    </svg>\n",
      "    \n",
      "\n",
      "생성된 설명:\n",
      " ### Circle (원)\n",
      "\n",
      "#### 정의:\n",
      "원은 평면 위에서 한 점(중심)으로부터 일정한 거리(반지름)에 있는 모든 점들의 집합을 말합니다. 이 중심점을 기준으로 원 위의 모든 점들은 동일한 거리에 위치해 있습니다.\n",
      "\n",
      "#### 기본 성질:\n",
      "1. **둘레와 지름**: 원의 둘레는 지름에 π(약 3.14)를 곱한 값입니다. 즉, 둘레 = 지름 × π 입니다. 반대로 지름은 둘레를 π로 나누면 구할 수 있습니다.\n",
      "   \n",
      "2. **면적**: 원의 면적은 반지름의 제곱에 π를 곱한 값입니다. 공식으로 표현하면 면적 = π × 반지름2 입니다.\n",
      "\n",
      "3. **대칭성**: 원은 중심을 기준으로 완벽하게 대칭입니다. 즉, 중심을 지나는 어떤 직선을 기준으로 원을 접어도 양쪽이 완전히 일치합니다.\n",
      "\n",
      "4. **원주각과 호의 관계**: 원 위의 두 점을 잇는 호의 중앙각은 그 호에 대응하는 원주각의 두 배입니다. 예를 들어, 호의 중앙각이 θ라면 원주각은 θ/2가 됩니다.\n",
      "\n",
      "이러한 성질들로 인해 원은 기하학에서 매우 중요한 역할을 합니다. 다양한 도형과 문제 해결에 활용되며, 일상생활에서도 자주 접하게 되는 개념입니다.\n",
      "\n",
      "생성된 공식 raw:\n",
      " {'perimeter': '2 \\\\times 3.14 \\\\times 반지름', 'area': '3.14 \\\\times 반지름 \\\\times 반지름'}\n"
     ]
    },
    {
     "data": {
      "text/latex": [
       "$\\displaystyle 2 \\times 3.14 \\times 반지름$"
      ],
      "text/plain": [
       "<IPython.core.display.Math object>"
      ]
     },
     "metadata": {},
     "output_type": "display_data"
    },
    {
     "data": {
      "text/latex": [
       "$\\displaystyle 3.14 \\times 반지름 \\times 반지름$"
      ],
      "text/plain": [
       "<IPython.core.display.Math object>"
      ]
     },
     "metadata": {},
     "output_type": "display_data"
    },
    {
     "data": {
      "image/svg+xml": [
       "<svg xmlns=\"http://www.w3.org/2000/svg\" width=\"500\" height=\"500\">\n",
       "    <text x=\"250\" y=\"50\" font-size=\"25\" text-anchor=\"middle\">원</text>\n",
       "    <circle cx=\"250\" cy=\"250\" r=\"100\" stroke=\"black\" stroke-width=\"2\" fill=\"none\"/>\n",
       "    <circle cx=\"250\" cy=\"250\" r=\"1\" stroke=\"black\" stroke-width=\"2\" fill=\"black\"/>\n",
       "    <line x1=\"250\" y1=\"250\" x2=\"350\" y2=\"250\" stroke=\"black\" stroke-width=\"2\"/>\n",
       "    </svg>"
      ],
      "text/plain": [
       "<IPython.core.display.SVG object>"
      ]
     },
     "metadata": {},
     "output_type": "display_data"
    },
    {
     "name": "stdout",
     "output_type": "stream",
     "text": [
      "====================================================================================================\n",
      "요청한 문장: 37° 각도를 그려줘\n",
      "추출된 개념: 각도\n",
      "추출된 인자: {'size': 37}\n",
      "\n",
      "생성된 코드:\n",
      " <svg width=\"500\" height=\"375\" xmlns=\"http://www.w3.org/2000/svg\">\n",
      "    <text x=\"250\" y=\"50\" font-size=\"25\" text-anchor=\"middle\">각</text>\n",
      "    <!-- 기준선 -->\n",
      "    <line x1=\"125\" y1=\"333\" x2=\"375\" y2=\"333\" stroke=\"black\" stroke-width=\"2\" />\n",
      "    <!-- 기울어진 선 -->\n",
      "    <line x1=\"125\" y1=\"333\" x2=\"324.6588775118232\" y2=\"182.54624421198793\" stroke=\"black\" stroke-width=\"2\" />\n",
      "    <!-- 각도 호 -->\n",
      "    <path d=\"M 164.93177550236464,302.9092488423976 A 50,50 0 0,1 175,333\" stroke=\"black\" stroke-width=\"2\" fill=\"none\"/>\n",
      "    </svg>\n",
      "    \n",
      "\n",
      "생성된 설명:\n",
      " ### 각도에 대한 설명\n",
      "\n",
      "**정의:**\n",
      "각도는 두 직선이나 선분이 만나서 생기는 공간의 크기를 측정하는 방법입니다. 우리가 일상에서 자주 접하는 각도는 주로 도로 표지판에서 볼 수 있는 방향 지시나, 그림에서 선들이 만나는 부분을 표현할 때 사용됩니다.\n",
      "\n",
      "**기본 성질:**\n",
      "1. **직선의 각도:** 직선은 정확히 180도의 각도를 가집니다. 직선은 두 방향으로 무한히 이어지는 것처럼 보이지만, 실제로는 시작점과 끝점이 있습니다.\n",
      "   \n",
      "2. **직각 각도:** 직각은 90도를 의미합니다. 이는 우리가 흔히 사용하는 'L'자 모양의 모서리나 사각형의 모서리에서 볼 수 있습니다. 직각은 두 직선이 서로 수직으로 만나는 경우에 생깁니다.\n",
      "\n",
      "3. **평행선과 각도:** 평행한 두 직선은 만나지 않기 때문에, 그들 사이의 각도는 항상 같습니다. 예를 들어, 두 평행선 위에 그려진 삼각형의 한 각은 다른 각과 크기가 동일합니다.\n",
      "\n",
      "4. **복합 각도:** 여러 각도를 합쳐서 더 큰 각도를 만들 수 있습니다. 예를 들어, 두 개의 직각 각도를 합치면 180도가 됩니다.\n",
      "\n",
      "이러한 기본적인 개념들을 이해하면 각도에 대한 다양한 문제를 풀 때 도움이 될 것입니다!\n"
     ]
    },
    {
     "data": {
      "image/svg+xml": [
       "<svg xmlns=\"http://www.w3.org/2000/svg\" width=\"500\" height=\"375\">\n",
       "    <text x=\"250\" y=\"50\" font-size=\"25\" text-anchor=\"middle\">각</text>\n",
       "    <!-- 기준선 -->\n",
       "    <line x1=\"125\" y1=\"333\" x2=\"375\" y2=\"333\" stroke=\"black\" stroke-width=\"2\"/>\n",
       "    <!-- 기울어진 선 -->\n",
       "    <line x1=\"125\" y1=\"333\" x2=\"324.6588775118232\" y2=\"182.54624421198793\" stroke=\"black\" stroke-width=\"2\"/>\n",
       "    <!-- 각도 호 -->\n",
       "    <path d=\"M 164.93177550236464,302.9092488423976 A 50,50 0 0,1 175,333\" stroke=\"black\" stroke-width=\"2\" fill=\"none\"/>\n",
       "    </svg>"
      ],
      "text/plain": [
       "<IPython.core.display.SVG object>"
      ]
     },
     "metadata": {},
     "output_type": "display_data"
    },
    {
     "name": "stdout",
     "output_type": "stream",
     "text": [
      "====================================================================================================\n",
      "요청한 문장: 직각을 표현해줘\n",
      "추출된 개념: Right Angle\n",
      "추출된 인자: {}\n",
      "\n",
      "생성된 코드:\n",
      " <svg width=\"500\" height=\"500\" xmlns=\"http://www.w3.org/2000/svg\">\n",
      "    <text x=\"250\" y=\"50\" font-size=\"25\" text-anchor=\"middle\">직각</text>\n",
      "    <!-- 기준선 -->\n",
      "    <line x1=\"125\" y1=\"400\" x2=\"458\" y2=\"400\" stroke=\"black\" stroke-width=\"2\" />\n",
      "    <!-- 기울어진 선 -->\n",
      "    <line x1=\"125\" y1=\"400\" x2=\"125\" y2=\"67\" stroke=\"black\" stroke-width=\"2\" />\n",
      "    <!-- 직각 보조선 -->\n",
      "    <line x1=\"175\" y1=\"400\" x2=\"175\" y2=\"350\" stroke=\"black\" stroke-width=\"2\" />\n",
      "    <line x1=\"125\" y1=\"350\" x2=\"175\" y2=\"350\" stroke=\"black\" stroke-width=\"2\" />\n",
      "    </svg>\n",
      "    \n",
      "\n",
      "생성된 설명:\n",
      " ### Right Angle\n",
      "\n",
      "**정의:**\n",
      "Right Angle은 기하학에서 가장 기본적인 각도 중 하나로, 정확히 90도를 이루는 각도를 말합니다. 이 각도는 직각이라고도 불리며, 직선이나 특정 도형의 모서리에서 만나는 두 변이 서로 수직으로 만나는 경우에 나타납니다.\n",
      "\n",
      "**기본 성질:**\n",
      "1. **크기:** Right Angle은 항상 정확히 90도입니다. 이는 모든 Right Angle이 동일한 크기를 가짐을 의미합니다.\n",
      "2. **모양:** Right Angle은 보통 'L' 모양으로 쉽게 인식할 수 있습니다. 이 모양은 직각을 나타내는 데 자주 사용됩니다.\n",
      "3. **도형과의 관계:** 직각은 사각형, 직사각형, 정사각형 등 다양한 도형의 모서리에서 발견됩니다. 특히, 직사각형이나 정사각형은 네 개의 Right Angle을 가지고 있습니다.\n",
      "4. **삼각형과의 연관성:** 직각삼각형은 한 내각이 정확히 Right Angle인 삼각형을 의미합니다. 이 삼각형은 세 변의 길이 관계를 통해 피타고라스 정리를 적용할 수 있습니다.\n",
      "\n",
      "이러한 성질들로 인해 Right Angle은 수학에서 매우 중요한 개념으로 자리잡고 있습니다!\n"
     ]
    },
    {
     "data": {
      "image/svg+xml": [
       "<svg xmlns=\"http://www.w3.org/2000/svg\" width=\"500\" height=\"500\">\n",
       "    <text x=\"250\" y=\"50\" font-size=\"25\" text-anchor=\"middle\">직각</text>\n",
       "    <!-- 기준선 -->\n",
       "    <line x1=\"125\" y1=\"400\" x2=\"458\" y2=\"400\" stroke=\"black\" stroke-width=\"2\"/>\n",
       "    <!-- 기울어진 선 -->\n",
       "    <line x1=\"125\" y1=\"400\" x2=\"125\" y2=\"67\" stroke=\"black\" stroke-width=\"2\"/>\n",
       "    <!-- 직각 보조선 -->\n",
       "    <line x1=\"175\" y1=\"400\" x2=\"175\" y2=\"350\" stroke=\"black\" stroke-width=\"2\"/>\n",
       "    <line x1=\"125\" y1=\"350\" x2=\"175\" y2=\"350\" stroke=\"black\" stroke-width=\"2\"/>\n",
       "    </svg>"
      ],
      "text/plain": [
       "<IPython.core.display.SVG object>"
      ]
     },
     "metadata": {},
     "output_type": "display_data"
    },
    {
     "name": "stdout",
     "output_type": "stream",
     "text": [
      "====================================================================================================\n",
      "요청한 문장: 밑변이 3이고, 높이가 4인 직각삼각형 하나를 그려줘\n",
      "추출된 개념: Right Triangle\n",
      "추출된 인자: {'base': 3, 'height': 4}\n",
      "\n",
      "생성된 코드:\n",
      " <svg width=\"500\" height=\"500\" xmlns=\"http://www.w3.org/2000/svg\">\n",
      "    <text x=\"250\" y=\"50\" font-size=\"25\" text-anchor=\"middle\">직각삼각형</text>\n",
      "    <!-- 직각삼각형 -->\n",
      "    <line x1=\"83\" y1=\"416\" x2=\"308\" y2=\"416\" stroke=\"black\" stroke-width=\"2\" />\n",
      "    <line x1=\"308\" y1=\"416\" x2=\"308\" y2=\"166\" stroke=\"black\" stroke-width=\"2\" />\n",
      "    <line x1=\"83\" y1=\"416\" x2=\"308\" y2=\"166\" stroke=\"black\" stroke-width=\"2\" />\n",
      "    <!-- 직각 보조선 -->\n",
      "    <line x1=\"286\" y1=\"416\" x2=\"286\" y2=\"394\" stroke=\"black\" stroke-width=\"2\" />\n",
      "    <line x1=\"286\" y1=\"394\" x2=\"308\" y2=\"394\" stroke=\"black\" stroke-width=\"2\" />\n",
      "    </svg>\n",
      "    \n",
      "\n",
      "생성된 설명:\n",
      " ### Right Triangle\n",
      "\n",
      "**정의:**\n",
      "A right triangle is a special type of triangle that has one angle which measures exactly 90 degrees (a right angle). This unique angle distinguishes it from other triangles where all angles are less than 90 degrees.\n",
      "\n",
      "**기본 성질:**\n",
      "1. **한 각이 직각:** 가장 중요한 특징은 한 꼭짓점에서 직각(90°)을 이루는 것입니다.\n",
      "2. **직각을 중심으로 두 개의 다른 각:** 나머지 두 각은 합쳐 90도가 됩니다. 따라서 이 두 각은 서로 보완각(complementary angles)입니다.\n",
      "3. **피타고라스 정리 적용 가능:** 직각 삼각형에서는 가장 긴 변을 빗변(hypotenuse)이라고 부르며, 이 빗변의 길이는 다른 두 변(직각을 이루는 두 변을 밑변과 높이라고도 부릅니다)의 길이와 특별한 관계를 가집니다. 이 관계는 피타고라스 정리로 표현되는데, 수학적으로는 \\(a^2 + b^2 = c^2\\) 입니다 (여기서 \\(c\\)는 빗변의 길이이고, \\(a\\)와 \\(b\\)는 다른 두 변의 길이입니다). 하지만 문제 해결을 위해 직접적인 공식보다는 이 관계를 이해하는 것이 중요합니다.\n",
      "4. **삼각형의 종류:** 직각 삼각형은 그 각도에 따라 다양한 종류로 나눌 수 있습니다. 예를 들어, 모든 변의 길이가 정수인 직각 삼각형을 피타고라스 삼각형이라고 부르기도 합니다.\n",
      "\n",
      "이런 특징들로 인해 직각 삼각형은 건축, 공학, 그리고 다양한 실생활 문제 해결에서 매우 중요한 역할을 합니다!\n",
      "\n",
      "생성된 공식 raw:\n",
      " {'perimeter': '밑변 + 높이 + 빗변', 'area': '밑변 × 높이 ÷ 2'}\n"
     ]
    },
    {
     "data": {
      "text/latex": [
       "$\\displaystyle 밑변 + 높이 + 빗변$"
      ],
      "text/plain": [
       "<IPython.core.display.Math object>"
      ]
     },
     "metadata": {},
     "output_type": "display_data"
    },
    {
     "data": {
      "text/latex": [
       "$\\displaystyle 밑변 × 높이 ÷ 2$"
      ],
      "text/plain": [
       "<IPython.core.display.Math object>"
      ]
     },
     "metadata": {},
     "output_type": "display_data"
    },
    {
     "data": {
      "image/svg+xml": [
       "<svg xmlns=\"http://www.w3.org/2000/svg\" width=\"500\" height=\"500\">\n",
       "    <text x=\"250\" y=\"50\" font-size=\"25\" text-anchor=\"middle\">직각삼각형</text>\n",
       "    <!-- 직각삼각형 -->\n",
       "    <line x1=\"83\" y1=\"416\" x2=\"308\" y2=\"416\" stroke=\"black\" stroke-width=\"2\"/>\n",
       "    <line x1=\"308\" y1=\"416\" x2=\"308\" y2=\"166\" stroke=\"black\" stroke-width=\"2\"/>\n",
       "    <line x1=\"83\" y1=\"416\" x2=\"308\" y2=\"166\" stroke=\"black\" stroke-width=\"2\"/>\n",
       "    <!-- 직각 보조선 -->\n",
       "    <line x1=\"286\" y1=\"416\" x2=\"286\" y2=\"394\" stroke=\"black\" stroke-width=\"2\"/>\n",
       "    <line x1=\"286\" y1=\"394\" x2=\"308\" y2=\"394\" stroke=\"black\" stroke-width=\"2\"/>\n",
       "    </svg>"
      ],
      "text/plain": [
       "<IPython.core.display.SVG object>"
      ]
     },
     "metadata": {},
     "output_type": "display_data"
    },
    {
     "name": "stdout",
     "output_type": "stream",
     "text": [
      "====================================================================================================\n",
      "요청한 문장: 가로가 5, 세로가 3인 직사각형의 넓이\n",
      "추출된 개념: Rectangle\n",
      "추출된 인자: {'width': 5, 'height': 3}\n",
      "\n",
      "생성된 코드:\n",
      " <svg width=\"500\" height=\"312\" xmlns=\"http://www.w3.org/2000/svg\">\n",
      "    <text x=\"250\" y=\"50\" font-size=\"25\" text-anchor=\"middle\">직사각형</text>\n",
      "    <rect x=\"100\" y=\"100\" width=\"250\" height=\"150\" stroke=\"black\" stroke-width=\"2\" fill=\"none\" />\n",
      "    </svg>\n",
      "\n",
      "생성된 설명:\n",
      " ### Rectangle 설명\n",
      "\n",
      "**정의:**\n",
      "사각형은 네 개의 직선으로 둘러싸인 평면 도형으로, 각 내각이 직각(90도)인 특징을 가지고 있습니다. 즉, 사각형의 네 모서리는 모두 직각을 이루며, 대변이 평행하고 길이가 같은 특성을 갖습니다.\n",
      "\n",
      "**기본 성질:**\n",
      "1. **대변의 길이가 같음:** 사각형의 두 쌍의 대변은 길이가 동일합니다. 예를 들어, 가로와 세로가 같은 길이를 가집니다.\n",
      "2. **대각선이 서로 같음:** 사각형의 두 대각선은 길이가 같습니다. 즉, 사각형을 두 개의 동일한 삼각형으로 나눌 수 있습니다.\n",
      "3. **내각의 합:** 사각형의 네 내각의 합은 항상 360도입니다.\n",
      "4. **변의 배열:** 사각형은 여러 가지 형태로 배열될 수 있습니다. 예를 들어, 직사각형은 가로와 세로가 각각 다른 길이를 가질 수 있으며, 정사각형은 모든 변의 길이가 같고 모든 내각이 직각인 특별한 형태의 사각형입니다.\n",
      "\n",
      "이러한 성질들로 인해 사각형은 우리 일상생활에서 매우 흔하게 볼 수 있는 도형입니다!\n",
      "\n",
      "생성된 공식 raw:\n",
      " {'perimeter': '2 × (밑변 + 높이)', 'area': '밑변 × 높이'}\n"
     ]
    },
    {
     "data": {
      "text/latex": [
       "$\\displaystyle 2 × (밑변 + 높이)$"
      ],
      "text/plain": [
       "<IPython.core.display.Math object>"
      ]
     },
     "metadata": {},
     "output_type": "display_data"
    },
    {
     "data": {
      "text/latex": [
       "$\\displaystyle 밑변 × 높이$"
      ],
      "text/plain": [
       "<IPython.core.display.Math object>"
      ]
     },
     "metadata": {},
     "output_type": "display_data"
    },
    {
     "data": {
      "image/svg+xml": [
       "<svg xmlns=\"http://www.w3.org/2000/svg\" width=\"500\" height=\"312\">\n",
       "    <text x=\"250\" y=\"50\" font-size=\"25\" text-anchor=\"middle\">직사각형</text>\n",
       "    <rect x=\"100\" y=\"100\" width=\"250\" height=\"150\" stroke=\"black\" stroke-width=\"2\" fill=\"none\"/>\n",
       "    </svg>"
      ],
      "text/plain": [
       "<IPython.core.display.SVG object>"
      ]
     },
     "metadata": {},
     "output_type": "display_data"
    },
    {
     "name": "stdout",
     "output_type": "stream",
     "text": [
      "====================================================================================================\n",
      "요청한 문장: 한 변의 길이가 2인 정사각형 하나를 그려줘\n",
      "추출된 개념: Square\n",
      "추출된 인자: {'length': 2}\n",
      "\n",
      "생성된 코드:\n",
      " <svg width=\"500\" height=\"500\" xmlns=\"http://www.w3.org/2000/svg\">\n",
      "    <text x=\"250\" y=\"50\" font-size=\"25\" text-anchor=\"middle\">정사각형</text>\n",
      "    <rect x=\"100\" y=\"100\" width=\"200\" height=\"200\" stroke=\"black\" stroke-width=\"2\" fill=\"none\" />\n",
      "    </svg>\n",
      "\n",
      "생성된 설명:\n",
      " ### Square\n",
      "\n",
      "**정의:**\n",
      "사각형은 네 개의 변으로 이루어진 평면 도형입니다. 모든 내각이 직각(90도)이며, 반대편의 변들이 길이가 같아서 마주보는 두 변은 평행하고 길이가 동일합니다.\n",
      "\n",
      "**기본 성질:**\n",
      "1. **대변의 길이 동일:** 사각형의 마주보는 두 변은 길이가 같습니다. 예를 들어, 정사각형이나 직사각형에서는 모든 대변이 같은 길이를 가집니다.\n",
      "2. **대각선의 성질:** 사각형의 대각선은 서로를 반으로 나눕니다. 즉, 대각선이 만나는 점에서 대각선을 잇는 선분들은 서로를 절반으로 나눕니다.\n",
      "3. **변의 합:** 사각형의 네 변의 길이를 모두 더하면, 그 합은 사각형의 둘레를 나타냅니다. 예를 들어, 한 변의 길이가 \\(a\\)이고 다른 변의 길이가 \\(b\\)라면, 둘레는 \\(a + b + a + b = 2(a + b)\\)가 됩니다.\n",
      "4. **정사각형의 특징:** 정사각형은 모든 변의 길이가 같고 모든 내각이 직각인 특별한 사각형입니다. 모든 대각선도 길이가 같고 서로를 직각으로 이룹니다.\n",
      "\n",
      "이러한 성질들로 인해 사각형은 다양한 형태와 크기로 존재하며, 건축, 디자인, 그리고 일상생활에서 자주 볼 수 있는 도형입니다!\n",
      "\n",
      "생성된 공식 raw:\n",
      " {'perimeter': '4 \\\\times \\\\mathrm{한 변의 길이}', 'area': '\\\\mathrm{한 변의 길이} \\\\times \\\\mathrm{한 변의 길이}'}\n"
     ]
    },
    {
     "data": {
      "text/latex": [
       "$\\displaystyle 4 \\times \\mathrm{한 변의 길이}$"
      ],
      "text/plain": [
       "<IPython.core.display.Math object>"
      ]
     },
     "metadata": {},
     "output_type": "display_data"
    },
    {
     "data": {
      "text/latex": [
       "$\\displaystyle \\mathrm{한 변의 길이} \\times \\mathrm{한 변의 길이}$"
      ],
      "text/plain": [
       "<IPython.core.display.Math object>"
      ]
     },
     "metadata": {},
     "output_type": "display_data"
    },
    {
     "data": {
      "image/svg+xml": [
       "<svg xmlns=\"http://www.w3.org/2000/svg\" width=\"500\" height=\"500\">\n",
       "    <text x=\"250\" y=\"50\" font-size=\"25\" text-anchor=\"middle\">정사각형</text>\n",
       "    <rect x=\"100\" y=\"100\" width=\"200\" height=\"200\" stroke=\"black\" stroke-width=\"2\" fill=\"none\"/>\n",
       "    </svg>"
      ],
      "text/plain": [
       "<IPython.core.display.SVG object>"
      ]
     },
     "metadata": {},
     "output_type": "display_data"
    },
    {
     "name": "stdout",
     "output_type": "stream",
     "text": [
      "====================================================================================================\n",
      "요청한 문장: 곧은선이 뭐야?\n",
      "추출된 개념: 직선\n",
      "추출된 인자: {}\n",
      "\n",
      "생성된 코드:\n",
      " <svg width=\"500\" height=\"500\" xmlns=\"http://www.w3.org/2000/svg\">\n",
      "    <text x=\"250\" y=\"25\" font-size=\"25\" text-anchor=\"middle\">곧은선</text>\n",
      "    <text x=\"250\" y=\"75\" font-size=\"25\" text-anchor=\"middle\">선분</text>\n",
      "    <!-- 선분 -->\n",
      "    <circle cx=\"125\" cy=\"125\" r=\"1\" stroke=\"black\" stroke-width=\"2\" fill=\"black\" />\n",
      "    <circle cx=\"375\" cy=\"125\" r=\"1\" stroke=\"black\" stroke-width=\"2\" fill=\"black\" />\n",
      "    <line x1=\"125\" y1=\"125\" x2=\"375\" y2=\"125\" stroke=\"black\" stroke-width=\"2\" />\n",
      "    <!-- 반직선 -->\n",
      "    <text x=\"250\" y=\"175\" font-size=\"25\" text-anchor=\"middle\">반직선</text>\n",
      "    <circle cx=\"125\" cy=\"250\" r=\"1\" stroke=\"black\" stroke-width=\"2\" fill=\"black\" />\n",
      "    <circle cx=\"375\" cy=\"250\" r=\"1\" stroke=\"black\" stroke-width=\"2\" fill=\"black\" />\n",
      "    <line x1=\"125\" y1=\"250\" x2=\"500\" y2=\"250\" stroke=\"black\" stroke-width=\"2\" />\n",
      "    <!-- 직선 -->\n",
      "    <text x=\"250\" y=\"300\" font-size=\"25\" text-anchor=\"middle\">직선</text>\n",
      "    <circle cx=\"125\" cy=\"375\" r=\"1\" stroke=\"black\" stroke-width=\"2\" fill=\"black\" />\n",
      "    <circle cx=\"375\" cy=\"375\" r=\"1\" stroke=\"black\" stroke-width=\"2\" fill=\"black\" />\n",
      "    <line x1=\"0\" y1=\"375\" x2=\"500\" y2=\"375\" stroke=\"black\" stroke-width=\"2\" />\n",
      "    </svg>\n",
      "    \n",
      "\n",
      "생성된 설명:\n",
      " ### 직선에 대한 설명\n",
      "\n",
      "#### 정의\n",
      "직선은 평면 위에서 가장 짧은 거리로 두 점을 연결하는 선을 말합니다. 이 선은 양쪽으로 무한히 계속되며, 방향이 항상 일정합니다. 직선 위의 모든 점들은 서로 평행하게 연결되어 있어, 어떤 방향으로든 뻗어나갈 수 있습니다.\n",
      "\n",
      "#### 기본 성질\n",
      "1. **무한한 길이**: 직선은 양쪽으로 무한히 이어집니다. 즉, 시작점에서 끝점까지의 거리가 아무리 길어도 계속해서 뻗어나갈 수 있습니다.\n",
      "2. **평행한 선들**: 같은 방향으로 무한히 뻗어나가는 두 직선은 서로 평행합니다. 반대로, 서로 다른 방향으로 무한히 뻗어나가는 두 직선은 교차하지 않습니다.\n",
      "3. **직선 위의 점들**: 직선 위의 모든 점들은 서로 연결되어 있어, 어떤 두 점을 잇는 선분은 항상 직선의 일부분입니다.\n",
      "4. **직선의 대칭성**: 직선을 기준으로 대칭인 두 부분은 서로 완전히 일치합니다. 예를 들어, 한 점을 기준으로 대칭인 두 점은 직선 양쪽에 동일한 거리에 위치합니다.\n",
      "\n",
      "이러한 성질들로 인해 직선은 기하학에서 매우 중요한 개념으로 사용됩니다!\n"
     ]
    },
    {
     "data": {
      "image/svg+xml": [
       "<svg xmlns=\"http://www.w3.org/2000/svg\" width=\"500\" height=\"500\">\n",
       "    <text x=\"250\" y=\"25\" font-size=\"25\" text-anchor=\"middle\">곧은선</text>\n",
       "    <text x=\"250\" y=\"75\" font-size=\"25\" text-anchor=\"middle\">선분</text>\n",
       "    <!-- 선분 -->\n",
       "    <circle cx=\"125\" cy=\"125\" r=\"1\" stroke=\"black\" stroke-width=\"2\" fill=\"black\"/>\n",
       "    <circle cx=\"375\" cy=\"125\" r=\"1\" stroke=\"black\" stroke-width=\"2\" fill=\"black\"/>\n",
       "    <line x1=\"125\" y1=\"125\" x2=\"375\" y2=\"125\" stroke=\"black\" stroke-width=\"2\"/>\n",
       "    <!-- 반직선 -->\n",
       "    <text x=\"250\" y=\"175\" font-size=\"25\" text-anchor=\"middle\">반직선</text>\n",
       "    <circle cx=\"125\" cy=\"250\" r=\"1\" stroke=\"black\" stroke-width=\"2\" fill=\"black\"/>\n",
       "    <circle cx=\"375\" cy=\"250\" r=\"1\" stroke=\"black\" stroke-width=\"2\" fill=\"black\"/>\n",
       "    <line x1=\"125\" y1=\"250\" x2=\"500\" y2=\"250\" stroke=\"black\" stroke-width=\"2\"/>\n",
       "    <!-- 직선 -->\n",
       "    <text x=\"250\" y=\"300\" font-size=\"25\" text-anchor=\"middle\">직선</text>\n",
       "    <circle cx=\"125\" cy=\"375\" r=\"1\" stroke=\"black\" stroke-width=\"2\" fill=\"black\"/>\n",
       "    <circle cx=\"375\" cy=\"375\" r=\"1\" stroke=\"black\" stroke-width=\"2\" fill=\"black\"/>\n",
       "    <line x1=\"0\" y1=\"375\" x2=\"500\" y2=\"375\" stroke=\"black\" stroke-width=\"2\"/>\n",
       "    </svg>"
      ],
      "text/plain": [
       "<IPython.core.display.SVG object>"
      ]
     },
     "metadata": {},
     "output_type": "display_data"
    },
    {
     "name": "stdout",
     "output_type": "stream",
     "text": [
      "====================================================================================================\n",
      "요청한 문장: 대표적인 굽은선을 그려줘\n",
      "추출된 개념: 곡선\n",
      "추출된 인자: {'type': '타원', 'description': '타원은 가장 대표적인 굽은선의 한 종류로, 두 초점 사이의 거리의 합이 일정한 점들의 집합으로 정의됩니다.'}\n",
      "\n",
      "생성된 코드:\n",
      " \n",
      "    <svg width=\"500\" height=\"500\" xmlns=\"http://www.w3.org/2000/svg\">\n",
      "    <text x=\"250\" y=\"50\" font-size=\"25\" text-anchor=\"middle\">굽은선</text>\n",
      "    <!-- 복잡한 S자 곡선 (두 개의 Cubic Bézier) -->\n",
      "    <path d=\"M 100,400\n",
      "    C 100,100 400,100 400,250\n",
      "    C 400,400 100,400 100,100\"\n",
      "    stroke=\"black\" fill=\"none\" stroke-width=\"2\"/>\n",
      "    </svg>\n",
      "    \n",
      "\n",
      "생성된 설명:\n",
      " ### 곡선에 대한 설명\n",
      "\n",
      "**정의:**\n",
      "곡선은 직선이 아닌, 연속적으로 이어지는 점들의 모임으로 이루어진 도형입니다. 쉽게 말해, 직선처럼 일정한 방향으로만 움직이는 것이 아니라, 부드럽게 휘어지거나 굽어지는 형태를 가진 선을 말합니다.\n",
      "\n",
      "**기본 성질:**\n",
      "1. **연속성:** 곡선 위의 모든 점들은 부드럽게 이어져 있어, 어떤 작은 구간에서도 끊어지지 않고 이어집니다.\n",
      "2. **길이:** 곡선의 길이는 그 곡선을 따라 측정한 총 거리입니다. 이 길이는 곡선의 모양에 따라 달라집니다. 예를 들어, 원의 둘레는 반지름에 따라 결정되며, 이는 곡선의 길이를 정확히 계산하는 방법 중 하나입니다.\n",
      "3. **곡률:** 곡선이 얼마나 빠르게 방향을 바꾸는지를 나타내는 값입니다. 곡률이 크면 곡선이 더 급하게 굽어지고, 작으면 더 부드럽게 굽어집니다. 예를 들어, 원의 경우 모든 점에서 곡률이 일정합니다.\n",
      "4. **접선:** 곡선 위의 어떤 점에서 그 점을 지나는 가장 가까운 직선을 접선이라고 합니다. 이 접선은 그 점에서 곡선의 방향을 가장 잘 나타냅니다.\n",
      "\n",
      "이러한 성질들 덕분에 곡선은 자연 현상이나 공학적 설계 등 다양한 분야에서 중요한 역할을 합니다.\n"
     ]
    },
    {
     "data": {
      "image/svg+xml": [
       "<svg xmlns=\"http://www.w3.org/2000/svg\" width=\"500\" height=\"500\">\n",
       "    <text x=\"250\" y=\"50\" font-size=\"25\" text-anchor=\"middle\">굽은선</text>\n",
       "    <!-- 복잡한 S자 곡선 (두 개의 Cubic Bézier) -->\n",
       "    <path d=\"M 100,400     C 100,100 400,100 400,250     C 400,400 100,400 100,100\" stroke=\"black\" fill=\"none\" stroke-width=\"2\"/>\n",
       "    </svg>"
      ],
      "text/plain": [
       "<IPython.core.display.SVG object>"
      ]
     },
     "metadata": {},
     "output_type": "display_data"
    },
    {
     "name": "stdout",
     "output_type": "stream",
     "text": [
      "====================================================================================================\n",
      "요청한 문장: 중심이 (0,0)이고 반지름이 2인 원을 그려주세요.\n",
      "추출된 개념: Circle\n",
      "추출된 인자: {'radius': 2}\n",
      "\n",
      "생성된 코드:\n",
      " <svg width=\"500\" height=\"500\" xmlns=\"http://www.w3.org/2000/svg\">\n",
      "    <text x=\"250\" y=\"50\" font-size=\"25\" text-anchor=\"middle\">원</text>\n",
      "    <circle cx=\"250\" cy=\"250\" r=\"100\" stroke=\"black\" stroke-width=\"2\" fill=\"none\" />\n",
      "    <circle cx=\"250\" cy=\"250\" r=\"1\" stroke=\"black\" stroke-width=\"2\" fill=\"black\" />\n",
      "    <line x1=\"250\" y1=\"250\" x2=\"350\" y2=\"250\" stroke=\"black\" stroke-width=\"2\" />\n",
      "    </svg>\n",
      "    \n",
      "\n",
      "생성된 설명:\n",
      " ### Circle (원)\n",
      "\n",
      "#### 정의:\n",
      "원은 평면 위에서 한 점(중심)으로부터 일정한 거리(반지름)에 있는 모든 점들의 집합을 말합니다. 이 중심점을 기준으로 원 위의 모든 점들은 동일한 거리에 위치해 있습니다.\n",
      "\n",
      "#### 기본 성질:\n",
      "1. **둘레와 지름**: 원의 둘레는 지름에 π(약 3.14)를 곱한 값입니다. 즉, 둘레 = 지름 × π 입니다. 반대로 지름은 둘레를 π로 나누면 구할 수 있습니다.\n",
      "   \n",
      "2. **면적**: 원의 면적은 반지름의 제곱에 π를 곱한 값입니다. 공식으로 표현하면 면적 = π × 반지름2 입니다.\n",
      "\n",
      "3. **대칭성**: 원은 중심을 기준으로 완벽하게 대칭입니다. 즉, 중심을 지나는 어떤 직선을 기준으로 원을 접어도 양쪽이 완전히 일치합니다.\n",
      "\n",
      "4. **원주각과 호의 관계**: 원 위의 두 점을 잇는 호의 중앙각은 그 호에 대응하는 원주각의 두 배입니다. 예를 들어, 호의 중앙각이 θ라면 원주각은 θ/2가 됩니다.\n",
      "\n",
      "이러한 성질들로 인해 원은 기하학에서 매우 중요한 역할을 합니다. 다양한 도형과 문제 해결에 활용되며, 일상생활에서도 자주 접하게 되는 개념입니다.\n",
      "\n",
      "생성된 공식 raw:\n",
      " {'perimeter': '2 \\\\times 3.14 \\\\times 반지름', 'area': '3.14 \\\\times 반지름 \\\\times 반지름'}\n"
     ]
    },
    {
     "data": {
      "text/latex": [
       "$\\displaystyle 2 \\times 3.14 \\times 반지름$"
      ],
      "text/plain": [
       "<IPython.core.display.Math object>"
      ]
     },
     "metadata": {},
     "output_type": "display_data"
    },
    {
     "data": {
      "text/latex": [
       "$\\displaystyle 3.14 \\times 반지름 \\times 반지름$"
      ],
      "text/plain": [
       "<IPython.core.display.Math object>"
      ]
     },
     "metadata": {},
     "output_type": "display_data"
    },
    {
     "data": {
      "image/svg+xml": [
       "<svg xmlns=\"http://www.w3.org/2000/svg\" width=\"500\" height=\"500\">\n",
       "    <text x=\"250\" y=\"50\" font-size=\"25\" text-anchor=\"middle\">원</text>\n",
       "    <circle cx=\"250\" cy=\"250\" r=\"100\" stroke=\"black\" stroke-width=\"2\" fill=\"none\"/>\n",
       "    <circle cx=\"250\" cy=\"250\" r=\"1\" stroke=\"black\" stroke-width=\"2\" fill=\"black\"/>\n",
       "    <line x1=\"250\" y1=\"250\" x2=\"350\" y2=\"250\" stroke=\"black\" stroke-width=\"2\"/>\n",
       "    </svg>"
      ],
      "text/plain": [
       "<IPython.core.display.SVG object>"
      ]
     },
     "metadata": {},
     "output_type": "display_data"
    },
    {
     "name": "stdout",
     "output_type": "stream",
     "text": [
      "====================================================================================================\n",
      "요청한 문장: 37° 각도를 그려줘\n",
      "추출된 개념: 각도\n",
      "추출된 인자: {'size': 37}\n",
      "\n",
      "생성된 코드:\n",
      " <svg width=\"500\" height=\"375\" xmlns=\"http://www.w3.org/2000/svg\">\n",
      "    <text x=\"250\" y=\"50\" font-size=\"25\" text-anchor=\"middle\">각</text>\n",
      "    <!-- 기준선 -->\n",
      "    <line x1=\"125\" y1=\"333\" x2=\"375\" y2=\"333\" stroke=\"black\" stroke-width=\"2\" />\n",
      "    <!-- 기울어진 선 -->\n",
      "    <line x1=\"125\" y1=\"333\" x2=\"324.6588775118232\" y2=\"182.54624421198793\" stroke=\"black\" stroke-width=\"2\" />\n",
      "    <!-- 각도 호 -->\n",
      "    <path d=\"M 164.93177550236464,302.9092488423976 A 50,50 0 0,1 175,333\" stroke=\"black\" stroke-width=\"2\" fill=\"none\"/>\n",
      "    </svg>\n",
      "    \n",
      "\n",
      "생성된 설명:\n",
      " ### 각도에 대한 설명\n",
      "\n",
      "**정의:**\n",
      "각도는 두 직선이나 선분이 만나서 생기는 공간의 크기를 측정하는 방법입니다. 우리가 일상에서 자주 접하는 각도는 주로 도로 표지판에서 볼 수 있는 방향 지시나, 그림에서 선들이 만나는 부분을 표현할 때 사용됩니다.\n",
      "\n",
      "**기본 성질:**\n",
      "1. **직선의 각도:** 직선은 정확히 180도의 각도를 가집니다. 직선은 두 방향으로 무한히 이어지는 것처럼 보이지만, 실제로는 시작점과 끝점이 있습니다.\n",
      "   \n",
      "2. **직각 각도:** 직각은 90도를 의미합니다. 이는 우리가 흔히 사용하는 'L'자 모양의 모서리나 사각형의 모서리에서 볼 수 있습니다. 직각은 두 직선이 서로 수직으로 만나는 경우에 생깁니다.\n",
      "\n",
      "3. **평행선과 각도:** 평행한 두 직선은 만나지 않기 때문에, 그들 사이의 각도는 항상 같습니다. 예를 들어, 두 평행선 위에 그려진 삼각형의 한 각은 다른 각과 크기가 동일합니다.\n",
      "\n",
      "4. **복합 각도:** 여러 각도를 합쳐서 더 큰 각도를 만들 수 있습니다. 예를 들어, 두 개의 직각 각도를 합치면 180도가 됩니다.\n",
      "\n",
      "이러한 기본적인 개념들을 이해하면 각도에 대한 다양한 문제를 풀 때 도움이 될 것입니다!\n"
     ]
    },
    {
     "data": {
      "image/svg+xml": [
       "<svg xmlns=\"http://www.w3.org/2000/svg\" width=\"500\" height=\"375\">\n",
       "    <text x=\"250\" y=\"50\" font-size=\"25\" text-anchor=\"middle\">각</text>\n",
       "    <!-- 기준선 -->\n",
       "    <line x1=\"125\" y1=\"333\" x2=\"375\" y2=\"333\" stroke=\"black\" stroke-width=\"2\"/>\n",
       "    <!-- 기울어진 선 -->\n",
       "    <line x1=\"125\" y1=\"333\" x2=\"324.6588775118232\" y2=\"182.54624421198793\" stroke=\"black\" stroke-width=\"2\"/>\n",
       "    <!-- 각도 호 -->\n",
       "    <path d=\"M 164.93177550236464,302.9092488423976 A 50,50 0 0,1 175,333\" stroke=\"black\" stroke-width=\"2\" fill=\"none\"/>\n",
       "    </svg>"
      ],
      "text/plain": [
       "<IPython.core.display.SVG object>"
      ]
     },
     "metadata": {},
     "output_type": "display_data"
    },
    {
     "name": "stdout",
     "output_type": "stream",
     "text": [
      "====================================================================================================\n",
      "요청한 문장: 직각을 표현해줘\n",
      "추출된 개념: Right Angle\n",
      "추출된 인자: {}\n",
      "\n",
      "생성된 코드:\n",
      " <svg width=\"500\" height=\"500\" xmlns=\"http://www.w3.org/2000/svg\">\n",
      "    <text x=\"250\" y=\"50\" font-size=\"25\" text-anchor=\"middle\">직각</text>\n",
      "    <!-- 기준선 -->\n",
      "    <line x1=\"125\" y1=\"400\" x2=\"458\" y2=\"400\" stroke=\"black\" stroke-width=\"2\" />\n",
      "    <!-- 기울어진 선 -->\n",
      "    <line x1=\"125\" y1=\"400\" x2=\"125\" y2=\"67\" stroke=\"black\" stroke-width=\"2\" />\n",
      "    <!-- 직각 보조선 -->\n",
      "    <line x1=\"175\" y1=\"400\" x2=\"175\" y2=\"350\" stroke=\"black\" stroke-width=\"2\" />\n",
      "    <line x1=\"125\" y1=\"350\" x2=\"175\" y2=\"350\" stroke=\"black\" stroke-width=\"2\" />\n",
      "    </svg>\n",
      "    \n",
      "\n",
      "생성된 설명:\n",
      " ### Right Angle\n",
      "\n",
      "**정의:**\n",
      "Right Angle은 기하학에서 가장 기본적인 각도 중 하나로, 정확히 90도를 이루는 각도를 말합니다. 이 각도는 직각이라고도 불리며, 직선이나 특정 도형의 모서리에서 만나는 두 변이 서로 수직으로 만나는 경우에 나타납니다.\n",
      "\n",
      "**기본 성질:**\n",
      "1. **크기:** Right Angle은 항상 정확히 90도입니다. 이는 모든 Right Angle이 동일한 크기를 가짐을 의미합니다.\n",
      "2. **모양:** Right Angle은 보통 'L' 모양으로 쉽게 인식할 수 있습니다. 이 모양은 직각을 나타내는 데 자주 사용됩니다.\n",
      "3. **도형과의 관계:** 직각은 사각형, 직사각형, 정사각형 등 다양한 도형의 모서리에서 발견됩니다. 특히, 직사각형이나 정사각형은 네 개의 Right Angle을 가지고 있습니다.\n",
      "4. **삼각형과의 연관성:** 직각삼각형은 한 내각이 정확히 Right Angle인 삼각형을 의미합니다. 이 삼각형은 세 변의 길이 관계를 통해 피타고라스 정리를 적용할 수 있습니다.\n",
      "\n",
      "이러한 성질들로 인해 Right Angle은 수학에서 매우 중요한 개념으로 자리잡고 있습니다!\n"
     ]
    },
    {
     "data": {
      "image/svg+xml": [
       "<svg xmlns=\"http://www.w3.org/2000/svg\" width=\"500\" height=\"500\">\n",
       "    <text x=\"250\" y=\"50\" font-size=\"25\" text-anchor=\"middle\">직각</text>\n",
       "    <!-- 기준선 -->\n",
       "    <line x1=\"125\" y1=\"400\" x2=\"458\" y2=\"400\" stroke=\"black\" stroke-width=\"2\"/>\n",
       "    <!-- 기울어진 선 -->\n",
       "    <line x1=\"125\" y1=\"400\" x2=\"125\" y2=\"67\" stroke=\"black\" stroke-width=\"2\"/>\n",
       "    <!-- 직각 보조선 -->\n",
       "    <line x1=\"175\" y1=\"400\" x2=\"175\" y2=\"350\" stroke=\"black\" stroke-width=\"2\"/>\n",
       "    <line x1=\"125\" y1=\"350\" x2=\"175\" y2=\"350\" stroke=\"black\" stroke-width=\"2\"/>\n",
       "    </svg>"
      ],
      "text/plain": [
       "<IPython.core.display.SVG object>"
      ]
     },
     "metadata": {},
     "output_type": "display_data"
    },
    {
     "name": "stdout",
     "output_type": "stream",
     "text": [
      "====================================================================================================\n",
      "요청한 문장: 밑변이 3이고, 높이가 4인 직각삼각형 하나를 그려줘\n",
      "추출된 개념: Right Triangle\n",
      "추출된 인자: {'base': 3, 'height': 4}\n",
      "\n",
      "생성된 코드:\n",
      " <svg width=\"500\" height=\"500\" xmlns=\"http://www.w3.org/2000/svg\">\n",
      "    <text x=\"250\" y=\"50\" font-size=\"25\" text-anchor=\"middle\">직각삼각형</text>\n",
      "    <!-- 직각삼각형 -->\n",
      "    <line x1=\"83\" y1=\"416\" x2=\"308\" y2=\"416\" stroke=\"black\" stroke-width=\"2\" />\n",
      "    <line x1=\"308\" y1=\"416\" x2=\"308\" y2=\"166\" stroke=\"black\" stroke-width=\"2\" />\n",
      "    <line x1=\"83\" y1=\"416\" x2=\"308\" y2=\"166\" stroke=\"black\" stroke-width=\"2\" />\n",
      "    <!-- 직각 보조선 -->\n",
      "    <line x1=\"286\" y1=\"416\" x2=\"286\" y2=\"394\" stroke=\"black\" stroke-width=\"2\" />\n",
      "    <line x1=\"286\" y1=\"394\" x2=\"308\" y2=\"394\" stroke=\"black\" stroke-width=\"2\" />\n",
      "    </svg>\n",
      "    \n",
      "\n",
      "생성된 설명:\n",
      " ### Right Triangle\n",
      "\n",
      "**정의:**\n",
      "A right triangle is a special type of triangle that has one angle which measures exactly 90 degrees (a right angle). This unique angle distinguishes it from other triangles where all angles are less than 90 degrees.\n",
      "\n",
      "**기본 성질:**\n",
      "1. **한 각이 직각:** 가장 중요한 특징은 한 꼭짓점에서 직각(90°)을 이루는 것입니다.\n",
      "2. **직각을 중심으로 두 개의 다른 각:** 나머지 두 각은 합쳐 90도가 됩니다. 따라서 이 두 각은 서로 보완각(complementary angles)입니다.\n",
      "3. **피타고라스 정리 적용 가능:** 직각 삼각형에서는 가장 긴 변을 빗변(hypotenuse)이라고 부르며, 이 빗변의 길이는 다른 두 변(직각을 이루는 두 변을 밑변과 높이라고도 부릅니다)의 길이와 특별한 관계를 가집니다. 이 관계는 피타고라스 정리로 표현되는데, 수학적으로는 \\(a^2 + b^2 = c^2\\) 입니다 (여기서 \\(c\\)는 빗변의 길이이고, \\(a\\)와 \\(b\\)는 다른 두 변의 길이입니다). 하지만 문제 해결을 위해 직접적인 공식보다는 이 관계를 이해하는 것이 중요합니다.\n",
      "4. **삼각형의 종류:** 직각 삼각형은 그 각도에 따라 다양한 종류로 나눌 수 있습니다. 예를 들어, 모든 변의 길이가 정수인 직각 삼각형을 피타고라스 삼각형이라고 부르기도 합니다.\n",
      "\n",
      "이런 특징들로 인해 직각 삼각형은 건축, 공학, 그리고 다양한 실생활 문제 해결에서 매우 중요한 역할을 합니다!\n",
      "\n",
      "생성된 공식 raw:\n",
      " {'perimeter': '밑변 + 높이 + 빗변', 'area': '밑변 × 높이 ÷ 2'}\n"
     ]
    },
    {
     "data": {
      "text/latex": [
       "$\\displaystyle 밑변 + 높이 + 빗변$"
      ],
      "text/plain": [
       "<IPython.core.display.Math object>"
      ]
     },
     "metadata": {},
     "output_type": "display_data"
    },
    {
     "data": {
      "text/latex": [
       "$\\displaystyle 밑변 × 높이 ÷ 2$"
      ],
      "text/plain": [
       "<IPython.core.display.Math object>"
      ]
     },
     "metadata": {},
     "output_type": "display_data"
    },
    {
     "data": {
      "image/svg+xml": [
       "<svg xmlns=\"http://www.w3.org/2000/svg\" width=\"500\" height=\"500\">\n",
       "    <text x=\"250\" y=\"50\" font-size=\"25\" text-anchor=\"middle\">직각삼각형</text>\n",
       "    <!-- 직각삼각형 -->\n",
       "    <line x1=\"83\" y1=\"416\" x2=\"308\" y2=\"416\" stroke=\"black\" stroke-width=\"2\"/>\n",
       "    <line x1=\"308\" y1=\"416\" x2=\"308\" y2=\"166\" stroke=\"black\" stroke-width=\"2\"/>\n",
       "    <line x1=\"83\" y1=\"416\" x2=\"308\" y2=\"166\" stroke=\"black\" stroke-width=\"2\"/>\n",
       "    <!-- 직각 보조선 -->\n",
       "    <line x1=\"286\" y1=\"416\" x2=\"286\" y2=\"394\" stroke=\"black\" stroke-width=\"2\"/>\n",
       "    <line x1=\"286\" y1=\"394\" x2=\"308\" y2=\"394\" stroke=\"black\" stroke-width=\"2\"/>\n",
       "    </svg>"
      ],
      "text/plain": [
       "<IPython.core.display.SVG object>"
      ]
     },
     "metadata": {},
     "output_type": "display_data"
    },
    {
     "name": "stdout",
     "output_type": "stream",
     "text": [
      "====================================================================================================\n",
      "요청한 문장: 가로가 5, 세로가 3인 직사각형의 넓이\n",
      "추출된 개념: Rectangle\n",
      "추출된 인자: {'width': 5, 'height': 3}\n",
      "\n",
      "생성된 코드:\n",
      " <svg width=\"500\" height=\"312\" xmlns=\"http://www.w3.org/2000/svg\">\n",
      "    <text x=\"250\" y=\"50\" font-size=\"25\" text-anchor=\"middle\">직사각형</text>\n",
      "    <rect x=\"100\" y=\"100\" width=\"250\" height=\"150\" stroke=\"black\" stroke-width=\"2\" fill=\"none\" />\n",
      "    </svg>\n",
      "\n",
      "생성된 설명:\n",
      " ### Rectangle 설명\n",
      "\n",
      "**정의:**\n",
      "사각형은 네 개의 직선으로 둘러싸인 평면 도형으로, 각 내각이 직각(90도)인 특징을 가지고 있습니다. 즉, 사각형의 네 모서리는 모두 직각을 이루며, 대변이 평행하고 길이가 같은 특성을 갖습니다.\n",
      "\n",
      "**기본 성질:**\n",
      "1. **대변의 길이가 같음:** 사각형의 두 쌍의 대변은 길이가 동일합니다. 예를 들어, 가로와 세로가 같은 길이를 가집니다.\n",
      "2. **대각선이 서로 같음:** 사각형의 두 대각선은 길이가 같습니다. 즉, 사각형을 두 개의 동일한 삼각형으로 나눌 수 있습니다.\n",
      "3. **내각의 합:** 사각형의 네 내각의 합은 항상 360도입니다.\n",
      "4. **변의 배열:** 사각형은 여러 가지 형태로 배열될 수 있습니다. 예를 들어, 직사각형은 가로와 세로가 각각 다른 길이를 가질 수 있으며, 정사각형은 모든 변의 길이가 같고 모든 내각이 직각인 특별한 형태의 사각형입니다.\n",
      "\n",
      "이러한 성질들로 인해 사각형은 우리 일상생활에서 매우 흔하게 볼 수 있는 도형입니다!\n",
      "\n",
      "생성된 공식 raw:\n",
      " {'perimeter': '2 × (밑변 + 높이)', 'area': '밑변 × 높이'}\n"
     ]
    },
    {
     "data": {
      "text/latex": [
       "$\\displaystyle 2 × (밑변 + 높이)$"
      ],
      "text/plain": [
       "<IPython.core.display.Math object>"
      ]
     },
     "metadata": {},
     "output_type": "display_data"
    },
    {
     "data": {
      "text/latex": [
       "$\\displaystyle 밑변 × 높이$"
      ],
      "text/plain": [
       "<IPython.core.display.Math object>"
      ]
     },
     "metadata": {},
     "output_type": "display_data"
    },
    {
     "data": {
      "image/svg+xml": [
       "<svg xmlns=\"http://www.w3.org/2000/svg\" width=\"500\" height=\"312\">\n",
       "    <text x=\"250\" y=\"50\" font-size=\"25\" text-anchor=\"middle\">직사각형</text>\n",
       "    <rect x=\"100\" y=\"100\" width=\"250\" height=\"150\" stroke=\"black\" stroke-width=\"2\" fill=\"none\"/>\n",
       "    </svg>"
      ],
      "text/plain": [
       "<IPython.core.display.SVG object>"
      ]
     },
     "metadata": {},
     "output_type": "display_data"
    },
    {
     "name": "stdout",
     "output_type": "stream",
     "text": [
      "====================================================================================================\n",
      "요청한 문장: 한 변의 길이가 2인 정사각형 하나를 그려줘\n",
      "추출된 개념: Square\n",
      "추출된 인자: {'length': 2}\n",
      "\n",
      "생성된 코드:\n",
      " <svg width=\"500\" height=\"500\" xmlns=\"http://www.w3.org/2000/svg\">\n",
      "    <text x=\"250\" y=\"50\" font-size=\"25\" text-anchor=\"middle\">정사각형</text>\n",
      "    <rect x=\"100\" y=\"100\" width=\"200\" height=\"200\" stroke=\"black\" stroke-width=\"2\" fill=\"none\" />\n",
      "    </svg>\n",
      "\n",
      "생성된 설명:\n",
      " ### Square\n",
      "\n",
      "**정의:**\n",
      "사각형은 네 개의 변으로 이루어진 평면 도형입니다. 모든 내각이 직각(90도)이며, 반대편의 변들이 길이가 같아서 마주보는 두 변은 평행하고 길이가 동일합니다.\n",
      "\n",
      "**기본 성질:**\n",
      "1. **대변의 길이 동일:** 사각형의 마주보는 두 변은 길이가 같습니다. 예를 들어, 정사각형이나 직사각형에서는 모든 대변이 같은 길이를 가집니다.\n",
      "2. **대각선의 성질:** 사각형의 대각선은 서로를 반으로 나눕니다. 즉, 대각선이 만나는 점에서 대각선을 잇는 선분들은 서로를 절반으로 나눕니다.\n",
      "3. **변의 합:** 사각형의 네 변의 길이를 모두 더하면, 그 합은 사각형의 둘레를 나타냅니다. 예를 들어, 한 변의 길이가 \\(a\\)이고 다른 변의 길이가 \\(b\\)라면, 둘레는 \\(a + b + a + b = 2(a + b)\\)가 됩니다.\n",
      "4. **정사각형의 특징:** 정사각형은 모든 변의 길이가 같고 모든 내각이 직각인 특별한 사각형입니다. 모든 대각선도 길이가 같고 서로를 직각으로 이룹니다.\n",
      "\n",
      "이러한 성질들로 인해 사각형은 다양한 형태와 크기로 존재하며, 건축, 디자인, 그리고 일상생활에서 자주 볼 수 있는 도형입니다!\n",
      "\n",
      "생성된 공식 raw:\n",
      " {'perimeter': '4 \\\\times \\\\mathrm{한 변의 길이}', 'area': '\\\\mathrm{한 변의 길이} \\\\times \\\\mathrm{한 변의 길이}'}\n"
     ]
    },
    {
     "data": {
      "text/latex": [
       "$\\displaystyle 4 \\times \\mathrm{한 변의 길이}$"
      ],
      "text/plain": [
       "<IPython.core.display.Math object>"
      ]
     },
     "metadata": {},
     "output_type": "display_data"
    },
    {
     "data": {
      "text/latex": [
       "$\\displaystyle \\mathrm{한 변의 길이} \\times \\mathrm{한 변의 길이}$"
      ],
      "text/plain": [
       "<IPython.core.display.Math object>"
      ]
     },
     "metadata": {},
     "output_type": "display_data"
    },
    {
     "data": {
      "image/svg+xml": [
       "<svg xmlns=\"http://www.w3.org/2000/svg\" width=\"500\" height=\"500\">\n",
       "    <text x=\"250\" y=\"50\" font-size=\"25\" text-anchor=\"middle\">정사각형</text>\n",
       "    <rect x=\"100\" y=\"100\" width=\"200\" height=\"200\" stroke=\"black\" stroke-width=\"2\" fill=\"none\"/>\n",
       "    </svg>"
      ],
      "text/plain": [
       "<IPython.core.display.SVG object>"
      ]
     },
     "metadata": {},
     "output_type": "display_data"
    },
    {
     "name": "stdout",
     "output_type": "stream",
     "text": [
      "====================================================================================================\n",
      "요청한 문장: 곧은선이 뭐야?\n",
      "추출된 개념: 직선\n",
      "추출된 인자: {}\n",
      "\n",
      "생성된 코드:\n",
      " <svg width=\"500\" height=\"500\" xmlns=\"http://www.w3.org/2000/svg\">\n",
      "    <text x=\"250\" y=\"25\" font-size=\"25\" text-anchor=\"middle\">곧은선</text>\n",
      "    <text x=\"250\" y=\"75\" font-size=\"25\" text-anchor=\"middle\">선분</text>\n",
      "    <!-- 선분 -->\n",
      "    <circle cx=\"125\" cy=\"125\" r=\"1\" stroke=\"black\" stroke-width=\"2\" fill=\"black\" />\n",
      "    <circle cx=\"375\" cy=\"125\" r=\"1\" stroke=\"black\" stroke-width=\"2\" fill=\"black\" />\n",
      "    <line x1=\"125\" y1=\"125\" x2=\"375\" y2=\"125\" stroke=\"black\" stroke-width=\"2\" />\n",
      "    <!-- 반직선 -->\n",
      "    <text x=\"250\" y=\"175\" font-size=\"25\" text-anchor=\"middle\">반직선</text>\n",
      "    <circle cx=\"125\" cy=\"250\" r=\"1\" stroke=\"black\" stroke-width=\"2\" fill=\"black\" />\n",
      "    <circle cx=\"375\" cy=\"250\" r=\"1\" stroke=\"black\" stroke-width=\"2\" fill=\"black\" />\n",
      "    <line x1=\"125\" y1=\"250\" x2=\"500\" y2=\"250\" stroke=\"black\" stroke-width=\"2\" />\n",
      "    <!-- 직선 -->\n",
      "    <text x=\"250\" y=\"300\" font-size=\"25\" text-anchor=\"middle\">직선</text>\n",
      "    <circle cx=\"125\" cy=\"375\" r=\"1\" stroke=\"black\" stroke-width=\"2\" fill=\"black\" />\n",
      "    <circle cx=\"375\" cy=\"375\" r=\"1\" stroke=\"black\" stroke-width=\"2\" fill=\"black\" />\n",
      "    <line x1=\"0\" y1=\"375\" x2=\"500\" y2=\"375\" stroke=\"black\" stroke-width=\"2\" />\n",
      "    </svg>\n",
      "    \n",
      "\n",
      "생성된 설명:\n",
      " ### 직선에 대한 설명\n",
      "\n",
      "#### 정의\n",
      "직선은 평면 위에서 가장 짧은 거리로 두 점을 연결하는 선을 말합니다. 이 선은 양쪽으로 무한히 계속되며, 방향이 항상 일정합니다. 직선 위의 모든 점들은 서로 평행하게 연결되어 있어, 어떤 방향으로든 뻗어나갈 수 있습니다.\n",
      "\n",
      "#### 기본 성질\n",
      "1. **무한한 길이**: 직선은 양쪽으로 무한히 이어집니다. 즉, 시작점에서 끝점까지의 거리가 아무리 길어도 계속해서 뻗어나갈 수 있습니다.\n",
      "2. **평행한 선들**: 같은 방향으로 무한히 뻗어나가는 두 직선은 서로 평행합니다. 반대로, 서로 다른 방향으로 무한히 뻗어나가는 두 직선은 교차하지 않습니다.\n",
      "3. **직선 위의 점들**: 직선 위의 모든 점들은 서로 연결되어 있어, 어떤 두 점을 잇는 선분은 항상 직선의 일부분입니다.\n",
      "4. **직선의 대칭성**: 직선을 기준으로 대칭인 두 부분은 서로 완전히 일치합니다. 예를 들어, 한 점을 기준으로 대칭인 두 점은 직선 양쪽에 동일한 거리에 위치합니다.\n",
      "\n",
      "이러한 성질들로 인해 직선은 기하학에서 매우 중요한 개념으로 사용됩니다!\n"
     ]
    },
    {
     "data": {
      "image/svg+xml": [
       "<svg xmlns=\"http://www.w3.org/2000/svg\" width=\"500\" height=\"500\">\n",
       "    <text x=\"250\" y=\"25\" font-size=\"25\" text-anchor=\"middle\">곧은선</text>\n",
       "    <text x=\"250\" y=\"75\" font-size=\"25\" text-anchor=\"middle\">선분</text>\n",
       "    <!-- 선분 -->\n",
       "    <circle cx=\"125\" cy=\"125\" r=\"1\" stroke=\"black\" stroke-width=\"2\" fill=\"black\"/>\n",
       "    <circle cx=\"375\" cy=\"125\" r=\"1\" stroke=\"black\" stroke-width=\"2\" fill=\"black\"/>\n",
       "    <line x1=\"125\" y1=\"125\" x2=\"375\" y2=\"125\" stroke=\"black\" stroke-width=\"2\"/>\n",
       "    <!-- 반직선 -->\n",
       "    <text x=\"250\" y=\"175\" font-size=\"25\" text-anchor=\"middle\">반직선</text>\n",
       "    <circle cx=\"125\" cy=\"250\" r=\"1\" stroke=\"black\" stroke-width=\"2\" fill=\"black\"/>\n",
       "    <circle cx=\"375\" cy=\"250\" r=\"1\" stroke=\"black\" stroke-width=\"2\" fill=\"black\"/>\n",
       "    <line x1=\"125\" y1=\"250\" x2=\"500\" y2=\"250\" stroke=\"black\" stroke-width=\"2\"/>\n",
       "    <!-- 직선 -->\n",
       "    <text x=\"250\" y=\"300\" font-size=\"25\" text-anchor=\"middle\">직선</text>\n",
       "    <circle cx=\"125\" cy=\"375\" r=\"1\" stroke=\"black\" stroke-width=\"2\" fill=\"black\"/>\n",
       "    <circle cx=\"375\" cy=\"375\" r=\"1\" stroke=\"black\" stroke-width=\"2\" fill=\"black\"/>\n",
       "    <line x1=\"0\" y1=\"375\" x2=\"500\" y2=\"375\" stroke=\"black\" stroke-width=\"2\"/>\n",
       "    </svg>"
      ],
      "text/plain": [
       "<IPython.core.display.SVG object>"
      ]
     },
     "metadata": {},
     "output_type": "display_data"
    },
    {
     "name": "stdout",
     "output_type": "stream",
     "text": [
      "====================================================================================================\n",
      "요청한 문장: 대표적인 굽은선을 그려줘\n",
      "추출된 개념: 곡선\n",
      "추출된 인자: {'type': '타원', 'description': '타원은 가장 대표적인 굽은선의 한 종류로, 두 초점 사이의 거리의 합이 일정한 점들의 집합으로 정의됩니다.'}\n",
      "\n",
      "생성된 코드:\n",
      " \n",
      "    <svg width=\"500\" height=\"500\" xmlns=\"http://www.w3.org/2000/svg\">\n",
      "    <text x=\"250\" y=\"50\" font-size=\"25\" text-anchor=\"middle\">굽은선</text>\n",
      "    <!-- 복잡한 S자 곡선 (두 개의 Cubic Bézier) -->\n",
      "    <path d=\"M 100,400\n",
      "    C 100,100 400,100 400,250\n",
      "    C 400,400 100,400 100,100\"\n",
      "    stroke=\"black\" fill=\"none\" stroke-width=\"2\"/>\n",
      "    </svg>\n",
      "    \n",
      "\n",
      "생성된 설명:\n",
      " ### 곡선에 대한 설명\n",
      "\n",
      "**정의:**\n",
      "곡선은 직선이 아닌, 연속적으로 이어지는 점들의 모임으로 이루어진 도형입니다. 쉽게 말해, 직선처럼 일정한 방향으로만 움직이는 것이 아니라, 부드럽게 휘어지거나 굽어지는 형태를 가진 선을 말합니다.\n",
      "\n",
      "**기본 성질:**\n",
      "1. **연속성:** 곡선 위의 모든 점들은 부드럽게 이어져 있어, 어떤 작은 구간에서도 끊어지지 않고 이어집니다.\n",
      "2. **길이:** 곡선의 길이는 그 곡선을 따라 측정한 총 거리입니다. 이 길이는 곡선의 모양에 따라 달라집니다. 예를 들어, 원의 둘레는 반지름에 따라 결정되며, 이는 곡선의 길이를 정확히 계산하는 방법 중 하나입니다.\n",
      "3. **곡률:** 곡선이 얼마나 빠르게 방향을 바꾸는지를 나타내는 값입니다. 곡률이 크면 곡선이 더 급하게 굽어지고, 작으면 더 부드럽게 굽어집니다. 예를 들어, 원의 경우 모든 점에서 곡률이 일정합니다.\n",
      "4. **접선:** 곡선 위의 어떤 점에서 그 점을 지나는 가장 가까운 직선을 접선이라고 합니다. 이 접선은 그 점에서 곡선의 방향을 가장 잘 나타냅니다.\n",
      "\n",
      "이러한 성질들 덕분에 곡선은 자연 현상이나 공학적 설계 등 다양한 분야에서 중요한 역할을 합니다.\n"
     ]
    },
    {
     "data": {
      "image/svg+xml": [
       "<svg xmlns=\"http://www.w3.org/2000/svg\" width=\"500\" height=\"500\">\n",
       "    <text x=\"250\" y=\"50\" font-size=\"25\" text-anchor=\"middle\">굽은선</text>\n",
       "    <!-- 복잡한 S자 곡선 (두 개의 Cubic Bézier) -->\n",
       "    <path d=\"M 100,400     C 100,100 400,100 400,250     C 400,400 100,400 100,100\" stroke=\"black\" fill=\"none\" stroke-width=\"2\"/>\n",
       "    </svg>"
      ],
      "text/plain": [
       "<IPython.core.display.SVG object>"
      ]
     },
     "metadata": {},
     "output_type": "display_data"
    },
    {
     "name": "stdout",
     "output_type": "stream",
     "text": [
      "====================================================================================================\n",
      "요청한 문장: 중심이 (0,0)이고 반지름이 2인 원을 그려주세요.\n",
      "추출된 개념: Circle\n",
      "추출된 인자: {'radius': 2}\n",
      "\n",
      "생성된 코드:\n",
      " <svg width=\"500\" height=\"500\" xmlns=\"http://www.w3.org/2000/svg\">\n",
      "    <text x=\"250\" y=\"50\" font-size=\"25\" text-anchor=\"middle\">원</text>\n",
      "    <circle cx=\"250\" cy=\"250\" r=\"100\" stroke=\"black\" stroke-width=\"2\" fill=\"none\" />\n",
      "    <circle cx=\"250\" cy=\"250\" r=\"1\" stroke=\"black\" stroke-width=\"2\" fill=\"black\" />\n",
      "    <line x1=\"250\" y1=\"250\" x2=\"350\" y2=\"250\" stroke=\"black\" stroke-width=\"2\" />\n",
      "    </svg>\n",
      "    \n",
      "\n",
      "생성된 설명:\n",
      " ### Circle (원)\n",
      "\n",
      "#### 정의:\n",
      "원은 평면 위에서 한 점(중심)으로부터 일정한 거리(반지름)에 있는 모든 점들의 집합을 말합니다. 이 중심점을 기준으로 원 위의 모든 점들은 동일한 거리에 위치해 있습니다.\n",
      "\n",
      "#### 기본 성질:\n",
      "1. **둘레와 지름**: 원의 둘레는 지름에 π(약 3.14)를 곱한 값입니다. 즉, 둘레 = 지름 × π 입니다. 반대로 지름은 둘레를 π로 나누면 구할 수 있습니다.\n",
      "   \n",
      "2. **면적**: 원의 면적은 반지름의 제곱에 π를 곱한 값입니다. 공식으로 표현하면 면적 = π × 반지름2 입니다.\n",
      "\n",
      "3. **대칭성**: 원은 중심을 기준으로 완벽하게 대칭입니다. 즉, 중심을 지나는 어떤 직선을 기준으로 원을 접어도 양쪽이 완전히 일치합니다.\n",
      "\n",
      "4. **원주각과 호의 관계**: 원 위의 두 점을 잇는 호의 중앙각은 그 호에 대응하는 원주각의 두 배입니다. 예를 들어, 호의 중앙각이 θ라면 원주각은 θ/2가 됩니다.\n",
      "\n",
      "이러한 성질들로 인해 원은 기하학에서 매우 중요한 역할을 합니다. 다양한 도형과 문제 해결에 활용되며, 일상생활에서도 자주 접하게 되는 개념입니다.\n",
      "\n",
      "생성된 공식 raw:\n",
      " {'perimeter': '2 \\\\times 3.14 \\\\times 반지름', 'area': '3.14 \\\\times 반지름 \\\\times 반지름'}\n"
     ]
    },
    {
     "data": {
      "text/latex": [
       "$\\displaystyle 2 \\times 3.14 \\times 반지름$"
      ],
      "text/plain": [
       "<IPython.core.display.Math object>"
      ]
     },
     "metadata": {},
     "output_type": "display_data"
    },
    {
     "data": {
      "text/latex": [
       "$\\displaystyle 3.14 \\times 반지름 \\times 반지름$"
      ],
      "text/plain": [
       "<IPython.core.display.Math object>"
      ]
     },
     "metadata": {},
     "output_type": "display_data"
    },
    {
     "data": {
      "image/svg+xml": [
       "<svg xmlns=\"http://www.w3.org/2000/svg\" width=\"500\" height=\"500\">\n",
       "    <text x=\"250\" y=\"50\" font-size=\"25\" text-anchor=\"middle\">원</text>\n",
       "    <circle cx=\"250\" cy=\"250\" r=\"100\" stroke=\"black\" stroke-width=\"2\" fill=\"none\"/>\n",
       "    <circle cx=\"250\" cy=\"250\" r=\"1\" stroke=\"black\" stroke-width=\"2\" fill=\"black\"/>\n",
       "    <line x1=\"250\" y1=\"250\" x2=\"350\" y2=\"250\" stroke=\"black\" stroke-width=\"2\"/>\n",
       "    </svg>"
      ],
      "text/plain": [
       "<IPython.core.display.SVG object>"
      ]
     },
     "metadata": {},
     "output_type": "display_data"
    },
    {
     "name": "stdout",
     "output_type": "stream",
     "text": [
      "====================================================================================================\n",
      "요청한 문장: 37° 각도를 그려줘\n",
      "추출된 개념: 각도\n",
      "추출된 인자: {'size': 37}\n",
      "\n",
      "생성된 코드:\n",
      " <svg width=\"500\" height=\"375\" xmlns=\"http://www.w3.org/2000/svg\">\n",
      "    <text x=\"250\" y=\"50\" font-size=\"25\" text-anchor=\"middle\">각</text>\n",
      "    <!-- 기준선 -->\n",
      "    <line x1=\"125\" y1=\"333\" x2=\"375\" y2=\"333\" stroke=\"black\" stroke-width=\"2\" />\n",
      "    <!-- 기울어진 선 -->\n",
      "    <line x1=\"125\" y1=\"333\" x2=\"324.6588775118232\" y2=\"182.54624421198793\" stroke=\"black\" stroke-width=\"2\" />\n",
      "    <!-- 각도 호 -->\n",
      "    <path d=\"M 164.93177550236464,302.9092488423976 A 50,50 0 0,1 175,333\" stroke=\"black\" stroke-width=\"2\" fill=\"none\"/>\n",
      "    </svg>\n",
      "    \n",
      "\n",
      "생성된 설명:\n",
      " ### 각도에 대한 설명\n",
      "\n",
      "**정의:**\n",
      "각도는 두 직선이나 선분이 만나서 생기는 공간의 크기를 측정하는 방법입니다. 우리가 일상에서 자주 접하는 각도는 주로 도로 표지판에서 볼 수 있는 방향 지시나, 그림에서 선들이 만나는 부분을 표현할 때 사용됩니다.\n",
      "\n",
      "**기본 성질:**\n",
      "1. **직선의 각도:** 직선은 정확히 180도의 각도를 가집니다. 직선은 두 방향으로 무한히 이어지는 것처럼 보이지만, 실제로는 시작점과 끝점이 있습니다.\n",
      "   \n",
      "2. **직각 각도:** 직각은 90도를 의미합니다. 이는 우리가 흔히 사용하는 'L'자 모양의 모서리나 사각형의 모서리에서 볼 수 있습니다. 직각은 두 직선이 서로 수직으로 만나는 경우에 생깁니다.\n",
      "\n",
      "3. **평행선과 각도:** 평행한 두 직선은 만나지 않기 때문에, 그들 사이의 각도는 항상 같습니다. 예를 들어, 두 평행선 위에 그려진 삼각형의 한 각은 다른 각과 크기가 동일합니다.\n",
      "\n",
      "4. **복합 각도:** 여러 각도를 합쳐서 더 큰 각도를 만들 수 있습니다. 예를 들어, 두 개의 직각 각도를 합치면 180도가 됩니다.\n",
      "\n",
      "이러한 기본적인 개념들을 이해하면 각도에 대한 다양한 문제를 풀 때 도움이 될 것입니다!\n"
     ]
    },
    {
     "data": {
      "image/svg+xml": [
       "<svg xmlns=\"http://www.w3.org/2000/svg\" width=\"500\" height=\"375\">\n",
       "    <text x=\"250\" y=\"50\" font-size=\"25\" text-anchor=\"middle\">각</text>\n",
       "    <!-- 기준선 -->\n",
       "    <line x1=\"125\" y1=\"333\" x2=\"375\" y2=\"333\" stroke=\"black\" stroke-width=\"2\"/>\n",
       "    <!-- 기울어진 선 -->\n",
       "    <line x1=\"125\" y1=\"333\" x2=\"324.6588775118232\" y2=\"182.54624421198793\" stroke=\"black\" stroke-width=\"2\"/>\n",
       "    <!-- 각도 호 -->\n",
       "    <path d=\"M 164.93177550236464,302.9092488423976 A 50,50 0 0,1 175,333\" stroke=\"black\" stroke-width=\"2\" fill=\"none\"/>\n",
       "    </svg>"
      ],
      "text/plain": [
       "<IPython.core.display.SVG object>"
      ]
     },
     "metadata": {},
     "output_type": "display_data"
    },
    {
     "name": "stdout",
     "output_type": "stream",
     "text": [
      "====================================================================================================\n",
      "요청한 문장: 직각을 표현해줘\n",
      "추출된 개념: Right Angle\n",
      "추출된 인자: {}\n",
      "\n",
      "생성된 코드:\n",
      " <svg width=\"500\" height=\"500\" xmlns=\"http://www.w3.org/2000/svg\">\n",
      "    <text x=\"250\" y=\"50\" font-size=\"25\" text-anchor=\"middle\">직각</text>\n",
      "    <!-- 기준선 -->\n",
      "    <line x1=\"125\" y1=\"400\" x2=\"458\" y2=\"400\" stroke=\"black\" stroke-width=\"2\" />\n",
      "    <!-- 기울어진 선 -->\n",
      "    <line x1=\"125\" y1=\"400\" x2=\"125\" y2=\"67\" stroke=\"black\" stroke-width=\"2\" />\n",
      "    <!-- 직각 보조선 -->\n",
      "    <line x1=\"175\" y1=\"400\" x2=\"175\" y2=\"350\" stroke=\"black\" stroke-width=\"2\" />\n",
      "    <line x1=\"125\" y1=\"350\" x2=\"175\" y2=\"350\" stroke=\"black\" stroke-width=\"2\" />\n",
      "    </svg>\n",
      "    \n",
      "\n",
      "생성된 설명:\n",
      " ### Right Angle\n",
      "\n",
      "**정의:**\n",
      "Right Angle은 기하학에서 가장 기본적인 각도 중 하나로, 정확히 90도를 이루는 각도를 말합니다. 이 각도는 직각이라고도 불리며, 직선이나 특정 도형의 모서리에서 만나는 두 변이 서로 수직으로 만나는 경우에 나타납니다.\n",
      "\n",
      "**기본 성질:**\n",
      "1. **크기:** Right Angle은 항상 정확히 90도입니다. 이는 모든 Right Angle이 동일한 크기를 가짐을 의미합니다.\n",
      "2. **모양:** Right Angle은 보통 'L' 모양으로 쉽게 인식할 수 있습니다. 이 모양은 직각을 나타내는 데 자주 사용됩니다.\n",
      "3. **도형과의 관계:** 직각은 사각형, 직사각형, 정사각형 등 다양한 도형의 모서리에서 발견됩니다. 특히, 직사각형이나 정사각형은 네 개의 Right Angle을 가지고 있습니다.\n",
      "4. **삼각형과의 연관성:** 직각삼각형은 한 내각이 정확히 Right Angle인 삼각형을 의미합니다. 이 삼각형은 세 변의 길이 관계를 통해 피타고라스 정리를 적용할 수 있습니다.\n",
      "\n",
      "이러한 성질들로 인해 Right Angle은 수학에서 매우 중요한 개념으로 자리잡고 있습니다!\n"
     ]
    },
    {
     "data": {
      "image/svg+xml": [
       "<svg xmlns=\"http://www.w3.org/2000/svg\" width=\"500\" height=\"500\">\n",
       "    <text x=\"250\" y=\"50\" font-size=\"25\" text-anchor=\"middle\">직각</text>\n",
       "    <!-- 기준선 -->\n",
       "    <line x1=\"125\" y1=\"400\" x2=\"458\" y2=\"400\" stroke=\"black\" stroke-width=\"2\"/>\n",
       "    <!-- 기울어진 선 -->\n",
       "    <line x1=\"125\" y1=\"400\" x2=\"125\" y2=\"67\" stroke=\"black\" stroke-width=\"2\"/>\n",
       "    <!-- 직각 보조선 -->\n",
       "    <line x1=\"175\" y1=\"400\" x2=\"175\" y2=\"350\" stroke=\"black\" stroke-width=\"2\"/>\n",
       "    <line x1=\"125\" y1=\"350\" x2=\"175\" y2=\"350\" stroke=\"black\" stroke-width=\"2\"/>\n",
       "    </svg>"
      ],
      "text/plain": [
       "<IPython.core.display.SVG object>"
      ]
     },
     "metadata": {},
     "output_type": "display_data"
    },
    {
     "name": "stdout",
     "output_type": "stream",
     "text": [
      "====================================================================================================\n",
      "요청한 문장: 밑변이 3이고, 높이가 4인 직각삼각형 하나를 그려줘\n",
      "추출된 개념: Right Triangle\n",
      "추출된 인자: {'base': 3, 'height': 4}\n",
      "\n",
      "생성된 코드:\n",
      " <svg width=\"500\" height=\"500\" xmlns=\"http://www.w3.org/2000/svg\">\n",
      "    <text x=\"250\" y=\"50\" font-size=\"25\" text-anchor=\"middle\">직각삼각형</text>\n",
      "    <!-- 직각삼각형 -->\n",
      "    <line x1=\"83\" y1=\"416\" x2=\"308\" y2=\"416\" stroke=\"black\" stroke-width=\"2\" />\n",
      "    <line x1=\"308\" y1=\"416\" x2=\"308\" y2=\"166\" stroke=\"black\" stroke-width=\"2\" />\n",
      "    <line x1=\"83\" y1=\"416\" x2=\"308\" y2=\"166\" stroke=\"black\" stroke-width=\"2\" />\n",
      "    <!-- 직각 보조선 -->\n",
      "    <line x1=\"286\" y1=\"416\" x2=\"286\" y2=\"394\" stroke=\"black\" stroke-width=\"2\" />\n",
      "    <line x1=\"286\" y1=\"394\" x2=\"308\" y2=\"394\" stroke=\"black\" stroke-width=\"2\" />\n",
      "    </svg>\n",
      "    \n",
      "\n",
      "생성된 설명:\n",
      " ### Right Triangle\n",
      "\n",
      "**정의:**\n",
      "A right triangle is a special type of triangle that has one angle which measures exactly 90 degrees (a right angle). This unique angle distinguishes it from other triangles where all angles are less than 90 degrees.\n",
      "\n",
      "**기본 성질:**\n",
      "1. **한 각이 직각:** 가장 중요한 특징은 한 꼭짓점에서 직각(90°)을 이루는 것입니다.\n",
      "2. **직각을 중심으로 두 개의 다른 각:** 나머지 두 각은 합쳐 90도가 됩니다. 따라서 이 두 각은 서로 보완각(complementary angles)입니다.\n",
      "3. **피타고라스 정리 적용 가능:** 직각 삼각형에서는 가장 긴 변을 빗변(hypotenuse)이라고 부르며, 이 빗변의 길이는 다른 두 변(직각을 이루는 두 변을 밑변과 높이라고도 부릅니다)의 길이와 특별한 관계를 가집니다. 이 관계는 피타고라스 정리로 표현되는데, 수학적으로는 \\(a^2 + b^2 = c^2\\) 입니다 (여기서 \\(c\\)는 빗변의 길이이고, \\(a\\)와 \\(b\\)는 다른 두 변의 길이입니다). 하지만 문제 해결을 위해 직접적인 공식보다는 이 관계를 이해하는 것이 중요합니다.\n",
      "4. **삼각형의 종류:** 직각 삼각형은 그 각도에 따라 다양한 종류로 나눌 수 있습니다. 예를 들어, 모든 변의 길이가 정수인 직각 삼각형을 피타고라스 삼각형이라고 부르기도 합니다.\n",
      "\n",
      "이런 특징들로 인해 직각 삼각형은 건축, 공학, 그리고 다양한 실생활 문제 해결에서 매우 중요한 역할을 합니다!\n",
      "\n",
      "생성된 공식 raw:\n",
      " {'perimeter': '밑변 + 높이 + 빗변', 'area': '밑변 × 높이 ÷ 2'}\n"
     ]
    },
    {
     "data": {
      "text/latex": [
       "$\\displaystyle 밑변 + 높이 + 빗변$"
      ],
      "text/plain": [
       "<IPython.core.display.Math object>"
      ]
     },
     "metadata": {},
     "output_type": "display_data"
    },
    {
     "data": {
      "text/latex": [
       "$\\displaystyle 밑변 × 높이 ÷ 2$"
      ],
      "text/plain": [
       "<IPython.core.display.Math object>"
      ]
     },
     "metadata": {},
     "output_type": "display_data"
    },
    {
     "data": {
      "image/svg+xml": [
       "<svg xmlns=\"http://www.w3.org/2000/svg\" width=\"500\" height=\"500\">\n",
       "    <text x=\"250\" y=\"50\" font-size=\"25\" text-anchor=\"middle\">직각삼각형</text>\n",
       "    <!-- 직각삼각형 -->\n",
       "    <line x1=\"83\" y1=\"416\" x2=\"308\" y2=\"416\" stroke=\"black\" stroke-width=\"2\"/>\n",
       "    <line x1=\"308\" y1=\"416\" x2=\"308\" y2=\"166\" stroke=\"black\" stroke-width=\"2\"/>\n",
       "    <line x1=\"83\" y1=\"416\" x2=\"308\" y2=\"166\" stroke=\"black\" stroke-width=\"2\"/>\n",
       "    <!-- 직각 보조선 -->\n",
       "    <line x1=\"286\" y1=\"416\" x2=\"286\" y2=\"394\" stroke=\"black\" stroke-width=\"2\"/>\n",
       "    <line x1=\"286\" y1=\"394\" x2=\"308\" y2=\"394\" stroke=\"black\" stroke-width=\"2\"/>\n",
       "    </svg>"
      ],
      "text/plain": [
       "<IPython.core.display.SVG object>"
      ]
     },
     "metadata": {},
     "output_type": "display_data"
    },
    {
     "name": "stdout",
     "output_type": "stream",
     "text": [
      "====================================================================================================\n",
      "요청한 문장: 가로가 5, 세로가 3인 직사각형의 넓이\n",
      "추출된 개념: Rectangle\n",
      "추출된 인자: {'width': 5, 'height': 3}\n",
      "\n",
      "생성된 코드:\n",
      " <svg width=\"500\" height=\"312\" xmlns=\"http://www.w3.org/2000/svg\">\n",
      "    <text x=\"250\" y=\"50\" font-size=\"25\" text-anchor=\"middle\">직사각형</text>\n",
      "    <rect x=\"100\" y=\"100\" width=\"250\" height=\"150\" stroke=\"black\" stroke-width=\"2\" fill=\"none\" />\n",
      "    </svg>\n",
      "\n",
      "생성된 설명:\n",
      " ### Rectangle 설명\n",
      "\n",
      "**정의:**\n",
      "사각형은 네 개의 직선으로 둘러싸인 평면 도형으로, 각 내각이 직각(90도)인 특징을 가지고 있습니다. 즉, 사각형의 네 모서리는 모두 직각을 이루며, 대변이 평행하고 길이가 같은 특성을 갖습니다.\n",
      "\n",
      "**기본 성질:**\n",
      "1. **대변의 길이가 같음:** 사각형의 두 쌍의 대변은 길이가 동일합니다. 예를 들어, 가로와 세로가 같은 길이를 가집니다.\n",
      "2. **대각선이 서로 같음:** 사각형의 두 대각선은 길이가 같습니다. 즉, 사각형을 두 개의 동일한 삼각형으로 나눌 수 있습니다.\n",
      "3. **내각의 합:** 사각형의 네 내각의 합은 항상 360도입니다.\n",
      "4. **변의 배열:** 사각형은 여러 가지 형태로 배열될 수 있습니다. 예를 들어, 직사각형은 가로와 세로가 각각 다른 길이를 가질 수 있으며, 정사각형은 모든 변의 길이가 같고 모든 내각이 직각인 특별한 형태의 사각형입니다.\n",
      "\n",
      "이러한 성질들로 인해 사각형은 우리 일상생활에서 매우 흔하게 볼 수 있는 도형입니다!\n",
      "\n",
      "생성된 공식 raw:\n",
      " {'perimeter': '2 × (밑변 + 높이)', 'area': '밑변 × 높이'}\n"
     ]
    },
    {
     "data": {
      "text/latex": [
       "$\\displaystyle 2 × (밑변 + 높이)$"
      ],
      "text/plain": [
       "<IPython.core.display.Math object>"
      ]
     },
     "metadata": {},
     "output_type": "display_data"
    },
    {
     "data": {
      "text/latex": [
       "$\\displaystyle 밑변 × 높이$"
      ],
      "text/plain": [
       "<IPython.core.display.Math object>"
      ]
     },
     "metadata": {},
     "output_type": "display_data"
    },
    {
     "data": {
      "image/svg+xml": [
       "<svg xmlns=\"http://www.w3.org/2000/svg\" width=\"500\" height=\"312\">\n",
       "    <text x=\"250\" y=\"50\" font-size=\"25\" text-anchor=\"middle\">직사각형</text>\n",
       "    <rect x=\"100\" y=\"100\" width=\"250\" height=\"150\" stroke=\"black\" stroke-width=\"2\" fill=\"none\"/>\n",
       "    </svg>"
      ],
      "text/plain": [
       "<IPython.core.display.SVG object>"
      ]
     },
     "metadata": {},
     "output_type": "display_data"
    },
    {
     "name": "stdout",
     "output_type": "stream",
     "text": [
      "====================================================================================================\n",
      "요청한 문장: 한 변의 길이가 2인 정사각형 하나를 그려줘\n",
      "추출된 개념: Square\n",
      "추출된 인자: {'length': 2}\n",
      "\n",
      "생성된 코드:\n",
      " <svg width=\"500\" height=\"500\" xmlns=\"http://www.w3.org/2000/svg\">\n",
      "    <text x=\"250\" y=\"50\" font-size=\"25\" text-anchor=\"middle\">정사각형</text>\n",
      "    <rect x=\"100\" y=\"100\" width=\"200\" height=\"200\" stroke=\"black\" stroke-width=\"2\" fill=\"none\" />\n",
      "    </svg>\n",
      "\n",
      "생성된 설명:\n",
      " ### Square\n",
      "\n",
      "**정의:**\n",
      "사각형은 네 개의 변으로 이루어진 평면 도형입니다. 모든 내각이 직각(90도)이며, 반대편의 변들이 길이가 같아서 마주보는 두 변은 평행하고 길이가 동일합니다.\n",
      "\n",
      "**기본 성질:**\n",
      "1. **대변의 길이 동일:** 사각형의 마주보는 두 변은 길이가 같습니다. 예를 들어, 정사각형이나 직사각형에서는 모든 대변이 같은 길이를 가집니다.\n",
      "2. **대각선의 성질:** 사각형의 대각선은 서로를 반으로 나눕니다. 즉, 대각선이 만나는 점에서 대각선을 잇는 선분들은 서로를 절반으로 나눕니다.\n",
      "3. **변의 합:** 사각형의 네 변의 길이를 모두 더하면, 그 합은 사각형의 둘레를 나타냅니다. 예를 들어, 한 변의 길이가 \\(a\\)이고 다른 변의 길이가 \\(b\\)라면, 둘레는 \\(a + b + a + b = 2(a + b)\\)가 됩니다.\n",
      "4. **정사각형의 특징:** 정사각형은 모든 변의 길이가 같고 모든 내각이 직각인 특별한 사각형입니다. 모든 대각선도 길이가 같고 서로를 직각으로 이룹니다.\n",
      "\n",
      "이러한 성질들로 인해 사각형은 다양한 형태와 크기로 존재하며, 건축, 디자인, 그리고 일상생활에서 자주 볼 수 있는 도형입니다!\n",
      "\n",
      "생성된 공식 raw:\n",
      " {'perimeter': '4 \\\\times \\\\mathrm{한 변의 길이}', 'area': '\\\\mathrm{한 변의 길이} \\\\times \\\\mathrm{한 변의 길이}'}\n"
     ]
    },
    {
     "data": {
      "text/latex": [
       "$\\displaystyle 4 \\times \\mathrm{한 변의 길이}$"
      ],
      "text/plain": [
       "<IPython.core.display.Math object>"
      ]
     },
     "metadata": {},
     "output_type": "display_data"
    },
    {
     "data": {
      "text/latex": [
       "$\\displaystyle \\mathrm{한 변의 길이} \\times \\mathrm{한 변의 길이}$"
      ],
      "text/plain": [
       "<IPython.core.display.Math object>"
      ]
     },
     "metadata": {},
     "output_type": "display_data"
    },
    {
     "data": {
      "image/svg+xml": [
       "<svg xmlns=\"http://www.w3.org/2000/svg\" width=\"500\" height=\"500\">\n",
       "    <text x=\"250\" y=\"50\" font-size=\"25\" text-anchor=\"middle\">정사각형</text>\n",
       "    <rect x=\"100\" y=\"100\" width=\"200\" height=\"200\" stroke=\"black\" stroke-width=\"2\" fill=\"none\"/>\n",
       "    </svg>"
      ],
      "text/plain": [
       "<IPython.core.display.SVG object>"
      ]
     },
     "metadata": {},
     "output_type": "display_data"
    },
    {
     "name": "stdout",
     "output_type": "stream",
     "text": [
      "====================================================================================================\n",
      "요청한 문장: 곧은선이 뭐야?\n",
      "추출된 개념: 직선\n",
      "추출된 인자: {}\n",
      "\n",
      "생성된 코드:\n",
      " <svg width=\"500\" height=\"500\" xmlns=\"http://www.w3.org/2000/svg\">\n",
      "    <text x=\"250\" y=\"25\" font-size=\"25\" text-anchor=\"middle\">곧은선</text>\n",
      "    <text x=\"250\" y=\"75\" font-size=\"25\" text-anchor=\"middle\">선분</text>\n",
      "    <!-- 선분 -->\n",
      "    <circle cx=\"125\" cy=\"125\" r=\"1\" stroke=\"black\" stroke-width=\"2\" fill=\"black\" />\n",
      "    <circle cx=\"375\" cy=\"125\" r=\"1\" stroke=\"black\" stroke-width=\"2\" fill=\"black\" />\n",
      "    <line x1=\"125\" y1=\"125\" x2=\"375\" y2=\"125\" stroke=\"black\" stroke-width=\"2\" />\n",
      "    <!-- 반직선 -->\n",
      "    <text x=\"250\" y=\"175\" font-size=\"25\" text-anchor=\"middle\">반직선</text>\n",
      "    <circle cx=\"125\" cy=\"250\" r=\"1\" stroke=\"black\" stroke-width=\"2\" fill=\"black\" />\n",
      "    <circle cx=\"375\" cy=\"250\" r=\"1\" stroke=\"black\" stroke-width=\"2\" fill=\"black\" />\n",
      "    <line x1=\"125\" y1=\"250\" x2=\"500\" y2=\"250\" stroke=\"black\" stroke-width=\"2\" />\n",
      "    <!-- 직선 -->\n",
      "    <text x=\"250\" y=\"300\" font-size=\"25\" text-anchor=\"middle\">직선</text>\n",
      "    <circle cx=\"125\" cy=\"375\" r=\"1\" stroke=\"black\" stroke-width=\"2\" fill=\"black\" />\n",
      "    <circle cx=\"375\" cy=\"375\" r=\"1\" stroke=\"black\" stroke-width=\"2\" fill=\"black\" />\n",
      "    <line x1=\"0\" y1=\"375\" x2=\"500\" y2=\"375\" stroke=\"black\" stroke-width=\"2\" />\n",
      "    </svg>\n",
      "    \n",
      "\n",
      "생성된 설명:\n",
      " ### 직선에 대한 설명\n",
      "\n",
      "#### 정의\n",
      "직선은 평면 위에서 가장 짧은 거리로 두 점을 연결하는 선을 말합니다. 이 선은 양쪽으로 무한히 계속되며, 방향이 항상 일정합니다. 직선 위의 모든 점들은 서로 평행하게 연결되어 있어, 어떤 방향으로든 뻗어나갈 수 있습니다.\n",
      "\n",
      "#### 기본 성질\n",
      "1. **무한한 길이**: 직선은 양쪽으로 무한히 이어집니다. 즉, 시작점에서 끝점까지의 거리가 아무리 길어도 계속해서 뻗어나갈 수 있습니다.\n",
      "2. **평행한 선들**: 같은 방향으로 무한히 뻗어나가는 두 직선은 서로 평행합니다. 반대로, 서로 다른 방향으로 무한히 뻗어나가는 두 직선은 교차하지 않습니다.\n",
      "3. **직선 위의 점들**: 직선 위의 모든 점들은 서로 연결되어 있어, 어떤 두 점을 잇는 선분은 항상 직선의 일부분입니다.\n",
      "4. **직선의 대칭성**: 직선을 기준으로 대칭인 두 부분은 서로 완전히 일치합니다. 예를 들어, 한 점을 기준으로 대칭인 두 점은 직선 양쪽에 동일한 거리에 위치합니다.\n",
      "\n",
      "이러한 성질들로 인해 직선은 기하학에서 매우 중요한 개념으로 사용됩니다!\n"
     ]
    },
    {
     "data": {
      "image/svg+xml": [
       "<svg xmlns=\"http://www.w3.org/2000/svg\" width=\"500\" height=\"500\">\n",
       "    <text x=\"250\" y=\"25\" font-size=\"25\" text-anchor=\"middle\">곧은선</text>\n",
       "    <text x=\"250\" y=\"75\" font-size=\"25\" text-anchor=\"middle\">선분</text>\n",
       "    <!-- 선분 -->\n",
       "    <circle cx=\"125\" cy=\"125\" r=\"1\" stroke=\"black\" stroke-width=\"2\" fill=\"black\"/>\n",
       "    <circle cx=\"375\" cy=\"125\" r=\"1\" stroke=\"black\" stroke-width=\"2\" fill=\"black\"/>\n",
       "    <line x1=\"125\" y1=\"125\" x2=\"375\" y2=\"125\" stroke=\"black\" stroke-width=\"2\"/>\n",
       "    <!-- 반직선 -->\n",
       "    <text x=\"250\" y=\"175\" font-size=\"25\" text-anchor=\"middle\">반직선</text>\n",
       "    <circle cx=\"125\" cy=\"250\" r=\"1\" stroke=\"black\" stroke-width=\"2\" fill=\"black\"/>\n",
       "    <circle cx=\"375\" cy=\"250\" r=\"1\" stroke=\"black\" stroke-width=\"2\" fill=\"black\"/>\n",
       "    <line x1=\"125\" y1=\"250\" x2=\"500\" y2=\"250\" stroke=\"black\" stroke-width=\"2\"/>\n",
       "    <!-- 직선 -->\n",
       "    <text x=\"250\" y=\"300\" font-size=\"25\" text-anchor=\"middle\">직선</text>\n",
       "    <circle cx=\"125\" cy=\"375\" r=\"1\" stroke=\"black\" stroke-width=\"2\" fill=\"black\"/>\n",
       "    <circle cx=\"375\" cy=\"375\" r=\"1\" stroke=\"black\" stroke-width=\"2\" fill=\"black\"/>\n",
       "    <line x1=\"0\" y1=\"375\" x2=\"500\" y2=\"375\" stroke=\"black\" stroke-width=\"2\"/>\n",
       "    </svg>"
      ],
      "text/plain": [
       "<IPython.core.display.SVG object>"
      ]
     },
     "metadata": {},
     "output_type": "display_data"
    },
    {
     "name": "stdout",
     "output_type": "stream",
     "text": [
      "====================================================================================================\n",
      "요청한 문장: 대표적인 굽은선을 그려줘\n",
      "추출된 개념: 곡선\n",
      "추출된 인자: {'type': '타원', 'description': '타원은 가장 대표적인 굽은선의 한 종류로, 두 초점 사이의 거리의 합이 일정한 점들의 집합으로 정의됩니다.'}\n",
      "\n",
      "생성된 코드:\n",
      " \n",
      "    <svg width=\"500\" height=\"500\" xmlns=\"http://www.w3.org/2000/svg\">\n",
      "    <text x=\"250\" y=\"50\" font-size=\"25\" text-anchor=\"middle\">굽은선</text>\n",
      "    <!-- 복잡한 S자 곡선 (두 개의 Cubic Bézier) -->\n",
      "    <path d=\"M 100,400\n",
      "    C 100,100 400,100 400,250\n",
      "    C 400,400 100,400 100,100\"\n",
      "    stroke=\"black\" fill=\"none\" stroke-width=\"2\"/>\n",
      "    </svg>\n",
      "    \n",
      "\n",
      "생성된 설명:\n",
      " ### 곡선에 대한 설명\n",
      "\n",
      "**정의:**\n",
      "곡선은 직선이 아닌, 연속적으로 이어지는 점들의 모임으로 이루어진 도형입니다. 쉽게 말해, 직선처럼 일정한 방향으로만 움직이는 것이 아니라, 부드럽게 휘어지거나 굽어지는 형태를 가진 선을 말합니다.\n",
      "\n",
      "**기본 성질:**\n",
      "1. **연속성:** 곡선 위의 모든 점들은 부드럽게 이어져 있어, 어떤 작은 구간에서도 끊어지지 않고 이어집니다.\n",
      "2. **길이:** 곡선의 길이는 그 곡선을 따라 측정한 총 거리입니다. 이 길이는 곡선의 모양에 따라 달라집니다. 예를 들어, 원의 둘레는 반지름에 따라 결정되며, 이는 곡선의 길이를 정확히 계산하는 방법 중 하나입니다.\n",
      "3. **곡률:** 곡선이 얼마나 빠르게 방향을 바꾸는지를 나타내는 값입니다. 곡률이 크면 곡선이 더 급하게 굽어지고, 작으면 더 부드럽게 굽어집니다. 예를 들어, 원의 경우 모든 점에서 곡률이 일정합니다.\n",
      "4. **접선:** 곡선 위의 어떤 점에서 그 점을 지나는 가장 가까운 직선을 접선이라고 합니다. 이 접선은 그 점에서 곡선의 방향을 가장 잘 나타냅니다.\n",
      "\n",
      "이러한 성질들 덕분에 곡선은 자연 현상이나 공학적 설계 등 다양한 분야에서 중요한 역할을 합니다.\n"
     ]
    },
    {
     "data": {
      "image/svg+xml": [
       "<svg xmlns=\"http://www.w3.org/2000/svg\" width=\"500\" height=\"500\">\n",
       "    <text x=\"250\" y=\"50\" font-size=\"25\" text-anchor=\"middle\">굽은선</text>\n",
       "    <!-- 복잡한 S자 곡선 (두 개의 Cubic Bézier) -->\n",
       "    <path d=\"M 100,400     C 100,100 400,100 400,250     C 400,400 100,400 100,100\" stroke=\"black\" fill=\"none\" stroke-width=\"2\"/>\n",
       "    </svg>"
      ],
      "text/plain": [
       "<IPython.core.display.SVG object>"
      ]
     },
     "metadata": {},
     "output_type": "display_data"
    },
    {
     "name": "stdout",
     "output_type": "stream",
     "text": [
      "====================================================================================================\n",
      "요청한 문장: 중심이 (0,0)이고 반지름이 2인 원을 그려주세요.\n",
      "추출된 개념: Circle\n",
      "추출된 인자: {'radius': 2}\n",
      "\n",
      "생성된 코드:\n",
      " <svg width=\"500\" height=\"500\" xmlns=\"http://www.w3.org/2000/svg\">\n",
      "    <text x=\"250\" y=\"50\" font-size=\"25\" text-anchor=\"middle\">원</text>\n",
      "    <circle cx=\"250\" cy=\"250\" r=\"100\" stroke=\"black\" stroke-width=\"2\" fill=\"none\" />\n",
      "    <circle cx=\"250\" cy=\"250\" r=\"1\" stroke=\"black\" stroke-width=\"2\" fill=\"black\" />\n",
      "    <line x1=\"250\" y1=\"250\" x2=\"350\" y2=\"250\" stroke=\"black\" stroke-width=\"2\" />\n",
      "    </svg>\n",
      "    \n",
      "\n",
      "생성된 설명:\n",
      " ### Circle (원)\n",
      "\n",
      "#### 정의:\n",
      "원은 평면 위에서 한 점(중심)으로부터 일정한 거리(반지름)에 있는 모든 점들의 집합을 말합니다. 이 중심점을 기준으로 원 위의 모든 점들은 동일한 거리에 위치해 있습니다.\n",
      "\n",
      "#### 기본 성질:\n",
      "1. **둘레와 지름**: 원의 둘레는 지름에 π(약 3.14)를 곱한 값입니다. 즉, 둘레 = 지름 × π 입니다. 반대로 지름은 둘레를 π로 나누면 구할 수 있습니다.\n",
      "   \n",
      "2. **면적**: 원의 면적은 반지름의 제곱에 π를 곱한 값입니다. 공식으로 표현하면 면적 = π × 반지름2 입니다.\n",
      "\n",
      "3. **대칭성**: 원은 중심을 기준으로 완벽하게 대칭입니다. 즉, 중심을 지나는 어떤 직선을 기준으로 원을 접어도 양쪽이 완전히 일치합니다.\n",
      "\n",
      "4. **원주각과 호의 관계**: 원 위의 두 점을 잇는 호의 중앙각은 그 호에 대응하는 원주각의 두 배입니다. 예를 들어, 호의 중앙각이 θ라면 원주각은 θ/2가 됩니다.\n",
      "\n",
      "이러한 성질들로 인해 원은 기하학에서 매우 중요한 역할을 합니다. 다양한 도형과 문제 해결에 활용되며, 일상생활에서도 자주 접하게 되는 개념입니다.\n",
      "\n",
      "생성된 공식 raw:\n",
      " {'perimeter': '2 \\\\times 3.14 \\\\times 반지름', 'area': '3.14 \\\\times 반지름 \\\\times 반지름'}\n"
     ]
    },
    {
     "data": {
      "text/latex": [
       "$\\displaystyle 2 \\times 3.14 \\times 반지름$"
      ],
      "text/plain": [
       "<IPython.core.display.Math object>"
      ]
     },
     "metadata": {},
     "output_type": "display_data"
    },
    {
     "data": {
      "text/latex": [
       "$\\displaystyle 3.14 \\times 반지름 \\times 반지름$"
      ],
      "text/plain": [
       "<IPython.core.display.Math object>"
      ]
     },
     "metadata": {},
     "output_type": "display_data"
    },
    {
     "data": {
      "image/svg+xml": [
       "<svg xmlns=\"http://www.w3.org/2000/svg\" width=\"500\" height=\"500\">\n",
       "    <text x=\"250\" y=\"50\" font-size=\"25\" text-anchor=\"middle\">원</text>\n",
       "    <circle cx=\"250\" cy=\"250\" r=\"100\" stroke=\"black\" stroke-width=\"2\" fill=\"none\"/>\n",
       "    <circle cx=\"250\" cy=\"250\" r=\"1\" stroke=\"black\" stroke-width=\"2\" fill=\"black\"/>\n",
       "    <line x1=\"250\" y1=\"250\" x2=\"350\" y2=\"250\" stroke=\"black\" stroke-width=\"2\"/>\n",
       "    </svg>"
      ],
      "text/plain": [
       "<IPython.core.display.SVG object>"
      ]
     },
     "metadata": {},
     "output_type": "display_data"
    },
    {
     "name": "stdout",
     "output_type": "stream",
     "text": [
      "====================================================================================================\n",
      "요청한 문장: 37° 각도를 그려줘\n",
      "추출된 개념: 각도\n",
      "추출된 인자: {'size': 37}\n",
      "\n",
      "생성된 코드:\n",
      " <svg width=\"500\" height=\"375\" xmlns=\"http://www.w3.org/2000/svg\">\n",
      "    <text x=\"250\" y=\"50\" font-size=\"25\" text-anchor=\"middle\">각</text>\n",
      "    <!-- 기준선 -->\n",
      "    <line x1=\"125\" y1=\"333\" x2=\"375\" y2=\"333\" stroke=\"black\" stroke-width=\"2\" />\n",
      "    <!-- 기울어진 선 -->\n",
      "    <line x1=\"125\" y1=\"333\" x2=\"324.6588775118232\" y2=\"182.54624421198793\" stroke=\"black\" stroke-width=\"2\" />\n",
      "    <!-- 각도 호 -->\n",
      "    <path d=\"M 164.93177550236464,302.9092488423976 A 50,50 0 0,1 175,333\" stroke=\"black\" stroke-width=\"2\" fill=\"none\"/>\n",
      "    </svg>\n",
      "    \n",
      "\n",
      "생성된 설명:\n",
      " ### 각도에 대한 설명\n",
      "\n",
      "**정의:**\n",
      "각도는 두 직선이나 선분이 만나서 생기는 공간의 크기를 측정하는 방법입니다. 우리가 일상에서 자주 접하는 각도는 주로 도로 표지판에서 볼 수 있는 방향 지시나, 그림에서 선들이 만나는 부분을 표현할 때 사용됩니다.\n",
      "\n",
      "**기본 성질:**\n",
      "1. **직선의 각도:** 직선은 정확히 180도의 각도를 가집니다. 직선은 두 방향으로 무한히 이어지는 것처럼 보이지만, 실제로는 시작점과 끝점이 있습니다.\n",
      "   \n",
      "2. **직각 각도:** 직각은 90도를 의미합니다. 이는 우리가 흔히 사용하는 'L'자 모양의 모서리나 사각형의 모서리에서 볼 수 있습니다. 직각은 두 직선이 서로 수직으로 만나는 경우에 생깁니다.\n",
      "\n",
      "3. **평행선과 각도:** 평행한 두 직선은 만나지 않기 때문에, 그들 사이의 각도는 항상 같습니다. 예를 들어, 두 평행선 위에 그려진 삼각형의 한 각은 다른 각과 크기가 동일합니다.\n",
      "\n",
      "4. **복합 각도:** 여러 각도를 합쳐서 더 큰 각도를 만들 수 있습니다. 예를 들어, 두 개의 직각 각도를 합치면 180도가 됩니다.\n",
      "\n",
      "이러한 기본적인 개념들을 이해하면 각도에 대한 다양한 문제를 풀 때 도움이 될 것입니다!\n"
     ]
    },
    {
     "data": {
      "image/svg+xml": [
       "<svg xmlns=\"http://www.w3.org/2000/svg\" width=\"500\" height=\"375\">\n",
       "    <text x=\"250\" y=\"50\" font-size=\"25\" text-anchor=\"middle\">각</text>\n",
       "    <!-- 기준선 -->\n",
       "    <line x1=\"125\" y1=\"333\" x2=\"375\" y2=\"333\" stroke=\"black\" stroke-width=\"2\"/>\n",
       "    <!-- 기울어진 선 -->\n",
       "    <line x1=\"125\" y1=\"333\" x2=\"324.6588775118232\" y2=\"182.54624421198793\" stroke=\"black\" stroke-width=\"2\"/>\n",
       "    <!-- 각도 호 -->\n",
       "    <path d=\"M 164.93177550236464,302.9092488423976 A 50,50 0 0,1 175,333\" stroke=\"black\" stroke-width=\"2\" fill=\"none\"/>\n",
       "    </svg>"
      ],
      "text/plain": [
       "<IPython.core.display.SVG object>"
      ]
     },
     "metadata": {},
     "output_type": "display_data"
    },
    {
     "name": "stdout",
     "output_type": "stream",
     "text": [
      "====================================================================================================\n",
      "요청한 문장: 직각을 표현해줘\n",
      "추출된 개념: Right Angle\n",
      "추출된 인자: {}\n",
      "\n",
      "생성된 코드:\n",
      " <svg width=\"500\" height=\"500\" xmlns=\"http://www.w3.org/2000/svg\">\n",
      "    <text x=\"250\" y=\"50\" font-size=\"25\" text-anchor=\"middle\">직각</text>\n",
      "    <!-- 기준선 -->\n",
      "    <line x1=\"125\" y1=\"400\" x2=\"458\" y2=\"400\" stroke=\"black\" stroke-width=\"2\" />\n",
      "    <!-- 기울어진 선 -->\n",
      "    <line x1=\"125\" y1=\"400\" x2=\"125\" y2=\"67\" stroke=\"black\" stroke-width=\"2\" />\n",
      "    <!-- 직각 보조선 -->\n",
      "    <line x1=\"175\" y1=\"400\" x2=\"175\" y2=\"350\" stroke=\"black\" stroke-width=\"2\" />\n",
      "    <line x1=\"125\" y1=\"350\" x2=\"175\" y2=\"350\" stroke=\"black\" stroke-width=\"2\" />\n",
      "    </svg>\n",
      "    \n",
      "\n",
      "생성된 설명:\n",
      " ### Right Angle\n",
      "\n",
      "**정의:**\n",
      "Right Angle은 기하학에서 가장 기본적인 각도 중 하나로, 정확히 90도를 이루는 각도를 말합니다. 이 각도는 직각이라고도 불리며, 직선이나 특정 도형의 모서리에서 만나는 두 변이 서로 수직으로 만나는 경우에 나타납니다.\n",
      "\n",
      "**기본 성질:**\n",
      "1. **크기:** Right Angle은 항상 정확히 90도입니다. 이는 모든 Right Angle이 동일한 크기를 가짐을 의미합니다.\n",
      "2. **모양:** Right Angle은 보통 'L' 모양으로 쉽게 인식할 수 있습니다. 이 모양은 직각을 나타내는 데 자주 사용됩니다.\n",
      "3. **도형과의 관계:** 직각은 사각형, 직사각형, 정사각형 등 다양한 도형의 모서리에서 발견됩니다. 특히, 직사각형이나 정사각형은 네 개의 Right Angle을 가지고 있습니다.\n",
      "4. **삼각형과의 연관성:** 직각삼각형은 한 내각이 정확히 Right Angle인 삼각형을 의미합니다. 이 삼각형은 세 변의 길이 관계를 통해 피타고라스 정리를 적용할 수 있습니다.\n",
      "\n",
      "이러한 성질들로 인해 Right Angle은 수학에서 매우 중요한 개념으로 자리잡고 있습니다!\n"
     ]
    },
    {
     "data": {
      "image/svg+xml": [
       "<svg xmlns=\"http://www.w3.org/2000/svg\" width=\"500\" height=\"500\">\n",
       "    <text x=\"250\" y=\"50\" font-size=\"25\" text-anchor=\"middle\">직각</text>\n",
       "    <!-- 기준선 -->\n",
       "    <line x1=\"125\" y1=\"400\" x2=\"458\" y2=\"400\" stroke=\"black\" stroke-width=\"2\"/>\n",
       "    <!-- 기울어진 선 -->\n",
       "    <line x1=\"125\" y1=\"400\" x2=\"125\" y2=\"67\" stroke=\"black\" stroke-width=\"2\"/>\n",
       "    <!-- 직각 보조선 -->\n",
       "    <line x1=\"175\" y1=\"400\" x2=\"175\" y2=\"350\" stroke=\"black\" stroke-width=\"2\"/>\n",
       "    <line x1=\"125\" y1=\"350\" x2=\"175\" y2=\"350\" stroke=\"black\" stroke-width=\"2\"/>\n",
       "    </svg>"
      ],
      "text/plain": [
       "<IPython.core.display.SVG object>"
      ]
     },
     "metadata": {},
     "output_type": "display_data"
    },
    {
     "name": "stdout",
     "output_type": "stream",
     "text": [
      "====================================================================================================\n",
      "요청한 문장: 밑변이 3이고, 높이가 4인 직각삼각형 하나를 그려줘\n",
      "추출된 개념: Right Triangle\n",
      "추출된 인자: {'base': 3, 'height': 4}\n",
      "\n",
      "생성된 코드:\n",
      " <svg width=\"500\" height=\"500\" xmlns=\"http://www.w3.org/2000/svg\">\n",
      "    <text x=\"250\" y=\"50\" font-size=\"25\" text-anchor=\"middle\">직각삼각형</text>\n",
      "    <!-- 직각삼각형 -->\n",
      "    <line x1=\"83\" y1=\"416\" x2=\"308\" y2=\"416\" stroke=\"black\" stroke-width=\"2\" />\n",
      "    <line x1=\"308\" y1=\"416\" x2=\"308\" y2=\"166\" stroke=\"black\" stroke-width=\"2\" />\n",
      "    <line x1=\"83\" y1=\"416\" x2=\"308\" y2=\"166\" stroke=\"black\" stroke-width=\"2\" />\n",
      "    <!-- 직각 보조선 -->\n",
      "    <line x1=\"286\" y1=\"416\" x2=\"286\" y2=\"394\" stroke=\"black\" stroke-width=\"2\" />\n",
      "    <line x1=\"286\" y1=\"394\" x2=\"308\" y2=\"394\" stroke=\"black\" stroke-width=\"2\" />\n",
      "    </svg>\n",
      "    \n",
      "\n",
      "생성된 설명:\n",
      " ### Right Triangle\n",
      "\n",
      "**정의:**\n",
      "A right triangle is a special type of triangle that has one angle which measures exactly 90 degrees (a right angle). This unique angle distinguishes it from other triangles where all angles are less than 90 degrees.\n",
      "\n",
      "**기본 성질:**\n",
      "1. **한 각이 직각:** 가장 중요한 특징은 한 꼭짓점에서 직각(90°)을 이루는 것입니다.\n",
      "2. **직각을 중심으로 두 개의 다른 각:** 나머지 두 각은 합쳐 90도가 됩니다. 따라서 이 두 각은 서로 보완각(complementary angles)입니다.\n",
      "3. **피타고라스 정리 적용 가능:** 직각 삼각형에서는 가장 긴 변을 빗변(hypotenuse)이라고 부르며, 이 빗변의 길이는 다른 두 변(직각을 이루는 두 변을 밑변과 높이라고도 부릅니다)의 길이와 특별한 관계를 가집니다. 이 관계는 피타고라스 정리로 표현되는데, 수학적으로는 \\(a^2 + b^2 = c^2\\) 입니다 (여기서 \\(c\\)는 빗변의 길이이고, \\(a\\)와 \\(b\\)는 다른 두 변의 길이입니다). 하지만 문제 해결을 위해 직접적인 공식보다는 이 관계를 이해하는 것이 중요합니다.\n",
      "4. **삼각형의 종류:** 직각 삼각형은 그 각도에 따라 다양한 종류로 나눌 수 있습니다. 예를 들어, 모든 변의 길이가 정수인 직각 삼각형을 피타고라스 삼각형이라고 부르기도 합니다.\n",
      "\n",
      "이런 특징들로 인해 직각 삼각형은 건축, 공학, 그리고 다양한 실생활 문제 해결에서 매우 중요한 역할을 합니다!\n",
      "\n",
      "생성된 공식 raw:\n",
      " {'perimeter': '밑변 + 높이 + 빗변', 'area': '밑변 × 높이 ÷ 2'}\n"
     ]
    },
    {
     "data": {
      "text/latex": [
       "$\\displaystyle 밑변 + 높이 + 빗변$"
      ],
      "text/plain": [
       "<IPython.core.display.Math object>"
      ]
     },
     "metadata": {},
     "output_type": "display_data"
    },
    {
     "data": {
      "text/latex": [
       "$\\displaystyle 밑변 × 높이 ÷ 2$"
      ],
      "text/plain": [
       "<IPython.core.display.Math object>"
      ]
     },
     "metadata": {},
     "output_type": "display_data"
    },
    {
     "data": {
      "image/svg+xml": [
       "<svg xmlns=\"http://www.w3.org/2000/svg\" width=\"500\" height=\"500\">\n",
       "    <text x=\"250\" y=\"50\" font-size=\"25\" text-anchor=\"middle\">직각삼각형</text>\n",
       "    <!-- 직각삼각형 -->\n",
       "    <line x1=\"83\" y1=\"416\" x2=\"308\" y2=\"416\" stroke=\"black\" stroke-width=\"2\"/>\n",
       "    <line x1=\"308\" y1=\"416\" x2=\"308\" y2=\"166\" stroke=\"black\" stroke-width=\"2\"/>\n",
       "    <line x1=\"83\" y1=\"416\" x2=\"308\" y2=\"166\" stroke=\"black\" stroke-width=\"2\"/>\n",
       "    <!-- 직각 보조선 -->\n",
       "    <line x1=\"286\" y1=\"416\" x2=\"286\" y2=\"394\" stroke=\"black\" stroke-width=\"2\"/>\n",
       "    <line x1=\"286\" y1=\"394\" x2=\"308\" y2=\"394\" stroke=\"black\" stroke-width=\"2\"/>\n",
       "    </svg>"
      ],
      "text/plain": [
       "<IPython.core.display.SVG object>"
      ]
     },
     "metadata": {},
     "output_type": "display_data"
    },
    {
     "name": "stdout",
     "output_type": "stream",
     "text": [
      "====================================================================================================\n",
      "요청한 문장: 가로가 5, 세로가 3인 직사각형의 넓이\n",
      "추출된 개념: Rectangle\n",
      "추출된 인자: {'width': 5, 'height': 3}\n",
      "\n",
      "생성된 코드:\n",
      " <svg width=\"500\" height=\"312\" xmlns=\"http://www.w3.org/2000/svg\">\n",
      "    <text x=\"250\" y=\"50\" font-size=\"25\" text-anchor=\"middle\">직사각형</text>\n",
      "    <rect x=\"100\" y=\"100\" width=\"250\" height=\"150\" stroke=\"black\" stroke-width=\"2\" fill=\"none\" />\n",
      "    </svg>\n",
      "\n",
      "생성된 설명:\n",
      " ### Rectangle 설명\n",
      "\n",
      "**정의:**\n",
      "사각형은 네 개의 직선으로 둘러싸인 평면 도형으로, 각 내각이 직각(90도)인 특징을 가지고 있습니다. 즉, 사각형의 네 모서리는 모두 직각을 이루며, 대변이 평행하고 길이가 같은 특성을 갖습니다.\n",
      "\n",
      "**기본 성질:**\n",
      "1. **대변의 길이가 같음:** 사각형의 두 쌍의 대변은 길이가 동일합니다. 예를 들어, 가로와 세로가 같은 길이를 가집니다.\n",
      "2. **대각선이 서로 같음:** 사각형의 두 대각선은 길이가 같습니다. 즉, 사각형을 두 개의 동일한 삼각형으로 나눌 수 있습니다.\n",
      "3. **내각의 합:** 사각형의 네 내각의 합은 항상 360도입니다.\n",
      "4. **변의 배열:** 사각형은 여러 가지 형태로 배열될 수 있습니다. 예를 들어, 직사각형은 가로와 세로가 각각 다른 길이를 가질 수 있으며, 정사각형은 모든 변의 길이가 같고 모든 내각이 직각인 특별한 형태의 사각형입니다.\n",
      "\n",
      "이러한 성질들로 인해 사각형은 우리 일상생활에서 매우 흔하게 볼 수 있는 도형입니다!\n",
      "\n",
      "생성된 공식 raw:\n",
      " {'perimeter': '2 × (밑변 + 높이)', 'area': '밑변 × 높이'}\n"
     ]
    },
    {
     "data": {
      "text/latex": [
       "$\\displaystyle 2 × (밑변 + 높이)$"
      ],
      "text/plain": [
       "<IPython.core.display.Math object>"
      ]
     },
     "metadata": {},
     "output_type": "display_data"
    },
    {
     "data": {
      "text/latex": [
       "$\\displaystyle 밑변 × 높이$"
      ],
      "text/plain": [
       "<IPython.core.display.Math object>"
      ]
     },
     "metadata": {},
     "output_type": "display_data"
    },
    {
     "data": {
      "image/svg+xml": [
       "<svg xmlns=\"http://www.w3.org/2000/svg\" width=\"500\" height=\"312\">\n",
       "    <text x=\"250\" y=\"50\" font-size=\"25\" text-anchor=\"middle\">직사각형</text>\n",
       "    <rect x=\"100\" y=\"100\" width=\"250\" height=\"150\" stroke=\"black\" stroke-width=\"2\" fill=\"none\"/>\n",
       "    </svg>"
      ],
      "text/plain": [
       "<IPython.core.display.SVG object>"
      ]
     },
     "metadata": {},
     "output_type": "display_data"
    },
    {
     "name": "stdout",
     "output_type": "stream",
     "text": [
      "====================================================================================================\n",
      "요청한 문장: 한 변의 길이가 2인 정사각형 하나를 그려줘\n",
      "추출된 개념: Square\n",
      "추출된 인자: {'length': 2}\n",
      "\n",
      "생성된 코드:\n",
      " <svg width=\"500\" height=\"500\" xmlns=\"http://www.w3.org/2000/svg\">\n",
      "    <text x=\"250\" y=\"50\" font-size=\"25\" text-anchor=\"middle\">정사각형</text>\n",
      "    <rect x=\"100\" y=\"100\" width=\"200\" height=\"200\" stroke=\"black\" stroke-width=\"2\" fill=\"none\" />\n",
      "    </svg>\n",
      "\n",
      "생성된 설명:\n",
      " ### Square\n",
      "\n",
      "**정의:**\n",
      "사각형은 네 개의 변으로 이루어진 평면 도형입니다. 모든 내각이 직각(90도)이며, 반대편의 변들이 길이가 같아서 마주보는 두 변은 평행하고 길이가 동일합니다.\n",
      "\n",
      "**기본 성질:**\n",
      "1. **대변의 길이 동일:** 사각형의 마주보는 두 변은 길이가 같습니다. 예를 들어, 정사각형이나 직사각형에서는 모든 대변이 같은 길이를 가집니다.\n",
      "2. **대각선의 성질:** 사각형의 대각선은 서로를 반으로 나눕니다. 즉, 대각선이 만나는 점에서 대각선을 잇는 선분들은 서로를 절반으로 나눕니다.\n",
      "3. **변의 합:** 사각형의 네 변의 길이를 모두 더하면, 그 합은 사각형의 둘레를 나타냅니다. 예를 들어, 한 변의 길이가 \\(a\\)이고 다른 변의 길이가 \\(b\\)라면, 둘레는 \\(a + b + a + b = 2(a + b)\\)가 됩니다.\n",
      "4. **정사각형의 특징:** 정사각형은 모든 변의 길이가 같고 모든 내각이 직각인 특별한 사각형입니다. 모든 대각선도 길이가 같고 서로를 직각으로 이룹니다.\n",
      "\n",
      "이러한 성질들로 인해 사각형은 다양한 형태와 크기로 존재하며, 건축, 디자인, 그리고 일상생활에서 자주 볼 수 있는 도형입니다!\n",
      "\n",
      "생성된 공식 raw:\n",
      " {'perimeter': '4 \\\\times \\\\mathrm{한 변의 길이}', 'area': '\\\\mathrm{한 변의 길이} \\\\times \\\\mathrm{한 변의 길이}'}\n"
     ]
    },
    {
     "data": {
      "text/latex": [
       "$\\displaystyle 4 \\times \\mathrm{한 변의 길이}$"
      ],
      "text/plain": [
       "<IPython.core.display.Math object>"
      ]
     },
     "metadata": {},
     "output_type": "display_data"
    },
    {
     "data": {
      "text/latex": [
       "$\\displaystyle \\mathrm{한 변의 길이} \\times \\mathrm{한 변의 길이}$"
      ],
      "text/plain": [
       "<IPython.core.display.Math object>"
      ]
     },
     "metadata": {},
     "output_type": "display_data"
    },
    {
     "data": {
      "image/svg+xml": [
       "<svg xmlns=\"http://www.w3.org/2000/svg\" width=\"500\" height=\"500\">\n",
       "    <text x=\"250\" y=\"50\" font-size=\"25\" text-anchor=\"middle\">정사각형</text>\n",
       "    <rect x=\"100\" y=\"100\" width=\"200\" height=\"200\" stroke=\"black\" stroke-width=\"2\" fill=\"none\"/>\n",
       "    </svg>"
      ],
      "text/plain": [
       "<IPython.core.display.SVG object>"
      ]
     },
     "metadata": {},
     "output_type": "display_data"
    },
    {
     "name": "stdout",
     "output_type": "stream",
     "text": [
      "====================================================================================================\n",
      "요청한 문장: 곧은선이 뭐야?\n",
      "추출된 개념: 직선\n",
      "추출된 인자: {}\n",
      "\n",
      "생성된 코드:\n",
      " <svg width=\"500\" height=\"500\" xmlns=\"http://www.w3.org/2000/svg\">\n",
      "    <text x=\"250\" y=\"25\" font-size=\"25\" text-anchor=\"middle\">곧은선</text>\n",
      "    <text x=\"250\" y=\"75\" font-size=\"25\" text-anchor=\"middle\">선분</text>\n",
      "    <!-- 선분 -->\n",
      "    <circle cx=\"125\" cy=\"125\" r=\"1\" stroke=\"black\" stroke-width=\"2\" fill=\"black\" />\n",
      "    <circle cx=\"375\" cy=\"125\" r=\"1\" stroke=\"black\" stroke-width=\"2\" fill=\"black\" />\n",
      "    <line x1=\"125\" y1=\"125\" x2=\"375\" y2=\"125\" stroke=\"black\" stroke-width=\"2\" />\n",
      "    <!-- 반직선 -->\n",
      "    <text x=\"250\" y=\"175\" font-size=\"25\" text-anchor=\"middle\">반직선</text>\n",
      "    <circle cx=\"125\" cy=\"250\" r=\"1\" stroke=\"black\" stroke-width=\"2\" fill=\"black\" />\n",
      "    <circle cx=\"375\" cy=\"250\" r=\"1\" stroke=\"black\" stroke-width=\"2\" fill=\"black\" />\n",
      "    <line x1=\"125\" y1=\"250\" x2=\"500\" y2=\"250\" stroke=\"black\" stroke-width=\"2\" />\n",
      "    <!-- 직선 -->\n",
      "    <text x=\"250\" y=\"300\" font-size=\"25\" text-anchor=\"middle\">직선</text>\n",
      "    <circle cx=\"125\" cy=\"375\" r=\"1\" stroke=\"black\" stroke-width=\"2\" fill=\"black\" />\n",
      "    <circle cx=\"375\" cy=\"375\" r=\"1\" stroke=\"black\" stroke-width=\"2\" fill=\"black\" />\n",
      "    <line x1=\"0\" y1=\"375\" x2=\"500\" y2=\"375\" stroke=\"black\" stroke-width=\"2\" />\n",
      "    </svg>\n",
      "    \n",
      "\n",
      "생성된 설명:\n",
      " ### 직선에 대한 설명\n",
      "\n",
      "#### 정의\n",
      "직선은 평면 위에서 가장 짧은 거리로 두 점을 연결하는 선을 말합니다. 이 선은 양쪽으로 무한히 계속되며, 방향이 항상 일정합니다. 직선 위의 모든 점들은 서로 평행하게 연결되어 있어, 어떤 방향으로든 뻗어나갈 수 있습니다.\n",
      "\n",
      "#### 기본 성질\n",
      "1. **무한한 길이**: 직선은 양쪽으로 무한히 이어집니다. 즉, 시작점에서 끝점까지의 거리가 아무리 길어도 계속해서 뻗어나갈 수 있습니다.\n",
      "2. **평행한 선들**: 같은 방향으로 무한히 뻗어나가는 두 직선은 서로 평행합니다. 반대로, 서로 다른 방향으로 무한히 뻗어나가는 두 직선은 교차하지 않습니다.\n",
      "3. **직선 위의 점들**: 직선 위의 모든 점들은 서로 연결되어 있어, 어떤 두 점을 잇는 선분은 항상 직선의 일부분입니다.\n",
      "4. **직선의 대칭성**: 직선을 기준으로 대칭인 두 부분은 서로 완전히 일치합니다. 예를 들어, 한 점을 기준으로 대칭인 두 점은 직선 양쪽에 동일한 거리에 위치합니다.\n",
      "\n",
      "이러한 성질들로 인해 직선은 기하학에서 매우 중요한 개념으로 사용됩니다!\n"
     ]
    },
    {
     "data": {
      "image/svg+xml": [
       "<svg xmlns=\"http://www.w3.org/2000/svg\" width=\"500\" height=\"500\">\n",
       "    <text x=\"250\" y=\"25\" font-size=\"25\" text-anchor=\"middle\">곧은선</text>\n",
       "    <text x=\"250\" y=\"75\" font-size=\"25\" text-anchor=\"middle\">선분</text>\n",
       "    <!-- 선분 -->\n",
       "    <circle cx=\"125\" cy=\"125\" r=\"1\" stroke=\"black\" stroke-width=\"2\" fill=\"black\"/>\n",
       "    <circle cx=\"375\" cy=\"125\" r=\"1\" stroke=\"black\" stroke-width=\"2\" fill=\"black\"/>\n",
       "    <line x1=\"125\" y1=\"125\" x2=\"375\" y2=\"125\" stroke=\"black\" stroke-width=\"2\"/>\n",
       "    <!-- 반직선 -->\n",
       "    <text x=\"250\" y=\"175\" font-size=\"25\" text-anchor=\"middle\">반직선</text>\n",
       "    <circle cx=\"125\" cy=\"250\" r=\"1\" stroke=\"black\" stroke-width=\"2\" fill=\"black\"/>\n",
       "    <circle cx=\"375\" cy=\"250\" r=\"1\" stroke=\"black\" stroke-width=\"2\" fill=\"black\"/>\n",
       "    <line x1=\"125\" y1=\"250\" x2=\"500\" y2=\"250\" stroke=\"black\" stroke-width=\"2\"/>\n",
       "    <!-- 직선 -->\n",
       "    <text x=\"250\" y=\"300\" font-size=\"25\" text-anchor=\"middle\">직선</text>\n",
       "    <circle cx=\"125\" cy=\"375\" r=\"1\" stroke=\"black\" stroke-width=\"2\" fill=\"black\"/>\n",
       "    <circle cx=\"375\" cy=\"375\" r=\"1\" stroke=\"black\" stroke-width=\"2\" fill=\"black\"/>\n",
       "    <line x1=\"0\" y1=\"375\" x2=\"500\" y2=\"375\" stroke=\"black\" stroke-width=\"2\"/>\n",
       "    </svg>"
      ],
      "text/plain": [
       "<IPython.core.display.SVG object>"
      ]
     },
     "metadata": {},
     "output_type": "display_data"
    },
    {
     "name": "stdout",
     "output_type": "stream",
     "text": [
      "====================================================================================================\n",
      "요청한 문장: 대표적인 굽은선을 그려줘\n",
      "추출된 개념: 곡선\n",
      "추출된 인자: {'type': '타원', 'description': '타원은 가장 대표적인 굽은선의 한 종류로, 두 초점 사이의 거리의 합이 일정한 점들의 집합으로 정의됩니다.'}\n",
      "\n",
      "생성된 코드:\n",
      " \n",
      "    <svg width=\"500\" height=\"500\" xmlns=\"http://www.w3.org/2000/svg\">\n",
      "    <text x=\"250\" y=\"50\" font-size=\"25\" text-anchor=\"middle\">굽은선</text>\n",
      "    <!-- 복잡한 S자 곡선 (두 개의 Cubic Bézier) -->\n",
      "    <path d=\"M 100,400\n",
      "    C 100,100 400,100 400,250\n",
      "    C 400,400 100,400 100,100\"\n",
      "    stroke=\"black\" fill=\"none\" stroke-width=\"2\"/>\n",
      "    </svg>\n",
      "    \n",
      "\n",
      "생성된 설명:\n",
      " ### 곡선에 대한 설명\n",
      "\n",
      "**정의:**\n",
      "곡선은 직선이 아닌, 연속적으로 이어지는 점들의 모임으로 이루어진 도형입니다. 쉽게 말해, 직선처럼 일정한 방향으로만 움직이는 것이 아니라, 부드럽게 휘어지거나 굽어지는 형태를 가진 선을 말합니다.\n",
      "\n",
      "**기본 성질:**\n",
      "1. **연속성:** 곡선 위의 모든 점들은 부드럽게 이어져 있어, 어떤 작은 구간에서도 끊어지지 않고 이어집니다.\n",
      "2. **길이:** 곡선의 길이는 그 곡선을 따라 측정한 총 거리입니다. 이 길이는 곡선의 모양에 따라 달라집니다. 예를 들어, 원의 둘레는 반지름에 따라 결정되며, 이는 곡선의 길이를 정확히 계산하는 방법 중 하나입니다.\n",
      "3. **곡률:** 곡선이 얼마나 빠르게 방향을 바꾸는지를 나타내는 값입니다. 곡률이 크면 곡선이 더 급하게 굽어지고, 작으면 더 부드럽게 굽어집니다. 예를 들어, 원의 경우 모든 점에서 곡률이 일정합니다.\n",
      "4. **접선:** 곡선 위의 어떤 점에서 그 점을 지나는 가장 가까운 직선을 접선이라고 합니다. 이 접선은 그 점에서 곡선의 방향을 가장 잘 나타냅니다.\n",
      "\n",
      "이러한 성질들 덕분에 곡선은 자연 현상이나 공학적 설계 등 다양한 분야에서 중요한 역할을 합니다.\n"
     ]
    },
    {
     "data": {
      "image/svg+xml": [
       "<svg xmlns=\"http://www.w3.org/2000/svg\" width=\"500\" height=\"500\">\n",
       "    <text x=\"250\" y=\"50\" font-size=\"25\" text-anchor=\"middle\">굽은선</text>\n",
       "    <!-- 복잡한 S자 곡선 (두 개의 Cubic Bézier) -->\n",
       "    <path d=\"M 100,400     C 100,100 400,100 400,250     C 400,400 100,400 100,100\" stroke=\"black\" fill=\"none\" stroke-width=\"2\"/>\n",
       "    </svg>"
      ],
      "text/plain": [
       "<IPython.core.display.SVG object>"
      ]
     },
     "metadata": {},
     "output_type": "display_data"
    },
    {
     "name": "stdout",
     "output_type": "stream",
     "text": [
      "====================================================================================================\n",
      "요청한 문장: 중심이 (0,0)이고 반지름이 2인 원을 그려주세요.\n",
      "추출된 개념: Circle\n",
      "추출된 인자: {'radius': 2}\n",
      "\n",
      "생성된 코드:\n",
      " <svg width=\"500\" height=\"500\" xmlns=\"http://www.w3.org/2000/svg\">\n",
      "    <text x=\"250\" y=\"50\" font-size=\"25\" text-anchor=\"middle\">원</text>\n",
      "    <circle cx=\"250\" cy=\"250\" r=\"100\" stroke=\"black\" stroke-width=\"2\" fill=\"none\" />\n",
      "    <circle cx=\"250\" cy=\"250\" r=\"1\" stroke=\"black\" stroke-width=\"2\" fill=\"black\" />\n",
      "    <line x1=\"250\" y1=\"250\" x2=\"350\" y2=\"250\" stroke=\"black\" stroke-width=\"2\" />\n",
      "    </svg>\n",
      "    \n",
      "\n",
      "생성된 설명:\n",
      " ### Circle (원)\n",
      "\n",
      "#### 정의:\n",
      "원은 평면 위에서 한 점(중심)으로부터 일정한 거리(반지름)에 있는 모든 점들의 집합을 말합니다. 이 중심점을 기준으로 원 위의 모든 점들은 동일한 거리에 위치해 있습니다.\n",
      "\n",
      "#### 기본 성질:\n",
      "1. **둘레와 지름**: 원의 둘레는 지름에 π(약 3.14)를 곱한 값입니다. 즉, 둘레 = 지름 × π 입니다. 반대로 지름은 둘레를 π로 나누면 구할 수 있습니다.\n",
      "   \n",
      "2. **면적**: 원의 면적은 반지름의 제곱에 π를 곱한 값입니다. 공식으로 표현하면 면적 = π × 반지름2 입니다.\n",
      "\n",
      "3. **대칭성**: 원은 중심을 기준으로 완벽하게 대칭입니다. 즉, 중심을 지나는 어떤 직선을 기준으로 원을 접어도 양쪽이 완전히 일치합니다.\n",
      "\n",
      "4. **원주각과 호의 관계**: 원 위의 두 점을 잇는 호의 중앙각은 그 호에 대응하는 원주각의 두 배입니다. 예를 들어, 호의 중앙각이 θ라면 원주각은 θ/2가 됩니다.\n",
      "\n",
      "이러한 성질들로 인해 원은 기하학에서 매우 중요한 역할을 합니다. 다양한 도형과 문제 해결에 활용되며, 일상생활에서도 자주 접하게 되는 개념입니다.\n",
      "\n",
      "생성된 공식 raw:\n",
      " {'perimeter': '2 \\\\times 3.14 \\\\times 반지름', 'area': '3.14 \\\\times 반지름 \\\\times 반지름'}\n"
     ]
    },
    {
     "data": {
      "text/latex": [
       "$\\displaystyle 2 \\times 3.14 \\times 반지름$"
      ],
      "text/plain": [
       "<IPython.core.display.Math object>"
      ]
     },
     "metadata": {},
     "output_type": "display_data"
    },
    {
     "data": {
      "text/latex": [
       "$\\displaystyle 3.14 \\times 반지름 \\times 반지름$"
      ],
      "text/plain": [
       "<IPython.core.display.Math object>"
      ]
     },
     "metadata": {},
     "output_type": "display_data"
    },
    {
     "data": {
      "image/svg+xml": [
       "<svg xmlns=\"http://www.w3.org/2000/svg\" width=\"500\" height=\"500\">\n",
       "    <text x=\"250\" y=\"50\" font-size=\"25\" text-anchor=\"middle\">원</text>\n",
       "    <circle cx=\"250\" cy=\"250\" r=\"100\" stroke=\"black\" stroke-width=\"2\" fill=\"none\"/>\n",
       "    <circle cx=\"250\" cy=\"250\" r=\"1\" stroke=\"black\" stroke-width=\"2\" fill=\"black\"/>\n",
       "    <line x1=\"250\" y1=\"250\" x2=\"350\" y2=\"250\" stroke=\"black\" stroke-width=\"2\"/>\n",
       "    </svg>"
      ],
      "text/plain": [
       "<IPython.core.display.SVG object>"
      ]
     },
     "metadata": {},
     "output_type": "display_data"
    },
    {
     "name": "stdout",
     "output_type": "stream",
     "text": [
      "====================================================================================================\n",
      "요청한 문장: 37° 각도를 그려줘\n",
      "추출된 개념: 각도\n",
      "추출된 인자: {'size': 37}\n",
      "\n",
      "생성된 코드:\n",
      " <svg width=\"500\" height=\"375\" xmlns=\"http://www.w3.org/2000/svg\">\n",
      "    <text x=\"250\" y=\"50\" font-size=\"25\" text-anchor=\"middle\">각</text>\n",
      "    <!-- 기준선 -->\n",
      "    <line x1=\"125\" y1=\"333\" x2=\"375\" y2=\"333\" stroke=\"black\" stroke-width=\"2\" />\n",
      "    <!-- 기울어진 선 -->\n",
      "    <line x1=\"125\" y1=\"333\" x2=\"324.6588775118232\" y2=\"182.54624421198793\" stroke=\"black\" stroke-width=\"2\" />\n",
      "    <!-- 각도 호 -->\n",
      "    <path d=\"M 164.93177550236464,302.9092488423976 A 50,50 0 0,1 175,333\" stroke=\"black\" stroke-width=\"2\" fill=\"none\"/>\n",
      "    </svg>\n",
      "    \n",
      "\n",
      "생성된 설명:\n",
      " ### 각도에 대한 설명\n",
      "\n",
      "**정의:**\n",
      "각도는 두 직선이나 선분이 만나서 생기는 공간의 크기를 측정하는 방법입니다. 우리가 일상에서 자주 접하는 각도는 주로 도로 표지판에서 볼 수 있는 방향 지시나, 그림에서 선들이 만나는 부분을 표현할 때 사용됩니다.\n",
      "\n",
      "**기본 성질:**\n",
      "1. **직선의 각도:** 직선은 정확히 180도의 각도를 가집니다. 직선은 두 방향으로 무한히 이어지는 것처럼 보이지만, 실제로는 시작점과 끝점이 있습니다.\n",
      "   \n",
      "2. **직각 각도:** 직각은 90도를 의미합니다. 이는 우리가 흔히 사용하는 'L'자 모양의 모서리나 사각형의 모서리에서 볼 수 있습니다. 직각은 두 직선이 서로 수직으로 만나는 경우에 생깁니다.\n",
      "\n",
      "3. **평행선과 각도:** 평행한 두 직선은 만나지 않기 때문에, 그들 사이의 각도는 항상 같습니다. 예를 들어, 두 평행선 위에 그려진 삼각형의 한 각은 다른 각과 크기가 동일합니다.\n",
      "\n",
      "4. **복합 각도:** 여러 각도를 합쳐서 더 큰 각도를 만들 수 있습니다. 예를 들어, 두 개의 직각 각도를 합치면 180도가 됩니다.\n",
      "\n",
      "이러한 기본적인 개념들을 이해하면 각도에 대한 다양한 문제를 풀 때 도움이 될 것입니다!\n"
     ]
    },
    {
     "data": {
      "image/svg+xml": [
       "<svg xmlns=\"http://www.w3.org/2000/svg\" width=\"500\" height=\"375\">\n",
       "    <text x=\"250\" y=\"50\" font-size=\"25\" text-anchor=\"middle\">각</text>\n",
       "    <!-- 기준선 -->\n",
       "    <line x1=\"125\" y1=\"333\" x2=\"375\" y2=\"333\" stroke=\"black\" stroke-width=\"2\"/>\n",
       "    <!-- 기울어진 선 -->\n",
       "    <line x1=\"125\" y1=\"333\" x2=\"324.6588775118232\" y2=\"182.54624421198793\" stroke=\"black\" stroke-width=\"2\"/>\n",
       "    <!-- 각도 호 -->\n",
       "    <path d=\"M 164.93177550236464,302.9092488423976 A 50,50 0 0,1 175,333\" stroke=\"black\" stroke-width=\"2\" fill=\"none\"/>\n",
       "    </svg>"
      ],
      "text/plain": [
       "<IPython.core.display.SVG object>"
      ]
     },
     "metadata": {},
     "output_type": "display_data"
    },
    {
     "name": "stdout",
     "output_type": "stream",
     "text": [
      "====================================================================================================\n",
      "요청한 문장: 직각을 표현해줘\n",
      "추출된 개념: Right Angle\n",
      "추출된 인자: {}\n",
      "\n",
      "생성된 코드:\n",
      " <svg width=\"500\" height=\"500\" xmlns=\"http://www.w3.org/2000/svg\">\n",
      "    <text x=\"250\" y=\"50\" font-size=\"25\" text-anchor=\"middle\">직각</text>\n",
      "    <!-- 기준선 -->\n",
      "    <line x1=\"125\" y1=\"400\" x2=\"458\" y2=\"400\" stroke=\"black\" stroke-width=\"2\" />\n",
      "    <!-- 기울어진 선 -->\n",
      "    <line x1=\"125\" y1=\"400\" x2=\"125\" y2=\"67\" stroke=\"black\" stroke-width=\"2\" />\n",
      "    <!-- 직각 보조선 -->\n",
      "    <line x1=\"175\" y1=\"400\" x2=\"175\" y2=\"350\" stroke=\"black\" stroke-width=\"2\" />\n",
      "    <line x1=\"125\" y1=\"350\" x2=\"175\" y2=\"350\" stroke=\"black\" stroke-width=\"2\" />\n",
      "    </svg>\n",
      "    \n",
      "\n",
      "생성된 설명:\n",
      " ### Right Angle\n",
      "\n",
      "**정의:**\n",
      "Right Angle은 기하학에서 가장 기본적인 각도 중 하나로, 정확히 90도를 이루는 각도를 말합니다. 이 각도는 직각이라고도 불리며, 직선이나 특정 도형의 모서리에서 만나는 두 변이 서로 수직으로 만나는 경우에 나타납니다.\n",
      "\n",
      "**기본 성질:**\n",
      "1. **크기:** Right Angle은 항상 정확히 90도입니다. 이는 모든 Right Angle이 동일한 크기를 가짐을 의미합니다.\n",
      "2. **모양:** Right Angle은 보통 'L' 모양으로 쉽게 인식할 수 있습니다. 이 모양은 직각을 나타내는 데 자주 사용됩니다.\n",
      "3. **도형과의 관계:** 직각은 사각형, 직사각형, 정사각형 등 다양한 도형의 모서리에서 발견됩니다. 특히, 직사각형이나 정사각형은 네 개의 Right Angle을 가지고 있습니다.\n",
      "4. **삼각형과의 연관성:** 직각삼각형은 한 내각이 정확히 Right Angle인 삼각형을 의미합니다. 이 삼각형은 세 변의 길이 관계를 통해 피타고라스 정리를 적용할 수 있습니다.\n",
      "\n",
      "이러한 성질들로 인해 Right Angle은 수학에서 매우 중요한 개념으로 자리잡고 있습니다!\n"
     ]
    },
    {
     "data": {
      "image/svg+xml": [
       "<svg xmlns=\"http://www.w3.org/2000/svg\" width=\"500\" height=\"500\">\n",
       "    <text x=\"250\" y=\"50\" font-size=\"25\" text-anchor=\"middle\">직각</text>\n",
       "    <!-- 기준선 -->\n",
       "    <line x1=\"125\" y1=\"400\" x2=\"458\" y2=\"400\" stroke=\"black\" stroke-width=\"2\"/>\n",
       "    <!-- 기울어진 선 -->\n",
       "    <line x1=\"125\" y1=\"400\" x2=\"125\" y2=\"67\" stroke=\"black\" stroke-width=\"2\"/>\n",
       "    <!-- 직각 보조선 -->\n",
       "    <line x1=\"175\" y1=\"400\" x2=\"175\" y2=\"350\" stroke=\"black\" stroke-width=\"2\"/>\n",
       "    <line x1=\"125\" y1=\"350\" x2=\"175\" y2=\"350\" stroke=\"black\" stroke-width=\"2\"/>\n",
       "    </svg>"
      ],
      "text/plain": [
       "<IPython.core.display.SVG object>"
      ]
     },
     "metadata": {},
     "output_type": "display_data"
    },
    {
     "name": "stdout",
     "output_type": "stream",
     "text": [
      "====================================================================================================\n",
      "요청한 문장: 밑변이 3이고, 높이가 4인 직각삼각형 하나를 그려줘\n",
      "추출된 개념: Right Triangle\n",
      "추출된 인자: {'base': 3, 'height': 4}\n",
      "\n",
      "생성된 코드:\n",
      " <svg width=\"500\" height=\"500\" xmlns=\"http://www.w3.org/2000/svg\">\n",
      "    <text x=\"250\" y=\"50\" font-size=\"25\" text-anchor=\"middle\">직각삼각형</text>\n",
      "    <!-- 직각삼각형 -->\n",
      "    <line x1=\"83\" y1=\"416\" x2=\"308\" y2=\"416\" stroke=\"black\" stroke-width=\"2\" />\n",
      "    <line x1=\"308\" y1=\"416\" x2=\"308\" y2=\"166\" stroke=\"black\" stroke-width=\"2\" />\n",
      "    <line x1=\"83\" y1=\"416\" x2=\"308\" y2=\"166\" stroke=\"black\" stroke-width=\"2\" />\n",
      "    <!-- 직각 보조선 -->\n",
      "    <line x1=\"286\" y1=\"416\" x2=\"286\" y2=\"394\" stroke=\"black\" stroke-width=\"2\" />\n",
      "    <line x1=\"286\" y1=\"394\" x2=\"308\" y2=\"394\" stroke=\"black\" stroke-width=\"2\" />\n",
      "    </svg>\n",
      "    \n",
      "\n",
      "생성된 설명:\n",
      " ### Right Triangle\n",
      "\n",
      "**정의:**\n",
      "A right triangle is a special type of triangle that has one angle which measures exactly 90 degrees (a right angle). This unique angle distinguishes it from other triangles where all angles are less than 90 degrees.\n",
      "\n",
      "**기본 성질:**\n",
      "1. **한 각이 직각:** 가장 중요한 특징은 한 꼭짓점에서 직각(90°)을 이루는 것입니다.\n",
      "2. **직각을 중심으로 두 개의 다른 각:** 나머지 두 각은 합쳐 90도가 됩니다. 따라서 이 두 각은 서로 보완각(complementary angles)입니다.\n",
      "3. **피타고라스 정리 적용 가능:** 직각 삼각형에서는 가장 긴 변을 빗변(hypotenuse)이라고 부르며, 이 빗변의 길이는 다른 두 변(직각을 이루는 두 변을 밑변과 높이라고도 부릅니다)의 길이와 특별한 관계를 가집니다. 이 관계는 피타고라스 정리로 표현되는데, 수학적으로는 \\(a^2 + b^2 = c^2\\) 입니다 (여기서 \\(c\\)는 빗변의 길이이고, \\(a\\)와 \\(b\\)는 다른 두 변의 길이입니다). 하지만 문제 해결을 위해 직접적인 공식보다는 이 관계를 이해하는 것이 중요합니다.\n",
      "4. **삼각형의 종류:** 직각 삼각형은 그 각도에 따라 다양한 종류로 나눌 수 있습니다. 예를 들어, 모든 변의 길이가 정수인 직각 삼각형을 피타고라스 삼각형이라고 부르기도 합니다.\n",
      "\n",
      "이런 특징들로 인해 직각 삼각형은 건축, 공학, 그리고 다양한 실생활 문제 해결에서 매우 중요한 역할을 합니다!\n",
      "\n",
      "생성된 공식 raw:\n",
      " {'perimeter': '밑변 + 높이 + 빗변', 'area': '밑변 × 높이 ÷ 2'}\n"
     ]
    },
    {
     "data": {
      "text/latex": [
       "$\\displaystyle 밑변 + 높이 + 빗변$"
      ],
      "text/plain": [
       "<IPython.core.display.Math object>"
      ]
     },
     "metadata": {},
     "output_type": "display_data"
    },
    {
     "data": {
      "text/latex": [
       "$\\displaystyle 밑변 × 높이 ÷ 2$"
      ],
      "text/plain": [
       "<IPython.core.display.Math object>"
      ]
     },
     "metadata": {},
     "output_type": "display_data"
    },
    {
     "data": {
      "image/svg+xml": [
       "<svg xmlns=\"http://www.w3.org/2000/svg\" width=\"500\" height=\"500\">\n",
       "    <text x=\"250\" y=\"50\" font-size=\"25\" text-anchor=\"middle\">직각삼각형</text>\n",
       "    <!-- 직각삼각형 -->\n",
       "    <line x1=\"83\" y1=\"416\" x2=\"308\" y2=\"416\" stroke=\"black\" stroke-width=\"2\"/>\n",
       "    <line x1=\"308\" y1=\"416\" x2=\"308\" y2=\"166\" stroke=\"black\" stroke-width=\"2\"/>\n",
       "    <line x1=\"83\" y1=\"416\" x2=\"308\" y2=\"166\" stroke=\"black\" stroke-width=\"2\"/>\n",
       "    <!-- 직각 보조선 -->\n",
       "    <line x1=\"286\" y1=\"416\" x2=\"286\" y2=\"394\" stroke=\"black\" stroke-width=\"2\"/>\n",
       "    <line x1=\"286\" y1=\"394\" x2=\"308\" y2=\"394\" stroke=\"black\" stroke-width=\"2\"/>\n",
       "    </svg>"
      ],
      "text/plain": [
       "<IPython.core.display.SVG object>"
      ]
     },
     "metadata": {},
     "output_type": "display_data"
    },
    {
     "name": "stdout",
     "output_type": "stream",
     "text": [
      "====================================================================================================\n",
      "요청한 문장: 가로가 5, 세로가 3인 직사각형의 넓이\n",
      "추출된 개념: Rectangle\n",
      "추출된 인자: {'width': 5, 'height': 3}\n",
      "\n",
      "생성된 코드:\n",
      " <svg width=\"500\" height=\"312\" xmlns=\"http://www.w3.org/2000/svg\">\n",
      "    <text x=\"250\" y=\"50\" font-size=\"25\" text-anchor=\"middle\">직사각형</text>\n",
      "    <rect x=\"100\" y=\"100\" width=\"250\" height=\"150\" stroke=\"black\" stroke-width=\"2\" fill=\"none\" />\n",
      "    </svg>\n",
      "\n",
      "생성된 설명:\n",
      " ### Rectangle 설명\n",
      "\n",
      "**정의:**\n",
      "사각형은 네 개의 직선으로 둘러싸인 평면 도형으로, 각 내각이 직각(90도)인 특징을 가지고 있습니다. 즉, 사각형의 네 모서리는 모두 직각을 이루며, 대변이 평행하고 길이가 같은 특성을 갖습니다.\n",
      "\n",
      "**기본 성질:**\n",
      "1. **대변의 길이가 같음:** 사각형의 두 쌍의 대변은 길이가 동일합니다. 예를 들어, 가로와 세로가 같은 길이를 가집니다.\n",
      "2. **대각선이 서로 같음:** 사각형의 두 대각선은 길이가 같습니다. 즉, 사각형을 두 개의 동일한 삼각형으로 나눌 수 있습니다.\n",
      "3. **내각의 합:** 사각형의 네 내각의 합은 항상 360도입니다.\n",
      "4. **변의 배열:** 사각형은 여러 가지 형태로 배열될 수 있습니다. 예를 들어, 직사각형은 가로와 세로가 각각 다른 길이를 가질 수 있으며, 정사각형은 모든 변의 길이가 같고 모든 내각이 직각인 특별한 형태의 사각형입니다.\n",
      "\n",
      "이러한 성질들로 인해 사각형은 우리 일상생활에서 매우 흔하게 볼 수 있는 도형입니다!\n",
      "\n",
      "생성된 공식 raw:\n",
      " {'perimeter': '2 × (밑변 + 높이)', 'area': '밑변 × 높이'}\n"
     ]
    },
    {
     "data": {
      "text/latex": [
       "$\\displaystyle 2 × (밑변 + 높이)$"
      ],
      "text/plain": [
       "<IPython.core.display.Math object>"
      ]
     },
     "metadata": {},
     "output_type": "display_data"
    },
    {
     "data": {
      "text/latex": [
       "$\\displaystyle 밑변 × 높이$"
      ],
      "text/plain": [
       "<IPython.core.display.Math object>"
      ]
     },
     "metadata": {},
     "output_type": "display_data"
    },
    {
     "data": {
      "image/svg+xml": [
       "<svg xmlns=\"http://www.w3.org/2000/svg\" width=\"500\" height=\"312\">\n",
       "    <text x=\"250\" y=\"50\" font-size=\"25\" text-anchor=\"middle\">직사각형</text>\n",
       "    <rect x=\"100\" y=\"100\" width=\"250\" height=\"150\" stroke=\"black\" stroke-width=\"2\" fill=\"none\"/>\n",
       "    </svg>"
      ],
      "text/plain": [
       "<IPython.core.display.SVG object>"
      ]
     },
     "metadata": {},
     "output_type": "display_data"
    },
    {
     "name": "stdout",
     "output_type": "stream",
     "text": [
      "====================================================================================================\n",
      "요청한 문장: 한 변의 길이가 2인 정사각형 하나를 그려줘\n",
      "추출된 개념: Square\n",
      "추출된 인자: {'length': 2}\n",
      "\n",
      "생성된 코드:\n",
      " <svg width=\"500\" height=\"500\" xmlns=\"http://www.w3.org/2000/svg\">\n",
      "    <text x=\"250\" y=\"50\" font-size=\"25\" text-anchor=\"middle\">정사각형</text>\n",
      "    <rect x=\"100\" y=\"100\" width=\"200\" height=\"200\" stroke=\"black\" stroke-width=\"2\" fill=\"none\" />\n",
      "    </svg>\n",
      "\n",
      "생성된 설명:\n",
      " ### Square\n",
      "\n",
      "**정의:**\n",
      "사각형은 네 개의 변으로 이루어진 평면 도형입니다. 모든 내각이 직각(90도)이며, 반대편의 변들이 길이가 같아서 마주보는 두 변은 평행하고 길이가 동일합니다.\n",
      "\n",
      "**기본 성질:**\n",
      "1. **대변의 길이 동일:** 사각형의 마주보는 두 변은 길이가 같습니다. 예를 들어, 정사각형이나 직사각형에서는 모든 대변이 같은 길이를 가집니다.\n",
      "2. **대각선의 성질:** 사각형의 대각선은 서로를 반으로 나눕니다. 즉, 대각선이 만나는 점에서 대각선을 잇는 선분들은 서로를 절반으로 나눕니다.\n",
      "3. **변의 합:** 사각형의 네 변의 길이를 모두 더하면, 그 합은 사각형의 둘레를 나타냅니다. 예를 들어, 한 변의 길이가 \\(a\\)이고 다른 변의 길이가 \\(b\\)라면, 둘레는 \\(a + b + a + b = 2(a + b)\\)가 됩니다.\n",
      "4. **정사각형의 특징:** 정사각형은 모든 변의 길이가 같고 모든 내각이 직각인 특별한 사각형입니다. 모든 대각선도 길이가 같고 서로를 직각으로 이룹니다.\n",
      "\n",
      "이러한 성질들로 인해 사각형은 다양한 형태와 크기로 존재하며, 건축, 디자인, 그리고 일상생활에서 자주 볼 수 있는 도형입니다!\n",
      "\n",
      "생성된 공식 raw:\n",
      " {'perimeter': '4 \\\\times \\\\mathrm{한 변의 길이}', 'area': '\\\\mathrm{한 변의 길이} \\\\times \\\\mathrm{한 변의 길이}'}\n"
     ]
    },
    {
     "data": {
      "text/latex": [
       "$\\displaystyle 4 \\times \\mathrm{한 변의 길이}$"
      ],
      "text/plain": [
       "<IPython.core.display.Math object>"
      ]
     },
     "metadata": {},
     "output_type": "display_data"
    },
    {
     "data": {
      "text/latex": [
       "$\\displaystyle \\mathrm{한 변의 길이} \\times \\mathrm{한 변의 길이}$"
      ],
      "text/plain": [
       "<IPython.core.display.Math object>"
      ]
     },
     "metadata": {},
     "output_type": "display_data"
    },
    {
     "data": {
      "image/svg+xml": [
       "<svg xmlns=\"http://www.w3.org/2000/svg\" width=\"500\" height=\"500\">\n",
       "    <text x=\"250\" y=\"50\" font-size=\"25\" text-anchor=\"middle\">정사각형</text>\n",
       "    <rect x=\"100\" y=\"100\" width=\"200\" height=\"200\" stroke=\"black\" stroke-width=\"2\" fill=\"none\"/>\n",
       "    </svg>"
      ],
      "text/plain": [
       "<IPython.core.display.SVG object>"
      ]
     },
     "metadata": {},
     "output_type": "display_data"
    },
    {
     "name": "stdout",
     "output_type": "stream",
     "text": [
      "====================================================================================================\n",
      "요청한 문장: 곧은선이 뭐야?\n",
      "추출된 개념: 직선\n",
      "추출된 인자: {}\n",
      "\n",
      "생성된 코드:\n",
      " <svg width=\"500\" height=\"500\" xmlns=\"http://www.w3.org/2000/svg\">\n",
      "    <text x=\"250\" y=\"25\" font-size=\"25\" text-anchor=\"middle\">곧은선</text>\n",
      "    <text x=\"250\" y=\"75\" font-size=\"25\" text-anchor=\"middle\">선분</text>\n",
      "    <!-- 선분 -->\n",
      "    <circle cx=\"125\" cy=\"125\" r=\"1\" stroke=\"black\" stroke-width=\"2\" fill=\"black\" />\n",
      "    <circle cx=\"375\" cy=\"125\" r=\"1\" stroke=\"black\" stroke-width=\"2\" fill=\"black\" />\n",
      "    <line x1=\"125\" y1=\"125\" x2=\"375\" y2=\"125\" stroke=\"black\" stroke-width=\"2\" />\n",
      "    <!-- 반직선 -->\n",
      "    <text x=\"250\" y=\"175\" font-size=\"25\" text-anchor=\"middle\">반직선</text>\n",
      "    <circle cx=\"125\" cy=\"250\" r=\"1\" stroke=\"black\" stroke-width=\"2\" fill=\"black\" />\n",
      "    <circle cx=\"375\" cy=\"250\" r=\"1\" stroke=\"black\" stroke-width=\"2\" fill=\"black\" />\n",
      "    <line x1=\"125\" y1=\"250\" x2=\"500\" y2=\"250\" stroke=\"black\" stroke-width=\"2\" />\n",
      "    <!-- 직선 -->\n",
      "    <text x=\"250\" y=\"300\" font-size=\"25\" text-anchor=\"middle\">직선</text>\n",
      "    <circle cx=\"125\" cy=\"375\" r=\"1\" stroke=\"black\" stroke-width=\"2\" fill=\"black\" />\n",
      "    <circle cx=\"375\" cy=\"375\" r=\"1\" stroke=\"black\" stroke-width=\"2\" fill=\"black\" />\n",
      "    <line x1=\"0\" y1=\"375\" x2=\"500\" y2=\"375\" stroke=\"black\" stroke-width=\"2\" />\n",
      "    </svg>\n",
      "    \n",
      "\n",
      "생성된 설명:\n",
      " ### 직선에 대한 설명\n",
      "\n",
      "#### 정의\n",
      "직선은 평면 위에서 가장 짧은 거리로 두 점을 연결하는 선을 말합니다. 이 선은 양쪽으로 무한히 계속되며, 방향이 항상 일정합니다. 직선 위의 모든 점들은 서로 평행하게 연결되어 있어, 어떤 방향으로든 뻗어나갈 수 있습니다.\n",
      "\n",
      "#### 기본 성질\n",
      "1. **무한한 길이**: 직선은 양쪽으로 무한히 이어집니다. 즉, 시작점에서 끝점까지의 거리가 아무리 길어도 계속해서 뻗어나갈 수 있습니다.\n",
      "2. **평행한 선들**: 같은 방향으로 무한히 뻗어나가는 두 직선은 서로 평행합니다. 반대로, 서로 다른 방향으로 무한히 뻗어나가는 두 직선은 교차하지 않습니다.\n",
      "3. **직선 위의 점들**: 직선 위의 모든 점들은 서로 연결되어 있어, 어떤 두 점을 잇는 선분은 항상 직선의 일부분입니다.\n",
      "4. **직선의 대칭성**: 직선을 기준으로 대칭인 두 부분은 서로 완전히 일치합니다. 예를 들어, 한 점을 기준으로 대칭인 두 점은 직선 양쪽에 동일한 거리에 위치합니다.\n",
      "\n",
      "이러한 성질들로 인해 직선은 기하학에서 매우 중요한 개념으로 사용됩니다!\n"
     ]
    },
    {
     "data": {
      "image/svg+xml": [
       "<svg xmlns=\"http://www.w3.org/2000/svg\" width=\"500\" height=\"500\">\n",
       "    <text x=\"250\" y=\"25\" font-size=\"25\" text-anchor=\"middle\">곧은선</text>\n",
       "    <text x=\"250\" y=\"75\" font-size=\"25\" text-anchor=\"middle\">선분</text>\n",
       "    <!-- 선분 -->\n",
       "    <circle cx=\"125\" cy=\"125\" r=\"1\" stroke=\"black\" stroke-width=\"2\" fill=\"black\"/>\n",
       "    <circle cx=\"375\" cy=\"125\" r=\"1\" stroke=\"black\" stroke-width=\"2\" fill=\"black\"/>\n",
       "    <line x1=\"125\" y1=\"125\" x2=\"375\" y2=\"125\" stroke=\"black\" stroke-width=\"2\"/>\n",
       "    <!-- 반직선 -->\n",
       "    <text x=\"250\" y=\"175\" font-size=\"25\" text-anchor=\"middle\">반직선</text>\n",
       "    <circle cx=\"125\" cy=\"250\" r=\"1\" stroke=\"black\" stroke-width=\"2\" fill=\"black\"/>\n",
       "    <circle cx=\"375\" cy=\"250\" r=\"1\" stroke=\"black\" stroke-width=\"2\" fill=\"black\"/>\n",
       "    <line x1=\"125\" y1=\"250\" x2=\"500\" y2=\"250\" stroke=\"black\" stroke-width=\"2\"/>\n",
       "    <!-- 직선 -->\n",
       "    <text x=\"250\" y=\"300\" font-size=\"25\" text-anchor=\"middle\">직선</text>\n",
       "    <circle cx=\"125\" cy=\"375\" r=\"1\" stroke=\"black\" stroke-width=\"2\" fill=\"black\"/>\n",
       "    <circle cx=\"375\" cy=\"375\" r=\"1\" stroke=\"black\" stroke-width=\"2\" fill=\"black\"/>\n",
       "    <line x1=\"0\" y1=\"375\" x2=\"500\" y2=\"375\" stroke=\"black\" stroke-width=\"2\"/>\n",
       "    </svg>"
      ],
      "text/plain": [
       "<IPython.core.display.SVG object>"
      ]
     },
     "metadata": {},
     "output_type": "display_data"
    },
    {
     "name": "stdout",
     "output_type": "stream",
     "text": [
      "====================================================================================================\n",
      "요청한 문장: 대표적인 굽은선을 그려줘\n",
      "추출된 개념: 곡선\n",
      "추출된 인자: {'type': '타원', 'description': '타원은 가장 대표적인 굽은선의 한 종류로, 두 초점 사이의 거리의 합이 일정한 점들의 집합으로 정의됩니다.'}\n",
      "\n",
      "생성된 코드:\n",
      " \n",
      "    <svg width=\"500\" height=\"500\" xmlns=\"http://www.w3.org/2000/svg\">\n",
      "    <text x=\"250\" y=\"50\" font-size=\"25\" text-anchor=\"middle\">굽은선</text>\n",
      "    <!-- 복잡한 S자 곡선 (두 개의 Cubic Bézier) -->\n",
      "    <path d=\"M 100,400\n",
      "    C 100,100 400,100 400,250\n",
      "    C 400,400 100,400 100,100\"\n",
      "    stroke=\"black\" fill=\"none\" stroke-width=\"2\"/>\n",
      "    </svg>\n",
      "    \n",
      "\n",
      "생성된 설명:\n",
      " ### 곡선에 대한 설명\n",
      "\n",
      "**정의:**\n",
      "곡선은 직선이 아닌, 연속적으로 이어지는 점들의 모임으로 이루어진 도형입니다. 쉽게 말해, 직선처럼 일정한 방향으로만 움직이는 것이 아니라, 부드럽게 휘어지거나 굽어지는 형태를 가진 선을 말합니다.\n",
      "\n",
      "**기본 성질:**\n",
      "1. **연속성:** 곡선 위의 모든 점들은 부드럽게 이어져 있어, 어떤 작은 구간에서도 끊어지지 않고 이어집니다.\n",
      "2. **길이:** 곡선의 길이는 그 곡선을 따라 측정한 총 거리입니다. 이 길이는 곡선의 모양에 따라 달라집니다. 예를 들어, 원의 둘레는 반지름에 따라 결정되며, 이는 곡선의 길이를 정확히 계산하는 방법 중 하나입니다.\n",
      "3. **곡률:** 곡선이 얼마나 빠르게 방향을 바꾸는지를 나타내는 값입니다. 곡률이 크면 곡선이 더 급하게 굽어지고, 작으면 더 부드럽게 굽어집니다. 예를 들어, 원의 경우 모든 점에서 곡률이 일정합니다.\n",
      "4. **접선:** 곡선 위의 어떤 점에서 그 점을 지나는 가장 가까운 직선을 접선이라고 합니다. 이 접선은 그 점에서 곡선의 방향을 가장 잘 나타냅니다.\n",
      "\n",
      "이러한 성질들 덕분에 곡선은 자연 현상이나 공학적 설계 등 다양한 분야에서 중요한 역할을 합니다.\n"
     ]
    },
    {
     "data": {
      "image/svg+xml": [
       "<svg xmlns=\"http://www.w3.org/2000/svg\" width=\"500\" height=\"500\">\n",
       "    <text x=\"250\" y=\"50\" font-size=\"25\" text-anchor=\"middle\">굽은선</text>\n",
       "    <!-- 복잡한 S자 곡선 (두 개의 Cubic Bézier) -->\n",
       "    <path d=\"M 100,400     C 100,100 400,100 400,250     C 400,400 100,400 100,100\" stroke=\"black\" fill=\"none\" stroke-width=\"2\"/>\n",
       "    </svg>"
      ],
      "text/plain": [
       "<IPython.core.display.SVG object>"
      ]
     },
     "metadata": {},
     "output_type": "display_data"
    },
    {
     "name": "stdout",
     "output_type": "stream",
     "text": [
      "====================================================================================================\n",
      "요청한 문장: 중심이 (0,0)이고 반지름이 2인 원을 그려주세요.\n",
      "추출된 개념: Circle\n",
      "추출된 인자: {'radius': 2}\n",
      "\n",
      "생성된 코드:\n",
      " <svg width=\"500\" height=\"500\" xmlns=\"http://www.w3.org/2000/svg\">\n",
      "    <text x=\"250\" y=\"50\" font-size=\"25\" text-anchor=\"middle\">원</text>\n",
      "    <circle cx=\"250\" cy=\"250\" r=\"100\" stroke=\"black\" stroke-width=\"2\" fill=\"none\" />\n",
      "    <circle cx=\"250\" cy=\"250\" r=\"1\" stroke=\"black\" stroke-width=\"2\" fill=\"black\" />\n",
      "    <line x1=\"250\" y1=\"250\" x2=\"350\" y2=\"250\" stroke=\"black\" stroke-width=\"2\" />\n",
      "    </svg>\n",
      "    \n",
      "\n",
      "생성된 설명:\n",
      " ### Circle (원)\n",
      "\n",
      "#### 정의:\n",
      "원은 평면 위에서 한 점(중심)으로부터 일정한 거리(반지름)에 있는 모든 점들의 집합을 말합니다. 이 중심점을 기준으로 원 위의 모든 점들은 동일한 거리에 위치해 있습니다.\n",
      "\n",
      "#### 기본 성질:\n",
      "1. **둘레와 지름**: 원의 둘레는 지름에 π(약 3.14)를 곱한 값입니다. 즉, 둘레 = 지름 × π 입니다. 반대로 지름은 둘레를 π로 나누면 구할 수 있습니다.\n",
      "   \n",
      "2. **면적**: 원의 면적은 반지름의 제곱에 π를 곱한 값입니다. 공식으로 표현하면 면적 = π × 반지름2 입니다.\n",
      "\n",
      "3. **대칭성**: 원은 중심을 기준으로 완벽하게 대칭입니다. 즉, 중심을 지나는 어떤 직선을 기준으로 원을 접어도 양쪽이 완전히 일치합니다.\n",
      "\n",
      "4. **원주각과 호의 관계**: 원 위의 두 점을 잇는 호의 중앙각은 그 호에 대응하는 원주각의 두 배입니다. 예를 들어, 호의 중앙각이 θ라면 원주각은 θ/2가 됩니다.\n",
      "\n",
      "이러한 성질들로 인해 원은 기하학에서 매우 중요한 역할을 합니다. 다양한 도형과 문제 해결에 활용되며, 일상생활에서도 자주 접하게 되는 개념입니다.\n",
      "\n",
      "생성된 공식 raw:\n",
      " {'perimeter': '2 \\\\times 3.14 \\\\times 반지름', 'area': '3.14 \\\\times 반지름 \\\\times 반지름'}\n"
     ]
    },
    {
     "data": {
      "text/latex": [
       "$\\displaystyle 2 \\times 3.14 \\times 반지름$"
      ],
      "text/plain": [
       "<IPython.core.display.Math object>"
      ]
     },
     "metadata": {},
     "output_type": "display_data"
    },
    {
     "data": {
      "text/latex": [
       "$\\displaystyle 3.14 \\times 반지름 \\times 반지름$"
      ],
      "text/plain": [
       "<IPython.core.display.Math object>"
      ]
     },
     "metadata": {},
     "output_type": "display_data"
    },
    {
     "data": {
      "image/svg+xml": [
       "<svg xmlns=\"http://www.w3.org/2000/svg\" width=\"500\" height=\"500\">\n",
       "    <text x=\"250\" y=\"50\" font-size=\"25\" text-anchor=\"middle\">원</text>\n",
       "    <circle cx=\"250\" cy=\"250\" r=\"100\" stroke=\"black\" stroke-width=\"2\" fill=\"none\"/>\n",
       "    <circle cx=\"250\" cy=\"250\" r=\"1\" stroke=\"black\" stroke-width=\"2\" fill=\"black\"/>\n",
       "    <line x1=\"250\" y1=\"250\" x2=\"350\" y2=\"250\" stroke=\"black\" stroke-width=\"2\"/>\n",
       "    </svg>"
      ],
      "text/plain": [
       "<IPython.core.display.SVG object>"
      ]
     },
     "metadata": {},
     "output_type": "display_data"
    },
    {
     "name": "stdout",
     "output_type": "stream",
     "text": [
      "====================================================================================================\n",
      "요청한 문장: 37° 각도를 그려줘\n",
      "추출된 개념: 각도\n",
      "추출된 인자: {'size': 37}\n",
      "\n",
      "생성된 코드:\n",
      " <svg width=\"500\" height=\"375\" xmlns=\"http://www.w3.org/2000/svg\">\n",
      "    <text x=\"250\" y=\"50\" font-size=\"25\" text-anchor=\"middle\">각</text>\n",
      "    <!-- 기준선 -->\n",
      "    <line x1=\"125\" y1=\"333\" x2=\"375\" y2=\"333\" stroke=\"black\" stroke-width=\"2\" />\n",
      "    <!-- 기울어진 선 -->\n",
      "    <line x1=\"125\" y1=\"333\" x2=\"324.6588775118232\" y2=\"182.54624421198793\" stroke=\"black\" stroke-width=\"2\" />\n",
      "    <!-- 각도 호 -->\n",
      "    <path d=\"M 164.93177550236464,302.9092488423976 A 50,50 0 0,1 175,333\" stroke=\"black\" stroke-width=\"2\" fill=\"none\"/>\n",
      "    </svg>\n",
      "    \n",
      "\n",
      "생성된 설명:\n",
      " ### 각도에 대한 설명\n",
      "\n",
      "**정의:**\n",
      "각도는 두 직선이나 선분이 만나서 생기는 공간의 크기를 측정하는 방법입니다. 우리가 일상에서 자주 접하는 각도는 주로 도로 표지판에서 볼 수 있는 방향 지시나, 그림에서 선들이 만나는 부분을 표현할 때 사용됩니다.\n",
      "\n",
      "**기본 성질:**\n",
      "1. **직선의 각도:** 직선은 정확히 180도의 각도를 가집니다. 직선은 두 방향으로 무한히 이어지는 것처럼 보이지만, 실제로는 시작점과 끝점이 있습니다.\n",
      "   \n",
      "2. **직각 각도:** 직각은 90도를 의미합니다. 이는 우리가 흔히 사용하는 'L'자 모양의 모서리나 사각형의 모서리에서 볼 수 있습니다. 직각은 두 직선이 서로 수직으로 만나는 경우에 생깁니다.\n",
      "\n",
      "3. **평행선과 각도:** 평행한 두 직선은 만나지 않기 때문에, 그들 사이의 각도는 항상 같습니다. 예를 들어, 두 평행선 위에 그려진 삼각형의 한 각은 다른 각과 크기가 동일합니다.\n",
      "\n",
      "4. **복합 각도:** 여러 각도를 합쳐서 더 큰 각도를 만들 수 있습니다. 예를 들어, 두 개의 직각 각도를 합치면 180도가 됩니다.\n",
      "\n",
      "이러한 기본적인 개념들을 이해하면 각도에 대한 다양한 문제를 풀 때 도움이 될 것입니다!\n"
     ]
    },
    {
     "data": {
      "image/svg+xml": [
       "<svg xmlns=\"http://www.w3.org/2000/svg\" width=\"500\" height=\"375\">\n",
       "    <text x=\"250\" y=\"50\" font-size=\"25\" text-anchor=\"middle\">각</text>\n",
       "    <!-- 기준선 -->\n",
       "    <line x1=\"125\" y1=\"333\" x2=\"375\" y2=\"333\" stroke=\"black\" stroke-width=\"2\"/>\n",
       "    <!-- 기울어진 선 -->\n",
       "    <line x1=\"125\" y1=\"333\" x2=\"324.6588775118232\" y2=\"182.54624421198793\" stroke=\"black\" stroke-width=\"2\"/>\n",
       "    <!-- 각도 호 -->\n",
       "    <path d=\"M 164.93177550236464,302.9092488423976 A 50,50 0 0,1 175,333\" stroke=\"black\" stroke-width=\"2\" fill=\"none\"/>\n",
       "    </svg>"
      ],
      "text/plain": [
       "<IPython.core.display.SVG object>"
      ]
     },
     "metadata": {},
     "output_type": "display_data"
    },
    {
     "name": "stdout",
     "output_type": "stream",
     "text": [
      "====================================================================================================\n",
      "요청한 문장: 직각을 표현해줘\n",
      "추출된 개념: Right Angle\n",
      "추출된 인자: {}\n",
      "\n",
      "생성된 코드:\n",
      " <svg width=\"500\" height=\"500\" xmlns=\"http://www.w3.org/2000/svg\">\n",
      "    <text x=\"250\" y=\"50\" font-size=\"25\" text-anchor=\"middle\">직각</text>\n",
      "    <!-- 기준선 -->\n",
      "    <line x1=\"125\" y1=\"400\" x2=\"458\" y2=\"400\" stroke=\"black\" stroke-width=\"2\" />\n",
      "    <!-- 기울어진 선 -->\n",
      "    <line x1=\"125\" y1=\"400\" x2=\"125\" y2=\"67\" stroke=\"black\" stroke-width=\"2\" />\n",
      "    <!-- 직각 보조선 -->\n",
      "    <line x1=\"175\" y1=\"400\" x2=\"175\" y2=\"350\" stroke=\"black\" stroke-width=\"2\" />\n",
      "    <line x1=\"125\" y1=\"350\" x2=\"175\" y2=\"350\" stroke=\"black\" stroke-width=\"2\" />\n",
      "    </svg>\n",
      "    \n",
      "\n",
      "생성된 설명:\n",
      " ### Right Angle\n",
      "\n",
      "**정의:**\n",
      "Right Angle은 기하학에서 가장 기본적인 각도 중 하나로, 정확히 90도를 이루는 각도를 말합니다. 이 각도는 직각이라고도 불리며, 직선이나 특정 도형의 모서리에서 만나는 두 변이 서로 수직으로 만나는 경우에 나타납니다.\n",
      "\n",
      "**기본 성질:**\n",
      "1. **크기:** Right Angle은 항상 정확히 90도입니다. 이는 모든 Right Angle이 동일한 크기를 가짐을 의미합니다.\n",
      "2. **모양:** Right Angle은 보통 'L' 모양으로 쉽게 인식할 수 있습니다. 이 모양은 직각을 나타내는 데 자주 사용됩니다.\n",
      "3. **도형과의 관계:** 직각은 사각형, 직사각형, 정사각형 등 다양한 도형의 모서리에서 발견됩니다. 특히, 직사각형이나 정사각형은 네 개의 Right Angle을 가지고 있습니다.\n",
      "4. **삼각형과의 연관성:** 직각삼각형은 한 내각이 정확히 Right Angle인 삼각형을 의미합니다. 이 삼각형은 세 변의 길이 관계를 통해 피타고라스 정리를 적용할 수 있습니다.\n",
      "\n",
      "이러한 성질들로 인해 Right Angle은 수학에서 매우 중요한 개념으로 자리잡고 있습니다!\n"
     ]
    },
    {
     "data": {
      "image/svg+xml": [
       "<svg xmlns=\"http://www.w3.org/2000/svg\" width=\"500\" height=\"500\">\n",
       "    <text x=\"250\" y=\"50\" font-size=\"25\" text-anchor=\"middle\">직각</text>\n",
       "    <!-- 기준선 -->\n",
       "    <line x1=\"125\" y1=\"400\" x2=\"458\" y2=\"400\" stroke=\"black\" stroke-width=\"2\"/>\n",
       "    <!-- 기울어진 선 -->\n",
       "    <line x1=\"125\" y1=\"400\" x2=\"125\" y2=\"67\" stroke=\"black\" stroke-width=\"2\"/>\n",
       "    <!-- 직각 보조선 -->\n",
       "    <line x1=\"175\" y1=\"400\" x2=\"175\" y2=\"350\" stroke=\"black\" stroke-width=\"2\"/>\n",
       "    <line x1=\"125\" y1=\"350\" x2=\"175\" y2=\"350\" stroke=\"black\" stroke-width=\"2\"/>\n",
       "    </svg>"
      ],
      "text/plain": [
       "<IPython.core.display.SVG object>"
      ]
     },
     "metadata": {},
     "output_type": "display_data"
    },
    {
     "name": "stdout",
     "output_type": "stream",
     "text": [
      "====================================================================================================\n",
      "요청한 문장: 밑변이 3이고, 높이가 4인 직각삼각형 하나를 그려줘\n",
      "추출된 개념: Right Triangle\n",
      "추출된 인자: {'base': 3, 'height': 4}\n",
      "\n",
      "생성된 코드:\n",
      " <svg width=\"500\" height=\"500\" xmlns=\"http://www.w3.org/2000/svg\">\n",
      "    <text x=\"250\" y=\"50\" font-size=\"25\" text-anchor=\"middle\">직각삼각형</text>\n",
      "    <!-- 직각삼각형 -->\n",
      "    <line x1=\"83\" y1=\"416\" x2=\"308\" y2=\"416\" stroke=\"black\" stroke-width=\"2\" />\n",
      "    <line x1=\"308\" y1=\"416\" x2=\"308\" y2=\"166\" stroke=\"black\" stroke-width=\"2\" />\n",
      "    <line x1=\"83\" y1=\"416\" x2=\"308\" y2=\"166\" stroke=\"black\" stroke-width=\"2\" />\n",
      "    <!-- 직각 보조선 -->\n",
      "    <line x1=\"286\" y1=\"416\" x2=\"286\" y2=\"394\" stroke=\"black\" stroke-width=\"2\" />\n",
      "    <line x1=\"286\" y1=\"394\" x2=\"308\" y2=\"394\" stroke=\"black\" stroke-width=\"2\" />\n",
      "    </svg>\n",
      "    \n",
      "\n",
      "생성된 설명:\n",
      " ### Right Triangle\n",
      "\n",
      "**정의:**\n",
      "A right triangle is a special type of triangle that has one angle which measures exactly 90 degrees (a right angle). This unique angle distinguishes it from other triangles where all angles are less than 90 degrees.\n",
      "\n",
      "**기본 성질:**\n",
      "1. **한 각이 직각:** 가장 중요한 특징은 한 꼭짓점에서 직각(90°)을 이루는 것입니다.\n",
      "2. **직각을 중심으로 두 개의 다른 각:** 나머지 두 각은 합쳐 90도가 됩니다. 따라서 이 두 각은 서로 보완각(complementary angles)입니다.\n",
      "3. **피타고라스 정리 적용 가능:** 직각 삼각형에서는 가장 긴 변을 빗변(hypotenuse)이라고 부르며, 이 빗변의 길이는 다른 두 변(직각을 이루는 두 변을 밑변과 높이라고도 부릅니다)의 길이와 특별한 관계를 가집니다. 이 관계는 피타고라스 정리로 표현되는데, 수학적으로는 \\(a^2 + b^2 = c^2\\) 입니다 (여기서 \\(c\\)는 빗변의 길이이고, \\(a\\)와 \\(b\\)는 다른 두 변의 길이입니다). 하지만 문제 해결을 위해 직접적인 공식보다는 이 관계를 이해하는 것이 중요합니다.\n",
      "4. **삼각형의 종류:** 직각 삼각형은 그 각도에 따라 다양한 종류로 나눌 수 있습니다. 예를 들어, 모든 변의 길이가 정수인 직각 삼각형을 피타고라스 삼각형이라고 부르기도 합니다.\n",
      "\n",
      "이런 특징들로 인해 직각 삼각형은 건축, 공학, 그리고 다양한 실생활 문제 해결에서 매우 중요한 역할을 합니다!\n",
      "\n",
      "생성된 공식 raw:\n",
      " {'perimeter': '밑변 + 높이 + 빗변', 'area': '밑변 × 높이 ÷ 2'}\n"
     ]
    },
    {
     "data": {
      "text/latex": [
       "$\\displaystyle 밑변 + 높이 + 빗변$"
      ],
      "text/plain": [
       "<IPython.core.display.Math object>"
      ]
     },
     "metadata": {},
     "output_type": "display_data"
    },
    {
     "data": {
      "text/latex": [
       "$\\displaystyle 밑변 × 높이 ÷ 2$"
      ],
      "text/plain": [
       "<IPython.core.display.Math object>"
      ]
     },
     "metadata": {},
     "output_type": "display_data"
    },
    {
     "data": {
      "image/svg+xml": [
       "<svg xmlns=\"http://www.w3.org/2000/svg\" width=\"500\" height=\"500\">\n",
       "    <text x=\"250\" y=\"50\" font-size=\"25\" text-anchor=\"middle\">직각삼각형</text>\n",
       "    <!-- 직각삼각형 -->\n",
       "    <line x1=\"83\" y1=\"416\" x2=\"308\" y2=\"416\" stroke=\"black\" stroke-width=\"2\"/>\n",
       "    <line x1=\"308\" y1=\"416\" x2=\"308\" y2=\"166\" stroke=\"black\" stroke-width=\"2\"/>\n",
       "    <line x1=\"83\" y1=\"416\" x2=\"308\" y2=\"166\" stroke=\"black\" stroke-width=\"2\"/>\n",
       "    <!-- 직각 보조선 -->\n",
       "    <line x1=\"286\" y1=\"416\" x2=\"286\" y2=\"394\" stroke=\"black\" stroke-width=\"2\"/>\n",
       "    <line x1=\"286\" y1=\"394\" x2=\"308\" y2=\"394\" stroke=\"black\" stroke-width=\"2\"/>\n",
       "    </svg>"
      ],
      "text/plain": [
       "<IPython.core.display.SVG object>"
      ]
     },
     "metadata": {},
     "output_type": "display_data"
    },
    {
     "name": "stdout",
     "output_type": "stream",
     "text": [
      "====================================================================================================\n",
      "요청한 문장: 가로가 5, 세로가 3인 직사각형의 넓이\n",
      "추출된 개념: Rectangle\n",
      "추출된 인자: {'width': 5, 'height': 3}\n",
      "\n",
      "생성된 코드:\n",
      " <svg width=\"500\" height=\"312\" xmlns=\"http://www.w3.org/2000/svg\">\n",
      "    <text x=\"250\" y=\"50\" font-size=\"25\" text-anchor=\"middle\">직사각형</text>\n",
      "    <rect x=\"100\" y=\"100\" width=\"250\" height=\"150\" stroke=\"black\" stroke-width=\"2\" fill=\"none\" />\n",
      "    </svg>\n",
      "\n",
      "생성된 설명:\n",
      " ### Rectangle 설명\n",
      "\n",
      "**정의:**\n",
      "사각형은 네 개의 직선으로 둘러싸인 평면 도형으로, 각 내각이 직각(90도)인 특징을 가지고 있습니다. 즉, 사각형의 네 모서리는 모두 직각을 이루며, 대변이 평행하고 길이가 같은 특성을 갖습니다.\n",
      "\n",
      "**기본 성질:**\n",
      "1. **대변의 길이가 같음:** 사각형의 두 쌍의 대변은 길이가 동일합니다. 예를 들어, 가로와 세로가 같은 길이를 가집니다.\n",
      "2. **대각선이 서로 같음:** 사각형의 두 대각선은 길이가 같습니다. 즉, 사각형을 두 개의 동일한 삼각형으로 나눌 수 있습니다.\n",
      "3. **내각의 합:** 사각형의 네 내각의 합은 항상 360도입니다.\n",
      "4. **변의 배열:** 사각형은 여러 가지 형태로 배열될 수 있습니다. 예를 들어, 직사각형은 가로와 세로가 각각 다른 길이를 가질 수 있으며, 정사각형은 모든 변의 길이가 같고 모든 내각이 직각인 특별한 형태의 사각형입니다.\n",
      "\n",
      "이러한 성질들로 인해 사각형은 우리 일상생활에서 매우 흔하게 볼 수 있는 도형입니다!\n",
      "\n",
      "생성된 공식 raw:\n",
      " {'perimeter': '2 × (밑변 + 높이)', 'area': '밑변 × 높이'}\n"
     ]
    },
    {
     "data": {
      "text/latex": [
       "$\\displaystyle 2 × (밑변 + 높이)$"
      ],
      "text/plain": [
       "<IPython.core.display.Math object>"
      ]
     },
     "metadata": {},
     "output_type": "display_data"
    },
    {
     "data": {
      "text/latex": [
       "$\\displaystyle 밑변 × 높이$"
      ],
      "text/plain": [
       "<IPython.core.display.Math object>"
      ]
     },
     "metadata": {},
     "output_type": "display_data"
    },
    {
     "data": {
      "image/svg+xml": [
       "<svg xmlns=\"http://www.w3.org/2000/svg\" width=\"500\" height=\"312\">\n",
       "    <text x=\"250\" y=\"50\" font-size=\"25\" text-anchor=\"middle\">직사각형</text>\n",
       "    <rect x=\"100\" y=\"100\" width=\"250\" height=\"150\" stroke=\"black\" stroke-width=\"2\" fill=\"none\"/>\n",
       "    </svg>"
      ],
      "text/plain": [
       "<IPython.core.display.SVG object>"
      ]
     },
     "metadata": {},
     "output_type": "display_data"
    },
    {
     "name": "stdout",
     "output_type": "stream",
     "text": [
      "====================================================================================================\n",
      "요청한 문장: 한 변의 길이가 2인 정사각형 하나를 그려줘\n",
      "추출된 개념: Square\n",
      "추출된 인자: {'length': 2}\n",
      "\n",
      "생성된 코드:\n",
      " <svg width=\"500\" height=\"500\" xmlns=\"http://www.w3.org/2000/svg\">\n",
      "    <text x=\"250\" y=\"50\" font-size=\"25\" text-anchor=\"middle\">정사각형</text>\n",
      "    <rect x=\"100\" y=\"100\" width=\"200\" height=\"200\" stroke=\"black\" stroke-width=\"2\" fill=\"none\" />\n",
      "    </svg>\n",
      "\n",
      "생성된 설명:\n",
      " ### Square\n",
      "\n",
      "**정의:**\n",
      "사각형은 네 개의 변으로 이루어진 평면 도형입니다. 모든 내각이 직각(90도)이며, 반대편의 변들이 길이가 같아서 마주보는 두 변은 평행하고 길이가 동일합니다.\n",
      "\n",
      "**기본 성질:**\n",
      "1. **대변의 길이 동일:** 사각형의 마주보는 두 변은 길이가 같습니다. 예를 들어, 정사각형이나 직사각형에서는 모든 대변이 같은 길이를 가집니다.\n",
      "2. **대각선의 성질:** 사각형의 대각선은 서로를 반으로 나눕니다. 즉, 대각선이 만나는 점에서 대각선을 잇는 선분들은 서로를 절반으로 나눕니다.\n",
      "3. **변의 합:** 사각형의 네 변의 길이를 모두 더하면, 그 합은 사각형의 둘레를 나타냅니다. 예를 들어, 한 변의 길이가 \\(a\\)이고 다른 변의 길이가 \\(b\\)라면, 둘레는 \\(a + b + a + b = 2(a + b)\\)가 됩니다.\n",
      "4. **정사각형의 특징:** 정사각형은 모든 변의 길이가 같고 모든 내각이 직각인 특별한 사각형입니다. 모든 대각선도 길이가 같고 서로를 직각으로 이룹니다.\n",
      "\n",
      "이러한 성질들로 인해 사각형은 다양한 형태와 크기로 존재하며, 건축, 디자인, 그리고 일상생활에서 자주 볼 수 있는 도형입니다!\n",
      "\n",
      "생성된 공식 raw:\n",
      " {'perimeter': '4 \\\\times \\\\mathrm{한 변의 길이}', 'area': '\\\\mathrm{한 변의 길이} \\\\times \\\\mathrm{한 변의 길이}'}\n"
     ]
    },
    {
     "data": {
      "text/latex": [
       "$\\displaystyle 4 \\times \\mathrm{한 변의 길이}$"
      ],
      "text/plain": [
       "<IPython.core.display.Math object>"
      ]
     },
     "metadata": {},
     "output_type": "display_data"
    },
    {
     "data": {
      "text/latex": [
       "$\\displaystyle \\mathrm{한 변의 길이} \\times \\mathrm{한 변의 길이}$"
      ],
      "text/plain": [
       "<IPython.core.display.Math object>"
      ]
     },
     "metadata": {},
     "output_type": "display_data"
    },
    {
     "data": {
      "image/svg+xml": [
       "<svg xmlns=\"http://www.w3.org/2000/svg\" width=\"500\" height=\"500\">\n",
       "    <text x=\"250\" y=\"50\" font-size=\"25\" text-anchor=\"middle\">정사각형</text>\n",
       "    <rect x=\"100\" y=\"100\" width=\"200\" height=\"200\" stroke=\"black\" stroke-width=\"2\" fill=\"none\"/>\n",
       "    </svg>"
      ],
      "text/plain": [
       "<IPython.core.display.SVG object>"
      ]
     },
     "metadata": {},
     "output_type": "display_data"
    },
    {
     "name": "stdout",
     "output_type": "stream",
     "text": [
      "====================================================================================================\n",
      "요청한 문장: 곧은선이 뭐야?\n",
      "추출된 개념: 직선\n",
      "추출된 인자: {}\n",
      "\n",
      "생성된 코드:\n",
      " <svg width=\"500\" height=\"500\" xmlns=\"http://www.w3.org/2000/svg\">\n",
      "    <text x=\"250\" y=\"25\" font-size=\"25\" text-anchor=\"middle\">곧은선</text>\n",
      "    <text x=\"250\" y=\"75\" font-size=\"25\" text-anchor=\"middle\">선분</text>\n",
      "    <!-- 선분 -->\n",
      "    <circle cx=\"125\" cy=\"125\" r=\"1\" stroke=\"black\" stroke-width=\"2\" fill=\"black\" />\n",
      "    <circle cx=\"375\" cy=\"125\" r=\"1\" stroke=\"black\" stroke-width=\"2\" fill=\"black\" />\n",
      "    <line x1=\"125\" y1=\"125\" x2=\"375\" y2=\"125\" stroke=\"black\" stroke-width=\"2\" />\n",
      "    <!-- 반직선 -->\n",
      "    <text x=\"250\" y=\"175\" font-size=\"25\" text-anchor=\"middle\">반직선</text>\n",
      "    <circle cx=\"125\" cy=\"250\" r=\"1\" stroke=\"black\" stroke-width=\"2\" fill=\"black\" />\n",
      "    <circle cx=\"375\" cy=\"250\" r=\"1\" stroke=\"black\" stroke-width=\"2\" fill=\"black\" />\n",
      "    <line x1=\"125\" y1=\"250\" x2=\"500\" y2=\"250\" stroke=\"black\" stroke-width=\"2\" />\n",
      "    <!-- 직선 -->\n",
      "    <text x=\"250\" y=\"300\" font-size=\"25\" text-anchor=\"middle\">직선</text>\n",
      "    <circle cx=\"125\" cy=\"375\" r=\"1\" stroke=\"black\" stroke-width=\"2\" fill=\"black\" />\n",
      "    <circle cx=\"375\" cy=\"375\" r=\"1\" stroke=\"black\" stroke-width=\"2\" fill=\"black\" />\n",
      "    <line x1=\"0\" y1=\"375\" x2=\"500\" y2=\"375\" stroke=\"black\" stroke-width=\"2\" />\n",
      "    </svg>\n",
      "    \n",
      "\n",
      "생성된 설명:\n",
      " ### 직선에 대한 설명\n",
      "\n",
      "#### 정의\n",
      "직선은 평면 위에서 가장 짧은 거리로 두 점을 연결하는 선을 말합니다. 이 선은 양쪽으로 무한히 계속되며, 방향이 항상 일정합니다. 직선 위의 모든 점들은 서로 평행하게 연결되어 있어, 어떤 방향으로든 뻗어나갈 수 있습니다.\n",
      "\n",
      "#### 기본 성질\n",
      "1. **무한한 길이**: 직선은 양쪽으로 무한히 이어집니다. 즉, 시작점에서 끝점까지의 거리가 아무리 길어도 계속해서 뻗어나갈 수 있습니다.\n",
      "2. **평행한 선들**: 같은 방향으로 무한히 뻗어나가는 두 직선은 서로 평행합니다. 반대로, 서로 다른 방향으로 무한히 뻗어나가는 두 직선은 교차하지 않습니다.\n",
      "3. **직선 위의 점들**: 직선 위의 모든 점들은 서로 연결되어 있어, 어떤 두 점을 잇는 선분은 항상 직선의 일부분입니다.\n",
      "4. **직선의 대칭성**: 직선을 기준으로 대칭인 두 부분은 서로 완전히 일치합니다. 예를 들어, 한 점을 기준으로 대칭인 두 점은 직선 양쪽에 동일한 거리에 위치합니다.\n",
      "\n",
      "이러한 성질들로 인해 직선은 기하학에서 매우 중요한 개념으로 사용됩니다!\n"
     ]
    },
    {
     "data": {
      "image/svg+xml": [
       "<svg xmlns=\"http://www.w3.org/2000/svg\" width=\"500\" height=\"500\">\n",
       "    <text x=\"250\" y=\"25\" font-size=\"25\" text-anchor=\"middle\">곧은선</text>\n",
       "    <text x=\"250\" y=\"75\" font-size=\"25\" text-anchor=\"middle\">선분</text>\n",
       "    <!-- 선분 -->\n",
       "    <circle cx=\"125\" cy=\"125\" r=\"1\" stroke=\"black\" stroke-width=\"2\" fill=\"black\"/>\n",
       "    <circle cx=\"375\" cy=\"125\" r=\"1\" stroke=\"black\" stroke-width=\"2\" fill=\"black\"/>\n",
       "    <line x1=\"125\" y1=\"125\" x2=\"375\" y2=\"125\" stroke=\"black\" stroke-width=\"2\"/>\n",
       "    <!-- 반직선 -->\n",
       "    <text x=\"250\" y=\"175\" font-size=\"25\" text-anchor=\"middle\">반직선</text>\n",
       "    <circle cx=\"125\" cy=\"250\" r=\"1\" stroke=\"black\" stroke-width=\"2\" fill=\"black\"/>\n",
       "    <circle cx=\"375\" cy=\"250\" r=\"1\" stroke=\"black\" stroke-width=\"2\" fill=\"black\"/>\n",
       "    <line x1=\"125\" y1=\"250\" x2=\"500\" y2=\"250\" stroke=\"black\" stroke-width=\"2\"/>\n",
       "    <!-- 직선 -->\n",
       "    <text x=\"250\" y=\"300\" font-size=\"25\" text-anchor=\"middle\">직선</text>\n",
       "    <circle cx=\"125\" cy=\"375\" r=\"1\" stroke=\"black\" stroke-width=\"2\" fill=\"black\"/>\n",
       "    <circle cx=\"375\" cy=\"375\" r=\"1\" stroke=\"black\" stroke-width=\"2\" fill=\"black\"/>\n",
       "    <line x1=\"0\" y1=\"375\" x2=\"500\" y2=\"375\" stroke=\"black\" stroke-width=\"2\"/>\n",
       "    </svg>"
      ],
      "text/plain": [
       "<IPython.core.display.SVG object>"
      ]
     },
     "metadata": {},
     "output_type": "display_data"
    },
    {
     "name": "stdout",
     "output_type": "stream",
     "text": [
      "====================================================================================================\n",
      "요청한 문장: 대표적인 굽은선을 그려줘\n",
      "추출된 개념: 곡선\n",
      "추출된 인자: {'type': '타원', 'description': '타원은 가장 대표적인 굽은선의 한 종류로, 두 초점 사이의 거리의 합이 일정한 점들의 집합으로 정의됩니다.'}\n",
      "\n",
      "생성된 코드:\n",
      " \n",
      "    <svg width=\"500\" height=\"500\" xmlns=\"http://www.w3.org/2000/svg\">\n",
      "    <text x=\"250\" y=\"50\" font-size=\"25\" text-anchor=\"middle\">굽은선</text>\n",
      "    <!-- 복잡한 S자 곡선 (두 개의 Cubic Bézier) -->\n",
      "    <path d=\"M 100,400\n",
      "    C 100,100 400,100 400,250\n",
      "    C 400,400 100,400 100,100\"\n",
      "    stroke=\"black\" fill=\"none\" stroke-width=\"2\"/>\n",
      "    </svg>\n",
      "    \n",
      "\n",
      "생성된 설명:\n",
      " ### 곡선에 대한 설명\n",
      "\n",
      "**정의:**\n",
      "곡선은 직선이 아닌, 연속적으로 이어지는 점들의 모임으로 이루어진 도형입니다. 쉽게 말해, 직선처럼 일정한 방향으로만 움직이는 것이 아니라, 부드럽게 휘어지거나 굽어지는 형태를 가진 선을 말합니다.\n",
      "\n",
      "**기본 성질:**\n",
      "1. **연속성:** 곡선 위의 모든 점들은 부드럽게 이어져 있어, 어떤 작은 구간에서도 끊어지지 않고 이어집니다.\n",
      "2. **길이:** 곡선의 길이는 그 곡선을 따라 측정한 총 거리입니다. 이 길이는 곡선의 모양에 따라 달라집니다. 예를 들어, 원의 둘레는 반지름에 따라 결정되며, 이는 곡선의 길이를 정확히 계산하는 방법 중 하나입니다.\n",
      "3. **곡률:** 곡선이 얼마나 빠르게 방향을 바꾸는지를 나타내는 값입니다. 곡률이 크면 곡선이 더 급하게 굽어지고, 작으면 더 부드럽게 굽어집니다. 예를 들어, 원의 경우 모든 점에서 곡률이 일정합니다.\n",
      "4. **접선:** 곡선 위의 어떤 점에서 그 점을 지나는 가장 가까운 직선을 접선이라고 합니다. 이 접선은 그 점에서 곡선의 방향을 가장 잘 나타냅니다.\n",
      "\n",
      "이러한 성질들 덕분에 곡선은 자연 현상이나 공학적 설계 등 다양한 분야에서 중요한 역할을 합니다.\n"
     ]
    },
    {
     "data": {
      "image/svg+xml": [
       "<svg xmlns=\"http://www.w3.org/2000/svg\" width=\"500\" height=\"500\">\n",
       "    <text x=\"250\" y=\"50\" font-size=\"25\" text-anchor=\"middle\">굽은선</text>\n",
       "    <!-- 복잡한 S자 곡선 (두 개의 Cubic Bézier) -->\n",
       "    <path d=\"M 100,400     C 100,100 400,100 400,250     C 400,400 100,400 100,100\" stroke=\"black\" fill=\"none\" stroke-width=\"2\"/>\n",
       "    </svg>"
      ],
      "text/plain": [
       "<IPython.core.display.SVG object>"
      ]
     },
     "metadata": {},
     "output_type": "display_data"
    },
    {
     "name": "stdout",
     "output_type": "stream",
     "text": [
      "====================================================================================================\n",
      "요청한 문장: 중심이 (0,0)이고 반지름이 2인 원을 그려주세요.\n",
      "추출된 개념: Circle\n",
      "추출된 인자: {'radius': 2}\n",
      "\n",
      "생성된 코드:\n",
      " <svg width=\"500\" height=\"500\" xmlns=\"http://www.w3.org/2000/svg\">\n",
      "    <text x=\"250\" y=\"50\" font-size=\"25\" text-anchor=\"middle\">원</text>\n",
      "    <circle cx=\"250\" cy=\"250\" r=\"100\" stroke=\"black\" stroke-width=\"2\" fill=\"none\" />\n",
      "    <circle cx=\"250\" cy=\"250\" r=\"1\" stroke=\"black\" stroke-width=\"2\" fill=\"black\" />\n",
      "    <line x1=\"250\" y1=\"250\" x2=\"350\" y2=\"250\" stroke=\"black\" stroke-width=\"2\" />\n",
      "    </svg>\n",
      "    \n",
      "\n",
      "생성된 설명:\n",
      " ### Circle (원)\n",
      "\n",
      "#### 정의:\n",
      "원은 평면 위에서 한 점(중심)으로부터 일정한 거리(반지름)에 있는 모든 점들의 집합을 말합니다. 이 중심점을 기준으로 원 위의 모든 점들은 동일한 거리에 위치해 있습니다.\n",
      "\n",
      "#### 기본 성질:\n",
      "1. **둘레와 지름**: 원의 둘레는 지름에 π(약 3.14)를 곱한 값입니다. 즉, 둘레 = 지름 × π 입니다. 반대로 지름은 둘레를 π로 나누면 구할 수 있습니다.\n",
      "   \n",
      "2. **면적**: 원의 면적은 반지름의 제곱에 π를 곱한 값입니다. 공식으로 표현하면 면적 = π × 반지름2 입니다.\n",
      "\n",
      "3. **대칭성**: 원은 중심을 기준으로 완벽하게 대칭입니다. 즉, 중심을 지나는 어떤 직선을 기준으로 원을 접어도 양쪽이 완전히 일치합니다.\n",
      "\n",
      "4. **원주각과 호의 관계**: 원 위의 두 점을 잇는 호의 중앙각은 그 호에 대응하는 원주각의 두 배입니다. 예를 들어, 호의 중앙각이 θ라면 원주각은 θ/2가 됩니다.\n",
      "\n",
      "이러한 성질들로 인해 원은 기하학에서 매우 중요한 역할을 합니다. 다양한 도형과 문제 해결에 활용되며, 일상생활에서도 자주 접하게 되는 개념입니다.\n",
      "\n",
      "생성된 공식 raw:\n",
      " {'perimeter': '2 \\\\times 3.14 \\\\times 반지름', 'area': '3.14 \\\\times 반지름 \\\\times 반지름'}\n"
     ]
    },
    {
     "data": {
      "text/latex": [
       "$\\displaystyle 2 \\times 3.14 \\times 반지름$"
      ],
      "text/plain": [
       "<IPython.core.display.Math object>"
      ]
     },
     "metadata": {},
     "output_type": "display_data"
    },
    {
     "data": {
      "text/latex": [
       "$\\displaystyle 3.14 \\times 반지름 \\times 반지름$"
      ],
      "text/plain": [
       "<IPython.core.display.Math object>"
      ]
     },
     "metadata": {},
     "output_type": "display_data"
    },
    {
     "data": {
      "image/svg+xml": [
       "<svg xmlns=\"http://www.w3.org/2000/svg\" width=\"500\" height=\"500\">\n",
       "    <text x=\"250\" y=\"50\" font-size=\"25\" text-anchor=\"middle\">원</text>\n",
       "    <circle cx=\"250\" cy=\"250\" r=\"100\" stroke=\"black\" stroke-width=\"2\" fill=\"none\"/>\n",
       "    <circle cx=\"250\" cy=\"250\" r=\"1\" stroke=\"black\" stroke-width=\"2\" fill=\"black\"/>\n",
       "    <line x1=\"250\" y1=\"250\" x2=\"350\" y2=\"250\" stroke=\"black\" stroke-width=\"2\"/>\n",
       "    </svg>"
      ],
      "text/plain": [
       "<IPython.core.display.SVG object>"
      ]
     },
     "metadata": {},
     "output_type": "display_data"
    },
    {
     "name": "stdout",
     "output_type": "stream",
     "text": [
      "====================================================================================================\n",
      "요청한 문장: 37° 각도를 그려줘\n",
      "추출된 개념: 각도\n",
      "추출된 인자: {'size': 37}\n",
      "\n",
      "생성된 코드:\n",
      " <svg width=\"500\" height=\"375\" xmlns=\"http://www.w3.org/2000/svg\">\n",
      "    <text x=\"250\" y=\"50\" font-size=\"25\" text-anchor=\"middle\">각</text>\n",
      "    <!-- 기준선 -->\n",
      "    <line x1=\"125\" y1=\"333\" x2=\"375\" y2=\"333\" stroke=\"black\" stroke-width=\"2\" />\n",
      "    <!-- 기울어진 선 -->\n",
      "    <line x1=\"125\" y1=\"333\" x2=\"324.6588775118232\" y2=\"182.54624421198793\" stroke=\"black\" stroke-width=\"2\" />\n",
      "    <!-- 각도 호 -->\n",
      "    <path d=\"M 164.93177550236464,302.9092488423976 A 50,50 0 0,1 175,333\" stroke=\"black\" stroke-width=\"2\" fill=\"none\"/>\n",
      "    </svg>\n",
      "    \n",
      "\n",
      "생성된 설명:\n",
      " ### 각도에 대한 설명\n",
      "\n",
      "**정의:**\n",
      "각도는 두 직선이나 선분이 만나서 생기는 공간의 크기를 측정하는 방법입니다. 우리가 일상에서 자주 접하는 각도는 주로 도로 표지판에서 볼 수 있는 방향 지시나, 그림에서 선들이 만나는 부분을 표현할 때 사용됩니다.\n",
      "\n",
      "**기본 성질:**\n",
      "1. **직선의 각도:** 직선은 정확히 180도의 각도를 가집니다. 직선은 두 방향으로 무한히 이어지는 것처럼 보이지만, 실제로는 시작점과 끝점이 있습니다.\n",
      "   \n",
      "2. **직각 각도:** 직각은 90도를 의미합니다. 이는 우리가 흔히 사용하는 'L'자 모양의 모서리나 사각형의 모서리에서 볼 수 있습니다. 직각은 두 직선이 서로 수직으로 만나는 경우에 생깁니다.\n",
      "\n",
      "3. **평행선과 각도:** 평행한 두 직선은 만나지 않기 때문에, 그들 사이의 각도는 항상 같습니다. 예를 들어, 두 평행선 위에 그려진 삼각형의 한 각은 다른 각과 크기가 동일합니다.\n",
      "\n",
      "4. **복합 각도:** 여러 각도를 합쳐서 더 큰 각도를 만들 수 있습니다. 예를 들어, 두 개의 직각 각도를 합치면 180도가 됩니다.\n",
      "\n",
      "이러한 기본적인 개념들을 이해하면 각도에 대한 다양한 문제를 풀 때 도움이 될 것입니다!\n"
     ]
    },
    {
     "data": {
      "image/svg+xml": [
       "<svg xmlns=\"http://www.w3.org/2000/svg\" width=\"500\" height=\"375\">\n",
       "    <text x=\"250\" y=\"50\" font-size=\"25\" text-anchor=\"middle\">각</text>\n",
       "    <!-- 기준선 -->\n",
       "    <line x1=\"125\" y1=\"333\" x2=\"375\" y2=\"333\" stroke=\"black\" stroke-width=\"2\"/>\n",
       "    <!-- 기울어진 선 -->\n",
       "    <line x1=\"125\" y1=\"333\" x2=\"324.6588775118232\" y2=\"182.54624421198793\" stroke=\"black\" stroke-width=\"2\"/>\n",
       "    <!-- 각도 호 -->\n",
       "    <path d=\"M 164.93177550236464,302.9092488423976 A 50,50 0 0,1 175,333\" stroke=\"black\" stroke-width=\"2\" fill=\"none\"/>\n",
       "    </svg>"
      ],
      "text/plain": [
       "<IPython.core.display.SVG object>"
      ]
     },
     "metadata": {},
     "output_type": "display_data"
    },
    {
     "name": "stdout",
     "output_type": "stream",
     "text": [
      "====================================================================================================\n",
      "요청한 문장: 직각을 표현해줘\n",
      "추출된 개념: Right Angle\n",
      "추출된 인자: {}\n",
      "\n",
      "생성된 코드:\n",
      " <svg width=\"500\" height=\"500\" xmlns=\"http://www.w3.org/2000/svg\">\n",
      "    <text x=\"250\" y=\"50\" font-size=\"25\" text-anchor=\"middle\">직각</text>\n",
      "    <!-- 기준선 -->\n",
      "    <line x1=\"125\" y1=\"400\" x2=\"458\" y2=\"400\" stroke=\"black\" stroke-width=\"2\" />\n",
      "    <!-- 기울어진 선 -->\n",
      "    <line x1=\"125\" y1=\"400\" x2=\"125\" y2=\"67\" stroke=\"black\" stroke-width=\"2\" />\n",
      "    <!-- 직각 보조선 -->\n",
      "    <line x1=\"175\" y1=\"400\" x2=\"175\" y2=\"350\" stroke=\"black\" stroke-width=\"2\" />\n",
      "    <line x1=\"125\" y1=\"350\" x2=\"175\" y2=\"350\" stroke=\"black\" stroke-width=\"2\" />\n",
      "    </svg>\n",
      "    \n",
      "\n",
      "생성된 설명:\n",
      " ### Right Angle\n",
      "\n",
      "**정의:**\n",
      "Right Angle은 기하학에서 가장 기본적인 각도 중 하나로, 정확히 90도를 이루는 각도를 말합니다. 이 각도는 직각이라고도 불리며, 직선이나 특정 도형의 모서리에서 만나는 두 변이 서로 수직으로 만나는 경우에 나타납니다.\n",
      "\n",
      "**기본 성질:**\n",
      "1. **크기:** Right Angle은 항상 정확히 90도입니다. 이는 모든 Right Angle이 동일한 크기를 가짐을 의미합니다.\n",
      "2. **모양:** Right Angle은 보통 'L' 모양으로 쉽게 인식할 수 있습니다. 이 모양은 직각을 나타내는 데 자주 사용됩니다.\n",
      "3. **도형과의 관계:** 직각은 사각형, 직사각형, 정사각형 등 다양한 도형의 모서리에서 발견됩니다. 특히, 직사각형이나 정사각형은 네 개의 Right Angle을 가지고 있습니다.\n",
      "4. **삼각형과의 연관성:** 직각삼각형은 한 내각이 정확히 Right Angle인 삼각형을 의미합니다. 이 삼각형은 세 변의 길이 관계를 통해 피타고라스 정리를 적용할 수 있습니다.\n",
      "\n",
      "이러한 성질들로 인해 Right Angle은 수학에서 매우 중요한 개념으로 자리잡고 있습니다!\n"
     ]
    },
    {
     "data": {
      "image/svg+xml": [
       "<svg xmlns=\"http://www.w3.org/2000/svg\" width=\"500\" height=\"500\">\n",
       "    <text x=\"250\" y=\"50\" font-size=\"25\" text-anchor=\"middle\">직각</text>\n",
       "    <!-- 기준선 -->\n",
       "    <line x1=\"125\" y1=\"400\" x2=\"458\" y2=\"400\" stroke=\"black\" stroke-width=\"2\"/>\n",
       "    <!-- 기울어진 선 -->\n",
       "    <line x1=\"125\" y1=\"400\" x2=\"125\" y2=\"67\" stroke=\"black\" stroke-width=\"2\"/>\n",
       "    <!-- 직각 보조선 -->\n",
       "    <line x1=\"175\" y1=\"400\" x2=\"175\" y2=\"350\" stroke=\"black\" stroke-width=\"2\"/>\n",
       "    <line x1=\"125\" y1=\"350\" x2=\"175\" y2=\"350\" stroke=\"black\" stroke-width=\"2\"/>\n",
       "    </svg>"
      ],
      "text/plain": [
       "<IPython.core.display.SVG object>"
      ]
     },
     "metadata": {},
     "output_type": "display_data"
    },
    {
     "name": "stdout",
     "output_type": "stream",
     "text": [
      "====================================================================================================\n",
      "요청한 문장: 밑변이 3이고, 높이가 4인 직각삼각형 하나를 그려줘\n",
      "추출된 개념: Right Triangle\n",
      "추출된 인자: {'base': 3, 'height': 4}\n",
      "\n",
      "생성된 코드:\n",
      " <svg width=\"500\" height=\"500\" xmlns=\"http://www.w3.org/2000/svg\">\n",
      "    <text x=\"250\" y=\"50\" font-size=\"25\" text-anchor=\"middle\">직각삼각형</text>\n",
      "    <!-- 직각삼각형 -->\n",
      "    <line x1=\"83\" y1=\"416\" x2=\"308\" y2=\"416\" stroke=\"black\" stroke-width=\"2\" />\n",
      "    <line x1=\"308\" y1=\"416\" x2=\"308\" y2=\"166\" stroke=\"black\" stroke-width=\"2\" />\n",
      "    <line x1=\"83\" y1=\"416\" x2=\"308\" y2=\"166\" stroke=\"black\" stroke-width=\"2\" />\n",
      "    <!-- 직각 보조선 -->\n",
      "    <line x1=\"286\" y1=\"416\" x2=\"286\" y2=\"394\" stroke=\"black\" stroke-width=\"2\" />\n",
      "    <line x1=\"286\" y1=\"394\" x2=\"308\" y2=\"394\" stroke=\"black\" stroke-width=\"2\" />\n",
      "    </svg>\n",
      "    \n",
      "\n",
      "생성된 설명:\n",
      " ### Right Triangle\n",
      "\n",
      "**정의:**\n",
      "A right triangle is a special type of triangle that has one angle which measures exactly 90 degrees (a right angle). This unique angle distinguishes it from other triangles where all angles are less than 90 degrees.\n",
      "\n",
      "**기본 성질:**\n",
      "1. **한 각이 직각:** 가장 중요한 특징은 한 꼭짓점에서 직각(90°)을 이루는 것입니다.\n",
      "2. **직각을 중심으로 두 개의 다른 각:** 나머지 두 각은 합쳐 90도가 됩니다. 따라서 이 두 각은 서로 보완각(complementary angles)입니다.\n",
      "3. **피타고라스 정리 적용 가능:** 직각 삼각형에서는 가장 긴 변을 빗변(hypotenuse)이라고 부르며, 이 빗변의 길이는 다른 두 변(직각을 이루는 두 변을 밑변과 높이라고도 부릅니다)의 길이와 특별한 관계를 가집니다. 이 관계는 피타고라스 정리로 표현되는데, 수학적으로는 \\(a^2 + b^2 = c^2\\) 입니다 (여기서 \\(c\\)는 빗변의 길이이고, \\(a\\)와 \\(b\\)는 다른 두 변의 길이입니다). 하지만 문제 해결을 위해 직접적인 공식보다는 이 관계를 이해하는 것이 중요합니다.\n",
      "4. **삼각형의 종류:** 직각 삼각형은 그 각도에 따라 다양한 종류로 나눌 수 있습니다. 예를 들어, 모든 변의 길이가 정수인 직각 삼각형을 피타고라스 삼각형이라고 부르기도 합니다.\n",
      "\n",
      "이런 특징들로 인해 직각 삼각형은 건축, 공학, 그리고 다양한 실생활 문제 해결에서 매우 중요한 역할을 합니다!\n",
      "\n",
      "생성된 공식 raw:\n",
      " {'perimeter': '밑변 + 높이 + 빗변', 'area': '밑변 × 높이 ÷ 2'}\n"
     ]
    },
    {
     "data": {
      "text/latex": [
       "$\\displaystyle 밑변 + 높이 + 빗변$"
      ],
      "text/plain": [
       "<IPython.core.display.Math object>"
      ]
     },
     "metadata": {},
     "output_type": "display_data"
    },
    {
     "data": {
      "text/latex": [
       "$\\displaystyle 밑변 × 높이 ÷ 2$"
      ],
      "text/plain": [
       "<IPython.core.display.Math object>"
      ]
     },
     "metadata": {},
     "output_type": "display_data"
    },
    {
     "data": {
      "image/svg+xml": [
       "<svg xmlns=\"http://www.w3.org/2000/svg\" width=\"500\" height=\"500\">\n",
       "    <text x=\"250\" y=\"50\" font-size=\"25\" text-anchor=\"middle\">직각삼각형</text>\n",
       "    <!-- 직각삼각형 -->\n",
       "    <line x1=\"83\" y1=\"416\" x2=\"308\" y2=\"416\" stroke=\"black\" stroke-width=\"2\"/>\n",
       "    <line x1=\"308\" y1=\"416\" x2=\"308\" y2=\"166\" stroke=\"black\" stroke-width=\"2\"/>\n",
       "    <line x1=\"83\" y1=\"416\" x2=\"308\" y2=\"166\" stroke=\"black\" stroke-width=\"2\"/>\n",
       "    <!-- 직각 보조선 -->\n",
       "    <line x1=\"286\" y1=\"416\" x2=\"286\" y2=\"394\" stroke=\"black\" stroke-width=\"2\"/>\n",
       "    <line x1=\"286\" y1=\"394\" x2=\"308\" y2=\"394\" stroke=\"black\" stroke-width=\"2\"/>\n",
       "    </svg>"
      ],
      "text/plain": [
       "<IPython.core.display.SVG object>"
      ]
     },
     "metadata": {},
     "output_type": "display_data"
    },
    {
     "name": "stdout",
     "output_type": "stream",
     "text": [
      "====================================================================================================\n",
      "요청한 문장: 가로가 5, 세로가 3인 직사각형의 넓이\n",
      "추출된 개념: Rectangle\n",
      "추출된 인자: {'width': 5, 'height': 3}\n",
      "\n",
      "생성된 코드:\n",
      " <svg width=\"500\" height=\"312\" xmlns=\"http://www.w3.org/2000/svg\">\n",
      "    <text x=\"250\" y=\"50\" font-size=\"25\" text-anchor=\"middle\">직사각형</text>\n",
      "    <rect x=\"100\" y=\"100\" width=\"250\" height=\"150\" stroke=\"black\" stroke-width=\"2\" fill=\"none\" />\n",
      "    </svg>\n",
      "\n",
      "생성된 설명:\n",
      " ### Rectangle 설명\n",
      "\n",
      "**정의:**\n",
      "사각형은 네 개의 직선으로 둘러싸인 평면 도형으로, 각 내각이 직각(90도)인 특징을 가지고 있습니다. 즉, 사각형의 네 모서리는 모두 직각을 이루며, 대변이 평행하고 길이가 같은 특성을 갖습니다.\n",
      "\n",
      "**기본 성질:**\n",
      "1. **대변의 길이가 같음:** 사각형의 두 쌍의 대변은 길이가 동일합니다. 예를 들어, 가로와 세로가 같은 길이를 가집니다.\n",
      "2. **대각선이 서로 같음:** 사각형의 두 대각선은 길이가 같습니다. 즉, 사각형을 두 개의 동일한 삼각형으로 나눌 수 있습니다.\n",
      "3. **내각의 합:** 사각형의 네 내각의 합은 항상 360도입니다.\n",
      "4. **변의 배열:** 사각형은 여러 가지 형태로 배열될 수 있습니다. 예를 들어, 직사각형은 가로와 세로가 각각 다른 길이를 가질 수 있으며, 정사각형은 모든 변의 길이가 같고 모든 내각이 직각인 특별한 형태의 사각형입니다.\n",
      "\n",
      "이러한 성질들로 인해 사각형은 우리 일상생활에서 매우 흔하게 볼 수 있는 도형입니다!\n",
      "\n",
      "생성된 공식 raw:\n",
      " {'perimeter': '2 × (밑변 + 높이)', 'area': '밑변 × 높이'}\n"
     ]
    },
    {
     "data": {
      "text/latex": [
       "$\\displaystyle 2 × (밑변 + 높이)$"
      ],
      "text/plain": [
       "<IPython.core.display.Math object>"
      ]
     },
     "metadata": {},
     "output_type": "display_data"
    },
    {
     "data": {
      "text/latex": [
       "$\\displaystyle 밑변 × 높이$"
      ],
      "text/plain": [
       "<IPython.core.display.Math object>"
      ]
     },
     "metadata": {},
     "output_type": "display_data"
    },
    {
     "data": {
      "image/svg+xml": [
       "<svg xmlns=\"http://www.w3.org/2000/svg\" width=\"500\" height=\"312\">\n",
       "    <text x=\"250\" y=\"50\" font-size=\"25\" text-anchor=\"middle\">직사각형</text>\n",
       "    <rect x=\"100\" y=\"100\" width=\"250\" height=\"150\" stroke=\"black\" stroke-width=\"2\" fill=\"none\"/>\n",
       "    </svg>"
      ],
      "text/plain": [
       "<IPython.core.display.SVG object>"
      ]
     },
     "metadata": {},
     "output_type": "display_data"
    },
    {
     "name": "stdout",
     "output_type": "stream",
     "text": [
      "====================================================================================================\n",
      "요청한 문장: 한 변의 길이가 2인 정사각형 하나를 그려줘\n",
      "추출된 개념: Square\n",
      "추출된 인자: {'length': 2}\n",
      "\n",
      "생성된 코드:\n",
      " <svg width=\"500\" height=\"500\" xmlns=\"http://www.w3.org/2000/svg\">\n",
      "    <text x=\"250\" y=\"50\" font-size=\"25\" text-anchor=\"middle\">정사각형</text>\n",
      "    <rect x=\"100\" y=\"100\" width=\"200\" height=\"200\" stroke=\"black\" stroke-width=\"2\" fill=\"none\" />\n",
      "    </svg>\n",
      "\n",
      "생성된 설명:\n",
      " ### Square\n",
      "\n",
      "**정의:**\n",
      "사각형은 네 개의 변으로 이루어진 평면 도형입니다. 모든 내각이 직각(90도)이며, 반대편의 변들이 길이가 같아서 마주보는 두 변은 평행하고 길이가 동일합니다.\n",
      "\n",
      "**기본 성질:**\n",
      "1. **대변의 길이 동일:** 사각형의 마주보는 두 변은 길이가 같습니다. 예를 들어, 정사각형이나 직사각형에서는 모든 대변이 같은 길이를 가집니다.\n",
      "2. **대각선의 성질:** 사각형의 대각선은 서로를 반으로 나눕니다. 즉, 대각선이 만나는 점에서 대각선을 잇는 선분들은 서로를 절반으로 나눕니다.\n",
      "3. **변의 합:** 사각형의 네 변의 길이를 모두 더하면, 그 합은 사각형의 둘레를 나타냅니다. 예를 들어, 한 변의 길이가 \\(a\\)이고 다른 변의 길이가 \\(b\\)라면, 둘레는 \\(a + b + a + b = 2(a + b)\\)가 됩니다.\n",
      "4. **정사각형의 특징:** 정사각형은 모든 변의 길이가 같고 모든 내각이 직각인 특별한 사각형입니다. 모든 대각선도 길이가 같고 서로를 직각으로 이룹니다.\n",
      "\n",
      "이러한 성질들로 인해 사각형은 다양한 형태와 크기로 존재하며, 건축, 디자인, 그리고 일상생활에서 자주 볼 수 있는 도형입니다!\n",
      "\n",
      "생성된 공식 raw:\n",
      " {'perimeter': '4 \\\\times \\\\mathrm{한 변의 길이}', 'area': '\\\\mathrm{한 변의 길이} \\\\times \\\\mathrm{한 변의 길이}'}\n"
     ]
    },
    {
     "data": {
      "text/latex": [
       "$\\displaystyle 4 \\times \\mathrm{한 변의 길이}$"
      ],
      "text/plain": [
       "<IPython.core.display.Math object>"
      ]
     },
     "metadata": {},
     "output_type": "display_data"
    },
    {
     "data": {
      "text/latex": [
       "$\\displaystyle \\mathrm{한 변의 길이} \\times \\mathrm{한 변의 길이}$"
      ],
      "text/plain": [
       "<IPython.core.display.Math object>"
      ]
     },
     "metadata": {},
     "output_type": "display_data"
    },
    {
     "data": {
      "image/svg+xml": [
       "<svg xmlns=\"http://www.w3.org/2000/svg\" width=\"500\" height=\"500\">\n",
       "    <text x=\"250\" y=\"50\" font-size=\"25\" text-anchor=\"middle\">정사각형</text>\n",
       "    <rect x=\"100\" y=\"100\" width=\"200\" height=\"200\" stroke=\"black\" stroke-width=\"2\" fill=\"none\"/>\n",
       "    </svg>"
      ],
      "text/plain": [
       "<IPython.core.display.SVG object>"
      ]
     },
     "metadata": {},
     "output_type": "display_data"
    },
    {
     "name": "stdout",
     "output_type": "stream",
     "text": [
      "====================================================================================================\n",
      "요청한 문장: 곧은선이 뭐야?\n",
      "추출된 개념: 직선\n",
      "추출된 인자: {}\n",
      "\n",
      "생성된 코드:\n",
      " <svg width=\"500\" height=\"500\" xmlns=\"http://www.w3.org/2000/svg\">\n",
      "    <text x=\"250\" y=\"25\" font-size=\"25\" text-anchor=\"middle\">곧은선</text>\n",
      "    <text x=\"250\" y=\"75\" font-size=\"25\" text-anchor=\"middle\">선분</text>\n",
      "    <!-- 선분 -->\n",
      "    <circle cx=\"125\" cy=\"125\" r=\"1\" stroke=\"black\" stroke-width=\"2\" fill=\"black\" />\n",
      "    <circle cx=\"375\" cy=\"125\" r=\"1\" stroke=\"black\" stroke-width=\"2\" fill=\"black\" />\n",
      "    <line x1=\"125\" y1=\"125\" x2=\"375\" y2=\"125\" stroke=\"black\" stroke-width=\"2\" />\n",
      "    <!-- 반직선 -->\n",
      "    <text x=\"250\" y=\"175\" font-size=\"25\" text-anchor=\"middle\">반직선</text>\n",
      "    <circle cx=\"125\" cy=\"250\" r=\"1\" stroke=\"black\" stroke-width=\"2\" fill=\"black\" />\n",
      "    <circle cx=\"375\" cy=\"250\" r=\"1\" stroke=\"black\" stroke-width=\"2\" fill=\"black\" />\n",
      "    <line x1=\"125\" y1=\"250\" x2=\"500\" y2=\"250\" stroke=\"black\" stroke-width=\"2\" />\n",
      "    <!-- 직선 -->\n",
      "    <text x=\"250\" y=\"300\" font-size=\"25\" text-anchor=\"middle\">직선</text>\n",
      "    <circle cx=\"125\" cy=\"375\" r=\"1\" stroke=\"black\" stroke-width=\"2\" fill=\"black\" />\n",
      "    <circle cx=\"375\" cy=\"375\" r=\"1\" stroke=\"black\" stroke-width=\"2\" fill=\"black\" />\n",
      "    <line x1=\"0\" y1=\"375\" x2=\"500\" y2=\"375\" stroke=\"black\" stroke-width=\"2\" />\n",
      "    </svg>\n",
      "    \n",
      "\n",
      "생성된 설명:\n",
      " ### 직선에 대한 설명\n",
      "\n",
      "#### 정의\n",
      "직선은 평면 위에서 가장 짧은 거리로 두 점을 연결하는 선을 말합니다. 이 선은 양쪽으로 무한히 계속되며, 방향이 항상 일정합니다. 직선 위의 모든 점들은 서로 평행하게 연결되어 있어, 어떤 방향으로든 뻗어나갈 수 있습니다.\n",
      "\n",
      "#### 기본 성질\n",
      "1. **무한한 길이**: 직선은 양쪽으로 무한히 이어집니다. 즉, 시작점에서 끝점까지의 거리가 아무리 길어도 계속해서 뻗어나갈 수 있습니다.\n",
      "2. **평행한 선들**: 같은 방향으로 무한히 뻗어나가는 두 직선은 서로 평행합니다. 반대로, 서로 다른 방향으로 무한히 뻗어나가는 두 직선은 교차하지 않습니다.\n",
      "3. **직선 위의 점들**: 직선 위의 모든 점들은 서로 연결되어 있어, 어떤 두 점을 잇는 선분은 항상 직선의 일부분입니다.\n",
      "4. **직선의 대칭성**: 직선을 기준으로 대칭인 두 부분은 서로 완전히 일치합니다. 예를 들어, 한 점을 기준으로 대칭인 두 점은 직선 양쪽에 동일한 거리에 위치합니다.\n",
      "\n",
      "이러한 성질들로 인해 직선은 기하학에서 매우 중요한 개념으로 사용됩니다!\n"
     ]
    },
    {
     "data": {
      "image/svg+xml": [
       "<svg xmlns=\"http://www.w3.org/2000/svg\" width=\"500\" height=\"500\">\n",
       "    <text x=\"250\" y=\"25\" font-size=\"25\" text-anchor=\"middle\">곧은선</text>\n",
       "    <text x=\"250\" y=\"75\" font-size=\"25\" text-anchor=\"middle\">선분</text>\n",
       "    <!-- 선분 -->\n",
       "    <circle cx=\"125\" cy=\"125\" r=\"1\" stroke=\"black\" stroke-width=\"2\" fill=\"black\"/>\n",
       "    <circle cx=\"375\" cy=\"125\" r=\"1\" stroke=\"black\" stroke-width=\"2\" fill=\"black\"/>\n",
       "    <line x1=\"125\" y1=\"125\" x2=\"375\" y2=\"125\" stroke=\"black\" stroke-width=\"2\"/>\n",
       "    <!-- 반직선 -->\n",
       "    <text x=\"250\" y=\"175\" font-size=\"25\" text-anchor=\"middle\">반직선</text>\n",
       "    <circle cx=\"125\" cy=\"250\" r=\"1\" stroke=\"black\" stroke-width=\"2\" fill=\"black\"/>\n",
       "    <circle cx=\"375\" cy=\"250\" r=\"1\" stroke=\"black\" stroke-width=\"2\" fill=\"black\"/>\n",
       "    <line x1=\"125\" y1=\"250\" x2=\"500\" y2=\"250\" stroke=\"black\" stroke-width=\"2\"/>\n",
       "    <!-- 직선 -->\n",
       "    <text x=\"250\" y=\"300\" font-size=\"25\" text-anchor=\"middle\">직선</text>\n",
       "    <circle cx=\"125\" cy=\"375\" r=\"1\" stroke=\"black\" stroke-width=\"2\" fill=\"black\"/>\n",
       "    <circle cx=\"375\" cy=\"375\" r=\"1\" stroke=\"black\" stroke-width=\"2\" fill=\"black\"/>\n",
       "    <line x1=\"0\" y1=\"375\" x2=\"500\" y2=\"375\" stroke=\"black\" stroke-width=\"2\"/>\n",
       "    </svg>"
      ],
      "text/plain": [
       "<IPython.core.display.SVG object>"
      ]
     },
     "metadata": {},
     "output_type": "display_data"
    },
    {
     "name": "stdout",
     "output_type": "stream",
     "text": [
      "====================================================================================================\n",
      "요청한 문장: 대표적인 굽은선을 그려줘\n",
      "추출된 개념: 곡선\n",
      "추출된 인자: {'type': '타원', 'description': '타원은 가장 대표적인 굽은선의 한 종류로, 두 초점 사이의 거리의 합이 일정한 점들의 집합으로 정의됩니다.'}\n",
      "\n",
      "생성된 코드:\n",
      " \n",
      "    <svg width=\"500\" height=\"500\" xmlns=\"http://www.w3.org/2000/svg\">\n",
      "    <text x=\"250\" y=\"50\" font-size=\"25\" text-anchor=\"middle\">굽은선</text>\n",
      "    <!-- 복잡한 S자 곡선 (두 개의 Cubic Bézier) -->\n",
      "    <path d=\"M 100,400\n",
      "    C 100,100 400,100 400,250\n",
      "    C 400,400 100,400 100,100\"\n",
      "    stroke=\"black\" fill=\"none\" stroke-width=\"2\"/>\n",
      "    </svg>\n",
      "    \n",
      "\n",
      "생성된 설명:\n",
      " ### 곡선에 대한 설명\n",
      "\n",
      "**정의:**\n",
      "곡선은 직선이 아닌, 연속적으로 이어지는 점들의 모임으로 이루어진 도형입니다. 쉽게 말해, 직선처럼 일정한 방향으로만 움직이는 것이 아니라, 부드럽게 휘어지거나 굽어지는 형태를 가진 선을 말합니다.\n",
      "\n",
      "**기본 성질:**\n",
      "1. **연속성:** 곡선 위의 모든 점들은 부드럽게 이어져 있어, 어떤 작은 구간에서도 끊어지지 않고 이어집니다.\n",
      "2. **길이:** 곡선의 길이는 그 곡선을 따라 측정한 총 거리입니다. 이 길이는 곡선의 모양에 따라 달라집니다. 예를 들어, 원의 둘레는 반지름에 따라 결정되며, 이는 곡선의 길이를 정확히 계산하는 방법 중 하나입니다.\n",
      "3. **곡률:** 곡선이 얼마나 빠르게 방향을 바꾸는지를 나타내는 값입니다. 곡률이 크면 곡선이 더 급하게 굽어지고, 작으면 더 부드럽게 굽어집니다. 예를 들어, 원의 경우 모든 점에서 곡률이 일정합니다.\n",
      "4. **접선:** 곡선 위의 어떤 점에서 그 점을 지나는 가장 가까운 직선을 접선이라고 합니다. 이 접선은 그 점에서 곡선의 방향을 가장 잘 나타냅니다.\n",
      "\n",
      "이러한 성질들 덕분에 곡선은 자연 현상이나 공학적 설계 등 다양한 분야에서 중요한 역할을 합니다.\n"
     ]
    },
    {
     "data": {
      "image/svg+xml": [
       "<svg xmlns=\"http://www.w3.org/2000/svg\" width=\"500\" height=\"500\">\n",
       "    <text x=\"250\" y=\"50\" font-size=\"25\" text-anchor=\"middle\">굽은선</text>\n",
       "    <!-- 복잡한 S자 곡선 (두 개의 Cubic Bézier) -->\n",
       "    <path d=\"M 100,400     C 100,100 400,100 400,250     C 400,400 100,400 100,100\" stroke=\"black\" fill=\"none\" stroke-width=\"2\"/>\n",
       "    </svg>"
      ],
      "text/plain": [
       "<IPython.core.display.SVG object>"
      ]
     },
     "metadata": {},
     "output_type": "display_data"
    },
    {
     "name": "stdout",
     "output_type": "stream",
     "text": [
      "====================================================================================================\n",
      "요청한 문장: 중심이 (0,0)이고 반지름이 2인 원을 그려주세요.\n",
      "추출된 개념: Circle\n",
      "추출된 인자: {'radius': 2}\n",
      "\n",
      "생성된 코드:\n",
      " <svg width=\"500\" height=\"500\" xmlns=\"http://www.w3.org/2000/svg\">\n",
      "    <text x=\"250\" y=\"50\" font-size=\"25\" text-anchor=\"middle\">원</text>\n",
      "    <circle cx=\"250\" cy=\"250\" r=\"100\" stroke=\"black\" stroke-width=\"2\" fill=\"none\" />\n",
      "    <circle cx=\"250\" cy=\"250\" r=\"1\" stroke=\"black\" stroke-width=\"2\" fill=\"black\" />\n",
      "    <line x1=\"250\" y1=\"250\" x2=\"350\" y2=\"250\" stroke=\"black\" stroke-width=\"2\" />\n",
      "    </svg>\n",
      "    \n",
      "\n",
      "생성된 설명:\n",
      " ### Circle (원)\n",
      "\n",
      "#### 정의:\n",
      "원은 평면 위에서 한 점(중심)으로부터 일정한 거리(반지름)에 있는 모든 점들의 집합을 말합니다. 이 중심점을 기준으로 원 위의 모든 점들은 동일한 거리에 위치해 있습니다.\n",
      "\n",
      "#### 기본 성질:\n",
      "1. **둘레와 지름**: 원의 둘레는 지름에 π(약 3.14)를 곱한 값입니다. 즉, 둘레 = 지름 × π 입니다. 반대로 지름은 둘레를 π로 나누면 구할 수 있습니다.\n",
      "   \n",
      "2. **면적**: 원의 면적은 반지름의 제곱에 π를 곱한 값입니다. 공식으로 표현하면 면적 = π × 반지름2 입니다.\n",
      "\n",
      "3. **대칭성**: 원은 중심을 기준으로 완벽하게 대칭입니다. 즉, 중심을 지나는 어떤 직선을 기준으로 원을 접어도 양쪽이 완전히 일치합니다.\n",
      "\n",
      "4. **원주각과 호의 관계**: 원 위의 두 점을 잇는 호의 중앙각은 그 호에 대응하는 원주각의 두 배입니다. 예를 들어, 호의 중앙각이 θ라면 원주각은 θ/2가 됩니다.\n",
      "\n",
      "이러한 성질들로 인해 원은 기하학에서 매우 중요한 역할을 합니다. 다양한 도형과 문제 해결에 활용되며, 일상생활에서도 자주 접하게 되는 개념입니다.\n",
      "\n",
      "생성된 공식 raw:\n",
      " {'perimeter': '2 \\\\times 3.14 \\\\times 반지름', 'area': '3.14 \\\\times 반지름 \\\\times 반지름'}\n"
     ]
    },
    {
     "data": {
      "text/latex": [
       "$\\displaystyle 2 \\times 3.14 \\times 반지름$"
      ],
      "text/plain": [
       "<IPython.core.display.Math object>"
      ]
     },
     "metadata": {},
     "output_type": "display_data"
    },
    {
     "data": {
      "text/latex": [
       "$\\displaystyle 3.14 \\times 반지름 \\times 반지름$"
      ],
      "text/plain": [
       "<IPython.core.display.Math object>"
      ]
     },
     "metadata": {},
     "output_type": "display_data"
    },
    {
     "data": {
      "image/svg+xml": [
       "<svg xmlns=\"http://www.w3.org/2000/svg\" width=\"500\" height=\"500\">\n",
       "    <text x=\"250\" y=\"50\" font-size=\"25\" text-anchor=\"middle\">원</text>\n",
       "    <circle cx=\"250\" cy=\"250\" r=\"100\" stroke=\"black\" stroke-width=\"2\" fill=\"none\"/>\n",
       "    <circle cx=\"250\" cy=\"250\" r=\"1\" stroke=\"black\" stroke-width=\"2\" fill=\"black\"/>\n",
       "    <line x1=\"250\" y1=\"250\" x2=\"350\" y2=\"250\" stroke=\"black\" stroke-width=\"2\"/>\n",
       "    </svg>"
      ],
      "text/plain": [
       "<IPython.core.display.SVG object>"
      ]
     },
     "metadata": {},
     "output_type": "display_data"
    },
    {
     "name": "stdout",
     "output_type": "stream",
     "text": [
      "====================================================================================================\n",
      "요청한 문장: 37° 각도를 그려줘\n",
      "추출된 개념: 각도\n",
      "추출된 인자: {'size': 37}\n",
      "\n",
      "생성된 코드:\n",
      " <svg width=\"500\" height=\"375\" xmlns=\"http://www.w3.org/2000/svg\">\n",
      "    <text x=\"250\" y=\"50\" font-size=\"25\" text-anchor=\"middle\">각</text>\n",
      "    <!-- 기준선 -->\n",
      "    <line x1=\"125\" y1=\"333\" x2=\"375\" y2=\"333\" stroke=\"black\" stroke-width=\"2\" />\n",
      "    <!-- 기울어진 선 -->\n",
      "    <line x1=\"125\" y1=\"333\" x2=\"324.6588775118232\" y2=\"182.54624421198793\" stroke=\"black\" stroke-width=\"2\" />\n",
      "    <!-- 각도 호 -->\n",
      "    <path d=\"M 164.93177550236464,302.9092488423976 A 50,50 0 0,1 175,333\" stroke=\"black\" stroke-width=\"2\" fill=\"none\"/>\n",
      "    </svg>\n",
      "    \n",
      "\n",
      "생성된 설명:\n",
      " ### 각도에 대한 설명\n",
      "\n",
      "**정의:**\n",
      "각도는 두 직선이나 선분이 만나서 생기는 공간의 크기를 측정하는 방법입니다. 우리가 일상에서 자주 접하는 각도는 주로 도로 표지판에서 볼 수 있는 방향 지시나, 그림에서 선들이 만나는 부분을 표현할 때 사용됩니다.\n",
      "\n",
      "**기본 성질:**\n",
      "1. **직선의 각도:** 직선은 정확히 180도의 각도를 가집니다. 직선은 두 방향으로 무한히 이어지는 것처럼 보이지만, 실제로는 시작점과 끝점이 있습니다.\n",
      "   \n",
      "2. **직각 각도:** 직각은 90도를 의미합니다. 이는 우리가 흔히 사용하는 'L'자 모양의 모서리나 사각형의 모서리에서 볼 수 있습니다. 직각은 두 직선이 서로 수직으로 만나는 경우에 생깁니다.\n",
      "\n",
      "3. **평행선과 각도:** 평행한 두 직선은 만나지 않기 때문에, 그들 사이의 각도는 항상 같습니다. 예를 들어, 두 평행선 위에 그려진 삼각형의 한 각은 다른 각과 크기가 동일합니다.\n",
      "\n",
      "4. **복합 각도:** 여러 각도를 합쳐서 더 큰 각도를 만들 수 있습니다. 예를 들어, 두 개의 직각 각도를 합치면 180도가 됩니다.\n",
      "\n",
      "이러한 기본적인 개념들을 이해하면 각도에 대한 다양한 문제를 풀 때 도움이 될 것입니다!\n"
     ]
    },
    {
     "data": {
      "image/svg+xml": [
       "<svg xmlns=\"http://www.w3.org/2000/svg\" width=\"500\" height=\"375\">\n",
       "    <text x=\"250\" y=\"50\" font-size=\"25\" text-anchor=\"middle\">각</text>\n",
       "    <!-- 기준선 -->\n",
       "    <line x1=\"125\" y1=\"333\" x2=\"375\" y2=\"333\" stroke=\"black\" stroke-width=\"2\"/>\n",
       "    <!-- 기울어진 선 -->\n",
       "    <line x1=\"125\" y1=\"333\" x2=\"324.6588775118232\" y2=\"182.54624421198793\" stroke=\"black\" stroke-width=\"2\"/>\n",
       "    <!-- 각도 호 -->\n",
       "    <path d=\"M 164.93177550236464,302.9092488423976 A 50,50 0 0,1 175,333\" stroke=\"black\" stroke-width=\"2\" fill=\"none\"/>\n",
       "    </svg>"
      ],
      "text/plain": [
       "<IPython.core.display.SVG object>"
      ]
     },
     "metadata": {},
     "output_type": "display_data"
    },
    {
     "name": "stdout",
     "output_type": "stream",
     "text": [
      "====================================================================================================\n",
      "요청한 문장: 직각을 표현해줘\n",
      "추출된 개념: Right Angle\n",
      "추출된 인자: {}\n",
      "\n",
      "생성된 코드:\n",
      " <svg width=\"500\" height=\"500\" xmlns=\"http://www.w3.org/2000/svg\">\n",
      "    <text x=\"250\" y=\"50\" font-size=\"25\" text-anchor=\"middle\">직각</text>\n",
      "    <!-- 기준선 -->\n",
      "    <line x1=\"125\" y1=\"400\" x2=\"458\" y2=\"400\" stroke=\"black\" stroke-width=\"2\" />\n",
      "    <!-- 기울어진 선 -->\n",
      "    <line x1=\"125\" y1=\"400\" x2=\"125\" y2=\"67\" stroke=\"black\" stroke-width=\"2\" />\n",
      "    <!-- 직각 보조선 -->\n",
      "    <line x1=\"175\" y1=\"400\" x2=\"175\" y2=\"350\" stroke=\"black\" stroke-width=\"2\" />\n",
      "    <line x1=\"125\" y1=\"350\" x2=\"175\" y2=\"350\" stroke=\"black\" stroke-width=\"2\" />\n",
      "    </svg>\n",
      "    \n",
      "\n",
      "생성된 설명:\n",
      " ### Right Angle\n",
      "\n",
      "**정의:**\n",
      "Right Angle은 기하학에서 가장 기본적인 각도 중 하나로, 정확히 90도를 이루는 각도를 말합니다. 이 각도는 직각이라고도 불리며, 직선이나 특정 도형의 모서리에서 만나는 두 변이 서로 수직으로 만나는 경우에 나타납니다.\n",
      "\n",
      "**기본 성질:**\n",
      "1. **크기:** Right Angle은 항상 정확히 90도입니다. 이는 모든 Right Angle이 동일한 크기를 가짐을 의미합니다.\n",
      "2. **모양:** Right Angle은 보통 'L' 모양으로 쉽게 인식할 수 있습니다. 이 모양은 직각을 나타내는 데 자주 사용됩니다.\n",
      "3. **도형과의 관계:** 직각은 사각형, 직사각형, 정사각형 등 다양한 도형의 모서리에서 발견됩니다. 특히, 직사각형이나 정사각형은 네 개의 Right Angle을 가지고 있습니다.\n",
      "4. **삼각형과의 연관성:** 직각삼각형은 한 내각이 정확히 Right Angle인 삼각형을 의미합니다. 이 삼각형은 세 변의 길이 관계를 통해 피타고라스 정리를 적용할 수 있습니다.\n",
      "\n",
      "이러한 성질들로 인해 Right Angle은 수학에서 매우 중요한 개념으로 자리잡고 있습니다!\n"
     ]
    },
    {
     "data": {
      "image/svg+xml": [
       "<svg xmlns=\"http://www.w3.org/2000/svg\" width=\"500\" height=\"500\">\n",
       "    <text x=\"250\" y=\"50\" font-size=\"25\" text-anchor=\"middle\">직각</text>\n",
       "    <!-- 기준선 -->\n",
       "    <line x1=\"125\" y1=\"400\" x2=\"458\" y2=\"400\" stroke=\"black\" stroke-width=\"2\"/>\n",
       "    <!-- 기울어진 선 -->\n",
       "    <line x1=\"125\" y1=\"400\" x2=\"125\" y2=\"67\" stroke=\"black\" stroke-width=\"2\"/>\n",
       "    <!-- 직각 보조선 -->\n",
       "    <line x1=\"175\" y1=\"400\" x2=\"175\" y2=\"350\" stroke=\"black\" stroke-width=\"2\"/>\n",
       "    <line x1=\"125\" y1=\"350\" x2=\"175\" y2=\"350\" stroke=\"black\" stroke-width=\"2\"/>\n",
       "    </svg>"
      ],
      "text/plain": [
       "<IPython.core.display.SVG object>"
      ]
     },
     "metadata": {},
     "output_type": "display_data"
    },
    {
     "name": "stdout",
     "output_type": "stream",
     "text": [
      "====================================================================================================\n",
      "요청한 문장: 밑변이 3이고, 높이가 4인 직각삼각형 하나를 그려줘\n",
      "추출된 개념: Right Triangle\n",
      "추출된 인자: {'base': 3, 'height': 4}\n",
      "\n",
      "생성된 코드:\n",
      " <svg width=\"500\" height=\"500\" xmlns=\"http://www.w3.org/2000/svg\">\n",
      "    <text x=\"250\" y=\"50\" font-size=\"25\" text-anchor=\"middle\">직각삼각형</text>\n",
      "    <!-- 직각삼각형 -->\n",
      "    <line x1=\"83\" y1=\"416\" x2=\"308\" y2=\"416\" stroke=\"black\" stroke-width=\"2\" />\n",
      "    <line x1=\"308\" y1=\"416\" x2=\"308\" y2=\"166\" stroke=\"black\" stroke-width=\"2\" />\n",
      "    <line x1=\"83\" y1=\"416\" x2=\"308\" y2=\"166\" stroke=\"black\" stroke-width=\"2\" />\n",
      "    <!-- 직각 보조선 -->\n",
      "    <line x1=\"286\" y1=\"416\" x2=\"286\" y2=\"394\" stroke=\"black\" stroke-width=\"2\" />\n",
      "    <line x1=\"286\" y1=\"394\" x2=\"308\" y2=\"394\" stroke=\"black\" stroke-width=\"2\" />\n",
      "    </svg>\n",
      "    \n",
      "\n",
      "생성된 설명:\n",
      " ### Right Triangle\n",
      "\n",
      "**정의:**\n",
      "A right triangle is a special type of triangle that has one angle which measures exactly 90 degrees (a right angle). This unique angle distinguishes it from other triangles where all angles are less than 90 degrees.\n",
      "\n",
      "**기본 성질:**\n",
      "1. **한 각이 직각:** 가장 중요한 특징은 한 꼭짓점에서 직각(90°)을 이루는 것입니다.\n",
      "2. **직각을 중심으로 두 개의 다른 각:** 나머지 두 각은 합쳐 90도가 됩니다. 따라서 이 두 각은 서로 보완각(complementary angles)입니다.\n",
      "3. **피타고라스 정리 적용 가능:** 직각 삼각형에서는 가장 긴 변을 빗변(hypotenuse)이라고 부르며, 이 빗변의 길이는 다른 두 변(직각을 이루는 두 변을 밑변과 높이라고도 부릅니다)의 길이와 특별한 관계를 가집니다. 이 관계는 피타고라스 정리로 표현되는데, 수학적으로는 \\(a^2 + b^2 = c^2\\) 입니다 (여기서 \\(c\\)는 빗변의 길이이고, \\(a\\)와 \\(b\\)는 다른 두 변의 길이입니다). 하지만 문제 해결을 위해 직접적인 공식보다는 이 관계를 이해하는 것이 중요합니다.\n",
      "4. **삼각형의 종류:** 직각 삼각형은 그 각도에 따라 다양한 종류로 나눌 수 있습니다. 예를 들어, 모든 변의 길이가 정수인 직각 삼각형을 피타고라스 삼각형이라고 부르기도 합니다.\n",
      "\n",
      "이런 특징들로 인해 직각 삼각형은 건축, 공학, 그리고 다양한 실생활 문제 해결에서 매우 중요한 역할을 합니다!\n",
      "\n",
      "생성된 공식 raw:\n",
      " {'perimeter': '밑변 + 높이 + 빗변', 'area': '밑변 × 높이 ÷ 2'}\n"
     ]
    },
    {
     "data": {
      "text/latex": [
       "$\\displaystyle 밑변 + 높이 + 빗변$"
      ],
      "text/plain": [
       "<IPython.core.display.Math object>"
      ]
     },
     "metadata": {},
     "output_type": "display_data"
    },
    {
     "data": {
      "text/latex": [
       "$\\displaystyle 밑변 × 높이 ÷ 2$"
      ],
      "text/plain": [
       "<IPython.core.display.Math object>"
      ]
     },
     "metadata": {},
     "output_type": "display_data"
    },
    {
     "data": {
      "image/svg+xml": [
       "<svg xmlns=\"http://www.w3.org/2000/svg\" width=\"500\" height=\"500\">\n",
       "    <text x=\"250\" y=\"50\" font-size=\"25\" text-anchor=\"middle\">직각삼각형</text>\n",
       "    <!-- 직각삼각형 -->\n",
       "    <line x1=\"83\" y1=\"416\" x2=\"308\" y2=\"416\" stroke=\"black\" stroke-width=\"2\"/>\n",
       "    <line x1=\"308\" y1=\"416\" x2=\"308\" y2=\"166\" stroke=\"black\" stroke-width=\"2\"/>\n",
       "    <line x1=\"83\" y1=\"416\" x2=\"308\" y2=\"166\" stroke=\"black\" stroke-width=\"2\"/>\n",
       "    <!-- 직각 보조선 -->\n",
       "    <line x1=\"286\" y1=\"416\" x2=\"286\" y2=\"394\" stroke=\"black\" stroke-width=\"2\"/>\n",
       "    <line x1=\"286\" y1=\"394\" x2=\"308\" y2=\"394\" stroke=\"black\" stroke-width=\"2\"/>\n",
       "    </svg>"
      ],
      "text/plain": [
       "<IPython.core.display.SVG object>"
      ]
     },
     "metadata": {},
     "output_type": "display_data"
    },
    {
     "name": "stdout",
     "output_type": "stream",
     "text": [
      "====================================================================================================\n",
      "요청한 문장: 가로가 5, 세로가 3인 직사각형의 넓이\n",
      "추출된 개념: Rectangle\n",
      "추출된 인자: {'width': 5, 'height': 3}\n",
      "\n",
      "생성된 코드:\n",
      " <svg width=\"500\" height=\"312\" xmlns=\"http://www.w3.org/2000/svg\">\n",
      "    <text x=\"250\" y=\"50\" font-size=\"25\" text-anchor=\"middle\">직사각형</text>\n",
      "    <rect x=\"100\" y=\"100\" width=\"250\" height=\"150\" stroke=\"black\" stroke-width=\"2\" fill=\"none\" />\n",
      "    </svg>\n",
      "\n",
      "생성된 설명:\n",
      " ### Rectangle 설명\n",
      "\n",
      "**정의:**\n",
      "사각형은 네 개의 직선으로 둘러싸인 평면 도형으로, 각 내각이 직각(90도)인 특징을 가지고 있습니다. 즉, 사각형의 네 모서리는 모두 직각을 이루며, 대변이 평행하고 길이가 같은 특성을 갖습니다.\n",
      "\n",
      "**기본 성질:**\n",
      "1. **대변의 길이가 같음:** 사각형의 두 쌍의 대변은 길이가 동일합니다. 예를 들어, 가로와 세로가 같은 길이를 가집니다.\n",
      "2. **대각선이 서로 같음:** 사각형의 두 대각선은 길이가 같습니다. 즉, 사각형을 두 개의 동일한 삼각형으로 나눌 수 있습니다.\n",
      "3. **내각의 합:** 사각형의 네 내각의 합은 항상 360도입니다.\n",
      "4. **변의 배열:** 사각형은 여러 가지 형태로 배열될 수 있습니다. 예를 들어, 직사각형은 가로와 세로가 각각 다른 길이를 가질 수 있으며, 정사각형은 모든 변의 길이가 같고 모든 내각이 직각인 특별한 형태의 사각형입니다.\n",
      "\n",
      "이러한 성질들로 인해 사각형은 우리 일상생활에서 매우 흔하게 볼 수 있는 도형입니다!\n",
      "\n",
      "생성된 공식 raw:\n",
      " {'perimeter': '2 × (밑변 + 높이)', 'area': '밑변 × 높이'}\n"
     ]
    },
    {
     "data": {
      "text/latex": [
       "$\\displaystyle 2 × (밑변 + 높이)$"
      ],
      "text/plain": [
       "<IPython.core.display.Math object>"
      ]
     },
     "metadata": {},
     "output_type": "display_data"
    },
    {
     "data": {
      "text/latex": [
       "$\\displaystyle 밑변 × 높이$"
      ],
      "text/plain": [
       "<IPython.core.display.Math object>"
      ]
     },
     "metadata": {},
     "output_type": "display_data"
    },
    {
     "data": {
      "image/svg+xml": [
       "<svg xmlns=\"http://www.w3.org/2000/svg\" width=\"500\" height=\"312\">\n",
       "    <text x=\"250\" y=\"50\" font-size=\"25\" text-anchor=\"middle\">직사각형</text>\n",
       "    <rect x=\"100\" y=\"100\" width=\"250\" height=\"150\" stroke=\"black\" stroke-width=\"2\" fill=\"none\"/>\n",
       "    </svg>"
      ],
      "text/plain": [
       "<IPython.core.display.SVG object>"
      ]
     },
     "metadata": {},
     "output_type": "display_data"
    },
    {
     "name": "stdout",
     "output_type": "stream",
     "text": [
      "====================================================================================================\n",
      "요청한 문장: 한 변의 길이가 2인 정사각형 하나를 그려줘\n",
      "추출된 개념: Square\n",
      "추출된 인자: {'length': 2}\n",
      "\n",
      "생성된 코드:\n",
      " <svg width=\"500\" height=\"500\" xmlns=\"http://www.w3.org/2000/svg\">\n",
      "    <text x=\"250\" y=\"50\" font-size=\"25\" text-anchor=\"middle\">정사각형</text>\n",
      "    <rect x=\"100\" y=\"100\" width=\"200\" height=\"200\" stroke=\"black\" stroke-width=\"2\" fill=\"none\" />\n",
      "    </svg>\n",
      "\n",
      "생성된 설명:\n",
      " ### Square\n",
      "\n",
      "**정의:**\n",
      "사각형은 네 개의 변으로 이루어진 평면 도형입니다. 모든 내각이 직각(90도)이며, 반대편의 변들이 길이가 같아서 마주보는 두 변은 평행하고 길이가 동일합니다.\n",
      "\n",
      "**기본 성질:**\n",
      "1. **대변의 길이 동일:** 사각형의 마주보는 두 변은 길이가 같습니다. 예를 들어, 정사각형이나 직사각형에서는 모든 대변이 같은 길이를 가집니다.\n",
      "2. **대각선의 성질:** 사각형의 대각선은 서로를 반으로 나눕니다. 즉, 대각선이 만나는 점에서 대각선을 잇는 선분들은 서로를 절반으로 나눕니다.\n",
      "3. **변의 합:** 사각형의 네 변의 길이를 모두 더하면, 그 합은 사각형의 둘레를 나타냅니다. 예를 들어, 한 변의 길이가 \\(a\\)이고 다른 변의 길이가 \\(b\\)라면, 둘레는 \\(a + b + a + b = 2(a + b)\\)가 됩니다.\n",
      "4. **정사각형의 특징:** 정사각형은 모든 변의 길이가 같고 모든 내각이 직각인 특별한 사각형입니다. 모든 대각선도 길이가 같고 서로를 직각으로 이룹니다.\n",
      "\n",
      "이러한 성질들로 인해 사각형은 다양한 형태와 크기로 존재하며, 건축, 디자인, 그리고 일상생활에서 자주 볼 수 있는 도형입니다!\n",
      "\n",
      "생성된 공식 raw:\n",
      " {'perimeter': '4 \\\\times \\\\mathrm{한 변의 길이}', 'area': '\\\\mathrm{한 변의 길이} \\\\times \\\\mathrm{한 변의 길이}'}\n"
     ]
    },
    {
     "data": {
      "text/latex": [
       "$\\displaystyle 4 \\times \\mathrm{한 변의 길이}$"
      ],
      "text/plain": [
       "<IPython.core.display.Math object>"
      ]
     },
     "metadata": {},
     "output_type": "display_data"
    },
    {
     "data": {
      "text/latex": [
       "$\\displaystyle \\mathrm{한 변의 길이} \\times \\mathrm{한 변의 길이}$"
      ],
      "text/plain": [
       "<IPython.core.display.Math object>"
      ]
     },
     "metadata": {},
     "output_type": "display_data"
    },
    {
     "data": {
      "image/svg+xml": [
       "<svg xmlns=\"http://www.w3.org/2000/svg\" width=\"500\" height=\"500\">\n",
       "    <text x=\"250\" y=\"50\" font-size=\"25\" text-anchor=\"middle\">정사각형</text>\n",
       "    <rect x=\"100\" y=\"100\" width=\"200\" height=\"200\" stroke=\"black\" stroke-width=\"2\" fill=\"none\"/>\n",
       "    </svg>"
      ],
      "text/plain": [
       "<IPython.core.display.SVG object>"
      ]
     },
     "metadata": {},
     "output_type": "display_data"
    },
    {
     "name": "stdout",
     "output_type": "stream",
     "text": [
      "====================================================================================================\n",
      "요청한 문장: 곧은선이 뭐야?\n",
      "추출된 개념: 직선\n",
      "추출된 인자: {}\n",
      "\n",
      "생성된 코드:\n",
      " <svg width=\"500\" height=\"500\" xmlns=\"http://www.w3.org/2000/svg\">\n",
      "    <text x=\"250\" y=\"25\" font-size=\"25\" text-anchor=\"middle\">곧은선</text>\n",
      "    <text x=\"250\" y=\"75\" font-size=\"25\" text-anchor=\"middle\">선분</text>\n",
      "    <!-- 선분 -->\n",
      "    <circle cx=\"125\" cy=\"125\" r=\"1\" stroke=\"black\" stroke-width=\"2\" fill=\"black\" />\n",
      "    <circle cx=\"375\" cy=\"125\" r=\"1\" stroke=\"black\" stroke-width=\"2\" fill=\"black\" />\n",
      "    <line x1=\"125\" y1=\"125\" x2=\"375\" y2=\"125\" stroke=\"black\" stroke-width=\"2\" />\n",
      "    <!-- 반직선 -->\n",
      "    <text x=\"250\" y=\"175\" font-size=\"25\" text-anchor=\"middle\">반직선</text>\n",
      "    <circle cx=\"125\" cy=\"250\" r=\"1\" stroke=\"black\" stroke-width=\"2\" fill=\"black\" />\n",
      "    <circle cx=\"375\" cy=\"250\" r=\"1\" stroke=\"black\" stroke-width=\"2\" fill=\"black\" />\n",
      "    <line x1=\"125\" y1=\"250\" x2=\"500\" y2=\"250\" stroke=\"black\" stroke-width=\"2\" />\n",
      "    <!-- 직선 -->\n",
      "    <text x=\"250\" y=\"300\" font-size=\"25\" text-anchor=\"middle\">직선</text>\n",
      "    <circle cx=\"125\" cy=\"375\" r=\"1\" stroke=\"black\" stroke-width=\"2\" fill=\"black\" />\n",
      "    <circle cx=\"375\" cy=\"375\" r=\"1\" stroke=\"black\" stroke-width=\"2\" fill=\"black\" />\n",
      "    <line x1=\"0\" y1=\"375\" x2=\"500\" y2=\"375\" stroke=\"black\" stroke-width=\"2\" />\n",
      "    </svg>\n",
      "    \n",
      "\n",
      "생성된 설명:\n",
      " ### 직선에 대한 설명\n",
      "\n",
      "#### 정의\n",
      "직선은 평면 위에서 가장 짧은 거리로 두 점을 연결하는 선을 말합니다. 이 선은 양쪽으로 무한히 계속되며, 방향이 항상 일정합니다. 직선 위의 모든 점들은 서로 평행하게 연결되어 있어, 어떤 방향으로든 뻗어나갈 수 있습니다.\n",
      "\n",
      "#### 기본 성질\n",
      "1. **무한한 길이**: 직선은 양쪽으로 무한히 이어집니다. 즉, 시작점에서 끝점까지의 거리가 아무리 길어도 계속해서 뻗어나갈 수 있습니다.\n",
      "2. **평행한 선들**: 같은 방향으로 무한히 뻗어나가는 두 직선은 서로 평행합니다. 반대로, 서로 다른 방향으로 무한히 뻗어나가는 두 직선은 교차하지 않습니다.\n",
      "3. **직선 위의 점들**: 직선 위의 모든 점들은 서로 연결되어 있어, 어떤 두 점을 잇는 선분은 항상 직선의 일부분입니다.\n",
      "4. **직선의 대칭성**: 직선을 기준으로 대칭인 두 부분은 서로 완전히 일치합니다. 예를 들어, 한 점을 기준으로 대칭인 두 점은 직선 양쪽에 동일한 거리에 위치합니다.\n",
      "\n",
      "이러한 성질들로 인해 직선은 기하학에서 매우 중요한 개념으로 사용됩니다!\n"
     ]
    },
    {
     "data": {
      "image/svg+xml": [
       "<svg xmlns=\"http://www.w3.org/2000/svg\" width=\"500\" height=\"500\">\n",
       "    <text x=\"250\" y=\"25\" font-size=\"25\" text-anchor=\"middle\">곧은선</text>\n",
       "    <text x=\"250\" y=\"75\" font-size=\"25\" text-anchor=\"middle\">선분</text>\n",
       "    <!-- 선분 -->\n",
       "    <circle cx=\"125\" cy=\"125\" r=\"1\" stroke=\"black\" stroke-width=\"2\" fill=\"black\"/>\n",
       "    <circle cx=\"375\" cy=\"125\" r=\"1\" stroke=\"black\" stroke-width=\"2\" fill=\"black\"/>\n",
       "    <line x1=\"125\" y1=\"125\" x2=\"375\" y2=\"125\" stroke=\"black\" stroke-width=\"2\"/>\n",
       "    <!-- 반직선 -->\n",
       "    <text x=\"250\" y=\"175\" font-size=\"25\" text-anchor=\"middle\">반직선</text>\n",
       "    <circle cx=\"125\" cy=\"250\" r=\"1\" stroke=\"black\" stroke-width=\"2\" fill=\"black\"/>\n",
       "    <circle cx=\"375\" cy=\"250\" r=\"1\" stroke=\"black\" stroke-width=\"2\" fill=\"black\"/>\n",
       "    <line x1=\"125\" y1=\"250\" x2=\"500\" y2=\"250\" stroke=\"black\" stroke-width=\"2\"/>\n",
       "    <!-- 직선 -->\n",
       "    <text x=\"250\" y=\"300\" font-size=\"25\" text-anchor=\"middle\">직선</text>\n",
       "    <circle cx=\"125\" cy=\"375\" r=\"1\" stroke=\"black\" stroke-width=\"2\" fill=\"black\"/>\n",
       "    <circle cx=\"375\" cy=\"375\" r=\"1\" stroke=\"black\" stroke-width=\"2\" fill=\"black\"/>\n",
       "    <line x1=\"0\" y1=\"375\" x2=\"500\" y2=\"375\" stroke=\"black\" stroke-width=\"2\"/>\n",
       "    </svg>"
      ],
      "text/plain": [
       "<IPython.core.display.SVG object>"
      ]
     },
     "metadata": {},
     "output_type": "display_data"
    },
    {
     "name": "stdout",
     "output_type": "stream",
     "text": [
      "====================================================================================================\n",
      "요청한 문장: 대표적인 굽은선을 그려줘\n",
      "추출된 개념: 곡선\n",
      "추출된 인자: {'type': '타원', 'description': '타원은 가장 대표적인 굽은선의 한 종류로, 두 초점 사이의 거리의 합이 일정한 점들의 집합으로 정의됩니다.'}\n",
      "\n",
      "생성된 코드:\n",
      " \n",
      "    <svg width=\"500\" height=\"500\" xmlns=\"http://www.w3.org/2000/svg\">\n",
      "    <text x=\"250\" y=\"50\" font-size=\"25\" text-anchor=\"middle\">굽은선</text>\n",
      "    <!-- 복잡한 S자 곡선 (두 개의 Cubic Bézier) -->\n",
      "    <path d=\"M 100,400\n",
      "    C 100,100 400,100 400,250\n",
      "    C 400,400 100,400 100,100\"\n",
      "    stroke=\"black\" fill=\"none\" stroke-width=\"2\"/>\n",
      "    </svg>\n",
      "    \n",
      "\n",
      "생성된 설명:\n",
      " ### 곡선에 대한 설명\n",
      "\n",
      "**정의:**\n",
      "곡선은 직선이 아닌, 연속적으로 이어지는 점들의 모임으로 이루어진 도형입니다. 쉽게 말해, 직선처럼 일정한 방향으로만 움직이는 것이 아니라, 부드럽게 휘어지거나 굽어지는 형태를 가진 선을 말합니다.\n",
      "\n",
      "**기본 성질:**\n",
      "1. **연속성:** 곡선 위의 모든 점들은 부드럽게 이어져 있어, 어떤 작은 구간에서도 끊어지지 않고 이어집니다.\n",
      "2. **길이:** 곡선의 길이는 그 곡선을 따라 측정한 총 거리입니다. 이 길이는 곡선의 모양에 따라 달라집니다. 예를 들어, 원의 둘레는 반지름에 따라 결정되며, 이는 곡선의 길이를 정확히 계산하는 방법 중 하나입니다.\n",
      "3. **곡률:** 곡선이 얼마나 빠르게 방향을 바꾸는지를 나타내는 값입니다. 곡률이 크면 곡선이 더 급하게 굽어지고, 작으면 더 부드럽게 굽어집니다. 예를 들어, 원의 경우 모든 점에서 곡률이 일정합니다.\n",
      "4. **접선:** 곡선 위의 어떤 점에서 그 점을 지나는 가장 가까운 직선을 접선이라고 합니다. 이 접선은 그 점에서 곡선의 방향을 가장 잘 나타냅니다.\n",
      "\n",
      "이러한 성질들 덕분에 곡선은 자연 현상이나 공학적 설계 등 다양한 분야에서 중요한 역할을 합니다.\n"
     ]
    },
    {
     "data": {
      "image/svg+xml": [
       "<svg xmlns=\"http://www.w3.org/2000/svg\" width=\"500\" height=\"500\">\n",
       "    <text x=\"250\" y=\"50\" font-size=\"25\" text-anchor=\"middle\">굽은선</text>\n",
       "    <!-- 복잡한 S자 곡선 (두 개의 Cubic Bézier) -->\n",
       "    <path d=\"M 100,400     C 100,100 400,100 400,250     C 400,400 100,400 100,100\" stroke=\"black\" fill=\"none\" stroke-width=\"2\"/>\n",
       "    </svg>"
      ],
      "text/plain": [
       "<IPython.core.display.SVG object>"
      ]
     },
     "metadata": {},
     "output_type": "display_data"
    },
    {
     "name": "stdout",
     "output_type": "stream",
     "text": [
      "====================================================================================================\n",
      "요청한 문장: 중심이 (0,0)이고 반지름이 2인 원을 그려주세요.\n",
      "추출된 개념: Circle\n",
      "추출된 인자: {'radius': 2}\n",
      "\n",
      "생성된 코드:\n",
      " <svg width=\"500\" height=\"500\" xmlns=\"http://www.w3.org/2000/svg\">\n",
      "    <text x=\"250\" y=\"50\" font-size=\"25\" text-anchor=\"middle\">원</text>\n",
      "    <circle cx=\"250\" cy=\"250\" r=\"100\" stroke=\"black\" stroke-width=\"2\" fill=\"none\" />\n",
      "    <circle cx=\"250\" cy=\"250\" r=\"1\" stroke=\"black\" stroke-width=\"2\" fill=\"black\" />\n",
      "    <line x1=\"250\" y1=\"250\" x2=\"350\" y2=\"250\" stroke=\"black\" stroke-width=\"2\" />\n",
      "    </svg>\n",
      "    \n",
      "\n",
      "생성된 설명:\n",
      " ### Circle (원)\n",
      "\n",
      "#### 정의:\n",
      "원은 평면 위에서 한 점(중심)으로부터 일정한 거리(반지름)에 있는 모든 점들의 집합을 말합니다. 이 중심점을 기준으로 원 위의 모든 점들은 동일한 거리에 위치해 있습니다.\n",
      "\n",
      "#### 기본 성질:\n",
      "1. **둘레와 지름**: 원의 둘레는 지름에 π(약 3.14)를 곱한 값입니다. 즉, 둘레 = 지름 × π 입니다. 반대로 지름은 둘레를 π로 나누면 구할 수 있습니다.\n",
      "   \n",
      "2. **면적**: 원의 면적은 반지름의 제곱에 π를 곱한 값입니다. 공식으로 표현하면 면적 = π × 반지름2 입니다.\n",
      "\n",
      "3. **대칭성**: 원은 중심을 기준으로 완벽하게 대칭입니다. 즉, 중심을 지나는 어떤 직선을 기준으로 원을 접어도 양쪽이 완전히 일치합니다.\n",
      "\n",
      "4. **원주각과 호의 관계**: 원 위의 두 점을 잇는 호의 중앙각은 그 호에 대응하는 원주각의 두 배입니다. 예를 들어, 호의 중앙각이 θ라면 원주각은 θ/2가 됩니다.\n",
      "\n",
      "이러한 성질들로 인해 원은 기하학에서 매우 중요한 역할을 합니다. 다양한 도형과 문제 해결에 활용되며, 일상생활에서도 자주 접하게 되는 개념입니다.\n",
      "\n",
      "생성된 공식 raw:\n",
      " {'perimeter': '2 \\\\times 3.14 \\\\times 반지름', 'area': '3.14 \\\\times 반지름 \\\\times 반지름'}\n"
     ]
    },
    {
     "data": {
      "text/latex": [
       "$\\displaystyle 2 \\times 3.14 \\times 반지름$"
      ],
      "text/plain": [
       "<IPython.core.display.Math object>"
      ]
     },
     "metadata": {},
     "output_type": "display_data"
    },
    {
     "data": {
      "text/latex": [
       "$\\displaystyle 3.14 \\times 반지름 \\times 반지름$"
      ],
      "text/plain": [
       "<IPython.core.display.Math object>"
      ]
     },
     "metadata": {},
     "output_type": "display_data"
    },
    {
     "data": {
      "image/svg+xml": [
       "<svg xmlns=\"http://www.w3.org/2000/svg\" width=\"500\" height=\"500\">\n",
       "    <text x=\"250\" y=\"50\" font-size=\"25\" text-anchor=\"middle\">원</text>\n",
       "    <circle cx=\"250\" cy=\"250\" r=\"100\" stroke=\"black\" stroke-width=\"2\" fill=\"none\"/>\n",
       "    <circle cx=\"250\" cy=\"250\" r=\"1\" stroke=\"black\" stroke-width=\"2\" fill=\"black\"/>\n",
       "    <line x1=\"250\" y1=\"250\" x2=\"350\" y2=\"250\" stroke=\"black\" stroke-width=\"2\"/>\n",
       "    </svg>"
      ],
      "text/plain": [
       "<IPython.core.display.SVG object>"
      ]
     },
     "metadata": {},
     "output_type": "display_data"
    },
    {
     "name": "stdout",
     "output_type": "stream",
     "text": [
      "====================================================================================================\n",
      "요청한 문장: 37° 각도를 그려줘\n",
      "추출된 개념: 각도\n",
      "추출된 인자: {'size': 37}\n",
      "\n",
      "생성된 코드:\n",
      " <svg width=\"500\" height=\"375\" xmlns=\"http://www.w3.org/2000/svg\">\n",
      "    <text x=\"250\" y=\"50\" font-size=\"25\" text-anchor=\"middle\">각</text>\n",
      "    <!-- 기준선 -->\n",
      "    <line x1=\"125\" y1=\"333\" x2=\"375\" y2=\"333\" stroke=\"black\" stroke-width=\"2\" />\n",
      "    <!-- 기울어진 선 -->\n",
      "    <line x1=\"125\" y1=\"333\" x2=\"324.6588775118232\" y2=\"182.54624421198793\" stroke=\"black\" stroke-width=\"2\" />\n",
      "    <!-- 각도 호 -->\n",
      "    <path d=\"M 164.93177550236464,302.9092488423976 A 50,50 0 0,1 175,333\" stroke=\"black\" stroke-width=\"2\" fill=\"none\"/>\n",
      "    </svg>\n",
      "    \n",
      "\n",
      "생성된 설명:\n",
      " ### 각도에 대한 설명\n",
      "\n",
      "**정의:**\n",
      "각도는 두 직선이나 선분이 만나서 생기는 공간의 크기를 측정하는 방법입니다. 우리가 일상에서 자주 접하는 각도는 주로 도로 표지판에서 볼 수 있는 방향 지시나, 그림에서 선들이 만나는 부분을 표현할 때 사용됩니다.\n",
      "\n",
      "**기본 성질:**\n",
      "1. **직선의 각도:** 직선은 정확히 180도의 각도를 가집니다. 직선은 두 방향으로 무한히 이어지는 것처럼 보이지만, 실제로는 시작점과 끝점이 있습니다.\n",
      "   \n",
      "2. **직각 각도:** 직각은 90도를 의미합니다. 이는 우리가 흔히 사용하는 'L'자 모양의 모서리나 사각형의 모서리에서 볼 수 있습니다. 직각은 두 직선이 서로 수직으로 만나는 경우에 생깁니다.\n",
      "\n",
      "3. **평행선과 각도:** 평행한 두 직선은 만나지 않기 때문에, 그들 사이의 각도는 항상 같습니다. 예를 들어, 두 평행선 위에 그려진 삼각형의 한 각은 다른 각과 크기가 동일합니다.\n",
      "\n",
      "4. **복합 각도:** 여러 각도를 합쳐서 더 큰 각도를 만들 수 있습니다. 예를 들어, 두 개의 직각 각도를 합치면 180도가 됩니다.\n",
      "\n",
      "이러한 기본적인 개념들을 이해하면 각도에 대한 다양한 문제를 풀 때 도움이 될 것입니다!\n"
     ]
    },
    {
     "data": {
      "image/svg+xml": [
       "<svg xmlns=\"http://www.w3.org/2000/svg\" width=\"500\" height=\"375\">\n",
       "    <text x=\"250\" y=\"50\" font-size=\"25\" text-anchor=\"middle\">각</text>\n",
       "    <!-- 기준선 -->\n",
       "    <line x1=\"125\" y1=\"333\" x2=\"375\" y2=\"333\" stroke=\"black\" stroke-width=\"2\"/>\n",
       "    <!-- 기울어진 선 -->\n",
       "    <line x1=\"125\" y1=\"333\" x2=\"324.6588775118232\" y2=\"182.54624421198793\" stroke=\"black\" stroke-width=\"2\"/>\n",
       "    <!-- 각도 호 -->\n",
       "    <path d=\"M 164.93177550236464,302.9092488423976 A 50,50 0 0,1 175,333\" stroke=\"black\" stroke-width=\"2\" fill=\"none\"/>\n",
       "    </svg>"
      ],
      "text/plain": [
       "<IPython.core.display.SVG object>"
      ]
     },
     "metadata": {},
     "output_type": "display_data"
    },
    {
     "name": "stdout",
     "output_type": "stream",
     "text": [
      "====================================================================================================\n",
      "요청한 문장: 직각을 표현해줘\n",
      "추출된 개념: Right Angle\n",
      "추출된 인자: {}\n",
      "\n",
      "생성된 코드:\n",
      " <svg width=\"500\" height=\"500\" xmlns=\"http://www.w3.org/2000/svg\">\n",
      "    <text x=\"250\" y=\"50\" font-size=\"25\" text-anchor=\"middle\">직각</text>\n",
      "    <!-- 기준선 -->\n",
      "    <line x1=\"125\" y1=\"400\" x2=\"458\" y2=\"400\" stroke=\"black\" stroke-width=\"2\" />\n",
      "    <!-- 기울어진 선 -->\n",
      "    <line x1=\"125\" y1=\"400\" x2=\"125\" y2=\"67\" stroke=\"black\" stroke-width=\"2\" />\n",
      "    <!-- 직각 보조선 -->\n",
      "    <line x1=\"175\" y1=\"400\" x2=\"175\" y2=\"350\" stroke=\"black\" stroke-width=\"2\" />\n",
      "    <line x1=\"125\" y1=\"350\" x2=\"175\" y2=\"350\" stroke=\"black\" stroke-width=\"2\" />\n",
      "    </svg>\n",
      "    \n",
      "\n",
      "생성된 설명:\n",
      " ### Right Angle\n",
      "\n",
      "**정의:**\n",
      "Right Angle은 기하학에서 가장 기본적인 각도 중 하나로, 정확히 90도를 이루는 각도를 말합니다. 이 각도는 직각이라고도 불리며, 직선이나 특정 도형의 모서리에서 만나는 두 변이 서로 수직으로 만나는 경우에 나타납니다.\n",
      "\n",
      "**기본 성질:**\n",
      "1. **크기:** Right Angle은 항상 정확히 90도입니다. 이는 모든 Right Angle이 동일한 크기를 가짐을 의미합니다.\n",
      "2. **모양:** Right Angle은 보통 'L' 모양으로 쉽게 인식할 수 있습니다. 이 모양은 직각을 나타내는 데 자주 사용됩니다.\n",
      "3. **도형과의 관계:** 직각은 사각형, 직사각형, 정사각형 등 다양한 도형의 모서리에서 발견됩니다. 특히, 직사각형이나 정사각형은 네 개의 Right Angle을 가지고 있습니다.\n",
      "4. **삼각형과의 연관성:** 직각삼각형은 한 내각이 정확히 Right Angle인 삼각형을 의미합니다. 이 삼각형은 세 변의 길이 관계를 통해 피타고라스 정리를 적용할 수 있습니다.\n",
      "\n",
      "이러한 성질들로 인해 Right Angle은 수학에서 매우 중요한 개념으로 자리잡고 있습니다!\n"
     ]
    },
    {
     "data": {
      "image/svg+xml": [
       "<svg xmlns=\"http://www.w3.org/2000/svg\" width=\"500\" height=\"500\">\n",
       "    <text x=\"250\" y=\"50\" font-size=\"25\" text-anchor=\"middle\">직각</text>\n",
       "    <!-- 기준선 -->\n",
       "    <line x1=\"125\" y1=\"400\" x2=\"458\" y2=\"400\" stroke=\"black\" stroke-width=\"2\"/>\n",
       "    <!-- 기울어진 선 -->\n",
       "    <line x1=\"125\" y1=\"400\" x2=\"125\" y2=\"67\" stroke=\"black\" stroke-width=\"2\"/>\n",
       "    <!-- 직각 보조선 -->\n",
       "    <line x1=\"175\" y1=\"400\" x2=\"175\" y2=\"350\" stroke=\"black\" stroke-width=\"2\"/>\n",
       "    <line x1=\"125\" y1=\"350\" x2=\"175\" y2=\"350\" stroke=\"black\" stroke-width=\"2\"/>\n",
       "    </svg>"
      ],
      "text/plain": [
       "<IPython.core.display.SVG object>"
      ]
     },
     "metadata": {},
     "output_type": "display_data"
    },
    {
     "name": "stdout",
     "output_type": "stream",
     "text": [
      "====================================================================================================\n",
      "요청한 문장: 밑변이 3이고, 높이가 4인 직각삼각형 하나를 그려줘\n",
      "추출된 개념: Right Triangle\n",
      "추출된 인자: {'base': 3, 'height': 4}\n",
      "\n",
      "생성된 코드:\n",
      " <svg width=\"500\" height=\"500\" xmlns=\"http://www.w3.org/2000/svg\">\n",
      "    <text x=\"250\" y=\"50\" font-size=\"25\" text-anchor=\"middle\">직각삼각형</text>\n",
      "    <!-- 직각삼각형 -->\n",
      "    <line x1=\"83\" y1=\"416\" x2=\"308\" y2=\"416\" stroke=\"black\" stroke-width=\"2\" />\n",
      "    <line x1=\"308\" y1=\"416\" x2=\"308\" y2=\"166\" stroke=\"black\" stroke-width=\"2\" />\n",
      "    <line x1=\"83\" y1=\"416\" x2=\"308\" y2=\"166\" stroke=\"black\" stroke-width=\"2\" />\n",
      "    <!-- 직각 보조선 -->\n",
      "    <line x1=\"286\" y1=\"416\" x2=\"286\" y2=\"394\" stroke=\"black\" stroke-width=\"2\" />\n",
      "    <line x1=\"286\" y1=\"394\" x2=\"308\" y2=\"394\" stroke=\"black\" stroke-width=\"2\" />\n",
      "    </svg>\n",
      "    \n",
      "\n",
      "생성된 설명:\n",
      " ### Right Triangle\n",
      "\n",
      "**정의:**\n",
      "A right triangle is a special type of triangle that has one angle which measures exactly 90 degrees (a right angle). This unique angle distinguishes it from other triangles where all angles are less than 90 degrees.\n",
      "\n",
      "**기본 성질:**\n",
      "1. **한 각이 직각:** 가장 중요한 특징은 한 꼭짓점에서 직각(90°)을 이루는 것입니다.\n",
      "2. **직각을 중심으로 두 개의 다른 각:** 나머지 두 각은 합쳐 90도가 됩니다. 따라서 이 두 각은 서로 보완각(complementary angles)입니다.\n",
      "3. **피타고라스 정리 적용 가능:** 직각 삼각형에서는 가장 긴 변을 빗변(hypotenuse)이라고 부르며, 이 빗변의 길이는 다른 두 변(직각을 이루는 두 변을 밑변과 높이라고도 부릅니다)의 길이와 특별한 관계를 가집니다. 이 관계는 피타고라스 정리로 표현되는데, 수학적으로는 \\(a^2 + b^2 = c^2\\) 입니다 (여기서 \\(c\\)는 빗변의 길이이고, \\(a\\)와 \\(b\\)는 다른 두 변의 길이입니다). 하지만 문제 해결을 위해 직접적인 공식보다는 이 관계를 이해하는 것이 중요합니다.\n",
      "4. **삼각형의 종류:** 직각 삼각형은 그 각도에 따라 다양한 종류로 나눌 수 있습니다. 예를 들어, 모든 변의 길이가 정수인 직각 삼각형을 피타고라스 삼각형이라고 부르기도 합니다.\n",
      "\n",
      "이런 특징들로 인해 직각 삼각형은 건축, 공학, 그리고 다양한 실생활 문제 해결에서 매우 중요한 역할을 합니다!\n",
      "\n",
      "생성된 공식 raw:\n",
      " {'perimeter': '밑변 + 높이 + 빗변', 'area': '밑변 × 높이 ÷ 2'}\n"
     ]
    },
    {
     "data": {
      "text/latex": [
       "$\\displaystyle 밑변 + 높이 + 빗변$"
      ],
      "text/plain": [
       "<IPython.core.display.Math object>"
      ]
     },
     "metadata": {},
     "output_type": "display_data"
    },
    {
     "data": {
      "text/latex": [
       "$\\displaystyle 밑변 × 높이 ÷ 2$"
      ],
      "text/plain": [
       "<IPython.core.display.Math object>"
      ]
     },
     "metadata": {},
     "output_type": "display_data"
    },
    {
     "data": {
      "image/svg+xml": [
       "<svg xmlns=\"http://www.w3.org/2000/svg\" width=\"500\" height=\"500\">\n",
       "    <text x=\"250\" y=\"50\" font-size=\"25\" text-anchor=\"middle\">직각삼각형</text>\n",
       "    <!-- 직각삼각형 -->\n",
       "    <line x1=\"83\" y1=\"416\" x2=\"308\" y2=\"416\" stroke=\"black\" stroke-width=\"2\"/>\n",
       "    <line x1=\"308\" y1=\"416\" x2=\"308\" y2=\"166\" stroke=\"black\" stroke-width=\"2\"/>\n",
       "    <line x1=\"83\" y1=\"416\" x2=\"308\" y2=\"166\" stroke=\"black\" stroke-width=\"2\"/>\n",
       "    <!-- 직각 보조선 -->\n",
       "    <line x1=\"286\" y1=\"416\" x2=\"286\" y2=\"394\" stroke=\"black\" stroke-width=\"2\"/>\n",
       "    <line x1=\"286\" y1=\"394\" x2=\"308\" y2=\"394\" stroke=\"black\" stroke-width=\"2\"/>\n",
       "    </svg>"
      ],
      "text/plain": [
       "<IPython.core.display.SVG object>"
      ]
     },
     "metadata": {},
     "output_type": "display_data"
    },
    {
     "name": "stdout",
     "output_type": "stream",
     "text": [
      "====================================================================================================\n",
      "요청한 문장: 가로가 5, 세로가 3인 직사각형의 넓이\n",
      "추출된 개념: Rectangle\n",
      "추출된 인자: {'width': 5, 'height': 3}\n",
      "\n",
      "생성된 코드:\n",
      " <svg width=\"500\" height=\"312\" xmlns=\"http://www.w3.org/2000/svg\">\n",
      "    <text x=\"250\" y=\"50\" font-size=\"25\" text-anchor=\"middle\">직사각형</text>\n",
      "    <rect x=\"100\" y=\"100\" width=\"250\" height=\"150\" stroke=\"black\" stroke-width=\"2\" fill=\"none\" />\n",
      "    </svg>\n",
      "\n",
      "생성된 설명:\n",
      " ### Rectangle 설명\n",
      "\n",
      "**정의:**\n",
      "사각형은 네 개의 직선으로 둘러싸인 평면 도형으로, 각 내각이 직각(90도)인 특징을 가지고 있습니다. 즉, 사각형의 네 모서리는 모두 직각을 이루며, 대변이 평행하고 길이가 같은 특성을 갖습니다.\n",
      "\n",
      "**기본 성질:**\n",
      "1. **대변의 길이가 같음:** 사각형의 두 쌍의 대변은 길이가 동일합니다. 예를 들어, 가로와 세로가 같은 길이를 가집니다.\n",
      "2. **대각선이 서로 같음:** 사각형의 두 대각선은 길이가 같습니다. 즉, 사각형을 두 개의 동일한 삼각형으로 나눌 수 있습니다.\n",
      "3. **내각의 합:** 사각형의 네 내각의 합은 항상 360도입니다.\n",
      "4. **변의 배열:** 사각형은 여러 가지 형태로 배열될 수 있습니다. 예를 들어, 직사각형은 가로와 세로가 각각 다른 길이를 가질 수 있으며, 정사각형은 모든 변의 길이가 같고 모든 내각이 직각인 특별한 형태의 사각형입니다.\n",
      "\n",
      "이러한 성질들로 인해 사각형은 우리 일상생활에서 매우 흔하게 볼 수 있는 도형입니다!\n",
      "\n",
      "생성된 공식 raw:\n",
      " {'perimeter': '2 × (밑변 + 높이)', 'area': '밑변 × 높이'}\n"
     ]
    },
    {
     "data": {
      "text/latex": [
       "$\\displaystyle 2 × (밑변 + 높이)$"
      ],
      "text/plain": [
       "<IPython.core.display.Math object>"
      ]
     },
     "metadata": {},
     "output_type": "display_data"
    },
    {
     "data": {
      "text/latex": [
       "$\\displaystyle 밑변 × 높이$"
      ],
      "text/plain": [
       "<IPython.core.display.Math object>"
      ]
     },
     "metadata": {},
     "output_type": "display_data"
    },
    {
     "data": {
      "image/svg+xml": [
       "<svg xmlns=\"http://www.w3.org/2000/svg\" width=\"500\" height=\"312\">\n",
       "    <text x=\"250\" y=\"50\" font-size=\"25\" text-anchor=\"middle\">직사각형</text>\n",
       "    <rect x=\"100\" y=\"100\" width=\"250\" height=\"150\" stroke=\"black\" stroke-width=\"2\" fill=\"none\"/>\n",
       "    </svg>"
      ],
      "text/plain": [
       "<IPython.core.display.SVG object>"
      ]
     },
     "metadata": {},
     "output_type": "display_data"
    },
    {
     "name": "stdout",
     "output_type": "stream",
     "text": [
      "====================================================================================================\n",
      "요청한 문장: 한 변의 길이가 2인 정사각형 하나를 그려줘\n",
      "추출된 개념: Square\n",
      "추출된 인자: {'length': 2}\n",
      "\n",
      "생성된 코드:\n",
      " <svg width=\"500\" height=\"500\" xmlns=\"http://www.w3.org/2000/svg\">\n",
      "    <text x=\"250\" y=\"50\" font-size=\"25\" text-anchor=\"middle\">정사각형</text>\n",
      "    <rect x=\"100\" y=\"100\" width=\"200\" height=\"200\" stroke=\"black\" stroke-width=\"2\" fill=\"none\" />\n",
      "    </svg>\n",
      "\n",
      "생성된 설명:\n",
      " ### Square\n",
      "\n",
      "**정의:**\n",
      "사각형은 네 개의 변으로 이루어진 평면 도형입니다. 모든 내각이 직각(90도)이며, 반대편의 변들이 길이가 같아서 마주보는 두 변은 평행하고 길이가 동일합니다.\n",
      "\n",
      "**기본 성질:**\n",
      "1. **대변의 길이 동일:** 사각형의 마주보는 두 변은 길이가 같습니다. 예를 들어, 정사각형이나 직사각형에서는 모든 대변이 같은 길이를 가집니다.\n",
      "2. **대각선의 성질:** 사각형의 대각선은 서로를 반으로 나눕니다. 즉, 대각선이 만나는 점에서 대각선을 잇는 선분들은 서로를 절반으로 나눕니다.\n",
      "3. **변의 합:** 사각형의 네 변의 길이를 모두 더하면, 그 합은 사각형의 둘레를 나타냅니다. 예를 들어, 한 변의 길이가 \\(a\\)이고 다른 변의 길이가 \\(b\\)라면, 둘레는 \\(a + b + a + b = 2(a + b)\\)가 됩니다.\n",
      "4. **정사각형의 특징:** 정사각형은 모든 변의 길이가 같고 모든 내각이 직각인 특별한 사각형입니다. 모든 대각선도 길이가 같고 서로를 직각으로 이룹니다.\n",
      "\n",
      "이러한 성질들로 인해 사각형은 다양한 형태와 크기로 존재하며, 건축, 디자인, 그리고 일상생활에서 자주 볼 수 있는 도형입니다!\n",
      "\n",
      "생성된 공식 raw:\n",
      " {'perimeter': '4 \\\\times \\\\mathrm{한 변의 길이}', 'area': '\\\\mathrm{한 변의 길이} \\\\times \\\\mathrm{한 변의 길이}'}\n"
     ]
    },
    {
     "data": {
      "text/latex": [
       "$\\displaystyle 4 \\times \\mathrm{한 변의 길이}$"
      ],
      "text/plain": [
       "<IPython.core.display.Math object>"
      ]
     },
     "metadata": {},
     "output_type": "display_data"
    },
    {
     "data": {
      "text/latex": [
       "$\\displaystyle \\mathrm{한 변의 길이} \\times \\mathrm{한 변의 길이}$"
      ],
      "text/plain": [
       "<IPython.core.display.Math object>"
      ]
     },
     "metadata": {},
     "output_type": "display_data"
    },
    {
     "data": {
      "image/svg+xml": [
       "<svg xmlns=\"http://www.w3.org/2000/svg\" width=\"500\" height=\"500\">\n",
       "    <text x=\"250\" y=\"50\" font-size=\"25\" text-anchor=\"middle\">정사각형</text>\n",
       "    <rect x=\"100\" y=\"100\" width=\"200\" height=\"200\" stroke=\"black\" stroke-width=\"2\" fill=\"none\"/>\n",
       "    </svg>"
      ],
      "text/plain": [
       "<IPython.core.display.SVG object>"
      ]
     },
     "metadata": {},
     "output_type": "display_data"
    },
    {
     "name": "stdout",
     "output_type": "stream",
     "text": [
      "====================================================================================================\n",
      "요청한 문장: 곧은선이 뭐야?\n",
      "추출된 개념: 직선\n",
      "추출된 인자: {}\n",
      "\n",
      "생성된 코드:\n",
      " <svg width=\"500\" height=\"500\" xmlns=\"http://www.w3.org/2000/svg\">\n",
      "    <text x=\"250\" y=\"25\" font-size=\"25\" text-anchor=\"middle\">곧은선</text>\n",
      "    <text x=\"250\" y=\"75\" font-size=\"25\" text-anchor=\"middle\">선분</text>\n",
      "    <!-- 선분 -->\n",
      "    <circle cx=\"125\" cy=\"125\" r=\"1\" stroke=\"black\" stroke-width=\"2\" fill=\"black\" />\n",
      "    <circle cx=\"375\" cy=\"125\" r=\"1\" stroke=\"black\" stroke-width=\"2\" fill=\"black\" />\n",
      "    <line x1=\"125\" y1=\"125\" x2=\"375\" y2=\"125\" stroke=\"black\" stroke-width=\"2\" />\n",
      "    <!-- 반직선 -->\n",
      "    <text x=\"250\" y=\"175\" font-size=\"25\" text-anchor=\"middle\">반직선</text>\n",
      "    <circle cx=\"125\" cy=\"250\" r=\"1\" stroke=\"black\" stroke-width=\"2\" fill=\"black\" />\n",
      "    <circle cx=\"375\" cy=\"250\" r=\"1\" stroke=\"black\" stroke-width=\"2\" fill=\"black\" />\n",
      "    <line x1=\"125\" y1=\"250\" x2=\"500\" y2=\"250\" stroke=\"black\" stroke-width=\"2\" />\n",
      "    <!-- 직선 -->\n",
      "    <text x=\"250\" y=\"300\" font-size=\"25\" text-anchor=\"middle\">직선</text>\n",
      "    <circle cx=\"125\" cy=\"375\" r=\"1\" stroke=\"black\" stroke-width=\"2\" fill=\"black\" />\n",
      "    <circle cx=\"375\" cy=\"375\" r=\"1\" stroke=\"black\" stroke-width=\"2\" fill=\"black\" />\n",
      "    <line x1=\"0\" y1=\"375\" x2=\"500\" y2=\"375\" stroke=\"black\" stroke-width=\"2\" />\n",
      "    </svg>\n",
      "    \n",
      "\n",
      "생성된 설명:\n",
      " ### 직선에 대한 설명\n",
      "\n",
      "#### 정의\n",
      "직선은 평면 위에서 가장 짧은 거리로 두 점을 연결하는 선을 말합니다. 이 선은 양쪽으로 무한히 계속되며, 방향이 항상 일정합니다. 직선 위의 모든 점들은 서로 평행하게 연결되어 있어, 어떤 방향으로든 뻗어나갈 수 있습니다.\n",
      "\n",
      "#### 기본 성질\n",
      "1. **무한한 길이**: 직선은 양쪽으로 무한히 이어집니다. 즉, 시작점에서 끝점까지의 거리가 아무리 길어도 계속해서 뻗어나갈 수 있습니다.\n",
      "2. **평행한 선들**: 같은 방향으로 무한히 뻗어나가는 두 직선은 서로 평행합니다. 반대로, 서로 다른 방향으로 무한히 뻗어나가는 두 직선은 교차하지 않습니다.\n",
      "3. **직선 위의 점들**: 직선 위의 모든 점들은 서로 연결되어 있어, 어떤 두 점을 잇는 선분은 항상 직선의 일부분입니다.\n",
      "4. **직선의 대칭성**: 직선을 기준으로 대칭인 두 부분은 서로 완전히 일치합니다. 예를 들어, 한 점을 기준으로 대칭인 두 점은 직선 양쪽에 동일한 거리에 위치합니다.\n",
      "\n",
      "이러한 성질들로 인해 직선은 기하학에서 매우 중요한 개념으로 사용됩니다!\n"
     ]
    },
    {
     "data": {
      "image/svg+xml": [
       "<svg xmlns=\"http://www.w3.org/2000/svg\" width=\"500\" height=\"500\">\n",
       "    <text x=\"250\" y=\"25\" font-size=\"25\" text-anchor=\"middle\">곧은선</text>\n",
       "    <text x=\"250\" y=\"75\" font-size=\"25\" text-anchor=\"middle\">선분</text>\n",
       "    <!-- 선분 -->\n",
       "    <circle cx=\"125\" cy=\"125\" r=\"1\" stroke=\"black\" stroke-width=\"2\" fill=\"black\"/>\n",
       "    <circle cx=\"375\" cy=\"125\" r=\"1\" stroke=\"black\" stroke-width=\"2\" fill=\"black\"/>\n",
       "    <line x1=\"125\" y1=\"125\" x2=\"375\" y2=\"125\" stroke=\"black\" stroke-width=\"2\"/>\n",
       "    <!-- 반직선 -->\n",
       "    <text x=\"250\" y=\"175\" font-size=\"25\" text-anchor=\"middle\">반직선</text>\n",
       "    <circle cx=\"125\" cy=\"250\" r=\"1\" stroke=\"black\" stroke-width=\"2\" fill=\"black\"/>\n",
       "    <circle cx=\"375\" cy=\"250\" r=\"1\" stroke=\"black\" stroke-width=\"2\" fill=\"black\"/>\n",
       "    <line x1=\"125\" y1=\"250\" x2=\"500\" y2=\"250\" stroke=\"black\" stroke-width=\"2\"/>\n",
       "    <!-- 직선 -->\n",
       "    <text x=\"250\" y=\"300\" font-size=\"25\" text-anchor=\"middle\">직선</text>\n",
       "    <circle cx=\"125\" cy=\"375\" r=\"1\" stroke=\"black\" stroke-width=\"2\" fill=\"black\"/>\n",
       "    <circle cx=\"375\" cy=\"375\" r=\"1\" stroke=\"black\" stroke-width=\"2\" fill=\"black\"/>\n",
       "    <line x1=\"0\" y1=\"375\" x2=\"500\" y2=\"375\" stroke=\"black\" stroke-width=\"2\"/>\n",
       "    </svg>"
      ],
      "text/plain": [
       "<IPython.core.display.SVG object>"
      ]
     },
     "metadata": {},
     "output_type": "display_data"
    },
    {
     "name": "stdout",
     "output_type": "stream",
     "text": [
      "====================================================================================================\n",
      "요청한 문장: 대표적인 굽은선을 그려줘\n",
      "추출된 개념: 곡선\n",
      "추출된 인자: {'type': '타원', 'description': '타원은 가장 대표적인 굽은선의 한 종류로, 두 초점 사이의 거리의 합이 일정한 점들의 집합으로 정의됩니다.'}\n",
      "\n",
      "생성된 코드:\n",
      " \n",
      "    <svg width=\"500\" height=\"500\" xmlns=\"http://www.w3.org/2000/svg\">\n",
      "    <text x=\"250\" y=\"50\" font-size=\"25\" text-anchor=\"middle\">굽은선</text>\n",
      "    <!-- 복잡한 S자 곡선 (두 개의 Cubic Bézier) -->\n",
      "    <path d=\"M 100,400\n",
      "    C 100,100 400,100 400,250\n",
      "    C 400,400 100,400 100,100\"\n",
      "    stroke=\"black\" fill=\"none\" stroke-width=\"2\"/>\n",
      "    </svg>\n",
      "    \n",
      "\n",
      "생성된 설명:\n",
      " ### 곡선에 대한 설명\n",
      "\n",
      "**정의:**\n",
      "곡선은 직선이 아닌, 연속적으로 이어지는 점들의 모임으로 이루어진 도형입니다. 쉽게 말해, 직선처럼 일정한 방향으로만 움직이는 것이 아니라, 부드럽게 휘어지거나 굽어지는 형태를 가진 선을 말합니다.\n",
      "\n",
      "**기본 성질:**\n",
      "1. **연속성:** 곡선 위의 모든 점들은 부드럽게 이어져 있어, 어떤 작은 구간에서도 끊어지지 않고 이어집니다.\n",
      "2. **길이:** 곡선의 길이는 그 곡선을 따라 측정한 총 거리입니다. 이 길이는 곡선의 모양에 따라 달라집니다. 예를 들어, 원의 둘레는 반지름에 따라 결정되며, 이는 곡선의 길이를 정확히 계산하는 방법 중 하나입니다.\n",
      "3. **곡률:** 곡선이 얼마나 빠르게 방향을 바꾸는지를 나타내는 값입니다. 곡률이 크면 곡선이 더 급하게 굽어지고, 작으면 더 부드럽게 굽어집니다. 예를 들어, 원의 경우 모든 점에서 곡률이 일정합니다.\n",
      "4. **접선:** 곡선 위의 어떤 점에서 그 점을 지나는 가장 가까운 직선을 접선이라고 합니다. 이 접선은 그 점에서 곡선의 방향을 가장 잘 나타냅니다.\n",
      "\n",
      "이러한 성질들 덕분에 곡선은 자연 현상이나 공학적 설계 등 다양한 분야에서 중요한 역할을 합니다.\n"
     ]
    },
    {
     "data": {
      "image/svg+xml": [
       "<svg xmlns=\"http://www.w3.org/2000/svg\" width=\"500\" height=\"500\">\n",
       "    <text x=\"250\" y=\"50\" font-size=\"25\" text-anchor=\"middle\">굽은선</text>\n",
       "    <!-- 복잡한 S자 곡선 (두 개의 Cubic Bézier) -->\n",
       "    <path d=\"M 100,400     C 100,100 400,100 400,250     C 400,400 100,400 100,100\" stroke=\"black\" fill=\"none\" stroke-width=\"2\"/>\n",
       "    </svg>"
      ],
      "text/plain": [
       "<IPython.core.display.SVG object>"
      ]
     },
     "metadata": {},
     "output_type": "display_data"
    },
    {
     "name": "stdout",
     "output_type": "stream",
     "text": [
      "====================================================================================================\n",
      "요청한 문장: 중심이 (0,0)이고 반지름이 2인 원을 그려주세요.\n",
      "추출된 개념: Circle\n",
      "추출된 인자: {'radius': 2}\n",
      "\n",
      "생성된 코드:\n",
      " <svg width=\"500\" height=\"500\" xmlns=\"http://www.w3.org/2000/svg\">\n",
      "    <text x=\"250\" y=\"50\" font-size=\"25\" text-anchor=\"middle\">원</text>\n",
      "    <circle cx=\"250\" cy=\"250\" r=\"100\" stroke=\"black\" stroke-width=\"2\" fill=\"none\" />\n",
      "    <circle cx=\"250\" cy=\"250\" r=\"1\" stroke=\"black\" stroke-width=\"2\" fill=\"black\" />\n",
      "    <line x1=\"250\" y1=\"250\" x2=\"350\" y2=\"250\" stroke=\"black\" stroke-width=\"2\" />\n",
      "    </svg>\n",
      "    \n",
      "\n",
      "생성된 설명:\n",
      " ### Circle (원)\n",
      "\n",
      "#### 정의:\n",
      "원은 평면 위에서 한 점(중심)으로부터 일정한 거리(반지름)에 있는 모든 점들의 집합을 말합니다. 이 중심점을 기준으로 원 위의 모든 점들은 동일한 거리에 위치해 있습니다.\n",
      "\n",
      "#### 기본 성질:\n",
      "1. **둘레와 지름**: 원의 둘레는 지름에 π(약 3.14)를 곱한 값입니다. 즉, 둘레 = 지름 × π 입니다. 반대로 지름은 둘레를 π로 나누면 구할 수 있습니다.\n",
      "   \n",
      "2. **면적**: 원의 면적은 반지름의 제곱에 π를 곱한 값입니다. 공식으로 표현하면 면적 = π × 반지름2 입니다.\n",
      "\n",
      "3. **대칭성**: 원은 중심을 기준으로 완벽하게 대칭입니다. 즉, 중심을 지나는 어떤 직선을 기준으로 원을 접어도 양쪽이 완전히 일치합니다.\n",
      "\n",
      "4. **원주각과 호의 관계**: 원 위의 두 점을 잇는 호의 중앙각은 그 호에 대응하는 원주각의 두 배입니다. 예를 들어, 호의 중앙각이 θ라면 원주각은 θ/2가 됩니다.\n",
      "\n",
      "이러한 성질들로 인해 원은 기하학에서 매우 중요한 역할을 합니다. 다양한 도형과 문제 해결에 활용되며, 일상생활에서도 자주 접하게 되는 개념입니다.\n",
      "\n",
      "생성된 공식 raw:\n",
      " {'perimeter': '2 \\\\times 3.14 \\\\times 반지름', 'area': '3.14 \\\\times 반지름 \\\\times 반지름'}\n"
     ]
    },
    {
     "data": {
      "text/latex": [
       "$\\displaystyle 2 \\times 3.14 \\times 반지름$"
      ],
      "text/plain": [
       "<IPython.core.display.Math object>"
      ]
     },
     "metadata": {},
     "output_type": "display_data"
    },
    {
     "data": {
      "text/latex": [
       "$\\displaystyle 3.14 \\times 반지름 \\times 반지름$"
      ],
      "text/plain": [
       "<IPython.core.display.Math object>"
      ]
     },
     "metadata": {},
     "output_type": "display_data"
    },
    {
     "data": {
      "image/svg+xml": [
       "<svg xmlns=\"http://www.w3.org/2000/svg\" width=\"500\" height=\"500\">\n",
       "    <text x=\"250\" y=\"50\" font-size=\"25\" text-anchor=\"middle\">원</text>\n",
       "    <circle cx=\"250\" cy=\"250\" r=\"100\" stroke=\"black\" stroke-width=\"2\" fill=\"none\"/>\n",
       "    <circle cx=\"250\" cy=\"250\" r=\"1\" stroke=\"black\" stroke-width=\"2\" fill=\"black\"/>\n",
       "    <line x1=\"250\" y1=\"250\" x2=\"350\" y2=\"250\" stroke=\"black\" stroke-width=\"2\"/>\n",
       "    </svg>"
      ],
      "text/plain": [
       "<IPython.core.display.SVG object>"
      ]
     },
     "metadata": {},
     "output_type": "display_data"
    },
    {
     "name": "stdout",
     "output_type": "stream",
     "text": [
      "====================================================================================================\n",
      "요청한 문장: 37° 각도를 그려줘\n",
      "추출된 개념: 각도\n",
      "추출된 인자: {'size': 37}\n",
      "\n",
      "생성된 코드:\n",
      " <svg width=\"500\" height=\"375\" xmlns=\"http://www.w3.org/2000/svg\">\n",
      "    <text x=\"250\" y=\"50\" font-size=\"25\" text-anchor=\"middle\">각</text>\n",
      "    <!-- 기준선 -->\n",
      "    <line x1=\"125\" y1=\"333\" x2=\"375\" y2=\"333\" stroke=\"black\" stroke-width=\"2\" />\n",
      "    <!-- 기울어진 선 -->\n",
      "    <line x1=\"125\" y1=\"333\" x2=\"324.6588775118232\" y2=\"182.54624421198793\" stroke=\"black\" stroke-width=\"2\" />\n",
      "    <!-- 각도 호 -->\n",
      "    <path d=\"M 164.93177550236464,302.9092488423976 A 50,50 0 0,1 175,333\" stroke=\"black\" stroke-width=\"2\" fill=\"none\"/>\n",
      "    </svg>\n",
      "    \n",
      "\n",
      "생성된 설명:\n",
      " ### 각도에 대한 설명\n",
      "\n",
      "**정의:**\n",
      "각도는 두 직선이나 선분이 만나서 생기는 공간의 크기를 측정하는 방법입니다. 우리가 일상에서 자주 접하는 각도는 주로 도로 표지판에서 볼 수 있는 방향 지시나, 그림에서 선들이 만나는 부분을 표현할 때 사용됩니다.\n",
      "\n",
      "**기본 성질:**\n",
      "1. **직선의 각도:** 직선은 정확히 180도의 각도를 가집니다. 직선은 두 방향으로 무한히 이어지는 것처럼 보이지만, 실제로는 시작점과 끝점이 있습니다.\n",
      "   \n",
      "2. **직각 각도:** 직각은 90도를 의미합니다. 이는 우리가 흔히 사용하는 'L'자 모양의 모서리나 사각형의 모서리에서 볼 수 있습니다. 직각은 두 직선이 서로 수직으로 만나는 경우에 생깁니다.\n",
      "\n",
      "3. **평행선과 각도:** 평행한 두 직선은 만나지 않기 때문에, 그들 사이의 각도는 항상 같습니다. 예를 들어, 두 평행선 위에 그려진 삼각형의 한 각은 다른 각과 크기가 동일합니다.\n",
      "\n",
      "4. **복합 각도:** 여러 각도를 합쳐서 더 큰 각도를 만들 수 있습니다. 예를 들어, 두 개의 직각 각도를 합치면 180도가 됩니다.\n",
      "\n",
      "이러한 기본적인 개념들을 이해하면 각도에 대한 다양한 문제를 풀 때 도움이 될 것입니다!\n"
     ]
    },
    {
     "data": {
      "image/svg+xml": [
       "<svg xmlns=\"http://www.w3.org/2000/svg\" width=\"500\" height=\"375\">\n",
       "    <text x=\"250\" y=\"50\" font-size=\"25\" text-anchor=\"middle\">각</text>\n",
       "    <!-- 기준선 -->\n",
       "    <line x1=\"125\" y1=\"333\" x2=\"375\" y2=\"333\" stroke=\"black\" stroke-width=\"2\"/>\n",
       "    <!-- 기울어진 선 -->\n",
       "    <line x1=\"125\" y1=\"333\" x2=\"324.6588775118232\" y2=\"182.54624421198793\" stroke=\"black\" stroke-width=\"2\"/>\n",
       "    <!-- 각도 호 -->\n",
       "    <path d=\"M 164.93177550236464,302.9092488423976 A 50,50 0 0,1 175,333\" stroke=\"black\" stroke-width=\"2\" fill=\"none\"/>\n",
       "    </svg>"
      ],
      "text/plain": [
       "<IPython.core.display.SVG object>"
      ]
     },
     "metadata": {},
     "output_type": "display_data"
    },
    {
     "name": "stdout",
     "output_type": "stream",
     "text": [
      "====================================================================================================\n",
      "요청한 문장: 직각을 표현해줘\n",
      "추출된 개념: Right Angle\n",
      "추출된 인자: {}\n",
      "\n",
      "생성된 코드:\n",
      " <svg width=\"500\" height=\"500\" xmlns=\"http://www.w3.org/2000/svg\">\n",
      "    <text x=\"250\" y=\"50\" font-size=\"25\" text-anchor=\"middle\">직각</text>\n",
      "    <!-- 기준선 -->\n",
      "    <line x1=\"125\" y1=\"400\" x2=\"458\" y2=\"400\" stroke=\"black\" stroke-width=\"2\" />\n",
      "    <!-- 기울어진 선 -->\n",
      "    <line x1=\"125\" y1=\"400\" x2=\"125\" y2=\"67\" stroke=\"black\" stroke-width=\"2\" />\n",
      "    <!-- 직각 보조선 -->\n",
      "    <line x1=\"175\" y1=\"400\" x2=\"175\" y2=\"350\" stroke=\"black\" stroke-width=\"2\" />\n",
      "    <line x1=\"125\" y1=\"350\" x2=\"175\" y2=\"350\" stroke=\"black\" stroke-width=\"2\" />\n",
      "    </svg>\n",
      "    \n",
      "\n",
      "생성된 설명:\n",
      " ### Right Angle\n",
      "\n",
      "**정의:**\n",
      "Right Angle은 기하학에서 가장 기본적인 각도 중 하나로, 정확히 90도를 이루는 각도를 말합니다. 이 각도는 직각이라고도 불리며, 직선이나 특정 도형의 모서리에서 만나는 두 변이 서로 수직으로 만나는 경우에 나타납니다.\n",
      "\n",
      "**기본 성질:**\n",
      "1. **크기:** Right Angle은 항상 정확히 90도입니다. 이는 모든 Right Angle이 동일한 크기를 가짐을 의미합니다.\n",
      "2. **모양:** Right Angle은 보통 'L' 모양으로 쉽게 인식할 수 있습니다. 이 모양은 직각을 나타내는 데 자주 사용됩니다.\n",
      "3. **도형과의 관계:** 직각은 사각형, 직사각형, 정사각형 등 다양한 도형의 모서리에서 발견됩니다. 특히, 직사각형이나 정사각형은 네 개의 Right Angle을 가지고 있습니다.\n",
      "4. **삼각형과의 연관성:** 직각삼각형은 한 내각이 정확히 Right Angle인 삼각형을 의미합니다. 이 삼각형은 세 변의 길이 관계를 통해 피타고라스 정리를 적용할 수 있습니다.\n",
      "\n",
      "이러한 성질들로 인해 Right Angle은 수학에서 매우 중요한 개념으로 자리잡고 있습니다!\n"
     ]
    },
    {
     "data": {
      "image/svg+xml": [
       "<svg xmlns=\"http://www.w3.org/2000/svg\" width=\"500\" height=\"500\">\n",
       "    <text x=\"250\" y=\"50\" font-size=\"25\" text-anchor=\"middle\">직각</text>\n",
       "    <!-- 기준선 -->\n",
       "    <line x1=\"125\" y1=\"400\" x2=\"458\" y2=\"400\" stroke=\"black\" stroke-width=\"2\"/>\n",
       "    <!-- 기울어진 선 -->\n",
       "    <line x1=\"125\" y1=\"400\" x2=\"125\" y2=\"67\" stroke=\"black\" stroke-width=\"2\"/>\n",
       "    <!-- 직각 보조선 -->\n",
       "    <line x1=\"175\" y1=\"400\" x2=\"175\" y2=\"350\" stroke=\"black\" stroke-width=\"2\"/>\n",
       "    <line x1=\"125\" y1=\"350\" x2=\"175\" y2=\"350\" stroke=\"black\" stroke-width=\"2\"/>\n",
       "    </svg>"
      ],
      "text/plain": [
       "<IPython.core.display.SVG object>"
      ]
     },
     "metadata": {},
     "output_type": "display_data"
    },
    {
     "name": "stdout",
     "output_type": "stream",
     "text": [
      "====================================================================================================\n",
      "요청한 문장: 밑변이 3이고, 높이가 4인 직각삼각형 하나를 그려줘\n",
      "추출된 개념: Right Triangle\n",
      "추출된 인자: {'base': 3, 'height': 4}\n",
      "\n",
      "생성된 코드:\n",
      " <svg width=\"500\" height=\"500\" xmlns=\"http://www.w3.org/2000/svg\">\n",
      "    <text x=\"250\" y=\"50\" font-size=\"25\" text-anchor=\"middle\">직각삼각형</text>\n",
      "    <!-- 직각삼각형 -->\n",
      "    <line x1=\"83\" y1=\"416\" x2=\"308\" y2=\"416\" stroke=\"black\" stroke-width=\"2\" />\n",
      "    <line x1=\"308\" y1=\"416\" x2=\"308\" y2=\"166\" stroke=\"black\" stroke-width=\"2\" />\n",
      "    <line x1=\"83\" y1=\"416\" x2=\"308\" y2=\"166\" stroke=\"black\" stroke-width=\"2\" />\n",
      "    <!-- 직각 보조선 -->\n",
      "    <line x1=\"286\" y1=\"416\" x2=\"286\" y2=\"394\" stroke=\"black\" stroke-width=\"2\" />\n",
      "    <line x1=\"286\" y1=\"394\" x2=\"308\" y2=\"394\" stroke=\"black\" stroke-width=\"2\" />\n",
      "    </svg>\n",
      "    \n",
      "\n",
      "생성된 설명:\n",
      " ### Right Triangle\n",
      "\n",
      "**정의:**\n",
      "A right triangle is a special type of triangle that has one angle which measures exactly 90 degrees (a right angle). This unique angle distinguishes it from other triangles where all angles are less than 90 degrees.\n",
      "\n",
      "**기본 성질:**\n",
      "1. **한 각이 직각:** 가장 중요한 특징은 한 꼭짓점에서 직각(90°)을 이루는 것입니다.\n",
      "2. **직각을 중심으로 두 개의 다른 각:** 나머지 두 각은 합쳐 90도가 됩니다. 따라서 이 두 각은 서로 보완각(complementary angles)입니다.\n",
      "3. **피타고라스 정리 적용 가능:** 직각 삼각형에서는 가장 긴 변을 빗변(hypotenuse)이라고 부르며, 이 빗변의 길이는 다른 두 변(직각을 이루는 두 변을 밑변과 높이라고도 부릅니다)의 길이와 특별한 관계를 가집니다. 이 관계는 피타고라스 정리로 표현되는데, 수학적으로는 \\(a^2 + b^2 = c^2\\) 입니다 (여기서 \\(c\\)는 빗변의 길이이고, \\(a\\)와 \\(b\\)는 다른 두 변의 길이입니다). 하지만 문제 해결을 위해 직접적인 공식보다는 이 관계를 이해하는 것이 중요합니다.\n",
      "4. **삼각형의 종류:** 직각 삼각형은 그 각도에 따라 다양한 종류로 나눌 수 있습니다. 예를 들어, 모든 변의 길이가 정수인 직각 삼각형을 피타고라스 삼각형이라고 부르기도 합니다.\n",
      "\n",
      "이런 특징들로 인해 직각 삼각형은 건축, 공학, 그리고 다양한 실생활 문제 해결에서 매우 중요한 역할을 합니다!\n",
      "\n",
      "생성된 공식 raw:\n",
      " {'perimeter': '밑변 + 높이 + 빗변', 'area': '밑변 × 높이 ÷ 2'}\n"
     ]
    },
    {
     "data": {
      "text/latex": [
       "$\\displaystyle 밑변 + 높이 + 빗변$"
      ],
      "text/plain": [
       "<IPython.core.display.Math object>"
      ]
     },
     "metadata": {},
     "output_type": "display_data"
    },
    {
     "data": {
      "text/latex": [
       "$\\displaystyle 밑변 × 높이 ÷ 2$"
      ],
      "text/plain": [
       "<IPython.core.display.Math object>"
      ]
     },
     "metadata": {},
     "output_type": "display_data"
    },
    {
     "data": {
      "image/svg+xml": [
       "<svg xmlns=\"http://www.w3.org/2000/svg\" width=\"500\" height=\"500\">\n",
       "    <text x=\"250\" y=\"50\" font-size=\"25\" text-anchor=\"middle\">직각삼각형</text>\n",
       "    <!-- 직각삼각형 -->\n",
       "    <line x1=\"83\" y1=\"416\" x2=\"308\" y2=\"416\" stroke=\"black\" stroke-width=\"2\"/>\n",
       "    <line x1=\"308\" y1=\"416\" x2=\"308\" y2=\"166\" stroke=\"black\" stroke-width=\"2\"/>\n",
       "    <line x1=\"83\" y1=\"416\" x2=\"308\" y2=\"166\" stroke=\"black\" stroke-width=\"2\"/>\n",
       "    <!-- 직각 보조선 -->\n",
       "    <line x1=\"286\" y1=\"416\" x2=\"286\" y2=\"394\" stroke=\"black\" stroke-width=\"2\"/>\n",
       "    <line x1=\"286\" y1=\"394\" x2=\"308\" y2=\"394\" stroke=\"black\" stroke-width=\"2\"/>\n",
       "    </svg>"
      ],
      "text/plain": [
       "<IPython.core.display.SVG object>"
      ]
     },
     "metadata": {},
     "output_type": "display_data"
    },
    {
     "name": "stdout",
     "output_type": "stream",
     "text": [
      "====================================================================================================\n",
      "요청한 문장: 가로가 5, 세로가 3인 직사각형의 넓이\n",
      "추출된 개념: Rectangle\n",
      "추출된 인자: {'width': 5, 'height': 3}\n",
      "\n",
      "생성된 코드:\n",
      " <svg width=\"500\" height=\"312\" xmlns=\"http://www.w3.org/2000/svg\">\n",
      "    <text x=\"250\" y=\"50\" font-size=\"25\" text-anchor=\"middle\">직사각형</text>\n",
      "    <rect x=\"100\" y=\"100\" width=\"250\" height=\"150\" stroke=\"black\" stroke-width=\"2\" fill=\"none\" />\n",
      "    </svg>\n",
      "\n",
      "생성된 설명:\n",
      " ### Rectangle 설명\n",
      "\n",
      "**정의:**\n",
      "사각형은 네 개의 직선으로 둘러싸인 평면 도형으로, 각 내각이 직각(90도)인 특징을 가지고 있습니다. 즉, 사각형의 네 모서리는 모두 직각을 이루며, 대변이 평행하고 길이가 같은 특성을 갖습니다.\n",
      "\n",
      "**기본 성질:**\n",
      "1. **대변의 길이가 같음:** 사각형의 두 쌍의 대변은 길이가 동일합니다. 예를 들어, 가로와 세로가 같은 길이를 가집니다.\n",
      "2. **대각선이 서로 같음:** 사각형의 두 대각선은 길이가 같습니다. 즉, 사각형을 두 개의 동일한 삼각형으로 나눌 수 있습니다.\n",
      "3. **내각의 합:** 사각형의 네 내각의 합은 항상 360도입니다.\n",
      "4. **변의 배열:** 사각형은 여러 가지 형태로 배열될 수 있습니다. 예를 들어, 직사각형은 가로와 세로가 각각 다른 길이를 가질 수 있으며, 정사각형은 모든 변의 길이가 같고 모든 내각이 직각인 특별한 형태의 사각형입니다.\n",
      "\n",
      "이러한 성질들로 인해 사각형은 우리 일상생활에서 매우 흔하게 볼 수 있는 도형입니다!\n",
      "\n",
      "생성된 공식 raw:\n",
      " {'perimeter': '2 × (밑변 + 높이)', 'area': '밑변 × 높이'}\n"
     ]
    },
    {
     "data": {
      "text/latex": [
       "$\\displaystyle 2 × (밑변 + 높이)$"
      ],
      "text/plain": [
       "<IPython.core.display.Math object>"
      ]
     },
     "metadata": {},
     "output_type": "display_data"
    },
    {
     "data": {
      "text/latex": [
       "$\\displaystyle 밑변 × 높이$"
      ],
      "text/plain": [
       "<IPython.core.display.Math object>"
      ]
     },
     "metadata": {},
     "output_type": "display_data"
    },
    {
     "data": {
      "image/svg+xml": [
       "<svg xmlns=\"http://www.w3.org/2000/svg\" width=\"500\" height=\"312\">\n",
       "    <text x=\"250\" y=\"50\" font-size=\"25\" text-anchor=\"middle\">직사각형</text>\n",
       "    <rect x=\"100\" y=\"100\" width=\"250\" height=\"150\" stroke=\"black\" stroke-width=\"2\" fill=\"none\"/>\n",
       "    </svg>"
      ],
      "text/plain": [
       "<IPython.core.display.SVG object>"
      ]
     },
     "metadata": {},
     "output_type": "display_data"
    },
    {
     "name": "stdout",
     "output_type": "stream",
     "text": [
      "====================================================================================================\n",
      "요청한 문장: 한 변의 길이가 2인 정사각형 하나를 그려줘\n",
      "추출된 개념: Square\n",
      "추출된 인자: {'length': 2}\n",
      "\n",
      "생성된 코드:\n",
      " <svg width=\"500\" height=\"500\" xmlns=\"http://www.w3.org/2000/svg\">\n",
      "    <text x=\"250\" y=\"50\" font-size=\"25\" text-anchor=\"middle\">정사각형</text>\n",
      "    <rect x=\"100\" y=\"100\" width=\"200\" height=\"200\" stroke=\"black\" stroke-width=\"2\" fill=\"none\" />\n",
      "    </svg>\n",
      "\n",
      "생성된 설명:\n",
      " ### Square\n",
      "\n",
      "**정의:**\n",
      "사각형은 네 개의 변으로 이루어진 평면 도형입니다. 모든 내각이 직각(90도)이며, 반대편의 변들이 길이가 같아서 마주보는 두 변은 평행하고 길이가 동일합니다.\n",
      "\n",
      "**기본 성질:**\n",
      "1. **대변의 길이 동일:** 사각형의 마주보는 두 변은 길이가 같습니다. 예를 들어, 정사각형이나 직사각형에서는 모든 대변이 같은 길이를 가집니다.\n",
      "2. **대각선의 성질:** 사각형의 대각선은 서로를 반으로 나눕니다. 즉, 대각선이 만나는 점에서 대각선을 잇는 선분들은 서로를 절반으로 나눕니다.\n",
      "3. **변의 합:** 사각형의 네 변의 길이를 모두 더하면, 그 합은 사각형의 둘레를 나타냅니다. 예를 들어, 한 변의 길이가 \\(a\\)이고 다른 변의 길이가 \\(b\\)라면, 둘레는 \\(a + b + a + b = 2(a + b)\\)가 됩니다.\n",
      "4. **정사각형의 특징:** 정사각형은 모든 변의 길이가 같고 모든 내각이 직각인 특별한 사각형입니다. 모든 대각선도 길이가 같고 서로를 직각으로 이룹니다.\n",
      "\n",
      "이러한 성질들로 인해 사각형은 다양한 형태와 크기로 존재하며, 건축, 디자인, 그리고 일상생활에서 자주 볼 수 있는 도형입니다!\n",
      "\n",
      "생성된 공식 raw:\n",
      " {'perimeter': '4 \\\\times \\\\mathrm{한 변의 길이}', 'area': '\\\\mathrm{한 변의 길이} \\\\times \\\\mathrm{한 변의 길이}'}\n"
     ]
    },
    {
     "data": {
      "text/latex": [
       "$\\displaystyle 4 \\times \\mathrm{한 변의 길이}$"
      ],
      "text/plain": [
       "<IPython.core.display.Math object>"
      ]
     },
     "metadata": {},
     "output_type": "display_data"
    },
    {
     "data": {
      "text/latex": [
       "$\\displaystyle \\mathrm{한 변의 길이} \\times \\mathrm{한 변의 길이}$"
      ],
      "text/plain": [
       "<IPython.core.display.Math object>"
      ]
     },
     "metadata": {},
     "output_type": "display_data"
    },
    {
     "data": {
      "image/svg+xml": [
       "<svg xmlns=\"http://www.w3.org/2000/svg\" width=\"500\" height=\"500\">\n",
       "    <text x=\"250\" y=\"50\" font-size=\"25\" text-anchor=\"middle\">정사각형</text>\n",
       "    <rect x=\"100\" y=\"100\" width=\"200\" height=\"200\" stroke=\"black\" stroke-width=\"2\" fill=\"none\"/>\n",
       "    </svg>"
      ],
      "text/plain": [
       "<IPython.core.display.SVG object>"
      ]
     },
     "metadata": {},
     "output_type": "display_data"
    },
    {
     "name": "stdout",
     "output_type": "stream",
     "text": [
      "====================================================================================================\n",
      "요청한 문장: 곧은선이 뭐야?\n",
      "추출된 개념: 직선\n",
      "추출된 인자: {}\n",
      "\n",
      "생성된 코드:\n",
      " <svg width=\"500\" height=\"500\" xmlns=\"http://www.w3.org/2000/svg\">\n",
      "    <text x=\"250\" y=\"25\" font-size=\"25\" text-anchor=\"middle\">곧은선</text>\n",
      "    <text x=\"250\" y=\"75\" font-size=\"25\" text-anchor=\"middle\">선분</text>\n",
      "    <!-- 선분 -->\n",
      "    <circle cx=\"125\" cy=\"125\" r=\"1\" stroke=\"black\" stroke-width=\"2\" fill=\"black\" />\n",
      "    <circle cx=\"375\" cy=\"125\" r=\"1\" stroke=\"black\" stroke-width=\"2\" fill=\"black\" />\n",
      "    <line x1=\"125\" y1=\"125\" x2=\"375\" y2=\"125\" stroke=\"black\" stroke-width=\"2\" />\n",
      "    <!-- 반직선 -->\n",
      "    <text x=\"250\" y=\"175\" font-size=\"25\" text-anchor=\"middle\">반직선</text>\n",
      "    <circle cx=\"125\" cy=\"250\" r=\"1\" stroke=\"black\" stroke-width=\"2\" fill=\"black\" />\n",
      "    <circle cx=\"375\" cy=\"250\" r=\"1\" stroke=\"black\" stroke-width=\"2\" fill=\"black\" />\n",
      "    <line x1=\"125\" y1=\"250\" x2=\"500\" y2=\"250\" stroke=\"black\" stroke-width=\"2\" />\n",
      "    <!-- 직선 -->\n",
      "    <text x=\"250\" y=\"300\" font-size=\"25\" text-anchor=\"middle\">직선</text>\n",
      "    <circle cx=\"125\" cy=\"375\" r=\"1\" stroke=\"black\" stroke-width=\"2\" fill=\"black\" />\n",
      "    <circle cx=\"375\" cy=\"375\" r=\"1\" stroke=\"black\" stroke-width=\"2\" fill=\"black\" />\n",
      "    <line x1=\"0\" y1=\"375\" x2=\"500\" y2=\"375\" stroke=\"black\" stroke-width=\"2\" />\n",
      "    </svg>\n",
      "    \n",
      "\n",
      "생성된 설명:\n",
      " ### 직선에 대한 설명\n",
      "\n",
      "#### 정의\n",
      "직선은 평면 위에서 가장 짧은 거리로 두 점을 연결하는 선을 말합니다. 이 선은 양쪽으로 무한히 계속되며, 방향이 항상 일정합니다. 직선 위의 모든 점들은 서로 평행하게 연결되어 있어, 어떤 방향으로든 뻗어나갈 수 있습니다.\n",
      "\n",
      "#### 기본 성질\n",
      "1. **무한한 길이**: 직선은 양쪽으로 무한히 이어집니다. 즉, 시작점에서 끝점까지의 거리가 아무리 길어도 계속해서 뻗어나갈 수 있습니다.\n",
      "2. **평행한 선들**: 같은 방향으로 무한히 뻗어나가는 두 직선은 서로 평행합니다. 반대로, 서로 다른 방향으로 무한히 뻗어나가는 두 직선은 교차하지 않습니다.\n",
      "3. **직선 위의 점들**: 직선 위의 모든 점들은 서로 연결되어 있어, 어떤 두 점을 잇는 선분은 항상 직선의 일부분입니다.\n",
      "4. **직선의 대칭성**: 직선을 기준으로 대칭인 두 부분은 서로 완전히 일치합니다. 예를 들어, 한 점을 기준으로 대칭인 두 점은 직선 양쪽에 동일한 거리에 위치합니다.\n",
      "\n",
      "이러한 성질들로 인해 직선은 기하학에서 매우 중요한 개념으로 사용됩니다!\n"
     ]
    },
    {
     "data": {
      "image/svg+xml": [
       "<svg xmlns=\"http://www.w3.org/2000/svg\" width=\"500\" height=\"500\">\n",
       "    <text x=\"250\" y=\"25\" font-size=\"25\" text-anchor=\"middle\">곧은선</text>\n",
       "    <text x=\"250\" y=\"75\" font-size=\"25\" text-anchor=\"middle\">선분</text>\n",
       "    <!-- 선분 -->\n",
       "    <circle cx=\"125\" cy=\"125\" r=\"1\" stroke=\"black\" stroke-width=\"2\" fill=\"black\"/>\n",
       "    <circle cx=\"375\" cy=\"125\" r=\"1\" stroke=\"black\" stroke-width=\"2\" fill=\"black\"/>\n",
       "    <line x1=\"125\" y1=\"125\" x2=\"375\" y2=\"125\" stroke=\"black\" stroke-width=\"2\"/>\n",
       "    <!-- 반직선 -->\n",
       "    <text x=\"250\" y=\"175\" font-size=\"25\" text-anchor=\"middle\">반직선</text>\n",
       "    <circle cx=\"125\" cy=\"250\" r=\"1\" stroke=\"black\" stroke-width=\"2\" fill=\"black\"/>\n",
       "    <circle cx=\"375\" cy=\"250\" r=\"1\" stroke=\"black\" stroke-width=\"2\" fill=\"black\"/>\n",
       "    <line x1=\"125\" y1=\"250\" x2=\"500\" y2=\"250\" stroke=\"black\" stroke-width=\"2\"/>\n",
       "    <!-- 직선 -->\n",
       "    <text x=\"250\" y=\"300\" font-size=\"25\" text-anchor=\"middle\">직선</text>\n",
       "    <circle cx=\"125\" cy=\"375\" r=\"1\" stroke=\"black\" stroke-width=\"2\" fill=\"black\"/>\n",
       "    <circle cx=\"375\" cy=\"375\" r=\"1\" stroke=\"black\" stroke-width=\"2\" fill=\"black\"/>\n",
       "    <line x1=\"0\" y1=\"375\" x2=\"500\" y2=\"375\" stroke=\"black\" stroke-width=\"2\"/>\n",
       "    </svg>"
      ],
      "text/plain": [
       "<IPython.core.display.SVG object>"
      ]
     },
     "metadata": {},
     "output_type": "display_data"
    },
    {
     "name": "stdout",
     "output_type": "stream",
     "text": [
      "====================================================================================================\n",
      "요청한 문장: 대표적인 굽은선을 그려줘\n",
      "추출된 개념: 곡선\n",
      "추출된 인자: {'type': '타원', 'description': '타원은 가장 대표적인 굽은선의 한 종류로, 두 초점 사이의 거리의 합이 일정한 점들의 집합으로 정의됩니다.'}\n",
      "\n",
      "생성된 코드:\n",
      " \n",
      "    <svg width=\"500\" height=\"500\" xmlns=\"http://www.w3.org/2000/svg\">\n",
      "    <text x=\"250\" y=\"50\" font-size=\"25\" text-anchor=\"middle\">굽은선</text>\n",
      "    <!-- 복잡한 S자 곡선 (두 개의 Cubic Bézier) -->\n",
      "    <path d=\"M 100,400\n",
      "    C 100,100 400,100 400,250\n",
      "    C 400,400 100,400 100,100\"\n",
      "    stroke=\"black\" fill=\"none\" stroke-width=\"2\"/>\n",
      "    </svg>\n",
      "    \n",
      "\n",
      "생성된 설명:\n",
      " ### 곡선에 대한 설명\n",
      "\n",
      "**정의:**\n",
      "곡선은 직선이 아닌, 연속적으로 이어지는 점들의 모임으로 이루어진 도형입니다. 쉽게 말해, 직선처럼 일정한 방향으로만 움직이는 것이 아니라, 부드럽게 휘어지거나 굽어지는 형태를 가진 선을 말합니다.\n",
      "\n",
      "**기본 성질:**\n",
      "1. **연속성:** 곡선 위의 모든 점들은 부드럽게 이어져 있어, 어떤 작은 구간에서도 끊어지지 않고 이어집니다.\n",
      "2. **길이:** 곡선의 길이는 그 곡선을 따라 측정한 총 거리입니다. 이 길이는 곡선의 모양에 따라 달라집니다. 예를 들어, 원의 둘레는 반지름에 따라 결정되며, 이는 곡선의 길이를 정확히 계산하는 방법 중 하나입니다.\n",
      "3. **곡률:** 곡선이 얼마나 빠르게 방향을 바꾸는지를 나타내는 값입니다. 곡률이 크면 곡선이 더 급하게 굽어지고, 작으면 더 부드럽게 굽어집니다. 예를 들어, 원의 경우 모든 점에서 곡률이 일정합니다.\n",
      "4. **접선:** 곡선 위의 어떤 점에서 그 점을 지나는 가장 가까운 직선을 접선이라고 합니다. 이 접선은 그 점에서 곡선의 방향을 가장 잘 나타냅니다.\n",
      "\n",
      "이러한 성질들 덕분에 곡선은 자연 현상이나 공학적 설계 등 다양한 분야에서 중요한 역할을 합니다.\n"
     ]
    },
    {
     "data": {
      "image/svg+xml": [
       "<svg xmlns=\"http://www.w3.org/2000/svg\" width=\"500\" height=\"500\">\n",
       "    <text x=\"250\" y=\"50\" font-size=\"25\" text-anchor=\"middle\">굽은선</text>\n",
       "    <!-- 복잡한 S자 곡선 (두 개의 Cubic Bézier) -->\n",
       "    <path d=\"M 100,400     C 100,100 400,100 400,250     C 400,400 100,400 100,100\" stroke=\"black\" fill=\"none\" stroke-width=\"2\"/>\n",
       "    </svg>"
      ],
      "text/plain": [
       "<IPython.core.display.SVG object>"
      ]
     },
     "metadata": {},
     "output_type": "display_data"
    },
    {
     "name": "stdout",
     "output_type": "stream",
     "text": [
      "====================================================================================================\n",
      "요청한 문장: 중심이 (0,0)이고 반지름이 2인 원을 그려주세요.\n",
      "추출된 개념: Circle\n",
      "추출된 인자: {'radius': 2}\n",
      "\n",
      "생성된 코드:\n",
      " <svg width=\"500\" height=\"500\" xmlns=\"http://www.w3.org/2000/svg\">\n",
      "    <text x=\"250\" y=\"50\" font-size=\"25\" text-anchor=\"middle\">원</text>\n",
      "    <circle cx=\"250\" cy=\"250\" r=\"100\" stroke=\"black\" stroke-width=\"2\" fill=\"none\" />\n",
      "    <circle cx=\"250\" cy=\"250\" r=\"1\" stroke=\"black\" stroke-width=\"2\" fill=\"black\" />\n",
      "    <line x1=\"250\" y1=\"250\" x2=\"350\" y2=\"250\" stroke=\"black\" stroke-width=\"2\" />\n",
      "    </svg>\n",
      "    \n",
      "\n",
      "생성된 설명:\n",
      " ### Circle (원)\n",
      "\n",
      "#### 정의:\n",
      "원은 평면 위에서 한 점(중심)으로부터 일정한 거리(반지름)에 있는 모든 점들의 집합을 말합니다. 이 중심점을 기준으로 원 위의 모든 점들은 동일한 거리에 위치해 있습니다.\n",
      "\n",
      "#### 기본 성질:\n",
      "1. **둘레와 지름**: 원의 둘레는 지름에 π(약 3.14)를 곱한 값입니다. 즉, 둘레 = 지름 × π 입니다. 반대로 지름은 둘레를 π로 나누면 구할 수 있습니다.\n",
      "   \n",
      "2. **면적**: 원의 면적은 반지름의 제곱에 π를 곱한 값입니다. 공식으로 표현하면 면적 = π × 반지름2 입니다.\n",
      "\n",
      "3. **대칭성**: 원은 중심을 기준으로 완벽하게 대칭입니다. 즉, 중심을 지나는 어떤 직선을 기준으로 원을 접어도 양쪽이 완전히 일치합니다.\n",
      "\n",
      "4. **원주각과 호의 관계**: 원 위의 두 점을 잇는 호의 중앙각은 그 호에 대응하는 원주각의 두 배입니다. 예를 들어, 호의 중앙각이 θ라면 원주각은 θ/2가 됩니다.\n",
      "\n",
      "이러한 성질들로 인해 원은 기하학에서 매우 중요한 역할을 합니다. 다양한 도형과 문제 해결에 활용되며, 일상생활에서도 자주 접하게 되는 개념입니다.\n",
      "\n",
      "생성된 공식 raw:\n",
      " {'perimeter': '2 \\\\times 3.14 \\\\times 반지름', 'area': '3.14 \\\\times 반지름 \\\\times 반지름'}\n"
     ]
    },
    {
     "data": {
      "text/latex": [
       "$\\displaystyle 2 \\times 3.14 \\times 반지름$"
      ],
      "text/plain": [
       "<IPython.core.display.Math object>"
      ]
     },
     "metadata": {},
     "output_type": "display_data"
    },
    {
     "data": {
      "text/latex": [
       "$\\displaystyle 3.14 \\times 반지름 \\times 반지름$"
      ],
      "text/plain": [
       "<IPython.core.display.Math object>"
      ]
     },
     "metadata": {},
     "output_type": "display_data"
    },
    {
     "data": {
      "image/svg+xml": [
       "<svg xmlns=\"http://www.w3.org/2000/svg\" width=\"500\" height=\"500\">\n",
       "    <text x=\"250\" y=\"50\" font-size=\"25\" text-anchor=\"middle\">원</text>\n",
       "    <circle cx=\"250\" cy=\"250\" r=\"100\" stroke=\"black\" stroke-width=\"2\" fill=\"none\"/>\n",
       "    <circle cx=\"250\" cy=\"250\" r=\"1\" stroke=\"black\" stroke-width=\"2\" fill=\"black\"/>\n",
       "    <line x1=\"250\" y1=\"250\" x2=\"350\" y2=\"250\" stroke=\"black\" stroke-width=\"2\"/>\n",
       "    </svg>"
      ],
      "text/plain": [
       "<IPython.core.display.SVG object>"
      ]
     },
     "metadata": {},
     "output_type": "display_data"
    },
    {
     "name": "stdout",
     "output_type": "stream",
     "text": [
      "====================================================================================================\n",
      "요청한 문장: 37° 각도를 그려줘\n",
      "추출된 개념: 각도\n",
      "추출된 인자: {'size': 37}\n",
      "\n",
      "생성된 코드:\n",
      " <svg width=\"500\" height=\"375\" xmlns=\"http://www.w3.org/2000/svg\">\n",
      "    <text x=\"250\" y=\"50\" font-size=\"25\" text-anchor=\"middle\">각</text>\n",
      "    <!-- 기준선 -->\n",
      "    <line x1=\"125\" y1=\"333\" x2=\"375\" y2=\"333\" stroke=\"black\" stroke-width=\"2\" />\n",
      "    <!-- 기울어진 선 -->\n",
      "    <line x1=\"125\" y1=\"333\" x2=\"324.6588775118232\" y2=\"182.54624421198793\" stroke=\"black\" stroke-width=\"2\" />\n",
      "    <!-- 각도 호 -->\n",
      "    <path d=\"M 164.93177550236464,302.9092488423976 A 50,50 0 0,1 175,333\" stroke=\"black\" stroke-width=\"2\" fill=\"none\"/>\n",
      "    </svg>\n",
      "    \n",
      "\n",
      "생성된 설명:\n",
      " ### 각도에 대한 설명\n",
      "\n",
      "**정의:**\n",
      "각도는 두 직선이나 선분이 만나서 생기는 공간의 크기를 측정하는 방법입니다. 우리가 일상에서 자주 접하는 각도는 주로 도로 표지판에서 볼 수 있는 방향 지시나, 그림에서 선들이 만나는 부분을 표현할 때 사용됩니다.\n",
      "\n",
      "**기본 성질:**\n",
      "1. **직선의 각도:** 직선은 정확히 180도의 각도를 가집니다. 직선은 두 방향으로 무한히 이어지는 것처럼 보이지만, 실제로는 시작점과 끝점이 있습니다.\n",
      "   \n",
      "2. **직각 각도:** 직각은 90도를 의미합니다. 이는 우리가 흔히 사용하는 'L'자 모양의 모서리나 사각형의 모서리에서 볼 수 있습니다. 직각은 두 직선이 서로 수직으로 만나는 경우에 생깁니다.\n",
      "\n",
      "3. **평행선과 각도:** 평행한 두 직선은 만나지 않기 때문에, 그들 사이의 각도는 항상 같습니다. 예를 들어, 두 평행선 위에 그려진 삼각형의 한 각은 다른 각과 크기가 동일합니다.\n",
      "\n",
      "4. **복합 각도:** 여러 각도를 합쳐서 더 큰 각도를 만들 수 있습니다. 예를 들어, 두 개의 직각 각도를 합치면 180도가 됩니다.\n",
      "\n",
      "이러한 기본적인 개념들을 이해하면 각도에 대한 다양한 문제를 풀 때 도움이 될 것입니다!\n"
     ]
    },
    {
     "data": {
      "image/svg+xml": [
       "<svg xmlns=\"http://www.w3.org/2000/svg\" width=\"500\" height=\"375\">\n",
       "    <text x=\"250\" y=\"50\" font-size=\"25\" text-anchor=\"middle\">각</text>\n",
       "    <!-- 기준선 -->\n",
       "    <line x1=\"125\" y1=\"333\" x2=\"375\" y2=\"333\" stroke=\"black\" stroke-width=\"2\"/>\n",
       "    <!-- 기울어진 선 -->\n",
       "    <line x1=\"125\" y1=\"333\" x2=\"324.6588775118232\" y2=\"182.54624421198793\" stroke=\"black\" stroke-width=\"2\"/>\n",
       "    <!-- 각도 호 -->\n",
       "    <path d=\"M 164.93177550236464,302.9092488423976 A 50,50 0 0,1 175,333\" stroke=\"black\" stroke-width=\"2\" fill=\"none\"/>\n",
       "    </svg>"
      ],
      "text/plain": [
       "<IPython.core.display.SVG object>"
      ]
     },
     "metadata": {},
     "output_type": "display_data"
    },
    {
     "name": "stdout",
     "output_type": "stream",
     "text": [
      "====================================================================================================\n",
      "요청한 문장: 직각을 표현해줘\n",
      "추출된 개념: Right Angle\n",
      "추출된 인자: {}\n",
      "\n",
      "생성된 코드:\n",
      " <svg width=\"500\" height=\"500\" xmlns=\"http://www.w3.org/2000/svg\">\n",
      "    <text x=\"250\" y=\"50\" font-size=\"25\" text-anchor=\"middle\">직각</text>\n",
      "    <!-- 기준선 -->\n",
      "    <line x1=\"125\" y1=\"400\" x2=\"458\" y2=\"400\" stroke=\"black\" stroke-width=\"2\" />\n",
      "    <!-- 기울어진 선 -->\n",
      "    <line x1=\"125\" y1=\"400\" x2=\"125\" y2=\"67\" stroke=\"black\" stroke-width=\"2\" />\n",
      "    <!-- 직각 보조선 -->\n",
      "    <line x1=\"175\" y1=\"400\" x2=\"175\" y2=\"350\" stroke=\"black\" stroke-width=\"2\" />\n",
      "    <line x1=\"125\" y1=\"350\" x2=\"175\" y2=\"350\" stroke=\"black\" stroke-width=\"2\" />\n",
      "    </svg>\n",
      "    \n",
      "\n",
      "생성된 설명:\n",
      " ### Right Angle\n",
      "\n",
      "**정의:**\n",
      "Right Angle은 기하학에서 가장 기본적인 각도 중 하나로, 정확히 90도를 이루는 각도를 말합니다. 이 각도는 직각이라고도 불리며, 직선이나 특정 도형의 모서리에서 만나는 두 변이 서로 수직으로 만나는 경우에 나타납니다.\n",
      "\n",
      "**기본 성질:**\n",
      "1. **크기:** Right Angle은 항상 정확히 90도입니다. 이는 모든 Right Angle이 동일한 크기를 가짐을 의미합니다.\n",
      "2. **모양:** Right Angle은 보통 'L' 모양으로 쉽게 인식할 수 있습니다. 이 모양은 직각을 나타내는 데 자주 사용됩니다.\n",
      "3. **도형과의 관계:** 직각은 사각형, 직사각형, 정사각형 등 다양한 도형의 모서리에서 발견됩니다. 특히, 직사각형이나 정사각형은 네 개의 Right Angle을 가지고 있습니다.\n",
      "4. **삼각형과의 연관성:** 직각삼각형은 한 내각이 정확히 Right Angle인 삼각형을 의미합니다. 이 삼각형은 세 변의 길이 관계를 통해 피타고라스 정리를 적용할 수 있습니다.\n",
      "\n",
      "이러한 성질들로 인해 Right Angle은 수학에서 매우 중요한 개념으로 자리잡고 있습니다!\n"
     ]
    },
    {
     "data": {
      "image/svg+xml": [
       "<svg xmlns=\"http://www.w3.org/2000/svg\" width=\"500\" height=\"500\">\n",
       "    <text x=\"250\" y=\"50\" font-size=\"25\" text-anchor=\"middle\">직각</text>\n",
       "    <!-- 기준선 -->\n",
       "    <line x1=\"125\" y1=\"400\" x2=\"458\" y2=\"400\" stroke=\"black\" stroke-width=\"2\"/>\n",
       "    <!-- 기울어진 선 -->\n",
       "    <line x1=\"125\" y1=\"400\" x2=\"125\" y2=\"67\" stroke=\"black\" stroke-width=\"2\"/>\n",
       "    <!-- 직각 보조선 -->\n",
       "    <line x1=\"175\" y1=\"400\" x2=\"175\" y2=\"350\" stroke=\"black\" stroke-width=\"2\"/>\n",
       "    <line x1=\"125\" y1=\"350\" x2=\"175\" y2=\"350\" stroke=\"black\" stroke-width=\"2\"/>\n",
       "    </svg>"
      ],
      "text/plain": [
       "<IPython.core.display.SVG object>"
      ]
     },
     "metadata": {},
     "output_type": "display_data"
    },
    {
     "name": "stdout",
     "output_type": "stream",
     "text": [
      "====================================================================================================\n",
      "요청한 문장: 밑변이 3이고, 높이가 4인 직각삼각형 하나를 그려줘\n",
      "추출된 개념: Right Triangle\n",
      "추출된 인자: {'base': 3, 'height': 4}\n",
      "\n",
      "생성된 코드:\n",
      " <svg width=\"500\" height=\"500\" xmlns=\"http://www.w3.org/2000/svg\">\n",
      "    <text x=\"250\" y=\"50\" font-size=\"25\" text-anchor=\"middle\">직각삼각형</text>\n",
      "    <!-- 직각삼각형 -->\n",
      "    <line x1=\"83\" y1=\"416\" x2=\"308\" y2=\"416\" stroke=\"black\" stroke-width=\"2\" />\n",
      "    <line x1=\"308\" y1=\"416\" x2=\"308\" y2=\"166\" stroke=\"black\" stroke-width=\"2\" />\n",
      "    <line x1=\"83\" y1=\"416\" x2=\"308\" y2=\"166\" stroke=\"black\" stroke-width=\"2\" />\n",
      "    <!-- 직각 보조선 -->\n",
      "    <line x1=\"286\" y1=\"416\" x2=\"286\" y2=\"394\" stroke=\"black\" stroke-width=\"2\" />\n",
      "    <line x1=\"286\" y1=\"394\" x2=\"308\" y2=\"394\" stroke=\"black\" stroke-width=\"2\" />\n",
      "    </svg>\n",
      "    \n",
      "\n",
      "생성된 설명:\n",
      " ### Right Triangle\n",
      "\n",
      "**정의:**\n",
      "A right triangle is a special type of triangle that has one angle which measures exactly 90 degrees (a right angle). This unique angle distinguishes it from other triangles where all angles are less than 90 degrees.\n",
      "\n",
      "**기본 성질:**\n",
      "1. **한 각이 직각:** 가장 중요한 특징은 한 꼭짓점에서 직각(90°)을 이루는 것입니다.\n",
      "2. **직각을 중심으로 두 개의 다른 각:** 나머지 두 각은 합쳐 90도가 됩니다. 따라서 이 두 각은 서로 보완각(complementary angles)입니다.\n",
      "3. **피타고라스 정리 적용 가능:** 직각 삼각형에서는 가장 긴 변을 빗변(hypotenuse)이라고 부르며, 이 빗변의 길이는 다른 두 변(직각을 이루는 두 변을 밑변과 높이라고도 부릅니다)의 길이와 특별한 관계를 가집니다. 이 관계는 피타고라스 정리로 표현되는데, 수학적으로는 \\(a^2 + b^2 = c^2\\) 입니다 (여기서 \\(c\\)는 빗변의 길이이고, \\(a\\)와 \\(b\\)는 다른 두 변의 길이입니다). 하지만 문제 해결을 위해 직접적인 공식보다는 이 관계를 이해하는 것이 중요합니다.\n",
      "4. **삼각형의 종류:** 직각 삼각형은 그 각도에 따라 다양한 종류로 나눌 수 있습니다. 예를 들어, 모든 변의 길이가 정수인 직각 삼각형을 피타고라스 삼각형이라고 부르기도 합니다.\n",
      "\n",
      "이런 특징들로 인해 직각 삼각형은 건축, 공학, 그리고 다양한 실생활 문제 해결에서 매우 중요한 역할을 합니다!\n",
      "\n",
      "생성된 공식 raw:\n",
      " {'perimeter': '밑변 + 높이 + 빗변', 'area': '밑변 × 높이 ÷ 2'}\n"
     ]
    },
    {
     "data": {
      "text/latex": [
       "$\\displaystyle 밑변 + 높이 + 빗변$"
      ],
      "text/plain": [
       "<IPython.core.display.Math object>"
      ]
     },
     "metadata": {},
     "output_type": "display_data"
    },
    {
     "data": {
      "text/latex": [
       "$\\displaystyle 밑변 × 높이 ÷ 2$"
      ],
      "text/plain": [
       "<IPython.core.display.Math object>"
      ]
     },
     "metadata": {},
     "output_type": "display_data"
    },
    {
     "data": {
      "image/svg+xml": [
       "<svg xmlns=\"http://www.w3.org/2000/svg\" width=\"500\" height=\"500\">\n",
       "    <text x=\"250\" y=\"50\" font-size=\"25\" text-anchor=\"middle\">직각삼각형</text>\n",
       "    <!-- 직각삼각형 -->\n",
       "    <line x1=\"83\" y1=\"416\" x2=\"308\" y2=\"416\" stroke=\"black\" stroke-width=\"2\"/>\n",
       "    <line x1=\"308\" y1=\"416\" x2=\"308\" y2=\"166\" stroke=\"black\" stroke-width=\"2\"/>\n",
       "    <line x1=\"83\" y1=\"416\" x2=\"308\" y2=\"166\" stroke=\"black\" stroke-width=\"2\"/>\n",
       "    <!-- 직각 보조선 -->\n",
       "    <line x1=\"286\" y1=\"416\" x2=\"286\" y2=\"394\" stroke=\"black\" stroke-width=\"2\"/>\n",
       "    <line x1=\"286\" y1=\"394\" x2=\"308\" y2=\"394\" stroke=\"black\" stroke-width=\"2\"/>\n",
       "    </svg>"
      ],
      "text/plain": [
       "<IPython.core.display.SVG object>"
      ]
     },
     "metadata": {},
     "output_type": "display_data"
    },
    {
     "name": "stdout",
     "output_type": "stream",
     "text": [
      "====================================================================================================\n",
      "요청한 문장: 가로가 5, 세로가 3인 직사각형의 넓이\n",
      "추출된 개념: Rectangle\n",
      "추출된 인자: {'width': 5, 'height': 3}\n",
      "\n",
      "생성된 코드:\n",
      " <svg width=\"500\" height=\"312\" xmlns=\"http://www.w3.org/2000/svg\">\n",
      "    <text x=\"250\" y=\"50\" font-size=\"25\" text-anchor=\"middle\">직사각형</text>\n",
      "    <rect x=\"100\" y=\"100\" width=\"250\" height=\"150\" stroke=\"black\" stroke-width=\"2\" fill=\"none\" />\n",
      "    </svg>\n",
      "\n",
      "생성된 설명:\n",
      " ### Rectangle 설명\n",
      "\n",
      "**정의:**\n",
      "사각형은 네 개의 직선으로 둘러싸인 평면 도형으로, 각 내각이 직각(90도)인 특징을 가지고 있습니다. 즉, 사각형의 네 모서리는 모두 직각을 이루며, 대변이 평행하고 길이가 같은 특성을 갖습니다.\n",
      "\n",
      "**기본 성질:**\n",
      "1. **대변의 길이가 같음:** 사각형의 두 쌍의 대변은 길이가 동일합니다. 예를 들어, 가로와 세로가 같은 길이를 가집니다.\n",
      "2. **대각선이 서로 같음:** 사각형의 두 대각선은 길이가 같습니다. 즉, 사각형을 두 개의 동일한 삼각형으로 나눌 수 있습니다.\n",
      "3. **내각의 합:** 사각형의 네 내각의 합은 항상 360도입니다.\n",
      "4. **변의 배열:** 사각형은 여러 가지 형태로 배열될 수 있습니다. 예를 들어, 직사각형은 가로와 세로가 각각 다른 길이를 가질 수 있으며, 정사각형은 모든 변의 길이가 같고 모든 내각이 직각인 특별한 형태의 사각형입니다.\n",
      "\n",
      "이러한 성질들로 인해 사각형은 우리 일상생활에서 매우 흔하게 볼 수 있는 도형입니다!\n",
      "\n",
      "생성된 공식 raw:\n",
      " {'perimeter': '2 × (밑변 + 높이)', 'area': '밑변 × 높이'}\n"
     ]
    },
    {
     "data": {
      "text/latex": [
       "$\\displaystyle 2 × (밑변 + 높이)$"
      ],
      "text/plain": [
       "<IPython.core.display.Math object>"
      ]
     },
     "metadata": {},
     "output_type": "display_data"
    },
    {
     "data": {
      "text/latex": [
       "$\\displaystyle 밑변 × 높이$"
      ],
      "text/plain": [
       "<IPython.core.display.Math object>"
      ]
     },
     "metadata": {},
     "output_type": "display_data"
    },
    {
     "data": {
      "image/svg+xml": [
       "<svg xmlns=\"http://www.w3.org/2000/svg\" width=\"500\" height=\"312\">\n",
       "    <text x=\"250\" y=\"50\" font-size=\"25\" text-anchor=\"middle\">직사각형</text>\n",
       "    <rect x=\"100\" y=\"100\" width=\"250\" height=\"150\" stroke=\"black\" stroke-width=\"2\" fill=\"none\"/>\n",
       "    </svg>"
      ],
      "text/plain": [
       "<IPython.core.display.SVG object>"
      ]
     },
     "metadata": {},
     "output_type": "display_data"
    },
    {
     "name": "stdout",
     "output_type": "stream",
     "text": [
      "====================================================================================================\n",
      "요청한 문장: 한 변의 길이가 2인 정사각형 하나를 그려줘\n",
      "추출된 개념: Square\n",
      "추출된 인자: {'length': 2}\n",
      "\n",
      "생성된 코드:\n",
      " <svg width=\"500\" height=\"500\" xmlns=\"http://www.w3.org/2000/svg\">\n",
      "    <text x=\"250\" y=\"50\" font-size=\"25\" text-anchor=\"middle\">정사각형</text>\n",
      "    <rect x=\"100\" y=\"100\" width=\"200\" height=\"200\" stroke=\"black\" stroke-width=\"2\" fill=\"none\" />\n",
      "    </svg>\n",
      "\n",
      "생성된 설명:\n",
      " ### Square\n",
      "\n",
      "**정의:**\n",
      "사각형은 네 개의 변으로 이루어진 평면 도형입니다. 모든 내각이 직각(90도)이며, 반대편의 변들이 길이가 같아서 마주보는 두 변은 평행하고 길이가 동일합니다.\n",
      "\n",
      "**기본 성질:**\n",
      "1. **대변의 길이 동일:** 사각형의 마주보는 두 변은 길이가 같습니다. 예를 들어, 정사각형이나 직사각형에서는 모든 대변이 같은 길이를 가집니다.\n",
      "2. **대각선의 성질:** 사각형의 대각선은 서로를 반으로 나눕니다. 즉, 대각선이 만나는 점에서 대각선을 잇는 선분들은 서로를 절반으로 나눕니다.\n",
      "3. **변의 합:** 사각형의 네 변의 길이를 모두 더하면, 그 합은 사각형의 둘레를 나타냅니다. 예를 들어, 한 변의 길이가 \\(a\\)이고 다른 변의 길이가 \\(b\\)라면, 둘레는 \\(a + b + a + b = 2(a + b)\\)가 됩니다.\n",
      "4. **정사각형의 특징:** 정사각형은 모든 변의 길이가 같고 모든 내각이 직각인 특별한 사각형입니다. 모든 대각선도 길이가 같고 서로를 직각으로 이룹니다.\n",
      "\n",
      "이러한 성질들로 인해 사각형은 다양한 형태와 크기로 존재하며, 건축, 디자인, 그리고 일상생활에서 자주 볼 수 있는 도형입니다!\n",
      "\n",
      "생성된 공식 raw:\n",
      " {'perimeter': '4 \\\\times \\\\mathrm{한 변의 길이}', 'area': '\\\\mathrm{한 변의 길이} \\\\times \\\\mathrm{한 변의 길이}'}\n"
     ]
    },
    {
     "data": {
      "text/latex": [
       "$\\displaystyle 4 \\times \\mathrm{한 변의 길이}$"
      ],
      "text/plain": [
       "<IPython.core.display.Math object>"
      ]
     },
     "metadata": {},
     "output_type": "display_data"
    },
    {
     "data": {
      "text/latex": [
       "$\\displaystyle \\mathrm{한 변의 길이} \\times \\mathrm{한 변의 길이}$"
      ],
      "text/plain": [
       "<IPython.core.display.Math object>"
      ]
     },
     "metadata": {},
     "output_type": "display_data"
    },
    {
     "data": {
      "image/svg+xml": [
       "<svg xmlns=\"http://www.w3.org/2000/svg\" width=\"500\" height=\"500\">\n",
       "    <text x=\"250\" y=\"50\" font-size=\"25\" text-anchor=\"middle\">정사각형</text>\n",
       "    <rect x=\"100\" y=\"100\" width=\"200\" height=\"200\" stroke=\"black\" stroke-width=\"2\" fill=\"none\"/>\n",
       "    </svg>"
      ],
      "text/plain": [
       "<IPython.core.display.SVG object>"
      ]
     },
     "metadata": {},
     "output_type": "display_data"
    },
    {
     "name": "stdout",
     "output_type": "stream",
     "text": [
      "====================================================================================================\n",
      "요청한 문장: 곧은선이 뭐야?\n",
      "추출된 개념: 직선\n",
      "추출된 인자: {}\n",
      "\n",
      "생성된 코드:\n",
      " <svg width=\"500\" height=\"500\" xmlns=\"http://www.w3.org/2000/svg\">\n",
      "    <text x=\"250\" y=\"25\" font-size=\"25\" text-anchor=\"middle\">곧은선</text>\n",
      "    <text x=\"250\" y=\"75\" font-size=\"25\" text-anchor=\"middle\">선분</text>\n",
      "    <!-- 선분 -->\n",
      "    <circle cx=\"125\" cy=\"125\" r=\"1\" stroke=\"black\" stroke-width=\"2\" fill=\"black\" />\n",
      "    <circle cx=\"375\" cy=\"125\" r=\"1\" stroke=\"black\" stroke-width=\"2\" fill=\"black\" />\n",
      "    <line x1=\"125\" y1=\"125\" x2=\"375\" y2=\"125\" stroke=\"black\" stroke-width=\"2\" />\n",
      "    <!-- 반직선 -->\n",
      "    <text x=\"250\" y=\"175\" font-size=\"25\" text-anchor=\"middle\">반직선</text>\n",
      "    <circle cx=\"125\" cy=\"250\" r=\"1\" stroke=\"black\" stroke-width=\"2\" fill=\"black\" />\n",
      "    <circle cx=\"375\" cy=\"250\" r=\"1\" stroke=\"black\" stroke-width=\"2\" fill=\"black\" />\n",
      "    <line x1=\"125\" y1=\"250\" x2=\"500\" y2=\"250\" stroke=\"black\" stroke-width=\"2\" />\n",
      "    <!-- 직선 -->\n",
      "    <text x=\"250\" y=\"300\" font-size=\"25\" text-anchor=\"middle\">직선</text>\n",
      "    <circle cx=\"125\" cy=\"375\" r=\"1\" stroke=\"black\" stroke-width=\"2\" fill=\"black\" />\n",
      "    <circle cx=\"375\" cy=\"375\" r=\"1\" stroke=\"black\" stroke-width=\"2\" fill=\"black\" />\n",
      "    <line x1=\"0\" y1=\"375\" x2=\"500\" y2=\"375\" stroke=\"black\" stroke-width=\"2\" />\n",
      "    </svg>\n",
      "    \n",
      "\n",
      "생성된 설명:\n",
      " ### 직선에 대한 설명\n",
      "\n",
      "#### 정의\n",
      "직선은 평면 위에서 가장 짧은 거리로 두 점을 연결하는 선을 말합니다. 이 선은 양쪽으로 무한히 계속되며, 방향이 항상 일정합니다. 직선 위의 모든 점들은 서로 평행하게 연결되어 있어, 어떤 방향으로든 뻗어나갈 수 있습니다.\n",
      "\n",
      "#### 기본 성질\n",
      "1. **무한한 길이**: 직선은 양쪽으로 무한히 이어집니다. 즉, 시작점에서 끝점까지의 거리가 아무리 길어도 계속해서 뻗어나갈 수 있습니다.\n",
      "2. **평행한 선들**: 같은 방향으로 무한히 뻗어나가는 두 직선은 서로 평행합니다. 반대로, 서로 다른 방향으로 무한히 뻗어나가는 두 직선은 교차하지 않습니다.\n",
      "3. **직선 위의 점들**: 직선 위의 모든 점들은 서로 연결되어 있어, 어떤 두 점을 잇는 선분은 항상 직선의 일부분입니다.\n",
      "4. **직선의 대칭성**: 직선을 기준으로 대칭인 두 부분은 서로 완전히 일치합니다. 예를 들어, 한 점을 기준으로 대칭인 두 점은 직선 양쪽에 동일한 거리에 위치합니다.\n",
      "\n",
      "이러한 성질들로 인해 직선은 기하학에서 매우 중요한 개념으로 사용됩니다!\n"
     ]
    },
    {
     "data": {
      "image/svg+xml": [
       "<svg xmlns=\"http://www.w3.org/2000/svg\" width=\"500\" height=\"500\">\n",
       "    <text x=\"250\" y=\"25\" font-size=\"25\" text-anchor=\"middle\">곧은선</text>\n",
       "    <text x=\"250\" y=\"75\" font-size=\"25\" text-anchor=\"middle\">선분</text>\n",
       "    <!-- 선분 -->\n",
       "    <circle cx=\"125\" cy=\"125\" r=\"1\" stroke=\"black\" stroke-width=\"2\" fill=\"black\"/>\n",
       "    <circle cx=\"375\" cy=\"125\" r=\"1\" stroke=\"black\" stroke-width=\"2\" fill=\"black\"/>\n",
       "    <line x1=\"125\" y1=\"125\" x2=\"375\" y2=\"125\" stroke=\"black\" stroke-width=\"2\"/>\n",
       "    <!-- 반직선 -->\n",
       "    <text x=\"250\" y=\"175\" font-size=\"25\" text-anchor=\"middle\">반직선</text>\n",
       "    <circle cx=\"125\" cy=\"250\" r=\"1\" stroke=\"black\" stroke-width=\"2\" fill=\"black\"/>\n",
       "    <circle cx=\"375\" cy=\"250\" r=\"1\" stroke=\"black\" stroke-width=\"2\" fill=\"black\"/>\n",
       "    <line x1=\"125\" y1=\"250\" x2=\"500\" y2=\"250\" stroke=\"black\" stroke-width=\"2\"/>\n",
       "    <!-- 직선 -->\n",
       "    <text x=\"250\" y=\"300\" font-size=\"25\" text-anchor=\"middle\">직선</text>\n",
       "    <circle cx=\"125\" cy=\"375\" r=\"1\" stroke=\"black\" stroke-width=\"2\" fill=\"black\"/>\n",
       "    <circle cx=\"375\" cy=\"375\" r=\"1\" stroke=\"black\" stroke-width=\"2\" fill=\"black\"/>\n",
       "    <line x1=\"0\" y1=\"375\" x2=\"500\" y2=\"375\" stroke=\"black\" stroke-width=\"2\"/>\n",
       "    </svg>"
      ],
      "text/plain": [
       "<IPython.core.display.SVG object>"
      ]
     },
     "metadata": {},
     "output_type": "display_data"
    },
    {
     "name": "stdout",
     "output_type": "stream",
     "text": [
      "====================================================================================================\n",
      "요청한 문장: 대표적인 굽은선을 그려줘\n",
      "추출된 개념: 곡선\n",
      "추출된 인자: {'type': '타원', 'description': '타원은 가장 대표적인 굽은선의 한 종류로, 두 초점 사이의 거리의 합이 일정한 점들의 집합으로 정의됩니다.'}\n",
      "\n",
      "생성된 코드:\n",
      " \n",
      "    <svg width=\"500\" height=\"500\" xmlns=\"http://www.w3.org/2000/svg\">\n",
      "    <text x=\"250\" y=\"50\" font-size=\"25\" text-anchor=\"middle\">굽은선</text>\n",
      "    <!-- 복잡한 S자 곡선 (두 개의 Cubic Bézier) -->\n",
      "    <path d=\"M 100,400\n",
      "    C 100,100 400,100 400,250\n",
      "    C 400,400 100,400 100,100\"\n",
      "    stroke=\"black\" fill=\"none\" stroke-width=\"2\"/>\n",
      "    </svg>\n",
      "    \n",
      "\n",
      "생성된 설명:\n",
      " ### 곡선에 대한 설명\n",
      "\n",
      "**정의:**\n",
      "곡선은 직선이 아닌, 연속적으로 이어지는 점들의 모임으로 이루어진 도형입니다. 쉽게 말해, 직선처럼 일정한 방향으로만 움직이는 것이 아니라, 부드럽게 휘어지거나 굽어지는 형태를 가진 선을 말합니다.\n",
      "\n",
      "**기본 성질:**\n",
      "1. **연속성:** 곡선 위의 모든 점들은 부드럽게 이어져 있어, 어떤 작은 구간에서도 끊어지지 않고 이어집니다.\n",
      "2. **길이:** 곡선의 길이는 그 곡선을 따라 측정한 총 거리입니다. 이 길이는 곡선의 모양에 따라 달라집니다. 예를 들어, 원의 둘레는 반지름에 따라 결정되며, 이는 곡선의 길이를 정확히 계산하는 방법 중 하나입니다.\n",
      "3. **곡률:** 곡선이 얼마나 빠르게 방향을 바꾸는지를 나타내는 값입니다. 곡률이 크면 곡선이 더 급하게 굽어지고, 작으면 더 부드럽게 굽어집니다. 예를 들어, 원의 경우 모든 점에서 곡률이 일정합니다.\n",
      "4. **접선:** 곡선 위의 어떤 점에서 그 점을 지나는 가장 가까운 직선을 접선이라고 합니다. 이 접선은 그 점에서 곡선의 방향을 가장 잘 나타냅니다.\n",
      "\n",
      "이러한 성질들 덕분에 곡선은 자연 현상이나 공학적 설계 등 다양한 분야에서 중요한 역할을 합니다.\n"
     ]
    },
    {
     "data": {
      "image/svg+xml": [
       "<svg xmlns=\"http://www.w3.org/2000/svg\" width=\"500\" height=\"500\">\n",
       "    <text x=\"250\" y=\"50\" font-size=\"25\" text-anchor=\"middle\">굽은선</text>\n",
       "    <!-- 복잡한 S자 곡선 (두 개의 Cubic Bézier) -->\n",
       "    <path d=\"M 100,400     C 100,100 400,100 400,250     C 400,400 100,400 100,100\" stroke=\"black\" fill=\"none\" stroke-width=\"2\"/>\n",
       "    </svg>"
      ],
      "text/plain": [
       "<IPython.core.display.SVG object>"
      ]
     },
     "metadata": {},
     "output_type": "display_data"
    },
    {
     "name": "stdout",
     "output_type": "stream",
     "text": [
      "====================================================================================================\n",
      "요청한 문장: 중심이 (0,0)이고 반지름이 2인 원을 그려주세요.\n",
      "추출된 개념: Circle\n",
      "추출된 인자: {'radius': 2}\n",
      "\n",
      "생성된 코드:\n",
      " <svg width=\"500\" height=\"500\" xmlns=\"http://www.w3.org/2000/svg\">\n",
      "    <text x=\"250\" y=\"50\" font-size=\"25\" text-anchor=\"middle\">원</text>\n",
      "    <circle cx=\"250\" cy=\"250\" r=\"100\" stroke=\"black\" stroke-width=\"2\" fill=\"none\" />\n",
      "    <circle cx=\"250\" cy=\"250\" r=\"1\" stroke=\"black\" stroke-width=\"2\" fill=\"black\" />\n",
      "    <line x1=\"250\" y1=\"250\" x2=\"350\" y2=\"250\" stroke=\"black\" stroke-width=\"2\" />\n",
      "    </svg>\n",
      "    \n",
      "\n",
      "생성된 설명:\n",
      " ### Circle (원)\n",
      "\n",
      "#### 정의:\n",
      "원은 평면 위에서 한 점(중심)으로부터 일정한 거리(반지름)에 있는 모든 점들의 집합을 말합니다. 이 중심점을 기준으로 원 위의 모든 점들은 동일한 거리에 위치해 있습니다.\n",
      "\n",
      "#### 기본 성질:\n",
      "1. **둘레와 지름**: 원의 둘레는 지름에 π(약 3.14)를 곱한 값입니다. 즉, 둘레 = 지름 × π 입니다. 반대로 지름은 둘레를 π로 나누면 구할 수 있습니다.\n",
      "   \n",
      "2. **면적**: 원의 면적은 반지름의 제곱에 π를 곱한 값입니다. 공식으로 표현하면 면적 = π × 반지름2 입니다.\n",
      "\n",
      "3. **대칭성**: 원은 중심을 기준으로 완벽하게 대칭입니다. 즉, 중심을 지나는 어떤 직선을 기준으로 원을 접어도 양쪽이 완전히 일치합니다.\n",
      "\n",
      "4. **원주각과 호의 관계**: 원 위의 두 점을 잇는 호의 중앙각은 그 호에 대응하는 원주각의 두 배입니다. 예를 들어, 호의 중앙각이 θ라면 원주각은 θ/2가 됩니다.\n",
      "\n",
      "이러한 성질들로 인해 원은 기하학에서 매우 중요한 역할을 합니다. 다양한 도형과 문제 해결에 활용되며, 일상생활에서도 자주 접하게 되는 개념입니다.\n",
      "\n",
      "생성된 공식 raw:\n",
      " {'perimeter': '2 \\\\times 3.14 \\\\times 반지름', 'area': '3.14 \\\\times 반지름 \\\\times 반지름'}\n"
     ]
    },
    {
     "data": {
      "text/latex": [
       "$\\displaystyle 2 \\times 3.14 \\times 반지름$"
      ],
      "text/plain": [
       "<IPython.core.display.Math object>"
      ]
     },
     "metadata": {},
     "output_type": "display_data"
    },
    {
     "data": {
      "text/latex": [
       "$\\displaystyle 3.14 \\times 반지름 \\times 반지름$"
      ],
      "text/plain": [
       "<IPython.core.display.Math object>"
      ]
     },
     "metadata": {},
     "output_type": "display_data"
    },
    {
     "data": {
      "image/svg+xml": [
       "<svg xmlns=\"http://www.w3.org/2000/svg\" width=\"500\" height=\"500\">\n",
       "    <text x=\"250\" y=\"50\" font-size=\"25\" text-anchor=\"middle\">원</text>\n",
       "    <circle cx=\"250\" cy=\"250\" r=\"100\" stroke=\"black\" stroke-width=\"2\" fill=\"none\"/>\n",
       "    <circle cx=\"250\" cy=\"250\" r=\"1\" stroke=\"black\" stroke-width=\"2\" fill=\"black\"/>\n",
       "    <line x1=\"250\" y1=\"250\" x2=\"350\" y2=\"250\" stroke=\"black\" stroke-width=\"2\"/>\n",
       "    </svg>"
      ],
      "text/plain": [
       "<IPython.core.display.SVG object>"
      ]
     },
     "metadata": {},
     "output_type": "display_data"
    },
    {
     "name": "stdout",
     "output_type": "stream",
     "text": [
      "====================================================================================================\n",
      "요청한 문장: 37° 각도를 그려줘\n",
      "추출된 개념: 각도\n",
      "추출된 인자: {'size': 37}\n",
      "\n",
      "생성된 코드:\n",
      " <svg width=\"500\" height=\"375\" xmlns=\"http://www.w3.org/2000/svg\">\n",
      "    <text x=\"250\" y=\"50\" font-size=\"25\" text-anchor=\"middle\">각</text>\n",
      "    <!-- 기준선 -->\n",
      "    <line x1=\"125\" y1=\"333\" x2=\"375\" y2=\"333\" stroke=\"black\" stroke-width=\"2\" />\n",
      "    <!-- 기울어진 선 -->\n",
      "    <line x1=\"125\" y1=\"333\" x2=\"324.6588775118232\" y2=\"182.54624421198793\" stroke=\"black\" stroke-width=\"2\" />\n",
      "    <!-- 각도 호 -->\n",
      "    <path d=\"M 164.93177550236464,302.9092488423976 A 50,50 0 0,1 175,333\" stroke=\"black\" stroke-width=\"2\" fill=\"none\"/>\n",
      "    </svg>\n",
      "    \n",
      "\n",
      "생성된 설명:\n",
      " ### 각도에 대한 설명\n",
      "\n",
      "**정의:**\n",
      "각도는 두 직선이나 선분이 만나서 생기는 공간의 크기를 측정하는 방법입니다. 우리가 일상에서 자주 접하는 각도는 주로 도로 표지판에서 볼 수 있는 방향 지시나, 그림에서 선들이 만나는 부분을 표현할 때 사용됩니다.\n",
      "\n",
      "**기본 성질:**\n",
      "1. **직선의 각도:** 직선은 정확히 180도의 각도를 가집니다. 직선은 두 방향으로 무한히 이어지는 것처럼 보이지만, 실제로는 시작점과 끝점이 있습니다.\n",
      "   \n",
      "2. **직각 각도:** 직각은 90도를 의미합니다. 이는 우리가 흔히 사용하는 'L'자 모양의 모서리나 사각형의 모서리에서 볼 수 있습니다. 직각은 두 직선이 서로 수직으로 만나는 경우에 생깁니다.\n",
      "\n",
      "3. **평행선과 각도:** 평행한 두 직선은 만나지 않기 때문에, 그들 사이의 각도는 항상 같습니다. 예를 들어, 두 평행선 위에 그려진 삼각형의 한 각은 다른 각과 크기가 동일합니다.\n",
      "\n",
      "4. **복합 각도:** 여러 각도를 합쳐서 더 큰 각도를 만들 수 있습니다. 예를 들어, 두 개의 직각 각도를 합치면 180도가 됩니다.\n",
      "\n",
      "이러한 기본적인 개념들을 이해하면 각도에 대한 다양한 문제를 풀 때 도움이 될 것입니다!\n"
     ]
    },
    {
     "data": {
      "image/svg+xml": [
       "<svg xmlns=\"http://www.w3.org/2000/svg\" width=\"500\" height=\"375\">\n",
       "    <text x=\"250\" y=\"50\" font-size=\"25\" text-anchor=\"middle\">각</text>\n",
       "    <!-- 기준선 -->\n",
       "    <line x1=\"125\" y1=\"333\" x2=\"375\" y2=\"333\" stroke=\"black\" stroke-width=\"2\"/>\n",
       "    <!-- 기울어진 선 -->\n",
       "    <line x1=\"125\" y1=\"333\" x2=\"324.6588775118232\" y2=\"182.54624421198793\" stroke=\"black\" stroke-width=\"2\"/>\n",
       "    <!-- 각도 호 -->\n",
       "    <path d=\"M 164.93177550236464,302.9092488423976 A 50,50 0 0,1 175,333\" stroke=\"black\" stroke-width=\"2\" fill=\"none\"/>\n",
       "    </svg>"
      ],
      "text/plain": [
       "<IPython.core.display.SVG object>"
      ]
     },
     "metadata": {},
     "output_type": "display_data"
    },
    {
     "name": "stdout",
     "output_type": "stream",
     "text": [
      "====================================================================================================\n",
      "요청한 문장: 직각을 표현해줘\n",
      "추출된 개념: Right Angle\n",
      "추출된 인자: {}\n",
      "\n",
      "생성된 코드:\n",
      " <svg width=\"500\" height=\"500\" xmlns=\"http://www.w3.org/2000/svg\">\n",
      "    <text x=\"250\" y=\"50\" font-size=\"25\" text-anchor=\"middle\">직각</text>\n",
      "    <!-- 기준선 -->\n",
      "    <line x1=\"125\" y1=\"400\" x2=\"458\" y2=\"400\" stroke=\"black\" stroke-width=\"2\" />\n",
      "    <!-- 기울어진 선 -->\n",
      "    <line x1=\"125\" y1=\"400\" x2=\"125\" y2=\"67\" stroke=\"black\" stroke-width=\"2\" />\n",
      "    <!-- 직각 보조선 -->\n",
      "    <line x1=\"175\" y1=\"400\" x2=\"175\" y2=\"350\" stroke=\"black\" stroke-width=\"2\" />\n",
      "    <line x1=\"125\" y1=\"350\" x2=\"175\" y2=\"350\" stroke=\"black\" stroke-width=\"2\" />\n",
      "    </svg>\n",
      "    \n",
      "\n",
      "생성된 설명:\n",
      " ### Right Angle\n",
      "\n",
      "**정의:**\n",
      "Right Angle은 기하학에서 가장 기본적인 각도 중 하나로, 정확히 90도를 이루는 각도를 말합니다. 이 각도는 직각이라고도 불리며, 직선이나 특정 도형의 모서리에서 만나는 두 변이 서로 수직으로 만나는 경우에 나타납니다.\n",
      "\n",
      "**기본 성질:**\n",
      "1. **크기:** Right Angle은 항상 정확히 90도입니다. 이는 모든 Right Angle이 동일한 크기를 가짐을 의미합니다.\n",
      "2. **모양:** Right Angle은 보통 'L' 모양으로 쉽게 인식할 수 있습니다. 이 모양은 직각을 나타내는 데 자주 사용됩니다.\n",
      "3. **도형과의 관계:** 직각은 사각형, 직사각형, 정사각형 등 다양한 도형의 모서리에서 발견됩니다. 특히, 직사각형이나 정사각형은 네 개의 Right Angle을 가지고 있습니다.\n",
      "4. **삼각형과의 연관성:** 직각삼각형은 한 내각이 정확히 Right Angle인 삼각형을 의미합니다. 이 삼각형은 세 변의 길이 관계를 통해 피타고라스 정리를 적용할 수 있습니다.\n",
      "\n",
      "이러한 성질들로 인해 Right Angle은 수학에서 매우 중요한 개념으로 자리잡고 있습니다!\n"
     ]
    },
    {
     "data": {
      "image/svg+xml": [
       "<svg xmlns=\"http://www.w3.org/2000/svg\" width=\"500\" height=\"500\">\n",
       "    <text x=\"250\" y=\"50\" font-size=\"25\" text-anchor=\"middle\">직각</text>\n",
       "    <!-- 기준선 -->\n",
       "    <line x1=\"125\" y1=\"400\" x2=\"458\" y2=\"400\" stroke=\"black\" stroke-width=\"2\"/>\n",
       "    <!-- 기울어진 선 -->\n",
       "    <line x1=\"125\" y1=\"400\" x2=\"125\" y2=\"67\" stroke=\"black\" stroke-width=\"2\"/>\n",
       "    <!-- 직각 보조선 -->\n",
       "    <line x1=\"175\" y1=\"400\" x2=\"175\" y2=\"350\" stroke=\"black\" stroke-width=\"2\"/>\n",
       "    <line x1=\"125\" y1=\"350\" x2=\"175\" y2=\"350\" stroke=\"black\" stroke-width=\"2\"/>\n",
       "    </svg>"
      ],
      "text/plain": [
       "<IPython.core.display.SVG object>"
      ]
     },
     "metadata": {},
     "output_type": "display_data"
    },
    {
     "name": "stdout",
     "output_type": "stream",
     "text": [
      "====================================================================================================\n",
      "요청한 문장: 밑변이 3이고, 높이가 4인 직각삼각형 하나를 그려줘\n",
      "추출된 개념: Right Triangle\n",
      "추출된 인자: {'base': 3, 'height': 4}\n",
      "\n",
      "생성된 코드:\n",
      " <svg width=\"500\" height=\"500\" xmlns=\"http://www.w3.org/2000/svg\">\n",
      "    <text x=\"250\" y=\"50\" font-size=\"25\" text-anchor=\"middle\">직각삼각형</text>\n",
      "    <!-- 직각삼각형 -->\n",
      "    <line x1=\"83\" y1=\"416\" x2=\"308\" y2=\"416\" stroke=\"black\" stroke-width=\"2\" />\n",
      "    <line x1=\"308\" y1=\"416\" x2=\"308\" y2=\"166\" stroke=\"black\" stroke-width=\"2\" />\n",
      "    <line x1=\"83\" y1=\"416\" x2=\"308\" y2=\"166\" stroke=\"black\" stroke-width=\"2\" />\n",
      "    <!-- 직각 보조선 -->\n",
      "    <line x1=\"286\" y1=\"416\" x2=\"286\" y2=\"394\" stroke=\"black\" stroke-width=\"2\" />\n",
      "    <line x1=\"286\" y1=\"394\" x2=\"308\" y2=\"394\" stroke=\"black\" stroke-width=\"2\" />\n",
      "    </svg>\n",
      "    \n",
      "\n",
      "생성된 설명:\n",
      " ### Right Triangle\n",
      "\n",
      "**정의:**\n",
      "A right triangle is a special type of triangle that has one angle which measures exactly 90 degrees (a right angle). This unique angle distinguishes it from other triangles where all angles are less than 90 degrees.\n",
      "\n",
      "**기본 성질:**\n",
      "1. **한 각이 직각:** 가장 중요한 특징은 한 꼭짓점에서 직각(90°)을 이루는 것입니다.\n",
      "2. **직각을 중심으로 두 개의 다른 각:** 나머지 두 각은 합쳐 90도가 됩니다. 따라서 이 두 각은 서로 보완각(complementary angles)입니다.\n",
      "3. **피타고라스 정리 적용 가능:** 직각 삼각형에서는 가장 긴 변을 빗변(hypotenuse)이라고 부르며, 이 빗변의 길이는 다른 두 변(직각을 이루는 두 변을 밑변과 높이라고도 부릅니다)의 길이와 특별한 관계를 가집니다. 이 관계는 피타고라스 정리로 표현되는데, 수학적으로는 \\(a^2 + b^2 = c^2\\) 입니다 (여기서 \\(c\\)는 빗변의 길이이고, \\(a\\)와 \\(b\\)는 다른 두 변의 길이입니다). 하지만 문제 해결을 위해 직접적인 공식보다는 이 관계를 이해하는 것이 중요합니다.\n",
      "4. **삼각형의 종류:** 직각 삼각형은 그 각도에 따라 다양한 종류로 나눌 수 있습니다. 예를 들어, 모든 변의 길이가 정수인 직각 삼각형을 피타고라스 삼각형이라고 부르기도 합니다.\n",
      "\n",
      "이런 특징들로 인해 직각 삼각형은 건축, 공학, 그리고 다양한 실생활 문제 해결에서 매우 중요한 역할을 합니다!\n",
      "\n",
      "생성된 공식 raw:\n",
      " {'perimeter': '밑변 + 높이 + 빗변', 'area': '밑변 × 높이 ÷ 2'}\n"
     ]
    },
    {
     "data": {
      "text/latex": [
       "$\\displaystyle 밑변 + 높이 + 빗변$"
      ],
      "text/plain": [
       "<IPython.core.display.Math object>"
      ]
     },
     "metadata": {},
     "output_type": "display_data"
    },
    {
     "data": {
      "text/latex": [
       "$\\displaystyle 밑변 × 높이 ÷ 2$"
      ],
      "text/plain": [
       "<IPython.core.display.Math object>"
      ]
     },
     "metadata": {},
     "output_type": "display_data"
    },
    {
     "data": {
      "image/svg+xml": [
       "<svg xmlns=\"http://www.w3.org/2000/svg\" width=\"500\" height=\"500\">\n",
       "    <text x=\"250\" y=\"50\" font-size=\"25\" text-anchor=\"middle\">직각삼각형</text>\n",
       "    <!-- 직각삼각형 -->\n",
       "    <line x1=\"83\" y1=\"416\" x2=\"308\" y2=\"416\" stroke=\"black\" stroke-width=\"2\"/>\n",
       "    <line x1=\"308\" y1=\"416\" x2=\"308\" y2=\"166\" stroke=\"black\" stroke-width=\"2\"/>\n",
       "    <line x1=\"83\" y1=\"416\" x2=\"308\" y2=\"166\" stroke=\"black\" stroke-width=\"2\"/>\n",
       "    <!-- 직각 보조선 -->\n",
       "    <line x1=\"286\" y1=\"416\" x2=\"286\" y2=\"394\" stroke=\"black\" stroke-width=\"2\"/>\n",
       "    <line x1=\"286\" y1=\"394\" x2=\"308\" y2=\"394\" stroke=\"black\" stroke-width=\"2\"/>\n",
       "    </svg>"
      ],
      "text/plain": [
       "<IPython.core.display.SVG object>"
      ]
     },
     "metadata": {},
     "output_type": "display_data"
    },
    {
     "name": "stdout",
     "output_type": "stream",
     "text": [
      "====================================================================================================\n",
      "요청한 문장: 가로가 5, 세로가 3인 직사각형의 넓이\n",
      "추출된 개념: Rectangle\n",
      "추출된 인자: {'width': 5, 'height': 3}\n",
      "\n",
      "생성된 코드:\n",
      " <svg width=\"500\" height=\"312\" xmlns=\"http://www.w3.org/2000/svg\">\n",
      "    <text x=\"250\" y=\"50\" font-size=\"25\" text-anchor=\"middle\">직사각형</text>\n",
      "    <rect x=\"100\" y=\"100\" width=\"250\" height=\"150\" stroke=\"black\" stroke-width=\"2\" fill=\"none\" />\n",
      "    </svg>\n",
      "\n",
      "생성된 설명:\n",
      " ### Rectangle 설명\n",
      "\n",
      "**정의:**\n",
      "사각형은 네 개의 직선으로 둘러싸인 평면 도형으로, 각 내각이 직각(90도)인 특징을 가지고 있습니다. 즉, 사각형의 네 모서리는 모두 직각을 이루며, 대변이 평행하고 길이가 같은 특성을 갖습니다.\n",
      "\n",
      "**기본 성질:**\n",
      "1. **대변의 길이가 같음:** 사각형의 두 쌍의 대변은 길이가 동일합니다. 예를 들어, 가로와 세로가 같은 길이를 가집니다.\n",
      "2. **대각선이 서로 같음:** 사각형의 두 대각선은 길이가 같습니다. 즉, 사각형을 두 개의 동일한 삼각형으로 나눌 수 있습니다.\n",
      "3. **내각의 합:** 사각형의 네 내각의 합은 항상 360도입니다.\n",
      "4. **변의 배열:** 사각형은 여러 가지 형태로 배열될 수 있습니다. 예를 들어, 직사각형은 가로와 세로가 각각 다른 길이를 가질 수 있으며, 정사각형은 모든 변의 길이가 같고 모든 내각이 직각인 특별한 형태의 사각형입니다.\n",
      "\n",
      "이러한 성질들로 인해 사각형은 우리 일상생활에서 매우 흔하게 볼 수 있는 도형입니다!\n",
      "\n",
      "생성된 공식 raw:\n",
      " {'perimeter': '2 × (밑변 + 높이)', 'area': '밑변 × 높이'}\n"
     ]
    },
    {
     "data": {
      "text/latex": [
       "$\\displaystyle 2 × (밑변 + 높이)$"
      ],
      "text/plain": [
       "<IPython.core.display.Math object>"
      ]
     },
     "metadata": {},
     "output_type": "display_data"
    },
    {
     "data": {
      "text/latex": [
       "$\\displaystyle 밑변 × 높이$"
      ],
      "text/plain": [
       "<IPython.core.display.Math object>"
      ]
     },
     "metadata": {},
     "output_type": "display_data"
    },
    {
     "data": {
      "image/svg+xml": [
       "<svg xmlns=\"http://www.w3.org/2000/svg\" width=\"500\" height=\"312\">\n",
       "    <text x=\"250\" y=\"50\" font-size=\"25\" text-anchor=\"middle\">직사각형</text>\n",
       "    <rect x=\"100\" y=\"100\" width=\"250\" height=\"150\" stroke=\"black\" stroke-width=\"2\" fill=\"none\"/>\n",
       "    </svg>"
      ],
      "text/plain": [
       "<IPython.core.display.SVG object>"
      ]
     },
     "metadata": {},
     "output_type": "display_data"
    },
    {
     "name": "stdout",
     "output_type": "stream",
     "text": [
      "====================================================================================================\n",
      "요청한 문장: 한 변의 길이가 2인 정사각형 하나를 그려줘\n",
      "추출된 개념: Square\n",
      "추출된 인자: {'length': 2}\n",
      "\n",
      "생성된 코드:\n",
      " <svg width=\"500\" height=\"500\" xmlns=\"http://www.w3.org/2000/svg\">\n",
      "    <text x=\"250\" y=\"50\" font-size=\"25\" text-anchor=\"middle\">정사각형</text>\n",
      "    <rect x=\"100\" y=\"100\" width=\"200\" height=\"200\" stroke=\"black\" stroke-width=\"2\" fill=\"none\" />\n",
      "    </svg>\n",
      "\n",
      "생성된 설명:\n",
      " ### Square\n",
      "\n",
      "**정의:**\n",
      "사각형은 네 개의 변으로 이루어진 평면 도형입니다. 모든 내각이 직각(90도)이며, 반대편의 변들이 길이가 같아서 마주보는 두 변은 평행하고 길이가 동일합니다.\n",
      "\n",
      "**기본 성질:**\n",
      "1. **대변의 길이 동일:** 사각형의 마주보는 두 변은 길이가 같습니다. 예를 들어, 정사각형이나 직사각형에서는 모든 대변이 같은 길이를 가집니다.\n",
      "2. **대각선의 성질:** 사각형의 대각선은 서로를 반으로 나눕니다. 즉, 대각선이 만나는 점에서 대각선을 잇는 선분들은 서로를 절반으로 나눕니다.\n",
      "3. **변의 합:** 사각형의 네 변의 길이를 모두 더하면, 그 합은 사각형의 둘레를 나타냅니다. 예를 들어, 한 변의 길이가 \\(a\\)이고 다른 변의 길이가 \\(b\\)라면, 둘레는 \\(a + b + a + b = 2(a + b)\\)가 됩니다.\n",
      "4. **정사각형의 특징:** 정사각형은 모든 변의 길이가 같고 모든 내각이 직각인 특별한 사각형입니다. 모든 대각선도 길이가 같고 서로를 직각으로 이룹니다.\n",
      "\n",
      "이러한 성질들로 인해 사각형은 다양한 형태와 크기로 존재하며, 건축, 디자인, 그리고 일상생활에서 자주 볼 수 있는 도형입니다!\n",
      "\n",
      "생성된 공식 raw:\n",
      " {'perimeter': '4 \\\\times \\\\mathrm{한 변의 길이}', 'area': '\\\\mathrm{한 변의 길이} \\\\times \\\\mathrm{한 변의 길이}'}\n"
     ]
    },
    {
     "data": {
      "text/latex": [
       "$\\displaystyle 4 \\times \\mathrm{한 변의 길이}$"
      ],
      "text/plain": [
       "<IPython.core.display.Math object>"
      ]
     },
     "metadata": {},
     "output_type": "display_data"
    },
    {
     "data": {
      "text/latex": [
       "$\\displaystyle \\mathrm{한 변의 길이} \\times \\mathrm{한 변의 길이}$"
      ],
      "text/plain": [
       "<IPython.core.display.Math object>"
      ]
     },
     "metadata": {},
     "output_type": "display_data"
    },
    {
     "data": {
      "image/svg+xml": [
       "<svg xmlns=\"http://www.w3.org/2000/svg\" width=\"500\" height=\"500\">\n",
       "    <text x=\"250\" y=\"50\" font-size=\"25\" text-anchor=\"middle\">정사각형</text>\n",
       "    <rect x=\"100\" y=\"100\" width=\"200\" height=\"200\" stroke=\"black\" stroke-width=\"2\" fill=\"none\"/>\n",
       "    </svg>"
      ],
      "text/plain": [
       "<IPython.core.display.SVG object>"
      ]
     },
     "metadata": {},
     "output_type": "display_data"
    },
    {
     "name": "stdout",
     "output_type": "stream",
     "text": [
      "====================================================================================================\n",
      "요청한 문장: 곧은선이 뭐야?\n",
      "추출된 개념: 직선\n",
      "추출된 인자: {}\n",
      "\n",
      "생성된 코드:\n",
      " <svg width=\"500\" height=\"500\" xmlns=\"http://www.w3.org/2000/svg\">\n",
      "    <text x=\"250\" y=\"25\" font-size=\"25\" text-anchor=\"middle\">곧은선</text>\n",
      "    <text x=\"250\" y=\"75\" font-size=\"25\" text-anchor=\"middle\">선분</text>\n",
      "    <!-- 선분 -->\n",
      "    <circle cx=\"125\" cy=\"125\" r=\"1\" stroke=\"black\" stroke-width=\"2\" fill=\"black\" />\n",
      "    <circle cx=\"375\" cy=\"125\" r=\"1\" stroke=\"black\" stroke-width=\"2\" fill=\"black\" />\n",
      "    <line x1=\"125\" y1=\"125\" x2=\"375\" y2=\"125\" stroke=\"black\" stroke-width=\"2\" />\n",
      "    <!-- 반직선 -->\n",
      "    <text x=\"250\" y=\"175\" font-size=\"25\" text-anchor=\"middle\">반직선</text>\n",
      "    <circle cx=\"125\" cy=\"250\" r=\"1\" stroke=\"black\" stroke-width=\"2\" fill=\"black\" />\n",
      "    <circle cx=\"375\" cy=\"250\" r=\"1\" stroke=\"black\" stroke-width=\"2\" fill=\"black\" />\n",
      "    <line x1=\"125\" y1=\"250\" x2=\"500\" y2=\"250\" stroke=\"black\" stroke-width=\"2\" />\n",
      "    <!-- 직선 -->\n",
      "    <text x=\"250\" y=\"300\" font-size=\"25\" text-anchor=\"middle\">직선</text>\n",
      "    <circle cx=\"125\" cy=\"375\" r=\"1\" stroke=\"black\" stroke-width=\"2\" fill=\"black\" />\n",
      "    <circle cx=\"375\" cy=\"375\" r=\"1\" stroke=\"black\" stroke-width=\"2\" fill=\"black\" />\n",
      "    <line x1=\"0\" y1=\"375\" x2=\"500\" y2=\"375\" stroke=\"black\" stroke-width=\"2\" />\n",
      "    </svg>\n",
      "    \n",
      "\n",
      "생성된 설명:\n",
      " ### 직선에 대한 설명\n",
      "\n",
      "#### 정의\n",
      "직선은 평면 위에서 가장 짧은 거리로 두 점을 연결하는 선을 말합니다. 이 선은 양쪽으로 무한히 계속되며, 방향이 항상 일정합니다. 직선 위의 모든 점들은 서로 평행하게 연결되어 있어, 어떤 방향으로든 뻗어나갈 수 있습니다.\n",
      "\n",
      "#### 기본 성질\n",
      "1. **무한한 길이**: 직선은 양쪽으로 무한히 이어집니다. 즉, 시작점에서 끝점까지의 거리가 아무리 길어도 계속해서 뻗어나갈 수 있습니다.\n",
      "2. **평행한 선들**: 같은 방향으로 무한히 뻗어나가는 두 직선은 서로 평행합니다. 반대로, 서로 다른 방향으로 무한히 뻗어나가는 두 직선은 교차하지 않습니다.\n",
      "3. **직선 위의 점들**: 직선 위의 모든 점들은 서로 연결되어 있어, 어떤 두 점을 잇는 선분은 항상 직선의 일부분입니다.\n",
      "4. **직선의 대칭성**: 직선을 기준으로 대칭인 두 부분은 서로 완전히 일치합니다. 예를 들어, 한 점을 기준으로 대칭인 두 점은 직선 양쪽에 동일한 거리에 위치합니다.\n",
      "\n",
      "이러한 성질들로 인해 직선은 기하학에서 매우 중요한 개념으로 사용됩니다!\n"
     ]
    },
    {
     "data": {
      "image/svg+xml": [
       "<svg xmlns=\"http://www.w3.org/2000/svg\" width=\"500\" height=\"500\">\n",
       "    <text x=\"250\" y=\"25\" font-size=\"25\" text-anchor=\"middle\">곧은선</text>\n",
       "    <text x=\"250\" y=\"75\" font-size=\"25\" text-anchor=\"middle\">선분</text>\n",
       "    <!-- 선분 -->\n",
       "    <circle cx=\"125\" cy=\"125\" r=\"1\" stroke=\"black\" stroke-width=\"2\" fill=\"black\"/>\n",
       "    <circle cx=\"375\" cy=\"125\" r=\"1\" stroke=\"black\" stroke-width=\"2\" fill=\"black\"/>\n",
       "    <line x1=\"125\" y1=\"125\" x2=\"375\" y2=\"125\" stroke=\"black\" stroke-width=\"2\"/>\n",
       "    <!-- 반직선 -->\n",
       "    <text x=\"250\" y=\"175\" font-size=\"25\" text-anchor=\"middle\">반직선</text>\n",
       "    <circle cx=\"125\" cy=\"250\" r=\"1\" stroke=\"black\" stroke-width=\"2\" fill=\"black\"/>\n",
       "    <circle cx=\"375\" cy=\"250\" r=\"1\" stroke=\"black\" stroke-width=\"2\" fill=\"black\"/>\n",
       "    <line x1=\"125\" y1=\"250\" x2=\"500\" y2=\"250\" stroke=\"black\" stroke-width=\"2\"/>\n",
       "    <!-- 직선 -->\n",
       "    <text x=\"250\" y=\"300\" font-size=\"25\" text-anchor=\"middle\">직선</text>\n",
       "    <circle cx=\"125\" cy=\"375\" r=\"1\" stroke=\"black\" stroke-width=\"2\" fill=\"black\"/>\n",
       "    <circle cx=\"375\" cy=\"375\" r=\"1\" stroke=\"black\" stroke-width=\"2\" fill=\"black\"/>\n",
       "    <line x1=\"0\" y1=\"375\" x2=\"500\" y2=\"375\" stroke=\"black\" stroke-width=\"2\"/>\n",
       "    </svg>"
      ],
      "text/plain": [
       "<IPython.core.display.SVG object>"
      ]
     },
     "metadata": {},
     "output_type": "display_data"
    },
    {
     "name": "stdout",
     "output_type": "stream",
     "text": [
      "====================================================================================================\n",
      "요청한 문장: 대표적인 굽은선을 그려줘\n",
      "추출된 개념: 곡선\n",
      "추출된 인자: {'type': '타원', 'description': '타원은 가장 대표적인 굽은선의 한 종류로, 두 초점 사이의 거리의 합이 일정한 점들의 집합으로 정의됩니다.'}\n",
      "\n",
      "생성된 코드:\n",
      " \n",
      "    <svg width=\"500\" height=\"500\" xmlns=\"http://www.w3.org/2000/svg\">\n",
      "    <text x=\"250\" y=\"50\" font-size=\"25\" text-anchor=\"middle\">굽은선</text>\n",
      "    <!-- 복잡한 S자 곡선 (두 개의 Cubic Bézier) -->\n",
      "    <path d=\"M 100,400\n",
      "    C 100,100 400,100 400,250\n",
      "    C 400,400 100,400 100,100\"\n",
      "    stroke=\"black\" fill=\"none\" stroke-width=\"2\"/>\n",
      "    </svg>\n",
      "    \n",
      "\n",
      "생성된 설명:\n",
      " ### 곡선에 대한 설명\n",
      "\n",
      "**정의:**\n",
      "곡선은 직선이 아닌, 연속적으로 이어지는 점들의 모임으로 이루어진 도형입니다. 쉽게 말해, 직선처럼 일정한 방향으로만 움직이는 것이 아니라, 부드럽게 휘어지거나 굽어지는 형태를 가진 선을 말합니다.\n",
      "\n",
      "**기본 성질:**\n",
      "1. **연속성:** 곡선 위의 모든 점들은 부드럽게 이어져 있어, 어떤 작은 구간에서도 끊어지지 않고 이어집니다.\n",
      "2. **길이:** 곡선의 길이는 그 곡선을 따라 측정한 총 거리입니다. 이 길이는 곡선의 모양에 따라 달라집니다. 예를 들어, 원의 둘레는 반지름에 따라 결정되며, 이는 곡선의 길이를 정확히 계산하는 방법 중 하나입니다.\n",
      "3. **곡률:** 곡선이 얼마나 빠르게 방향을 바꾸는지를 나타내는 값입니다. 곡률이 크면 곡선이 더 급하게 굽어지고, 작으면 더 부드럽게 굽어집니다. 예를 들어, 원의 경우 모든 점에서 곡률이 일정합니다.\n",
      "4. **접선:** 곡선 위의 어떤 점에서 그 점을 지나는 가장 가까운 직선을 접선이라고 합니다. 이 접선은 그 점에서 곡선의 방향을 가장 잘 나타냅니다.\n",
      "\n",
      "이러한 성질들 덕분에 곡선은 자연 현상이나 공학적 설계 등 다양한 분야에서 중요한 역할을 합니다.\n"
     ]
    },
    {
     "data": {
      "image/svg+xml": [
       "<svg xmlns=\"http://www.w3.org/2000/svg\" width=\"500\" height=\"500\">\n",
       "    <text x=\"250\" y=\"50\" font-size=\"25\" text-anchor=\"middle\">굽은선</text>\n",
       "    <!-- 복잡한 S자 곡선 (두 개의 Cubic Bézier) -->\n",
       "    <path d=\"M 100,400     C 100,100 400,100 400,250     C 400,400 100,400 100,100\" stroke=\"black\" fill=\"none\" stroke-width=\"2\"/>\n",
       "    </svg>"
      ],
      "text/plain": [
       "<IPython.core.display.SVG object>"
      ]
     },
     "metadata": {},
     "output_type": "display_data"
    },
    {
     "name": "stdout",
     "output_type": "stream",
     "text": [
      "====================================================================================================\n",
      "요청한 문장: 중심이 (0,0)이고 반지름이 2인 원을 그려주세요.\n",
      "추출된 개념: Circle\n",
      "추출된 인자: {'radius': 2}\n",
      "\n",
      "생성된 코드:\n",
      " <svg width=\"500\" height=\"500\" xmlns=\"http://www.w3.org/2000/svg\">\n",
      "    <text x=\"250\" y=\"50\" font-size=\"25\" text-anchor=\"middle\">원</text>\n",
      "    <circle cx=\"250\" cy=\"250\" r=\"100\" stroke=\"black\" stroke-width=\"2\" fill=\"none\" />\n",
      "    <circle cx=\"250\" cy=\"250\" r=\"1\" stroke=\"black\" stroke-width=\"2\" fill=\"black\" />\n",
      "    <line x1=\"250\" y1=\"250\" x2=\"350\" y2=\"250\" stroke=\"black\" stroke-width=\"2\" />\n",
      "    </svg>\n",
      "    \n",
      "\n",
      "생성된 설명:\n",
      " ### Circle (원)\n",
      "\n",
      "#### 정의:\n",
      "원은 평면 위에서 한 점(중심)으로부터 일정한 거리(반지름)에 있는 모든 점들의 집합을 말합니다. 이 중심점을 기준으로 원 위의 모든 점들은 동일한 거리에 위치해 있습니다.\n",
      "\n",
      "#### 기본 성질:\n",
      "1. **둘레와 지름**: 원의 둘레는 지름에 π(약 3.14)를 곱한 값입니다. 즉, 둘레 = 지름 × π 입니다. 반대로 지름은 둘레를 π로 나누면 구할 수 있습니다.\n",
      "   \n",
      "2. **면적**: 원의 면적은 반지름의 제곱에 π를 곱한 값입니다. 공식으로 표현하면 면적 = π × 반지름2 입니다.\n",
      "\n",
      "3. **대칭성**: 원은 중심을 기준으로 완벽하게 대칭입니다. 즉, 중심을 지나는 어떤 직선을 기준으로 원을 접어도 양쪽이 완전히 일치합니다.\n",
      "\n",
      "4. **원주각과 호의 관계**: 원 위의 두 점을 잇는 호의 중앙각은 그 호에 대응하는 원주각의 두 배입니다. 예를 들어, 호의 중앙각이 θ라면 원주각은 θ/2가 됩니다.\n",
      "\n",
      "이러한 성질들로 인해 원은 기하학에서 매우 중요한 역할을 합니다. 다양한 도형과 문제 해결에 활용되며, 일상생활에서도 자주 접하게 되는 개념입니다.\n",
      "\n",
      "생성된 공식 raw:\n",
      " {'perimeter': '2 \\\\times 3.14 \\\\times 반지름', 'area': '3.14 \\\\times 반지름 \\\\times 반지름'}\n"
     ]
    },
    {
     "data": {
      "text/latex": [
       "$\\displaystyle 2 \\times 3.14 \\times 반지름$"
      ],
      "text/plain": [
       "<IPython.core.display.Math object>"
      ]
     },
     "metadata": {},
     "output_type": "display_data"
    },
    {
     "data": {
      "text/latex": [
       "$\\displaystyle 3.14 \\times 반지름 \\times 반지름$"
      ],
      "text/plain": [
       "<IPython.core.display.Math object>"
      ]
     },
     "metadata": {},
     "output_type": "display_data"
    },
    {
     "data": {
      "image/svg+xml": [
       "<svg xmlns=\"http://www.w3.org/2000/svg\" width=\"500\" height=\"500\">\n",
       "    <text x=\"250\" y=\"50\" font-size=\"25\" text-anchor=\"middle\">원</text>\n",
       "    <circle cx=\"250\" cy=\"250\" r=\"100\" stroke=\"black\" stroke-width=\"2\" fill=\"none\"/>\n",
       "    <circle cx=\"250\" cy=\"250\" r=\"1\" stroke=\"black\" stroke-width=\"2\" fill=\"black\"/>\n",
       "    <line x1=\"250\" y1=\"250\" x2=\"350\" y2=\"250\" stroke=\"black\" stroke-width=\"2\"/>\n",
       "    </svg>"
      ],
      "text/plain": [
       "<IPython.core.display.SVG object>"
      ]
     },
     "metadata": {},
     "output_type": "display_data"
    },
    {
     "name": "stdout",
     "output_type": "stream",
     "text": [
      "====================================================================================================\n",
      "요청한 문장: 37° 각도를 그려줘\n",
      "추출된 개념: 각도\n",
      "추출된 인자: {'size': 37}\n",
      "\n",
      "생성된 코드:\n",
      " <svg width=\"500\" height=\"375\" xmlns=\"http://www.w3.org/2000/svg\">\n",
      "    <text x=\"250\" y=\"50\" font-size=\"25\" text-anchor=\"middle\">각</text>\n",
      "    <!-- 기준선 -->\n",
      "    <line x1=\"125\" y1=\"333\" x2=\"375\" y2=\"333\" stroke=\"black\" stroke-width=\"2\" />\n",
      "    <!-- 기울어진 선 -->\n",
      "    <line x1=\"125\" y1=\"333\" x2=\"324.6588775118232\" y2=\"182.54624421198793\" stroke=\"black\" stroke-width=\"2\" />\n",
      "    <!-- 각도 호 -->\n",
      "    <path d=\"M 164.93177550236464,302.9092488423976 A 50,50 0 0,1 175,333\" stroke=\"black\" stroke-width=\"2\" fill=\"none\"/>\n",
      "    </svg>\n",
      "    \n",
      "\n",
      "생성된 설명:\n",
      " ### 각도에 대한 설명\n",
      "\n",
      "**정의:**\n",
      "각도는 두 직선이나 선분이 만나서 생기는 공간의 크기를 측정하는 방법입니다. 우리가 일상에서 자주 접하는 각도는 주로 도로 표지판에서 볼 수 있는 방향 지시나, 그림에서 선들이 만나는 부분을 표현할 때 사용됩니다.\n",
      "\n",
      "**기본 성질:**\n",
      "1. **직선의 각도:** 직선은 정확히 180도의 각도를 가집니다. 직선은 두 방향으로 무한히 이어지는 것처럼 보이지만, 실제로는 시작점과 끝점이 있습니다.\n",
      "   \n",
      "2. **직각 각도:** 직각은 90도를 의미합니다. 이는 우리가 흔히 사용하는 'L'자 모양의 모서리나 사각형의 모서리에서 볼 수 있습니다. 직각은 두 직선이 서로 수직으로 만나는 경우에 생깁니다.\n",
      "\n",
      "3. **평행선과 각도:** 평행한 두 직선은 만나지 않기 때문에, 그들 사이의 각도는 항상 같습니다. 예를 들어, 두 평행선 위에 그려진 삼각형의 한 각은 다른 각과 크기가 동일합니다.\n",
      "\n",
      "4. **복합 각도:** 여러 각도를 합쳐서 더 큰 각도를 만들 수 있습니다. 예를 들어, 두 개의 직각 각도를 합치면 180도가 됩니다.\n",
      "\n",
      "이러한 기본적인 개념들을 이해하면 각도에 대한 다양한 문제를 풀 때 도움이 될 것입니다!\n"
     ]
    },
    {
     "data": {
      "image/svg+xml": [
       "<svg xmlns=\"http://www.w3.org/2000/svg\" width=\"500\" height=\"375\">\n",
       "    <text x=\"250\" y=\"50\" font-size=\"25\" text-anchor=\"middle\">각</text>\n",
       "    <!-- 기준선 -->\n",
       "    <line x1=\"125\" y1=\"333\" x2=\"375\" y2=\"333\" stroke=\"black\" stroke-width=\"2\"/>\n",
       "    <!-- 기울어진 선 -->\n",
       "    <line x1=\"125\" y1=\"333\" x2=\"324.6588775118232\" y2=\"182.54624421198793\" stroke=\"black\" stroke-width=\"2\"/>\n",
       "    <!-- 각도 호 -->\n",
       "    <path d=\"M 164.93177550236464,302.9092488423976 A 50,50 0 0,1 175,333\" stroke=\"black\" stroke-width=\"2\" fill=\"none\"/>\n",
       "    </svg>"
      ],
      "text/plain": [
       "<IPython.core.display.SVG object>"
      ]
     },
     "metadata": {},
     "output_type": "display_data"
    },
    {
     "name": "stdout",
     "output_type": "stream",
     "text": [
      "====================================================================================================\n",
      "요청한 문장: 직각을 표현해줘\n",
      "추출된 개념: Right Angle\n",
      "추출된 인자: {}\n",
      "\n",
      "생성된 코드:\n",
      " <svg width=\"500\" height=\"500\" xmlns=\"http://www.w3.org/2000/svg\">\n",
      "    <text x=\"250\" y=\"50\" font-size=\"25\" text-anchor=\"middle\">직각</text>\n",
      "    <!-- 기준선 -->\n",
      "    <line x1=\"125\" y1=\"400\" x2=\"458\" y2=\"400\" stroke=\"black\" stroke-width=\"2\" />\n",
      "    <!-- 기울어진 선 -->\n",
      "    <line x1=\"125\" y1=\"400\" x2=\"125\" y2=\"67\" stroke=\"black\" stroke-width=\"2\" />\n",
      "    <!-- 직각 보조선 -->\n",
      "    <line x1=\"175\" y1=\"400\" x2=\"175\" y2=\"350\" stroke=\"black\" stroke-width=\"2\" />\n",
      "    <line x1=\"125\" y1=\"350\" x2=\"175\" y2=\"350\" stroke=\"black\" stroke-width=\"2\" />\n",
      "    </svg>\n",
      "    \n",
      "\n",
      "생성된 설명:\n",
      " ### Right Angle\n",
      "\n",
      "**정의:**\n",
      "Right Angle은 기하학에서 가장 기본적인 각도 중 하나로, 정확히 90도를 이루는 각도를 말합니다. 이 각도는 직각이라고도 불리며, 직선이나 특정 도형의 모서리에서 만나는 두 변이 서로 수직으로 만나는 경우에 나타납니다.\n",
      "\n",
      "**기본 성질:**\n",
      "1. **크기:** Right Angle은 항상 정확히 90도입니다. 이는 모든 Right Angle이 동일한 크기를 가짐을 의미합니다.\n",
      "2. **모양:** Right Angle은 보통 'L' 모양으로 쉽게 인식할 수 있습니다. 이 모양은 직각을 나타내는 데 자주 사용됩니다.\n",
      "3. **도형과의 관계:** 직각은 사각형, 직사각형, 정사각형 등 다양한 도형의 모서리에서 발견됩니다. 특히, 직사각형이나 정사각형은 네 개의 Right Angle을 가지고 있습니다.\n",
      "4. **삼각형과의 연관성:** 직각삼각형은 한 내각이 정확히 Right Angle인 삼각형을 의미합니다. 이 삼각형은 세 변의 길이 관계를 통해 피타고라스 정리를 적용할 수 있습니다.\n",
      "\n",
      "이러한 성질들로 인해 Right Angle은 수학에서 매우 중요한 개념으로 자리잡고 있습니다!\n"
     ]
    },
    {
     "data": {
      "image/svg+xml": [
       "<svg xmlns=\"http://www.w3.org/2000/svg\" width=\"500\" height=\"500\">\n",
       "    <text x=\"250\" y=\"50\" font-size=\"25\" text-anchor=\"middle\">직각</text>\n",
       "    <!-- 기준선 -->\n",
       "    <line x1=\"125\" y1=\"400\" x2=\"458\" y2=\"400\" stroke=\"black\" stroke-width=\"2\"/>\n",
       "    <!-- 기울어진 선 -->\n",
       "    <line x1=\"125\" y1=\"400\" x2=\"125\" y2=\"67\" stroke=\"black\" stroke-width=\"2\"/>\n",
       "    <!-- 직각 보조선 -->\n",
       "    <line x1=\"175\" y1=\"400\" x2=\"175\" y2=\"350\" stroke=\"black\" stroke-width=\"2\"/>\n",
       "    <line x1=\"125\" y1=\"350\" x2=\"175\" y2=\"350\" stroke=\"black\" stroke-width=\"2\"/>\n",
       "    </svg>"
      ],
      "text/plain": [
       "<IPython.core.display.SVG object>"
      ]
     },
     "metadata": {},
     "output_type": "display_data"
    },
    {
     "name": "stdout",
     "output_type": "stream",
     "text": [
      "====================================================================================================\n",
      "요청한 문장: 밑변이 3이고, 높이가 4인 직각삼각형 하나를 그려줘\n",
      "추출된 개념: Right Triangle\n",
      "추출된 인자: {'base': 3, 'height': 4}\n",
      "\n",
      "생성된 코드:\n",
      " <svg width=\"500\" height=\"500\" xmlns=\"http://www.w3.org/2000/svg\">\n",
      "    <text x=\"250\" y=\"50\" font-size=\"25\" text-anchor=\"middle\">직각삼각형</text>\n",
      "    <!-- 직각삼각형 -->\n",
      "    <line x1=\"83\" y1=\"416\" x2=\"308\" y2=\"416\" stroke=\"black\" stroke-width=\"2\" />\n",
      "    <line x1=\"308\" y1=\"416\" x2=\"308\" y2=\"166\" stroke=\"black\" stroke-width=\"2\" />\n",
      "    <line x1=\"83\" y1=\"416\" x2=\"308\" y2=\"166\" stroke=\"black\" stroke-width=\"2\" />\n",
      "    <!-- 직각 보조선 -->\n",
      "    <line x1=\"286\" y1=\"416\" x2=\"286\" y2=\"394\" stroke=\"black\" stroke-width=\"2\" />\n",
      "    <line x1=\"286\" y1=\"394\" x2=\"308\" y2=\"394\" stroke=\"black\" stroke-width=\"2\" />\n",
      "    </svg>\n",
      "    \n",
      "\n",
      "생성된 설명:\n",
      " ### Right Triangle\n",
      "\n",
      "**정의:**\n",
      "A right triangle is a special type of triangle that has one angle which measures exactly 90 degrees (a right angle). This unique angle distinguishes it from other triangles where all angles are less than 90 degrees.\n",
      "\n",
      "**기본 성질:**\n",
      "1. **한 각이 직각:** 가장 중요한 특징은 한 꼭짓점에서 직각(90°)을 이루는 것입니다.\n",
      "2. **직각을 중심으로 두 개의 다른 각:** 나머지 두 각은 합쳐 90도가 됩니다. 따라서 이 두 각은 서로 보완각(complementary angles)입니다.\n",
      "3. **피타고라스 정리 적용 가능:** 직각 삼각형에서는 가장 긴 변을 빗변(hypotenuse)이라고 부르며, 이 빗변의 길이는 다른 두 변(직각을 이루는 두 변을 밑변과 높이라고도 부릅니다)의 길이와 특별한 관계를 가집니다. 이 관계는 피타고라스 정리로 표현되는데, 수학적으로는 \\(a^2 + b^2 = c^2\\) 입니다 (여기서 \\(c\\)는 빗변의 길이이고, \\(a\\)와 \\(b\\)는 다른 두 변의 길이입니다). 하지만 문제 해결을 위해 직접적인 공식보다는 이 관계를 이해하는 것이 중요합니다.\n",
      "4. **삼각형의 종류:** 직각 삼각형은 그 각도에 따라 다양한 종류로 나눌 수 있습니다. 예를 들어, 모든 변의 길이가 정수인 직각 삼각형을 피타고라스 삼각형이라고 부르기도 합니다.\n",
      "\n",
      "이런 특징들로 인해 직각 삼각형은 건축, 공학, 그리고 다양한 실생활 문제 해결에서 매우 중요한 역할을 합니다!\n",
      "\n",
      "생성된 공식 raw:\n",
      " {'perimeter': '밑변 + 높이 + 빗변', 'area': '밑변 × 높이 ÷ 2'}\n"
     ]
    },
    {
     "data": {
      "text/latex": [
       "$\\displaystyle 밑변 + 높이 + 빗변$"
      ],
      "text/plain": [
       "<IPython.core.display.Math object>"
      ]
     },
     "metadata": {},
     "output_type": "display_data"
    },
    {
     "data": {
      "text/latex": [
       "$\\displaystyle 밑변 × 높이 ÷ 2$"
      ],
      "text/plain": [
       "<IPython.core.display.Math object>"
      ]
     },
     "metadata": {},
     "output_type": "display_data"
    },
    {
     "data": {
      "image/svg+xml": [
       "<svg xmlns=\"http://www.w3.org/2000/svg\" width=\"500\" height=\"500\">\n",
       "    <text x=\"250\" y=\"50\" font-size=\"25\" text-anchor=\"middle\">직각삼각형</text>\n",
       "    <!-- 직각삼각형 -->\n",
       "    <line x1=\"83\" y1=\"416\" x2=\"308\" y2=\"416\" stroke=\"black\" stroke-width=\"2\"/>\n",
       "    <line x1=\"308\" y1=\"416\" x2=\"308\" y2=\"166\" stroke=\"black\" stroke-width=\"2\"/>\n",
       "    <line x1=\"83\" y1=\"416\" x2=\"308\" y2=\"166\" stroke=\"black\" stroke-width=\"2\"/>\n",
       "    <!-- 직각 보조선 -->\n",
       "    <line x1=\"286\" y1=\"416\" x2=\"286\" y2=\"394\" stroke=\"black\" stroke-width=\"2\"/>\n",
       "    <line x1=\"286\" y1=\"394\" x2=\"308\" y2=\"394\" stroke=\"black\" stroke-width=\"2\"/>\n",
       "    </svg>"
      ],
      "text/plain": [
       "<IPython.core.display.SVG object>"
      ]
     },
     "metadata": {},
     "output_type": "display_data"
    },
    {
     "name": "stdout",
     "output_type": "stream",
     "text": [
      "====================================================================================================\n",
      "요청한 문장: 가로가 5, 세로가 3인 직사각형의 넓이\n",
      "추출된 개념: Rectangle\n",
      "추출된 인자: {'width': 5, 'height': 3}\n",
      "\n",
      "생성된 코드:\n",
      " <svg width=\"500\" height=\"312\" xmlns=\"http://www.w3.org/2000/svg\">\n",
      "    <text x=\"250\" y=\"50\" font-size=\"25\" text-anchor=\"middle\">직사각형</text>\n",
      "    <rect x=\"100\" y=\"100\" width=\"250\" height=\"150\" stroke=\"black\" stroke-width=\"2\" fill=\"none\" />\n",
      "    </svg>\n",
      "\n",
      "생성된 설명:\n",
      " ### Rectangle 설명\n",
      "\n",
      "**정의:**\n",
      "사각형은 네 개의 직선으로 둘러싸인 평면 도형으로, 각 내각이 직각(90도)인 특징을 가지고 있습니다. 즉, 사각형의 네 모서리는 모두 직각을 이루며, 대변이 평행하고 길이가 같은 특성을 갖습니다.\n",
      "\n",
      "**기본 성질:**\n",
      "1. **대변의 길이가 같음:** 사각형의 두 쌍의 대변은 길이가 동일합니다. 예를 들어, 가로와 세로가 같은 길이를 가집니다.\n",
      "2. **대각선이 서로 같음:** 사각형의 두 대각선은 길이가 같습니다. 즉, 사각형을 두 개의 동일한 삼각형으로 나눌 수 있습니다.\n",
      "3. **내각의 합:** 사각형의 네 내각의 합은 항상 360도입니다.\n",
      "4. **변의 배열:** 사각형은 여러 가지 형태로 배열될 수 있습니다. 예를 들어, 직사각형은 가로와 세로가 각각 다른 길이를 가질 수 있으며, 정사각형은 모든 변의 길이가 같고 모든 내각이 직각인 특별한 형태의 사각형입니다.\n",
      "\n",
      "이러한 성질들로 인해 사각형은 우리 일상생활에서 매우 흔하게 볼 수 있는 도형입니다!\n",
      "\n",
      "생성된 공식 raw:\n",
      " {'perimeter': '2 × (밑변 + 높이)', 'area': '밑변 × 높이'}\n"
     ]
    },
    {
     "data": {
      "text/latex": [
       "$\\displaystyle 2 × (밑변 + 높이)$"
      ],
      "text/plain": [
       "<IPython.core.display.Math object>"
      ]
     },
     "metadata": {},
     "output_type": "display_data"
    },
    {
     "data": {
      "text/latex": [
       "$\\displaystyle 밑변 × 높이$"
      ],
      "text/plain": [
       "<IPython.core.display.Math object>"
      ]
     },
     "metadata": {},
     "output_type": "display_data"
    },
    {
     "data": {
      "image/svg+xml": [
       "<svg xmlns=\"http://www.w3.org/2000/svg\" width=\"500\" height=\"312\">\n",
       "    <text x=\"250\" y=\"50\" font-size=\"25\" text-anchor=\"middle\">직사각형</text>\n",
       "    <rect x=\"100\" y=\"100\" width=\"250\" height=\"150\" stroke=\"black\" stroke-width=\"2\" fill=\"none\"/>\n",
       "    </svg>"
      ],
      "text/plain": [
       "<IPython.core.display.SVG object>"
      ]
     },
     "metadata": {},
     "output_type": "display_data"
    },
    {
     "name": "stdout",
     "output_type": "stream",
     "text": [
      "====================================================================================================\n",
      "요청한 문장: 한 변의 길이가 2인 정사각형 하나를 그려줘\n",
      "추출된 개념: Square\n",
      "추출된 인자: {'length': 2}\n",
      "\n",
      "생성된 코드:\n",
      " <svg width=\"500\" height=\"500\" xmlns=\"http://www.w3.org/2000/svg\">\n",
      "    <text x=\"250\" y=\"50\" font-size=\"25\" text-anchor=\"middle\">정사각형</text>\n",
      "    <rect x=\"100\" y=\"100\" width=\"200\" height=\"200\" stroke=\"black\" stroke-width=\"2\" fill=\"none\" />\n",
      "    </svg>\n",
      "\n",
      "생성된 설명:\n",
      " ### Square\n",
      "\n",
      "**정의:**\n",
      "사각형은 네 개의 변으로 이루어진 평면 도형입니다. 모든 내각이 직각(90도)이며, 반대편의 변들이 길이가 같아서 마주보는 두 변은 평행하고 길이가 동일합니다.\n",
      "\n",
      "**기본 성질:**\n",
      "1. **대변의 길이 동일:** 사각형의 마주보는 두 변은 길이가 같습니다. 예를 들어, 정사각형이나 직사각형에서는 모든 대변이 같은 길이를 가집니다.\n",
      "2. **대각선의 성질:** 사각형의 대각선은 서로를 반으로 나눕니다. 즉, 대각선이 만나는 점에서 대각선을 잇는 선분들은 서로를 절반으로 나눕니다.\n",
      "3. **변의 합:** 사각형의 네 변의 길이를 모두 더하면, 그 합은 사각형의 둘레를 나타냅니다. 예를 들어, 한 변의 길이가 \\(a\\)이고 다른 변의 길이가 \\(b\\)라면, 둘레는 \\(a + b + a + b = 2(a + b)\\)가 됩니다.\n",
      "4. **정사각형의 특징:** 정사각형은 모든 변의 길이가 같고 모든 내각이 직각인 특별한 사각형입니다. 모든 대각선도 길이가 같고 서로를 직각으로 이룹니다.\n",
      "\n",
      "이러한 성질들로 인해 사각형은 다양한 형태와 크기로 존재하며, 건축, 디자인, 그리고 일상생활에서 자주 볼 수 있는 도형입니다!\n",
      "\n",
      "생성된 공식 raw:\n",
      " {'perimeter': '4 \\\\times \\\\mathrm{한 변의 길이}', 'area': '\\\\mathrm{한 변의 길이} \\\\times \\\\mathrm{한 변의 길이}'}\n"
     ]
    },
    {
     "data": {
      "text/latex": [
       "$\\displaystyle 4 \\times \\mathrm{한 변의 길이}$"
      ],
      "text/plain": [
       "<IPython.core.display.Math object>"
      ]
     },
     "metadata": {},
     "output_type": "display_data"
    },
    {
     "data": {
      "text/latex": [
       "$\\displaystyle \\mathrm{한 변의 길이} \\times \\mathrm{한 변의 길이}$"
      ],
      "text/plain": [
       "<IPython.core.display.Math object>"
      ]
     },
     "metadata": {},
     "output_type": "display_data"
    },
    {
     "data": {
      "image/svg+xml": [
       "<svg xmlns=\"http://www.w3.org/2000/svg\" width=\"500\" height=\"500\">\n",
       "    <text x=\"250\" y=\"50\" font-size=\"25\" text-anchor=\"middle\">정사각형</text>\n",
       "    <rect x=\"100\" y=\"100\" width=\"200\" height=\"200\" stroke=\"black\" stroke-width=\"2\" fill=\"none\"/>\n",
       "    </svg>"
      ],
      "text/plain": [
       "<IPython.core.display.SVG object>"
      ]
     },
     "metadata": {},
     "output_type": "display_data"
    },
    {
     "name": "stdout",
     "output_type": "stream",
     "text": [
      "====================================================================================================\n",
      "요청한 문장: 곧은선이 뭐야?\n",
      "추출된 개념: 직선\n",
      "추출된 인자: {}\n",
      "\n",
      "생성된 코드:\n",
      " <svg width=\"500\" height=\"500\" xmlns=\"http://www.w3.org/2000/svg\">\n",
      "    <text x=\"250\" y=\"25\" font-size=\"25\" text-anchor=\"middle\">곧은선</text>\n",
      "    <text x=\"250\" y=\"75\" font-size=\"25\" text-anchor=\"middle\">선분</text>\n",
      "    <!-- 선분 -->\n",
      "    <circle cx=\"125\" cy=\"125\" r=\"1\" stroke=\"black\" stroke-width=\"2\" fill=\"black\" />\n",
      "    <circle cx=\"375\" cy=\"125\" r=\"1\" stroke=\"black\" stroke-width=\"2\" fill=\"black\" />\n",
      "    <line x1=\"125\" y1=\"125\" x2=\"375\" y2=\"125\" stroke=\"black\" stroke-width=\"2\" />\n",
      "    <!-- 반직선 -->\n",
      "    <text x=\"250\" y=\"175\" font-size=\"25\" text-anchor=\"middle\">반직선</text>\n",
      "    <circle cx=\"125\" cy=\"250\" r=\"1\" stroke=\"black\" stroke-width=\"2\" fill=\"black\" />\n",
      "    <circle cx=\"375\" cy=\"250\" r=\"1\" stroke=\"black\" stroke-width=\"2\" fill=\"black\" />\n",
      "    <line x1=\"125\" y1=\"250\" x2=\"500\" y2=\"250\" stroke=\"black\" stroke-width=\"2\" />\n",
      "    <!-- 직선 -->\n",
      "    <text x=\"250\" y=\"300\" font-size=\"25\" text-anchor=\"middle\">직선</text>\n",
      "    <circle cx=\"125\" cy=\"375\" r=\"1\" stroke=\"black\" stroke-width=\"2\" fill=\"black\" />\n",
      "    <circle cx=\"375\" cy=\"375\" r=\"1\" stroke=\"black\" stroke-width=\"2\" fill=\"black\" />\n",
      "    <line x1=\"0\" y1=\"375\" x2=\"500\" y2=\"375\" stroke=\"black\" stroke-width=\"2\" />\n",
      "    </svg>\n",
      "    \n",
      "\n",
      "생성된 설명:\n",
      " ### 직선에 대한 설명\n",
      "\n",
      "#### 정의\n",
      "직선은 평면 위에서 가장 짧은 거리로 두 점을 연결하는 선을 말합니다. 이 선은 양쪽으로 무한히 계속되며, 방향이 항상 일정합니다. 직선 위의 모든 점들은 서로 평행하게 연결되어 있어, 어떤 방향으로든 뻗어나갈 수 있습니다.\n",
      "\n",
      "#### 기본 성질\n",
      "1. **무한한 길이**: 직선은 양쪽으로 무한히 이어집니다. 즉, 시작점에서 끝점까지의 거리가 아무리 길어도 계속해서 뻗어나갈 수 있습니다.\n",
      "2. **평행한 선들**: 같은 방향으로 무한히 뻗어나가는 두 직선은 서로 평행합니다. 반대로, 서로 다른 방향으로 무한히 뻗어나가는 두 직선은 교차하지 않습니다.\n",
      "3. **직선 위의 점들**: 직선 위의 모든 점들은 서로 연결되어 있어, 어떤 두 점을 잇는 선분은 항상 직선의 일부분입니다.\n",
      "4. **직선의 대칭성**: 직선을 기준으로 대칭인 두 부분은 서로 완전히 일치합니다. 예를 들어, 한 점을 기준으로 대칭인 두 점은 직선 양쪽에 동일한 거리에 위치합니다.\n",
      "\n",
      "이러한 성질들로 인해 직선은 기하학에서 매우 중요한 개념으로 사용됩니다!\n"
     ]
    },
    {
     "data": {
      "image/svg+xml": [
       "<svg xmlns=\"http://www.w3.org/2000/svg\" width=\"500\" height=\"500\">\n",
       "    <text x=\"250\" y=\"25\" font-size=\"25\" text-anchor=\"middle\">곧은선</text>\n",
       "    <text x=\"250\" y=\"75\" font-size=\"25\" text-anchor=\"middle\">선분</text>\n",
       "    <!-- 선분 -->\n",
       "    <circle cx=\"125\" cy=\"125\" r=\"1\" stroke=\"black\" stroke-width=\"2\" fill=\"black\"/>\n",
       "    <circle cx=\"375\" cy=\"125\" r=\"1\" stroke=\"black\" stroke-width=\"2\" fill=\"black\"/>\n",
       "    <line x1=\"125\" y1=\"125\" x2=\"375\" y2=\"125\" stroke=\"black\" stroke-width=\"2\"/>\n",
       "    <!-- 반직선 -->\n",
       "    <text x=\"250\" y=\"175\" font-size=\"25\" text-anchor=\"middle\">반직선</text>\n",
       "    <circle cx=\"125\" cy=\"250\" r=\"1\" stroke=\"black\" stroke-width=\"2\" fill=\"black\"/>\n",
       "    <circle cx=\"375\" cy=\"250\" r=\"1\" stroke=\"black\" stroke-width=\"2\" fill=\"black\"/>\n",
       "    <line x1=\"125\" y1=\"250\" x2=\"500\" y2=\"250\" stroke=\"black\" stroke-width=\"2\"/>\n",
       "    <!-- 직선 -->\n",
       "    <text x=\"250\" y=\"300\" font-size=\"25\" text-anchor=\"middle\">직선</text>\n",
       "    <circle cx=\"125\" cy=\"375\" r=\"1\" stroke=\"black\" stroke-width=\"2\" fill=\"black\"/>\n",
       "    <circle cx=\"375\" cy=\"375\" r=\"1\" stroke=\"black\" stroke-width=\"2\" fill=\"black\"/>\n",
       "    <line x1=\"0\" y1=\"375\" x2=\"500\" y2=\"375\" stroke=\"black\" stroke-width=\"2\"/>\n",
       "    </svg>"
      ],
      "text/plain": [
       "<IPython.core.display.SVG object>"
      ]
     },
     "metadata": {},
     "output_type": "display_data"
    },
    {
     "name": "stdout",
     "output_type": "stream",
     "text": [
      "====================================================================================================\n",
      "요청한 문장: 대표적인 굽은선을 그려줘\n",
      "추출된 개념: 곡선\n",
      "추출된 인자: {'type': '타원', 'description': '타원은 가장 대표적인 굽은선의 한 종류로, 두 초점 사이의 거리의 합이 일정한 점들의 집합으로 정의됩니다.'}\n",
      "\n",
      "생성된 코드:\n",
      " \n",
      "    <svg width=\"500\" height=\"500\" xmlns=\"http://www.w3.org/2000/svg\">\n",
      "    <text x=\"250\" y=\"50\" font-size=\"25\" text-anchor=\"middle\">굽은선</text>\n",
      "    <!-- 복잡한 S자 곡선 (두 개의 Cubic Bézier) -->\n",
      "    <path d=\"M 100,400\n",
      "    C 100,100 400,100 400,250\n",
      "    C 400,400 100,400 100,100\"\n",
      "    stroke=\"black\" fill=\"none\" stroke-width=\"2\"/>\n",
      "    </svg>\n",
      "    \n",
      "\n",
      "생성된 설명:\n",
      " ### 곡선에 대한 설명\n",
      "\n",
      "**정의:**\n",
      "곡선은 직선이 아닌, 연속적으로 이어지는 점들의 모임으로 이루어진 도형입니다. 쉽게 말해, 직선처럼 일정한 방향으로만 움직이는 것이 아니라, 부드럽게 휘어지거나 굽어지는 형태를 가진 선을 말합니다.\n",
      "\n",
      "**기본 성질:**\n",
      "1. **연속성:** 곡선 위의 모든 점들은 부드럽게 이어져 있어, 어떤 작은 구간에서도 끊어지지 않고 이어집니다.\n",
      "2. **길이:** 곡선의 길이는 그 곡선을 따라 측정한 총 거리입니다. 이 길이는 곡선의 모양에 따라 달라집니다. 예를 들어, 원의 둘레는 반지름에 따라 결정되며, 이는 곡선의 길이를 정확히 계산하는 방법 중 하나입니다.\n",
      "3. **곡률:** 곡선이 얼마나 빠르게 방향을 바꾸는지를 나타내는 값입니다. 곡률이 크면 곡선이 더 급하게 굽어지고, 작으면 더 부드럽게 굽어집니다. 예를 들어, 원의 경우 모든 점에서 곡률이 일정합니다.\n",
      "4. **접선:** 곡선 위의 어떤 점에서 그 점을 지나는 가장 가까운 직선을 접선이라고 합니다. 이 접선은 그 점에서 곡선의 방향을 가장 잘 나타냅니다.\n",
      "\n",
      "이러한 성질들 덕분에 곡선은 자연 현상이나 공학적 설계 등 다양한 분야에서 중요한 역할을 합니다.\n"
     ]
    },
    {
     "data": {
      "image/svg+xml": [
       "<svg xmlns=\"http://www.w3.org/2000/svg\" width=\"500\" height=\"500\">\n",
       "    <text x=\"250\" y=\"50\" font-size=\"25\" text-anchor=\"middle\">굽은선</text>\n",
       "    <!-- 복잡한 S자 곡선 (두 개의 Cubic Bézier) -->\n",
       "    <path d=\"M 100,400     C 100,100 400,100 400,250     C 400,400 100,400 100,100\" stroke=\"black\" fill=\"none\" stroke-width=\"2\"/>\n",
       "    </svg>"
      ],
      "text/plain": [
       "<IPython.core.display.SVG object>"
      ]
     },
     "metadata": {},
     "output_type": "display_data"
    },
    {
     "name": "stdout",
     "output_type": "stream",
     "text": [
      "====================================================================================================\n",
      "요청한 문장: 중심이 (0,0)이고 반지름이 2인 원을 그려주세요.\n",
      "추출된 개념: Circle\n",
      "추출된 인자: {'radius': 2}\n",
      "\n",
      "생성된 코드:\n",
      " <svg width=\"500\" height=\"500\" xmlns=\"http://www.w3.org/2000/svg\">\n",
      "    <text x=\"250\" y=\"50\" font-size=\"25\" text-anchor=\"middle\">원</text>\n",
      "    <circle cx=\"250\" cy=\"250\" r=\"100\" stroke=\"black\" stroke-width=\"2\" fill=\"none\" />\n",
      "    <circle cx=\"250\" cy=\"250\" r=\"1\" stroke=\"black\" stroke-width=\"2\" fill=\"black\" />\n",
      "    <line x1=\"250\" y1=\"250\" x2=\"350\" y2=\"250\" stroke=\"black\" stroke-width=\"2\" />\n",
      "    </svg>\n",
      "    \n",
      "\n",
      "생성된 설명:\n",
      " ### Circle (원)\n",
      "\n",
      "#### 정의:\n",
      "원은 평면 위에서 한 점(중심)으로부터 일정한 거리(반지름)에 있는 모든 점들의 집합을 말합니다. 이 중심점을 기준으로 원 위의 모든 점들은 동일한 거리에 위치해 있습니다.\n",
      "\n",
      "#### 기본 성질:\n",
      "1. **둘레와 지름**: 원의 둘레는 지름에 π(약 3.14)를 곱한 값입니다. 즉, 둘레 = 지름 × π 입니다. 반대로 지름은 둘레를 π로 나누면 구할 수 있습니다.\n",
      "   \n",
      "2. **면적**: 원의 면적은 반지름의 제곱에 π를 곱한 값입니다. 공식으로 표현하면 면적 = π × 반지름2 입니다.\n",
      "\n",
      "3. **대칭성**: 원은 중심을 기준으로 완벽하게 대칭입니다. 즉, 중심을 지나는 어떤 직선을 기준으로 원을 접어도 양쪽이 완전히 일치합니다.\n",
      "\n",
      "4. **원주각과 호의 관계**: 원 위의 두 점을 잇는 호의 중앙각은 그 호에 대응하는 원주각의 두 배입니다. 예를 들어, 호의 중앙각이 θ라면 원주각은 θ/2가 됩니다.\n",
      "\n",
      "이러한 성질들로 인해 원은 기하학에서 매우 중요한 역할을 합니다. 다양한 도형과 문제 해결에 활용되며, 일상생활에서도 자주 접하게 되는 개념입니다.\n",
      "\n",
      "생성된 공식 raw:\n",
      " {'perimeter': '2 \\\\times 3.14 \\\\times 반지름', 'area': '3.14 \\\\times 반지름 \\\\times 반지름'}\n"
     ]
    },
    {
     "data": {
      "text/latex": [
       "$\\displaystyle 2 \\times 3.14 \\times 반지름$"
      ],
      "text/plain": [
       "<IPython.core.display.Math object>"
      ]
     },
     "metadata": {},
     "output_type": "display_data"
    },
    {
     "data": {
      "text/latex": [
       "$\\displaystyle 3.14 \\times 반지름 \\times 반지름$"
      ],
      "text/plain": [
       "<IPython.core.display.Math object>"
      ]
     },
     "metadata": {},
     "output_type": "display_data"
    },
    {
     "data": {
      "image/svg+xml": [
       "<svg xmlns=\"http://www.w3.org/2000/svg\" width=\"500\" height=\"500\">\n",
       "    <text x=\"250\" y=\"50\" font-size=\"25\" text-anchor=\"middle\">원</text>\n",
       "    <circle cx=\"250\" cy=\"250\" r=\"100\" stroke=\"black\" stroke-width=\"2\" fill=\"none\"/>\n",
       "    <circle cx=\"250\" cy=\"250\" r=\"1\" stroke=\"black\" stroke-width=\"2\" fill=\"black\"/>\n",
       "    <line x1=\"250\" y1=\"250\" x2=\"350\" y2=\"250\" stroke=\"black\" stroke-width=\"2\"/>\n",
       "    </svg>"
      ],
      "text/plain": [
       "<IPython.core.display.SVG object>"
      ]
     },
     "metadata": {},
     "output_type": "display_data"
    },
    {
     "name": "stdout",
     "output_type": "stream",
     "text": [
      "====================================================================================================\n",
      "요청한 문장: 37° 각도를 그려줘\n",
      "추출된 개념: 각도\n",
      "추출된 인자: {'size': 37}\n",
      "\n",
      "생성된 코드:\n",
      " <svg width=\"500\" height=\"375\" xmlns=\"http://www.w3.org/2000/svg\">\n",
      "    <text x=\"250\" y=\"50\" font-size=\"25\" text-anchor=\"middle\">각</text>\n",
      "    <!-- 기준선 -->\n",
      "    <line x1=\"125\" y1=\"333\" x2=\"375\" y2=\"333\" stroke=\"black\" stroke-width=\"2\" />\n",
      "    <!-- 기울어진 선 -->\n",
      "    <line x1=\"125\" y1=\"333\" x2=\"324.6588775118232\" y2=\"182.54624421198793\" stroke=\"black\" stroke-width=\"2\" />\n",
      "    <!-- 각도 호 -->\n",
      "    <path d=\"M 164.93177550236464,302.9092488423976 A 50,50 0 0,1 175,333\" stroke=\"black\" stroke-width=\"2\" fill=\"none\"/>\n",
      "    </svg>\n",
      "    \n",
      "\n",
      "생성된 설명:\n",
      " ### 각도에 대한 설명\n",
      "\n",
      "**정의:**\n",
      "각도는 두 직선이나 선분이 만나서 생기는 공간의 크기를 측정하는 방법입니다. 우리가 일상에서 자주 접하는 각도는 주로 도로 표지판에서 볼 수 있는 방향 지시나, 그림에서 선들이 만나는 부분을 표현할 때 사용됩니다.\n",
      "\n",
      "**기본 성질:**\n",
      "1. **직선의 각도:** 직선은 정확히 180도의 각도를 가집니다. 직선은 두 방향으로 무한히 이어지는 것처럼 보이지만, 실제로는 시작점과 끝점이 있습니다.\n",
      "   \n",
      "2. **직각 각도:** 직각은 90도를 의미합니다. 이는 우리가 흔히 사용하는 'L'자 모양의 모서리나 사각형의 모서리에서 볼 수 있습니다. 직각은 두 직선이 서로 수직으로 만나는 경우에 생깁니다.\n",
      "\n",
      "3. **평행선과 각도:** 평행한 두 직선은 만나지 않기 때문에, 그들 사이의 각도는 항상 같습니다. 예를 들어, 두 평행선 위에 그려진 삼각형의 한 각은 다른 각과 크기가 동일합니다.\n",
      "\n",
      "4. **복합 각도:** 여러 각도를 합쳐서 더 큰 각도를 만들 수 있습니다. 예를 들어, 두 개의 직각 각도를 합치면 180도가 됩니다.\n",
      "\n",
      "이러한 기본적인 개념들을 이해하면 각도에 대한 다양한 문제를 풀 때 도움이 될 것입니다!\n"
     ]
    },
    {
     "data": {
      "image/svg+xml": [
       "<svg xmlns=\"http://www.w3.org/2000/svg\" width=\"500\" height=\"375\">\n",
       "    <text x=\"250\" y=\"50\" font-size=\"25\" text-anchor=\"middle\">각</text>\n",
       "    <!-- 기준선 -->\n",
       "    <line x1=\"125\" y1=\"333\" x2=\"375\" y2=\"333\" stroke=\"black\" stroke-width=\"2\"/>\n",
       "    <!-- 기울어진 선 -->\n",
       "    <line x1=\"125\" y1=\"333\" x2=\"324.6588775118232\" y2=\"182.54624421198793\" stroke=\"black\" stroke-width=\"2\"/>\n",
       "    <!-- 각도 호 -->\n",
       "    <path d=\"M 164.93177550236464,302.9092488423976 A 50,50 0 0,1 175,333\" stroke=\"black\" stroke-width=\"2\" fill=\"none\"/>\n",
       "    </svg>"
      ],
      "text/plain": [
       "<IPython.core.display.SVG object>"
      ]
     },
     "metadata": {},
     "output_type": "display_data"
    },
    {
     "name": "stdout",
     "output_type": "stream",
     "text": [
      "====================================================================================================\n",
      "요청한 문장: 직각을 표현해줘\n",
      "추출된 개념: Right Angle\n",
      "추출된 인자: {}\n",
      "\n",
      "생성된 코드:\n",
      " <svg width=\"500\" height=\"500\" xmlns=\"http://www.w3.org/2000/svg\">\n",
      "    <text x=\"250\" y=\"50\" font-size=\"25\" text-anchor=\"middle\">직각</text>\n",
      "    <!-- 기준선 -->\n",
      "    <line x1=\"125\" y1=\"400\" x2=\"458\" y2=\"400\" stroke=\"black\" stroke-width=\"2\" />\n",
      "    <!-- 기울어진 선 -->\n",
      "    <line x1=\"125\" y1=\"400\" x2=\"125\" y2=\"67\" stroke=\"black\" stroke-width=\"2\" />\n",
      "    <!-- 직각 보조선 -->\n",
      "    <line x1=\"175\" y1=\"400\" x2=\"175\" y2=\"350\" stroke=\"black\" stroke-width=\"2\" />\n",
      "    <line x1=\"125\" y1=\"350\" x2=\"175\" y2=\"350\" stroke=\"black\" stroke-width=\"2\" />\n",
      "    </svg>\n",
      "    \n",
      "\n",
      "생성된 설명:\n",
      " ### Right Angle\n",
      "\n",
      "**정의:**\n",
      "Right Angle은 기하학에서 가장 기본적인 각도 중 하나로, 정확히 90도를 이루는 각도를 말합니다. 이 각도는 직각이라고도 불리며, 직선이나 특정 도형의 모서리에서 만나는 두 변이 서로 수직으로 만나는 경우에 나타납니다.\n",
      "\n",
      "**기본 성질:**\n",
      "1. **크기:** Right Angle은 항상 정확히 90도입니다. 이는 모든 Right Angle이 동일한 크기를 가짐을 의미합니다.\n",
      "2. **모양:** Right Angle은 보통 'L' 모양으로 쉽게 인식할 수 있습니다. 이 모양은 직각을 나타내는 데 자주 사용됩니다.\n",
      "3. **도형과의 관계:** 직각은 사각형, 직사각형, 정사각형 등 다양한 도형의 모서리에서 발견됩니다. 특히, 직사각형이나 정사각형은 네 개의 Right Angle을 가지고 있습니다.\n",
      "4. **삼각형과의 연관성:** 직각삼각형은 한 내각이 정확히 Right Angle인 삼각형을 의미합니다. 이 삼각형은 세 변의 길이 관계를 통해 피타고라스 정리를 적용할 수 있습니다.\n",
      "\n",
      "이러한 성질들로 인해 Right Angle은 수학에서 매우 중요한 개념으로 자리잡고 있습니다!\n"
     ]
    },
    {
     "data": {
      "image/svg+xml": [
       "<svg xmlns=\"http://www.w3.org/2000/svg\" width=\"500\" height=\"500\">\n",
       "    <text x=\"250\" y=\"50\" font-size=\"25\" text-anchor=\"middle\">직각</text>\n",
       "    <!-- 기준선 -->\n",
       "    <line x1=\"125\" y1=\"400\" x2=\"458\" y2=\"400\" stroke=\"black\" stroke-width=\"2\"/>\n",
       "    <!-- 기울어진 선 -->\n",
       "    <line x1=\"125\" y1=\"400\" x2=\"125\" y2=\"67\" stroke=\"black\" stroke-width=\"2\"/>\n",
       "    <!-- 직각 보조선 -->\n",
       "    <line x1=\"175\" y1=\"400\" x2=\"175\" y2=\"350\" stroke=\"black\" stroke-width=\"2\"/>\n",
       "    <line x1=\"125\" y1=\"350\" x2=\"175\" y2=\"350\" stroke=\"black\" stroke-width=\"2\"/>\n",
       "    </svg>"
      ],
      "text/plain": [
       "<IPython.core.display.SVG object>"
      ]
     },
     "metadata": {},
     "output_type": "display_data"
    },
    {
     "name": "stdout",
     "output_type": "stream",
     "text": [
      "====================================================================================================\n",
      "요청한 문장: 밑변이 3이고, 높이가 4인 직각삼각형 하나를 그려줘\n",
      "추출된 개념: Right Triangle\n",
      "추출된 인자: {'base': 3, 'height': 4}\n",
      "\n",
      "생성된 코드:\n",
      " <svg width=\"500\" height=\"500\" xmlns=\"http://www.w3.org/2000/svg\">\n",
      "    <text x=\"250\" y=\"50\" font-size=\"25\" text-anchor=\"middle\">직각삼각형</text>\n",
      "    <!-- 직각삼각형 -->\n",
      "    <line x1=\"83\" y1=\"416\" x2=\"308\" y2=\"416\" stroke=\"black\" stroke-width=\"2\" />\n",
      "    <line x1=\"308\" y1=\"416\" x2=\"308\" y2=\"166\" stroke=\"black\" stroke-width=\"2\" />\n",
      "    <line x1=\"83\" y1=\"416\" x2=\"308\" y2=\"166\" stroke=\"black\" stroke-width=\"2\" />\n",
      "    <!-- 직각 보조선 -->\n",
      "    <line x1=\"286\" y1=\"416\" x2=\"286\" y2=\"394\" stroke=\"black\" stroke-width=\"2\" />\n",
      "    <line x1=\"286\" y1=\"394\" x2=\"308\" y2=\"394\" stroke=\"black\" stroke-width=\"2\" />\n",
      "    </svg>\n",
      "    \n",
      "\n",
      "생성된 설명:\n",
      " ### Right Triangle\n",
      "\n",
      "**정의:**\n",
      "A right triangle is a special type of triangle that has one angle which measures exactly 90 degrees (a right angle). This unique angle distinguishes it from other triangles where all angles are less than 90 degrees.\n",
      "\n",
      "**기본 성질:**\n",
      "1. **한 각이 직각:** 가장 중요한 특징은 한 꼭짓점에서 직각(90°)을 이루는 것입니다.\n",
      "2. **직각을 중심으로 두 개의 다른 각:** 나머지 두 각은 합쳐 90도가 됩니다. 따라서 이 두 각은 서로 보완각(complementary angles)입니다.\n",
      "3. **피타고라스 정리 적용 가능:** 직각 삼각형에서는 가장 긴 변을 빗변(hypotenuse)이라고 부르며, 이 빗변의 길이는 다른 두 변(직각을 이루는 두 변을 밑변과 높이라고도 부릅니다)의 길이와 특별한 관계를 가집니다. 이 관계는 피타고라스 정리로 표현되는데, 수학적으로는 \\(a^2 + b^2 = c^2\\) 입니다 (여기서 \\(c\\)는 빗변의 길이이고, \\(a\\)와 \\(b\\)는 다른 두 변의 길이입니다). 하지만 문제 해결을 위해 직접적인 공식보다는 이 관계를 이해하는 것이 중요합니다.\n",
      "4. **삼각형의 종류:** 직각 삼각형은 그 각도에 따라 다양한 종류로 나눌 수 있습니다. 예를 들어, 모든 변의 길이가 정수인 직각 삼각형을 피타고라스 삼각형이라고 부르기도 합니다.\n",
      "\n",
      "이런 특징들로 인해 직각 삼각형은 건축, 공학, 그리고 다양한 실생활 문제 해결에서 매우 중요한 역할을 합니다!\n",
      "\n",
      "생성된 공식 raw:\n",
      " {'perimeter': '밑변 + 높이 + 빗변', 'area': '밑변 × 높이 ÷ 2'}\n"
     ]
    },
    {
     "data": {
      "text/latex": [
       "$\\displaystyle 밑변 + 높이 + 빗변$"
      ],
      "text/plain": [
       "<IPython.core.display.Math object>"
      ]
     },
     "metadata": {},
     "output_type": "display_data"
    },
    {
     "data": {
      "text/latex": [
       "$\\displaystyle 밑변 × 높이 ÷ 2$"
      ],
      "text/plain": [
       "<IPython.core.display.Math object>"
      ]
     },
     "metadata": {},
     "output_type": "display_data"
    },
    {
     "data": {
      "image/svg+xml": [
       "<svg xmlns=\"http://www.w3.org/2000/svg\" width=\"500\" height=\"500\">\n",
       "    <text x=\"250\" y=\"50\" font-size=\"25\" text-anchor=\"middle\">직각삼각형</text>\n",
       "    <!-- 직각삼각형 -->\n",
       "    <line x1=\"83\" y1=\"416\" x2=\"308\" y2=\"416\" stroke=\"black\" stroke-width=\"2\"/>\n",
       "    <line x1=\"308\" y1=\"416\" x2=\"308\" y2=\"166\" stroke=\"black\" stroke-width=\"2\"/>\n",
       "    <line x1=\"83\" y1=\"416\" x2=\"308\" y2=\"166\" stroke=\"black\" stroke-width=\"2\"/>\n",
       "    <!-- 직각 보조선 -->\n",
       "    <line x1=\"286\" y1=\"416\" x2=\"286\" y2=\"394\" stroke=\"black\" stroke-width=\"2\"/>\n",
       "    <line x1=\"286\" y1=\"394\" x2=\"308\" y2=\"394\" stroke=\"black\" stroke-width=\"2\"/>\n",
       "    </svg>"
      ],
      "text/plain": [
       "<IPython.core.display.SVG object>"
      ]
     },
     "metadata": {},
     "output_type": "display_data"
    },
    {
     "name": "stdout",
     "output_type": "stream",
     "text": [
      "====================================================================================================\n",
      "요청한 문장: 가로가 5, 세로가 3인 직사각형의 넓이\n",
      "추출된 개념: Rectangle\n",
      "추출된 인자: {'width': 5, 'height': 3}\n",
      "\n",
      "생성된 코드:\n",
      " <svg width=\"500\" height=\"312\" xmlns=\"http://www.w3.org/2000/svg\">\n",
      "    <text x=\"250\" y=\"50\" font-size=\"25\" text-anchor=\"middle\">직사각형</text>\n",
      "    <rect x=\"100\" y=\"100\" width=\"250\" height=\"150\" stroke=\"black\" stroke-width=\"2\" fill=\"none\" />\n",
      "    </svg>\n",
      "\n",
      "생성된 설명:\n",
      " ### Rectangle 설명\n",
      "\n",
      "**정의:**\n",
      "사각형은 네 개의 직선으로 둘러싸인 평면 도형으로, 각 내각이 직각(90도)인 특징을 가지고 있습니다. 즉, 사각형의 네 모서리는 모두 직각을 이루며, 대변이 평행하고 길이가 같은 특성을 갖습니다.\n",
      "\n",
      "**기본 성질:**\n",
      "1. **대변의 길이가 같음:** 사각형의 두 쌍의 대변은 길이가 동일합니다. 예를 들어, 가로와 세로가 같은 길이를 가집니다.\n",
      "2. **대각선이 서로 같음:** 사각형의 두 대각선은 길이가 같습니다. 즉, 사각형을 두 개의 동일한 삼각형으로 나눌 수 있습니다.\n",
      "3. **내각의 합:** 사각형의 네 내각의 합은 항상 360도입니다.\n",
      "4. **변의 배열:** 사각형은 여러 가지 형태로 배열될 수 있습니다. 예를 들어, 직사각형은 가로와 세로가 각각 다른 길이를 가질 수 있으며, 정사각형은 모든 변의 길이가 같고 모든 내각이 직각인 특별한 형태의 사각형입니다.\n",
      "\n",
      "이러한 성질들로 인해 사각형은 우리 일상생활에서 매우 흔하게 볼 수 있는 도형입니다!\n",
      "\n",
      "생성된 공식 raw:\n",
      " {'perimeter': '2 × (밑변 + 높이)', 'area': '밑변 × 높이'}\n"
     ]
    },
    {
     "data": {
      "text/latex": [
       "$\\displaystyle 2 × (밑변 + 높이)$"
      ],
      "text/plain": [
       "<IPython.core.display.Math object>"
      ]
     },
     "metadata": {},
     "output_type": "display_data"
    },
    {
     "data": {
      "text/latex": [
       "$\\displaystyle 밑변 × 높이$"
      ],
      "text/plain": [
       "<IPython.core.display.Math object>"
      ]
     },
     "metadata": {},
     "output_type": "display_data"
    },
    {
     "data": {
      "image/svg+xml": [
       "<svg xmlns=\"http://www.w3.org/2000/svg\" width=\"500\" height=\"312\">\n",
       "    <text x=\"250\" y=\"50\" font-size=\"25\" text-anchor=\"middle\">직사각형</text>\n",
       "    <rect x=\"100\" y=\"100\" width=\"250\" height=\"150\" stroke=\"black\" stroke-width=\"2\" fill=\"none\"/>\n",
       "    </svg>"
      ],
      "text/plain": [
       "<IPython.core.display.SVG object>"
      ]
     },
     "metadata": {},
     "output_type": "display_data"
    },
    {
     "name": "stdout",
     "output_type": "stream",
     "text": [
      "====================================================================================================\n",
      "요청한 문장: 한 변의 길이가 2인 정사각형 하나를 그려줘\n",
      "추출된 개념: Square\n",
      "추출된 인자: {'length': 2}\n",
      "\n",
      "생성된 코드:\n",
      " <svg width=\"500\" height=\"500\" xmlns=\"http://www.w3.org/2000/svg\">\n",
      "    <text x=\"250\" y=\"50\" font-size=\"25\" text-anchor=\"middle\">정사각형</text>\n",
      "    <rect x=\"100\" y=\"100\" width=\"200\" height=\"200\" stroke=\"black\" stroke-width=\"2\" fill=\"none\" />\n",
      "    </svg>\n",
      "\n",
      "생성된 설명:\n",
      " ### Square\n",
      "\n",
      "**정의:**\n",
      "사각형은 네 개의 변으로 이루어진 평면 도형입니다. 모든 내각이 직각(90도)이며, 반대편의 변들이 길이가 같아서 마주보는 두 변은 평행하고 길이가 동일합니다.\n",
      "\n",
      "**기본 성질:**\n",
      "1. **대변의 길이 동일:** 사각형의 마주보는 두 변은 길이가 같습니다. 예를 들어, 정사각형이나 직사각형에서는 모든 대변이 같은 길이를 가집니다.\n",
      "2. **대각선의 성질:** 사각형의 대각선은 서로를 반으로 나눕니다. 즉, 대각선이 만나는 점에서 대각선을 잇는 선분들은 서로를 절반으로 나눕니다.\n",
      "3. **변의 합:** 사각형의 네 변의 길이를 모두 더하면, 그 합은 사각형의 둘레를 나타냅니다. 예를 들어, 한 변의 길이가 \\(a\\)이고 다른 변의 길이가 \\(b\\)라면, 둘레는 \\(a + b + a + b = 2(a + b)\\)가 됩니다.\n",
      "4. **정사각형의 특징:** 정사각형은 모든 변의 길이가 같고 모든 내각이 직각인 특별한 사각형입니다. 모든 대각선도 길이가 같고 서로를 직각으로 이룹니다.\n",
      "\n",
      "이러한 성질들로 인해 사각형은 다양한 형태와 크기로 존재하며, 건축, 디자인, 그리고 일상생활에서 자주 볼 수 있는 도형입니다!\n",
      "\n",
      "생성된 공식 raw:\n",
      " {'perimeter': '4 \\\\times \\\\mathrm{한 변의 길이}', 'area': '\\\\mathrm{한 변의 길이} \\\\times \\\\mathrm{한 변의 길이}'}\n"
     ]
    },
    {
     "data": {
      "text/latex": [
       "$\\displaystyle 4 \\times \\mathrm{한 변의 길이}$"
      ],
      "text/plain": [
       "<IPython.core.display.Math object>"
      ]
     },
     "metadata": {},
     "output_type": "display_data"
    },
    {
     "data": {
      "text/latex": [
       "$\\displaystyle \\mathrm{한 변의 길이} \\times \\mathrm{한 변의 길이}$"
      ],
      "text/plain": [
       "<IPython.core.display.Math object>"
      ]
     },
     "metadata": {},
     "output_type": "display_data"
    },
    {
     "data": {
      "image/svg+xml": [
       "<svg xmlns=\"http://www.w3.org/2000/svg\" width=\"500\" height=\"500\">\n",
       "    <text x=\"250\" y=\"50\" font-size=\"25\" text-anchor=\"middle\">정사각형</text>\n",
       "    <rect x=\"100\" y=\"100\" width=\"200\" height=\"200\" stroke=\"black\" stroke-width=\"2\" fill=\"none\"/>\n",
       "    </svg>"
      ],
      "text/plain": [
       "<IPython.core.display.SVG object>"
      ]
     },
     "metadata": {},
     "output_type": "display_data"
    },
    {
     "name": "stdout",
     "output_type": "stream",
     "text": [
      "====================================================================================================\n",
      "요청한 문장: 곧은선이 뭐야?\n",
      "추출된 개념: 직선\n",
      "추출된 인자: {}\n",
      "\n",
      "생성된 코드:\n",
      " <svg width=\"500\" height=\"500\" xmlns=\"http://www.w3.org/2000/svg\">\n",
      "    <text x=\"250\" y=\"25\" font-size=\"25\" text-anchor=\"middle\">곧은선</text>\n",
      "    <text x=\"250\" y=\"75\" font-size=\"25\" text-anchor=\"middle\">선분</text>\n",
      "    <!-- 선분 -->\n",
      "    <circle cx=\"125\" cy=\"125\" r=\"1\" stroke=\"black\" stroke-width=\"2\" fill=\"black\" />\n",
      "    <circle cx=\"375\" cy=\"125\" r=\"1\" stroke=\"black\" stroke-width=\"2\" fill=\"black\" />\n",
      "    <line x1=\"125\" y1=\"125\" x2=\"375\" y2=\"125\" stroke=\"black\" stroke-width=\"2\" />\n",
      "    <!-- 반직선 -->\n",
      "    <text x=\"250\" y=\"175\" font-size=\"25\" text-anchor=\"middle\">반직선</text>\n",
      "    <circle cx=\"125\" cy=\"250\" r=\"1\" stroke=\"black\" stroke-width=\"2\" fill=\"black\" />\n",
      "    <circle cx=\"375\" cy=\"250\" r=\"1\" stroke=\"black\" stroke-width=\"2\" fill=\"black\" />\n",
      "    <line x1=\"125\" y1=\"250\" x2=\"500\" y2=\"250\" stroke=\"black\" stroke-width=\"2\" />\n",
      "    <!-- 직선 -->\n",
      "    <text x=\"250\" y=\"300\" font-size=\"25\" text-anchor=\"middle\">직선</text>\n",
      "    <circle cx=\"125\" cy=\"375\" r=\"1\" stroke=\"black\" stroke-width=\"2\" fill=\"black\" />\n",
      "    <circle cx=\"375\" cy=\"375\" r=\"1\" stroke=\"black\" stroke-width=\"2\" fill=\"black\" />\n",
      "    <line x1=\"0\" y1=\"375\" x2=\"500\" y2=\"375\" stroke=\"black\" stroke-width=\"2\" />\n",
      "    </svg>\n",
      "    \n",
      "\n",
      "생성된 설명:\n",
      " ### 직선에 대한 설명\n",
      "\n",
      "#### 정의\n",
      "직선은 평면 위에서 가장 짧은 거리로 두 점을 연결하는 선을 말합니다. 이 선은 양쪽으로 무한히 계속되며, 방향이 항상 일정합니다. 직선 위의 모든 점들은 서로 평행하게 연결되어 있어, 어떤 방향으로든 뻗어나갈 수 있습니다.\n",
      "\n",
      "#### 기본 성질\n",
      "1. **무한한 길이**: 직선은 양쪽으로 무한히 이어집니다. 즉, 시작점에서 끝점까지의 거리가 아무리 길어도 계속해서 뻗어나갈 수 있습니다.\n",
      "2. **평행한 선들**: 같은 방향으로 무한히 뻗어나가는 두 직선은 서로 평행합니다. 반대로, 서로 다른 방향으로 무한히 뻗어나가는 두 직선은 교차하지 않습니다.\n",
      "3. **직선 위의 점들**: 직선 위의 모든 점들은 서로 연결되어 있어, 어떤 두 점을 잇는 선분은 항상 직선의 일부분입니다.\n",
      "4. **직선의 대칭성**: 직선을 기준으로 대칭인 두 부분은 서로 완전히 일치합니다. 예를 들어, 한 점을 기준으로 대칭인 두 점은 직선 양쪽에 동일한 거리에 위치합니다.\n",
      "\n",
      "이러한 성질들로 인해 직선은 기하학에서 매우 중요한 개념으로 사용됩니다!\n"
     ]
    },
    {
     "data": {
      "image/svg+xml": [
       "<svg xmlns=\"http://www.w3.org/2000/svg\" width=\"500\" height=\"500\">\n",
       "    <text x=\"250\" y=\"25\" font-size=\"25\" text-anchor=\"middle\">곧은선</text>\n",
       "    <text x=\"250\" y=\"75\" font-size=\"25\" text-anchor=\"middle\">선분</text>\n",
       "    <!-- 선분 -->\n",
       "    <circle cx=\"125\" cy=\"125\" r=\"1\" stroke=\"black\" stroke-width=\"2\" fill=\"black\"/>\n",
       "    <circle cx=\"375\" cy=\"125\" r=\"1\" stroke=\"black\" stroke-width=\"2\" fill=\"black\"/>\n",
       "    <line x1=\"125\" y1=\"125\" x2=\"375\" y2=\"125\" stroke=\"black\" stroke-width=\"2\"/>\n",
       "    <!-- 반직선 -->\n",
       "    <text x=\"250\" y=\"175\" font-size=\"25\" text-anchor=\"middle\">반직선</text>\n",
       "    <circle cx=\"125\" cy=\"250\" r=\"1\" stroke=\"black\" stroke-width=\"2\" fill=\"black\"/>\n",
       "    <circle cx=\"375\" cy=\"250\" r=\"1\" stroke=\"black\" stroke-width=\"2\" fill=\"black\"/>\n",
       "    <line x1=\"125\" y1=\"250\" x2=\"500\" y2=\"250\" stroke=\"black\" stroke-width=\"2\"/>\n",
       "    <!-- 직선 -->\n",
       "    <text x=\"250\" y=\"300\" font-size=\"25\" text-anchor=\"middle\">직선</text>\n",
       "    <circle cx=\"125\" cy=\"375\" r=\"1\" stroke=\"black\" stroke-width=\"2\" fill=\"black\"/>\n",
       "    <circle cx=\"375\" cy=\"375\" r=\"1\" stroke=\"black\" stroke-width=\"2\" fill=\"black\"/>\n",
       "    <line x1=\"0\" y1=\"375\" x2=\"500\" y2=\"375\" stroke=\"black\" stroke-width=\"2\"/>\n",
       "    </svg>"
      ],
      "text/plain": [
       "<IPython.core.display.SVG object>"
      ]
     },
     "metadata": {},
     "output_type": "display_data"
    },
    {
     "name": "stdout",
     "output_type": "stream",
     "text": [
      "====================================================================================================\n",
      "요청한 문장: 대표적인 굽은선을 그려줘\n",
      "추출된 개념: 곡선\n",
      "추출된 인자: {'type': '타원', 'description': '타원은 가장 대표적인 굽은선의 한 종류로, 두 초점 사이의 거리의 합이 일정한 점들의 집합으로 정의됩니다.'}\n",
      "\n",
      "생성된 코드:\n",
      " \n",
      "    <svg width=\"500\" height=\"500\" xmlns=\"http://www.w3.org/2000/svg\">\n",
      "    <text x=\"250\" y=\"50\" font-size=\"25\" text-anchor=\"middle\">굽은선</text>\n",
      "    <!-- 복잡한 S자 곡선 (두 개의 Cubic Bézier) -->\n",
      "    <path d=\"M 100,400\n",
      "    C 100,100 400,100 400,250\n",
      "    C 400,400 100,400 100,100\"\n",
      "    stroke=\"black\" fill=\"none\" stroke-width=\"2\"/>\n",
      "    </svg>\n",
      "    \n",
      "\n",
      "생성된 설명:\n",
      " ### 곡선에 대한 설명\n",
      "\n",
      "**정의:**\n",
      "곡선은 직선이 아닌, 연속적으로 이어지는 점들의 모임으로 이루어진 도형입니다. 쉽게 말해, 직선처럼 일정한 방향으로만 움직이는 것이 아니라, 부드럽게 휘어지거나 굽어지는 형태를 가진 선을 말합니다.\n",
      "\n",
      "**기본 성질:**\n",
      "1. **연속성:** 곡선 위의 모든 점들은 부드럽게 이어져 있어, 어떤 작은 구간에서도 끊어지지 않고 이어집니다.\n",
      "2. **길이:** 곡선의 길이는 그 곡선을 따라 측정한 총 거리입니다. 이 길이는 곡선의 모양에 따라 달라집니다. 예를 들어, 원의 둘레는 반지름에 따라 결정되며, 이는 곡선의 길이를 정확히 계산하는 방법 중 하나입니다.\n",
      "3. **곡률:** 곡선이 얼마나 빠르게 방향을 바꾸는지를 나타내는 값입니다. 곡률이 크면 곡선이 더 급하게 굽어지고, 작으면 더 부드럽게 굽어집니다. 예를 들어, 원의 경우 모든 점에서 곡률이 일정합니다.\n",
      "4. **접선:** 곡선 위의 어떤 점에서 그 점을 지나는 가장 가까운 직선을 접선이라고 합니다. 이 접선은 그 점에서 곡선의 방향을 가장 잘 나타냅니다.\n",
      "\n",
      "이러한 성질들 덕분에 곡선은 자연 현상이나 공학적 설계 등 다양한 분야에서 중요한 역할을 합니다.\n"
     ]
    },
    {
     "data": {
      "image/svg+xml": [
       "<svg xmlns=\"http://www.w3.org/2000/svg\" width=\"500\" height=\"500\">\n",
       "    <text x=\"250\" y=\"50\" font-size=\"25\" text-anchor=\"middle\">굽은선</text>\n",
       "    <!-- 복잡한 S자 곡선 (두 개의 Cubic Bézier) -->\n",
       "    <path d=\"M 100,400     C 100,100 400,100 400,250     C 400,400 100,400 100,100\" stroke=\"black\" fill=\"none\" stroke-width=\"2\"/>\n",
       "    </svg>"
      ],
      "text/plain": [
       "<IPython.core.display.SVG object>"
      ]
     },
     "metadata": {},
     "output_type": "display_data"
    },
    {
     "name": "stdout",
     "output_type": "stream",
     "text": [
      "====================================================================================================\n",
      "요청한 문장: 중심이 (0,0)이고 반지름이 2인 원을 그려주세요.\n",
      "추출된 개념: Circle\n",
      "추출된 인자: {'radius': 2}\n",
      "\n",
      "생성된 코드:\n",
      " <svg width=\"500\" height=\"500\" xmlns=\"http://www.w3.org/2000/svg\">\n",
      "    <text x=\"250\" y=\"50\" font-size=\"25\" text-anchor=\"middle\">원</text>\n",
      "    <circle cx=\"250\" cy=\"250\" r=\"100\" stroke=\"black\" stroke-width=\"2\" fill=\"none\" />\n",
      "    <circle cx=\"250\" cy=\"250\" r=\"1\" stroke=\"black\" stroke-width=\"2\" fill=\"black\" />\n",
      "    <line x1=\"250\" y1=\"250\" x2=\"350\" y2=\"250\" stroke=\"black\" stroke-width=\"2\" />\n",
      "    </svg>\n",
      "    \n",
      "\n",
      "생성된 설명:\n",
      " ### Circle (원)\n",
      "\n",
      "#### 정의:\n",
      "원은 평면 위에서 한 점(중심)으로부터 일정한 거리(반지름)에 있는 모든 점들의 집합을 말합니다. 이 중심점을 기준으로 원 위의 모든 점들은 동일한 거리에 위치해 있습니다.\n",
      "\n",
      "#### 기본 성질:\n",
      "1. **둘레와 지름**: 원의 둘레는 지름에 π(약 3.14)를 곱한 값입니다. 즉, 둘레 = 지름 × π 입니다. 반대로 지름은 둘레를 π로 나누면 구할 수 있습니다.\n",
      "   \n",
      "2. **면적**: 원의 면적은 반지름의 제곱에 π를 곱한 값입니다. 공식으로 표현하면 면적 = π × 반지름2 입니다.\n",
      "\n",
      "3. **대칭성**: 원은 중심을 기준으로 완벽하게 대칭입니다. 즉, 중심을 지나는 어떤 직선을 기준으로 원을 접어도 양쪽이 완전히 일치합니다.\n",
      "\n",
      "4. **원주각과 호의 관계**: 원 위의 두 점을 잇는 호의 중앙각은 그 호에 대응하는 원주각의 두 배입니다. 예를 들어, 호의 중앙각이 θ라면 원주각은 θ/2가 됩니다.\n",
      "\n",
      "이러한 성질들로 인해 원은 기하학에서 매우 중요한 역할을 합니다. 다양한 도형과 문제 해결에 활용되며, 일상생활에서도 자주 접하게 되는 개념입니다.\n",
      "\n",
      "생성된 공식 raw:\n",
      " {'perimeter': '2 \\\\times 3.14 \\\\times 반지름', 'area': '3.14 \\\\times 반지름 \\\\times 반지름'}\n"
     ]
    },
    {
     "data": {
      "text/latex": [
       "$\\displaystyle 2 \\times 3.14 \\times 반지름$"
      ],
      "text/plain": [
       "<IPython.core.display.Math object>"
      ]
     },
     "metadata": {},
     "output_type": "display_data"
    },
    {
     "data": {
      "text/latex": [
       "$\\displaystyle 3.14 \\times 반지름 \\times 반지름$"
      ],
      "text/plain": [
       "<IPython.core.display.Math object>"
      ]
     },
     "metadata": {},
     "output_type": "display_data"
    },
    {
     "data": {
      "image/svg+xml": [
       "<svg xmlns=\"http://www.w3.org/2000/svg\" width=\"500\" height=\"500\">\n",
       "    <text x=\"250\" y=\"50\" font-size=\"25\" text-anchor=\"middle\">원</text>\n",
       "    <circle cx=\"250\" cy=\"250\" r=\"100\" stroke=\"black\" stroke-width=\"2\" fill=\"none\"/>\n",
       "    <circle cx=\"250\" cy=\"250\" r=\"1\" stroke=\"black\" stroke-width=\"2\" fill=\"black\"/>\n",
       "    <line x1=\"250\" y1=\"250\" x2=\"350\" y2=\"250\" stroke=\"black\" stroke-width=\"2\"/>\n",
       "    </svg>"
      ],
      "text/plain": [
       "<IPython.core.display.SVG object>"
      ]
     },
     "metadata": {},
     "output_type": "display_data"
    },
    {
     "name": "stdout",
     "output_type": "stream",
     "text": [
      "====================================================================================================\n",
      "요청한 문장: 37° 각도를 그려줘\n",
      "추출된 개념: 각도\n",
      "추출된 인자: {'size': 37}\n",
      "\n",
      "생성된 코드:\n",
      " <svg width=\"500\" height=\"375\" xmlns=\"http://www.w3.org/2000/svg\">\n",
      "    <text x=\"250\" y=\"50\" font-size=\"25\" text-anchor=\"middle\">각</text>\n",
      "    <!-- 기준선 -->\n",
      "    <line x1=\"125\" y1=\"333\" x2=\"375\" y2=\"333\" stroke=\"black\" stroke-width=\"2\" />\n",
      "    <!-- 기울어진 선 -->\n",
      "    <line x1=\"125\" y1=\"333\" x2=\"324.6588775118232\" y2=\"182.54624421198793\" stroke=\"black\" stroke-width=\"2\" />\n",
      "    <!-- 각도 호 -->\n",
      "    <path d=\"M 164.93177550236464,302.9092488423976 A 50,50 0 0,1 175,333\" stroke=\"black\" stroke-width=\"2\" fill=\"none\"/>\n",
      "    </svg>\n",
      "    \n",
      "\n",
      "생성된 설명:\n",
      " ### 각도에 대한 설명\n",
      "\n",
      "**정의:**\n",
      "각도는 두 직선이나 선분이 만나서 생기는 공간의 크기를 측정하는 방법입니다. 우리가 일상에서 자주 접하는 각도는 주로 도로 표지판에서 볼 수 있는 방향 지시나, 그림에서 선들이 만나는 부분을 표현할 때 사용됩니다.\n",
      "\n",
      "**기본 성질:**\n",
      "1. **직선의 각도:** 직선은 정확히 180도의 각도를 가집니다. 직선은 두 방향으로 무한히 이어지는 것처럼 보이지만, 실제로는 시작점과 끝점이 있습니다.\n",
      "   \n",
      "2. **직각 각도:** 직각은 90도를 의미합니다. 이는 우리가 흔히 사용하는 'L'자 모양의 모서리나 사각형의 모서리에서 볼 수 있습니다. 직각은 두 직선이 서로 수직으로 만나는 경우에 생깁니다.\n",
      "\n",
      "3. **평행선과 각도:** 평행한 두 직선은 만나지 않기 때문에, 그들 사이의 각도는 항상 같습니다. 예를 들어, 두 평행선 위에 그려진 삼각형의 한 각은 다른 각과 크기가 동일합니다.\n",
      "\n",
      "4. **복합 각도:** 여러 각도를 합쳐서 더 큰 각도를 만들 수 있습니다. 예를 들어, 두 개의 직각 각도를 합치면 180도가 됩니다.\n",
      "\n",
      "이러한 기본적인 개념들을 이해하면 각도에 대한 다양한 문제를 풀 때 도움이 될 것입니다!\n"
     ]
    },
    {
     "data": {
      "image/svg+xml": [
       "<svg xmlns=\"http://www.w3.org/2000/svg\" width=\"500\" height=\"375\">\n",
       "    <text x=\"250\" y=\"50\" font-size=\"25\" text-anchor=\"middle\">각</text>\n",
       "    <!-- 기준선 -->\n",
       "    <line x1=\"125\" y1=\"333\" x2=\"375\" y2=\"333\" stroke=\"black\" stroke-width=\"2\"/>\n",
       "    <!-- 기울어진 선 -->\n",
       "    <line x1=\"125\" y1=\"333\" x2=\"324.6588775118232\" y2=\"182.54624421198793\" stroke=\"black\" stroke-width=\"2\"/>\n",
       "    <!-- 각도 호 -->\n",
       "    <path d=\"M 164.93177550236464,302.9092488423976 A 50,50 0 0,1 175,333\" stroke=\"black\" stroke-width=\"2\" fill=\"none\"/>\n",
       "    </svg>"
      ],
      "text/plain": [
       "<IPython.core.display.SVG object>"
      ]
     },
     "metadata": {},
     "output_type": "display_data"
    },
    {
     "name": "stdout",
     "output_type": "stream",
     "text": [
      "====================================================================================================\n",
      "요청한 문장: 직각을 표현해줘\n",
      "추출된 개념: Right Angle\n",
      "추출된 인자: {}\n",
      "\n",
      "생성된 코드:\n",
      " <svg width=\"500\" height=\"500\" xmlns=\"http://www.w3.org/2000/svg\">\n",
      "    <text x=\"250\" y=\"50\" font-size=\"25\" text-anchor=\"middle\">직각</text>\n",
      "    <!-- 기준선 -->\n",
      "    <line x1=\"125\" y1=\"400\" x2=\"458\" y2=\"400\" stroke=\"black\" stroke-width=\"2\" />\n",
      "    <!-- 기울어진 선 -->\n",
      "    <line x1=\"125\" y1=\"400\" x2=\"125\" y2=\"67\" stroke=\"black\" stroke-width=\"2\" />\n",
      "    <!-- 직각 보조선 -->\n",
      "    <line x1=\"175\" y1=\"400\" x2=\"175\" y2=\"350\" stroke=\"black\" stroke-width=\"2\" />\n",
      "    <line x1=\"125\" y1=\"350\" x2=\"175\" y2=\"350\" stroke=\"black\" stroke-width=\"2\" />\n",
      "    </svg>\n",
      "    \n",
      "\n",
      "생성된 설명:\n",
      " ### Right Angle\n",
      "\n",
      "**정의:**\n",
      "Right Angle은 기하학에서 가장 기본적인 각도 중 하나로, 정확히 90도를 이루는 각도를 말합니다. 이 각도는 직각이라고도 불리며, 직선이나 특정 도형의 모서리에서 만나는 두 변이 서로 수직으로 만나는 경우에 나타납니다.\n",
      "\n",
      "**기본 성질:**\n",
      "1. **크기:** Right Angle은 항상 정확히 90도입니다. 이는 모든 Right Angle이 동일한 크기를 가짐을 의미합니다.\n",
      "2. **모양:** Right Angle은 보통 'L' 모양으로 쉽게 인식할 수 있습니다. 이 모양은 직각을 나타내는 데 자주 사용됩니다.\n",
      "3. **도형과의 관계:** 직각은 사각형, 직사각형, 정사각형 등 다양한 도형의 모서리에서 발견됩니다. 특히, 직사각형이나 정사각형은 네 개의 Right Angle을 가지고 있습니다.\n",
      "4. **삼각형과의 연관성:** 직각삼각형은 한 내각이 정확히 Right Angle인 삼각형을 의미합니다. 이 삼각형은 세 변의 길이 관계를 통해 피타고라스 정리를 적용할 수 있습니다.\n",
      "\n",
      "이러한 성질들로 인해 Right Angle은 수학에서 매우 중요한 개념으로 자리잡고 있습니다!\n"
     ]
    },
    {
     "data": {
      "image/svg+xml": [
       "<svg xmlns=\"http://www.w3.org/2000/svg\" width=\"500\" height=\"500\">\n",
       "    <text x=\"250\" y=\"50\" font-size=\"25\" text-anchor=\"middle\">직각</text>\n",
       "    <!-- 기준선 -->\n",
       "    <line x1=\"125\" y1=\"400\" x2=\"458\" y2=\"400\" stroke=\"black\" stroke-width=\"2\"/>\n",
       "    <!-- 기울어진 선 -->\n",
       "    <line x1=\"125\" y1=\"400\" x2=\"125\" y2=\"67\" stroke=\"black\" stroke-width=\"2\"/>\n",
       "    <!-- 직각 보조선 -->\n",
       "    <line x1=\"175\" y1=\"400\" x2=\"175\" y2=\"350\" stroke=\"black\" stroke-width=\"2\"/>\n",
       "    <line x1=\"125\" y1=\"350\" x2=\"175\" y2=\"350\" stroke=\"black\" stroke-width=\"2\"/>\n",
       "    </svg>"
      ],
      "text/plain": [
       "<IPython.core.display.SVG object>"
      ]
     },
     "metadata": {},
     "output_type": "display_data"
    },
    {
     "name": "stdout",
     "output_type": "stream",
     "text": [
      "====================================================================================================\n",
      "요청한 문장: 밑변이 3이고, 높이가 4인 직각삼각형 하나를 그려줘\n",
      "추출된 개념: Right Triangle\n",
      "추출된 인자: {'base': 3, 'height': 4}\n",
      "\n",
      "생성된 코드:\n",
      " <svg width=\"500\" height=\"500\" xmlns=\"http://www.w3.org/2000/svg\">\n",
      "    <text x=\"250\" y=\"50\" font-size=\"25\" text-anchor=\"middle\">직각삼각형</text>\n",
      "    <!-- 직각삼각형 -->\n",
      "    <line x1=\"83\" y1=\"416\" x2=\"308\" y2=\"416\" stroke=\"black\" stroke-width=\"2\" />\n",
      "    <line x1=\"308\" y1=\"416\" x2=\"308\" y2=\"166\" stroke=\"black\" stroke-width=\"2\" />\n",
      "    <line x1=\"83\" y1=\"416\" x2=\"308\" y2=\"166\" stroke=\"black\" stroke-width=\"2\" />\n",
      "    <!-- 직각 보조선 -->\n",
      "    <line x1=\"286\" y1=\"416\" x2=\"286\" y2=\"394\" stroke=\"black\" stroke-width=\"2\" />\n",
      "    <line x1=\"286\" y1=\"394\" x2=\"308\" y2=\"394\" stroke=\"black\" stroke-width=\"2\" />\n",
      "    </svg>\n",
      "    \n",
      "\n",
      "생성된 설명:\n",
      " ### Right Triangle\n",
      "\n",
      "**정의:**\n",
      "A right triangle is a special type of triangle that has one angle which measures exactly 90 degrees (a right angle). This unique angle distinguishes it from other triangles where all angles are less than 90 degrees.\n",
      "\n",
      "**기본 성질:**\n",
      "1. **한 각이 직각:** 가장 중요한 특징은 한 꼭짓점에서 직각(90°)을 이루는 것입니다.\n",
      "2. **직각을 중심으로 두 개의 다른 각:** 나머지 두 각은 합쳐 90도가 됩니다. 따라서 이 두 각은 서로 보완각(complementary angles)입니다.\n",
      "3. **피타고라스 정리 적용 가능:** 직각 삼각형에서는 가장 긴 변을 빗변(hypotenuse)이라고 부르며, 이 빗변의 길이는 다른 두 변(직각을 이루는 두 변을 밑변과 높이라고도 부릅니다)의 길이와 특별한 관계를 가집니다. 이 관계는 피타고라스 정리로 표현되는데, 수학적으로는 \\(a^2 + b^2 = c^2\\) 입니다 (여기서 \\(c\\)는 빗변의 길이이고, \\(a\\)와 \\(b\\)는 다른 두 변의 길이입니다). 하지만 문제 해결을 위해 직접적인 공식보다는 이 관계를 이해하는 것이 중요합니다.\n",
      "4. **삼각형의 종류:** 직각 삼각형은 그 각도에 따라 다양한 종류로 나눌 수 있습니다. 예를 들어, 모든 변의 길이가 정수인 직각 삼각형을 피타고라스 삼각형이라고 부르기도 합니다.\n",
      "\n",
      "이런 특징들로 인해 직각 삼각형은 건축, 공학, 그리고 다양한 실생활 문제 해결에서 매우 중요한 역할을 합니다!\n",
      "\n",
      "생성된 공식 raw:\n",
      " {'perimeter': '밑변 + 높이 + 빗변', 'area': '밑변 × 높이 ÷ 2'}\n"
     ]
    },
    {
     "data": {
      "text/latex": [
       "$\\displaystyle 밑변 + 높이 + 빗변$"
      ],
      "text/plain": [
       "<IPython.core.display.Math object>"
      ]
     },
     "metadata": {},
     "output_type": "display_data"
    },
    {
     "data": {
      "text/latex": [
       "$\\displaystyle 밑변 × 높이 ÷ 2$"
      ],
      "text/plain": [
       "<IPython.core.display.Math object>"
      ]
     },
     "metadata": {},
     "output_type": "display_data"
    },
    {
     "data": {
      "image/svg+xml": [
       "<svg xmlns=\"http://www.w3.org/2000/svg\" width=\"500\" height=\"500\">\n",
       "    <text x=\"250\" y=\"50\" font-size=\"25\" text-anchor=\"middle\">직각삼각형</text>\n",
       "    <!-- 직각삼각형 -->\n",
       "    <line x1=\"83\" y1=\"416\" x2=\"308\" y2=\"416\" stroke=\"black\" stroke-width=\"2\"/>\n",
       "    <line x1=\"308\" y1=\"416\" x2=\"308\" y2=\"166\" stroke=\"black\" stroke-width=\"2\"/>\n",
       "    <line x1=\"83\" y1=\"416\" x2=\"308\" y2=\"166\" stroke=\"black\" stroke-width=\"2\"/>\n",
       "    <!-- 직각 보조선 -->\n",
       "    <line x1=\"286\" y1=\"416\" x2=\"286\" y2=\"394\" stroke=\"black\" stroke-width=\"2\"/>\n",
       "    <line x1=\"286\" y1=\"394\" x2=\"308\" y2=\"394\" stroke=\"black\" stroke-width=\"2\"/>\n",
       "    </svg>"
      ],
      "text/plain": [
       "<IPython.core.display.SVG object>"
      ]
     },
     "metadata": {},
     "output_type": "display_data"
    },
    {
     "name": "stdout",
     "output_type": "stream",
     "text": [
      "====================================================================================================\n",
      "요청한 문장: 가로가 5, 세로가 3인 직사각형의 넓이\n",
      "추출된 개념: Rectangle\n",
      "추출된 인자: {'width': 5, 'height': 3}\n",
      "\n",
      "생성된 코드:\n",
      " <svg width=\"500\" height=\"312\" xmlns=\"http://www.w3.org/2000/svg\">\n",
      "    <text x=\"250\" y=\"50\" font-size=\"25\" text-anchor=\"middle\">직사각형</text>\n",
      "    <rect x=\"100\" y=\"100\" width=\"250\" height=\"150\" stroke=\"black\" stroke-width=\"2\" fill=\"none\" />\n",
      "    </svg>\n",
      "\n",
      "생성된 설명:\n",
      " ### Rectangle 설명\n",
      "\n",
      "**정의:**\n",
      "사각형은 네 개의 직선으로 둘러싸인 평면 도형으로, 각 내각이 직각(90도)인 특징을 가지고 있습니다. 즉, 사각형의 네 모서리는 모두 직각을 이루며, 대변이 평행하고 길이가 같은 특성을 갖습니다.\n",
      "\n",
      "**기본 성질:**\n",
      "1. **대변의 길이가 같음:** 사각형의 두 쌍의 대변은 길이가 동일합니다. 예를 들어, 가로와 세로가 같은 길이를 가집니다.\n",
      "2. **대각선이 서로 같음:** 사각형의 두 대각선은 길이가 같습니다. 즉, 사각형을 두 개의 동일한 삼각형으로 나눌 수 있습니다.\n",
      "3. **내각의 합:** 사각형의 네 내각의 합은 항상 360도입니다.\n",
      "4. **변의 배열:** 사각형은 여러 가지 형태로 배열될 수 있습니다. 예를 들어, 직사각형은 가로와 세로가 각각 다른 길이를 가질 수 있으며, 정사각형은 모든 변의 길이가 같고 모든 내각이 직각인 특별한 형태의 사각형입니다.\n",
      "\n",
      "이러한 성질들로 인해 사각형은 우리 일상생활에서 매우 흔하게 볼 수 있는 도형입니다!\n",
      "\n",
      "생성된 공식 raw:\n",
      " {'perimeter': '2 × (밑변 + 높이)', 'area': '밑변 × 높이'}\n"
     ]
    },
    {
     "data": {
      "text/latex": [
       "$\\displaystyle 2 × (밑변 + 높이)$"
      ],
      "text/plain": [
       "<IPython.core.display.Math object>"
      ]
     },
     "metadata": {},
     "output_type": "display_data"
    },
    {
     "data": {
      "text/latex": [
       "$\\displaystyle 밑변 × 높이$"
      ],
      "text/plain": [
       "<IPython.core.display.Math object>"
      ]
     },
     "metadata": {},
     "output_type": "display_data"
    },
    {
     "data": {
      "image/svg+xml": [
       "<svg xmlns=\"http://www.w3.org/2000/svg\" width=\"500\" height=\"312\">\n",
       "    <text x=\"250\" y=\"50\" font-size=\"25\" text-anchor=\"middle\">직사각형</text>\n",
       "    <rect x=\"100\" y=\"100\" width=\"250\" height=\"150\" stroke=\"black\" stroke-width=\"2\" fill=\"none\"/>\n",
       "    </svg>"
      ],
      "text/plain": [
       "<IPython.core.display.SVG object>"
      ]
     },
     "metadata": {},
     "output_type": "display_data"
    },
    {
     "name": "stdout",
     "output_type": "stream",
     "text": [
      "====================================================================================================\n",
      "요청한 문장: 한 변의 길이가 2인 정사각형 하나를 그려줘\n",
      "추출된 개념: Square\n",
      "추출된 인자: {'length': 2}\n",
      "\n",
      "생성된 코드:\n",
      " <svg width=\"500\" height=\"500\" xmlns=\"http://www.w3.org/2000/svg\">\n",
      "    <text x=\"250\" y=\"50\" font-size=\"25\" text-anchor=\"middle\">정사각형</text>\n",
      "    <rect x=\"100\" y=\"100\" width=\"200\" height=\"200\" stroke=\"black\" stroke-width=\"2\" fill=\"none\" />\n",
      "    </svg>\n",
      "\n",
      "생성된 설명:\n",
      " ### Square\n",
      "\n",
      "**정의:**\n",
      "사각형은 네 개의 변으로 이루어진 평면 도형입니다. 모든 내각이 직각(90도)이며, 반대편의 변들이 길이가 같아서 마주보는 두 변은 평행하고 길이가 동일합니다.\n",
      "\n",
      "**기본 성질:**\n",
      "1. **대변의 길이 동일:** 사각형의 마주보는 두 변은 길이가 같습니다. 예를 들어, 정사각형이나 직사각형에서는 모든 대변이 같은 길이를 가집니다.\n",
      "2. **대각선의 성질:** 사각형의 대각선은 서로를 반으로 나눕니다. 즉, 대각선이 만나는 점에서 대각선을 잇는 선분들은 서로를 절반으로 나눕니다.\n",
      "3. **변의 합:** 사각형의 네 변의 길이를 모두 더하면, 그 합은 사각형의 둘레를 나타냅니다. 예를 들어, 한 변의 길이가 \\(a\\)이고 다른 변의 길이가 \\(b\\)라면, 둘레는 \\(a + b + a + b = 2(a + b)\\)가 됩니다.\n",
      "4. **정사각형의 특징:** 정사각형은 모든 변의 길이가 같고 모든 내각이 직각인 특별한 사각형입니다. 모든 대각선도 길이가 같고 서로를 직각으로 이룹니다.\n",
      "\n",
      "이러한 성질들로 인해 사각형은 다양한 형태와 크기로 존재하며, 건축, 디자인, 그리고 일상생활에서 자주 볼 수 있는 도형입니다!\n",
      "\n",
      "생성된 공식 raw:\n",
      " {'perimeter': '4 \\\\times \\\\mathrm{한 변의 길이}', 'area': '\\\\mathrm{한 변의 길이} \\\\times \\\\mathrm{한 변의 길이}'}\n"
     ]
    },
    {
     "data": {
      "text/latex": [
       "$\\displaystyle 4 \\times \\mathrm{한 변의 길이}$"
      ],
      "text/plain": [
       "<IPython.core.display.Math object>"
      ]
     },
     "metadata": {},
     "output_type": "display_data"
    },
    {
     "data": {
      "text/latex": [
       "$\\displaystyle \\mathrm{한 변의 길이} \\times \\mathrm{한 변의 길이}$"
      ],
      "text/plain": [
       "<IPython.core.display.Math object>"
      ]
     },
     "metadata": {},
     "output_type": "display_data"
    },
    {
     "data": {
      "image/svg+xml": [
       "<svg xmlns=\"http://www.w3.org/2000/svg\" width=\"500\" height=\"500\">\n",
       "    <text x=\"250\" y=\"50\" font-size=\"25\" text-anchor=\"middle\">정사각형</text>\n",
       "    <rect x=\"100\" y=\"100\" width=\"200\" height=\"200\" stroke=\"black\" stroke-width=\"2\" fill=\"none\"/>\n",
       "    </svg>"
      ],
      "text/plain": [
       "<IPython.core.display.SVG object>"
      ]
     },
     "metadata": {},
     "output_type": "display_data"
    },
    {
     "name": "stdout",
     "output_type": "stream",
     "text": [
      "====================================================================================================\n",
      "요청한 문장: 곧은선이 뭐야?\n",
      "추출된 개념: 직선\n",
      "추출된 인자: {}\n",
      "\n",
      "생성된 코드:\n",
      " <svg width=\"500\" height=\"500\" xmlns=\"http://www.w3.org/2000/svg\">\n",
      "    <text x=\"250\" y=\"25\" font-size=\"25\" text-anchor=\"middle\">곧은선</text>\n",
      "    <text x=\"250\" y=\"75\" font-size=\"25\" text-anchor=\"middle\">선분</text>\n",
      "    <!-- 선분 -->\n",
      "    <circle cx=\"125\" cy=\"125\" r=\"1\" stroke=\"black\" stroke-width=\"2\" fill=\"black\" />\n",
      "    <circle cx=\"375\" cy=\"125\" r=\"1\" stroke=\"black\" stroke-width=\"2\" fill=\"black\" />\n",
      "    <line x1=\"125\" y1=\"125\" x2=\"375\" y2=\"125\" stroke=\"black\" stroke-width=\"2\" />\n",
      "    <!-- 반직선 -->\n",
      "    <text x=\"250\" y=\"175\" font-size=\"25\" text-anchor=\"middle\">반직선</text>\n",
      "    <circle cx=\"125\" cy=\"250\" r=\"1\" stroke=\"black\" stroke-width=\"2\" fill=\"black\" />\n",
      "    <circle cx=\"375\" cy=\"250\" r=\"1\" stroke=\"black\" stroke-width=\"2\" fill=\"black\" />\n",
      "    <line x1=\"125\" y1=\"250\" x2=\"500\" y2=\"250\" stroke=\"black\" stroke-width=\"2\" />\n",
      "    <!-- 직선 -->\n",
      "    <text x=\"250\" y=\"300\" font-size=\"25\" text-anchor=\"middle\">직선</text>\n",
      "    <circle cx=\"125\" cy=\"375\" r=\"1\" stroke=\"black\" stroke-width=\"2\" fill=\"black\" />\n",
      "    <circle cx=\"375\" cy=\"375\" r=\"1\" stroke=\"black\" stroke-width=\"2\" fill=\"black\" />\n",
      "    <line x1=\"0\" y1=\"375\" x2=\"500\" y2=\"375\" stroke=\"black\" stroke-width=\"2\" />\n",
      "    </svg>\n",
      "    \n",
      "\n",
      "생성된 설명:\n",
      " ### 직선에 대한 설명\n",
      "\n",
      "#### 정의\n",
      "직선은 평면 위에서 가장 짧은 거리로 두 점을 연결하는 선을 말합니다. 이 선은 양쪽으로 무한히 계속되며, 방향이 항상 일정합니다. 직선 위의 모든 점들은 서로 평행하게 연결되어 있어, 어떤 방향으로든 뻗어나갈 수 있습니다.\n",
      "\n",
      "#### 기본 성질\n",
      "1. **무한한 길이**: 직선은 양쪽으로 무한히 이어집니다. 즉, 시작점에서 끝점까지의 거리가 아무리 길어도 계속해서 뻗어나갈 수 있습니다.\n",
      "2. **평행한 선들**: 같은 방향으로 무한히 뻗어나가는 두 직선은 서로 평행합니다. 반대로, 서로 다른 방향으로 무한히 뻗어나가는 두 직선은 교차하지 않습니다.\n",
      "3. **직선 위의 점들**: 직선 위의 모든 점들은 서로 연결되어 있어, 어떤 두 점을 잇는 선분은 항상 직선의 일부분입니다.\n",
      "4. **직선의 대칭성**: 직선을 기준으로 대칭인 두 부분은 서로 완전히 일치합니다. 예를 들어, 한 점을 기준으로 대칭인 두 점은 직선 양쪽에 동일한 거리에 위치합니다.\n",
      "\n",
      "이러한 성질들로 인해 직선은 기하학에서 매우 중요한 개념으로 사용됩니다!\n"
     ]
    },
    {
     "data": {
      "image/svg+xml": [
       "<svg xmlns=\"http://www.w3.org/2000/svg\" width=\"500\" height=\"500\">\n",
       "    <text x=\"250\" y=\"25\" font-size=\"25\" text-anchor=\"middle\">곧은선</text>\n",
       "    <text x=\"250\" y=\"75\" font-size=\"25\" text-anchor=\"middle\">선분</text>\n",
       "    <!-- 선분 -->\n",
       "    <circle cx=\"125\" cy=\"125\" r=\"1\" stroke=\"black\" stroke-width=\"2\" fill=\"black\"/>\n",
       "    <circle cx=\"375\" cy=\"125\" r=\"1\" stroke=\"black\" stroke-width=\"2\" fill=\"black\"/>\n",
       "    <line x1=\"125\" y1=\"125\" x2=\"375\" y2=\"125\" stroke=\"black\" stroke-width=\"2\"/>\n",
       "    <!-- 반직선 -->\n",
       "    <text x=\"250\" y=\"175\" font-size=\"25\" text-anchor=\"middle\">반직선</text>\n",
       "    <circle cx=\"125\" cy=\"250\" r=\"1\" stroke=\"black\" stroke-width=\"2\" fill=\"black\"/>\n",
       "    <circle cx=\"375\" cy=\"250\" r=\"1\" stroke=\"black\" stroke-width=\"2\" fill=\"black\"/>\n",
       "    <line x1=\"125\" y1=\"250\" x2=\"500\" y2=\"250\" stroke=\"black\" stroke-width=\"2\"/>\n",
       "    <!-- 직선 -->\n",
       "    <text x=\"250\" y=\"300\" font-size=\"25\" text-anchor=\"middle\">직선</text>\n",
       "    <circle cx=\"125\" cy=\"375\" r=\"1\" stroke=\"black\" stroke-width=\"2\" fill=\"black\"/>\n",
       "    <circle cx=\"375\" cy=\"375\" r=\"1\" stroke=\"black\" stroke-width=\"2\" fill=\"black\"/>\n",
       "    <line x1=\"0\" y1=\"375\" x2=\"500\" y2=\"375\" stroke=\"black\" stroke-width=\"2\"/>\n",
       "    </svg>"
      ],
      "text/plain": [
       "<IPython.core.display.SVG object>"
      ]
     },
     "metadata": {},
     "output_type": "display_data"
    },
    {
     "name": "stdout",
     "output_type": "stream",
     "text": [
      "====================================================================================================\n",
      "요청한 문장: 대표적인 굽은선을 그려줘\n",
      "추출된 개념: 곡선\n",
      "추출된 인자: {'type': '타원', 'description': '타원은 가장 대표적인 굽은선의 한 종류로, 두 초점 사이의 거리의 합이 일정한 점들의 집합으로 정의됩니다.'}\n",
      "\n",
      "생성된 코드:\n",
      " \n",
      "    <svg width=\"500\" height=\"500\" xmlns=\"http://www.w3.org/2000/svg\">\n",
      "    <text x=\"250\" y=\"50\" font-size=\"25\" text-anchor=\"middle\">굽은선</text>\n",
      "    <!-- 복잡한 S자 곡선 (두 개의 Cubic Bézier) -->\n",
      "    <path d=\"M 100,400\n",
      "    C 100,100 400,100 400,250\n",
      "    C 400,400 100,400 100,100\"\n",
      "    stroke=\"black\" fill=\"none\" stroke-width=\"2\"/>\n",
      "    </svg>\n",
      "    \n",
      "\n",
      "생성된 설명:\n",
      " ### 곡선에 대한 설명\n",
      "\n",
      "**정의:**\n",
      "곡선은 직선이 아닌, 연속적으로 이어지는 점들의 모임으로 이루어진 도형입니다. 쉽게 말해, 직선처럼 일정한 방향으로만 움직이는 것이 아니라, 부드럽게 휘어지거나 굽어지는 형태를 가진 선을 말합니다.\n",
      "\n",
      "**기본 성질:**\n",
      "1. **연속성:** 곡선 위의 모든 점들은 부드럽게 이어져 있어, 어떤 작은 구간에서도 끊어지지 않고 이어집니다.\n",
      "2. **길이:** 곡선의 길이는 그 곡선을 따라 측정한 총 거리입니다. 이 길이는 곡선의 모양에 따라 달라집니다. 예를 들어, 원의 둘레는 반지름에 따라 결정되며, 이는 곡선의 길이를 정확히 계산하는 방법 중 하나입니다.\n",
      "3. **곡률:** 곡선이 얼마나 빠르게 방향을 바꾸는지를 나타내는 값입니다. 곡률이 크면 곡선이 더 급하게 굽어지고, 작으면 더 부드럽게 굽어집니다. 예를 들어, 원의 경우 모든 점에서 곡률이 일정합니다.\n",
      "4. **접선:** 곡선 위의 어떤 점에서 그 점을 지나는 가장 가까운 직선을 접선이라고 합니다. 이 접선은 그 점에서 곡선의 방향을 가장 잘 나타냅니다.\n",
      "\n",
      "이러한 성질들 덕분에 곡선은 자연 현상이나 공학적 설계 등 다양한 분야에서 중요한 역할을 합니다.\n"
     ]
    },
    {
     "data": {
      "image/svg+xml": [
       "<svg xmlns=\"http://www.w3.org/2000/svg\" width=\"500\" height=\"500\">\n",
       "    <text x=\"250\" y=\"50\" font-size=\"25\" text-anchor=\"middle\">굽은선</text>\n",
       "    <!-- 복잡한 S자 곡선 (두 개의 Cubic Bézier) -->\n",
       "    <path d=\"M 100,400     C 100,100 400,100 400,250     C 400,400 100,400 100,100\" stroke=\"black\" fill=\"none\" stroke-width=\"2\"/>\n",
       "    </svg>"
      ],
      "text/plain": [
       "<IPython.core.display.SVG object>"
      ]
     },
     "metadata": {},
     "output_type": "display_data"
    },
    {
     "name": "stdout",
     "output_type": "stream",
     "text": [
      "====================================================================================================\n",
      "요청한 문장: 중심이 (0,0)이고 반지름이 2인 원을 그려주세요.\n",
      "추출된 개념: Circle\n",
      "추출된 인자: {'radius': 2}\n",
      "\n",
      "생성된 코드:\n",
      " <svg width=\"500\" height=\"500\" xmlns=\"http://www.w3.org/2000/svg\">\n",
      "    <text x=\"250\" y=\"50\" font-size=\"25\" text-anchor=\"middle\">원</text>\n",
      "    <circle cx=\"250\" cy=\"250\" r=\"100\" stroke=\"black\" stroke-width=\"2\" fill=\"none\" />\n",
      "    <circle cx=\"250\" cy=\"250\" r=\"1\" stroke=\"black\" stroke-width=\"2\" fill=\"black\" />\n",
      "    <line x1=\"250\" y1=\"250\" x2=\"350\" y2=\"250\" stroke=\"black\" stroke-width=\"2\" />\n",
      "    </svg>\n",
      "    \n",
      "\n",
      "생성된 설명:\n",
      " ### Circle (원)\n",
      "\n",
      "#### 정의:\n",
      "원은 평면 위에서 한 점(중심)으로부터 일정한 거리(반지름)에 있는 모든 점들의 집합을 말합니다. 이 중심점을 기준으로 원 위의 모든 점들은 동일한 거리에 위치해 있습니다.\n",
      "\n",
      "#### 기본 성질:\n",
      "1. **둘레와 지름**: 원의 둘레는 지름에 π(약 3.14)를 곱한 값입니다. 즉, 둘레 = 지름 × π 입니다. 반대로 지름은 둘레를 π로 나누면 구할 수 있습니다.\n",
      "   \n",
      "2. **면적**: 원의 면적은 반지름의 제곱에 π를 곱한 값입니다. 공식으로 표현하면 면적 = π × 반지름2 입니다.\n",
      "\n",
      "3. **대칭성**: 원은 중심을 기준으로 완벽하게 대칭입니다. 즉, 중심을 지나는 어떤 직선을 기준으로 원을 접어도 양쪽이 완전히 일치합니다.\n",
      "\n",
      "4. **원주각과 호의 관계**: 원 위의 두 점을 잇는 호의 중앙각은 그 호에 대응하는 원주각의 두 배입니다. 예를 들어, 호의 중앙각이 θ라면 원주각은 θ/2가 됩니다.\n",
      "\n",
      "이러한 성질들로 인해 원은 기하학에서 매우 중요한 역할을 합니다. 다양한 도형과 문제 해결에 활용되며, 일상생활에서도 자주 접하게 되는 개념입니다.\n",
      "\n",
      "생성된 공식 raw:\n",
      " {'perimeter': '2 \\\\times 3.14 \\\\times 반지름', 'area': '3.14 \\\\times 반지름 \\\\times 반지름'}\n"
     ]
    },
    {
     "data": {
      "text/latex": [
       "$\\displaystyle 2 \\times 3.14 \\times 반지름$"
      ],
      "text/plain": [
       "<IPython.core.display.Math object>"
      ]
     },
     "metadata": {},
     "output_type": "display_data"
    },
    {
     "data": {
      "text/latex": [
       "$\\displaystyle 3.14 \\times 반지름 \\times 반지름$"
      ],
      "text/plain": [
       "<IPython.core.display.Math object>"
      ]
     },
     "metadata": {},
     "output_type": "display_data"
    },
    {
     "data": {
      "image/svg+xml": [
       "<svg xmlns=\"http://www.w3.org/2000/svg\" width=\"500\" height=\"500\">\n",
       "    <text x=\"250\" y=\"50\" font-size=\"25\" text-anchor=\"middle\">원</text>\n",
       "    <circle cx=\"250\" cy=\"250\" r=\"100\" stroke=\"black\" stroke-width=\"2\" fill=\"none\"/>\n",
       "    <circle cx=\"250\" cy=\"250\" r=\"1\" stroke=\"black\" stroke-width=\"2\" fill=\"black\"/>\n",
       "    <line x1=\"250\" y1=\"250\" x2=\"350\" y2=\"250\" stroke=\"black\" stroke-width=\"2\"/>\n",
       "    </svg>"
      ],
      "text/plain": [
       "<IPython.core.display.SVG object>"
      ]
     },
     "metadata": {},
     "output_type": "display_data"
    },
    {
     "name": "stdout",
     "output_type": "stream",
     "text": [
      "====================================================================================================\n",
      "요청한 문장: 37° 각도를 그려줘\n",
      "추출된 개념: 각도\n",
      "추출된 인자: {'size': 37}\n",
      "\n",
      "생성된 코드:\n",
      " <svg width=\"500\" height=\"375\" xmlns=\"http://www.w3.org/2000/svg\">\n",
      "    <text x=\"250\" y=\"50\" font-size=\"25\" text-anchor=\"middle\">각</text>\n",
      "    <!-- 기준선 -->\n",
      "    <line x1=\"125\" y1=\"333\" x2=\"375\" y2=\"333\" stroke=\"black\" stroke-width=\"2\" />\n",
      "    <!-- 기울어진 선 -->\n",
      "    <line x1=\"125\" y1=\"333\" x2=\"324.6588775118232\" y2=\"182.54624421198793\" stroke=\"black\" stroke-width=\"2\" />\n",
      "    <!-- 각도 호 -->\n",
      "    <path d=\"M 164.93177550236464,302.9092488423976 A 50,50 0 0,1 175,333\" stroke=\"black\" stroke-width=\"2\" fill=\"none\"/>\n",
      "    </svg>\n",
      "    \n",
      "\n",
      "생성된 설명:\n",
      " ### 각도에 대한 설명\n",
      "\n",
      "**정의:**\n",
      "각도는 두 직선이나 선분이 만나서 생기는 공간의 크기를 측정하는 방법입니다. 우리가 일상에서 자주 접하는 각도는 주로 도로 표지판에서 볼 수 있는 방향 지시나, 그림에서 선들이 만나는 부분을 표현할 때 사용됩니다.\n",
      "\n",
      "**기본 성질:**\n",
      "1. **직선의 각도:** 직선은 정확히 180도의 각도를 가집니다. 직선은 두 방향으로 무한히 이어지는 것처럼 보이지만, 실제로는 시작점과 끝점이 있습니다.\n",
      "   \n",
      "2. **직각 각도:** 직각은 90도를 의미합니다. 이는 우리가 흔히 사용하는 'L'자 모양의 모서리나 사각형의 모서리에서 볼 수 있습니다. 직각은 두 직선이 서로 수직으로 만나는 경우에 생깁니다.\n",
      "\n",
      "3. **평행선과 각도:** 평행한 두 직선은 만나지 않기 때문에, 그들 사이의 각도는 항상 같습니다. 예를 들어, 두 평행선 위에 그려진 삼각형의 한 각은 다른 각과 크기가 동일합니다.\n",
      "\n",
      "4. **복합 각도:** 여러 각도를 합쳐서 더 큰 각도를 만들 수 있습니다. 예를 들어, 두 개의 직각 각도를 합치면 180도가 됩니다.\n",
      "\n",
      "이러한 기본적인 개념들을 이해하면 각도에 대한 다양한 문제를 풀 때 도움이 될 것입니다!\n"
     ]
    },
    {
     "data": {
      "image/svg+xml": [
       "<svg xmlns=\"http://www.w3.org/2000/svg\" width=\"500\" height=\"375\">\n",
       "    <text x=\"250\" y=\"50\" font-size=\"25\" text-anchor=\"middle\">각</text>\n",
       "    <!-- 기준선 -->\n",
       "    <line x1=\"125\" y1=\"333\" x2=\"375\" y2=\"333\" stroke=\"black\" stroke-width=\"2\"/>\n",
       "    <!-- 기울어진 선 -->\n",
       "    <line x1=\"125\" y1=\"333\" x2=\"324.6588775118232\" y2=\"182.54624421198793\" stroke=\"black\" stroke-width=\"2\"/>\n",
       "    <!-- 각도 호 -->\n",
       "    <path d=\"M 164.93177550236464,302.9092488423976 A 50,50 0 0,1 175,333\" stroke=\"black\" stroke-width=\"2\" fill=\"none\"/>\n",
       "    </svg>"
      ],
      "text/plain": [
       "<IPython.core.display.SVG object>"
      ]
     },
     "metadata": {},
     "output_type": "display_data"
    },
    {
     "name": "stdout",
     "output_type": "stream",
     "text": [
      "====================================================================================================\n",
      "요청한 문장: 직각을 표현해줘\n",
      "추출된 개념: Right Angle\n",
      "추출된 인자: {}\n",
      "\n",
      "생성된 코드:\n",
      " <svg width=\"500\" height=\"500\" xmlns=\"http://www.w3.org/2000/svg\">\n",
      "    <text x=\"250\" y=\"50\" font-size=\"25\" text-anchor=\"middle\">직각</text>\n",
      "    <!-- 기준선 -->\n",
      "    <line x1=\"125\" y1=\"400\" x2=\"458\" y2=\"400\" stroke=\"black\" stroke-width=\"2\" />\n",
      "    <!-- 기울어진 선 -->\n",
      "    <line x1=\"125\" y1=\"400\" x2=\"125\" y2=\"67\" stroke=\"black\" stroke-width=\"2\" />\n",
      "    <!-- 직각 보조선 -->\n",
      "    <line x1=\"175\" y1=\"400\" x2=\"175\" y2=\"350\" stroke=\"black\" stroke-width=\"2\" />\n",
      "    <line x1=\"125\" y1=\"350\" x2=\"175\" y2=\"350\" stroke=\"black\" stroke-width=\"2\" />\n",
      "    </svg>\n",
      "    \n",
      "\n",
      "생성된 설명:\n",
      " ### Right Angle\n",
      "\n",
      "**정의:**\n",
      "Right Angle은 기하학에서 가장 기본적인 각도 중 하나로, 정확히 90도를 이루는 각도를 말합니다. 이 각도는 직각이라고도 불리며, 직선이나 특정 도형의 모서리에서 만나는 두 변이 서로 수직으로 만나는 경우에 나타납니다.\n",
      "\n",
      "**기본 성질:**\n",
      "1. **크기:** Right Angle은 항상 정확히 90도입니다. 이는 모든 Right Angle이 동일한 크기를 가짐을 의미합니다.\n",
      "2. **모양:** Right Angle은 보통 'L' 모양으로 쉽게 인식할 수 있습니다. 이 모양은 직각을 나타내는 데 자주 사용됩니다.\n",
      "3. **도형과의 관계:** 직각은 사각형, 직사각형, 정사각형 등 다양한 도형의 모서리에서 발견됩니다. 특히, 직사각형이나 정사각형은 네 개의 Right Angle을 가지고 있습니다.\n",
      "4. **삼각형과의 연관성:** 직각삼각형은 한 내각이 정확히 Right Angle인 삼각형을 의미합니다. 이 삼각형은 세 변의 길이 관계를 통해 피타고라스 정리를 적용할 수 있습니다.\n",
      "\n",
      "이러한 성질들로 인해 Right Angle은 수학에서 매우 중요한 개념으로 자리잡고 있습니다!\n"
     ]
    },
    {
     "data": {
      "image/svg+xml": [
       "<svg xmlns=\"http://www.w3.org/2000/svg\" width=\"500\" height=\"500\">\n",
       "    <text x=\"250\" y=\"50\" font-size=\"25\" text-anchor=\"middle\">직각</text>\n",
       "    <!-- 기준선 -->\n",
       "    <line x1=\"125\" y1=\"400\" x2=\"458\" y2=\"400\" stroke=\"black\" stroke-width=\"2\"/>\n",
       "    <!-- 기울어진 선 -->\n",
       "    <line x1=\"125\" y1=\"400\" x2=\"125\" y2=\"67\" stroke=\"black\" stroke-width=\"2\"/>\n",
       "    <!-- 직각 보조선 -->\n",
       "    <line x1=\"175\" y1=\"400\" x2=\"175\" y2=\"350\" stroke=\"black\" stroke-width=\"2\"/>\n",
       "    <line x1=\"125\" y1=\"350\" x2=\"175\" y2=\"350\" stroke=\"black\" stroke-width=\"2\"/>\n",
       "    </svg>"
      ],
      "text/plain": [
       "<IPython.core.display.SVG object>"
      ]
     },
     "metadata": {},
     "output_type": "display_data"
    },
    {
     "name": "stdout",
     "output_type": "stream",
     "text": [
      "====================================================================================================\n",
      "요청한 문장: 밑변이 3이고, 높이가 4인 직각삼각형 하나를 그려줘\n",
      "추출된 개념: Right Triangle\n",
      "추출된 인자: {'base': 3, 'height': 4}\n",
      "\n",
      "생성된 코드:\n",
      " <svg width=\"500\" height=\"500\" xmlns=\"http://www.w3.org/2000/svg\">\n",
      "    <text x=\"250\" y=\"50\" font-size=\"25\" text-anchor=\"middle\">직각삼각형</text>\n",
      "    <!-- 직각삼각형 -->\n",
      "    <line x1=\"83\" y1=\"416\" x2=\"308\" y2=\"416\" stroke=\"black\" stroke-width=\"2\" />\n",
      "    <line x1=\"308\" y1=\"416\" x2=\"308\" y2=\"166\" stroke=\"black\" stroke-width=\"2\" />\n",
      "    <line x1=\"83\" y1=\"416\" x2=\"308\" y2=\"166\" stroke=\"black\" stroke-width=\"2\" />\n",
      "    <!-- 직각 보조선 -->\n",
      "    <line x1=\"286\" y1=\"416\" x2=\"286\" y2=\"394\" stroke=\"black\" stroke-width=\"2\" />\n",
      "    <line x1=\"286\" y1=\"394\" x2=\"308\" y2=\"394\" stroke=\"black\" stroke-width=\"2\" />\n",
      "    </svg>\n",
      "    \n",
      "\n",
      "생성된 설명:\n",
      " ### Right Triangle\n",
      "\n",
      "**정의:**\n",
      "A right triangle is a special type of triangle that has one angle which measures exactly 90 degrees (a right angle). This unique angle distinguishes it from other triangles where all angles are less than 90 degrees.\n",
      "\n",
      "**기본 성질:**\n",
      "1. **한 각이 직각:** 가장 중요한 특징은 한 꼭짓점에서 직각(90°)을 이루는 것입니다.\n",
      "2. **직각을 중심으로 두 개의 다른 각:** 나머지 두 각은 합쳐 90도가 됩니다. 따라서 이 두 각은 서로 보완각(complementary angles)입니다.\n",
      "3. **피타고라스 정리 적용 가능:** 직각 삼각형에서는 가장 긴 변을 빗변(hypotenuse)이라고 부르며, 이 빗변의 길이는 다른 두 변(직각을 이루는 두 변을 밑변과 높이라고도 부릅니다)의 길이와 특별한 관계를 가집니다. 이 관계는 피타고라스 정리로 표현되는데, 수학적으로는 \\(a^2 + b^2 = c^2\\) 입니다 (여기서 \\(c\\)는 빗변의 길이이고, \\(a\\)와 \\(b\\)는 다른 두 변의 길이입니다). 하지만 문제 해결을 위해 직접적인 공식보다는 이 관계를 이해하는 것이 중요합니다.\n",
      "4. **삼각형의 종류:** 직각 삼각형은 그 각도에 따라 다양한 종류로 나눌 수 있습니다. 예를 들어, 모든 변의 길이가 정수인 직각 삼각형을 피타고라스 삼각형이라고 부르기도 합니다.\n",
      "\n",
      "이런 특징들로 인해 직각 삼각형은 건축, 공학, 그리고 다양한 실생활 문제 해결에서 매우 중요한 역할을 합니다!\n",
      "\n",
      "생성된 공식 raw:\n",
      " {'perimeter': '밑변 + 높이 + 빗변', 'area': '밑변 × 높이 ÷ 2'}\n"
     ]
    },
    {
     "data": {
      "text/latex": [
       "$\\displaystyle 밑변 + 높이 + 빗변$"
      ],
      "text/plain": [
       "<IPython.core.display.Math object>"
      ]
     },
     "metadata": {},
     "output_type": "display_data"
    },
    {
     "data": {
      "text/latex": [
       "$\\displaystyle 밑변 × 높이 ÷ 2$"
      ],
      "text/plain": [
       "<IPython.core.display.Math object>"
      ]
     },
     "metadata": {},
     "output_type": "display_data"
    },
    {
     "data": {
      "image/svg+xml": [
       "<svg xmlns=\"http://www.w3.org/2000/svg\" width=\"500\" height=\"500\">\n",
       "    <text x=\"250\" y=\"50\" font-size=\"25\" text-anchor=\"middle\">직각삼각형</text>\n",
       "    <!-- 직각삼각형 -->\n",
       "    <line x1=\"83\" y1=\"416\" x2=\"308\" y2=\"416\" stroke=\"black\" stroke-width=\"2\"/>\n",
       "    <line x1=\"308\" y1=\"416\" x2=\"308\" y2=\"166\" stroke=\"black\" stroke-width=\"2\"/>\n",
       "    <line x1=\"83\" y1=\"416\" x2=\"308\" y2=\"166\" stroke=\"black\" stroke-width=\"2\"/>\n",
       "    <!-- 직각 보조선 -->\n",
       "    <line x1=\"286\" y1=\"416\" x2=\"286\" y2=\"394\" stroke=\"black\" stroke-width=\"2\"/>\n",
       "    <line x1=\"286\" y1=\"394\" x2=\"308\" y2=\"394\" stroke=\"black\" stroke-width=\"2\"/>\n",
       "    </svg>"
      ],
      "text/plain": [
       "<IPython.core.display.SVG object>"
      ]
     },
     "metadata": {},
     "output_type": "display_data"
    },
    {
     "name": "stdout",
     "output_type": "stream",
     "text": [
      "====================================================================================================\n",
      "요청한 문장: 가로가 5, 세로가 3인 직사각형의 넓이\n",
      "추출된 개념: Rectangle\n",
      "추출된 인자: {'width': 5, 'height': 3}\n",
      "\n",
      "생성된 코드:\n",
      " <svg width=\"500\" height=\"312\" xmlns=\"http://www.w3.org/2000/svg\">\n",
      "    <text x=\"250\" y=\"50\" font-size=\"25\" text-anchor=\"middle\">직사각형</text>\n",
      "    <rect x=\"100\" y=\"100\" width=\"250\" height=\"150\" stroke=\"black\" stroke-width=\"2\" fill=\"none\" />\n",
      "    </svg>\n",
      "\n",
      "생성된 설명:\n",
      " ### Rectangle 설명\n",
      "\n",
      "**정의:**\n",
      "사각형은 네 개의 직선으로 둘러싸인 평면 도형으로, 각 내각이 직각(90도)인 특징을 가지고 있습니다. 즉, 사각형의 네 모서리는 모두 직각을 이루며, 대변이 평행하고 길이가 같은 특성을 갖습니다.\n",
      "\n",
      "**기본 성질:**\n",
      "1. **대변의 길이가 같음:** 사각형의 두 쌍의 대변은 길이가 동일합니다. 예를 들어, 가로와 세로가 같은 길이를 가집니다.\n",
      "2. **대각선이 서로 같음:** 사각형의 두 대각선은 길이가 같습니다. 즉, 사각형을 두 개의 동일한 삼각형으로 나눌 수 있습니다.\n",
      "3. **내각의 합:** 사각형의 네 내각의 합은 항상 360도입니다.\n",
      "4. **변의 배열:** 사각형은 여러 가지 형태로 배열될 수 있습니다. 예를 들어, 직사각형은 가로와 세로가 각각 다른 길이를 가질 수 있으며, 정사각형은 모든 변의 길이가 같고 모든 내각이 직각인 특별한 형태의 사각형입니다.\n",
      "\n",
      "이러한 성질들로 인해 사각형은 우리 일상생활에서 매우 흔하게 볼 수 있는 도형입니다!\n",
      "\n",
      "생성된 공식 raw:\n",
      " {'perimeter': '2 × (밑변 + 높이)', 'area': '밑변 × 높이'}\n"
     ]
    },
    {
     "data": {
      "text/latex": [
       "$\\displaystyle 2 × (밑변 + 높이)$"
      ],
      "text/plain": [
       "<IPython.core.display.Math object>"
      ]
     },
     "metadata": {},
     "output_type": "display_data"
    },
    {
     "data": {
      "text/latex": [
       "$\\displaystyle 밑변 × 높이$"
      ],
      "text/plain": [
       "<IPython.core.display.Math object>"
      ]
     },
     "metadata": {},
     "output_type": "display_data"
    },
    {
     "data": {
      "image/svg+xml": [
       "<svg xmlns=\"http://www.w3.org/2000/svg\" width=\"500\" height=\"312\">\n",
       "    <text x=\"250\" y=\"50\" font-size=\"25\" text-anchor=\"middle\">직사각형</text>\n",
       "    <rect x=\"100\" y=\"100\" width=\"250\" height=\"150\" stroke=\"black\" stroke-width=\"2\" fill=\"none\"/>\n",
       "    </svg>"
      ],
      "text/plain": [
       "<IPython.core.display.SVG object>"
      ]
     },
     "metadata": {},
     "output_type": "display_data"
    },
    {
     "name": "stdout",
     "output_type": "stream",
     "text": [
      "====================================================================================================\n",
      "요청한 문장: 한 변의 길이가 2인 정사각형 하나를 그려줘\n",
      "추출된 개념: Square\n",
      "추출된 인자: {'length': 2}\n",
      "\n",
      "생성된 코드:\n",
      " <svg width=\"500\" height=\"500\" xmlns=\"http://www.w3.org/2000/svg\">\n",
      "    <text x=\"250\" y=\"50\" font-size=\"25\" text-anchor=\"middle\">정사각형</text>\n",
      "    <rect x=\"100\" y=\"100\" width=\"200\" height=\"200\" stroke=\"black\" stroke-width=\"2\" fill=\"none\" />\n",
      "    </svg>\n",
      "\n",
      "생성된 설명:\n",
      " ### Square\n",
      "\n",
      "**정의:**\n",
      "사각형은 네 개의 변으로 이루어진 평면 도형입니다. 모든 내각이 직각(90도)이며, 반대편의 변들이 길이가 같아서 마주보는 두 변은 평행하고 길이가 동일합니다.\n",
      "\n",
      "**기본 성질:**\n",
      "1. **대변의 길이 동일:** 사각형의 마주보는 두 변은 길이가 같습니다. 예를 들어, 정사각형이나 직사각형에서는 모든 대변이 같은 길이를 가집니다.\n",
      "2. **대각선의 성질:** 사각형의 대각선은 서로를 반으로 나눕니다. 즉, 대각선이 만나는 점에서 대각선을 잇는 선분들은 서로를 절반으로 나눕니다.\n",
      "3. **변의 합:** 사각형의 네 변의 길이를 모두 더하면, 그 합은 사각형의 둘레를 나타냅니다. 예를 들어, 한 변의 길이가 \\(a\\)이고 다른 변의 길이가 \\(b\\)라면, 둘레는 \\(a + b + a + b = 2(a + b)\\)가 됩니다.\n",
      "4. **정사각형의 특징:** 정사각형은 모든 변의 길이가 같고 모든 내각이 직각인 특별한 사각형입니다. 모든 대각선도 길이가 같고 서로를 직각으로 이룹니다.\n",
      "\n",
      "이러한 성질들로 인해 사각형은 다양한 형태와 크기로 존재하며, 건축, 디자인, 그리고 일상생활에서 자주 볼 수 있는 도형입니다!\n",
      "\n",
      "생성된 공식 raw:\n",
      " {'perimeter': '4 \\\\times \\\\mathrm{한 변의 길이}', 'area': '\\\\mathrm{한 변의 길이} \\\\times \\\\mathrm{한 변의 길이}'}\n"
     ]
    },
    {
     "data": {
      "text/latex": [
       "$\\displaystyle 4 \\times \\mathrm{한 변의 길이}$"
      ],
      "text/plain": [
       "<IPython.core.display.Math object>"
      ]
     },
     "metadata": {},
     "output_type": "display_data"
    },
    {
     "data": {
      "text/latex": [
       "$\\displaystyle \\mathrm{한 변의 길이} \\times \\mathrm{한 변의 길이}$"
      ],
      "text/plain": [
       "<IPython.core.display.Math object>"
      ]
     },
     "metadata": {},
     "output_type": "display_data"
    },
    {
     "data": {
      "image/svg+xml": [
       "<svg xmlns=\"http://www.w3.org/2000/svg\" width=\"500\" height=\"500\">\n",
       "    <text x=\"250\" y=\"50\" font-size=\"25\" text-anchor=\"middle\">정사각형</text>\n",
       "    <rect x=\"100\" y=\"100\" width=\"200\" height=\"200\" stroke=\"black\" stroke-width=\"2\" fill=\"none\"/>\n",
       "    </svg>"
      ],
      "text/plain": [
       "<IPython.core.display.SVG object>"
      ]
     },
     "metadata": {},
     "output_type": "display_data"
    },
    {
     "name": "stdout",
     "output_type": "stream",
     "text": [
      "====================================================================================================\n",
      "요청한 문장: 곧은선이 뭐야?\n",
      "추출된 개념: 직선\n",
      "추출된 인자: {}\n",
      "\n",
      "생성된 코드:\n",
      " <svg width=\"500\" height=\"500\" xmlns=\"http://www.w3.org/2000/svg\">\n",
      "    <text x=\"250\" y=\"25\" font-size=\"25\" text-anchor=\"middle\">곧은선</text>\n",
      "    <text x=\"250\" y=\"75\" font-size=\"25\" text-anchor=\"middle\">선분</text>\n",
      "    <!-- 선분 -->\n",
      "    <circle cx=\"125\" cy=\"125\" r=\"1\" stroke=\"black\" stroke-width=\"2\" fill=\"black\" />\n",
      "    <circle cx=\"375\" cy=\"125\" r=\"1\" stroke=\"black\" stroke-width=\"2\" fill=\"black\" />\n",
      "    <line x1=\"125\" y1=\"125\" x2=\"375\" y2=\"125\" stroke=\"black\" stroke-width=\"2\" />\n",
      "    <!-- 반직선 -->\n",
      "    <text x=\"250\" y=\"175\" font-size=\"25\" text-anchor=\"middle\">반직선</text>\n",
      "    <circle cx=\"125\" cy=\"250\" r=\"1\" stroke=\"black\" stroke-width=\"2\" fill=\"black\" />\n",
      "    <circle cx=\"375\" cy=\"250\" r=\"1\" stroke=\"black\" stroke-width=\"2\" fill=\"black\" />\n",
      "    <line x1=\"125\" y1=\"250\" x2=\"500\" y2=\"250\" stroke=\"black\" stroke-width=\"2\" />\n",
      "    <!-- 직선 -->\n",
      "    <text x=\"250\" y=\"300\" font-size=\"25\" text-anchor=\"middle\">직선</text>\n",
      "    <circle cx=\"125\" cy=\"375\" r=\"1\" stroke=\"black\" stroke-width=\"2\" fill=\"black\" />\n",
      "    <circle cx=\"375\" cy=\"375\" r=\"1\" stroke=\"black\" stroke-width=\"2\" fill=\"black\" />\n",
      "    <line x1=\"0\" y1=\"375\" x2=\"500\" y2=\"375\" stroke=\"black\" stroke-width=\"2\" />\n",
      "    </svg>\n",
      "    \n",
      "\n",
      "생성된 설명:\n",
      " ### 직선에 대한 설명\n",
      "\n",
      "#### 정의\n",
      "직선은 평면 위에서 가장 짧은 거리로 두 점을 연결하는 선을 말합니다. 이 선은 양쪽으로 무한히 계속되며, 방향이 항상 일정합니다. 직선 위의 모든 점들은 서로 평행하게 연결되어 있어, 어떤 방향으로든 뻗어나갈 수 있습니다.\n",
      "\n",
      "#### 기본 성질\n",
      "1. **무한한 길이**: 직선은 양쪽으로 무한히 이어집니다. 즉, 시작점에서 끝점까지의 거리가 아무리 길어도 계속해서 뻗어나갈 수 있습니다.\n",
      "2. **평행한 선들**: 같은 방향으로 무한히 뻗어나가는 두 직선은 서로 평행합니다. 반대로, 서로 다른 방향으로 무한히 뻗어나가는 두 직선은 교차하지 않습니다.\n",
      "3. **직선 위의 점들**: 직선 위의 모든 점들은 서로 연결되어 있어, 어떤 두 점을 잇는 선분은 항상 직선의 일부분입니다.\n",
      "4. **직선의 대칭성**: 직선을 기준으로 대칭인 두 부분은 서로 완전히 일치합니다. 예를 들어, 한 점을 기준으로 대칭인 두 점은 직선 양쪽에 동일한 거리에 위치합니다.\n",
      "\n",
      "이러한 성질들로 인해 직선은 기하학에서 매우 중요한 개념으로 사용됩니다!\n"
     ]
    },
    {
     "data": {
      "image/svg+xml": [
       "<svg xmlns=\"http://www.w3.org/2000/svg\" width=\"500\" height=\"500\">\n",
       "    <text x=\"250\" y=\"25\" font-size=\"25\" text-anchor=\"middle\">곧은선</text>\n",
       "    <text x=\"250\" y=\"75\" font-size=\"25\" text-anchor=\"middle\">선분</text>\n",
       "    <!-- 선분 -->\n",
       "    <circle cx=\"125\" cy=\"125\" r=\"1\" stroke=\"black\" stroke-width=\"2\" fill=\"black\"/>\n",
       "    <circle cx=\"375\" cy=\"125\" r=\"1\" stroke=\"black\" stroke-width=\"2\" fill=\"black\"/>\n",
       "    <line x1=\"125\" y1=\"125\" x2=\"375\" y2=\"125\" stroke=\"black\" stroke-width=\"2\"/>\n",
       "    <!-- 반직선 -->\n",
       "    <text x=\"250\" y=\"175\" font-size=\"25\" text-anchor=\"middle\">반직선</text>\n",
       "    <circle cx=\"125\" cy=\"250\" r=\"1\" stroke=\"black\" stroke-width=\"2\" fill=\"black\"/>\n",
       "    <circle cx=\"375\" cy=\"250\" r=\"1\" stroke=\"black\" stroke-width=\"2\" fill=\"black\"/>\n",
       "    <line x1=\"125\" y1=\"250\" x2=\"500\" y2=\"250\" stroke=\"black\" stroke-width=\"2\"/>\n",
       "    <!-- 직선 -->\n",
       "    <text x=\"250\" y=\"300\" font-size=\"25\" text-anchor=\"middle\">직선</text>\n",
       "    <circle cx=\"125\" cy=\"375\" r=\"1\" stroke=\"black\" stroke-width=\"2\" fill=\"black\"/>\n",
       "    <circle cx=\"375\" cy=\"375\" r=\"1\" stroke=\"black\" stroke-width=\"2\" fill=\"black\"/>\n",
       "    <line x1=\"0\" y1=\"375\" x2=\"500\" y2=\"375\" stroke=\"black\" stroke-width=\"2\"/>\n",
       "    </svg>"
      ],
      "text/plain": [
       "<IPython.core.display.SVG object>"
      ]
     },
     "metadata": {},
     "output_type": "display_data"
    },
    {
     "name": "stdout",
     "output_type": "stream",
     "text": [
      "====================================================================================================\n",
      "요청한 문장: 대표적인 굽은선을 그려줘\n",
      "추출된 개념: 곡선\n",
      "추출된 인자: {'type': '타원', 'description': '타원은 가장 대표적인 굽은선의 한 종류로, 두 초점 사이의 거리의 합이 일정한 점들의 집합으로 정의됩니다.'}\n",
      "\n",
      "생성된 코드:\n",
      " \n",
      "    <svg width=\"500\" height=\"500\" xmlns=\"http://www.w3.org/2000/svg\">\n",
      "    <text x=\"250\" y=\"50\" font-size=\"25\" text-anchor=\"middle\">굽은선</text>\n",
      "    <!-- 복잡한 S자 곡선 (두 개의 Cubic Bézier) -->\n",
      "    <path d=\"M 100,400\n",
      "    C 100,100 400,100 400,250\n",
      "    C 400,400 100,400 100,100\"\n",
      "    stroke=\"black\" fill=\"none\" stroke-width=\"2\"/>\n",
      "    </svg>\n",
      "    \n",
      "\n",
      "생성된 설명:\n",
      " ### 곡선에 대한 설명\n",
      "\n",
      "**정의:**\n",
      "곡선은 직선이 아닌, 연속적으로 이어지는 점들의 모임으로 이루어진 도형입니다. 쉽게 말해, 직선처럼 일정한 방향으로만 움직이는 것이 아니라, 부드럽게 휘어지거나 굽어지는 형태를 가진 선을 말합니다.\n",
      "\n",
      "**기본 성질:**\n",
      "1. **연속성:** 곡선 위의 모든 점들은 부드럽게 이어져 있어, 어떤 작은 구간에서도 끊어지지 않고 이어집니다.\n",
      "2. **길이:** 곡선의 길이는 그 곡선을 따라 측정한 총 거리입니다. 이 길이는 곡선의 모양에 따라 달라집니다. 예를 들어, 원의 둘레는 반지름에 따라 결정되며, 이는 곡선의 길이를 정확히 계산하는 방법 중 하나입니다.\n",
      "3. **곡률:** 곡선이 얼마나 빠르게 방향을 바꾸는지를 나타내는 값입니다. 곡률이 크면 곡선이 더 급하게 굽어지고, 작으면 더 부드럽게 굽어집니다. 예를 들어, 원의 경우 모든 점에서 곡률이 일정합니다.\n",
      "4. **접선:** 곡선 위의 어떤 점에서 그 점을 지나는 가장 가까운 직선을 접선이라고 합니다. 이 접선은 그 점에서 곡선의 방향을 가장 잘 나타냅니다.\n",
      "\n",
      "이러한 성질들 덕분에 곡선은 자연 현상이나 공학적 설계 등 다양한 분야에서 중요한 역할을 합니다.\n"
     ]
    },
    {
     "data": {
      "image/svg+xml": [
       "<svg xmlns=\"http://www.w3.org/2000/svg\" width=\"500\" height=\"500\">\n",
       "    <text x=\"250\" y=\"50\" font-size=\"25\" text-anchor=\"middle\">굽은선</text>\n",
       "    <!-- 복잡한 S자 곡선 (두 개의 Cubic Bézier) -->\n",
       "    <path d=\"M 100,400     C 100,100 400,100 400,250     C 400,400 100,400 100,100\" stroke=\"black\" fill=\"none\" stroke-width=\"2\"/>\n",
       "    </svg>"
      ],
      "text/plain": [
       "<IPython.core.display.SVG object>"
      ]
     },
     "metadata": {},
     "output_type": "display_data"
    },
    {
     "name": "stdout",
     "output_type": "stream",
     "text": [
      "====================================================================================================\n",
      "요청한 문장: 중심이 (0,0)이고 반지름이 2인 원을 그려주세요.\n",
      "추출된 개념: Circle\n",
      "추출된 인자: {'radius': 2}\n",
      "\n",
      "생성된 코드:\n",
      " <svg width=\"500\" height=\"500\" xmlns=\"http://www.w3.org/2000/svg\">\n",
      "    <text x=\"250\" y=\"50\" font-size=\"25\" text-anchor=\"middle\">원</text>\n",
      "    <circle cx=\"250\" cy=\"250\" r=\"100\" stroke=\"black\" stroke-width=\"2\" fill=\"none\" />\n",
      "    <circle cx=\"250\" cy=\"250\" r=\"1\" stroke=\"black\" stroke-width=\"2\" fill=\"black\" />\n",
      "    <line x1=\"250\" y1=\"250\" x2=\"350\" y2=\"250\" stroke=\"black\" stroke-width=\"2\" />\n",
      "    </svg>\n",
      "    \n",
      "\n",
      "생성된 설명:\n",
      " ### Circle (원)\n",
      "\n",
      "#### 정의:\n",
      "원은 평면 위에서 한 점(중심)으로부터 일정한 거리(반지름)에 있는 모든 점들의 집합을 말합니다. 이 중심점을 기준으로 원 위의 모든 점들은 동일한 거리에 위치해 있습니다.\n",
      "\n",
      "#### 기본 성질:\n",
      "1. **둘레와 지름**: 원의 둘레는 지름에 π(약 3.14)를 곱한 값입니다. 즉, 둘레 = 지름 × π 입니다. 반대로 지름은 둘레를 π로 나누면 구할 수 있습니다.\n",
      "   \n",
      "2. **면적**: 원의 면적은 반지름의 제곱에 π를 곱한 값입니다. 공식으로 표현하면 면적 = π × 반지름2 입니다.\n",
      "\n",
      "3. **대칭성**: 원은 중심을 기준으로 완벽하게 대칭입니다. 즉, 중심을 지나는 어떤 직선을 기준으로 원을 접어도 양쪽이 완전히 일치합니다.\n",
      "\n",
      "4. **원주각과 호의 관계**: 원 위의 두 점을 잇는 호의 중앙각은 그 호에 대응하는 원주각의 두 배입니다. 예를 들어, 호의 중앙각이 θ라면 원주각은 θ/2가 됩니다.\n",
      "\n",
      "이러한 성질들로 인해 원은 기하학에서 매우 중요한 역할을 합니다. 다양한 도형과 문제 해결에 활용되며, 일상생활에서도 자주 접하게 되는 개념입니다.\n",
      "\n",
      "생성된 공식 raw:\n",
      " {'perimeter': '2 \\\\times 3.14 \\\\times 반지름', 'area': '3.14 \\\\times 반지름 \\\\times 반지름'}\n"
     ]
    },
    {
     "data": {
      "text/latex": [
       "$\\displaystyle 2 \\times 3.14 \\times 반지름$"
      ],
      "text/plain": [
       "<IPython.core.display.Math object>"
      ]
     },
     "metadata": {},
     "output_type": "display_data"
    },
    {
     "data": {
      "text/latex": [
       "$\\displaystyle 3.14 \\times 반지름 \\times 반지름$"
      ],
      "text/plain": [
       "<IPython.core.display.Math object>"
      ]
     },
     "metadata": {},
     "output_type": "display_data"
    },
    {
     "data": {
      "image/svg+xml": [
       "<svg xmlns=\"http://www.w3.org/2000/svg\" width=\"500\" height=\"500\">\n",
       "    <text x=\"250\" y=\"50\" font-size=\"25\" text-anchor=\"middle\">원</text>\n",
       "    <circle cx=\"250\" cy=\"250\" r=\"100\" stroke=\"black\" stroke-width=\"2\" fill=\"none\"/>\n",
       "    <circle cx=\"250\" cy=\"250\" r=\"1\" stroke=\"black\" stroke-width=\"2\" fill=\"black\"/>\n",
       "    <line x1=\"250\" y1=\"250\" x2=\"350\" y2=\"250\" stroke=\"black\" stroke-width=\"2\"/>\n",
       "    </svg>"
      ],
      "text/plain": [
       "<IPython.core.display.SVG object>"
      ]
     },
     "metadata": {},
     "output_type": "display_data"
    },
    {
     "name": "stdout",
     "output_type": "stream",
     "text": [
      "====================================================================================================\n",
      "요청한 문장: 37° 각도를 그려줘\n",
      "추출된 개념: 각도\n",
      "추출된 인자: {'size': 37}\n",
      "\n",
      "생성된 코드:\n",
      " <svg width=\"500\" height=\"375\" xmlns=\"http://www.w3.org/2000/svg\">\n",
      "    <text x=\"250\" y=\"50\" font-size=\"25\" text-anchor=\"middle\">각</text>\n",
      "    <!-- 기준선 -->\n",
      "    <line x1=\"125\" y1=\"333\" x2=\"375\" y2=\"333\" stroke=\"black\" stroke-width=\"2\" />\n",
      "    <!-- 기울어진 선 -->\n",
      "    <line x1=\"125\" y1=\"333\" x2=\"324.6588775118232\" y2=\"182.54624421198793\" stroke=\"black\" stroke-width=\"2\" />\n",
      "    <!-- 각도 호 -->\n",
      "    <path d=\"M 164.93177550236464,302.9092488423976 A 50,50 0 0,1 175,333\" stroke=\"black\" stroke-width=\"2\" fill=\"none\"/>\n",
      "    </svg>\n",
      "    \n",
      "\n",
      "생성된 설명:\n",
      " ### 각도에 대한 설명\n",
      "\n",
      "**정의:**\n",
      "각도는 두 직선이나 선분이 만나서 생기는 공간의 크기를 측정하는 방법입니다. 우리가 일상에서 자주 접하는 각도는 주로 도로 표지판에서 볼 수 있는 방향 지시나, 그림에서 선들이 만나는 부분을 표현할 때 사용됩니다.\n",
      "\n",
      "**기본 성질:**\n",
      "1. **직선의 각도:** 직선은 정확히 180도의 각도를 가집니다. 직선은 두 방향으로 무한히 이어지는 것처럼 보이지만, 실제로는 시작점과 끝점이 있습니다.\n",
      "   \n",
      "2. **직각 각도:** 직각은 90도를 의미합니다. 이는 우리가 흔히 사용하는 'L'자 모양의 모서리나 사각형의 모서리에서 볼 수 있습니다. 직각은 두 직선이 서로 수직으로 만나는 경우에 생깁니다.\n",
      "\n",
      "3. **평행선과 각도:** 평행한 두 직선은 만나지 않기 때문에, 그들 사이의 각도는 항상 같습니다. 예를 들어, 두 평행선 위에 그려진 삼각형의 한 각은 다른 각과 크기가 동일합니다.\n",
      "\n",
      "4. **복합 각도:** 여러 각도를 합쳐서 더 큰 각도를 만들 수 있습니다. 예를 들어, 두 개의 직각 각도를 합치면 180도가 됩니다.\n",
      "\n",
      "이러한 기본적인 개념들을 이해하면 각도에 대한 다양한 문제를 풀 때 도움이 될 것입니다!\n"
     ]
    },
    {
     "data": {
      "image/svg+xml": [
       "<svg xmlns=\"http://www.w3.org/2000/svg\" width=\"500\" height=\"375\">\n",
       "    <text x=\"250\" y=\"50\" font-size=\"25\" text-anchor=\"middle\">각</text>\n",
       "    <!-- 기준선 -->\n",
       "    <line x1=\"125\" y1=\"333\" x2=\"375\" y2=\"333\" stroke=\"black\" stroke-width=\"2\"/>\n",
       "    <!-- 기울어진 선 -->\n",
       "    <line x1=\"125\" y1=\"333\" x2=\"324.6588775118232\" y2=\"182.54624421198793\" stroke=\"black\" stroke-width=\"2\"/>\n",
       "    <!-- 각도 호 -->\n",
       "    <path d=\"M 164.93177550236464,302.9092488423976 A 50,50 0 0,1 175,333\" stroke=\"black\" stroke-width=\"2\" fill=\"none\"/>\n",
       "    </svg>"
      ],
      "text/plain": [
       "<IPython.core.display.SVG object>"
      ]
     },
     "metadata": {},
     "output_type": "display_data"
    },
    {
     "name": "stdout",
     "output_type": "stream",
     "text": [
      "====================================================================================================\n",
      "요청한 문장: 직각을 표현해줘\n",
      "추출된 개념: Right Angle\n",
      "추출된 인자: {}\n",
      "\n",
      "생성된 코드:\n",
      " <svg width=\"500\" height=\"500\" xmlns=\"http://www.w3.org/2000/svg\">\n",
      "    <text x=\"250\" y=\"50\" font-size=\"25\" text-anchor=\"middle\">직각</text>\n",
      "    <!-- 기준선 -->\n",
      "    <line x1=\"125\" y1=\"400\" x2=\"458\" y2=\"400\" stroke=\"black\" stroke-width=\"2\" />\n",
      "    <!-- 기울어진 선 -->\n",
      "    <line x1=\"125\" y1=\"400\" x2=\"125\" y2=\"67\" stroke=\"black\" stroke-width=\"2\" />\n",
      "    <!-- 직각 보조선 -->\n",
      "    <line x1=\"175\" y1=\"400\" x2=\"175\" y2=\"350\" stroke=\"black\" stroke-width=\"2\" />\n",
      "    <line x1=\"125\" y1=\"350\" x2=\"175\" y2=\"350\" stroke=\"black\" stroke-width=\"2\" />\n",
      "    </svg>\n",
      "    \n",
      "\n",
      "생성된 설명:\n",
      " ### Right Angle\n",
      "\n",
      "**정의:**\n",
      "Right Angle은 기하학에서 가장 기본적인 각도 중 하나로, 정확히 90도를 이루는 각도를 말합니다. 이 각도는 직각이라고도 불리며, 직선이나 특정 도형의 모서리에서 만나는 두 변이 서로 수직으로 만나는 경우에 나타납니다.\n",
      "\n",
      "**기본 성질:**\n",
      "1. **크기:** Right Angle은 항상 정확히 90도입니다. 이는 모든 Right Angle이 동일한 크기를 가짐을 의미합니다.\n",
      "2. **모양:** Right Angle은 보통 'L' 모양으로 쉽게 인식할 수 있습니다. 이 모양은 직각을 나타내는 데 자주 사용됩니다.\n",
      "3. **도형과의 관계:** 직각은 사각형, 직사각형, 정사각형 등 다양한 도형의 모서리에서 발견됩니다. 특히, 직사각형이나 정사각형은 네 개의 Right Angle을 가지고 있습니다.\n",
      "4. **삼각형과의 연관성:** 직각삼각형은 한 내각이 정확히 Right Angle인 삼각형을 의미합니다. 이 삼각형은 세 변의 길이 관계를 통해 피타고라스 정리를 적용할 수 있습니다.\n",
      "\n",
      "이러한 성질들로 인해 Right Angle은 수학에서 매우 중요한 개념으로 자리잡고 있습니다!\n"
     ]
    },
    {
     "data": {
      "image/svg+xml": [
       "<svg xmlns=\"http://www.w3.org/2000/svg\" width=\"500\" height=\"500\">\n",
       "    <text x=\"250\" y=\"50\" font-size=\"25\" text-anchor=\"middle\">직각</text>\n",
       "    <!-- 기준선 -->\n",
       "    <line x1=\"125\" y1=\"400\" x2=\"458\" y2=\"400\" stroke=\"black\" stroke-width=\"2\"/>\n",
       "    <!-- 기울어진 선 -->\n",
       "    <line x1=\"125\" y1=\"400\" x2=\"125\" y2=\"67\" stroke=\"black\" stroke-width=\"2\"/>\n",
       "    <!-- 직각 보조선 -->\n",
       "    <line x1=\"175\" y1=\"400\" x2=\"175\" y2=\"350\" stroke=\"black\" stroke-width=\"2\"/>\n",
       "    <line x1=\"125\" y1=\"350\" x2=\"175\" y2=\"350\" stroke=\"black\" stroke-width=\"2\"/>\n",
       "    </svg>"
      ],
      "text/plain": [
       "<IPython.core.display.SVG object>"
      ]
     },
     "metadata": {},
     "output_type": "display_data"
    },
    {
     "name": "stdout",
     "output_type": "stream",
     "text": [
      "====================================================================================================\n",
      "요청한 문장: 밑변이 3이고, 높이가 4인 직각삼각형 하나를 그려줘\n",
      "추출된 개념: Right Triangle\n",
      "추출된 인자: {'base': 3, 'height': 4}\n",
      "\n",
      "생성된 코드:\n",
      " <svg width=\"500\" height=\"500\" xmlns=\"http://www.w3.org/2000/svg\">\n",
      "    <text x=\"250\" y=\"50\" font-size=\"25\" text-anchor=\"middle\">직각삼각형</text>\n",
      "    <!-- 직각삼각형 -->\n",
      "    <line x1=\"83\" y1=\"416\" x2=\"308\" y2=\"416\" stroke=\"black\" stroke-width=\"2\" />\n",
      "    <line x1=\"308\" y1=\"416\" x2=\"308\" y2=\"166\" stroke=\"black\" stroke-width=\"2\" />\n",
      "    <line x1=\"83\" y1=\"416\" x2=\"308\" y2=\"166\" stroke=\"black\" stroke-width=\"2\" />\n",
      "    <!-- 직각 보조선 -->\n",
      "    <line x1=\"286\" y1=\"416\" x2=\"286\" y2=\"394\" stroke=\"black\" stroke-width=\"2\" />\n",
      "    <line x1=\"286\" y1=\"394\" x2=\"308\" y2=\"394\" stroke=\"black\" stroke-width=\"2\" />\n",
      "    </svg>\n",
      "    \n",
      "\n",
      "생성된 설명:\n",
      " ### Right Triangle\n",
      "\n",
      "**정의:**\n",
      "A right triangle is a special type of triangle that has one angle which measures exactly 90 degrees (a right angle). This unique angle distinguishes it from other triangles where all angles are less than 90 degrees.\n",
      "\n",
      "**기본 성질:**\n",
      "1. **한 각이 직각:** 가장 중요한 특징은 한 꼭짓점에서 직각(90°)을 이루는 것입니다.\n",
      "2. **직각을 중심으로 두 개의 다른 각:** 나머지 두 각은 합쳐 90도가 됩니다. 따라서 이 두 각은 서로 보완각(complementary angles)입니다.\n",
      "3. **피타고라스 정리 적용 가능:** 직각 삼각형에서는 가장 긴 변을 빗변(hypotenuse)이라고 부르며, 이 빗변의 길이는 다른 두 변(직각을 이루는 두 변을 밑변과 높이라고도 부릅니다)의 길이와 특별한 관계를 가집니다. 이 관계는 피타고라스 정리로 표현되는데, 수학적으로는 \\(a^2 + b^2 = c^2\\) 입니다 (여기서 \\(c\\)는 빗변의 길이이고, \\(a\\)와 \\(b\\)는 다른 두 변의 길이입니다). 하지만 문제 해결을 위해 직접적인 공식보다는 이 관계를 이해하는 것이 중요합니다.\n",
      "4. **삼각형의 종류:** 직각 삼각형은 그 각도에 따라 다양한 종류로 나눌 수 있습니다. 예를 들어, 모든 변의 길이가 정수인 직각 삼각형을 피타고라스 삼각형이라고 부르기도 합니다.\n",
      "\n",
      "이런 특징들로 인해 직각 삼각형은 건축, 공학, 그리고 다양한 실생활 문제 해결에서 매우 중요한 역할을 합니다!\n",
      "\n",
      "생성된 공식 raw:\n",
      " {'perimeter': '밑변 + 높이 + 빗변', 'area': '밑변 × 높이 ÷ 2'}\n"
     ]
    },
    {
     "data": {
      "text/latex": [
       "$\\displaystyle 밑변 + 높이 + 빗변$"
      ],
      "text/plain": [
       "<IPython.core.display.Math object>"
      ]
     },
     "metadata": {},
     "output_type": "display_data"
    },
    {
     "data": {
      "text/latex": [
       "$\\displaystyle 밑변 × 높이 ÷ 2$"
      ],
      "text/plain": [
       "<IPython.core.display.Math object>"
      ]
     },
     "metadata": {},
     "output_type": "display_data"
    },
    {
     "data": {
      "image/svg+xml": [
       "<svg xmlns=\"http://www.w3.org/2000/svg\" width=\"500\" height=\"500\">\n",
       "    <text x=\"250\" y=\"50\" font-size=\"25\" text-anchor=\"middle\">직각삼각형</text>\n",
       "    <!-- 직각삼각형 -->\n",
       "    <line x1=\"83\" y1=\"416\" x2=\"308\" y2=\"416\" stroke=\"black\" stroke-width=\"2\"/>\n",
       "    <line x1=\"308\" y1=\"416\" x2=\"308\" y2=\"166\" stroke=\"black\" stroke-width=\"2\"/>\n",
       "    <line x1=\"83\" y1=\"416\" x2=\"308\" y2=\"166\" stroke=\"black\" stroke-width=\"2\"/>\n",
       "    <!-- 직각 보조선 -->\n",
       "    <line x1=\"286\" y1=\"416\" x2=\"286\" y2=\"394\" stroke=\"black\" stroke-width=\"2\"/>\n",
       "    <line x1=\"286\" y1=\"394\" x2=\"308\" y2=\"394\" stroke=\"black\" stroke-width=\"2\"/>\n",
       "    </svg>"
      ],
      "text/plain": [
       "<IPython.core.display.SVG object>"
      ]
     },
     "metadata": {},
     "output_type": "display_data"
    },
    {
     "name": "stdout",
     "output_type": "stream",
     "text": [
      "====================================================================================================\n",
      "요청한 문장: 가로가 5, 세로가 3인 직사각형의 넓이\n",
      "추출된 개념: Rectangle\n",
      "추출된 인자: {'width': 5, 'height': 3}\n",
      "\n",
      "생성된 코드:\n",
      " <svg width=\"500\" height=\"312\" xmlns=\"http://www.w3.org/2000/svg\">\n",
      "    <text x=\"250\" y=\"50\" font-size=\"25\" text-anchor=\"middle\">직사각형</text>\n",
      "    <rect x=\"100\" y=\"100\" width=\"250\" height=\"150\" stroke=\"black\" stroke-width=\"2\" fill=\"none\" />\n",
      "    </svg>\n",
      "\n",
      "생성된 설명:\n",
      " ### Rectangle 설명\n",
      "\n",
      "**정의:**\n",
      "사각형은 네 개의 직선으로 둘러싸인 평면 도형으로, 각 내각이 직각(90도)인 특징을 가지고 있습니다. 즉, 사각형의 네 모서리는 모두 직각을 이루며, 대변이 평행하고 길이가 같은 특성을 갖습니다.\n",
      "\n",
      "**기본 성질:**\n",
      "1. **대변의 길이가 같음:** 사각형의 두 쌍의 대변은 길이가 동일합니다. 예를 들어, 가로와 세로가 같은 길이를 가집니다.\n",
      "2. **대각선이 서로 같음:** 사각형의 두 대각선은 길이가 같습니다. 즉, 사각형을 두 개의 동일한 삼각형으로 나눌 수 있습니다.\n",
      "3. **내각의 합:** 사각형의 네 내각의 합은 항상 360도입니다.\n",
      "4. **변의 배열:** 사각형은 여러 가지 형태로 배열될 수 있습니다. 예를 들어, 직사각형은 가로와 세로가 각각 다른 길이를 가질 수 있으며, 정사각형은 모든 변의 길이가 같고 모든 내각이 직각인 특별한 형태의 사각형입니다.\n",
      "\n",
      "이러한 성질들로 인해 사각형은 우리 일상생활에서 매우 흔하게 볼 수 있는 도형입니다!\n",
      "\n",
      "생성된 공식 raw:\n",
      " {'perimeter': '2 × (밑변 + 높이)', 'area': '밑변 × 높이'}\n"
     ]
    },
    {
     "data": {
      "text/latex": [
       "$\\displaystyle 2 × (밑변 + 높이)$"
      ],
      "text/plain": [
       "<IPython.core.display.Math object>"
      ]
     },
     "metadata": {},
     "output_type": "display_data"
    },
    {
     "data": {
      "text/latex": [
       "$\\displaystyle 밑변 × 높이$"
      ],
      "text/plain": [
       "<IPython.core.display.Math object>"
      ]
     },
     "metadata": {},
     "output_type": "display_data"
    },
    {
     "data": {
      "image/svg+xml": [
       "<svg xmlns=\"http://www.w3.org/2000/svg\" width=\"500\" height=\"312\">\n",
       "    <text x=\"250\" y=\"50\" font-size=\"25\" text-anchor=\"middle\">직사각형</text>\n",
       "    <rect x=\"100\" y=\"100\" width=\"250\" height=\"150\" stroke=\"black\" stroke-width=\"2\" fill=\"none\"/>\n",
       "    </svg>"
      ],
      "text/plain": [
       "<IPython.core.display.SVG object>"
      ]
     },
     "metadata": {},
     "output_type": "display_data"
    },
    {
     "name": "stdout",
     "output_type": "stream",
     "text": [
      "====================================================================================================\n",
      "요청한 문장: 한 변의 길이가 2인 정사각형 하나를 그려줘\n",
      "추출된 개념: Square\n",
      "추출된 인자: {'length': 2}\n",
      "\n",
      "생성된 코드:\n",
      " <svg width=\"500\" height=\"500\" xmlns=\"http://www.w3.org/2000/svg\">\n",
      "    <text x=\"250\" y=\"50\" font-size=\"25\" text-anchor=\"middle\">정사각형</text>\n",
      "    <rect x=\"100\" y=\"100\" width=\"200\" height=\"200\" stroke=\"black\" stroke-width=\"2\" fill=\"none\" />\n",
      "    </svg>\n",
      "\n",
      "생성된 설명:\n",
      " ### Square\n",
      "\n",
      "**정의:**\n",
      "사각형은 네 개의 변으로 이루어진 평면 도형입니다. 모든 내각이 직각(90도)이며, 반대편의 변들이 길이가 같아서 마주보는 두 변은 평행하고 길이가 동일합니다.\n",
      "\n",
      "**기본 성질:**\n",
      "1. **대변의 길이 동일:** 사각형의 마주보는 두 변은 길이가 같습니다. 예를 들어, 정사각형이나 직사각형에서는 모든 대변이 같은 길이를 가집니다.\n",
      "2. **대각선의 성질:** 사각형의 대각선은 서로를 반으로 나눕니다. 즉, 대각선이 만나는 점에서 대각선을 잇는 선분들은 서로를 절반으로 나눕니다.\n",
      "3. **변의 합:** 사각형의 네 변의 길이를 모두 더하면, 그 합은 사각형의 둘레를 나타냅니다. 예를 들어, 한 변의 길이가 \\(a\\)이고 다른 변의 길이가 \\(b\\)라면, 둘레는 \\(a + b + a + b = 2(a + b)\\)가 됩니다.\n",
      "4. **정사각형의 특징:** 정사각형은 모든 변의 길이가 같고 모든 내각이 직각인 특별한 사각형입니다. 모든 대각선도 길이가 같고 서로를 직각으로 이룹니다.\n",
      "\n",
      "이러한 성질들로 인해 사각형은 다양한 형태와 크기로 존재하며, 건축, 디자인, 그리고 일상생활에서 자주 볼 수 있는 도형입니다!\n",
      "\n",
      "생성된 공식 raw:\n",
      " {'perimeter': '4 \\\\times \\\\mathrm{한 변의 길이}', 'area': '\\\\mathrm{한 변의 길이} \\\\times \\\\mathrm{한 변의 길이}'}\n"
     ]
    },
    {
     "data": {
      "text/latex": [
       "$\\displaystyle 4 \\times \\mathrm{한 변의 길이}$"
      ],
      "text/plain": [
       "<IPython.core.display.Math object>"
      ]
     },
     "metadata": {},
     "output_type": "display_data"
    },
    {
     "data": {
      "text/latex": [
       "$\\displaystyle \\mathrm{한 변의 길이} \\times \\mathrm{한 변의 길이}$"
      ],
      "text/plain": [
       "<IPython.core.display.Math object>"
      ]
     },
     "metadata": {},
     "output_type": "display_data"
    },
    {
     "data": {
      "image/svg+xml": [
       "<svg xmlns=\"http://www.w3.org/2000/svg\" width=\"500\" height=\"500\">\n",
       "    <text x=\"250\" y=\"50\" font-size=\"25\" text-anchor=\"middle\">정사각형</text>\n",
       "    <rect x=\"100\" y=\"100\" width=\"200\" height=\"200\" stroke=\"black\" stroke-width=\"2\" fill=\"none\"/>\n",
       "    </svg>"
      ],
      "text/plain": [
       "<IPython.core.display.SVG object>"
      ]
     },
     "metadata": {},
     "output_type": "display_data"
    },
    {
     "name": "stdout",
     "output_type": "stream",
     "text": [
      "====================================================================================================\n",
      "요청한 문장: 곧은선이 뭐야?\n",
      "추출된 개념: 직선\n",
      "추출된 인자: {}\n",
      "\n",
      "생성된 코드:\n",
      " <svg width=\"500\" height=\"500\" xmlns=\"http://www.w3.org/2000/svg\">\n",
      "    <text x=\"250\" y=\"25\" font-size=\"25\" text-anchor=\"middle\">곧은선</text>\n",
      "    <text x=\"250\" y=\"75\" font-size=\"25\" text-anchor=\"middle\">선분</text>\n",
      "    <!-- 선분 -->\n",
      "    <circle cx=\"125\" cy=\"125\" r=\"1\" stroke=\"black\" stroke-width=\"2\" fill=\"black\" />\n",
      "    <circle cx=\"375\" cy=\"125\" r=\"1\" stroke=\"black\" stroke-width=\"2\" fill=\"black\" />\n",
      "    <line x1=\"125\" y1=\"125\" x2=\"375\" y2=\"125\" stroke=\"black\" stroke-width=\"2\" />\n",
      "    <!-- 반직선 -->\n",
      "    <text x=\"250\" y=\"175\" font-size=\"25\" text-anchor=\"middle\">반직선</text>\n",
      "    <circle cx=\"125\" cy=\"250\" r=\"1\" stroke=\"black\" stroke-width=\"2\" fill=\"black\" />\n",
      "    <circle cx=\"375\" cy=\"250\" r=\"1\" stroke=\"black\" stroke-width=\"2\" fill=\"black\" />\n",
      "    <line x1=\"125\" y1=\"250\" x2=\"500\" y2=\"250\" stroke=\"black\" stroke-width=\"2\" />\n",
      "    <!-- 직선 -->\n",
      "    <text x=\"250\" y=\"300\" font-size=\"25\" text-anchor=\"middle\">직선</text>\n",
      "    <circle cx=\"125\" cy=\"375\" r=\"1\" stroke=\"black\" stroke-width=\"2\" fill=\"black\" />\n",
      "    <circle cx=\"375\" cy=\"375\" r=\"1\" stroke=\"black\" stroke-width=\"2\" fill=\"black\" />\n",
      "    <line x1=\"0\" y1=\"375\" x2=\"500\" y2=\"375\" stroke=\"black\" stroke-width=\"2\" />\n",
      "    </svg>\n",
      "    \n",
      "\n",
      "생성된 설명:\n",
      " ### 직선에 대한 설명\n",
      "\n",
      "#### 정의\n",
      "직선은 평면 위에서 가장 짧은 거리로 두 점을 연결하는 선을 말합니다. 이 선은 양쪽으로 무한히 계속되며, 방향이 항상 일정합니다. 직선 위의 모든 점들은 서로 평행하게 연결되어 있어, 어떤 방향으로든 뻗어나갈 수 있습니다.\n",
      "\n",
      "#### 기본 성질\n",
      "1. **무한한 길이**: 직선은 양쪽으로 무한히 이어집니다. 즉, 시작점에서 끝점까지의 거리가 아무리 길어도 계속해서 뻗어나갈 수 있습니다.\n",
      "2. **평행한 선들**: 같은 방향으로 무한히 뻗어나가는 두 직선은 서로 평행합니다. 반대로, 서로 다른 방향으로 무한히 뻗어나가는 두 직선은 교차하지 않습니다.\n",
      "3. **직선 위의 점들**: 직선 위의 모든 점들은 서로 연결되어 있어, 어떤 두 점을 잇는 선분은 항상 직선의 일부분입니다.\n",
      "4. **직선의 대칭성**: 직선을 기준으로 대칭인 두 부분은 서로 완전히 일치합니다. 예를 들어, 한 점을 기준으로 대칭인 두 점은 직선 양쪽에 동일한 거리에 위치합니다.\n",
      "\n",
      "이러한 성질들로 인해 직선은 기하학에서 매우 중요한 개념으로 사용됩니다!\n"
     ]
    },
    {
     "data": {
      "image/svg+xml": [
       "<svg xmlns=\"http://www.w3.org/2000/svg\" width=\"500\" height=\"500\">\n",
       "    <text x=\"250\" y=\"25\" font-size=\"25\" text-anchor=\"middle\">곧은선</text>\n",
       "    <text x=\"250\" y=\"75\" font-size=\"25\" text-anchor=\"middle\">선분</text>\n",
       "    <!-- 선분 -->\n",
       "    <circle cx=\"125\" cy=\"125\" r=\"1\" stroke=\"black\" stroke-width=\"2\" fill=\"black\"/>\n",
       "    <circle cx=\"375\" cy=\"125\" r=\"1\" stroke=\"black\" stroke-width=\"2\" fill=\"black\"/>\n",
       "    <line x1=\"125\" y1=\"125\" x2=\"375\" y2=\"125\" stroke=\"black\" stroke-width=\"2\"/>\n",
       "    <!-- 반직선 -->\n",
       "    <text x=\"250\" y=\"175\" font-size=\"25\" text-anchor=\"middle\">반직선</text>\n",
       "    <circle cx=\"125\" cy=\"250\" r=\"1\" stroke=\"black\" stroke-width=\"2\" fill=\"black\"/>\n",
       "    <circle cx=\"375\" cy=\"250\" r=\"1\" stroke=\"black\" stroke-width=\"2\" fill=\"black\"/>\n",
       "    <line x1=\"125\" y1=\"250\" x2=\"500\" y2=\"250\" stroke=\"black\" stroke-width=\"2\"/>\n",
       "    <!-- 직선 -->\n",
       "    <text x=\"250\" y=\"300\" font-size=\"25\" text-anchor=\"middle\">직선</text>\n",
       "    <circle cx=\"125\" cy=\"375\" r=\"1\" stroke=\"black\" stroke-width=\"2\" fill=\"black\"/>\n",
       "    <circle cx=\"375\" cy=\"375\" r=\"1\" stroke=\"black\" stroke-width=\"2\" fill=\"black\"/>\n",
       "    <line x1=\"0\" y1=\"375\" x2=\"500\" y2=\"375\" stroke=\"black\" stroke-width=\"2\"/>\n",
       "    </svg>"
      ],
      "text/plain": [
       "<IPython.core.display.SVG object>"
      ]
     },
     "metadata": {},
     "output_type": "display_data"
    },
    {
     "name": "stdout",
     "output_type": "stream",
     "text": [
      "====================================================================================================\n",
      "요청한 문장: 대표적인 굽은선을 그려줘\n",
      "추출된 개념: 곡선\n",
      "추출된 인자: {'type': '타원', 'description': '타원은 가장 대표적인 굽은선의 한 종류로, 두 초점 사이의 거리의 합이 일정한 점들의 집합으로 정의됩니다.'}\n",
      "\n",
      "생성된 코드:\n",
      " \n",
      "    <svg width=\"500\" height=\"500\" xmlns=\"http://www.w3.org/2000/svg\">\n",
      "    <text x=\"250\" y=\"50\" font-size=\"25\" text-anchor=\"middle\">굽은선</text>\n",
      "    <!-- 복잡한 S자 곡선 (두 개의 Cubic Bézier) -->\n",
      "    <path d=\"M 100,400\n",
      "    C 100,100 400,100 400,250\n",
      "    C 400,400 100,400 100,100\"\n",
      "    stroke=\"black\" fill=\"none\" stroke-width=\"2\"/>\n",
      "    </svg>\n",
      "    \n",
      "\n",
      "생성된 설명:\n",
      " ### 곡선에 대한 설명\n",
      "\n",
      "**정의:**\n",
      "곡선은 직선이 아닌, 연속적으로 이어지는 점들의 모임으로 이루어진 도형입니다. 쉽게 말해, 직선처럼 일정한 방향으로만 움직이는 것이 아니라, 부드럽게 휘어지거나 굽어지는 형태를 가진 선을 말합니다.\n",
      "\n",
      "**기본 성질:**\n",
      "1. **연속성:** 곡선 위의 모든 점들은 부드럽게 이어져 있어, 어떤 작은 구간에서도 끊어지지 않고 이어집니다.\n",
      "2. **길이:** 곡선의 길이는 그 곡선을 따라 측정한 총 거리입니다. 이 길이는 곡선의 모양에 따라 달라집니다. 예를 들어, 원의 둘레는 반지름에 따라 결정되며, 이는 곡선의 길이를 정확히 계산하는 방법 중 하나입니다.\n",
      "3. **곡률:** 곡선이 얼마나 빠르게 방향을 바꾸는지를 나타내는 값입니다. 곡률이 크면 곡선이 더 급하게 굽어지고, 작으면 더 부드럽게 굽어집니다. 예를 들어, 원의 경우 모든 점에서 곡률이 일정합니다.\n",
      "4. **접선:** 곡선 위의 어떤 점에서 그 점을 지나는 가장 가까운 직선을 접선이라고 합니다. 이 접선은 그 점에서 곡선의 방향을 가장 잘 나타냅니다.\n",
      "\n",
      "이러한 성질들 덕분에 곡선은 자연 현상이나 공학적 설계 등 다양한 분야에서 중요한 역할을 합니다.\n"
     ]
    },
    {
     "data": {
      "image/svg+xml": [
       "<svg xmlns=\"http://www.w3.org/2000/svg\" width=\"500\" height=\"500\">\n",
       "    <text x=\"250\" y=\"50\" font-size=\"25\" text-anchor=\"middle\">굽은선</text>\n",
       "    <!-- 복잡한 S자 곡선 (두 개의 Cubic Bézier) -->\n",
       "    <path d=\"M 100,400     C 100,100 400,100 400,250     C 400,400 100,400 100,100\" stroke=\"black\" fill=\"none\" stroke-width=\"2\"/>\n",
       "    </svg>"
      ],
      "text/plain": [
       "<IPython.core.display.SVG object>"
      ]
     },
     "metadata": {},
     "output_type": "display_data"
    },
    {
     "name": "stdout",
     "output_type": "stream",
     "text": [
      "====================================================================================================\n",
      "요청한 문장: 중심이 (0,0)이고 반지름이 2인 원을 그려주세요.\n",
      "추출된 개념: Circle\n",
      "추출된 인자: {'radius': 2}\n",
      "\n",
      "생성된 코드:\n",
      " <svg width=\"500\" height=\"500\" xmlns=\"http://www.w3.org/2000/svg\">\n",
      "    <text x=\"250\" y=\"50\" font-size=\"25\" text-anchor=\"middle\">원</text>\n",
      "    <circle cx=\"250\" cy=\"250\" r=\"100\" stroke=\"black\" stroke-width=\"2\" fill=\"none\" />\n",
      "    <circle cx=\"250\" cy=\"250\" r=\"1\" stroke=\"black\" stroke-width=\"2\" fill=\"black\" />\n",
      "    <line x1=\"250\" y1=\"250\" x2=\"350\" y2=\"250\" stroke=\"black\" stroke-width=\"2\" />\n",
      "    </svg>\n",
      "    \n",
      "\n",
      "생성된 설명:\n",
      " ### Circle (원)\n",
      "\n",
      "#### 정의:\n",
      "원은 평면 위에서 한 점(중심)으로부터 일정한 거리(반지름)에 있는 모든 점들의 집합을 말합니다. 이 중심점을 기준으로 원 위의 모든 점들은 동일한 거리에 위치해 있습니다.\n",
      "\n",
      "#### 기본 성질:\n",
      "1. **둘레와 지름**: 원의 둘레는 지름에 π(약 3.14)를 곱한 값입니다. 즉, 둘레 = 지름 × π 입니다. 반대로 지름은 둘레를 π로 나누면 구할 수 있습니다.\n",
      "   \n",
      "2. **면적**: 원의 면적은 반지름의 제곱에 π를 곱한 값입니다. 공식으로 표현하면 면적 = π × 반지름2 입니다.\n",
      "\n",
      "3. **대칭성**: 원은 중심을 기준으로 완벽하게 대칭입니다. 즉, 중심을 지나는 어떤 직선을 기준으로 원을 접어도 양쪽이 완전히 일치합니다.\n",
      "\n",
      "4. **원주각과 호의 관계**: 원 위의 두 점을 잇는 호의 중앙각은 그 호에 대응하는 원주각의 두 배입니다. 예를 들어, 호의 중앙각이 θ라면 원주각은 θ/2가 됩니다.\n",
      "\n",
      "이러한 성질들로 인해 원은 기하학에서 매우 중요한 역할을 합니다. 다양한 도형과 문제 해결에 활용되며, 일상생활에서도 자주 접하게 되는 개념입니다.\n",
      "\n",
      "생성된 공식 raw:\n",
      " {'perimeter': '2 \\\\times 3.14 \\\\times 반지름', 'area': '3.14 \\\\times 반지름 \\\\times 반지름'}\n"
     ]
    },
    {
     "data": {
      "text/latex": [
       "$\\displaystyle 2 \\times 3.14 \\times 반지름$"
      ],
      "text/plain": [
       "<IPython.core.display.Math object>"
      ]
     },
     "metadata": {},
     "output_type": "display_data"
    },
    {
     "data": {
      "text/latex": [
       "$\\displaystyle 3.14 \\times 반지름 \\times 반지름$"
      ],
      "text/plain": [
       "<IPython.core.display.Math object>"
      ]
     },
     "metadata": {},
     "output_type": "display_data"
    },
    {
     "data": {
      "image/svg+xml": [
       "<svg xmlns=\"http://www.w3.org/2000/svg\" width=\"500\" height=\"500\">\n",
       "    <text x=\"250\" y=\"50\" font-size=\"25\" text-anchor=\"middle\">원</text>\n",
       "    <circle cx=\"250\" cy=\"250\" r=\"100\" stroke=\"black\" stroke-width=\"2\" fill=\"none\"/>\n",
       "    <circle cx=\"250\" cy=\"250\" r=\"1\" stroke=\"black\" stroke-width=\"2\" fill=\"black\"/>\n",
       "    <line x1=\"250\" y1=\"250\" x2=\"350\" y2=\"250\" stroke=\"black\" stroke-width=\"2\"/>\n",
       "    </svg>"
      ],
      "text/plain": [
       "<IPython.core.display.SVG object>"
      ]
     },
     "metadata": {},
     "output_type": "display_data"
    },
    {
     "name": "stdout",
     "output_type": "stream",
     "text": [
      "====================================================================================================\n",
      "요청한 문장: 37° 각도를 그려줘\n",
      "추출된 개념: 각도\n",
      "추출된 인자: {'size': 37}\n",
      "\n",
      "생성된 코드:\n",
      " <svg width=\"500\" height=\"375\" xmlns=\"http://www.w3.org/2000/svg\">\n",
      "    <text x=\"250\" y=\"50\" font-size=\"25\" text-anchor=\"middle\">각</text>\n",
      "    <!-- 기준선 -->\n",
      "    <line x1=\"125\" y1=\"333\" x2=\"375\" y2=\"333\" stroke=\"black\" stroke-width=\"2\" />\n",
      "    <!-- 기울어진 선 -->\n",
      "    <line x1=\"125\" y1=\"333\" x2=\"324.6588775118232\" y2=\"182.54624421198793\" stroke=\"black\" stroke-width=\"2\" />\n",
      "    <!-- 각도 호 -->\n",
      "    <path d=\"M 164.93177550236464,302.9092488423976 A 50,50 0 0,1 175,333\" stroke=\"black\" stroke-width=\"2\" fill=\"none\"/>\n",
      "    </svg>\n",
      "    \n",
      "\n",
      "생성된 설명:\n",
      " ### 각도에 대한 설명\n",
      "\n",
      "**정의:**\n",
      "각도는 두 직선이나 선분이 만나서 생기는 공간의 크기를 측정하는 방법입니다. 우리가 일상에서 자주 접하는 각도는 주로 도로 표지판에서 볼 수 있는 방향 지시나, 그림에서 선들이 만나는 부분을 표현할 때 사용됩니다.\n",
      "\n",
      "**기본 성질:**\n",
      "1. **직선의 각도:** 직선은 정확히 180도의 각도를 가집니다. 직선은 두 방향으로 무한히 이어지는 것처럼 보이지만, 실제로는 시작점과 끝점이 있습니다.\n",
      "   \n",
      "2. **직각 각도:** 직각은 90도를 의미합니다. 이는 우리가 흔히 사용하는 'L'자 모양의 모서리나 사각형의 모서리에서 볼 수 있습니다. 직각은 두 직선이 서로 수직으로 만나는 경우에 생깁니다.\n",
      "\n",
      "3. **평행선과 각도:** 평행한 두 직선은 만나지 않기 때문에, 그들 사이의 각도는 항상 같습니다. 예를 들어, 두 평행선 위에 그려진 삼각형의 한 각은 다른 각과 크기가 동일합니다.\n",
      "\n",
      "4. **복합 각도:** 여러 각도를 합쳐서 더 큰 각도를 만들 수 있습니다. 예를 들어, 두 개의 직각 각도를 합치면 180도가 됩니다.\n",
      "\n",
      "이러한 기본적인 개념들을 이해하면 각도에 대한 다양한 문제를 풀 때 도움이 될 것입니다!\n"
     ]
    },
    {
     "data": {
      "image/svg+xml": [
       "<svg xmlns=\"http://www.w3.org/2000/svg\" width=\"500\" height=\"375\">\n",
       "    <text x=\"250\" y=\"50\" font-size=\"25\" text-anchor=\"middle\">각</text>\n",
       "    <!-- 기준선 -->\n",
       "    <line x1=\"125\" y1=\"333\" x2=\"375\" y2=\"333\" stroke=\"black\" stroke-width=\"2\"/>\n",
       "    <!-- 기울어진 선 -->\n",
       "    <line x1=\"125\" y1=\"333\" x2=\"324.6588775118232\" y2=\"182.54624421198793\" stroke=\"black\" stroke-width=\"2\"/>\n",
       "    <!-- 각도 호 -->\n",
       "    <path d=\"M 164.93177550236464,302.9092488423976 A 50,50 0 0,1 175,333\" stroke=\"black\" stroke-width=\"2\" fill=\"none\"/>\n",
       "    </svg>"
      ],
      "text/plain": [
       "<IPython.core.display.SVG object>"
      ]
     },
     "metadata": {},
     "output_type": "display_data"
    },
    {
     "name": "stdout",
     "output_type": "stream",
     "text": [
      "====================================================================================================\n",
      "요청한 문장: 직각을 표현해줘\n",
      "추출된 개념: Right Angle\n",
      "추출된 인자: {}\n",
      "\n",
      "생성된 코드:\n",
      " <svg width=\"500\" height=\"500\" xmlns=\"http://www.w3.org/2000/svg\">\n",
      "    <text x=\"250\" y=\"50\" font-size=\"25\" text-anchor=\"middle\">직각</text>\n",
      "    <!-- 기준선 -->\n",
      "    <line x1=\"125\" y1=\"400\" x2=\"458\" y2=\"400\" stroke=\"black\" stroke-width=\"2\" />\n",
      "    <!-- 기울어진 선 -->\n",
      "    <line x1=\"125\" y1=\"400\" x2=\"125\" y2=\"67\" stroke=\"black\" stroke-width=\"2\" />\n",
      "    <!-- 직각 보조선 -->\n",
      "    <line x1=\"175\" y1=\"400\" x2=\"175\" y2=\"350\" stroke=\"black\" stroke-width=\"2\" />\n",
      "    <line x1=\"125\" y1=\"350\" x2=\"175\" y2=\"350\" stroke=\"black\" stroke-width=\"2\" />\n",
      "    </svg>\n",
      "    \n",
      "\n",
      "생성된 설명:\n",
      " ### Right Angle\n",
      "\n",
      "**정의:**\n",
      "Right Angle은 기하학에서 가장 기본적인 각도 중 하나로, 정확히 90도를 이루는 각도를 말합니다. 이 각도는 직각이라고도 불리며, 직선이나 특정 도형의 모서리에서 만나는 두 변이 서로 수직으로 만나는 경우에 나타납니다.\n",
      "\n",
      "**기본 성질:**\n",
      "1. **크기:** Right Angle은 항상 정확히 90도입니다. 이는 모든 Right Angle이 동일한 크기를 가짐을 의미합니다.\n",
      "2. **모양:** Right Angle은 보통 'L' 모양으로 쉽게 인식할 수 있습니다. 이 모양은 직각을 나타내는 데 자주 사용됩니다.\n",
      "3. **도형과의 관계:** 직각은 사각형, 직사각형, 정사각형 등 다양한 도형의 모서리에서 발견됩니다. 특히, 직사각형이나 정사각형은 네 개의 Right Angle을 가지고 있습니다.\n",
      "4. **삼각형과의 연관성:** 직각삼각형은 한 내각이 정확히 Right Angle인 삼각형을 의미합니다. 이 삼각형은 세 변의 길이 관계를 통해 피타고라스 정리를 적용할 수 있습니다.\n",
      "\n",
      "이러한 성질들로 인해 Right Angle은 수학에서 매우 중요한 개념으로 자리잡고 있습니다!\n"
     ]
    },
    {
     "data": {
      "image/svg+xml": [
       "<svg xmlns=\"http://www.w3.org/2000/svg\" width=\"500\" height=\"500\">\n",
       "    <text x=\"250\" y=\"50\" font-size=\"25\" text-anchor=\"middle\">직각</text>\n",
       "    <!-- 기준선 -->\n",
       "    <line x1=\"125\" y1=\"400\" x2=\"458\" y2=\"400\" stroke=\"black\" stroke-width=\"2\"/>\n",
       "    <!-- 기울어진 선 -->\n",
       "    <line x1=\"125\" y1=\"400\" x2=\"125\" y2=\"67\" stroke=\"black\" stroke-width=\"2\"/>\n",
       "    <!-- 직각 보조선 -->\n",
       "    <line x1=\"175\" y1=\"400\" x2=\"175\" y2=\"350\" stroke=\"black\" stroke-width=\"2\"/>\n",
       "    <line x1=\"125\" y1=\"350\" x2=\"175\" y2=\"350\" stroke=\"black\" stroke-width=\"2\"/>\n",
       "    </svg>"
      ],
      "text/plain": [
       "<IPython.core.display.SVG object>"
      ]
     },
     "metadata": {},
     "output_type": "display_data"
    },
    {
     "name": "stdout",
     "output_type": "stream",
     "text": [
      "====================================================================================================\n",
      "요청한 문장: 밑변이 3이고, 높이가 4인 직각삼각형 하나를 그려줘\n",
      "추출된 개념: Right Triangle\n",
      "추출된 인자: {'base': 3, 'height': 4}\n",
      "\n",
      "생성된 코드:\n",
      " <svg width=\"500\" height=\"500\" xmlns=\"http://www.w3.org/2000/svg\">\n",
      "    <text x=\"250\" y=\"50\" font-size=\"25\" text-anchor=\"middle\">직각삼각형</text>\n",
      "    <!-- 직각삼각형 -->\n",
      "    <line x1=\"83\" y1=\"416\" x2=\"308\" y2=\"416\" stroke=\"black\" stroke-width=\"2\" />\n",
      "    <line x1=\"308\" y1=\"416\" x2=\"308\" y2=\"166\" stroke=\"black\" stroke-width=\"2\" />\n",
      "    <line x1=\"83\" y1=\"416\" x2=\"308\" y2=\"166\" stroke=\"black\" stroke-width=\"2\" />\n",
      "    <!-- 직각 보조선 -->\n",
      "    <line x1=\"286\" y1=\"416\" x2=\"286\" y2=\"394\" stroke=\"black\" stroke-width=\"2\" />\n",
      "    <line x1=\"286\" y1=\"394\" x2=\"308\" y2=\"394\" stroke=\"black\" stroke-width=\"2\" />\n",
      "    </svg>\n",
      "    \n",
      "\n",
      "생성된 설명:\n",
      " ### Right Triangle\n",
      "\n",
      "**정의:**\n",
      "A right triangle is a special type of triangle that has one angle which measures exactly 90 degrees (a right angle). This unique angle distinguishes it from other triangles where all angles are less than 90 degrees.\n",
      "\n",
      "**기본 성질:**\n",
      "1. **한 각이 직각:** 가장 중요한 특징은 한 꼭짓점에서 직각(90°)을 이루는 것입니다.\n",
      "2. **직각을 중심으로 두 개의 다른 각:** 나머지 두 각은 합쳐 90도가 됩니다. 따라서 이 두 각은 서로 보완각(complementary angles)입니다.\n",
      "3. **피타고라스 정리 적용 가능:** 직각 삼각형에서는 가장 긴 변을 빗변(hypotenuse)이라고 부르며, 이 빗변의 길이는 다른 두 변(직각을 이루는 두 변을 밑변과 높이라고도 부릅니다)의 길이와 특별한 관계를 가집니다. 이 관계는 피타고라스 정리로 표현되는데, 수학적으로는 \\(a^2 + b^2 = c^2\\) 입니다 (여기서 \\(c\\)는 빗변의 길이이고, \\(a\\)와 \\(b\\)는 다른 두 변의 길이입니다). 하지만 문제 해결을 위해 직접적인 공식보다는 이 관계를 이해하는 것이 중요합니다.\n",
      "4. **삼각형의 종류:** 직각 삼각형은 그 각도에 따라 다양한 종류로 나눌 수 있습니다. 예를 들어, 모든 변의 길이가 정수인 직각 삼각형을 피타고라스 삼각형이라고 부르기도 합니다.\n",
      "\n",
      "이런 특징들로 인해 직각 삼각형은 건축, 공학, 그리고 다양한 실생활 문제 해결에서 매우 중요한 역할을 합니다!\n",
      "\n",
      "생성된 공식 raw:\n",
      " {'perimeter': '밑변 + 높이 + 빗변', 'area': '밑변 × 높이 ÷ 2'}\n"
     ]
    },
    {
     "data": {
      "text/latex": [
       "$\\displaystyle 밑변 + 높이 + 빗변$"
      ],
      "text/plain": [
       "<IPython.core.display.Math object>"
      ]
     },
     "metadata": {},
     "output_type": "display_data"
    },
    {
     "data": {
      "text/latex": [
       "$\\displaystyle 밑변 × 높이 ÷ 2$"
      ],
      "text/plain": [
       "<IPython.core.display.Math object>"
      ]
     },
     "metadata": {},
     "output_type": "display_data"
    },
    {
     "data": {
      "image/svg+xml": [
       "<svg xmlns=\"http://www.w3.org/2000/svg\" width=\"500\" height=\"500\">\n",
       "    <text x=\"250\" y=\"50\" font-size=\"25\" text-anchor=\"middle\">직각삼각형</text>\n",
       "    <!-- 직각삼각형 -->\n",
       "    <line x1=\"83\" y1=\"416\" x2=\"308\" y2=\"416\" stroke=\"black\" stroke-width=\"2\"/>\n",
       "    <line x1=\"308\" y1=\"416\" x2=\"308\" y2=\"166\" stroke=\"black\" stroke-width=\"2\"/>\n",
       "    <line x1=\"83\" y1=\"416\" x2=\"308\" y2=\"166\" stroke=\"black\" stroke-width=\"2\"/>\n",
       "    <!-- 직각 보조선 -->\n",
       "    <line x1=\"286\" y1=\"416\" x2=\"286\" y2=\"394\" stroke=\"black\" stroke-width=\"2\"/>\n",
       "    <line x1=\"286\" y1=\"394\" x2=\"308\" y2=\"394\" stroke=\"black\" stroke-width=\"2\"/>\n",
       "    </svg>"
      ],
      "text/plain": [
       "<IPython.core.display.SVG object>"
      ]
     },
     "metadata": {},
     "output_type": "display_data"
    },
    {
     "name": "stdout",
     "output_type": "stream",
     "text": [
      "====================================================================================================\n",
      "요청한 문장: 가로가 5, 세로가 3인 직사각형의 넓이\n",
      "추출된 개념: Rectangle\n",
      "추출된 인자: {'width': 5, 'height': 3}\n",
      "\n",
      "생성된 코드:\n",
      " <svg width=\"500\" height=\"312\" xmlns=\"http://www.w3.org/2000/svg\">\n",
      "    <text x=\"250\" y=\"50\" font-size=\"25\" text-anchor=\"middle\">직사각형</text>\n",
      "    <rect x=\"100\" y=\"100\" width=\"250\" height=\"150\" stroke=\"black\" stroke-width=\"2\" fill=\"none\" />\n",
      "    </svg>\n",
      "\n",
      "생성된 설명:\n",
      " ### Rectangle 설명\n",
      "\n",
      "**정의:**\n",
      "사각형은 네 개의 직선으로 둘러싸인 평면 도형으로, 각 내각이 직각(90도)인 특징을 가지고 있습니다. 즉, 사각형의 네 모서리는 모두 직각을 이루며, 대변이 평행하고 길이가 같은 특성을 갖습니다.\n",
      "\n",
      "**기본 성질:**\n",
      "1. **대변의 길이가 같음:** 사각형의 두 쌍의 대변은 길이가 동일합니다. 예를 들어, 가로와 세로가 같은 길이를 가집니다.\n",
      "2. **대각선이 서로 같음:** 사각형의 두 대각선은 길이가 같습니다. 즉, 사각형을 두 개의 동일한 삼각형으로 나눌 수 있습니다.\n",
      "3. **내각의 합:** 사각형의 네 내각의 합은 항상 360도입니다.\n",
      "4. **변의 배열:** 사각형은 여러 가지 형태로 배열될 수 있습니다. 예를 들어, 직사각형은 가로와 세로가 각각 다른 길이를 가질 수 있으며, 정사각형은 모든 변의 길이가 같고 모든 내각이 직각인 특별한 형태의 사각형입니다.\n",
      "\n",
      "이러한 성질들로 인해 사각형은 우리 일상생활에서 매우 흔하게 볼 수 있는 도형입니다!\n",
      "\n",
      "생성된 공식 raw:\n",
      " {'perimeter': '2 × (밑변 + 높이)', 'area': '밑변 × 높이'}\n"
     ]
    },
    {
     "data": {
      "text/latex": [
       "$\\displaystyle 2 × (밑변 + 높이)$"
      ],
      "text/plain": [
       "<IPython.core.display.Math object>"
      ]
     },
     "metadata": {},
     "output_type": "display_data"
    },
    {
     "data": {
      "text/latex": [
       "$\\displaystyle 밑변 × 높이$"
      ],
      "text/plain": [
       "<IPython.core.display.Math object>"
      ]
     },
     "metadata": {},
     "output_type": "display_data"
    },
    {
     "data": {
      "image/svg+xml": [
       "<svg xmlns=\"http://www.w3.org/2000/svg\" width=\"500\" height=\"312\">\n",
       "    <text x=\"250\" y=\"50\" font-size=\"25\" text-anchor=\"middle\">직사각형</text>\n",
       "    <rect x=\"100\" y=\"100\" width=\"250\" height=\"150\" stroke=\"black\" stroke-width=\"2\" fill=\"none\"/>\n",
       "    </svg>"
      ],
      "text/plain": [
       "<IPython.core.display.SVG object>"
      ]
     },
     "metadata": {},
     "output_type": "display_data"
    },
    {
     "name": "stdout",
     "output_type": "stream",
     "text": [
      "====================================================================================================\n",
      "요청한 문장: 한 변의 길이가 2인 정사각형 하나를 그려줘\n",
      "추출된 개념: Square\n",
      "추출된 인자: {'length': 2}\n",
      "\n",
      "생성된 코드:\n",
      " <svg width=\"500\" height=\"500\" xmlns=\"http://www.w3.org/2000/svg\">\n",
      "    <text x=\"250\" y=\"50\" font-size=\"25\" text-anchor=\"middle\">정사각형</text>\n",
      "    <rect x=\"100\" y=\"100\" width=\"200\" height=\"200\" stroke=\"black\" stroke-width=\"2\" fill=\"none\" />\n",
      "    </svg>\n",
      "\n",
      "생성된 설명:\n",
      " ### Square\n",
      "\n",
      "**정의:**\n",
      "사각형은 네 개의 변으로 이루어진 평면 도형입니다. 모든 내각이 직각(90도)이며, 반대편의 변들이 길이가 같아서 마주보는 두 변은 평행하고 길이가 동일합니다.\n",
      "\n",
      "**기본 성질:**\n",
      "1. **대변의 길이 동일:** 사각형의 마주보는 두 변은 길이가 같습니다. 예를 들어, 정사각형이나 직사각형에서는 모든 대변이 같은 길이를 가집니다.\n",
      "2. **대각선의 성질:** 사각형의 대각선은 서로를 반으로 나눕니다. 즉, 대각선이 만나는 점에서 대각선을 잇는 선분들은 서로를 절반으로 나눕니다.\n",
      "3. **변의 합:** 사각형의 네 변의 길이를 모두 더하면, 그 합은 사각형의 둘레를 나타냅니다. 예를 들어, 한 변의 길이가 \\(a\\)이고 다른 변의 길이가 \\(b\\)라면, 둘레는 \\(a + b + a + b = 2(a + b)\\)가 됩니다.\n",
      "4. **정사각형의 특징:** 정사각형은 모든 변의 길이가 같고 모든 내각이 직각인 특별한 사각형입니다. 모든 대각선도 길이가 같고 서로를 직각으로 이룹니다.\n",
      "\n",
      "이러한 성질들로 인해 사각형은 다양한 형태와 크기로 존재하며, 건축, 디자인, 그리고 일상생활에서 자주 볼 수 있는 도형입니다!\n",
      "\n",
      "생성된 공식 raw:\n",
      " {'perimeter': '4 \\\\times \\\\mathrm{한 변의 길이}', 'area': '\\\\mathrm{한 변의 길이} \\\\times \\\\mathrm{한 변의 길이}'}\n"
     ]
    },
    {
     "data": {
      "text/latex": [
       "$\\displaystyle 4 \\times \\mathrm{한 변의 길이}$"
      ],
      "text/plain": [
       "<IPython.core.display.Math object>"
      ]
     },
     "metadata": {},
     "output_type": "display_data"
    },
    {
     "data": {
      "text/latex": [
       "$\\displaystyle \\mathrm{한 변의 길이} \\times \\mathrm{한 변의 길이}$"
      ],
      "text/plain": [
       "<IPython.core.display.Math object>"
      ]
     },
     "metadata": {},
     "output_type": "display_data"
    },
    {
     "data": {
      "image/svg+xml": [
       "<svg xmlns=\"http://www.w3.org/2000/svg\" width=\"500\" height=\"500\">\n",
       "    <text x=\"250\" y=\"50\" font-size=\"25\" text-anchor=\"middle\">정사각형</text>\n",
       "    <rect x=\"100\" y=\"100\" width=\"200\" height=\"200\" stroke=\"black\" stroke-width=\"2\" fill=\"none\"/>\n",
       "    </svg>"
      ],
      "text/plain": [
       "<IPython.core.display.SVG object>"
      ]
     },
     "metadata": {},
     "output_type": "display_data"
    },
    {
     "name": "stdout",
     "output_type": "stream",
     "text": [
      "====================================================================================================\n",
      "요청한 문장: 곧은선이 뭐야?\n",
      "추출된 개념: 직선\n",
      "추출된 인자: {}\n",
      "\n",
      "생성된 코드:\n",
      " <svg width=\"500\" height=\"500\" xmlns=\"http://www.w3.org/2000/svg\">\n",
      "    <text x=\"250\" y=\"25\" font-size=\"25\" text-anchor=\"middle\">곧은선</text>\n",
      "    <text x=\"250\" y=\"75\" font-size=\"25\" text-anchor=\"middle\">선분</text>\n",
      "    <!-- 선분 -->\n",
      "    <circle cx=\"125\" cy=\"125\" r=\"1\" stroke=\"black\" stroke-width=\"2\" fill=\"black\" />\n",
      "    <circle cx=\"375\" cy=\"125\" r=\"1\" stroke=\"black\" stroke-width=\"2\" fill=\"black\" />\n",
      "    <line x1=\"125\" y1=\"125\" x2=\"375\" y2=\"125\" stroke=\"black\" stroke-width=\"2\" />\n",
      "    <!-- 반직선 -->\n",
      "    <text x=\"250\" y=\"175\" font-size=\"25\" text-anchor=\"middle\">반직선</text>\n",
      "    <circle cx=\"125\" cy=\"250\" r=\"1\" stroke=\"black\" stroke-width=\"2\" fill=\"black\" />\n",
      "    <circle cx=\"375\" cy=\"250\" r=\"1\" stroke=\"black\" stroke-width=\"2\" fill=\"black\" />\n",
      "    <line x1=\"125\" y1=\"250\" x2=\"500\" y2=\"250\" stroke=\"black\" stroke-width=\"2\" />\n",
      "    <!-- 직선 -->\n",
      "    <text x=\"250\" y=\"300\" font-size=\"25\" text-anchor=\"middle\">직선</text>\n",
      "    <circle cx=\"125\" cy=\"375\" r=\"1\" stroke=\"black\" stroke-width=\"2\" fill=\"black\" />\n",
      "    <circle cx=\"375\" cy=\"375\" r=\"1\" stroke=\"black\" stroke-width=\"2\" fill=\"black\" />\n",
      "    <line x1=\"0\" y1=\"375\" x2=\"500\" y2=\"375\" stroke=\"black\" stroke-width=\"2\" />\n",
      "    </svg>\n",
      "    \n",
      "\n",
      "생성된 설명:\n",
      " ### 직선에 대한 설명\n",
      "\n",
      "#### 정의\n",
      "직선은 평면 위에서 가장 짧은 거리로 두 점을 연결하는 선을 말합니다. 이 선은 양쪽으로 무한히 계속되며, 방향이 항상 일정합니다. 직선 위의 모든 점들은 서로 평행하게 연결되어 있어, 어떤 방향으로든 뻗어나갈 수 있습니다.\n",
      "\n",
      "#### 기본 성질\n",
      "1. **무한한 길이**: 직선은 양쪽으로 무한히 이어집니다. 즉, 시작점에서 끝점까지의 거리가 아무리 길어도 계속해서 뻗어나갈 수 있습니다.\n",
      "2. **평행한 선들**: 같은 방향으로 무한히 뻗어나가는 두 직선은 서로 평행합니다. 반대로, 서로 다른 방향으로 무한히 뻗어나가는 두 직선은 교차하지 않습니다.\n",
      "3. **직선 위의 점들**: 직선 위의 모든 점들은 서로 연결되어 있어, 어떤 두 점을 잇는 선분은 항상 직선의 일부분입니다.\n",
      "4. **직선의 대칭성**: 직선을 기준으로 대칭인 두 부분은 서로 완전히 일치합니다. 예를 들어, 한 점을 기준으로 대칭인 두 점은 직선 양쪽에 동일한 거리에 위치합니다.\n",
      "\n",
      "이러한 성질들로 인해 직선은 기하학에서 매우 중요한 개념으로 사용됩니다!\n"
     ]
    },
    {
     "data": {
      "image/svg+xml": [
       "<svg xmlns=\"http://www.w3.org/2000/svg\" width=\"500\" height=\"500\">\n",
       "    <text x=\"250\" y=\"25\" font-size=\"25\" text-anchor=\"middle\">곧은선</text>\n",
       "    <text x=\"250\" y=\"75\" font-size=\"25\" text-anchor=\"middle\">선분</text>\n",
       "    <!-- 선분 -->\n",
       "    <circle cx=\"125\" cy=\"125\" r=\"1\" stroke=\"black\" stroke-width=\"2\" fill=\"black\"/>\n",
       "    <circle cx=\"375\" cy=\"125\" r=\"1\" stroke=\"black\" stroke-width=\"2\" fill=\"black\"/>\n",
       "    <line x1=\"125\" y1=\"125\" x2=\"375\" y2=\"125\" stroke=\"black\" stroke-width=\"2\"/>\n",
       "    <!-- 반직선 -->\n",
       "    <text x=\"250\" y=\"175\" font-size=\"25\" text-anchor=\"middle\">반직선</text>\n",
       "    <circle cx=\"125\" cy=\"250\" r=\"1\" stroke=\"black\" stroke-width=\"2\" fill=\"black\"/>\n",
       "    <circle cx=\"375\" cy=\"250\" r=\"1\" stroke=\"black\" stroke-width=\"2\" fill=\"black\"/>\n",
       "    <line x1=\"125\" y1=\"250\" x2=\"500\" y2=\"250\" stroke=\"black\" stroke-width=\"2\"/>\n",
       "    <!-- 직선 -->\n",
       "    <text x=\"250\" y=\"300\" font-size=\"25\" text-anchor=\"middle\">직선</text>\n",
       "    <circle cx=\"125\" cy=\"375\" r=\"1\" stroke=\"black\" stroke-width=\"2\" fill=\"black\"/>\n",
       "    <circle cx=\"375\" cy=\"375\" r=\"1\" stroke=\"black\" stroke-width=\"2\" fill=\"black\"/>\n",
       "    <line x1=\"0\" y1=\"375\" x2=\"500\" y2=\"375\" stroke=\"black\" stroke-width=\"2\"/>\n",
       "    </svg>"
      ],
      "text/plain": [
       "<IPython.core.display.SVG object>"
      ]
     },
     "metadata": {},
     "output_type": "display_data"
    },
    {
     "name": "stdout",
     "output_type": "stream",
     "text": [
      "====================================================================================================\n",
      "요청한 문장: 대표적인 굽은선을 그려줘\n",
      "추출된 개념: 곡선\n",
      "추출된 인자: {'type': '타원', 'description': '타원은 가장 대표적인 굽은선의 한 종류로, 두 초점 사이의 거리의 합이 일정한 점들의 집합으로 정의됩니다.'}\n",
      "\n",
      "생성된 코드:\n",
      " \n",
      "    <svg width=\"500\" height=\"500\" xmlns=\"http://www.w3.org/2000/svg\">\n",
      "    <text x=\"250\" y=\"50\" font-size=\"25\" text-anchor=\"middle\">굽은선</text>\n",
      "    <!-- 복잡한 S자 곡선 (두 개의 Cubic Bézier) -->\n",
      "    <path d=\"M 100,400\n",
      "    C 100,100 400,100 400,250\n",
      "    C 400,400 100,400 100,100\"\n",
      "    stroke=\"black\" fill=\"none\" stroke-width=\"2\"/>\n",
      "    </svg>\n",
      "    \n",
      "\n",
      "생성된 설명:\n",
      " ### 곡선에 대한 설명\n",
      "\n",
      "**정의:**\n",
      "곡선은 직선이 아닌, 연속적으로 이어지는 점들의 모임으로 이루어진 도형입니다. 쉽게 말해, 직선처럼 일정한 방향으로만 움직이는 것이 아니라, 부드럽게 휘어지거나 굽어지는 형태를 가진 선을 말합니다.\n",
      "\n",
      "**기본 성질:**\n",
      "1. **연속성:** 곡선 위의 모든 점들은 부드럽게 이어져 있어, 어떤 작은 구간에서도 끊어지지 않고 이어집니다.\n",
      "2. **길이:** 곡선의 길이는 그 곡선을 따라 측정한 총 거리입니다. 이 길이는 곡선의 모양에 따라 달라집니다. 예를 들어, 원의 둘레는 반지름에 따라 결정되며, 이는 곡선의 길이를 정확히 계산하는 방법 중 하나입니다.\n",
      "3. **곡률:** 곡선이 얼마나 빠르게 방향을 바꾸는지를 나타내는 값입니다. 곡률이 크면 곡선이 더 급하게 굽어지고, 작으면 더 부드럽게 굽어집니다. 예를 들어, 원의 경우 모든 점에서 곡률이 일정합니다.\n",
      "4. **접선:** 곡선 위의 어떤 점에서 그 점을 지나는 가장 가까운 직선을 접선이라고 합니다. 이 접선은 그 점에서 곡선의 방향을 가장 잘 나타냅니다.\n",
      "\n",
      "이러한 성질들 덕분에 곡선은 자연 현상이나 공학적 설계 등 다양한 분야에서 중요한 역할을 합니다.\n"
     ]
    },
    {
     "data": {
      "image/svg+xml": [
       "<svg xmlns=\"http://www.w3.org/2000/svg\" width=\"500\" height=\"500\">\n",
       "    <text x=\"250\" y=\"50\" font-size=\"25\" text-anchor=\"middle\">굽은선</text>\n",
       "    <!-- 복잡한 S자 곡선 (두 개의 Cubic Bézier) -->\n",
       "    <path d=\"M 100,400     C 100,100 400,100 400,250     C 400,400 100,400 100,100\" stroke=\"black\" fill=\"none\" stroke-width=\"2\"/>\n",
       "    </svg>"
      ],
      "text/plain": [
       "<IPython.core.display.SVG object>"
      ]
     },
     "metadata": {},
     "output_type": "display_data"
    },
    {
     "name": "stdout",
     "output_type": "stream",
     "text": [
      "====================================================================================================\n",
      "요청한 문장: 중심이 (0,0)이고 반지름이 2인 원을 그려주세요.\n",
      "추출된 개념: Circle\n",
      "추출된 인자: {'radius': 2}\n",
      "\n",
      "생성된 코드:\n",
      " <svg width=\"500\" height=\"500\" xmlns=\"http://www.w3.org/2000/svg\">\n",
      "    <text x=\"250\" y=\"50\" font-size=\"25\" text-anchor=\"middle\">원</text>\n",
      "    <circle cx=\"250\" cy=\"250\" r=\"100\" stroke=\"black\" stroke-width=\"2\" fill=\"none\" />\n",
      "    <circle cx=\"250\" cy=\"250\" r=\"1\" stroke=\"black\" stroke-width=\"2\" fill=\"black\" />\n",
      "    <line x1=\"250\" y1=\"250\" x2=\"350\" y2=\"250\" stroke=\"black\" stroke-width=\"2\" />\n",
      "    </svg>\n",
      "    \n",
      "\n",
      "생성된 설명:\n",
      " ### Circle (원)\n",
      "\n",
      "#### 정의:\n",
      "원은 평면 위에서 한 점(중심)으로부터 일정한 거리(반지름)에 있는 모든 점들의 집합을 말합니다. 이 중심점을 기준으로 원 위의 모든 점들은 동일한 거리에 위치해 있습니다.\n",
      "\n",
      "#### 기본 성질:\n",
      "1. **둘레와 지름**: 원의 둘레는 지름에 π(약 3.14)를 곱한 값입니다. 즉, 둘레 = 지름 × π 입니다. 반대로 지름은 둘레를 π로 나누면 구할 수 있습니다.\n",
      "   \n",
      "2. **면적**: 원의 면적은 반지름의 제곱에 π를 곱한 값입니다. 공식으로 표현하면 면적 = π × 반지름2 입니다.\n",
      "\n",
      "3. **대칭성**: 원은 중심을 기준으로 완벽하게 대칭입니다. 즉, 중심을 지나는 어떤 직선을 기준으로 원을 접어도 양쪽이 완전히 일치합니다.\n",
      "\n",
      "4. **원주각과 호의 관계**: 원 위의 두 점을 잇는 호의 중앙각은 그 호에 대응하는 원주각의 두 배입니다. 예를 들어, 호의 중앙각이 θ라면 원주각은 θ/2가 됩니다.\n",
      "\n",
      "이러한 성질들로 인해 원은 기하학에서 매우 중요한 역할을 합니다. 다양한 도형과 문제 해결에 활용되며, 일상생활에서도 자주 접하게 되는 개념입니다.\n",
      "\n",
      "생성된 공식 raw:\n",
      " {'perimeter': '2 \\\\times 3.14 \\\\times 반지름', 'area': '3.14 \\\\times 반지름 \\\\times 반지름'}\n"
     ]
    },
    {
     "data": {
      "text/latex": [
       "$\\displaystyle 2 \\times 3.14 \\times 반지름$"
      ],
      "text/plain": [
       "<IPython.core.display.Math object>"
      ]
     },
     "metadata": {},
     "output_type": "display_data"
    },
    {
     "data": {
      "text/latex": [
       "$\\displaystyle 3.14 \\times 반지름 \\times 반지름$"
      ],
      "text/plain": [
       "<IPython.core.display.Math object>"
      ]
     },
     "metadata": {},
     "output_type": "display_data"
    },
    {
     "data": {
      "image/svg+xml": [
       "<svg xmlns=\"http://www.w3.org/2000/svg\" width=\"500\" height=\"500\">\n",
       "    <text x=\"250\" y=\"50\" font-size=\"25\" text-anchor=\"middle\">원</text>\n",
       "    <circle cx=\"250\" cy=\"250\" r=\"100\" stroke=\"black\" stroke-width=\"2\" fill=\"none\"/>\n",
       "    <circle cx=\"250\" cy=\"250\" r=\"1\" stroke=\"black\" stroke-width=\"2\" fill=\"black\"/>\n",
       "    <line x1=\"250\" y1=\"250\" x2=\"350\" y2=\"250\" stroke=\"black\" stroke-width=\"2\"/>\n",
       "    </svg>"
      ],
      "text/plain": [
       "<IPython.core.display.SVG object>"
      ]
     },
     "metadata": {},
     "output_type": "display_data"
    },
    {
     "name": "stdout",
     "output_type": "stream",
     "text": [
      "====================================================================================================\n",
      "요청한 문장: 37° 각도를 그려줘\n",
      "추출된 개념: 각도\n",
      "추출된 인자: {'size': 37}\n",
      "\n",
      "생성된 코드:\n",
      " <svg width=\"500\" height=\"375\" xmlns=\"http://www.w3.org/2000/svg\">\n",
      "    <text x=\"250\" y=\"50\" font-size=\"25\" text-anchor=\"middle\">각</text>\n",
      "    <!-- 기준선 -->\n",
      "    <line x1=\"125\" y1=\"333\" x2=\"375\" y2=\"333\" stroke=\"black\" stroke-width=\"2\" />\n",
      "    <!-- 기울어진 선 -->\n",
      "    <line x1=\"125\" y1=\"333\" x2=\"324.6588775118232\" y2=\"182.54624421198793\" stroke=\"black\" stroke-width=\"2\" />\n",
      "    <!-- 각도 호 -->\n",
      "    <path d=\"M 164.93177550236464,302.9092488423976 A 50,50 0 0,1 175,333\" stroke=\"black\" stroke-width=\"2\" fill=\"none\"/>\n",
      "    </svg>\n",
      "    \n",
      "\n",
      "생성된 설명:\n",
      " ### 각도에 대한 설명\n",
      "\n",
      "**정의:**\n",
      "각도는 두 직선이나 선분이 만나서 생기는 공간의 크기를 측정하는 방법입니다. 우리가 일상에서 자주 접하는 각도는 주로 도로 표지판에서 볼 수 있는 방향 지시나, 그림에서 선들이 만나는 부분을 표현할 때 사용됩니다.\n",
      "\n",
      "**기본 성질:**\n",
      "1. **직선의 각도:** 직선은 정확히 180도의 각도를 가집니다. 직선은 두 방향으로 무한히 이어지는 것처럼 보이지만, 실제로는 시작점과 끝점이 있습니다.\n",
      "   \n",
      "2. **직각 각도:** 직각은 90도를 의미합니다. 이는 우리가 흔히 사용하는 'L'자 모양의 모서리나 사각형의 모서리에서 볼 수 있습니다. 직각은 두 직선이 서로 수직으로 만나는 경우에 생깁니다.\n",
      "\n",
      "3. **평행선과 각도:** 평행한 두 직선은 만나지 않기 때문에, 그들 사이의 각도는 항상 같습니다. 예를 들어, 두 평행선 위에 그려진 삼각형의 한 각은 다른 각과 크기가 동일합니다.\n",
      "\n",
      "4. **복합 각도:** 여러 각도를 합쳐서 더 큰 각도를 만들 수 있습니다. 예를 들어, 두 개의 직각 각도를 합치면 180도가 됩니다.\n",
      "\n",
      "이러한 기본적인 개념들을 이해하면 각도에 대한 다양한 문제를 풀 때 도움이 될 것입니다!\n"
     ]
    },
    {
     "data": {
      "image/svg+xml": [
       "<svg xmlns=\"http://www.w3.org/2000/svg\" width=\"500\" height=\"375\">\n",
       "    <text x=\"250\" y=\"50\" font-size=\"25\" text-anchor=\"middle\">각</text>\n",
       "    <!-- 기준선 -->\n",
       "    <line x1=\"125\" y1=\"333\" x2=\"375\" y2=\"333\" stroke=\"black\" stroke-width=\"2\"/>\n",
       "    <!-- 기울어진 선 -->\n",
       "    <line x1=\"125\" y1=\"333\" x2=\"324.6588775118232\" y2=\"182.54624421198793\" stroke=\"black\" stroke-width=\"2\"/>\n",
       "    <!-- 각도 호 -->\n",
       "    <path d=\"M 164.93177550236464,302.9092488423976 A 50,50 0 0,1 175,333\" stroke=\"black\" stroke-width=\"2\" fill=\"none\"/>\n",
       "    </svg>"
      ],
      "text/plain": [
       "<IPython.core.display.SVG object>"
      ]
     },
     "metadata": {},
     "output_type": "display_data"
    },
    {
     "name": "stdout",
     "output_type": "stream",
     "text": [
      "====================================================================================================\n",
      "요청한 문장: 직각을 표현해줘\n",
      "추출된 개념: Right Angle\n",
      "추출된 인자: {}\n",
      "\n",
      "생성된 코드:\n",
      " <svg width=\"500\" height=\"500\" xmlns=\"http://www.w3.org/2000/svg\">\n",
      "    <text x=\"250\" y=\"50\" font-size=\"25\" text-anchor=\"middle\">직각</text>\n",
      "    <!-- 기준선 -->\n",
      "    <line x1=\"125\" y1=\"400\" x2=\"458\" y2=\"400\" stroke=\"black\" stroke-width=\"2\" />\n",
      "    <!-- 기울어진 선 -->\n",
      "    <line x1=\"125\" y1=\"400\" x2=\"125\" y2=\"67\" stroke=\"black\" stroke-width=\"2\" />\n",
      "    <!-- 직각 보조선 -->\n",
      "    <line x1=\"175\" y1=\"400\" x2=\"175\" y2=\"350\" stroke=\"black\" stroke-width=\"2\" />\n",
      "    <line x1=\"125\" y1=\"350\" x2=\"175\" y2=\"350\" stroke=\"black\" stroke-width=\"2\" />\n",
      "    </svg>\n",
      "    \n",
      "\n",
      "생성된 설명:\n",
      " ### Right Angle\n",
      "\n",
      "**정의:**\n",
      "Right Angle은 기하학에서 가장 기본적인 각도 중 하나로, 정확히 90도를 이루는 각도를 말합니다. 이 각도는 직각이라고도 불리며, 직선이나 특정 도형의 모서리에서 만나는 두 변이 서로 수직으로 만나는 경우에 나타납니다.\n",
      "\n",
      "**기본 성질:**\n",
      "1. **크기:** Right Angle은 항상 정확히 90도입니다. 이는 모든 Right Angle이 동일한 크기를 가짐을 의미합니다.\n",
      "2. **모양:** Right Angle은 보통 'L' 모양으로 쉽게 인식할 수 있습니다. 이 모양은 직각을 나타내는 데 자주 사용됩니다.\n",
      "3. **도형과의 관계:** 직각은 사각형, 직사각형, 정사각형 등 다양한 도형의 모서리에서 발견됩니다. 특히, 직사각형이나 정사각형은 네 개의 Right Angle을 가지고 있습니다.\n",
      "4. **삼각형과의 연관성:** 직각삼각형은 한 내각이 정확히 Right Angle인 삼각형을 의미합니다. 이 삼각형은 세 변의 길이 관계를 통해 피타고라스 정리를 적용할 수 있습니다.\n",
      "\n",
      "이러한 성질들로 인해 Right Angle은 수학에서 매우 중요한 개념으로 자리잡고 있습니다!\n"
     ]
    },
    {
     "data": {
      "image/svg+xml": [
       "<svg xmlns=\"http://www.w3.org/2000/svg\" width=\"500\" height=\"500\">\n",
       "    <text x=\"250\" y=\"50\" font-size=\"25\" text-anchor=\"middle\">직각</text>\n",
       "    <!-- 기준선 -->\n",
       "    <line x1=\"125\" y1=\"400\" x2=\"458\" y2=\"400\" stroke=\"black\" stroke-width=\"2\"/>\n",
       "    <!-- 기울어진 선 -->\n",
       "    <line x1=\"125\" y1=\"400\" x2=\"125\" y2=\"67\" stroke=\"black\" stroke-width=\"2\"/>\n",
       "    <!-- 직각 보조선 -->\n",
       "    <line x1=\"175\" y1=\"400\" x2=\"175\" y2=\"350\" stroke=\"black\" stroke-width=\"2\"/>\n",
       "    <line x1=\"125\" y1=\"350\" x2=\"175\" y2=\"350\" stroke=\"black\" stroke-width=\"2\"/>\n",
       "    </svg>"
      ],
      "text/plain": [
       "<IPython.core.display.SVG object>"
      ]
     },
     "metadata": {},
     "output_type": "display_data"
    },
    {
     "name": "stdout",
     "output_type": "stream",
     "text": [
      "====================================================================================================\n",
      "요청한 문장: 밑변이 3이고, 높이가 4인 직각삼각형 하나를 그려줘\n",
      "추출된 개념: Right Triangle\n",
      "추출된 인자: {'base': 3, 'height': 4}\n",
      "\n",
      "생성된 코드:\n",
      " <svg width=\"500\" height=\"500\" xmlns=\"http://www.w3.org/2000/svg\">\n",
      "    <text x=\"250\" y=\"50\" font-size=\"25\" text-anchor=\"middle\">직각삼각형</text>\n",
      "    <!-- 직각삼각형 -->\n",
      "    <line x1=\"83\" y1=\"416\" x2=\"308\" y2=\"416\" stroke=\"black\" stroke-width=\"2\" />\n",
      "    <line x1=\"308\" y1=\"416\" x2=\"308\" y2=\"166\" stroke=\"black\" stroke-width=\"2\" />\n",
      "    <line x1=\"83\" y1=\"416\" x2=\"308\" y2=\"166\" stroke=\"black\" stroke-width=\"2\" />\n",
      "    <!-- 직각 보조선 -->\n",
      "    <line x1=\"286\" y1=\"416\" x2=\"286\" y2=\"394\" stroke=\"black\" stroke-width=\"2\" />\n",
      "    <line x1=\"286\" y1=\"394\" x2=\"308\" y2=\"394\" stroke=\"black\" stroke-width=\"2\" />\n",
      "    </svg>\n",
      "    \n",
      "\n",
      "생성된 설명:\n",
      " ### Right Triangle\n",
      "\n",
      "**정의:**\n",
      "A right triangle is a special type of triangle that has one angle which measures exactly 90 degrees (a right angle). This unique angle distinguishes it from other triangles where all angles are less than 90 degrees.\n",
      "\n",
      "**기본 성질:**\n",
      "1. **한 각이 직각:** 가장 중요한 특징은 한 꼭짓점에서 직각(90°)을 이루는 것입니다.\n",
      "2. **직각을 중심으로 두 개의 다른 각:** 나머지 두 각은 합쳐 90도가 됩니다. 따라서 이 두 각은 서로 보완각(complementary angles)입니다.\n",
      "3. **피타고라스 정리 적용 가능:** 직각 삼각형에서는 가장 긴 변을 빗변(hypotenuse)이라고 부르며, 이 빗변의 길이는 다른 두 변(직각을 이루는 두 변을 밑변과 높이라고도 부릅니다)의 길이와 특별한 관계를 가집니다. 이 관계는 피타고라스 정리로 표현되는데, 수학적으로는 \\(a^2 + b^2 = c^2\\) 입니다 (여기서 \\(c\\)는 빗변의 길이이고, \\(a\\)와 \\(b\\)는 다른 두 변의 길이입니다). 하지만 문제 해결을 위해 직접적인 공식보다는 이 관계를 이해하는 것이 중요합니다.\n",
      "4. **삼각형의 종류:** 직각 삼각형은 그 각도에 따라 다양한 종류로 나눌 수 있습니다. 예를 들어, 모든 변의 길이가 정수인 직각 삼각형을 피타고라스 삼각형이라고 부르기도 합니다.\n",
      "\n",
      "이런 특징들로 인해 직각 삼각형은 건축, 공학, 그리고 다양한 실생활 문제 해결에서 매우 중요한 역할을 합니다!\n",
      "\n",
      "생성된 공식 raw:\n",
      " {'perimeter': '밑변 + 높이 + 빗변', 'area': '밑변 × 높이 ÷ 2'}\n"
     ]
    },
    {
     "data": {
      "text/latex": [
       "$\\displaystyle 밑변 + 높이 + 빗변$"
      ],
      "text/plain": [
       "<IPython.core.display.Math object>"
      ]
     },
     "metadata": {},
     "output_type": "display_data"
    },
    {
     "data": {
      "text/latex": [
       "$\\displaystyle 밑변 × 높이 ÷ 2$"
      ],
      "text/plain": [
       "<IPython.core.display.Math object>"
      ]
     },
     "metadata": {},
     "output_type": "display_data"
    },
    {
     "data": {
      "image/svg+xml": [
       "<svg xmlns=\"http://www.w3.org/2000/svg\" width=\"500\" height=\"500\">\n",
       "    <text x=\"250\" y=\"50\" font-size=\"25\" text-anchor=\"middle\">직각삼각형</text>\n",
       "    <!-- 직각삼각형 -->\n",
       "    <line x1=\"83\" y1=\"416\" x2=\"308\" y2=\"416\" stroke=\"black\" stroke-width=\"2\"/>\n",
       "    <line x1=\"308\" y1=\"416\" x2=\"308\" y2=\"166\" stroke=\"black\" stroke-width=\"2\"/>\n",
       "    <line x1=\"83\" y1=\"416\" x2=\"308\" y2=\"166\" stroke=\"black\" stroke-width=\"2\"/>\n",
       "    <!-- 직각 보조선 -->\n",
       "    <line x1=\"286\" y1=\"416\" x2=\"286\" y2=\"394\" stroke=\"black\" stroke-width=\"2\"/>\n",
       "    <line x1=\"286\" y1=\"394\" x2=\"308\" y2=\"394\" stroke=\"black\" stroke-width=\"2\"/>\n",
       "    </svg>"
      ],
      "text/plain": [
       "<IPython.core.display.SVG object>"
      ]
     },
     "metadata": {},
     "output_type": "display_data"
    },
    {
     "name": "stdout",
     "output_type": "stream",
     "text": [
      "====================================================================================================\n",
      "요청한 문장: 가로가 5, 세로가 3인 직사각형의 넓이\n",
      "추출된 개념: Rectangle\n",
      "추출된 인자: {'width': 5, 'height': 3}\n",
      "\n",
      "생성된 코드:\n",
      " <svg width=\"500\" height=\"312\" xmlns=\"http://www.w3.org/2000/svg\">\n",
      "    <text x=\"250\" y=\"50\" font-size=\"25\" text-anchor=\"middle\">직사각형</text>\n",
      "    <rect x=\"100\" y=\"100\" width=\"250\" height=\"150\" stroke=\"black\" stroke-width=\"2\" fill=\"none\" />\n",
      "    </svg>\n",
      "\n",
      "생성된 설명:\n",
      " ### Rectangle 설명\n",
      "\n",
      "**정의:**\n",
      "사각형은 네 개의 직선으로 둘러싸인 평면 도형으로, 각 내각이 직각(90도)인 특징을 가지고 있습니다. 즉, 사각형의 네 모서리는 모두 직각을 이루며, 대변이 평행하고 길이가 같은 특성을 갖습니다.\n",
      "\n",
      "**기본 성질:**\n",
      "1. **대변의 길이가 같음:** 사각형의 두 쌍의 대변은 길이가 동일합니다. 예를 들어, 가로와 세로가 같은 길이를 가집니다.\n",
      "2. **대각선이 서로 같음:** 사각형의 두 대각선은 길이가 같습니다. 즉, 사각형을 두 개의 동일한 삼각형으로 나눌 수 있습니다.\n",
      "3. **내각의 합:** 사각형의 네 내각의 합은 항상 360도입니다.\n",
      "4. **변의 배열:** 사각형은 여러 가지 형태로 배열될 수 있습니다. 예를 들어, 직사각형은 가로와 세로가 각각 다른 길이를 가질 수 있으며, 정사각형은 모든 변의 길이가 같고 모든 내각이 직각인 특별한 형태의 사각형입니다.\n",
      "\n",
      "이러한 성질들로 인해 사각형은 우리 일상생활에서 매우 흔하게 볼 수 있는 도형입니다!\n",
      "\n",
      "생성된 공식 raw:\n",
      " {'perimeter': '2 × (밑변 + 높이)', 'area': '밑변 × 높이'}\n"
     ]
    },
    {
     "data": {
      "text/latex": [
       "$\\displaystyle 2 × (밑변 + 높이)$"
      ],
      "text/plain": [
       "<IPython.core.display.Math object>"
      ]
     },
     "metadata": {},
     "output_type": "display_data"
    },
    {
     "data": {
      "text/latex": [
       "$\\displaystyle 밑변 × 높이$"
      ],
      "text/plain": [
       "<IPython.core.display.Math object>"
      ]
     },
     "metadata": {},
     "output_type": "display_data"
    },
    {
     "data": {
      "image/svg+xml": [
       "<svg xmlns=\"http://www.w3.org/2000/svg\" width=\"500\" height=\"312\">\n",
       "    <text x=\"250\" y=\"50\" font-size=\"25\" text-anchor=\"middle\">직사각형</text>\n",
       "    <rect x=\"100\" y=\"100\" width=\"250\" height=\"150\" stroke=\"black\" stroke-width=\"2\" fill=\"none\"/>\n",
       "    </svg>"
      ],
      "text/plain": [
       "<IPython.core.display.SVG object>"
      ]
     },
     "metadata": {},
     "output_type": "display_data"
    },
    {
     "name": "stdout",
     "output_type": "stream",
     "text": [
      "====================================================================================================\n",
      "요청한 문장: 한 변의 길이가 2인 정사각형 하나를 그려줘\n",
      "추출된 개념: Square\n",
      "추출된 인자: {'length': 2}\n",
      "\n",
      "생성된 코드:\n",
      " <svg width=\"500\" height=\"500\" xmlns=\"http://www.w3.org/2000/svg\">\n",
      "    <text x=\"250\" y=\"50\" font-size=\"25\" text-anchor=\"middle\">정사각형</text>\n",
      "    <rect x=\"100\" y=\"100\" width=\"200\" height=\"200\" stroke=\"black\" stroke-width=\"2\" fill=\"none\" />\n",
      "    </svg>\n",
      "\n",
      "생성된 설명:\n",
      " ### Square\n",
      "\n",
      "**정의:**\n",
      "사각형은 네 개의 변으로 이루어진 평면 도형입니다. 모든 내각이 직각(90도)이며, 반대편의 변들이 길이가 같아서 마주보는 두 변은 평행하고 길이가 동일합니다.\n",
      "\n",
      "**기본 성질:**\n",
      "1. **대변의 길이 동일:** 사각형의 마주보는 두 변은 길이가 같습니다. 예를 들어, 정사각형이나 직사각형에서는 모든 대변이 같은 길이를 가집니다.\n",
      "2. **대각선의 성질:** 사각형의 대각선은 서로를 반으로 나눕니다. 즉, 대각선이 만나는 점에서 대각선을 잇는 선분들은 서로를 절반으로 나눕니다.\n",
      "3. **변의 합:** 사각형의 네 변의 길이를 모두 더하면, 그 합은 사각형의 둘레를 나타냅니다. 예를 들어, 한 변의 길이가 \\(a\\)이고 다른 변의 길이가 \\(b\\)라면, 둘레는 \\(a + b + a + b = 2(a + b)\\)가 됩니다.\n",
      "4. **정사각형의 특징:** 정사각형은 모든 변의 길이가 같고 모든 내각이 직각인 특별한 사각형입니다. 모든 대각선도 길이가 같고 서로를 직각으로 이룹니다.\n",
      "\n",
      "이러한 성질들로 인해 사각형은 다양한 형태와 크기로 존재하며, 건축, 디자인, 그리고 일상생활에서 자주 볼 수 있는 도형입니다!\n",
      "\n",
      "생성된 공식 raw:\n",
      " {'perimeter': '4 \\\\times \\\\mathrm{한 변의 길이}', 'area': '\\\\mathrm{한 변의 길이} \\\\times \\\\mathrm{한 변의 길이}'}\n"
     ]
    },
    {
     "data": {
      "text/latex": [
       "$\\displaystyle 4 \\times \\mathrm{한 변의 길이}$"
      ],
      "text/plain": [
       "<IPython.core.display.Math object>"
      ]
     },
     "metadata": {},
     "output_type": "display_data"
    },
    {
     "data": {
      "text/latex": [
       "$\\displaystyle \\mathrm{한 변의 길이} \\times \\mathrm{한 변의 길이}$"
      ],
      "text/plain": [
       "<IPython.core.display.Math object>"
      ]
     },
     "metadata": {},
     "output_type": "display_data"
    },
    {
     "data": {
      "image/svg+xml": [
       "<svg xmlns=\"http://www.w3.org/2000/svg\" width=\"500\" height=\"500\">\n",
       "    <text x=\"250\" y=\"50\" font-size=\"25\" text-anchor=\"middle\">정사각형</text>\n",
       "    <rect x=\"100\" y=\"100\" width=\"200\" height=\"200\" stroke=\"black\" stroke-width=\"2\" fill=\"none\"/>\n",
       "    </svg>"
      ],
      "text/plain": [
       "<IPython.core.display.SVG object>"
      ]
     },
     "metadata": {},
     "output_type": "display_data"
    },
    {
     "name": "stdout",
     "output_type": "stream",
     "text": [
      "====================================================================================================\n",
      "요청한 문장: 곧은선이 뭐야?\n",
      "추출된 개념: 직선\n",
      "추출된 인자: {}\n",
      "\n",
      "생성된 코드:\n",
      " <svg width=\"500\" height=\"500\" xmlns=\"http://www.w3.org/2000/svg\">\n",
      "    <text x=\"250\" y=\"25\" font-size=\"25\" text-anchor=\"middle\">곧은선</text>\n",
      "    <text x=\"250\" y=\"75\" font-size=\"25\" text-anchor=\"middle\">선분</text>\n",
      "    <!-- 선분 -->\n",
      "    <circle cx=\"125\" cy=\"125\" r=\"1\" stroke=\"black\" stroke-width=\"2\" fill=\"black\" />\n",
      "    <circle cx=\"375\" cy=\"125\" r=\"1\" stroke=\"black\" stroke-width=\"2\" fill=\"black\" />\n",
      "    <line x1=\"125\" y1=\"125\" x2=\"375\" y2=\"125\" stroke=\"black\" stroke-width=\"2\" />\n",
      "    <!-- 반직선 -->\n",
      "    <text x=\"250\" y=\"175\" font-size=\"25\" text-anchor=\"middle\">반직선</text>\n",
      "    <circle cx=\"125\" cy=\"250\" r=\"1\" stroke=\"black\" stroke-width=\"2\" fill=\"black\" />\n",
      "    <circle cx=\"375\" cy=\"250\" r=\"1\" stroke=\"black\" stroke-width=\"2\" fill=\"black\" />\n",
      "    <line x1=\"125\" y1=\"250\" x2=\"500\" y2=\"250\" stroke=\"black\" stroke-width=\"2\" />\n",
      "    <!-- 직선 -->\n",
      "    <text x=\"250\" y=\"300\" font-size=\"25\" text-anchor=\"middle\">직선</text>\n",
      "    <circle cx=\"125\" cy=\"375\" r=\"1\" stroke=\"black\" stroke-width=\"2\" fill=\"black\" />\n",
      "    <circle cx=\"375\" cy=\"375\" r=\"1\" stroke=\"black\" stroke-width=\"2\" fill=\"black\" />\n",
      "    <line x1=\"0\" y1=\"375\" x2=\"500\" y2=\"375\" stroke=\"black\" stroke-width=\"2\" />\n",
      "    </svg>\n",
      "    \n",
      "\n",
      "생성된 설명:\n",
      " ### 직선에 대한 설명\n",
      "\n",
      "#### 정의\n",
      "직선은 평면 위에서 가장 짧은 거리로 두 점을 연결하는 선을 말합니다. 이 선은 양쪽으로 무한히 계속되며, 방향이 항상 일정합니다. 직선 위의 모든 점들은 서로 평행하게 연결되어 있어, 어떤 방향으로든 뻗어나갈 수 있습니다.\n",
      "\n",
      "#### 기본 성질\n",
      "1. **무한한 길이**: 직선은 양쪽으로 무한히 이어집니다. 즉, 시작점에서 끝점까지의 거리가 아무리 길어도 계속해서 뻗어나갈 수 있습니다.\n",
      "2. **평행한 선들**: 같은 방향으로 무한히 뻗어나가는 두 직선은 서로 평행합니다. 반대로, 서로 다른 방향으로 무한히 뻗어나가는 두 직선은 교차하지 않습니다.\n",
      "3. **직선 위의 점들**: 직선 위의 모든 점들은 서로 연결되어 있어, 어떤 두 점을 잇는 선분은 항상 직선의 일부분입니다.\n",
      "4. **직선의 대칭성**: 직선을 기준으로 대칭인 두 부분은 서로 완전히 일치합니다. 예를 들어, 한 점을 기준으로 대칭인 두 점은 직선 양쪽에 동일한 거리에 위치합니다.\n",
      "\n",
      "이러한 성질들로 인해 직선은 기하학에서 매우 중요한 개념으로 사용됩니다!\n"
     ]
    },
    {
     "data": {
      "image/svg+xml": [
       "<svg xmlns=\"http://www.w3.org/2000/svg\" width=\"500\" height=\"500\">\n",
       "    <text x=\"250\" y=\"25\" font-size=\"25\" text-anchor=\"middle\">곧은선</text>\n",
       "    <text x=\"250\" y=\"75\" font-size=\"25\" text-anchor=\"middle\">선분</text>\n",
       "    <!-- 선분 -->\n",
       "    <circle cx=\"125\" cy=\"125\" r=\"1\" stroke=\"black\" stroke-width=\"2\" fill=\"black\"/>\n",
       "    <circle cx=\"375\" cy=\"125\" r=\"1\" stroke=\"black\" stroke-width=\"2\" fill=\"black\"/>\n",
       "    <line x1=\"125\" y1=\"125\" x2=\"375\" y2=\"125\" stroke=\"black\" stroke-width=\"2\"/>\n",
       "    <!-- 반직선 -->\n",
       "    <text x=\"250\" y=\"175\" font-size=\"25\" text-anchor=\"middle\">반직선</text>\n",
       "    <circle cx=\"125\" cy=\"250\" r=\"1\" stroke=\"black\" stroke-width=\"2\" fill=\"black\"/>\n",
       "    <circle cx=\"375\" cy=\"250\" r=\"1\" stroke=\"black\" stroke-width=\"2\" fill=\"black\"/>\n",
       "    <line x1=\"125\" y1=\"250\" x2=\"500\" y2=\"250\" stroke=\"black\" stroke-width=\"2\"/>\n",
       "    <!-- 직선 -->\n",
       "    <text x=\"250\" y=\"300\" font-size=\"25\" text-anchor=\"middle\">직선</text>\n",
       "    <circle cx=\"125\" cy=\"375\" r=\"1\" stroke=\"black\" stroke-width=\"2\" fill=\"black\"/>\n",
       "    <circle cx=\"375\" cy=\"375\" r=\"1\" stroke=\"black\" stroke-width=\"2\" fill=\"black\"/>\n",
       "    <line x1=\"0\" y1=\"375\" x2=\"500\" y2=\"375\" stroke=\"black\" stroke-width=\"2\"/>\n",
       "    </svg>"
      ],
      "text/plain": [
       "<IPython.core.display.SVG object>"
      ]
     },
     "metadata": {},
     "output_type": "display_data"
    },
    {
     "name": "stdout",
     "output_type": "stream",
     "text": [
      "====================================================================================================\n",
      "요청한 문장: 대표적인 굽은선을 그려줘\n",
      "추출된 개념: 곡선\n",
      "추출된 인자: {'type': '타원', 'description': '타원은 가장 대표적인 굽은선의 한 종류로, 두 초점 사이의 거리의 합이 일정한 점들의 집합으로 정의됩니다.'}\n",
      "\n",
      "생성된 코드:\n",
      " \n",
      "    <svg width=\"500\" height=\"500\" xmlns=\"http://www.w3.org/2000/svg\">\n",
      "    <text x=\"250\" y=\"50\" font-size=\"25\" text-anchor=\"middle\">굽은선</text>\n",
      "    <!-- 복잡한 S자 곡선 (두 개의 Cubic Bézier) -->\n",
      "    <path d=\"M 100,400\n",
      "    C 100,100 400,100 400,250\n",
      "    C 400,400 100,400 100,100\"\n",
      "    stroke=\"black\" fill=\"none\" stroke-width=\"2\"/>\n",
      "    </svg>\n",
      "    \n",
      "\n",
      "생성된 설명:\n",
      " ### 곡선에 대한 설명\n",
      "\n",
      "**정의:**\n",
      "곡선은 직선이 아닌, 연속적으로 이어지는 점들의 모임으로 이루어진 도형입니다. 쉽게 말해, 직선처럼 일정한 방향으로만 움직이는 것이 아니라, 부드럽게 휘어지거나 굽어지는 형태를 가진 선을 말합니다.\n",
      "\n",
      "**기본 성질:**\n",
      "1. **연속성:** 곡선 위의 모든 점들은 부드럽게 이어져 있어, 어떤 작은 구간에서도 끊어지지 않고 이어집니다.\n",
      "2. **길이:** 곡선의 길이는 그 곡선을 따라 측정한 총 거리입니다. 이 길이는 곡선의 모양에 따라 달라집니다. 예를 들어, 원의 둘레는 반지름에 따라 결정되며, 이는 곡선의 길이를 정확히 계산하는 방법 중 하나입니다.\n",
      "3. **곡률:** 곡선이 얼마나 빠르게 방향을 바꾸는지를 나타내는 값입니다. 곡률이 크면 곡선이 더 급하게 굽어지고, 작으면 더 부드럽게 굽어집니다. 예를 들어, 원의 경우 모든 점에서 곡률이 일정합니다.\n",
      "4. **접선:** 곡선 위의 어떤 점에서 그 점을 지나는 가장 가까운 직선을 접선이라고 합니다. 이 접선은 그 점에서 곡선의 방향을 가장 잘 나타냅니다.\n",
      "\n",
      "이러한 성질들 덕분에 곡선은 자연 현상이나 공학적 설계 등 다양한 분야에서 중요한 역할을 합니다.\n"
     ]
    },
    {
     "data": {
      "image/svg+xml": [
       "<svg xmlns=\"http://www.w3.org/2000/svg\" width=\"500\" height=\"500\">\n",
       "    <text x=\"250\" y=\"50\" font-size=\"25\" text-anchor=\"middle\">굽은선</text>\n",
       "    <!-- 복잡한 S자 곡선 (두 개의 Cubic Bézier) -->\n",
       "    <path d=\"M 100,400     C 100,100 400,100 400,250     C 400,400 100,400 100,100\" stroke=\"black\" fill=\"none\" stroke-width=\"2\"/>\n",
       "    </svg>"
      ],
      "text/plain": [
       "<IPython.core.display.SVG object>"
      ]
     },
     "metadata": {},
     "output_type": "display_data"
    },
    {
     "name": "stdout",
     "output_type": "stream",
     "text": [
      "====================================================================================================\n",
      "요청한 문장: 중심이 (0,0)이고 반지름이 2인 원을 그려주세요.\n",
      "추출된 개념: Circle\n",
      "추출된 인자: {'radius': 2}\n",
      "\n",
      "생성된 코드:\n",
      " <svg width=\"500\" height=\"500\" xmlns=\"http://www.w3.org/2000/svg\">\n",
      "    <text x=\"250\" y=\"50\" font-size=\"25\" text-anchor=\"middle\">원</text>\n",
      "    <circle cx=\"250\" cy=\"250\" r=\"100\" stroke=\"black\" stroke-width=\"2\" fill=\"none\" />\n",
      "    <circle cx=\"250\" cy=\"250\" r=\"1\" stroke=\"black\" stroke-width=\"2\" fill=\"black\" />\n",
      "    <line x1=\"250\" y1=\"250\" x2=\"350\" y2=\"250\" stroke=\"black\" stroke-width=\"2\" />\n",
      "    </svg>\n",
      "    \n",
      "\n",
      "생성된 설명:\n",
      " ### Circle (원)\n",
      "\n",
      "#### 정의:\n",
      "원은 평면 위에서 한 점(중심)으로부터 일정한 거리(반지름)에 있는 모든 점들의 집합을 말합니다. 이 중심점을 기준으로 원 위의 모든 점들은 동일한 거리에 위치해 있습니다.\n",
      "\n",
      "#### 기본 성질:\n",
      "1. **둘레와 지름**: 원의 둘레는 지름에 π(약 3.14)를 곱한 값입니다. 즉, 둘레 = 지름 × π 입니다. 반대로 지름은 둘레를 π로 나누면 구할 수 있습니다.\n",
      "   \n",
      "2. **면적**: 원의 면적은 반지름의 제곱에 π를 곱한 값입니다. 공식으로 표현하면 면적 = π × 반지름2 입니다.\n",
      "\n",
      "3. **대칭성**: 원은 중심을 기준으로 완벽하게 대칭입니다. 즉, 중심을 지나는 어떤 직선을 기준으로 원을 접어도 양쪽이 완전히 일치합니다.\n",
      "\n",
      "4. **원주각과 호의 관계**: 원 위의 두 점을 잇는 호의 중앙각은 그 호에 대응하는 원주각의 두 배입니다. 예를 들어, 호의 중앙각이 θ라면 원주각은 θ/2가 됩니다.\n",
      "\n",
      "이러한 성질들로 인해 원은 기하학에서 매우 중요한 역할을 합니다. 다양한 도형과 문제 해결에 활용되며, 일상생활에서도 자주 접하게 되는 개념입니다.\n",
      "\n",
      "생성된 공식 raw:\n",
      " {'perimeter': '2 \\\\times 3.14 \\\\times 반지름', 'area': '3.14 \\\\times 반지름 \\\\times 반지름'}\n"
     ]
    },
    {
     "data": {
      "text/latex": [
       "$\\displaystyle 2 \\times 3.14 \\times 반지름$"
      ],
      "text/plain": [
       "<IPython.core.display.Math object>"
      ]
     },
     "metadata": {},
     "output_type": "display_data"
    },
    {
     "data": {
      "text/latex": [
       "$\\displaystyle 3.14 \\times 반지름 \\times 반지름$"
      ],
      "text/plain": [
       "<IPython.core.display.Math object>"
      ]
     },
     "metadata": {},
     "output_type": "display_data"
    },
    {
     "data": {
      "image/svg+xml": [
       "<svg xmlns=\"http://www.w3.org/2000/svg\" width=\"500\" height=\"500\">\n",
       "    <text x=\"250\" y=\"50\" font-size=\"25\" text-anchor=\"middle\">원</text>\n",
       "    <circle cx=\"250\" cy=\"250\" r=\"100\" stroke=\"black\" stroke-width=\"2\" fill=\"none\"/>\n",
       "    <circle cx=\"250\" cy=\"250\" r=\"1\" stroke=\"black\" stroke-width=\"2\" fill=\"black\"/>\n",
       "    <line x1=\"250\" y1=\"250\" x2=\"350\" y2=\"250\" stroke=\"black\" stroke-width=\"2\"/>\n",
       "    </svg>"
      ],
      "text/plain": [
       "<IPython.core.display.SVG object>"
      ]
     },
     "metadata": {},
     "output_type": "display_data"
    },
    {
     "name": "stdout",
     "output_type": "stream",
     "text": [
      "====================================================================================================\n",
      "요청한 문장: 37° 각도를 그려줘\n",
      "추출된 개념: 각도\n",
      "추출된 인자: {'size': 37}\n",
      "\n",
      "생성된 코드:\n",
      " <svg width=\"500\" height=\"375\" xmlns=\"http://www.w3.org/2000/svg\">\n",
      "    <text x=\"250\" y=\"50\" font-size=\"25\" text-anchor=\"middle\">각</text>\n",
      "    <!-- 기준선 -->\n",
      "    <line x1=\"125\" y1=\"333\" x2=\"375\" y2=\"333\" stroke=\"black\" stroke-width=\"2\" />\n",
      "    <!-- 기울어진 선 -->\n",
      "    <line x1=\"125\" y1=\"333\" x2=\"324.6588775118232\" y2=\"182.54624421198793\" stroke=\"black\" stroke-width=\"2\" />\n",
      "    <!-- 각도 호 -->\n",
      "    <path d=\"M 164.93177550236464,302.9092488423976 A 50,50 0 0,1 175,333\" stroke=\"black\" stroke-width=\"2\" fill=\"none\"/>\n",
      "    </svg>\n",
      "    \n",
      "\n",
      "생성된 설명:\n",
      " ### 각도에 대한 설명\n",
      "\n",
      "**정의:**\n",
      "각도는 두 직선이나 선분이 만나서 생기는 공간의 크기를 측정하는 방법입니다. 우리가 일상에서 자주 접하는 각도는 주로 도로 표지판에서 볼 수 있는 방향 지시나, 그림에서 선들이 만나는 부분을 표현할 때 사용됩니다.\n",
      "\n",
      "**기본 성질:**\n",
      "1. **직선의 각도:** 직선은 정확히 180도의 각도를 가집니다. 직선은 두 방향으로 무한히 이어지는 것처럼 보이지만, 실제로는 시작점과 끝점이 있습니다.\n",
      "   \n",
      "2. **직각 각도:** 직각은 90도를 의미합니다. 이는 우리가 흔히 사용하는 'L'자 모양의 모서리나 사각형의 모서리에서 볼 수 있습니다. 직각은 두 직선이 서로 수직으로 만나는 경우에 생깁니다.\n",
      "\n",
      "3. **평행선과 각도:** 평행한 두 직선은 만나지 않기 때문에, 그들 사이의 각도는 항상 같습니다. 예를 들어, 두 평행선 위에 그려진 삼각형의 한 각은 다른 각과 크기가 동일합니다.\n",
      "\n",
      "4. **복합 각도:** 여러 각도를 합쳐서 더 큰 각도를 만들 수 있습니다. 예를 들어, 두 개의 직각 각도를 합치면 180도가 됩니다.\n",
      "\n",
      "이러한 기본적인 개념들을 이해하면 각도에 대한 다양한 문제를 풀 때 도움이 될 것입니다!\n"
     ]
    },
    {
     "data": {
      "image/svg+xml": [
       "<svg xmlns=\"http://www.w3.org/2000/svg\" width=\"500\" height=\"375\">\n",
       "    <text x=\"250\" y=\"50\" font-size=\"25\" text-anchor=\"middle\">각</text>\n",
       "    <!-- 기준선 -->\n",
       "    <line x1=\"125\" y1=\"333\" x2=\"375\" y2=\"333\" stroke=\"black\" stroke-width=\"2\"/>\n",
       "    <!-- 기울어진 선 -->\n",
       "    <line x1=\"125\" y1=\"333\" x2=\"324.6588775118232\" y2=\"182.54624421198793\" stroke=\"black\" stroke-width=\"2\"/>\n",
       "    <!-- 각도 호 -->\n",
       "    <path d=\"M 164.93177550236464,302.9092488423976 A 50,50 0 0,1 175,333\" stroke=\"black\" stroke-width=\"2\" fill=\"none\"/>\n",
       "    </svg>"
      ],
      "text/plain": [
       "<IPython.core.display.SVG object>"
      ]
     },
     "metadata": {},
     "output_type": "display_data"
    },
    {
     "name": "stdout",
     "output_type": "stream",
     "text": [
      "====================================================================================================\n",
      "요청한 문장: 직각을 표현해줘\n",
      "추출된 개념: Right Angle\n",
      "추출된 인자: {}\n",
      "\n",
      "생성된 코드:\n",
      " <svg width=\"500\" height=\"500\" xmlns=\"http://www.w3.org/2000/svg\">\n",
      "    <text x=\"250\" y=\"50\" font-size=\"25\" text-anchor=\"middle\">직각</text>\n",
      "    <!-- 기준선 -->\n",
      "    <line x1=\"125\" y1=\"400\" x2=\"458\" y2=\"400\" stroke=\"black\" stroke-width=\"2\" />\n",
      "    <!-- 기울어진 선 -->\n",
      "    <line x1=\"125\" y1=\"400\" x2=\"125\" y2=\"67\" stroke=\"black\" stroke-width=\"2\" />\n",
      "    <!-- 직각 보조선 -->\n",
      "    <line x1=\"175\" y1=\"400\" x2=\"175\" y2=\"350\" stroke=\"black\" stroke-width=\"2\" />\n",
      "    <line x1=\"125\" y1=\"350\" x2=\"175\" y2=\"350\" stroke=\"black\" stroke-width=\"2\" />\n",
      "    </svg>\n",
      "    \n",
      "\n",
      "생성된 설명:\n",
      " ### Right Angle\n",
      "\n",
      "**정의:**\n",
      "Right Angle은 기하학에서 가장 기본적인 각도 중 하나로, 정확히 90도를 이루는 각도를 말합니다. 이 각도는 직각이라고도 불리며, 직선이나 특정 도형의 모서리에서 만나는 두 변이 서로 수직으로 만나는 경우에 나타납니다.\n",
      "\n",
      "**기본 성질:**\n",
      "1. **크기:** Right Angle은 항상 정확히 90도입니다. 이는 모든 Right Angle이 동일한 크기를 가짐을 의미합니다.\n",
      "2. **모양:** Right Angle은 보통 'L' 모양으로 쉽게 인식할 수 있습니다. 이 모양은 직각을 나타내는 데 자주 사용됩니다.\n",
      "3. **도형과의 관계:** 직각은 사각형, 직사각형, 정사각형 등 다양한 도형의 모서리에서 발견됩니다. 특히, 직사각형이나 정사각형은 네 개의 Right Angle을 가지고 있습니다.\n",
      "4. **삼각형과의 연관성:** 직각삼각형은 한 내각이 정확히 Right Angle인 삼각형을 의미합니다. 이 삼각형은 세 변의 길이 관계를 통해 피타고라스 정리를 적용할 수 있습니다.\n",
      "\n",
      "이러한 성질들로 인해 Right Angle은 수학에서 매우 중요한 개념으로 자리잡고 있습니다!\n"
     ]
    },
    {
     "data": {
      "image/svg+xml": [
       "<svg xmlns=\"http://www.w3.org/2000/svg\" width=\"500\" height=\"500\">\n",
       "    <text x=\"250\" y=\"50\" font-size=\"25\" text-anchor=\"middle\">직각</text>\n",
       "    <!-- 기준선 -->\n",
       "    <line x1=\"125\" y1=\"400\" x2=\"458\" y2=\"400\" stroke=\"black\" stroke-width=\"2\"/>\n",
       "    <!-- 기울어진 선 -->\n",
       "    <line x1=\"125\" y1=\"400\" x2=\"125\" y2=\"67\" stroke=\"black\" stroke-width=\"2\"/>\n",
       "    <!-- 직각 보조선 -->\n",
       "    <line x1=\"175\" y1=\"400\" x2=\"175\" y2=\"350\" stroke=\"black\" stroke-width=\"2\"/>\n",
       "    <line x1=\"125\" y1=\"350\" x2=\"175\" y2=\"350\" stroke=\"black\" stroke-width=\"2\"/>\n",
       "    </svg>"
      ],
      "text/plain": [
       "<IPython.core.display.SVG object>"
      ]
     },
     "metadata": {},
     "output_type": "display_data"
    },
    {
     "name": "stdout",
     "output_type": "stream",
     "text": [
      "====================================================================================================\n",
      "요청한 문장: 밑변이 3이고, 높이가 4인 직각삼각형 하나를 그려줘\n",
      "추출된 개념: Right Triangle\n",
      "추출된 인자: {'base': 3, 'height': 4}\n",
      "\n",
      "생성된 코드:\n",
      " <svg width=\"500\" height=\"500\" xmlns=\"http://www.w3.org/2000/svg\">\n",
      "    <text x=\"250\" y=\"50\" font-size=\"25\" text-anchor=\"middle\">직각삼각형</text>\n",
      "    <!-- 직각삼각형 -->\n",
      "    <line x1=\"83\" y1=\"416\" x2=\"308\" y2=\"416\" stroke=\"black\" stroke-width=\"2\" />\n",
      "    <line x1=\"308\" y1=\"416\" x2=\"308\" y2=\"166\" stroke=\"black\" stroke-width=\"2\" />\n",
      "    <line x1=\"83\" y1=\"416\" x2=\"308\" y2=\"166\" stroke=\"black\" stroke-width=\"2\" />\n",
      "    <!-- 직각 보조선 -->\n",
      "    <line x1=\"286\" y1=\"416\" x2=\"286\" y2=\"394\" stroke=\"black\" stroke-width=\"2\" />\n",
      "    <line x1=\"286\" y1=\"394\" x2=\"308\" y2=\"394\" stroke=\"black\" stroke-width=\"2\" />\n",
      "    </svg>\n",
      "    \n",
      "\n",
      "생성된 설명:\n",
      " ### Right Triangle\n",
      "\n",
      "**정의:**\n",
      "A right triangle is a special type of triangle that has one angle which measures exactly 90 degrees (a right angle). This unique angle distinguishes it from other triangles where all angles are less than 90 degrees.\n",
      "\n",
      "**기본 성질:**\n",
      "1. **한 각이 직각:** 가장 중요한 특징은 한 꼭짓점에서 직각(90°)을 이루는 것입니다.\n",
      "2. **직각을 중심으로 두 개의 다른 각:** 나머지 두 각은 합쳐 90도가 됩니다. 따라서 이 두 각은 서로 보완각(complementary angles)입니다.\n",
      "3. **피타고라스 정리 적용 가능:** 직각 삼각형에서는 가장 긴 변을 빗변(hypotenuse)이라고 부르며, 이 빗변의 길이는 다른 두 변(직각을 이루는 두 변을 밑변과 높이라고도 부릅니다)의 길이와 특별한 관계를 가집니다. 이 관계는 피타고라스 정리로 표현되는데, 수학적으로는 \\(a^2 + b^2 = c^2\\) 입니다 (여기서 \\(c\\)는 빗변의 길이이고, \\(a\\)와 \\(b\\)는 다른 두 변의 길이입니다). 하지만 문제 해결을 위해 직접적인 공식보다는 이 관계를 이해하는 것이 중요합니다.\n",
      "4. **삼각형의 종류:** 직각 삼각형은 그 각도에 따라 다양한 종류로 나눌 수 있습니다. 예를 들어, 모든 변의 길이가 정수인 직각 삼각형을 피타고라스 삼각형이라고 부르기도 합니다.\n",
      "\n",
      "이런 특징들로 인해 직각 삼각형은 건축, 공학, 그리고 다양한 실생활 문제 해결에서 매우 중요한 역할을 합니다!\n",
      "\n",
      "생성된 공식 raw:\n",
      " {'perimeter': '밑변 + 높이 + 빗변', 'area': '밑변 × 높이 ÷ 2'}\n"
     ]
    },
    {
     "data": {
      "text/latex": [
       "$\\displaystyle 밑변 + 높이 + 빗변$"
      ],
      "text/plain": [
       "<IPython.core.display.Math object>"
      ]
     },
     "metadata": {},
     "output_type": "display_data"
    },
    {
     "data": {
      "text/latex": [
       "$\\displaystyle 밑변 × 높이 ÷ 2$"
      ],
      "text/plain": [
       "<IPython.core.display.Math object>"
      ]
     },
     "metadata": {},
     "output_type": "display_data"
    },
    {
     "data": {
      "image/svg+xml": [
       "<svg xmlns=\"http://www.w3.org/2000/svg\" width=\"500\" height=\"500\">\n",
       "    <text x=\"250\" y=\"50\" font-size=\"25\" text-anchor=\"middle\">직각삼각형</text>\n",
       "    <!-- 직각삼각형 -->\n",
       "    <line x1=\"83\" y1=\"416\" x2=\"308\" y2=\"416\" stroke=\"black\" stroke-width=\"2\"/>\n",
       "    <line x1=\"308\" y1=\"416\" x2=\"308\" y2=\"166\" stroke=\"black\" stroke-width=\"2\"/>\n",
       "    <line x1=\"83\" y1=\"416\" x2=\"308\" y2=\"166\" stroke=\"black\" stroke-width=\"2\"/>\n",
       "    <!-- 직각 보조선 -->\n",
       "    <line x1=\"286\" y1=\"416\" x2=\"286\" y2=\"394\" stroke=\"black\" stroke-width=\"2\"/>\n",
       "    <line x1=\"286\" y1=\"394\" x2=\"308\" y2=\"394\" stroke=\"black\" stroke-width=\"2\"/>\n",
       "    </svg>"
      ],
      "text/plain": [
       "<IPython.core.display.SVG object>"
      ]
     },
     "metadata": {},
     "output_type": "display_data"
    },
    {
     "name": "stdout",
     "output_type": "stream",
     "text": [
      "====================================================================================================\n",
      "요청한 문장: 가로가 5, 세로가 3인 직사각형의 넓이\n",
      "추출된 개념: Rectangle\n",
      "추출된 인자: {'width': 5, 'height': 3}\n",
      "\n",
      "생성된 코드:\n",
      " <svg width=\"500\" height=\"312\" xmlns=\"http://www.w3.org/2000/svg\">\n",
      "    <text x=\"250\" y=\"50\" font-size=\"25\" text-anchor=\"middle\">직사각형</text>\n",
      "    <rect x=\"100\" y=\"100\" width=\"250\" height=\"150\" stroke=\"black\" stroke-width=\"2\" fill=\"none\" />\n",
      "    </svg>\n",
      "\n",
      "생성된 설명:\n",
      " ### Rectangle 설명\n",
      "\n",
      "**정의:**\n",
      "사각형은 네 개의 직선으로 둘러싸인 평면 도형으로, 각 내각이 직각(90도)인 특징을 가지고 있습니다. 즉, 사각형의 네 모서리는 모두 직각을 이루며, 대변이 평행하고 길이가 같은 특성을 갖습니다.\n",
      "\n",
      "**기본 성질:**\n",
      "1. **대변의 길이가 같음:** 사각형의 두 쌍의 대변은 길이가 동일합니다. 예를 들어, 가로와 세로가 같은 길이를 가집니다.\n",
      "2. **대각선이 서로 같음:** 사각형의 두 대각선은 길이가 같습니다. 즉, 사각형을 두 개의 동일한 삼각형으로 나눌 수 있습니다.\n",
      "3. **내각의 합:** 사각형의 네 내각의 합은 항상 360도입니다.\n",
      "4. **변의 배열:** 사각형은 여러 가지 형태로 배열될 수 있습니다. 예를 들어, 직사각형은 가로와 세로가 각각 다른 길이를 가질 수 있으며, 정사각형은 모든 변의 길이가 같고 모든 내각이 직각인 특별한 형태의 사각형입니다.\n",
      "\n",
      "이러한 성질들로 인해 사각형은 우리 일상생활에서 매우 흔하게 볼 수 있는 도형입니다!\n",
      "\n",
      "생성된 공식 raw:\n",
      " {'perimeter': '2 × (밑변 + 높이)', 'area': '밑변 × 높이'}\n"
     ]
    },
    {
     "data": {
      "text/latex": [
       "$\\displaystyle 2 × (밑변 + 높이)$"
      ],
      "text/plain": [
       "<IPython.core.display.Math object>"
      ]
     },
     "metadata": {},
     "output_type": "display_data"
    },
    {
     "data": {
      "text/latex": [
       "$\\displaystyle 밑변 × 높이$"
      ],
      "text/plain": [
       "<IPython.core.display.Math object>"
      ]
     },
     "metadata": {},
     "output_type": "display_data"
    },
    {
     "data": {
      "image/svg+xml": [
       "<svg xmlns=\"http://www.w3.org/2000/svg\" width=\"500\" height=\"312\">\n",
       "    <text x=\"250\" y=\"50\" font-size=\"25\" text-anchor=\"middle\">직사각형</text>\n",
       "    <rect x=\"100\" y=\"100\" width=\"250\" height=\"150\" stroke=\"black\" stroke-width=\"2\" fill=\"none\"/>\n",
       "    </svg>"
      ],
      "text/plain": [
       "<IPython.core.display.SVG object>"
      ]
     },
     "metadata": {},
     "output_type": "display_data"
    },
    {
     "name": "stdout",
     "output_type": "stream",
     "text": [
      "====================================================================================================\n",
      "요청한 문장: 한 변의 길이가 2인 정사각형 하나를 그려줘\n",
      "추출된 개념: Square\n",
      "추출된 인자: {'length': 2}\n",
      "\n",
      "생성된 코드:\n",
      " <svg width=\"500\" height=\"500\" xmlns=\"http://www.w3.org/2000/svg\">\n",
      "    <text x=\"250\" y=\"50\" font-size=\"25\" text-anchor=\"middle\">정사각형</text>\n",
      "    <rect x=\"100\" y=\"100\" width=\"200\" height=\"200\" stroke=\"black\" stroke-width=\"2\" fill=\"none\" />\n",
      "    </svg>\n",
      "\n",
      "생성된 설명:\n",
      " ### Square\n",
      "\n",
      "**정의:**\n",
      "사각형은 네 개의 변으로 이루어진 평면 도형입니다. 모든 내각이 직각(90도)이며, 반대편의 변들이 길이가 같아서 마주보는 두 변은 평행하고 길이가 동일합니다.\n",
      "\n",
      "**기본 성질:**\n",
      "1. **대변의 길이 동일:** 사각형의 마주보는 두 변은 길이가 같습니다. 예를 들어, 정사각형이나 직사각형에서는 모든 대변이 같은 길이를 가집니다.\n",
      "2. **대각선의 성질:** 사각형의 대각선은 서로를 반으로 나눕니다. 즉, 대각선이 만나는 점에서 대각선을 잇는 선분들은 서로를 절반으로 나눕니다.\n",
      "3. **변의 합:** 사각형의 네 변의 길이를 모두 더하면, 그 합은 사각형의 둘레를 나타냅니다. 예를 들어, 한 변의 길이가 \\(a\\)이고 다른 변의 길이가 \\(b\\)라면, 둘레는 \\(a + b + a + b = 2(a + b)\\)가 됩니다.\n",
      "4. **정사각형의 특징:** 정사각형은 모든 변의 길이가 같고 모든 내각이 직각인 특별한 사각형입니다. 모든 대각선도 길이가 같고 서로를 직각으로 이룹니다.\n",
      "\n",
      "이러한 성질들로 인해 사각형은 다양한 형태와 크기로 존재하며, 건축, 디자인, 그리고 일상생활에서 자주 볼 수 있는 도형입니다!\n",
      "\n",
      "생성된 공식 raw:\n",
      " {'perimeter': '4 \\\\times \\\\mathrm{한 변의 길이}', 'area': '\\\\mathrm{한 변의 길이} \\\\times \\\\mathrm{한 변의 길이}'}\n"
     ]
    },
    {
     "data": {
      "text/latex": [
       "$\\displaystyle 4 \\times \\mathrm{한 변의 길이}$"
      ],
      "text/plain": [
       "<IPython.core.display.Math object>"
      ]
     },
     "metadata": {},
     "output_type": "display_data"
    },
    {
     "data": {
      "text/latex": [
       "$\\displaystyle \\mathrm{한 변의 길이} \\times \\mathrm{한 변의 길이}$"
      ],
      "text/plain": [
       "<IPython.core.display.Math object>"
      ]
     },
     "metadata": {},
     "output_type": "display_data"
    },
    {
     "data": {
      "image/svg+xml": [
       "<svg xmlns=\"http://www.w3.org/2000/svg\" width=\"500\" height=\"500\">\n",
       "    <text x=\"250\" y=\"50\" font-size=\"25\" text-anchor=\"middle\">정사각형</text>\n",
       "    <rect x=\"100\" y=\"100\" width=\"200\" height=\"200\" stroke=\"black\" stroke-width=\"2\" fill=\"none\"/>\n",
       "    </svg>"
      ],
      "text/plain": [
       "<IPython.core.display.SVG object>"
      ]
     },
     "metadata": {},
     "output_type": "display_data"
    },
    {
     "name": "stdout",
     "output_type": "stream",
     "text": [
      "====================================================================================================\n",
      "요청한 문장: 곧은선이 뭐야?\n",
      "추출된 개념: 직선\n",
      "추출된 인자: {}\n",
      "\n",
      "생성된 코드:\n",
      " <svg width=\"500\" height=\"500\" xmlns=\"http://www.w3.org/2000/svg\">\n",
      "    <text x=\"250\" y=\"25\" font-size=\"25\" text-anchor=\"middle\">곧은선</text>\n",
      "    <text x=\"250\" y=\"75\" font-size=\"25\" text-anchor=\"middle\">선분</text>\n",
      "    <!-- 선분 -->\n",
      "    <circle cx=\"125\" cy=\"125\" r=\"1\" stroke=\"black\" stroke-width=\"2\" fill=\"black\" />\n",
      "    <circle cx=\"375\" cy=\"125\" r=\"1\" stroke=\"black\" stroke-width=\"2\" fill=\"black\" />\n",
      "    <line x1=\"125\" y1=\"125\" x2=\"375\" y2=\"125\" stroke=\"black\" stroke-width=\"2\" />\n",
      "    <!-- 반직선 -->\n",
      "    <text x=\"250\" y=\"175\" font-size=\"25\" text-anchor=\"middle\">반직선</text>\n",
      "    <circle cx=\"125\" cy=\"250\" r=\"1\" stroke=\"black\" stroke-width=\"2\" fill=\"black\" />\n",
      "    <circle cx=\"375\" cy=\"250\" r=\"1\" stroke=\"black\" stroke-width=\"2\" fill=\"black\" />\n",
      "    <line x1=\"125\" y1=\"250\" x2=\"500\" y2=\"250\" stroke=\"black\" stroke-width=\"2\" />\n",
      "    <!-- 직선 -->\n",
      "    <text x=\"250\" y=\"300\" font-size=\"25\" text-anchor=\"middle\">직선</text>\n",
      "    <circle cx=\"125\" cy=\"375\" r=\"1\" stroke=\"black\" stroke-width=\"2\" fill=\"black\" />\n",
      "    <circle cx=\"375\" cy=\"375\" r=\"1\" stroke=\"black\" stroke-width=\"2\" fill=\"black\" />\n",
      "    <line x1=\"0\" y1=\"375\" x2=\"500\" y2=\"375\" stroke=\"black\" stroke-width=\"2\" />\n",
      "    </svg>\n",
      "    \n",
      "\n",
      "생성된 설명:\n",
      " ### 직선에 대한 설명\n",
      "\n",
      "#### 정의\n",
      "직선은 평면 위에서 가장 짧은 거리로 두 점을 연결하는 선을 말합니다. 이 선은 양쪽으로 무한히 계속되며, 방향이 항상 일정합니다. 직선 위의 모든 점들은 서로 평행하게 연결되어 있어, 어떤 방향으로든 뻗어나갈 수 있습니다.\n",
      "\n",
      "#### 기본 성질\n",
      "1. **무한한 길이**: 직선은 양쪽으로 무한히 이어집니다. 즉, 시작점에서 끝점까지의 거리가 아무리 길어도 계속해서 뻗어나갈 수 있습니다.\n",
      "2. **평행한 선들**: 같은 방향으로 무한히 뻗어나가는 두 직선은 서로 평행합니다. 반대로, 서로 다른 방향으로 무한히 뻗어나가는 두 직선은 교차하지 않습니다.\n",
      "3. **직선 위의 점들**: 직선 위의 모든 점들은 서로 연결되어 있어, 어떤 두 점을 잇는 선분은 항상 직선의 일부분입니다.\n",
      "4. **직선의 대칭성**: 직선을 기준으로 대칭인 두 부분은 서로 완전히 일치합니다. 예를 들어, 한 점을 기준으로 대칭인 두 점은 직선 양쪽에 동일한 거리에 위치합니다.\n",
      "\n",
      "이러한 성질들로 인해 직선은 기하학에서 매우 중요한 개념으로 사용됩니다!\n"
     ]
    },
    {
     "data": {
      "image/svg+xml": [
       "<svg xmlns=\"http://www.w3.org/2000/svg\" width=\"500\" height=\"500\">\n",
       "    <text x=\"250\" y=\"25\" font-size=\"25\" text-anchor=\"middle\">곧은선</text>\n",
       "    <text x=\"250\" y=\"75\" font-size=\"25\" text-anchor=\"middle\">선분</text>\n",
       "    <!-- 선분 -->\n",
       "    <circle cx=\"125\" cy=\"125\" r=\"1\" stroke=\"black\" stroke-width=\"2\" fill=\"black\"/>\n",
       "    <circle cx=\"375\" cy=\"125\" r=\"1\" stroke=\"black\" stroke-width=\"2\" fill=\"black\"/>\n",
       "    <line x1=\"125\" y1=\"125\" x2=\"375\" y2=\"125\" stroke=\"black\" stroke-width=\"2\"/>\n",
       "    <!-- 반직선 -->\n",
       "    <text x=\"250\" y=\"175\" font-size=\"25\" text-anchor=\"middle\">반직선</text>\n",
       "    <circle cx=\"125\" cy=\"250\" r=\"1\" stroke=\"black\" stroke-width=\"2\" fill=\"black\"/>\n",
       "    <circle cx=\"375\" cy=\"250\" r=\"1\" stroke=\"black\" stroke-width=\"2\" fill=\"black\"/>\n",
       "    <line x1=\"125\" y1=\"250\" x2=\"500\" y2=\"250\" stroke=\"black\" stroke-width=\"2\"/>\n",
       "    <!-- 직선 -->\n",
       "    <text x=\"250\" y=\"300\" font-size=\"25\" text-anchor=\"middle\">직선</text>\n",
       "    <circle cx=\"125\" cy=\"375\" r=\"1\" stroke=\"black\" stroke-width=\"2\" fill=\"black\"/>\n",
       "    <circle cx=\"375\" cy=\"375\" r=\"1\" stroke=\"black\" stroke-width=\"2\" fill=\"black\"/>\n",
       "    <line x1=\"0\" y1=\"375\" x2=\"500\" y2=\"375\" stroke=\"black\" stroke-width=\"2\"/>\n",
       "    </svg>"
      ],
      "text/plain": [
       "<IPython.core.display.SVG object>"
      ]
     },
     "metadata": {},
     "output_type": "display_data"
    },
    {
     "name": "stdout",
     "output_type": "stream",
     "text": [
      "====================================================================================================\n",
      "요청한 문장: 대표적인 굽은선을 그려줘\n",
      "추출된 개념: 곡선\n",
      "추출된 인자: {'type': '타원', 'description': '타원은 가장 대표적인 굽은선의 한 종류로, 두 초점 사이의 거리의 합이 일정한 점들의 집합으로 정의됩니다.'}\n",
      "\n",
      "생성된 코드:\n",
      " \n",
      "    <svg width=\"500\" height=\"500\" xmlns=\"http://www.w3.org/2000/svg\">\n",
      "    <text x=\"250\" y=\"50\" font-size=\"25\" text-anchor=\"middle\">굽은선</text>\n",
      "    <!-- 복잡한 S자 곡선 (두 개의 Cubic Bézier) -->\n",
      "    <path d=\"M 100,400\n",
      "    C 100,100 400,100 400,250\n",
      "    C 400,400 100,400 100,100\"\n",
      "    stroke=\"black\" fill=\"none\" stroke-width=\"2\"/>\n",
      "    </svg>\n",
      "    \n",
      "\n",
      "생성된 설명:\n",
      " ### 곡선에 대한 설명\n",
      "\n",
      "**정의:**\n",
      "곡선은 직선이 아닌, 연속적으로 이어지는 점들의 모임으로 이루어진 도형입니다. 쉽게 말해, 직선처럼 일정한 방향으로만 움직이는 것이 아니라, 부드럽게 휘어지거나 굽어지는 형태를 가진 선을 말합니다.\n",
      "\n",
      "**기본 성질:**\n",
      "1. **연속성:** 곡선 위의 모든 점들은 부드럽게 이어져 있어, 어떤 작은 구간에서도 끊어지지 않고 이어집니다.\n",
      "2. **길이:** 곡선의 길이는 그 곡선을 따라 측정한 총 거리입니다. 이 길이는 곡선의 모양에 따라 달라집니다. 예를 들어, 원의 둘레는 반지름에 따라 결정되며, 이는 곡선의 길이를 정확히 계산하는 방법 중 하나입니다.\n",
      "3. **곡률:** 곡선이 얼마나 빠르게 방향을 바꾸는지를 나타내는 값입니다. 곡률이 크면 곡선이 더 급하게 굽어지고, 작으면 더 부드럽게 굽어집니다. 예를 들어, 원의 경우 모든 점에서 곡률이 일정합니다.\n",
      "4. **접선:** 곡선 위의 어떤 점에서 그 점을 지나는 가장 가까운 직선을 접선이라고 합니다. 이 접선은 그 점에서 곡선의 방향을 가장 잘 나타냅니다.\n",
      "\n",
      "이러한 성질들 덕분에 곡선은 자연 현상이나 공학적 설계 등 다양한 분야에서 중요한 역할을 합니다.\n"
     ]
    },
    {
     "data": {
      "image/svg+xml": [
       "<svg xmlns=\"http://www.w3.org/2000/svg\" width=\"500\" height=\"500\">\n",
       "    <text x=\"250\" y=\"50\" font-size=\"25\" text-anchor=\"middle\">굽은선</text>\n",
       "    <!-- 복잡한 S자 곡선 (두 개의 Cubic Bézier) -->\n",
       "    <path d=\"M 100,400     C 100,100 400,100 400,250     C 400,400 100,400 100,100\" stroke=\"black\" fill=\"none\" stroke-width=\"2\"/>\n",
       "    </svg>"
      ],
      "text/plain": [
       "<IPython.core.display.SVG object>"
      ]
     },
     "metadata": {},
     "output_type": "display_data"
    },
    {
     "name": "stdout",
     "output_type": "stream",
     "text": [
      "====================================================================================================\n",
      "요청한 문장: 중심이 (0,0)이고 반지름이 2인 원을 그려주세요.\n",
      "추출된 개념: Circle\n",
      "추출된 인자: {'radius': 2}\n",
      "\n",
      "생성된 코드:\n",
      " <svg width=\"500\" height=\"500\" xmlns=\"http://www.w3.org/2000/svg\">\n",
      "    <text x=\"250\" y=\"50\" font-size=\"25\" text-anchor=\"middle\">원</text>\n",
      "    <circle cx=\"250\" cy=\"250\" r=\"100\" stroke=\"black\" stroke-width=\"2\" fill=\"none\" />\n",
      "    <circle cx=\"250\" cy=\"250\" r=\"1\" stroke=\"black\" stroke-width=\"2\" fill=\"black\" />\n",
      "    <line x1=\"250\" y1=\"250\" x2=\"350\" y2=\"250\" stroke=\"black\" stroke-width=\"2\" />\n",
      "    </svg>\n",
      "    \n",
      "\n",
      "생성된 설명:\n",
      " ### Circle (원)\n",
      "\n",
      "#### 정의:\n",
      "원은 평면 위에서 한 점(중심)으로부터 일정한 거리(반지름)에 있는 모든 점들의 집합을 말합니다. 이 중심점을 기준으로 원 위의 모든 점들은 동일한 거리에 위치해 있습니다.\n",
      "\n",
      "#### 기본 성질:\n",
      "1. **둘레와 지름**: 원의 둘레는 지름에 π(약 3.14)를 곱한 값입니다. 즉, 둘레 = 지름 × π 입니다. 반대로 지름은 둘레를 π로 나누면 구할 수 있습니다.\n",
      "   \n",
      "2. **면적**: 원의 면적은 반지름의 제곱에 π를 곱한 값입니다. 공식으로 표현하면 면적 = π × 반지름2 입니다.\n",
      "\n",
      "3. **대칭성**: 원은 중심을 기준으로 완벽하게 대칭입니다. 즉, 중심을 지나는 어떤 직선을 기준으로 원을 접어도 양쪽이 완전히 일치합니다.\n",
      "\n",
      "4. **원주각과 호의 관계**: 원 위의 두 점을 잇는 호의 중앙각은 그 호에 대응하는 원주각의 두 배입니다. 예를 들어, 호의 중앙각이 θ라면 원주각은 θ/2가 됩니다.\n",
      "\n",
      "이러한 성질들로 인해 원은 기하학에서 매우 중요한 역할을 합니다. 다양한 도형과 문제 해결에 활용되며, 일상생활에서도 자주 접하게 되는 개념입니다.\n",
      "\n",
      "생성된 공식 raw:\n",
      " {'perimeter': '2 \\\\times 3.14 \\\\times 반지름', 'area': '3.14 \\\\times 반지름 \\\\times 반지름'}\n"
     ]
    },
    {
     "data": {
      "text/latex": [
       "$\\displaystyle 2 \\times 3.14 \\times 반지름$"
      ],
      "text/plain": [
       "<IPython.core.display.Math object>"
      ]
     },
     "metadata": {},
     "output_type": "display_data"
    },
    {
     "data": {
      "text/latex": [
       "$\\displaystyle 3.14 \\times 반지름 \\times 반지름$"
      ],
      "text/plain": [
       "<IPython.core.display.Math object>"
      ]
     },
     "metadata": {},
     "output_type": "display_data"
    },
    {
     "data": {
      "image/svg+xml": [
       "<svg xmlns=\"http://www.w3.org/2000/svg\" width=\"500\" height=\"500\">\n",
       "    <text x=\"250\" y=\"50\" font-size=\"25\" text-anchor=\"middle\">원</text>\n",
       "    <circle cx=\"250\" cy=\"250\" r=\"100\" stroke=\"black\" stroke-width=\"2\" fill=\"none\"/>\n",
       "    <circle cx=\"250\" cy=\"250\" r=\"1\" stroke=\"black\" stroke-width=\"2\" fill=\"black\"/>\n",
       "    <line x1=\"250\" y1=\"250\" x2=\"350\" y2=\"250\" stroke=\"black\" stroke-width=\"2\"/>\n",
       "    </svg>"
      ],
      "text/plain": [
       "<IPython.core.display.SVG object>"
      ]
     },
     "metadata": {},
     "output_type": "display_data"
    },
    {
     "name": "stdout",
     "output_type": "stream",
     "text": [
      "====================================================================================================\n",
      "요청한 문장: 37° 각도를 그려줘\n",
      "추출된 개념: 각도\n",
      "추출된 인자: {'size': 37}\n",
      "\n",
      "생성된 코드:\n",
      " <svg width=\"500\" height=\"375\" xmlns=\"http://www.w3.org/2000/svg\">\n",
      "    <text x=\"250\" y=\"50\" font-size=\"25\" text-anchor=\"middle\">각</text>\n",
      "    <!-- 기준선 -->\n",
      "    <line x1=\"125\" y1=\"333\" x2=\"375\" y2=\"333\" stroke=\"black\" stroke-width=\"2\" />\n",
      "    <!-- 기울어진 선 -->\n",
      "    <line x1=\"125\" y1=\"333\" x2=\"324.6588775118232\" y2=\"182.54624421198793\" stroke=\"black\" stroke-width=\"2\" />\n",
      "    <!-- 각도 호 -->\n",
      "    <path d=\"M 164.93177550236464,302.9092488423976 A 50,50 0 0,1 175,333\" stroke=\"black\" stroke-width=\"2\" fill=\"none\"/>\n",
      "    </svg>\n",
      "    \n",
      "\n",
      "생성된 설명:\n",
      " ### 각도에 대한 설명\n",
      "\n",
      "**정의:**\n",
      "각도는 두 직선이나 선분이 만나서 생기는 공간의 크기를 측정하는 방법입니다. 우리가 일상에서 자주 접하는 각도는 주로 도로 표지판에서 볼 수 있는 방향 지시나, 그림에서 선들이 만나는 부분을 표현할 때 사용됩니다.\n",
      "\n",
      "**기본 성질:**\n",
      "1. **직선의 각도:** 직선은 정확히 180도의 각도를 가집니다. 직선은 두 방향으로 무한히 이어지는 것처럼 보이지만, 실제로는 시작점과 끝점이 있습니다.\n",
      "   \n",
      "2. **직각 각도:** 직각은 90도를 의미합니다. 이는 우리가 흔히 사용하는 'L'자 모양의 모서리나 사각형의 모서리에서 볼 수 있습니다. 직각은 두 직선이 서로 수직으로 만나는 경우에 생깁니다.\n",
      "\n",
      "3. **평행선과 각도:** 평행한 두 직선은 만나지 않기 때문에, 그들 사이의 각도는 항상 같습니다. 예를 들어, 두 평행선 위에 그려진 삼각형의 한 각은 다른 각과 크기가 동일합니다.\n",
      "\n",
      "4. **복합 각도:** 여러 각도를 합쳐서 더 큰 각도를 만들 수 있습니다. 예를 들어, 두 개의 직각 각도를 합치면 180도가 됩니다.\n",
      "\n",
      "이러한 기본적인 개념들을 이해하면 각도에 대한 다양한 문제를 풀 때 도움이 될 것입니다!\n"
     ]
    },
    {
     "data": {
      "image/svg+xml": [
       "<svg xmlns=\"http://www.w3.org/2000/svg\" width=\"500\" height=\"375\">\n",
       "    <text x=\"250\" y=\"50\" font-size=\"25\" text-anchor=\"middle\">각</text>\n",
       "    <!-- 기준선 -->\n",
       "    <line x1=\"125\" y1=\"333\" x2=\"375\" y2=\"333\" stroke=\"black\" stroke-width=\"2\"/>\n",
       "    <!-- 기울어진 선 -->\n",
       "    <line x1=\"125\" y1=\"333\" x2=\"324.6588775118232\" y2=\"182.54624421198793\" stroke=\"black\" stroke-width=\"2\"/>\n",
       "    <!-- 각도 호 -->\n",
       "    <path d=\"M 164.93177550236464,302.9092488423976 A 50,50 0 0,1 175,333\" stroke=\"black\" stroke-width=\"2\" fill=\"none\"/>\n",
       "    </svg>"
      ],
      "text/plain": [
       "<IPython.core.display.SVG object>"
      ]
     },
     "metadata": {},
     "output_type": "display_data"
    },
    {
     "name": "stdout",
     "output_type": "stream",
     "text": [
      "====================================================================================================\n",
      "요청한 문장: 직각을 표현해줘\n",
      "추출된 개념: Right Angle\n",
      "추출된 인자: {}\n",
      "\n",
      "생성된 코드:\n",
      " <svg width=\"500\" height=\"500\" xmlns=\"http://www.w3.org/2000/svg\">\n",
      "    <text x=\"250\" y=\"50\" font-size=\"25\" text-anchor=\"middle\">직각</text>\n",
      "    <!-- 기준선 -->\n",
      "    <line x1=\"125\" y1=\"400\" x2=\"458\" y2=\"400\" stroke=\"black\" stroke-width=\"2\" />\n",
      "    <!-- 기울어진 선 -->\n",
      "    <line x1=\"125\" y1=\"400\" x2=\"125\" y2=\"67\" stroke=\"black\" stroke-width=\"2\" />\n",
      "    <!-- 직각 보조선 -->\n",
      "    <line x1=\"175\" y1=\"400\" x2=\"175\" y2=\"350\" stroke=\"black\" stroke-width=\"2\" />\n",
      "    <line x1=\"125\" y1=\"350\" x2=\"175\" y2=\"350\" stroke=\"black\" stroke-width=\"2\" />\n",
      "    </svg>\n",
      "    \n",
      "\n",
      "생성된 설명:\n",
      " ### Right Angle\n",
      "\n",
      "**정의:**\n",
      "Right Angle은 기하학에서 가장 기본적인 각도 중 하나로, 정확히 90도를 이루는 각도를 말합니다. 이 각도는 직각이라고도 불리며, 직선이나 특정 도형의 모서리에서 만나는 두 변이 서로 수직으로 만나는 경우에 나타납니다.\n",
      "\n",
      "**기본 성질:**\n",
      "1. **크기:** Right Angle은 항상 정확히 90도입니다. 이는 모든 Right Angle이 동일한 크기를 가짐을 의미합니다.\n",
      "2. **모양:** Right Angle은 보통 'L' 모양으로 쉽게 인식할 수 있습니다. 이 모양은 직각을 나타내는 데 자주 사용됩니다.\n",
      "3. **도형과의 관계:** 직각은 사각형, 직사각형, 정사각형 등 다양한 도형의 모서리에서 발견됩니다. 특히, 직사각형이나 정사각형은 네 개의 Right Angle을 가지고 있습니다.\n",
      "4. **삼각형과의 연관성:** 직각삼각형은 한 내각이 정확히 Right Angle인 삼각형을 의미합니다. 이 삼각형은 세 변의 길이 관계를 통해 피타고라스 정리를 적용할 수 있습니다.\n",
      "\n",
      "이러한 성질들로 인해 Right Angle은 수학에서 매우 중요한 개념으로 자리잡고 있습니다!\n"
     ]
    },
    {
     "data": {
      "image/svg+xml": [
       "<svg xmlns=\"http://www.w3.org/2000/svg\" width=\"500\" height=\"500\">\n",
       "    <text x=\"250\" y=\"50\" font-size=\"25\" text-anchor=\"middle\">직각</text>\n",
       "    <!-- 기준선 -->\n",
       "    <line x1=\"125\" y1=\"400\" x2=\"458\" y2=\"400\" stroke=\"black\" stroke-width=\"2\"/>\n",
       "    <!-- 기울어진 선 -->\n",
       "    <line x1=\"125\" y1=\"400\" x2=\"125\" y2=\"67\" stroke=\"black\" stroke-width=\"2\"/>\n",
       "    <!-- 직각 보조선 -->\n",
       "    <line x1=\"175\" y1=\"400\" x2=\"175\" y2=\"350\" stroke=\"black\" stroke-width=\"2\"/>\n",
       "    <line x1=\"125\" y1=\"350\" x2=\"175\" y2=\"350\" stroke=\"black\" stroke-width=\"2\"/>\n",
       "    </svg>"
      ],
      "text/plain": [
       "<IPython.core.display.SVG object>"
      ]
     },
     "metadata": {},
     "output_type": "display_data"
    },
    {
     "name": "stdout",
     "output_type": "stream",
     "text": [
      "====================================================================================================\n",
      "요청한 문장: 밑변이 3이고, 높이가 4인 직각삼각형 하나를 그려줘\n",
      "추출된 개념: Right Triangle\n",
      "추출된 인자: {'base': 3, 'height': 4}\n",
      "\n",
      "생성된 코드:\n",
      " <svg width=\"500\" height=\"500\" xmlns=\"http://www.w3.org/2000/svg\">\n",
      "    <text x=\"250\" y=\"50\" font-size=\"25\" text-anchor=\"middle\">직각삼각형</text>\n",
      "    <!-- 직각삼각형 -->\n",
      "    <line x1=\"83\" y1=\"416\" x2=\"308\" y2=\"416\" stroke=\"black\" stroke-width=\"2\" />\n",
      "    <line x1=\"308\" y1=\"416\" x2=\"308\" y2=\"166\" stroke=\"black\" stroke-width=\"2\" />\n",
      "    <line x1=\"83\" y1=\"416\" x2=\"308\" y2=\"166\" stroke=\"black\" stroke-width=\"2\" />\n",
      "    <!-- 직각 보조선 -->\n",
      "    <line x1=\"286\" y1=\"416\" x2=\"286\" y2=\"394\" stroke=\"black\" stroke-width=\"2\" />\n",
      "    <line x1=\"286\" y1=\"394\" x2=\"308\" y2=\"394\" stroke=\"black\" stroke-width=\"2\" />\n",
      "    </svg>\n",
      "    \n",
      "\n",
      "생성된 설명:\n",
      " ### Right Triangle\n",
      "\n",
      "**정의:**\n",
      "A right triangle is a special type of triangle that has one angle which measures exactly 90 degrees (a right angle). This unique angle distinguishes it from other triangles where all angles are less than 90 degrees.\n",
      "\n",
      "**기본 성질:**\n",
      "1. **한 각이 직각:** 가장 중요한 특징은 한 꼭짓점에서 직각(90°)을 이루는 것입니다.\n",
      "2. **직각을 중심으로 두 개의 다른 각:** 나머지 두 각은 합쳐 90도가 됩니다. 따라서 이 두 각은 서로 보완각(complementary angles)입니다.\n",
      "3. **피타고라스 정리 적용 가능:** 직각 삼각형에서는 가장 긴 변을 빗변(hypotenuse)이라고 부르며, 이 빗변의 길이는 다른 두 변(직각을 이루는 두 변을 밑변과 높이라고도 부릅니다)의 길이와 특별한 관계를 가집니다. 이 관계는 피타고라스 정리로 표현되는데, 수학적으로는 \\(a^2 + b^2 = c^2\\) 입니다 (여기서 \\(c\\)는 빗변의 길이이고, \\(a\\)와 \\(b\\)는 다른 두 변의 길이입니다). 하지만 문제 해결을 위해 직접적인 공식보다는 이 관계를 이해하는 것이 중요합니다.\n",
      "4. **삼각형의 종류:** 직각 삼각형은 그 각도에 따라 다양한 종류로 나눌 수 있습니다. 예를 들어, 모든 변의 길이가 정수인 직각 삼각형을 피타고라스 삼각형이라고 부르기도 합니다.\n",
      "\n",
      "이런 특징들로 인해 직각 삼각형은 건축, 공학, 그리고 다양한 실생활 문제 해결에서 매우 중요한 역할을 합니다!\n",
      "\n",
      "생성된 공식 raw:\n",
      " {'perimeter': '밑변 + 높이 + 빗변', 'area': '밑변 × 높이 ÷ 2'}\n"
     ]
    },
    {
     "data": {
      "text/latex": [
       "$\\displaystyle 밑변 + 높이 + 빗변$"
      ],
      "text/plain": [
       "<IPython.core.display.Math object>"
      ]
     },
     "metadata": {},
     "output_type": "display_data"
    },
    {
     "data": {
      "text/latex": [
       "$\\displaystyle 밑변 × 높이 ÷ 2$"
      ],
      "text/plain": [
       "<IPython.core.display.Math object>"
      ]
     },
     "metadata": {},
     "output_type": "display_data"
    },
    {
     "data": {
      "image/svg+xml": [
       "<svg xmlns=\"http://www.w3.org/2000/svg\" width=\"500\" height=\"500\">\n",
       "    <text x=\"250\" y=\"50\" font-size=\"25\" text-anchor=\"middle\">직각삼각형</text>\n",
       "    <!-- 직각삼각형 -->\n",
       "    <line x1=\"83\" y1=\"416\" x2=\"308\" y2=\"416\" stroke=\"black\" stroke-width=\"2\"/>\n",
       "    <line x1=\"308\" y1=\"416\" x2=\"308\" y2=\"166\" stroke=\"black\" stroke-width=\"2\"/>\n",
       "    <line x1=\"83\" y1=\"416\" x2=\"308\" y2=\"166\" stroke=\"black\" stroke-width=\"2\"/>\n",
       "    <!-- 직각 보조선 -->\n",
       "    <line x1=\"286\" y1=\"416\" x2=\"286\" y2=\"394\" stroke=\"black\" stroke-width=\"2\"/>\n",
       "    <line x1=\"286\" y1=\"394\" x2=\"308\" y2=\"394\" stroke=\"black\" stroke-width=\"2\"/>\n",
       "    </svg>"
      ],
      "text/plain": [
       "<IPython.core.display.SVG object>"
      ]
     },
     "metadata": {},
     "output_type": "display_data"
    },
    {
     "name": "stdout",
     "output_type": "stream",
     "text": [
      "====================================================================================================\n",
      "요청한 문장: 가로가 5, 세로가 3인 직사각형의 넓이\n",
      "추출된 개념: Rectangle\n",
      "추출된 인자: {'width': 5, 'height': 3}\n",
      "\n",
      "생성된 코드:\n",
      " <svg width=\"500\" height=\"312\" xmlns=\"http://www.w3.org/2000/svg\">\n",
      "    <text x=\"250\" y=\"50\" font-size=\"25\" text-anchor=\"middle\">직사각형</text>\n",
      "    <rect x=\"100\" y=\"100\" width=\"250\" height=\"150\" stroke=\"black\" stroke-width=\"2\" fill=\"none\" />\n",
      "    </svg>\n",
      "\n",
      "생성된 설명:\n",
      " ### Rectangle 설명\n",
      "\n",
      "**정의:**\n",
      "사각형은 네 개의 직선으로 둘러싸인 평면 도형으로, 각 내각이 직각(90도)인 특징을 가지고 있습니다. 즉, 사각형의 네 모서리는 모두 직각을 이루며, 대변이 평행하고 길이가 같은 특성을 갖습니다.\n",
      "\n",
      "**기본 성질:**\n",
      "1. **대변의 길이가 같음:** 사각형의 두 쌍의 대변은 길이가 동일합니다. 예를 들어, 가로와 세로가 같은 길이를 가집니다.\n",
      "2. **대각선이 서로 같음:** 사각형의 두 대각선은 길이가 같습니다. 즉, 사각형을 두 개의 동일한 삼각형으로 나눌 수 있습니다.\n",
      "3. **내각의 합:** 사각형의 네 내각의 합은 항상 360도입니다.\n",
      "4. **변의 배열:** 사각형은 여러 가지 형태로 배열될 수 있습니다. 예를 들어, 직사각형은 가로와 세로가 각각 다른 길이를 가질 수 있으며, 정사각형은 모든 변의 길이가 같고 모든 내각이 직각인 특별한 형태의 사각형입니다.\n",
      "\n",
      "이러한 성질들로 인해 사각형은 우리 일상생활에서 매우 흔하게 볼 수 있는 도형입니다!\n",
      "\n",
      "생성된 공식 raw:\n",
      " {'perimeter': '2 × (밑변 + 높이)', 'area': '밑변 × 높이'}\n"
     ]
    },
    {
     "data": {
      "text/latex": [
       "$\\displaystyle 2 × (밑변 + 높이)$"
      ],
      "text/plain": [
       "<IPython.core.display.Math object>"
      ]
     },
     "metadata": {},
     "output_type": "display_data"
    },
    {
     "data": {
      "text/latex": [
       "$\\displaystyle 밑변 × 높이$"
      ],
      "text/plain": [
       "<IPython.core.display.Math object>"
      ]
     },
     "metadata": {},
     "output_type": "display_data"
    },
    {
     "data": {
      "image/svg+xml": [
       "<svg xmlns=\"http://www.w3.org/2000/svg\" width=\"500\" height=\"312\">\n",
       "    <text x=\"250\" y=\"50\" font-size=\"25\" text-anchor=\"middle\">직사각형</text>\n",
       "    <rect x=\"100\" y=\"100\" width=\"250\" height=\"150\" stroke=\"black\" stroke-width=\"2\" fill=\"none\"/>\n",
       "    </svg>"
      ],
      "text/plain": [
       "<IPython.core.display.SVG object>"
      ]
     },
     "metadata": {},
     "output_type": "display_data"
    },
    {
     "name": "stdout",
     "output_type": "stream",
     "text": [
      "====================================================================================================\n",
      "요청한 문장: 한 변의 길이가 2인 정사각형 하나를 그려줘\n",
      "추출된 개념: Square\n",
      "추출된 인자: {'length': 2}\n",
      "\n",
      "생성된 코드:\n",
      " <svg width=\"500\" height=\"500\" xmlns=\"http://www.w3.org/2000/svg\">\n",
      "    <text x=\"250\" y=\"50\" font-size=\"25\" text-anchor=\"middle\">정사각형</text>\n",
      "    <rect x=\"100\" y=\"100\" width=\"200\" height=\"200\" stroke=\"black\" stroke-width=\"2\" fill=\"none\" />\n",
      "    </svg>\n",
      "\n",
      "생성된 설명:\n",
      " ### Square\n",
      "\n",
      "**정의:**\n",
      "사각형은 네 개의 변으로 이루어진 평면 도형입니다. 모든 내각이 직각(90도)이며, 반대편의 변들이 길이가 같아서 마주보는 두 변은 평행하고 길이가 동일합니다.\n",
      "\n",
      "**기본 성질:**\n",
      "1. **대변의 길이 동일:** 사각형의 마주보는 두 변은 길이가 같습니다. 예를 들어, 정사각형이나 직사각형에서는 모든 대변이 같은 길이를 가집니다.\n",
      "2. **대각선의 성질:** 사각형의 대각선은 서로를 반으로 나눕니다. 즉, 대각선이 만나는 점에서 대각선을 잇는 선분들은 서로를 절반으로 나눕니다.\n",
      "3. **변의 합:** 사각형의 네 변의 길이를 모두 더하면, 그 합은 사각형의 둘레를 나타냅니다. 예를 들어, 한 변의 길이가 \\(a\\)이고 다른 변의 길이가 \\(b\\)라면, 둘레는 \\(a + b + a + b = 2(a + b)\\)가 됩니다.\n",
      "4. **정사각형의 특징:** 정사각형은 모든 변의 길이가 같고 모든 내각이 직각인 특별한 사각형입니다. 모든 대각선도 길이가 같고 서로를 직각으로 이룹니다.\n",
      "\n",
      "이러한 성질들로 인해 사각형은 다양한 형태와 크기로 존재하며, 건축, 디자인, 그리고 일상생활에서 자주 볼 수 있는 도형입니다!\n",
      "\n",
      "생성된 공식 raw:\n",
      " {'perimeter': '4 \\\\times \\\\mathrm{한 변의 길이}', 'area': '\\\\mathrm{한 변의 길이} \\\\times \\\\mathrm{한 변의 길이}'}\n"
     ]
    },
    {
     "data": {
      "text/latex": [
       "$\\displaystyle 4 \\times \\mathrm{한 변의 길이}$"
      ],
      "text/plain": [
       "<IPython.core.display.Math object>"
      ]
     },
     "metadata": {},
     "output_type": "display_data"
    },
    {
     "data": {
      "text/latex": [
       "$\\displaystyle \\mathrm{한 변의 길이} \\times \\mathrm{한 변의 길이}$"
      ],
      "text/plain": [
       "<IPython.core.display.Math object>"
      ]
     },
     "metadata": {},
     "output_type": "display_data"
    },
    {
     "data": {
      "image/svg+xml": [
       "<svg xmlns=\"http://www.w3.org/2000/svg\" width=\"500\" height=\"500\">\n",
       "    <text x=\"250\" y=\"50\" font-size=\"25\" text-anchor=\"middle\">정사각형</text>\n",
       "    <rect x=\"100\" y=\"100\" width=\"200\" height=\"200\" stroke=\"black\" stroke-width=\"2\" fill=\"none\"/>\n",
       "    </svg>"
      ],
      "text/plain": [
       "<IPython.core.display.SVG object>"
      ]
     },
     "metadata": {},
     "output_type": "display_data"
    },
    {
     "name": "stdout",
     "output_type": "stream",
     "text": [
      "====================================================================================================\n",
      "요청한 문장: 곧은선이 뭐야?\n",
      "추출된 개념: 직선\n",
      "추출된 인자: {}\n",
      "\n",
      "생성된 코드:\n",
      " <svg width=\"500\" height=\"500\" xmlns=\"http://www.w3.org/2000/svg\">\n",
      "    <text x=\"250\" y=\"25\" font-size=\"25\" text-anchor=\"middle\">곧은선</text>\n",
      "    <text x=\"250\" y=\"75\" font-size=\"25\" text-anchor=\"middle\">선분</text>\n",
      "    <!-- 선분 -->\n",
      "    <circle cx=\"125\" cy=\"125\" r=\"1\" stroke=\"black\" stroke-width=\"2\" fill=\"black\" />\n",
      "    <circle cx=\"375\" cy=\"125\" r=\"1\" stroke=\"black\" stroke-width=\"2\" fill=\"black\" />\n",
      "    <line x1=\"125\" y1=\"125\" x2=\"375\" y2=\"125\" stroke=\"black\" stroke-width=\"2\" />\n",
      "    <!-- 반직선 -->\n",
      "    <text x=\"250\" y=\"175\" font-size=\"25\" text-anchor=\"middle\">반직선</text>\n",
      "    <circle cx=\"125\" cy=\"250\" r=\"1\" stroke=\"black\" stroke-width=\"2\" fill=\"black\" />\n",
      "    <circle cx=\"375\" cy=\"250\" r=\"1\" stroke=\"black\" stroke-width=\"2\" fill=\"black\" />\n",
      "    <line x1=\"125\" y1=\"250\" x2=\"500\" y2=\"250\" stroke=\"black\" stroke-width=\"2\" />\n",
      "    <!-- 직선 -->\n",
      "    <text x=\"250\" y=\"300\" font-size=\"25\" text-anchor=\"middle\">직선</text>\n",
      "    <circle cx=\"125\" cy=\"375\" r=\"1\" stroke=\"black\" stroke-width=\"2\" fill=\"black\" />\n",
      "    <circle cx=\"375\" cy=\"375\" r=\"1\" stroke=\"black\" stroke-width=\"2\" fill=\"black\" />\n",
      "    <line x1=\"0\" y1=\"375\" x2=\"500\" y2=\"375\" stroke=\"black\" stroke-width=\"2\" />\n",
      "    </svg>\n",
      "    \n",
      "\n",
      "생성된 설명:\n",
      " ### 직선에 대한 설명\n",
      "\n",
      "#### 정의\n",
      "직선은 평면 위에서 가장 짧은 거리로 두 점을 연결하는 선을 말합니다. 이 선은 양쪽으로 무한히 계속되며, 방향이 항상 일정합니다. 직선 위의 모든 점들은 서로 평행하게 연결되어 있어, 어떤 방향으로든 뻗어나갈 수 있습니다.\n",
      "\n",
      "#### 기본 성질\n",
      "1. **무한한 길이**: 직선은 양쪽으로 무한히 이어집니다. 즉, 시작점에서 끝점까지의 거리가 아무리 길어도 계속해서 뻗어나갈 수 있습니다.\n",
      "2. **평행한 선들**: 같은 방향으로 무한히 뻗어나가는 두 직선은 서로 평행합니다. 반대로, 서로 다른 방향으로 무한히 뻗어나가는 두 직선은 교차하지 않습니다.\n",
      "3. **직선 위의 점들**: 직선 위의 모든 점들은 서로 연결되어 있어, 어떤 두 점을 잇는 선분은 항상 직선의 일부분입니다.\n",
      "4. **직선의 대칭성**: 직선을 기준으로 대칭인 두 부분은 서로 완전히 일치합니다. 예를 들어, 한 점을 기준으로 대칭인 두 점은 직선 양쪽에 동일한 거리에 위치합니다.\n",
      "\n",
      "이러한 성질들로 인해 직선은 기하학에서 매우 중요한 개념으로 사용됩니다!\n"
     ]
    },
    {
     "data": {
      "image/svg+xml": [
       "<svg xmlns=\"http://www.w3.org/2000/svg\" width=\"500\" height=\"500\">\n",
       "    <text x=\"250\" y=\"25\" font-size=\"25\" text-anchor=\"middle\">곧은선</text>\n",
       "    <text x=\"250\" y=\"75\" font-size=\"25\" text-anchor=\"middle\">선분</text>\n",
       "    <!-- 선분 -->\n",
       "    <circle cx=\"125\" cy=\"125\" r=\"1\" stroke=\"black\" stroke-width=\"2\" fill=\"black\"/>\n",
       "    <circle cx=\"375\" cy=\"125\" r=\"1\" stroke=\"black\" stroke-width=\"2\" fill=\"black\"/>\n",
       "    <line x1=\"125\" y1=\"125\" x2=\"375\" y2=\"125\" stroke=\"black\" stroke-width=\"2\"/>\n",
       "    <!-- 반직선 -->\n",
       "    <text x=\"250\" y=\"175\" font-size=\"25\" text-anchor=\"middle\">반직선</text>\n",
       "    <circle cx=\"125\" cy=\"250\" r=\"1\" stroke=\"black\" stroke-width=\"2\" fill=\"black\"/>\n",
       "    <circle cx=\"375\" cy=\"250\" r=\"1\" stroke=\"black\" stroke-width=\"2\" fill=\"black\"/>\n",
       "    <line x1=\"125\" y1=\"250\" x2=\"500\" y2=\"250\" stroke=\"black\" stroke-width=\"2\"/>\n",
       "    <!-- 직선 -->\n",
       "    <text x=\"250\" y=\"300\" font-size=\"25\" text-anchor=\"middle\">직선</text>\n",
       "    <circle cx=\"125\" cy=\"375\" r=\"1\" stroke=\"black\" stroke-width=\"2\" fill=\"black\"/>\n",
       "    <circle cx=\"375\" cy=\"375\" r=\"1\" stroke=\"black\" stroke-width=\"2\" fill=\"black\"/>\n",
       "    <line x1=\"0\" y1=\"375\" x2=\"500\" y2=\"375\" stroke=\"black\" stroke-width=\"2\"/>\n",
       "    </svg>"
      ],
      "text/plain": [
       "<IPython.core.display.SVG object>"
      ]
     },
     "metadata": {},
     "output_type": "display_data"
    },
    {
     "name": "stdout",
     "output_type": "stream",
     "text": [
      "====================================================================================================\n",
      "요청한 문장: 대표적인 굽은선을 그려줘\n",
      "추출된 개념: 곡선\n",
      "추출된 인자: {'type': '타원', 'description': '타원은 가장 대표적인 굽은선의 한 종류로, 두 초점 사이의 거리의 합이 일정한 점들의 집합으로 정의됩니다.'}\n",
      "\n",
      "생성된 코드:\n",
      " \n",
      "    <svg width=\"500\" height=\"500\" xmlns=\"http://www.w3.org/2000/svg\">\n",
      "    <text x=\"250\" y=\"50\" font-size=\"25\" text-anchor=\"middle\">굽은선</text>\n",
      "    <!-- 복잡한 S자 곡선 (두 개의 Cubic Bézier) -->\n",
      "    <path d=\"M 100,400\n",
      "    C 100,100 400,100 400,250\n",
      "    C 400,400 100,400 100,100\"\n",
      "    stroke=\"black\" fill=\"none\" stroke-width=\"2\"/>\n",
      "    </svg>\n",
      "    \n",
      "\n",
      "생성된 설명:\n",
      " ### 곡선에 대한 설명\n",
      "\n",
      "**정의:**\n",
      "곡선은 직선이 아닌, 연속적으로 이어지는 점들의 모임으로 이루어진 도형입니다. 쉽게 말해, 직선처럼 일정한 방향으로만 움직이는 것이 아니라, 부드럽게 휘어지거나 굽어지는 형태를 가진 선을 말합니다.\n",
      "\n",
      "**기본 성질:**\n",
      "1. **연속성:** 곡선 위의 모든 점들은 부드럽게 이어져 있어, 어떤 작은 구간에서도 끊어지지 않고 이어집니다.\n",
      "2. **길이:** 곡선의 길이는 그 곡선을 따라 측정한 총 거리입니다. 이 길이는 곡선의 모양에 따라 달라집니다. 예를 들어, 원의 둘레는 반지름에 따라 결정되며, 이는 곡선의 길이를 정확히 계산하는 방법 중 하나입니다.\n",
      "3. **곡률:** 곡선이 얼마나 빠르게 방향을 바꾸는지를 나타내는 값입니다. 곡률이 크면 곡선이 더 급하게 굽어지고, 작으면 더 부드럽게 굽어집니다. 예를 들어, 원의 경우 모든 점에서 곡률이 일정합니다.\n",
      "4. **접선:** 곡선 위의 어떤 점에서 그 점을 지나는 가장 가까운 직선을 접선이라고 합니다. 이 접선은 그 점에서 곡선의 방향을 가장 잘 나타냅니다.\n",
      "\n",
      "이러한 성질들 덕분에 곡선은 자연 현상이나 공학적 설계 등 다양한 분야에서 중요한 역할을 합니다.\n"
     ]
    },
    {
     "data": {
      "image/svg+xml": [
       "<svg xmlns=\"http://www.w3.org/2000/svg\" width=\"500\" height=\"500\">\n",
       "    <text x=\"250\" y=\"50\" font-size=\"25\" text-anchor=\"middle\">굽은선</text>\n",
       "    <!-- 복잡한 S자 곡선 (두 개의 Cubic Bézier) -->\n",
       "    <path d=\"M 100,400     C 100,100 400,100 400,250     C 400,400 100,400 100,100\" stroke=\"black\" fill=\"none\" stroke-width=\"2\"/>\n",
       "    </svg>"
      ],
      "text/plain": [
       "<IPython.core.display.SVG object>"
      ]
     },
     "metadata": {},
     "output_type": "display_data"
    },
    {
     "name": "stdout",
     "output_type": "stream",
     "text": [
      "====================================================================================================\n",
      "요청한 문장: 중심이 (0,0)이고 반지름이 2인 원을 그려주세요.\n",
      "추출된 개념: Circle\n",
      "추출된 인자: {'radius': 2}\n",
      "\n",
      "생성된 코드:\n",
      " <svg width=\"500\" height=\"500\" xmlns=\"http://www.w3.org/2000/svg\">\n",
      "    <text x=\"250\" y=\"50\" font-size=\"25\" text-anchor=\"middle\">원</text>\n",
      "    <circle cx=\"250\" cy=\"250\" r=\"100\" stroke=\"black\" stroke-width=\"2\" fill=\"none\" />\n",
      "    <circle cx=\"250\" cy=\"250\" r=\"1\" stroke=\"black\" stroke-width=\"2\" fill=\"black\" />\n",
      "    <line x1=\"250\" y1=\"250\" x2=\"350\" y2=\"250\" stroke=\"black\" stroke-width=\"2\" />\n",
      "    </svg>\n",
      "    \n",
      "\n",
      "생성된 설명:\n",
      " ### Circle (원)\n",
      "\n",
      "#### 정의:\n",
      "원은 평면 위에서 한 점(중심)으로부터 일정한 거리(반지름)에 있는 모든 점들의 집합을 말합니다. 이 중심점을 기준으로 원 위의 모든 점들은 동일한 거리에 위치해 있습니다.\n",
      "\n",
      "#### 기본 성질:\n",
      "1. **둘레와 지름**: 원의 둘레는 지름에 π(약 3.14)를 곱한 값입니다. 즉, 둘레 = 지름 × π 입니다. 반대로 지름은 둘레를 π로 나누면 구할 수 있습니다.\n",
      "   \n",
      "2. **면적**: 원의 면적은 반지름의 제곱에 π를 곱한 값입니다. 공식으로 표현하면 면적 = π × 반지름2 입니다.\n",
      "\n",
      "3. **대칭성**: 원은 중심을 기준으로 완벽하게 대칭입니다. 즉, 중심을 지나는 어떤 직선을 기준으로 원을 접어도 양쪽이 완전히 일치합니다.\n",
      "\n",
      "4. **원주각과 호의 관계**: 원 위의 두 점을 잇는 호의 중앙각은 그 호에 대응하는 원주각의 두 배입니다. 예를 들어, 호의 중앙각이 θ라면 원주각은 θ/2가 됩니다.\n",
      "\n",
      "이러한 성질들로 인해 원은 기하학에서 매우 중요한 역할을 합니다. 다양한 도형과 문제 해결에 활용되며, 일상생활에서도 자주 접하게 되는 개념입니다.\n",
      "\n",
      "생성된 공식 raw:\n",
      " {'perimeter': '2 \\\\times 3.14 \\\\times 반지름', 'area': '3.14 \\\\times 반지름 \\\\times 반지름'}\n"
     ]
    },
    {
     "data": {
      "text/latex": [
       "$\\displaystyle 2 \\times 3.14 \\times 반지름$"
      ],
      "text/plain": [
       "<IPython.core.display.Math object>"
      ]
     },
     "metadata": {},
     "output_type": "display_data"
    },
    {
     "data": {
      "text/latex": [
       "$\\displaystyle 3.14 \\times 반지름 \\times 반지름$"
      ],
      "text/plain": [
       "<IPython.core.display.Math object>"
      ]
     },
     "metadata": {},
     "output_type": "display_data"
    },
    {
     "data": {
      "image/svg+xml": [
       "<svg xmlns=\"http://www.w3.org/2000/svg\" width=\"500\" height=\"500\">\n",
       "    <text x=\"250\" y=\"50\" font-size=\"25\" text-anchor=\"middle\">원</text>\n",
       "    <circle cx=\"250\" cy=\"250\" r=\"100\" stroke=\"black\" stroke-width=\"2\" fill=\"none\"/>\n",
       "    <circle cx=\"250\" cy=\"250\" r=\"1\" stroke=\"black\" stroke-width=\"2\" fill=\"black\"/>\n",
       "    <line x1=\"250\" y1=\"250\" x2=\"350\" y2=\"250\" stroke=\"black\" stroke-width=\"2\"/>\n",
       "    </svg>"
      ],
      "text/plain": [
       "<IPython.core.display.SVG object>"
      ]
     },
     "metadata": {},
     "output_type": "display_data"
    },
    {
     "name": "stdout",
     "output_type": "stream",
     "text": [
      "====================================================================================================\n",
      "요청한 문장: 37° 각도를 그려줘\n",
      "추출된 개념: 각도\n",
      "추출된 인자: {'size': 37}\n",
      "\n",
      "생성된 코드:\n",
      " <svg width=\"500\" height=\"375\" xmlns=\"http://www.w3.org/2000/svg\">\n",
      "    <text x=\"250\" y=\"50\" font-size=\"25\" text-anchor=\"middle\">각</text>\n",
      "    <!-- 기준선 -->\n",
      "    <line x1=\"125\" y1=\"333\" x2=\"375\" y2=\"333\" stroke=\"black\" stroke-width=\"2\" />\n",
      "    <!-- 기울어진 선 -->\n",
      "    <line x1=\"125\" y1=\"333\" x2=\"324.6588775118232\" y2=\"182.54624421198793\" stroke=\"black\" stroke-width=\"2\" />\n",
      "    <!-- 각도 호 -->\n",
      "    <path d=\"M 164.93177550236464,302.9092488423976 A 50,50 0 0,1 175,333\" stroke=\"black\" stroke-width=\"2\" fill=\"none\"/>\n",
      "    </svg>\n",
      "    \n",
      "\n",
      "생성된 설명:\n",
      " ### 각도에 대한 설명\n",
      "\n",
      "**정의:**\n",
      "각도는 두 직선이나 선분이 만나서 생기는 공간의 크기를 측정하는 방법입니다. 우리가 일상에서 자주 접하는 각도는 주로 도로 표지판에서 볼 수 있는 방향 지시나, 그림에서 선들이 만나는 부분을 표현할 때 사용됩니다.\n",
      "\n",
      "**기본 성질:**\n",
      "1. **직선의 각도:** 직선은 정확히 180도의 각도를 가집니다. 직선은 두 방향으로 무한히 이어지는 것처럼 보이지만, 실제로는 시작점과 끝점이 있습니다.\n",
      "   \n",
      "2. **직각 각도:** 직각은 90도를 의미합니다. 이는 우리가 흔히 사용하는 'L'자 모양의 모서리나 사각형의 모서리에서 볼 수 있습니다. 직각은 두 직선이 서로 수직으로 만나는 경우에 생깁니다.\n",
      "\n",
      "3. **평행선과 각도:** 평행한 두 직선은 만나지 않기 때문에, 그들 사이의 각도는 항상 같습니다. 예를 들어, 두 평행선 위에 그려진 삼각형의 한 각은 다른 각과 크기가 동일합니다.\n",
      "\n",
      "4. **복합 각도:** 여러 각도를 합쳐서 더 큰 각도를 만들 수 있습니다. 예를 들어, 두 개의 직각 각도를 합치면 180도가 됩니다.\n",
      "\n",
      "이러한 기본적인 개념들을 이해하면 각도에 대한 다양한 문제를 풀 때 도움이 될 것입니다!\n"
     ]
    },
    {
     "data": {
      "image/svg+xml": [
       "<svg xmlns=\"http://www.w3.org/2000/svg\" width=\"500\" height=\"375\">\n",
       "    <text x=\"250\" y=\"50\" font-size=\"25\" text-anchor=\"middle\">각</text>\n",
       "    <!-- 기준선 -->\n",
       "    <line x1=\"125\" y1=\"333\" x2=\"375\" y2=\"333\" stroke=\"black\" stroke-width=\"2\"/>\n",
       "    <!-- 기울어진 선 -->\n",
       "    <line x1=\"125\" y1=\"333\" x2=\"324.6588775118232\" y2=\"182.54624421198793\" stroke=\"black\" stroke-width=\"2\"/>\n",
       "    <!-- 각도 호 -->\n",
       "    <path d=\"M 164.93177550236464,302.9092488423976 A 50,50 0 0,1 175,333\" stroke=\"black\" stroke-width=\"2\" fill=\"none\"/>\n",
       "    </svg>"
      ],
      "text/plain": [
       "<IPython.core.display.SVG object>"
      ]
     },
     "metadata": {},
     "output_type": "display_data"
    },
    {
     "name": "stdout",
     "output_type": "stream",
     "text": [
      "====================================================================================================\n",
      "요청한 문장: 직각을 표현해줘\n",
      "추출된 개념: Right Angle\n",
      "추출된 인자: {}\n",
      "\n",
      "생성된 코드:\n",
      " <svg width=\"500\" height=\"500\" xmlns=\"http://www.w3.org/2000/svg\">\n",
      "    <text x=\"250\" y=\"50\" font-size=\"25\" text-anchor=\"middle\">직각</text>\n",
      "    <!-- 기준선 -->\n",
      "    <line x1=\"125\" y1=\"400\" x2=\"458\" y2=\"400\" stroke=\"black\" stroke-width=\"2\" />\n",
      "    <!-- 기울어진 선 -->\n",
      "    <line x1=\"125\" y1=\"400\" x2=\"125\" y2=\"67\" stroke=\"black\" stroke-width=\"2\" />\n",
      "    <!-- 직각 보조선 -->\n",
      "    <line x1=\"175\" y1=\"400\" x2=\"175\" y2=\"350\" stroke=\"black\" stroke-width=\"2\" />\n",
      "    <line x1=\"125\" y1=\"350\" x2=\"175\" y2=\"350\" stroke=\"black\" stroke-width=\"2\" />\n",
      "    </svg>\n",
      "    \n",
      "\n",
      "생성된 설명:\n",
      " ### Right Angle\n",
      "\n",
      "**정의:**\n",
      "Right Angle은 기하학에서 가장 기본적인 각도 중 하나로, 정확히 90도를 이루는 각도를 말합니다. 이 각도는 직각이라고도 불리며, 직선이나 특정 도형의 모서리에서 만나는 두 변이 서로 수직으로 만나는 경우에 나타납니다.\n",
      "\n",
      "**기본 성질:**\n",
      "1. **크기:** Right Angle은 항상 정확히 90도입니다. 이는 모든 Right Angle이 동일한 크기를 가짐을 의미합니다.\n",
      "2. **모양:** Right Angle은 보통 'L' 모양으로 쉽게 인식할 수 있습니다. 이 모양은 직각을 나타내는 데 자주 사용됩니다.\n",
      "3. **도형과의 관계:** 직각은 사각형, 직사각형, 정사각형 등 다양한 도형의 모서리에서 발견됩니다. 특히, 직사각형이나 정사각형은 네 개의 Right Angle을 가지고 있습니다.\n",
      "4. **삼각형과의 연관성:** 직각삼각형은 한 내각이 정확히 Right Angle인 삼각형을 의미합니다. 이 삼각형은 세 변의 길이 관계를 통해 피타고라스 정리를 적용할 수 있습니다.\n",
      "\n",
      "이러한 성질들로 인해 Right Angle은 수학에서 매우 중요한 개념으로 자리잡고 있습니다!\n"
     ]
    },
    {
     "data": {
      "image/svg+xml": [
       "<svg xmlns=\"http://www.w3.org/2000/svg\" width=\"500\" height=\"500\">\n",
       "    <text x=\"250\" y=\"50\" font-size=\"25\" text-anchor=\"middle\">직각</text>\n",
       "    <!-- 기준선 -->\n",
       "    <line x1=\"125\" y1=\"400\" x2=\"458\" y2=\"400\" stroke=\"black\" stroke-width=\"2\"/>\n",
       "    <!-- 기울어진 선 -->\n",
       "    <line x1=\"125\" y1=\"400\" x2=\"125\" y2=\"67\" stroke=\"black\" stroke-width=\"2\"/>\n",
       "    <!-- 직각 보조선 -->\n",
       "    <line x1=\"175\" y1=\"400\" x2=\"175\" y2=\"350\" stroke=\"black\" stroke-width=\"2\"/>\n",
       "    <line x1=\"125\" y1=\"350\" x2=\"175\" y2=\"350\" stroke=\"black\" stroke-width=\"2\"/>\n",
       "    </svg>"
      ],
      "text/plain": [
       "<IPython.core.display.SVG object>"
      ]
     },
     "metadata": {},
     "output_type": "display_data"
    },
    {
     "name": "stdout",
     "output_type": "stream",
     "text": [
      "====================================================================================================\n",
      "요청한 문장: 밑변이 3이고, 높이가 4인 직각삼각형 하나를 그려줘\n",
      "추출된 개념: Right Triangle\n",
      "추출된 인자: {'base': 3, 'height': 4}\n",
      "\n",
      "생성된 코드:\n",
      " <svg width=\"500\" height=\"500\" xmlns=\"http://www.w3.org/2000/svg\">\n",
      "    <text x=\"250\" y=\"50\" font-size=\"25\" text-anchor=\"middle\">직각삼각형</text>\n",
      "    <!-- 직각삼각형 -->\n",
      "    <line x1=\"83\" y1=\"416\" x2=\"308\" y2=\"416\" stroke=\"black\" stroke-width=\"2\" />\n",
      "    <line x1=\"308\" y1=\"416\" x2=\"308\" y2=\"166\" stroke=\"black\" stroke-width=\"2\" />\n",
      "    <line x1=\"83\" y1=\"416\" x2=\"308\" y2=\"166\" stroke=\"black\" stroke-width=\"2\" />\n",
      "    <!-- 직각 보조선 -->\n",
      "    <line x1=\"286\" y1=\"416\" x2=\"286\" y2=\"394\" stroke=\"black\" stroke-width=\"2\" />\n",
      "    <line x1=\"286\" y1=\"394\" x2=\"308\" y2=\"394\" stroke=\"black\" stroke-width=\"2\" />\n",
      "    </svg>\n",
      "    \n",
      "\n",
      "생성된 설명:\n",
      " ### Right Triangle\n",
      "\n",
      "**정의:**\n",
      "A right triangle is a special type of triangle that has one angle which measures exactly 90 degrees (a right angle). This unique angle distinguishes it from other triangles where all angles are less than 90 degrees.\n",
      "\n",
      "**기본 성질:**\n",
      "1. **한 각이 직각:** 가장 중요한 특징은 한 꼭짓점에서 직각(90°)을 이루는 것입니다.\n",
      "2. **직각을 중심으로 두 개의 다른 각:** 나머지 두 각은 합쳐 90도가 됩니다. 따라서 이 두 각은 서로 보완각(complementary angles)입니다.\n",
      "3. **피타고라스 정리 적용 가능:** 직각 삼각형에서는 가장 긴 변을 빗변(hypotenuse)이라고 부르며, 이 빗변의 길이는 다른 두 변(직각을 이루는 두 변을 밑변과 높이라고도 부릅니다)의 길이와 특별한 관계를 가집니다. 이 관계는 피타고라스 정리로 표현되는데, 수학적으로는 \\(a^2 + b^2 = c^2\\) 입니다 (여기서 \\(c\\)는 빗변의 길이이고, \\(a\\)와 \\(b\\)는 다른 두 변의 길이입니다). 하지만 문제 해결을 위해 직접적인 공식보다는 이 관계를 이해하는 것이 중요합니다.\n",
      "4. **삼각형의 종류:** 직각 삼각형은 그 각도에 따라 다양한 종류로 나눌 수 있습니다. 예를 들어, 모든 변의 길이가 정수인 직각 삼각형을 피타고라스 삼각형이라고 부르기도 합니다.\n",
      "\n",
      "이런 특징들로 인해 직각 삼각형은 건축, 공학, 그리고 다양한 실생활 문제 해결에서 매우 중요한 역할을 합니다!\n",
      "\n",
      "생성된 공식 raw:\n",
      " {'perimeter': '밑변 + 높이 + 빗변', 'area': '밑변 × 높이 ÷ 2'}\n"
     ]
    },
    {
     "data": {
      "text/latex": [
       "$\\displaystyle 밑변 + 높이 + 빗변$"
      ],
      "text/plain": [
       "<IPython.core.display.Math object>"
      ]
     },
     "metadata": {},
     "output_type": "display_data"
    },
    {
     "data": {
      "text/latex": [
       "$\\displaystyle 밑변 × 높이 ÷ 2$"
      ],
      "text/plain": [
       "<IPython.core.display.Math object>"
      ]
     },
     "metadata": {},
     "output_type": "display_data"
    },
    {
     "data": {
      "image/svg+xml": [
       "<svg xmlns=\"http://www.w3.org/2000/svg\" width=\"500\" height=\"500\">\n",
       "    <text x=\"250\" y=\"50\" font-size=\"25\" text-anchor=\"middle\">직각삼각형</text>\n",
       "    <!-- 직각삼각형 -->\n",
       "    <line x1=\"83\" y1=\"416\" x2=\"308\" y2=\"416\" stroke=\"black\" stroke-width=\"2\"/>\n",
       "    <line x1=\"308\" y1=\"416\" x2=\"308\" y2=\"166\" stroke=\"black\" stroke-width=\"2\"/>\n",
       "    <line x1=\"83\" y1=\"416\" x2=\"308\" y2=\"166\" stroke=\"black\" stroke-width=\"2\"/>\n",
       "    <!-- 직각 보조선 -->\n",
       "    <line x1=\"286\" y1=\"416\" x2=\"286\" y2=\"394\" stroke=\"black\" stroke-width=\"2\"/>\n",
       "    <line x1=\"286\" y1=\"394\" x2=\"308\" y2=\"394\" stroke=\"black\" stroke-width=\"2\"/>\n",
       "    </svg>"
      ],
      "text/plain": [
       "<IPython.core.display.SVG object>"
      ]
     },
     "metadata": {},
     "output_type": "display_data"
    },
    {
     "name": "stdout",
     "output_type": "stream",
     "text": [
      "====================================================================================================\n",
      "요청한 문장: 가로가 5, 세로가 3인 직사각형의 넓이\n",
      "추출된 개념: Rectangle\n",
      "추출된 인자: {'width': 5, 'height': 3}\n",
      "\n",
      "생성된 코드:\n",
      " <svg width=\"500\" height=\"312\" xmlns=\"http://www.w3.org/2000/svg\">\n",
      "    <text x=\"250\" y=\"50\" font-size=\"25\" text-anchor=\"middle\">직사각형</text>\n",
      "    <rect x=\"100\" y=\"100\" width=\"250\" height=\"150\" stroke=\"black\" stroke-width=\"2\" fill=\"none\" />\n",
      "    </svg>\n",
      "\n",
      "생성된 설명:\n",
      " ### Rectangle 설명\n",
      "\n",
      "**정의:**\n",
      "사각형은 네 개의 직선으로 둘러싸인 평면 도형으로, 각 내각이 직각(90도)인 특징을 가지고 있습니다. 즉, 사각형의 네 모서리는 모두 직각을 이루며, 대변이 평행하고 길이가 같은 특성을 갖습니다.\n",
      "\n",
      "**기본 성질:**\n",
      "1. **대변의 길이가 같음:** 사각형의 두 쌍의 대변은 길이가 동일합니다. 예를 들어, 가로와 세로가 같은 길이를 가집니다.\n",
      "2. **대각선이 서로 같음:** 사각형의 두 대각선은 길이가 같습니다. 즉, 사각형을 두 개의 동일한 삼각형으로 나눌 수 있습니다.\n",
      "3. **내각의 합:** 사각형의 네 내각의 합은 항상 360도입니다.\n",
      "4. **변의 배열:** 사각형은 여러 가지 형태로 배열될 수 있습니다. 예를 들어, 직사각형은 가로와 세로가 각각 다른 길이를 가질 수 있으며, 정사각형은 모든 변의 길이가 같고 모든 내각이 직각인 특별한 형태의 사각형입니다.\n",
      "\n",
      "이러한 성질들로 인해 사각형은 우리 일상생활에서 매우 흔하게 볼 수 있는 도형입니다!\n",
      "\n",
      "생성된 공식 raw:\n",
      " {'perimeter': '2 × (밑변 + 높이)', 'area': '밑변 × 높이'}\n"
     ]
    },
    {
     "data": {
      "text/latex": [
       "$\\displaystyle 2 × (밑변 + 높이)$"
      ],
      "text/plain": [
       "<IPython.core.display.Math object>"
      ]
     },
     "metadata": {},
     "output_type": "display_data"
    },
    {
     "data": {
      "text/latex": [
       "$\\displaystyle 밑변 × 높이$"
      ],
      "text/plain": [
       "<IPython.core.display.Math object>"
      ]
     },
     "metadata": {},
     "output_type": "display_data"
    },
    {
     "data": {
      "image/svg+xml": [
       "<svg xmlns=\"http://www.w3.org/2000/svg\" width=\"500\" height=\"312\">\n",
       "    <text x=\"250\" y=\"50\" font-size=\"25\" text-anchor=\"middle\">직사각형</text>\n",
       "    <rect x=\"100\" y=\"100\" width=\"250\" height=\"150\" stroke=\"black\" stroke-width=\"2\" fill=\"none\"/>\n",
       "    </svg>"
      ],
      "text/plain": [
       "<IPython.core.display.SVG object>"
      ]
     },
     "metadata": {},
     "output_type": "display_data"
    },
    {
     "name": "stdout",
     "output_type": "stream",
     "text": [
      "====================================================================================================\n",
      "요청한 문장: 한 변의 길이가 2인 정사각형 하나를 그려줘\n",
      "추출된 개념: Square\n",
      "추출된 인자: {'length': 2}\n",
      "\n",
      "생성된 코드:\n",
      " <svg width=\"500\" height=\"500\" xmlns=\"http://www.w3.org/2000/svg\">\n",
      "    <text x=\"250\" y=\"50\" font-size=\"25\" text-anchor=\"middle\">정사각형</text>\n",
      "    <rect x=\"100\" y=\"100\" width=\"200\" height=\"200\" stroke=\"black\" stroke-width=\"2\" fill=\"none\" />\n",
      "    </svg>\n",
      "\n",
      "생성된 설명:\n",
      " ### Square\n",
      "\n",
      "**정의:**\n",
      "사각형은 네 개의 변으로 이루어진 평면 도형입니다. 모든 내각이 직각(90도)이며, 반대편의 변들이 길이가 같아서 마주보는 두 변은 평행하고 길이가 동일합니다.\n",
      "\n",
      "**기본 성질:**\n",
      "1. **대변의 길이 동일:** 사각형의 마주보는 두 변은 길이가 같습니다. 예를 들어, 정사각형이나 직사각형에서는 모든 대변이 같은 길이를 가집니다.\n",
      "2. **대각선의 성질:** 사각형의 대각선은 서로를 반으로 나눕니다. 즉, 대각선이 만나는 점에서 대각선을 잇는 선분들은 서로를 절반으로 나눕니다.\n",
      "3. **변의 합:** 사각형의 네 변의 길이를 모두 더하면, 그 합은 사각형의 둘레를 나타냅니다. 예를 들어, 한 변의 길이가 \\(a\\)이고 다른 변의 길이가 \\(b\\)라면, 둘레는 \\(a + b + a + b = 2(a + b)\\)가 됩니다.\n",
      "4. **정사각형의 특징:** 정사각형은 모든 변의 길이가 같고 모든 내각이 직각인 특별한 사각형입니다. 모든 대각선도 길이가 같고 서로를 직각으로 이룹니다.\n",
      "\n",
      "이러한 성질들로 인해 사각형은 다양한 형태와 크기로 존재하며, 건축, 디자인, 그리고 일상생활에서 자주 볼 수 있는 도형입니다!\n",
      "\n",
      "생성된 공식 raw:\n",
      " {'perimeter': '4 \\\\times \\\\mathrm{한 변의 길이}', 'area': '\\\\mathrm{한 변의 길이} \\\\times \\\\mathrm{한 변의 길이}'}\n"
     ]
    },
    {
     "data": {
      "text/latex": [
       "$\\displaystyle 4 \\times \\mathrm{한 변의 길이}$"
      ],
      "text/plain": [
       "<IPython.core.display.Math object>"
      ]
     },
     "metadata": {},
     "output_type": "display_data"
    },
    {
     "data": {
      "text/latex": [
       "$\\displaystyle \\mathrm{한 변의 길이} \\times \\mathrm{한 변의 길이}$"
      ],
      "text/plain": [
       "<IPython.core.display.Math object>"
      ]
     },
     "metadata": {},
     "output_type": "display_data"
    },
    {
     "data": {
      "image/svg+xml": [
       "<svg xmlns=\"http://www.w3.org/2000/svg\" width=\"500\" height=\"500\">\n",
       "    <text x=\"250\" y=\"50\" font-size=\"25\" text-anchor=\"middle\">정사각형</text>\n",
       "    <rect x=\"100\" y=\"100\" width=\"200\" height=\"200\" stroke=\"black\" stroke-width=\"2\" fill=\"none\"/>\n",
       "    </svg>"
      ],
      "text/plain": [
       "<IPython.core.display.SVG object>"
      ]
     },
     "metadata": {},
     "output_type": "display_data"
    },
    {
     "name": "stdout",
     "output_type": "stream",
     "text": [
      "====================================================================================================\n",
      "요청한 문장: 곧은선이 뭐야?\n",
      "추출된 개념: 직선\n",
      "추출된 인자: {}\n",
      "\n",
      "생성된 코드:\n",
      " <svg width=\"500\" height=\"500\" xmlns=\"http://www.w3.org/2000/svg\">\n",
      "    <text x=\"250\" y=\"25\" font-size=\"25\" text-anchor=\"middle\">곧은선</text>\n",
      "    <text x=\"250\" y=\"75\" font-size=\"25\" text-anchor=\"middle\">선분</text>\n",
      "    <!-- 선분 -->\n",
      "    <circle cx=\"125\" cy=\"125\" r=\"1\" stroke=\"black\" stroke-width=\"2\" fill=\"black\" />\n",
      "    <circle cx=\"375\" cy=\"125\" r=\"1\" stroke=\"black\" stroke-width=\"2\" fill=\"black\" />\n",
      "    <line x1=\"125\" y1=\"125\" x2=\"375\" y2=\"125\" stroke=\"black\" stroke-width=\"2\" />\n",
      "    <!-- 반직선 -->\n",
      "    <text x=\"250\" y=\"175\" font-size=\"25\" text-anchor=\"middle\">반직선</text>\n",
      "    <circle cx=\"125\" cy=\"250\" r=\"1\" stroke=\"black\" stroke-width=\"2\" fill=\"black\" />\n",
      "    <circle cx=\"375\" cy=\"250\" r=\"1\" stroke=\"black\" stroke-width=\"2\" fill=\"black\" />\n",
      "    <line x1=\"125\" y1=\"250\" x2=\"500\" y2=\"250\" stroke=\"black\" stroke-width=\"2\" />\n",
      "    <!-- 직선 -->\n",
      "    <text x=\"250\" y=\"300\" font-size=\"25\" text-anchor=\"middle\">직선</text>\n",
      "    <circle cx=\"125\" cy=\"375\" r=\"1\" stroke=\"black\" stroke-width=\"2\" fill=\"black\" />\n",
      "    <circle cx=\"375\" cy=\"375\" r=\"1\" stroke=\"black\" stroke-width=\"2\" fill=\"black\" />\n",
      "    <line x1=\"0\" y1=\"375\" x2=\"500\" y2=\"375\" stroke=\"black\" stroke-width=\"2\" />\n",
      "    </svg>\n",
      "    \n",
      "\n",
      "생성된 설명:\n",
      " ### 직선에 대한 설명\n",
      "\n",
      "#### 정의\n",
      "직선은 평면 위에서 가장 짧은 거리로 두 점을 연결하는 선을 말합니다. 이 선은 양쪽으로 무한히 계속되며, 방향이 항상 일정합니다. 직선 위의 모든 점들은 서로 평행하게 연결되어 있어, 어떤 방향으로든 뻗어나갈 수 있습니다.\n",
      "\n",
      "#### 기본 성질\n",
      "1. **무한한 길이**: 직선은 양쪽으로 무한히 이어집니다. 즉, 시작점에서 끝점까지의 거리가 아무리 길어도 계속해서 뻗어나갈 수 있습니다.\n",
      "2. **평행한 선들**: 같은 방향으로 무한히 뻗어나가는 두 직선은 서로 평행합니다. 반대로, 서로 다른 방향으로 무한히 뻗어나가는 두 직선은 교차하지 않습니다.\n",
      "3. **직선 위의 점들**: 직선 위의 모든 점들은 서로 연결되어 있어, 어떤 두 점을 잇는 선분은 항상 직선의 일부분입니다.\n",
      "4. **직선의 대칭성**: 직선을 기준으로 대칭인 두 부분은 서로 완전히 일치합니다. 예를 들어, 한 점을 기준으로 대칭인 두 점은 직선 양쪽에 동일한 거리에 위치합니다.\n",
      "\n",
      "이러한 성질들로 인해 직선은 기하학에서 매우 중요한 개념으로 사용됩니다!\n"
     ]
    },
    {
     "data": {
      "image/svg+xml": [
       "<svg xmlns=\"http://www.w3.org/2000/svg\" width=\"500\" height=\"500\">\n",
       "    <text x=\"250\" y=\"25\" font-size=\"25\" text-anchor=\"middle\">곧은선</text>\n",
       "    <text x=\"250\" y=\"75\" font-size=\"25\" text-anchor=\"middle\">선분</text>\n",
       "    <!-- 선분 -->\n",
       "    <circle cx=\"125\" cy=\"125\" r=\"1\" stroke=\"black\" stroke-width=\"2\" fill=\"black\"/>\n",
       "    <circle cx=\"375\" cy=\"125\" r=\"1\" stroke=\"black\" stroke-width=\"2\" fill=\"black\"/>\n",
       "    <line x1=\"125\" y1=\"125\" x2=\"375\" y2=\"125\" stroke=\"black\" stroke-width=\"2\"/>\n",
       "    <!-- 반직선 -->\n",
       "    <text x=\"250\" y=\"175\" font-size=\"25\" text-anchor=\"middle\">반직선</text>\n",
       "    <circle cx=\"125\" cy=\"250\" r=\"1\" stroke=\"black\" stroke-width=\"2\" fill=\"black\"/>\n",
       "    <circle cx=\"375\" cy=\"250\" r=\"1\" stroke=\"black\" stroke-width=\"2\" fill=\"black\"/>\n",
       "    <line x1=\"125\" y1=\"250\" x2=\"500\" y2=\"250\" stroke=\"black\" stroke-width=\"2\"/>\n",
       "    <!-- 직선 -->\n",
       "    <text x=\"250\" y=\"300\" font-size=\"25\" text-anchor=\"middle\">직선</text>\n",
       "    <circle cx=\"125\" cy=\"375\" r=\"1\" stroke=\"black\" stroke-width=\"2\" fill=\"black\"/>\n",
       "    <circle cx=\"375\" cy=\"375\" r=\"1\" stroke=\"black\" stroke-width=\"2\" fill=\"black\"/>\n",
       "    <line x1=\"0\" y1=\"375\" x2=\"500\" y2=\"375\" stroke=\"black\" stroke-width=\"2\"/>\n",
       "    </svg>"
      ],
      "text/plain": [
       "<IPython.core.display.SVG object>"
      ]
     },
     "metadata": {},
     "output_type": "display_data"
    },
    {
     "name": "stdout",
     "output_type": "stream",
     "text": [
      "====================================================================================================\n",
      "요청한 문장: 대표적인 굽은선을 그려줘\n",
      "추출된 개념: 곡선\n",
      "추출된 인자: {'type': '타원', 'description': '타원은 가장 대표적인 굽은선의 한 종류로, 두 초점 사이의 거리의 합이 일정한 점들의 집합으로 정의됩니다.'}\n",
      "\n",
      "생성된 코드:\n",
      " \n",
      "    <svg width=\"500\" height=\"500\" xmlns=\"http://www.w3.org/2000/svg\">\n",
      "    <text x=\"250\" y=\"50\" font-size=\"25\" text-anchor=\"middle\">굽은선</text>\n",
      "    <!-- 복잡한 S자 곡선 (두 개의 Cubic Bézier) -->\n",
      "    <path d=\"M 100,400\n",
      "    C 100,100 400,100 400,250\n",
      "    C 400,400 100,400 100,100\"\n",
      "    stroke=\"black\" fill=\"none\" stroke-width=\"2\"/>\n",
      "    </svg>\n",
      "    \n",
      "\n",
      "생성된 설명:\n",
      " ### 곡선에 대한 설명\n",
      "\n",
      "**정의:**\n",
      "곡선은 직선이 아닌, 연속적으로 이어지는 점들의 모임으로 이루어진 도형입니다. 쉽게 말해, 직선처럼 일정한 방향으로만 움직이는 것이 아니라, 부드럽게 휘어지거나 굽어지는 형태를 가진 선을 말합니다.\n",
      "\n",
      "**기본 성질:**\n",
      "1. **연속성:** 곡선 위의 모든 점들은 부드럽게 이어져 있어, 어떤 작은 구간에서도 끊어지지 않고 이어집니다.\n",
      "2. **길이:** 곡선의 길이는 그 곡선을 따라 측정한 총 거리입니다. 이 길이는 곡선의 모양에 따라 달라집니다. 예를 들어, 원의 둘레는 반지름에 따라 결정되며, 이는 곡선의 길이를 정확히 계산하는 방법 중 하나입니다.\n",
      "3. **곡률:** 곡선이 얼마나 빠르게 방향을 바꾸는지를 나타내는 값입니다. 곡률이 크면 곡선이 더 급하게 굽어지고, 작으면 더 부드럽게 굽어집니다. 예를 들어, 원의 경우 모든 점에서 곡률이 일정합니다.\n",
      "4. **접선:** 곡선 위의 어떤 점에서 그 점을 지나는 가장 가까운 직선을 접선이라고 합니다. 이 접선은 그 점에서 곡선의 방향을 가장 잘 나타냅니다.\n",
      "\n",
      "이러한 성질들 덕분에 곡선은 자연 현상이나 공학적 설계 등 다양한 분야에서 중요한 역할을 합니다.\n"
     ]
    },
    {
     "data": {
      "image/svg+xml": [
       "<svg xmlns=\"http://www.w3.org/2000/svg\" width=\"500\" height=\"500\">\n",
       "    <text x=\"250\" y=\"50\" font-size=\"25\" text-anchor=\"middle\">굽은선</text>\n",
       "    <!-- 복잡한 S자 곡선 (두 개의 Cubic Bézier) -->\n",
       "    <path d=\"M 100,400     C 100,100 400,100 400,250     C 400,400 100,400 100,100\" stroke=\"black\" fill=\"none\" stroke-width=\"2\"/>\n",
       "    </svg>"
      ],
      "text/plain": [
       "<IPython.core.display.SVG object>"
      ]
     },
     "metadata": {},
     "output_type": "display_data"
    },
    {
     "name": "stdout",
     "output_type": "stream",
     "text": [
      "====================================================================================================\n",
      "요청한 문장: 중심이 (0,0)이고 반지름이 2인 원을 그려주세요.\n",
      "추출된 개념: Circle\n",
      "추출된 인자: {'radius': 2}\n",
      "\n",
      "생성된 코드:\n",
      " <svg width=\"500\" height=\"500\" xmlns=\"http://www.w3.org/2000/svg\">\n",
      "    <text x=\"250\" y=\"50\" font-size=\"25\" text-anchor=\"middle\">원</text>\n",
      "    <circle cx=\"250\" cy=\"250\" r=\"100\" stroke=\"black\" stroke-width=\"2\" fill=\"none\" />\n",
      "    <circle cx=\"250\" cy=\"250\" r=\"1\" stroke=\"black\" stroke-width=\"2\" fill=\"black\" />\n",
      "    <line x1=\"250\" y1=\"250\" x2=\"350\" y2=\"250\" stroke=\"black\" stroke-width=\"2\" />\n",
      "    </svg>\n",
      "    \n",
      "\n",
      "생성된 설명:\n",
      " ### Circle (원)\n",
      "\n",
      "#### 정의:\n",
      "원은 평면 위에서 한 점(중심)으로부터 일정한 거리(반지름)에 있는 모든 점들의 집합을 말합니다. 이 중심점을 기준으로 원 위의 모든 점들은 동일한 거리에 위치해 있습니다.\n",
      "\n",
      "#### 기본 성질:\n",
      "1. **둘레와 지름**: 원의 둘레는 지름에 π(약 3.14)를 곱한 값입니다. 즉, 둘레 = 지름 × π 입니다. 반대로 지름은 둘레를 π로 나누면 구할 수 있습니다.\n",
      "   \n",
      "2. **면적**: 원의 면적은 반지름의 제곱에 π를 곱한 값입니다. 공식으로 표현하면 면적 = π × 반지름2 입니다.\n",
      "\n",
      "3. **대칭성**: 원은 중심을 기준으로 완벽하게 대칭입니다. 즉, 중심을 지나는 어떤 직선을 기준으로 원을 접어도 양쪽이 완전히 일치합니다.\n",
      "\n",
      "4. **원주각과 호의 관계**: 원 위의 두 점을 잇는 호의 중앙각은 그 호에 대응하는 원주각의 두 배입니다. 예를 들어, 호의 중앙각이 θ라면 원주각은 θ/2가 됩니다.\n",
      "\n",
      "이러한 성질들로 인해 원은 기하학에서 매우 중요한 역할을 합니다. 다양한 도형과 문제 해결에 활용되며, 일상생활에서도 자주 접하게 되는 개념입니다.\n",
      "\n",
      "생성된 공식 raw:\n",
      " {'perimeter': '2 \\\\times 3.14 \\\\times 반지름', 'area': '3.14 \\\\times 반지름 \\\\times 반지름'}\n"
     ]
    },
    {
     "data": {
      "text/latex": [
       "$\\displaystyle 2 \\times 3.14 \\times 반지름$"
      ],
      "text/plain": [
       "<IPython.core.display.Math object>"
      ]
     },
     "metadata": {},
     "output_type": "display_data"
    },
    {
     "data": {
      "text/latex": [
       "$\\displaystyle 3.14 \\times 반지름 \\times 반지름$"
      ],
      "text/plain": [
       "<IPython.core.display.Math object>"
      ]
     },
     "metadata": {},
     "output_type": "display_data"
    },
    {
     "data": {
      "image/svg+xml": [
       "<svg xmlns=\"http://www.w3.org/2000/svg\" width=\"500\" height=\"500\">\n",
       "    <text x=\"250\" y=\"50\" font-size=\"25\" text-anchor=\"middle\">원</text>\n",
       "    <circle cx=\"250\" cy=\"250\" r=\"100\" stroke=\"black\" stroke-width=\"2\" fill=\"none\"/>\n",
       "    <circle cx=\"250\" cy=\"250\" r=\"1\" stroke=\"black\" stroke-width=\"2\" fill=\"black\"/>\n",
       "    <line x1=\"250\" y1=\"250\" x2=\"350\" y2=\"250\" stroke=\"black\" stroke-width=\"2\"/>\n",
       "    </svg>"
      ],
      "text/plain": [
       "<IPython.core.display.SVG object>"
      ]
     },
     "metadata": {},
     "output_type": "display_data"
    },
    {
     "name": "stdout",
     "output_type": "stream",
     "text": [
      "====================================================================================================\n",
      "요청한 문장: 37° 각도를 그려줘\n",
      "추출된 개념: 각도\n",
      "추출된 인자: {'size': 37}\n",
      "\n",
      "생성된 코드:\n",
      " <svg width=\"500\" height=\"375\" xmlns=\"http://www.w3.org/2000/svg\">\n",
      "    <text x=\"250\" y=\"50\" font-size=\"25\" text-anchor=\"middle\">각</text>\n",
      "    <!-- 기준선 -->\n",
      "    <line x1=\"125\" y1=\"333\" x2=\"375\" y2=\"333\" stroke=\"black\" stroke-width=\"2\" />\n",
      "    <!-- 기울어진 선 -->\n",
      "    <line x1=\"125\" y1=\"333\" x2=\"324.6588775118232\" y2=\"182.54624421198793\" stroke=\"black\" stroke-width=\"2\" />\n",
      "    <!-- 각도 호 -->\n",
      "    <path d=\"M 164.93177550236464,302.9092488423976 A 50,50 0 0,1 175,333\" stroke=\"black\" stroke-width=\"2\" fill=\"none\"/>\n",
      "    </svg>\n",
      "    \n",
      "\n",
      "생성된 설명:\n",
      " ### 각도에 대한 설명\n",
      "\n",
      "**정의:**\n",
      "각도는 두 직선이나 선분이 만나서 생기는 공간의 크기를 측정하는 방법입니다. 우리가 일상에서 자주 접하는 각도는 주로 도로 표지판에서 볼 수 있는 방향 지시나, 그림에서 선들이 만나는 부분을 표현할 때 사용됩니다.\n",
      "\n",
      "**기본 성질:**\n",
      "1. **직선의 각도:** 직선은 정확히 180도의 각도를 가집니다. 직선은 두 방향으로 무한히 이어지는 것처럼 보이지만, 실제로는 시작점과 끝점이 있습니다.\n",
      "   \n",
      "2. **직각 각도:** 직각은 90도를 의미합니다. 이는 우리가 흔히 사용하는 'L'자 모양의 모서리나 사각형의 모서리에서 볼 수 있습니다. 직각은 두 직선이 서로 수직으로 만나는 경우에 생깁니다.\n",
      "\n",
      "3. **평행선과 각도:** 평행한 두 직선은 만나지 않기 때문에, 그들 사이의 각도는 항상 같습니다. 예를 들어, 두 평행선 위에 그려진 삼각형의 한 각은 다른 각과 크기가 동일합니다.\n",
      "\n",
      "4. **복합 각도:** 여러 각도를 합쳐서 더 큰 각도를 만들 수 있습니다. 예를 들어, 두 개의 직각 각도를 합치면 180도가 됩니다.\n",
      "\n",
      "이러한 기본적인 개념들을 이해하면 각도에 대한 다양한 문제를 풀 때 도움이 될 것입니다!\n"
     ]
    },
    {
     "data": {
      "image/svg+xml": [
       "<svg xmlns=\"http://www.w3.org/2000/svg\" width=\"500\" height=\"375\">\n",
       "    <text x=\"250\" y=\"50\" font-size=\"25\" text-anchor=\"middle\">각</text>\n",
       "    <!-- 기준선 -->\n",
       "    <line x1=\"125\" y1=\"333\" x2=\"375\" y2=\"333\" stroke=\"black\" stroke-width=\"2\"/>\n",
       "    <!-- 기울어진 선 -->\n",
       "    <line x1=\"125\" y1=\"333\" x2=\"324.6588775118232\" y2=\"182.54624421198793\" stroke=\"black\" stroke-width=\"2\"/>\n",
       "    <!-- 각도 호 -->\n",
       "    <path d=\"M 164.93177550236464,302.9092488423976 A 50,50 0 0,1 175,333\" stroke=\"black\" stroke-width=\"2\" fill=\"none\"/>\n",
       "    </svg>"
      ],
      "text/plain": [
       "<IPython.core.display.SVG object>"
      ]
     },
     "metadata": {},
     "output_type": "display_data"
    },
    {
     "name": "stdout",
     "output_type": "stream",
     "text": [
      "====================================================================================================\n",
      "요청한 문장: 직각을 표현해줘\n",
      "추출된 개념: Right Angle\n",
      "추출된 인자: {}\n",
      "\n",
      "생성된 코드:\n",
      " <svg width=\"500\" height=\"500\" xmlns=\"http://www.w3.org/2000/svg\">\n",
      "    <text x=\"250\" y=\"50\" font-size=\"25\" text-anchor=\"middle\">직각</text>\n",
      "    <!-- 기준선 -->\n",
      "    <line x1=\"125\" y1=\"400\" x2=\"458\" y2=\"400\" stroke=\"black\" stroke-width=\"2\" />\n",
      "    <!-- 기울어진 선 -->\n",
      "    <line x1=\"125\" y1=\"400\" x2=\"125\" y2=\"67\" stroke=\"black\" stroke-width=\"2\" />\n",
      "    <!-- 직각 보조선 -->\n",
      "    <line x1=\"175\" y1=\"400\" x2=\"175\" y2=\"350\" stroke=\"black\" stroke-width=\"2\" />\n",
      "    <line x1=\"125\" y1=\"350\" x2=\"175\" y2=\"350\" stroke=\"black\" stroke-width=\"2\" />\n",
      "    </svg>\n",
      "    \n",
      "\n",
      "생성된 설명:\n",
      " ### Right Angle\n",
      "\n",
      "**정의:**\n",
      "Right Angle은 기하학에서 가장 기본적인 각도 중 하나로, 정확히 90도를 이루는 각도를 말합니다. 이 각도는 직각이라고도 불리며, 직선이나 특정 도형의 모서리에서 만나는 두 변이 서로 수직으로 만나는 경우에 나타납니다.\n",
      "\n",
      "**기본 성질:**\n",
      "1. **크기:** Right Angle은 항상 정확히 90도입니다. 이는 모든 Right Angle이 동일한 크기를 가짐을 의미합니다.\n",
      "2. **모양:** Right Angle은 보통 'L' 모양으로 쉽게 인식할 수 있습니다. 이 모양은 직각을 나타내는 데 자주 사용됩니다.\n",
      "3. **도형과의 관계:** 직각은 사각형, 직사각형, 정사각형 등 다양한 도형의 모서리에서 발견됩니다. 특히, 직사각형이나 정사각형은 네 개의 Right Angle을 가지고 있습니다.\n",
      "4. **삼각형과의 연관성:** 직각삼각형은 한 내각이 정확히 Right Angle인 삼각형을 의미합니다. 이 삼각형은 세 변의 길이 관계를 통해 피타고라스 정리를 적용할 수 있습니다.\n",
      "\n",
      "이러한 성질들로 인해 Right Angle은 수학에서 매우 중요한 개념으로 자리잡고 있습니다!\n"
     ]
    },
    {
     "data": {
      "image/svg+xml": [
       "<svg xmlns=\"http://www.w3.org/2000/svg\" width=\"500\" height=\"500\">\n",
       "    <text x=\"250\" y=\"50\" font-size=\"25\" text-anchor=\"middle\">직각</text>\n",
       "    <!-- 기준선 -->\n",
       "    <line x1=\"125\" y1=\"400\" x2=\"458\" y2=\"400\" stroke=\"black\" stroke-width=\"2\"/>\n",
       "    <!-- 기울어진 선 -->\n",
       "    <line x1=\"125\" y1=\"400\" x2=\"125\" y2=\"67\" stroke=\"black\" stroke-width=\"2\"/>\n",
       "    <!-- 직각 보조선 -->\n",
       "    <line x1=\"175\" y1=\"400\" x2=\"175\" y2=\"350\" stroke=\"black\" stroke-width=\"2\"/>\n",
       "    <line x1=\"125\" y1=\"350\" x2=\"175\" y2=\"350\" stroke=\"black\" stroke-width=\"2\"/>\n",
       "    </svg>"
      ],
      "text/plain": [
       "<IPython.core.display.SVG object>"
      ]
     },
     "metadata": {},
     "output_type": "display_data"
    },
    {
     "name": "stdout",
     "output_type": "stream",
     "text": [
      "====================================================================================================\n",
      "요청한 문장: 밑변이 3이고, 높이가 4인 직각삼각형 하나를 그려줘\n",
      "추출된 개념: Right Triangle\n",
      "추출된 인자: {'base': 3, 'height': 4}\n",
      "\n",
      "생성된 코드:\n",
      " <svg width=\"500\" height=\"500\" xmlns=\"http://www.w3.org/2000/svg\">\n",
      "    <text x=\"250\" y=\"50\" font-size=\"25\" text-anchor=\"middle\">직각삼각형</text>\n",
      "    <!-- 직각삼각형 -->\n",
      "    <line x1=\"83\" y1=\"416\" x2=\"308\" y2=\"416\" stroke=\"black\" stroke-width=\"2\" />\n",
      "    <line x1=\"308\" y1=\"416\" x2=\"308\" y2=\"166\" stroke=\"black\" stroke-width=\"2\" />\n",
      "    <line x1=\"83\" y1=\"416\" x2=\"308\" y2=\"166\" stroke=\"black\" stroke-width=\"2\" />\n",
      "    <!-- 직각 보조선 -->\n",
      "    <line x1=\"286\" y1=\"416\" x2=\"286\" y2=\"394\" stroke=\"black\" stroke-width=\"2\" />\n",
      "    <line x1=\"286\" y1=\"394\" x2=\"308\" y2=\"394\" stroke=\"black\" stroke-width=\"2\" />\n",
      "    </svg>\n",
      "    \n",
      "\n",
      "생성된 설명:\n",
      " ### Right Triangle\n",
      "\n",
      "**정의:**\n",
      "A right triangle is a special type of triangle that has one angle which measures exactly 90 degrees (a right angle). This unique angle distinguishes it from other triangles where all angles are less than 90 degrees.\n",
      "\n",
      "**기본 성질:**\n",
      "1. **한 각이 직각:** 가장 중요한 특징은 한 꼭짓점에서 직각(90°)을 이루는 것입니다.\n",
      "2. **직각을 중심으로 두 개의 다른 각:** 나머지 두 각은 합쳐 90도가 됩니다. 따라서 이 두 각은 서로 보완각(complementary angles)입니다.\n",
      "3. **피타고라스 정리 적용 가능:** 직각 삼각형에서는 가장 긴 변을 빗변(hypotenuse)이라고 부르며, 이 빗변의 길이는 다른 두 변(직각을 이루는 두 변을 밑변과 높이라고도 부릅니다)의 길이와 특별한 관계를 가집니다. 이 관계는 피타고라스 정리로 표현되는데, 수학적으로는 \\(a^2 + b^2 = c^2\\) 입니다 (여기서 \\(c\\)는 빗변의 길이이고, \\(a\\)와 \\(b\\)는 다른 두 변의 길이입니다). 하지만 문제 해결을 위해 직접적인 공식보다는 이 관계를 이해하는 것이 중요합니다.\n",
      "4. **삼각형의 종류:** 직각 삼각형은 그 각도에 따라 다양한 종류로 나눌 수 있습니다. 예를 들어, 모든 변의 길이가 정수인 직각 삼각형을 피타고라스 삼각형이라고 부르기도 합니다.\n",
      "\n",
      "이런 특징들로 인해 직각 삼각형은 건축, 공학, 그리고 다양한 실생활 문제 해결에서 매우 중요한 역할을 합니다!\n",
      "\n",
      "생성된 공식 raw:\n",
      " {'perimeter': '밑변 + 높이 + 빗변', 'area': '밑변 × 높이 ÷ 2'}\n"
     ]
    },
    {
     "data": {
      "text/latex": [
       "$\\displaystyle 밑변 + 높이 + 빗변$"
      ],
      "text/plain": [
       "<IPython.core.display.Math object>"
      ]
     },
     "metadata": {},
     "output_type": "display_data"
    },
    {
     "data": {
      "text/latex": [
       "$\\displaystyle 밑변 × 높이 ÷ 2$"
      ],
      "text/plain": [
       "<IPython.core.display.Math object>"
      ]
     },
     "metadata": {},
     "output_type": "display_data"
    },
    {
     "data": {
      "image/svg+xml": [
       "<svg xmlns=\"http://www.w3.org/2000/svg\" width=\"500\" height=\"500\">\n",
       "    <text x=\"250\" y=\"50\" font-size=\"25\" text-anchor=\"middle\">직각삼각형</text>\n",
       "    <!-- 직각삼각형 -->\n",
       "    <line x1=\"83\" y1=\"416\" x2=\"308\" y2=\"416\" stroke=\"black\" stroke-width=\"2\"/>\n",
       "    <line x1=\"308\" y1=\"416\" x2=\"308\" y2=\"166\" stroke=\"black\" stroke-width=\"2\"/>\n",
       "    <line x1=\"83\" y1=\"416\" x2=\"308\" y2=\"166\" stroke=\"black\" stroke-width=\"2\"/>\n",
       "    <!-- 직각 보조선 -->\n",
       "    <line x1=\"286\" y1=\"416\" x2=\"286\" y2=\"394\" stroke=\"black\" stroke-width=\"2\"/>\n",
       "    <line x1=\"286\" y1=\"394\" x2=\"308\" y2=\"394\" stroke=\"black\" stroke-width=\"2\"/>\n",
       "    </svg>"
      ],
      "text/plain": [
       "<IPython.core.display.SVG object>"
      ]
     },
     "metadata": {},
     "output_type": "display_data"
    },
    {
     "name": "stdout",
     "output_type": "stream",
     "text": [
      "====================================================================================================\n",
      "요청한 문장: 가로가 5, 세로가 3인 직사각형의 넓이\n",
      "추출된 개념: Rectangle\n",
      "추출된 인자: {'width': 5, 'height': 3}\n",
      "\n",
      "생성된 코드:\n",
      " <svg width=\"500\" height=\"312\" xmlns=\"http://www.w3.org/2000/svg\">\n",
      "    <text x=\"250\" y=\"50\" font-size=\"25\" text-anchor=\"middle\">직사각형</text>\n",
      "    <rect x=\"100\" y=\"100\" width=\"250\" height=\"150\" stroke=\"black\" stroke-width=\"2\" fill=\"none\" />\n",
      "    </svg>\n",
      "\n",
      "생성된 설명:\n",
      " ### Rectangle 설명\n",
      "\n",
      "**정의:**\n",
      "사각형은 네 개의 직선으로 둘러싸인 평면 도형으로, 각 내각이 직각(90도)인 특징을 가지고 있습니다. 즉, 사각형의 네 모서리는 모두 직각을 이루며, 대변이 평행하고 길이가 같은 특성을 갖습니다.\n",
      "\n",
      "**기본 성질:**\n",
      "1. **대변의 길이가 같음:** 사각형의 두 쌍의 대변은 길이가 동일합니다. 예를 들어, 가로와 세로가 같은 길이를 가집니다.\n",
      "2. **대각선이 서로 같음:** 사각형의 두 대각선은 길이가 같습니다. 즉, 사각형을 두 개의 동일한 삼각형으로 나눌 수 있습니다.\n",
      "3. **내각의 합:** 사각형의 네 내각의 합은 항상 360도입니다.\n",
      "4. **변의 배열:** 사각형은 여러 가지 형태로 배열될 수 있습니다. 예를 들어, 직사각형은 가로와 세로가 각각 다른 길이를 가질 수 있으며, 정사각형은 모든 변의 길이가 같고 모든 내각이 직각인 특별한 형태의 사각형입니다.\n",
      "\n",
      "이러한 성질들로 인해 사각형은 우리 일상생활에서 매우 흔하게 볼 수 있는 도형입니다!\n",
      "\n",
      "생성된 공식 raw:\n",
      " {'perimeter': '2 × (밑변 + 높이)', 'area': '밑변 × 높이'}\n"
     ]
    },
    {
     "data": {
      "text/latex": [
       "$\\displaystyle 2 × (밑변 + 높이)$"
      ],
      "text/plain": [
       "<IPython.core.display.Math object>"
      ]
     },
     "metadata": {},
     "output_type": "display_data"
    },
    {
     "data": {
      "text/latex": [
       "$\\displaystyle 밑변 × 높이$"
      ],
      "text/plain": [
       "<IPython.core.display.Math object>"
      ]
     },
     "metadata": {},
     "output_type": "display_data"
    },
    {
     "data": {
      "image/svg+xml": [
       "<svg xmlns=\"http://www.w3.org/2000/svg\" width=\"500\" height=\"312\">\n",
       "    <text x=\"250\" y=\"50\" font-size=\"25\" text-anchor=\"middle\">직사각형</text>\n",
       "    <rect x=\"100\" y=\"100\" width=\"250\" height=\"150\" stroke=\"black\" stroke-width=\"2\" fill=\"none\"/>\n",
       "    </svg>"
      ],
      "text/plain": [
       "<IPython.core.display.SVG object>"
      ]
     },
     "metadata": {},
     "output_type": "display_data"
    },
    {
     "name": "stdout",
     "output_type": "stream",
     "text": [
      "====================================================================================================\n",
      "요청한 문장: 한 변의 길이가 2인 정사각형 하나를 그려줘\n",
      "추출된 개념: Square\n",
      "추출된 인자: {'length': 2}\n",
      "\n",
      "생성된 코드:\n",
      " <svg width=\"500\" height=\"500\" xmlns=\"http://www.w3.org/2000/svg\">\n",
      "    <text x=\"250\" y=\"50\" font-size=\"25\" text-anchor=\"middle\">정사각형</text>\n",
      "    <rect x=\"100\" y=\"100\" width=\"200\" height=\"200\" stroke=\"black\" stroke-width=\"2\" fill=\"none\" />\n",
      "    </svg>\n",
      "\n",
      "생성된 설명:\n",
      " ### Square\n",
      "\n",
      "**정의:**\n",
      "사각형은 네 개의 변으로 이루어진 평면 도형입니다. 모든 내각이 직각(90도)이며, 반대편의 변들이 길이가 같아서 마주보는 두 변은 평행하고 길이가 동일합니다.\n",
      "\n",
      "**기본 성질:**\n",
      "1. **대변의 길이 동일:** 사각형의 마주보는 두 변은 길이가 같습니다. 예를 들어, 정사각형이나 직사각형에서는 모든 대변이 같은 길이를 가집니다.\n",
      "2. **대각선의 성질:** 사각형의 대각선은 서로를 반으로 나눕니다. 즉, 대각선이 만나는 점에서 대각선을 잇는 선분들은 서로를 절반으로 나눕니다.\n",
      "3. **변의 합:** 사각형의 네 변의 길이를 모두 더하면, 그 합은 사각형의 둘레를 나타냅니다. 예를 들어, 한 변의 길이가 \\(a\\)이고 다른 변의 길이가 \\(b\\)라면, 둘레는 \\(a + b + a + b = 2(a + b)\\)가 됩니다.\n",
      "4. **정사각형의 특징:** 정사각형은 모든 변의 길이가 같고 모든 내각이 직각인 특별한 사각형입니다. 모든 대각선도 길이가 같고 서로를 직각으로 이룹니다.\n",
      "\n",
      "이러한 성질들로 인해 사각형은 다양한 형태와 크기로 존재하며, 건축, 디자인, 그리고 일상생활에서 자주 볼 수 있는 도형입니다!\n",
      "\n",
      "생성된 공식 raw:\n",
      " {'perimeter': '4 \\\\times \\\\mathrm{한 변의 길이}', 'area': '\\\\mathrm{한 변의 길이} \\\\times \\\\mathrm{한 변의 길이}'}\n"
     ]
    },
    {
     "data": {
      "text/latex": [
       "$\\displaystyle 4 \\times \\mathrm{한 변의 길이}$"
      ],
      "text/plain": [
       "<IPython.core.display.Math object>"
      ]
     },
     "metadata": {},
     "output_type": "display_data"
    },
    {
     "data": {
      "text/latex": [
       "$\\displaystyle \\mathrm{한 변의 길이} \\times \\mathrm{한 변의 길이}$"
      ],
      "text/plain": [
       "<IPython.core.display.Math object>"
      ]
     },
     "metadata": {},
     "output_type": "display_data"
    },
    {
     "data": {
      "image/svg+xml": [
       "<svg xmlns=\"http://www.w3.org/2000/svg\" width=\"500\" height=\"500\">\n",
       "    <text x=\"250\" y=\"50\" font-size=\"25\" text-anchor=\"middle\">정사각형</text>\n",
       "    <rect x=\"100\" y=\"100\" width=\"200\" height=\"200\" stroke=\"black\" stroke-width=\"2\" fill=\"none\"/>\n",
       "    </svg>"
      ],
      "text/plain": [
       "<IPython.core.display.SVG object>"
      ]
     },
     "metadata": {},
     "output_type": "display_data"
    },
    {
     "name": "stdout",
     "output_type": "stream",
     "text": [
      "====================================================================================================\n",
      "요청한 문장: 곧은선이 뭐야?\n",
      "추출된 개념: 직선\n",
      "추출된 인자: {}\n",
      "\n",
      "생성된 코드:\n",
      " <svg width=\"500\" height=\"500\" xmlns=\"http://www.w3.org/2000/svg\">\n",
      "    <text x=\"250\" y=\"25\" font-size=\"25\" text-anchor=\"middle\">곧은선</text>\n",
      "    <text x=\"250\" y=\"75\" font-size=\"25\" text-anchor=\"middle\">선분</text>\n",
      "    <!-- 선분 -->\n",
      "    <circle cx=\"125\" cy=\"125\" r=\"1\" stroke=\"black\" stroke-width=\"2\" fill=\"black\" />\n",
      "    <circle cx=\"375\" cy=\"125\" r=\"1\" stroke=\"black\" stroke-width=\"2\" fill=\"black\" />\n",
      "    <line x1=\"125\" y1=\"125\" x2=\"375\" y2=\"125\" stroke=\"black\" stroke-width=\"2\" />\n",
      "    <!-- 반직선 -->\n",
      "    <text x=\"250\" y=\"175\" font-size=\"25\" text-anchor=\"middle\">반직선</text>\n",
      "    <circle cx=\"125\" cy=\"250\" r=\"1\" stroke=\"black\" stroke-width=\"2\" fill=\"black\" />\n",
      "    <circle cx=\"375\" cy=\"250\" r=\"1\" stroke=\"black\" stroke-width=\"2\" fill=\"black\" />\n",
      "    <line x1=\"125\" y1=\"250\" x2=\"500\" y2=\"250\" stroke=\"black\" stroke-width=\"2\" />\n",
      "    <!-- 직선 -->\n",
      "    <text x=\"250\" y=\"300\" font-size=\"25\" text-anchor=\"middle\">직선</text>\n",
      "    <circle cx=\"125\" cy=\"375\" r=\"1\" stroke=\"black\" stroke-width=\"2\" fill=\"black\" />\n",
      "    <circle cx=\"375\" cy=\"375\" r=\"1\" stroke=\"black\" stroke-width=\"2\" fill=\"black\" />\n",
      "    <line x1=\"0\" y1=\"375\" x2=\"500\" y2=\"375\" stroke=\"black\" stroke-width=\"2\" />\n",
      "    </svg>\n",
      "    \n",
      "\n",
      "생성된 설명:\n",
      " ### 직선에 대한 설명\n",
      "\n",
      "#### 정의\n",
      "직선은 평면 위에서 가장 짧은 거리로 두 점을 연결하는 선을 말합니다. 이 선은 양쪽으로 무한히 계속되며, 방향이 항상 일정합니다. 직선 위의 모든 점들은 서로 평행하게 연결되어 있어, 어떤 방향으로든 뻗어나갈 수 있습니다.\n",
      "\n",
      "#### 기본 성질\n",
      "1. **무한한 길이**: 직선은 양쪽으로 무한히 이어집니다. 즉, 시작점에서 끝점까지의 거리가 아무리 길어도 계속해서 뻗어나갈 수 있습니다.\n",
      "2. **평행한 선들**: 같은 방향으로 무한히 뻗어나가는 두 직선은 서로 평행합니다. 반대로, 서로 다른 방향으로 무한히 뻗어나가는 두 직선은 교차하지 않습니다.\n",
      "3. **직선 위의 점들**: 직선 위의 모든 점들은 서로 연결되어 있어, 어떤 두 점을 잇는 선분은 항상 직선의 일부분입니다.\n",
      "4. **직선의 대칭성**: 직선을 기준으로 대칭인 두 부분은 서로 완전히 일치합니다. 예를 들어, 한 점을 기준으로 대칭인 두 점은 직선 양쪽에 동일한 거리에 위치합니다.\n",
      "\n",
      "이러한 성질들로 인해 직선은 기하학에서 매우 중요한 개념으로 사용됩니다!\n"
     ]
    },
    {
     "data": {
      "image/svg+xml": [
       "<svg xmlns=\"http://www.w3.org/2000/svg\" width=\"500\" height=\"500\">\n",
       "    <text x=\"250\" y=\"25\" font-size=\"25\" text-anchor=\"middle\">곧은선</text>\n",
       "    <text x=\"250\" y=\"75\" font-size=\"25\" text-anchor=\"middle\">선분</text>\n",
       "    <!-- 선분 -->\n",
       "    <circle cx=\"125\" cy=\"125\" r=\"1\" stroke=\"black\" stroke-width=\"2\" fill=\"black\"/>\n",
       "    <circle cx=\"375\" cy=\"125\" r=\"1\" stroke=\"black\" stroke-width=\"2\" fill=\"black\"/>\n",
       "    <line x1=\"125\" y1=\"125\" x2=\"375\" y2=\"125\" stroke=\"black\" stroke-width=\"2\"/>\n",
       "    <!-- 반직선 -->\n",
       "    <text x=\"250\" y=\"175\" font-size=\"25\" text-anchor=\"middle\">반직선</text>\n",
       "    <circle cx=\"125\" cy=\"250\" r=\"1\" stroke=\"black\" stroke-width=\"2\" fill=\"black\"/>\n",
       "    <circle cx=\"375\" cy=\"250\" r=\"1\" stroke=\"black\" stroke-width=\"2\" fill=\"black\"/>\n",
       "    <line x1=\"125\" y1=\"250\" x2=\"500\" y2=\"250\" stroke=\"black\" stroke-width=\"2\"/>\n",
       "    <!-- 직선 -->\n",
       "    <text x=\"250\" y=\"300\" font-size=\"25\" text-anchor=\"middle\">직선</text>\n",
       "    <circle cx=\"125\" cy=\"375\" r=\"1\" stroke=\"black\" stroke-width=\"2\" fill=\"black\"/>\n",
       "    <circle cx=\"375\" cy=\"375\" r=\"1\" stroke=\"black\" stroke-width=\"2\" fill=\"black\"/>\n",
       "    <line x1=\"0\" y1=\"375\" x2=\"500\" y2=\"375\" stroke=\"black\" stroke-width=\"2\"/>\n",
       "    </svg>"
      ],
      "text/plain": [
       "<IPython.core.display.SVG object>"
      ]
     },
     "metadata": {},
     "output_type": "display_data"
    },
    {
     "name": "stdout",
     "output_type": "stream",
     "text": [
      "====================================================================================================\n",
      "요청한 문장: 대표적인 굽은선을 그려줘\n",
      "추출된 개념: 곡선\n",
      "추출된 인자: {'type': '타원', 'description': '타원은 가장 대표적인 굽은선의 한 종류로, 두 초점 사이의 거리의 합이 일정한 점들의 집합으로 정의됩니다.'}\n",
      "\n",
      "생성된 코드:\n",
      " \n",
      "    <svg width=\"500\" height=\"500\" xmlns=\"http://www.w3.org/2000/svg\">\n",
      "    <text x=\"250\" y=\"50\" font-size=\"25\" text-anchor=\"middle\">굽은선</text>\n",
      "    <!-- 복잡한 S자 곡선 (두 개의 Cubic Bézier) -->\n",
      "    <path d=\"M 100,400\n",
      "    C 100,100 400,100 400,250\n",
      "    C 400,400 100,400 100,100\"\n",
      "    stroke=\"black\" fill=\"none\" stroke-width=\"2\"/>\n",
      "    </svg>\n",
      "    \n",
      "\n",
      "생성된 설명:\n",
      " ### 곡선에 대한 설명\n",
      "\n",
      "**정의:**\n",
      "곡선은 직선이 아닌, 연속적으로 이어지는 점들의 모임으로 이루어진 도형입니다. 쉽게 말해, 직선처럼 일정한 방향으로만 움직이는 것이 아니라, 부드럽게 휘어지거나 굽어지는 형태를 가진 선을 말합니다.\n",
      "\n",
      "**기본 성질:**\n",
      "1. **연속성:** 곡선 위의 모든 점들은 부드럽게 이어져 있어, 어떤 작은 구간에서도 끊어지지 않고 이어집니다.\n",
      "2. **길이:** 곡선의 길이는 그 곡선을 따라 측정한 총 거리입니다. 이 길이는 곡선의 모양에 따라 달라집니다. 예를 들어, 원의 둘레는 반지름에 따라 결정되며, 이는 곡선의 길이를 정확히 계산하는 방법 중 하나입니다.\n",
      "3. **곡률:** 곡선이 얼마나 빠르게 방향을 바꾸는지를 나타내는 값입니다. 곡률이 크면 곡선이 더 급하게 굽어지고, 작으면 더 부드럽게 굽어집니다. 예를 들어, 원의 경우 모든 점에서 곡률이 일정합니다.\n",
      "4. **접선:** 곡선 위의 어떤 점에서 그 점을 지나는 가장 가까운 직선을 접선이라고 합니다. 이 접선은 그 점에서 곡선의 방향을 가장 잘 나타냅니다.\n",
      "\n",
      "이러한 성질들 덕분에 곡선은 자연 현상이나 공학적 설계 등 다양한 분야에서 중요한 역할을 합니다.\n"
     ]
    },
    {
     "data": {
      "image/svg+xml": [
       "<svg xmlns=\"http://www.w3.org/2000/svg\" width=\"500\" height=\"500\">\n",
       "    <text x=\"250\" y=\"50\" font-size=\"25\" text-anchor=\"middle\">굽은선</text>\n",
       "    <!-- 복잡한 S자 곡선 (두 개의 Cubic Bézier) -->\n",
       "    <path d=\"M 100,400     C 100,100 400,100 400,250     C 400,400 100,400 100,100\" stroke=\"black\" fill=\"none\" stroke-width=\"2\"/>\n",
       "    </svg>"
      ],
      "text/plain": [
       "<IPython.core.display.SVG object>"
      ]
     },
     "metadata": {},
     "output_type": "display_data"
    },
    {
     "name": "stdout",
     "output_type": "stream",
     "text": [
      "====================================================================================================\n",
      "요청한 문장: 중심이 (0,0)이고 반지름이 2인 원을 그려주세요.\n",
      "추출된 개념: Circle\n",
      "추출된 인자: {'radius': 2}\n",
      "\n",
      "생성된 코드:\n",
      " <svg width=\"500\" height=\"500\" xmlns=\"http://www.w3.org/2000/svg\">\n",
      "    <text x=\"250\" y=\"50\" font-size=\"25\" text-anchor=\"middle\">원</text>\n",
      "    <circle cx=\"250\" cy=\"250\" r=\"100\" stroke=\"black\" stroke-width=\"2\" fill=\"none\" />\n",
      "    <circle cx=\"250\" cy=\"250\" r=\"1\" stroke=\"black\" stroke-width=\"2\" fill=\"black\" />\n",
      "    <line x1=\"250\" y1=\"250\" x2=\"350\" y2=\"250\" stroke=\"black\" stroke-width=\"2\" />\n",
      "    </svg>\n",
      "    \n",
      "\n",
      "생성된 설명:\n",
      " ### Circle (원)\n",
      "\n",
      "#### 정의:\n",
      "원은 평면 위에서 한 점(중심)으로부터 일정한 거리(반지름)에 있는 모든 점들의 집합을 말합니다. 이 중심점을 기준으로 원 위의 모든 점들은 동일한 거리에 위치해 있습니다.\n",
      "\n",
      "#### 기본 성질:\n",
      "1. **둘레와 지름**: 원의 둘레는 지름에 π(약 3.14)를 곱한 값입니다. 즉, 둘레 = 지름 × π 입니다. 반대로 지름은 둘레를 π로 나누면 구할 수 있습니다.\n",
      "   \n",
      "2. **면적**: 원의 면적은 반지름의 제곱에 π를 곱한 값입니다. 공식으로 표현하면 면적 = π × 반지름2 입니다.\n",
      "\n",
      "3. **대칭성**: 원은 중심을 기준으로 완벽하게 대칭입니다. 즉, 중심을 지나는 어떤 직선을 기준으로 원을 접어도 양쪽이 완전히 일치합니다.\n",
      "\n",
      "4. **원주각과 호의 관계**: 원 위의 두 점을 잇는 호의 중앙각은 그 호에 대응하는 원주각의 두 배입니다. 예를 들어, 호의 중앙각이 θ라면 원주각은 θ/2가 됩니다.\n",
      "\n",
      "이러한 성질들로 인해 원은 기하학에서 매우 중요한 역할을 합니다. 다양한 도형과 문제 해결에 활용되며, 일상생활에서도 자주 접하게 되는 개념입니다.\n",
      "\n",
      "생성된 공식 raw:\n",
      " {'perimeter': '2 \\\\times 3.14 \\\\times 반지름', 'area': '3.14 \\\\times 반지름 \\\\times 반지름'}\n"
     ]
    },
    {
     "data": {
      "text/latex": [
       "$\\displaystyle 2 \\times 3.14 \\times 반지름$"
      ],
      "text/plain": [
       "<IPython.core.display.Math object>"
      ]
     },
     "metadata": {},
     "output_type": "display_data"
    },
    {
     "data": {
      "text/latex": [
       "$\\displaystyle 3.14 \\times 반지름 \\times 반지름$"
      ],
      "text/plain": [
       "<IPython.core.display.Math object>"
      ]
     },
     "metadata": {},
     "output_type": "display_data"
    },
    {
     "data": {
      "image/svg+xml": [
       "<svg xmlns=\"http://www.w3.org/2000/svg\" width=\"500\" height=\"500\">\n",
       "    <text x=\"250\" y=\"50\" font-size=\"25\" text-anchor=\"middle\">원</text>\n",
       "    <circle cx=\"250\" cy=\"250\" r=\"100\" stroke=\"black\" stroke-width=\"2\" fill=\"none\"/>\n",
       "    <circle cx=\"250\" cy=\"250\" r=\"1\" stroke=\"black\" stroke-width=\"2\" fill=\"black\"/>\n",
       "    <line x1=\"250\" y1=\"250\" x2=\"350\" y2=\"250\" stroke=\"black\" stroke-width=\"2\"/>\n",
       "    </svg>"
      ],
      "text/plain": [
       "<IPython.core.display.SVG object>"
      ]
     },
     "metadata": {},
     "output_type": "display_data"
    },
    {
     "name": "stdout",
     "output_type": "stream",
     "text": [
      "====================================================================================================\n",
      "요청한 문장: 37° 각도를 그려줘\n",
      "추출된 개념: 각도\n",
      "추출된 인자: {'size': 37}\n",
      "\n",
      "생성된 코드:\n",
      " <svg width=\"500\" height=\"375\" xmlns=\"http://www.w3.org/2000/svg\">\n",
      "    <text x=\"250\" y=\"50\" font-size=\"25\" text-anchor=\"middle\">각</text>\n",
      "    <!-- 기준선 -->\n",
      "    <line x1=\"125\" y1=\"333\" x2=\"375\" y2=\"333\" stroke=\"black\" stroke-width=\"2\" />\n",
      "    <!-- 기울어진 선 -->\n",
      "    <line x1=\"125\" y1=\"333\" x2=\"324.6588775118232\" y2=\"182.54624421198793\" stroke=\"black\" stroke-width=\"2\" />\n",
      "    <!-- 각도 호 -->\n",
      "    <path d=\"M 164.93177550236464,302.9092488423976 A 50,50 0 0,1 175,333\" stroke=\"black\" stroke-width=\"2\" fill=\"none\"/>\n",
      "    </svg>\n",
      "    \n",
      "\n",
      "생성된 설명:\n",
      " ### 각도에 대한 설명\n",
      "\n",
      "**정의:**\n",
      "각도는 두 직선이나 선분이 만나서 생기는 공간의 크기를 측정하는 방법입니다. 우리가 일상에서 자주 접하는 각도는 주로 도로 표지판에서 볼 수 있는 방향 지시나, 그림에서 선들이 만나는 부분을 표현할 때 사용됩니다.\n",
      "\n",
      "**기본 성질:**\n",
      "1. **직선의 각도:** 직선은 정확히 180도의 각도를 가집니다. 직선은 두 방향으로 무한히 이어지는 것처럼 보이지만, 실제로는 시작점과 끝점이 있습니다.\n",
      "   \n",
      "2. **직각 각도:** 직각은 90도를 의미합니다. 이는 우리가 흔히 사용하는 'L'자 모양의 모서리나 사각형의 모서리에서 볼 수 있습니다. 직각은 두 직선이 서로 수직으로 만나는 경우에 생깁니다.\n",
      "\n",
      "3. **평행선과 각도:** 평행한 두 직선은 만나지 않기 때문에, 그들 사이의 각도는 항상 같습니다. 예를 들어, 두 평행선 위에 그려진 삼각형의 한 각은 다른 각과 크기가 동일합니다.\n",
      "\n",
      "4. **복합 각도:** 여러 각도를 합쳐서 더 큰 각도를 만들 수 있습니다. 예를 들어, 두 개의 직각 각도를 합치면 180도가 됩니다.\n",
      "\n",
      "이러한 기본적인 개념들을 이해하면 각도에 대한 다양한 문제를 풀 때 도움이 될 것입니다!\n"
     ]
    },
    {
     "data": {
      "image/svg+xml": [
       "<svg xmlns=\"http://www.w3.org/2000/svg\" width=\"500\" height=\"375\">\n",
       "    <text x=\"250\" y=\"50\" font-size=\"25\" text-anchor=\"middle\">각</text>\n",
       "    <!-- 기준선 -->\n",
       "    <line x1=\"125\" y1=\"333\" x2=\"375\" y2=\"333\" stroke=\"black\" stroke-width=\"2\"/>\n",
       "    <!-- 기울어진 선 -->\n",
       "    <line x1=\"125\" y1=\"333\" x2=\"324.6588775118232\" y2=\"182.54624421198793\" stroke=\"black\" stroke-width=\"2\"/>\n",
       "    <!-- 각도 호 -->\n",
       "    <path d=\"M 164.93177550236464,302.9092488423976 A 50,50 0 0,1 175,333\" stroke=\"black\" stroke-width=\"2\" fill=\"none\"/>\n",
       "    </svg>"
      ],
      "text/plain": [
       "<IPython.core.display.SVG object>"
      ]
     },
     "metadata": {},
     "output_type": "display_data"
    },
    {
     "name": "stdout",
     "output_type": "stream",
     "text": [
      "====================================================================================================\n",
      "요청한 문장: 직각을 표현해줘\n",
      "추출된 개념: Right Angle\n",
      "추출된 인자: {}\n",
      "\n",
      "생성된 코드:\n",
      " <svg width=\"500\" height=\"500\" xmlns=\"http://www.w3.org/2000/svg\">\n",
      "    <text x=\"250\" y=\"50\" font-size=\"25\" text-anchor=\"middle\">직각</text>\n",
      "    <!-- 기준선 -->\n",
      "    <line x1=\"125\" y1=\"400\" x2=\"458\" y2=\"400\" stroke=\"black\" stroke-width=\"2\" />\n",
      "    <!-- 기울어진 선 -->\n",
      "    <line x1=\"125\" y1=\"400\" x2=\"125\" y2=\"67\" stroke=\"black\" stroke-width=\"2\" />\n",
      "    <!-- 직각 보조선 -->\n",
      "    <line x1=\"175\" y1=\"400\" x2=\"175\" y2=\"350\" stroke=\"black\" stroke-width=\"2\" />\n",
      "    <line x1=\"125\" y1=\"350\" x2=\"175\" y2=\"350\" stroke=\"black\" stroke-width=\"2\" />\n",
      "    </svg>\n",
      "    \n",
      "\n",
      "생성된 설명:\n",
      " ### Right Angle\n",
      "\n",
      "**정의:**\n",
      "Right Angle은 기하학에서 가장 기본적인 각도 중 하나로, 정확히 90도를 이루는 각도를 말합니다. 이 각도는 직각이라고도 불리며, 직선이나 특정 도형의 모서리에서 만나는 두 변이 서로 수직으로 만나는 경우에 나타납니다.\n",
      "\n",
      "**기본 성질:**\n",
      "1. **크기:** Right Angle은 항상 정확히 90도입니다. 이는 모든 Right Angle이 동일한 크기를 가짐을 의미합니다.\n",
      "2. **모양:** Right Angle은 보통 'L' 모양으로 쉽게 인식할 수 있습니다. 이 모양은 직각을 나타내는 데 자주 사용됩니다.\n",
      "3. **도형과의 관계:** 직각은 사각형, 직사각형, 정사각형 등 다양한 도형의 모서리에서 발견됩니다. 특히, 직사각형이나 정사각형은 네 개의 Right Angle을 가지고 있습니다.\n",
      "4. **삼각형과의 연관성:** 직각삼각형은 한 내각이 정확히 Right Angle인 삼각형을 의미합니다. 이 삼각형은 세 변의 길이 관계를 통해 피타고라스 정리를 적용할 수 있습니다.\n",
      "\n",
      "이러한 성질들로 인해 Right Angle은 수학에서 매우 중요한 개념으로 자리잡고 있습니다!\n"
     ]
    },
    {
     "data": {
      "image/svg+xml": [
       "<svg xmlns=\"http://www.w3.org/2000/svg\" width=\"500\" height=\"500\">\n",
       "    <text x=\"250\" y=\"50\" font-size=\"25\" text-anchor=\"middle\">직각</text>\n",
       "    <!-- 기준선 -->\n",
       "    <line x1=\"125\" y1=\"400\" x2=\"458\" y2=\"400\" stroke=\"black\" stroke-width=\"2\"/>\n",
       "    <!-- 기울어진 선 -->\n",
       "    <line x1=\"125\" y1=\"400\" x2=\"125\" y2=\"67\" stroke=\"black\" stroke-width=\"2\"/>\n",
       "    <!-- 직각 보조선 -->\n",
       "    <line x1=\"175\" y1=\"400\" x2=\"175\" y2=\"350\" stroke=\"black\" stroke-width=\"2\"/>\n",
       "    <line x1=\"125\" y1=\"350\" x2=\"175\" y2=\"350\" stroke=\"black\" stroke-width=\"2\"/>\n",
       "    </svg>"
      ],
      "text/plain": [
       "<IPython.core.display.SVG object>"
      ]
     },
     "metadata": {},
     "output_type": "display_data"
    },
    {
     "name": "stdout",
     "output_type": "stream",
     "text": [
      "====================================================================================================\n",
      "요청한 문장: 밑변이 3이고, 높이가 4인 직각삼각형 하나를 그려줘\n",
      "추출된 개념: Right Triangle\n",
      "추출된 인자: {'base': 3, 'height': 4}\n",
      "\n",
      "생성된 코드:\n",
      " <svg width=\"500\" height=\"500\" xmlns=\"http://www.w3.org/2000/svg\">\n",
      "    <text x=\"250\" y=\"50\" font-size=\"25\" text-anchor=\"middle\">직각삼각형</text>\n",
      "    <!-- 직각삼각형 -->\n",
      "    <line x1=\"83\" y1=\"416\" x2=\"308\" y2=\"416\" stroke=\"black\" stroke-width=\"2\" />\n",
      "    <line x1=\"308\" y1=\"416\" x2=\"308\" y2=\"166\" stroke=\"black\" stroke-width=\"2\" />\n",
      "    <line x1=\"83\" y1=\"416\" x2=\"308\" y2=\"166\" stroke=\"black\" stroke-width=\"2\" />\n",
      "    <!-- 직각 보조선 -->\n",
      "    <line x1=\"286\" y1=\"416\" x2=\"286\" y2=\"394\" stroke=\"black\" stroke-width=\"2\" />\n",
      "    <line x1=\"286\" y1=\"394\" x2=\"308\" y2=\"394\" stroke=\"black\" stroke-width=\"2\" />\n",
      "    </svg>\n",
      "    \n",
      "\n",
      "생성된 설명:\n",
      " ### Right Triangle\n",
      "\n",
      "**정의:**\n",
      "A right triangle is a special type of triangle that has one angle which measures exactly 90 degrees (a right angle). This unique angle distinguishes it from other triangles where all angles are less than 90 degrees.\n",
      "\n",
      "**기본 성질:**\n",
      "1. **한 각이 직각:** 가장 중요한 특징은 한 꼭짓점에서 직각(90°)을 이루는 것입니다.\n",
      "2. **직각을 중심으로 두 개의 다른 각:** 나머지 두 각은 합쳐 90도가 됩니다. 따라서 이 두 각은 서로 보완각(complementary angles)입니다.\n",
      "3. **피타고라스 정리 적용 가능:** 직각 삼각형에서는 가장 긴 변을 빗변(hypotenuse)이라고 부르며, 이 빗변의 길이는 다른 두 변(직각을 이루는 두 변을 밑변과 높이라고도 부릅니다)의 길이와 특별한 관계를 가집니다. 이 관계는 피타고라스 정리로 표현되는데, 수학적으로는 \\(a^2 + b^2 = c^2\\) 입니다 (여기서 \\(c\\)는 빗변의 길이이고, \\(a\\)와 \\(b\\)는 다른 두 변의 길이입니다). 하지만 문제 해결을 위해 직접적인 공식보다는 이 관계를 이해하는 것이 중요합니다.\n",
      "4. **삼각형의 종류:** 직각 삼각형은 그 각도에 따라 다양한 종류로 나눌 수 있습니다. 예를 들어, 모든 변의 길이가 정수인 직각 삼각형을 피타고라스 삼각형이라고 부르기도 합니다.\n",
      "\n",
      "이런 특징들로 인해 직각 삼각형은 건축, 공학, 그리고 다양한 실생활 문제 해결에서 매우 중요한 역할을 합니다!\n",
      "\n",
      "생성된 공식 raw:\n",
      " {'perimeter': '밑변 + 높이 + 빗변', 'area': '밑변 × 높이 ÷ 2'}\n"
     ]
    },
    {
     "data": {
      "text/latex": [
       "$\\displaystyle 밑변 + 높이 + 빗변$"
      ],
      "text/plain": [
       "<IPython.core.display.Math object>"
      ]
     },
     "metadata": {},
     "output_type": "display_data"
    },
    {
     "data": {
      "text/latex": [
       "$\\displaystyle 밑변 × 높이 ÷ 2$"
      ],
      "text/plain": [
       "<IPython.core.display.Math object>"
      ]
     },
     "metadata": {},
     "output_type": "display_data"
    },
    {
     "data": {
      "image/svg+xml": [
       "<svg xmlns=\"http://www.w3.org/2000/svg\" width=\"500\" height=\"500\">\n",
       "    <text x=\"250\" y=\"50\" font-size=\"25\" text-anchor=\"middle\">직각삼각형</text>\n",
       "    <!-- 직각삼각형 -->\n",
       "    <line x1=\"83\" y1=\"416\" x2=\"308\" y2=\"416\" stroke=\"black\" stroke-width=\"2\"/>\n",
       "    <line x1=\"308\" y1=\"416\" x2=\"308\" y2=\"166\" stroke=\"black\" stroke-width=\"2\"/>\n",
       "    <line x1=\"83\" y1=\"416\" x2=\"308\" y2=\"166\" stroke=\"black\" stroke-width=\"2\"/>\n",
       "    <!-- 직각 보조선 -->\n",
       "    <line x1=\"286\" y1=\"416\" x2=\"286\" y2=\"394\" stroke=\"black\" stroke-width=\"2\"/>\n",
       "    <line x1=\"286\" y1=\"394\" x2=\"308\" y2=\"394\" stroke=\"black\" stroke-width=\"2\"/>\n",
       "    </svg>"
      ],
      "text/plain": [
       "<IPython.core.display.SVG object>"
      ]
     },
     "metadata": {},
     "output_type": "display_data"
    },
    {
     "name": "stdout",
     "output_type": "stream",
     "text": [
      "====================================================================================================\n",
      "요청한 문장: 가로가 5, 세로가 3인 직사각형의 넓이\n",
      "추출된 개념: Rectangle\n",
      "추출된 인자: {'width': 5, 'height': 3}\n",
      "\n",
      "생성된 코드:\n",
      " <svg width=\"500\" height=\"312\" xmlns=\"http://www.w3.org/2000/svg\">\n",
      "    <text x=\"250\" y=\"50\" font-size=\"25\" text-anchor=\"middle\">직사각형</text>\n",
      "    <rect x=\"100\" y=\"100\" width=\"250\" height=\"150\" stroke=\"black\" stroke-width=\"2\" fill=\"none\" />\n",
      "    </svg>\n",
      "\n",
      "생성된 설명:\n",
      " ### Rectangle 설명\n",
      "\n",
      "**정의:**\n",
      "사각형은 네 개의 직선으로 둘러싸인 평면 도형으로, 각 내각이 직각(90도)인 특징을 가지고 있습니다. 즉, 사각형의 네 모서리는 모두 직각을 이루며, 대변이 평행하고 길이가 같은 특성을 갖습니다.\n",
      "\n",
      "**기본 성질:**\n",
      "1. **대변의 길이가 같음:** 사각형의 두 쌍의 대변은 길이가 동일합니다. 예를 들어, 가로와 세로가 같은 길이를 가집니다.\n",
      "2. **대각선이 서로 같음:** 사각형의 두 대각선은 길이가 같습니다. 즉, 사각형을 두 개의 동일한 삼각형으로 나눌 수 있습니다.\n",
      "3. **내각의 합:** 사각형의 네 내각의 합은 항상 360도입니다.\n",
      "4. **변의 배열:** 사각형은 여러 가지 형태로 배열될 수 있습니다. 예를 들어, 직사각형은 가로와 세로가 각각 다른 길이를 가질 수 있으며, 정사각형은 모든 변의 길이가 같고 모든 내각이 직각인 특별한 형태의 사각형입니다.\n",
      "\n",
      "이러한 성질들로 인해 사각형은 우리 일상생활에서 매우 흔하게 볼 수 있는 도형입니다!\n",
      "\n",
      "생성된 공식 raw:\n",
      " {'perimeter': '2 × (밑변 + 높이)', 'area': '밑변 × 높이'}\n"
     ]
    },
    {
     "data": {
      "text/latex": [
       "$\\displaystyle 2 × (밑변 + 높이)$"
      ],
      "text/plain": [
       "<IPython.core.display.Math object>"
      ]
     },
     "metadata": {},
     "output_type": "display_data"
    },
    {
     "data": {
      "text/latex": [
       "$\\displaystyle 밑변 × 높이$"
      ],
      "text/plain": [
       "<IPython.core.display.Math object>"
      ]
     },
     "metadata": {},
     "output_type": "display_data"
    },
    {
     "data": {
      "image/svg+xml": [
       "<svg xmlns=\"http://www.w3.org/2000/svg\" width=\"500\" height=\"312\">\n",
       "    <text x=\"250\" y=\"50\" font-size=\"25\" text-anchor=\"middle\">직사각형</text>\n",
       "    <rect x=\"100\" y=\"100\" width=\"250\" height=\"150\" stroke=\"black\" stroke-width=\"2\" fill=\"none\"/>\n",
       "    </svg>"
      ],
      "text/plain": [
       "<IPython.core.display.SVG object>"
      ]
     },
     "metadata": {},
     "output_type": "display_data"
    },
    {
     "name": "stdout",
     "output_type": "stream",
     "text": [
      "====================================================================================================\n",
      "요청한 문장: 한 변의 길이가 2인 정사각형 하나를 그려줘\n",
      "추출된 개념: Square\n",
      "추출된 인자: {'length': 2}\n",
      "\n",
      "생성된 코드:\n",
      " <svg width=\"500\" height=\"500\" xmlns=\"http://www.w3.org/2000/svg\">\n",
      "    <text x=\"250\" y=\"50\" font-size=\"25\" text-anchor=\"middle\">정사각형</text>\n",
      "    <rect x=\"100\" y=\"100\" width=\"200\" height=\"200\" stroke=\"black\" stroke-width=\"2\" fill=\"none\" />\n",
      "    </svg>\n",
      "\n",
      "생성된 설명:\n",
      " ### Square\n",
      "\n",
      "**정의:**\n",
      "사각형은 네 개의 변으로 이루어진 평면 도형입니다. 모든 내각이 직각(90도)이며, 반대편의 변들이 길이가 같아서 마주보는 두 변은 평행하고 길이가 동일합니다.\n",
      "\n",
      "**기본 성질:**\n",
      "1. **대변의 길이 동일:** 사각형의 마주보는 두 변은 길이가 같습니다. 예를 들어, 정사각형이나 직사각형에서는 모든 대변이 같은 길이를 가집니다.\n",
      "2. **대각선의 성질:** 사각형의 대각선은 서로를 반으로 나눕니다. 즉, 대각선이 만나는 점에서 대각선을 잇는 선분들은 서로를 절반으로 나눕니다.\n",
      "3. **변의 합:** 사각형의 네 변의 길이를 모두 더하면, 그 합은 사각형의 둘레를 나타냅니다. 예를 들어, 한 변의 길이가 \\(a\\)이고 다른 변의 길이가 \\(b\\)라면, 둘레는 \\(a + b + a + b = 2(a + b)\\)가 됩니다.\n",
      "4. **정사각형의 특징:** 정사각형은 모든 변의 길이가 같고 모든 내각이 직각인 특별한 사각형입니다. 모든 대각선도 길이가 같고 서로를 직각으로 이룹니다.\n",
      "\n",
      "이러한 성질들로 인해 사각형은 다양한 형태와 크기로 존재하며, 건축, 디자인, 그리고 일상생활에서 자주 볼 수 있는 도형입니다!\n",
      "\n",
      "생성된 공식 raw:\n",
      " {'perimeter': '4 \\\\times \\\\mathrm{한 변의 길이}', 'area': '\\\\mathrm{한 변의 길이} \\\\times \\\\mathrm{한 변의 길이}'}\n"
     ]
    },
    {
     "data": {
      "text/latex": [
       "$\\displaystyle 4 \\times \\mathrm{한 변의 길이}$"
      ],
      "text/plain": [
       "<IPython.core.display.Math object>"
      ]
     },
     "metadata": {},
     "output_type": "display_data"
    },
    {
     "data": {
      "text/latex": [
       "$\\displaystyle \\mathrm{한 변의 길이} \\times \\mathrm{한 변의 길이}$"
      ],
      "text/plain": [
       "<IPython.core.display.Math object>"
      ]
     },
     "metadata": {},
     "output_type": "display_data"
    },
    {
     "data": {
      "image/svg+xml": [
       "<svg xmlns=\"http://www.w3.org/2000/svg\" width=\"500\" height=\"500\">\n",
       "    <text x=\"250\" y=\"50\" font-size=\"25\" text-anchor=\"middle\">정사각형</text>\n",
       "    <rect x=\"100\" y=\"100\" width=\"200\" height=\"200\" stroke=\"black\" stroke-width=\"2\" fill=\"none\"/>\n",
       "    </svg>"
      ],
      "text/plain": [
       "<IPython.core.display.SVG object>"
      ]
     },
     "metadata": {},
     "output_type": "display_data"
    },
    {
     "name": "stdout",
     "output_type": "stream",
     "text": [
      "====================================================================================================\n",
      "요청한 문장: 곧은선이 뭐야?\n",
      "추출된 개념: 직선\n",
      "추출된 인자: {}\n",
      "\n",
      "생성된 코드:\n",
      " <svg width=\"500\" height=\"500\" xmlns=\"http://www.w3.org/2000/svg\">\n",
      "    <text x=\"250\" y=\"25\" font-size=\"25\" text-anchor=\"middle\">곧은선</text>\n",
      "    <text x=\"250\" y=\"75\" font-size=\"25\" text-anchor=\"middle\">선분</text>\n",
      "    <!-- 선분 -->\n",
      "    <circle cx=\"125\" cy=\"125\" r=\"1\" stroke=\"black\" stroke-width=\"2\" fill=\"black\" />\n",
      "    <circle cx=\"375\" cy=\"125\" r=\"1\" stroke=\"black\" stroke-width=\"2\" fill=\"black\" />\n",
      "    <line x1=\"125\" y1=\"125\" x2=\"375\" y2=\"125\" stroke=\"black\" stroke-width=\"2\" />\n",
      "    <!-- 반직선 -->\n",
      "    <text x=\"250\" y=\"175\" font-size=\"25\" text-anchor=\"middle\">반직선</text>\n",
      "    <circle cx=\"125\" cy=\"250\" r=\"1\" stroke=\"black\" stroke-width=\"2\" fill=\"black\" />\n",
      "    <circle cx=\"375\" cy=\"250\" r=\"1\" stroke=\"black\" stroke-width=\"2\" fill=\"black\" />\n",
      "    <line x1=\"125\" y1=\"250\" x2=\"500\" y2=\"250\" stroke=\"black\" stroke-width=\"2\" />\n",
      "    <!-- 직선 -->\n",
      "    <text x=\"250\" y=\"300\" font-size=\"25\" text-anchor=\"middle\">직선</text>\n",
      "    <circle cx=\"125\" cy=\"375\" r=\"1\" stroke=\"black\" stroke-width=\"2\" fill=\"black\" />\n",
      "    <circle cx=\"375\" cy=\"375\" r=\"1\" stroke=\"black\" stroke-width=\"2\" fill=\"black\" />\n",
      "    <line x1=\"0\" y1=\"375\" x2=\"500\" y2=\"375\" stroke=\"black\" stroke-width=\"2\" />\n",
      "    </svg>\n",
      "    \n",
      "\n",
      "생성된 설명:\n",
      " ### 직선에 대한 설명\n",
      "\n",
      "#### 정의\n",
      "직선은 평면 위에서 가장 짧은 거리로 두 점을 연결하는 선을 말합니다. 이 선은 양쪽으로 무한히 계속되며, 방향이 항상 일정합니다. 직선 위의 모든 점들은 서로 평행하게 연결되어 있어, 어떤 방향으로든 뻗어나갈 수 있습니다.\n",
      "\n",
      "#### 기본 성질\n",
      "1. **무한한 길이**: 직선은 양쪽으로 무한히 이어집니다. 즉, 시작점에서 끝점까지의 거리가 아무리 길어도 계속해서 뻗어나갈 수 있습니다.\n",
      "2. **평행한 선들**: 같은 방향으로 무한히 뻗어나가는 두 직선은 서로 평행합니다. 반대로, 서로 다른 방향으로 무한히 뻗어나가는 두 직선은 교차하지 않습니다.\n",
      "3. **직선 위의 점들**: 직선 위의 모든 점들은 서로 연결되어 있어, 어떤 두 점을 잇는 선분은 항상 직선의 일부분입니다.\n",
      "4. **직선의 대칭성**: 직선을 기준으로 대칭인 두 부분은 서로 완전히 일치합니다. 예를 들어, 한 점을 기준으로 대칭인 두 점은 직선 양쪽에 동일한 거리에 위치합니다.\n",
      "\n",
      "이러한 성질들로 인해 직선은 기하학에서 매우 중요한 개념으로 사용됩니다!\n"
     ]
    },
    {
     "data": {
      "image/svg+xml": [
       "<svg xmlns=\"http://www.w3.org/2000/svg\" width=\"500\" height=\"500\">\n",
       "    <text x=\"250\" y=\"25\" font-size=\"25\" text-anchor=\"middle\">곧은선</text>\n",
       "    <text x=\"250\" y=\"75\" font-size=\"25\" text-anchor=\"middle\">선분</text>\n",
       "    <!-- 선분 -->\n",
       "    <circle cx=\"125\" cy=\"125\" r=\"1\" stroke=\"black\" stroke-width=\"2\" fill=\"black\"/>\n",
       "    <circle cx=\"375\" cy=\"125\" r=\"1\" stroke=\"black\" stroke-width=\"2\" fill=\"black\"/>\n",
       "    <line x1=\"125\" y1=\"125\" x2=\"375\" y2=\"125\" stroke=\"black\" stroke-width=\"2\"/>\n",
       "    <!-- 반직선 -->\n",
       "    <text x=\"250\" y=\"175\" font-size=\"25\" text-anchor=\"middle\">반직선</text>\n",
       "    <circle cx=\"125\" cy=\"250\" r=\"1\" stroke=\"black\" stroke-width=\"2\" fill=\"black\"/>\n",
       "    <circle cx=\"375\" cy=\"250\" r=\"1\" stroke=\"black\" stroke-width=\"2\" fill=\"black\"/>\n",
       "    <line x1=\"125\" y1=\"250\" x2=\"500\" y2=\"250\" stroke=\"black\" stroke-width=\"2\"/>\n",
       "    <!-- 직선 -->\n",
       "    <text x=\"250\" y=\"300\" font-size=\"25\" text-anchor=\"middle\">직선</text>\n",
       "    <circle cx=\"125\" cy=\"375\" r=\"1\" stroke=\"black\" stroke-width=\"2\" fill=\"black\"/>\n",
       "    <circle cx=\"375\" cy=\"375\" r=\"1\" stroke=\"black\" stroke-width=\"2\" fill=\"black\"/>\n",
       "    <line x1=\"0\" y1=\"375\" x2=\"500\" y2=\"375\" stroke=\"black\" stroke-width=\"2\"/>\n",
       "    </svg>"
      ],
      "text/plain": [
       "<IPython.core.display.SVG object>"
      ]
     },
     "metadata": {},
     "output_type": "display_data"
    },
    {
     "name": "stdout",
     "output_type": "stream",
     "text": [
      "====================================================================================================\n",
      "요청한 문장: 대표적인 굽은선을 그려줘\n",
      "추출된 개념: 곡선\n",
      "추출된 인자: {'type': '타원', 'description': '타원은 가장 대표적인 굽은선의 한 종류로, 두 초점 사이의 거리의 합이 일정한 점들의 집합으로 정의됩니다.'}\n",
      "\n",
      "생성된 코드:\n",
      " \n",
      "    <svg width=\"500\" height=\"500\" xmlns=\"http://www.w3.org/2000/svg\">\n",
      "    <text x=\"250\" y=\"50\" font-size=\"25\" text-anchor=\"middle\">굽은선</text>\n",
      "    <!-- 복잡한 S자 곡선 (두 개의 Cubic Bézier) -->\n",
      "    <path d=\"M 100,400\n",
      "    C 100,100 400,100 400,250\n",
      "    C 400,400 100,400 100,100\"\n",
      "    stroke=\"black\" fill=\"none\" stroke-width=\"2\"/>\n",
      "    </svg>\n",
      "    \n",
      "\n",
      "생성된 설명:\n",
      " ### 곡선에 대한 설명\n",
      "\n",
      "**정의:**\n",
      "곡선은 직선이 아닌, 연속적으로 이어지는 점들의 모임으로 이루어진 도형입니다. 쉽게 말해, 직선처럼 일정한 방향으로만 움직이는 것이 아니라, 부드럽게 휘어지거나 굽어지는 형태를 가진 선을 말합니다.\n",
      "\n",
      "**기본 성질:**\n",
      "1. **연속성:** 곡선 위의 모든 점들은 부드럽게 이어져 있어, 어떤 작은 구간에서도 끊어지지 않고 이어집니다.\n",
      "2. **길이:** 곡선의 길이는 그 곡선을 따라 측정한 총 거리입니다. 이 길이는 곡선의 모양에 따라 달라집니다. 예를 들어, 원의 둘레는 반지름에 따라 결정되며, 이는 곡선의 길이를 정확히 계산하는 방법 중 하나입니다.\n",
      "3. **곡률:** 곡선이 얼마나 빠르게 방향을 바꾸는지를 나타내는 값입니다. 곡률이 크면 곡선이 더 급하게 굽어지고, 작으면 더 부드럽게 굽어집니다. 예를 들어, 원의 경우 모든 점에서 곡률이 일정합니다.\n",
      "4. **접선:** 곡선 위의 어떤 점에서 그 점을 지나는 가장 가까운 직선을 접선이라고 합니다. 이 접선은 그 점에서 곡선의 방향을 가장 잘 나타냅니다.\n",
      "\n",
      "이러한 성질들 덕분에 곡선은 자연 현상이나 공학적 설계 등 다양한 분야에서 중요한 역할을 합니다.\n"
     ]
    },
    {
     "data": {
      "image/svg+xml": [
       "<svg xmlns=\"http://www.w3.org/2000/svg\" width=\"500\" height=\"500\">\n",
       "    <text x=\"250\" y=\"50\" font-size=\"25\" text-anchor=\"middle\">굽은선</text>\n",
       "    <!-- 복잡한 S자 곡선 (두 개의 Cubic Bézier) -->\n",
       "    <path d=\"M 100,400     C 100,100 400,100 400,250     C 400,400 100,400 100,100\" stroke=\"black\" fill=\"none\" stroke-width=\"2\"/>\n",
       "    </svg>"
      ],
      "text/plain": [
       "<IPython.core.display.SVG object>"
      ]
     },
     "metadata": {},
     "output_type": "display_data"
    },
    {
     "name": "stdout",
     "output_type": "stream",
     "text": [
      "====================================================================================================\n",
      "요청한 문장: 중심이 (0,0)이고 반지름이 2인 원을 그려주세요.\n",
      "추출된 개념: Circle\n",
      "추출된 인자: {'radius': 2}\n",
      "\n",
      "생성된 코드:\n",
      " <svg width=\"500\" height=\"500\" xmlns=\"http://www.w3.org/2000/svg\">\n",
      "    <text x=\"250\" y=\"50\" font-size=\"25\" text-anchor=\"middle\">원</text>\n",
      "    <circle cx=\"250\" cy=\"250\" r=\"100\" stroke=\"black\" stroke-width=\"2\" fill=\"none\" />\n",
      "    <circle cx=\"250\" cy=\"250\" r=\"1\" stroke=\"black\" stroke-width=\"2\" fill=\"black\" />\n",
      "    <line x1=\"250\" y1=\"250\" x2=\"350\" y2=\"250\" stroke=\"black\" stroke-width=\"2\" />\n",
      "    </svg>\n",
      "    \n",
      "\n",
      "생성된 설명:\n",
      " ### Circle (원)\n",
      "\n",
      "#### 정의:\n",
      "원은 평면 위에서 한 점(중심)으로부터 일정한 거리(반지름)에 있는 모든 점들의 집합을 말합니다. 이 중심점을 기준으로 원 위의 모든 점들은 동일한 거리에 위치해 있습니다.\n",
      "\n",
      "#### 기본 성질:\n",
      "1. **둘레와 지름**: 원의 둘레는 지름에 π(약 3.14)를 곱한 값입니다. 즉, 둘레 = 지름 × π 입니다. 반대로 지름은 둘레를 π로 나누면 구할 수 있습니다.\n",
      "   \n",
      "2. **면적**: 원의 면적은 반지름의 제곱에 π를 곱한 값입니다. 공식으로 표현하면 면적 = π × 반지름2 입니다.\n",
      "\n",
      "3. **대칭성**: 원은 중심을 기준으로 완벽하게 대칭입니다. 즉, 중심을 지나는 어떤 직선을 기준으로 원을 접어도 양쪽이 완전히 일치합니다.\n",
      "\n",
      "4. **원주각과 호의 관계**: 원 위의 두 점을 잇는 호의 중앙각은 그 호에 대응하는 원주각의 두 배입니다. 예를 들어, 호의 중앙각이 θ라면 원주각은 θ/2가 됩니다.\n",
      "\n",
      "이러한 성질들로 인해 원은 기하학에서 매우 중요한 역할을 합니다. 다양한 도형과 문제 해결에 활용되며, 일상생활에서도 자주 접하게 되는 개념입니다.\n",
      "\n",
      "생성된 공식 raw:\n",
      " {'perimeter': '2 \\\\times 3.14 \\\\times 반지름', 'area': '3.14 \\\\times 반지름 \\\\times 반지름'}\n"
     ]
    },
    {
     "data": {
      "text/latex": [
       "$\\displaystyle 2 \\times 3.14 \\times 반지름$"
      ],
      "text/plain": [
       "<IPython.core.display.Math object>"
      ]
     },
     "metadata": {},
     "output_type": "display_data"
    },
    {
     "data": {
      "text/latex": [
       "$\\displaystyle 3.14 \\times 반지름 \\times 반지름$"
      ],
      "text/plain": [
       "<IPython.core.display.Math object>"
      ]
     },
     "metadata": {},
     "output_type": "display_data"
    },
    {
     "data": {
      "image/svg+xml": [
       "<svg xmlns=\"http://www.w3.org/2000/svg\" width=\"500\" height=\"500\">\n",
       "    <text x=\"250\" y=\"50\" font-size=\"25\" text-anchor=\"middle\">원</text>\n",
       "    <circle cx=\"250\" cy=\"250\" r=\"100\" stroke=\"black\" stroke-width=\"2\" fill=\"none\"/>\n",
       "    <circle cx=\"250\" cy=\"250\" r=\"1\" stroke=\"black\" stroke-width=\"2\" fill=\"black\"/>\n",
       "    <line x1=\"250\" y1=\"250\" x2=\"350\" y2=\"250\" stroke=\"black\" stroke-width=\"2\"/>\n",
       "    </svg>"
      ],
      "text/plain": [
       "<IPython.core.display.SVG object>"
      ]
     },
     "metadata": {},
     "output_type": "display_data"
    },
    {
     "name": "stdout",
     "output_type": "stream",
     "text": [
      "====================================================================================================\n",
      "요청한 문장: 37° 각도를 그려줘\n",
      "추출된 개념: 각도\n",
      "추출된 인자: {'size': 37}\n",
      "\n",
      "생성된 코드:\n",
      " <svg width=\"500\" height=\"375\" xmlns=\"http://www.w3.org/2000/svg\">\n",
      "    <text x=\"250\" y=\"50\" font-size=\"25\" text-anchor=\"middle\">각</text>\n",
      "    <!-- 기준선 -->\n",
      "    <line x1=\"125\" y1=\"333\" x2=\"375\" y2=\"333\" stroke=\"black\" stroke-width=\"2\" />\n",
      "    <!-- 기울어진 선 -->\n",
      "    <line x1=\"125\" y1=\"333\" x2=\"324.6588775118232\" y2=\"182.54624421198793\" stroke=\"black\" stroke-width=\"2\" />\n",
      "    <!-- 각도 호 -->\n",
      "    <path d=\"M 164.93177550236464,302.9092488423976 A 50,50 0 0,1 175,333\" stroke=\"black\" stroke-width=\"2\" fill=\"none\"/>\n",
      "    </svg>\n",
      "    \n",
      "\n",
      "생성된 설명:\n",
      " ### 각도에 대한 설명\n",
      "\n",
      "**정의:**\n",
      "각도는 두 직선이나 선분이 만나서 생기는 공간의 크기를 측정하는 방법입니다. 우리가 일상에서 자주 접하는 각도는 주로 도로 표지판에서 볼 수 있는 방향 지시나, 그림에서 선들이 만나는 부분을 표현할 때 사용됩니다.\n",
      "\n",
      "**기본 성질:**\n",
      "1. **직선의 각도:** 직선은 정확히 180도의 각도를 가집니다. 직선은 두 방향으로 무한히 이어지는 것처럼 보이지만, 실제로는 시작점과 끝점이 있습니다.\n",
      "   \n",
      "2. **직각 각도:** 직각은 90도를 의미합니다. 이는 우리가 흔히 사용하는 'L'자 모양의 모서리나 사각형의 모서리에서 볼 수 있습니다. 직각은 두 직선이 서로 수직으로 만나는 경우에 생깁니다.\n",
      "\n",
      "3. **평행선과 각도:** 평행한 두 직선은 만나지 않기 때문에, 그들 사이의 각도는 항상 같습니다. 예를 들어, 두 평행선 위에 그려진 삼각형의 한 각은 다른 각과 크기가 동일합니다.\n",
      "\n",
      "4. **복합 각도:** 여러 각도를 합쳐서 더 큰 각도를 만들 수 있습니다. 예를 들어, 두 개의 직각 각도를 합치면 180도가 됩니다.\n",
      "\n",
      "이러한 기본적인 개념들을 이해하면 각도에 대한 다양한 문제를 풀 때 도움이 될 것입니다!\n"
     ]
    },
    {
     "data": {
      "image/svg+xml": [
       "<svg xmlns=\"http://www.w3.org/2000/svg\" width=\"500\" height=\"375\">\n",
       "    <text x=\"250\" y=\"50\" font-size=\"25\" text-anchor=\"middle\">각</text>\n",
       "    <!-- 기준선 -->\n",
       "    <line x1=\"125\" y1=\"333\" x2=\"375\" y2=\"333\" stroke=\"black\" stroke-width=\"2\"/>\n",
       "    <!-- 기울어진 선 -->\n",
       "    <line x1=\"125\" y1=\"333\" x2=\"324.6588775118232\" y2=\"182.54624421198793\" stroke=\"black\" stroke-width=\"2\"/>\n",
       "    <!-- 각도 호 -->\n",
       "    <path d=\"M 164.93177550236464,302.9092488423976 A 50,50 0 0,1 175,333\" stroke=\"black\" stroke-width=\"2\" fill=\"none\"/>\n",
       "    </svg>"
      ],
      "text/plain": [
       "<IPython.core.display.SVG object>"
      ]
     },
     "metadata": {},
     "output_type": "display_data"
    },
    {
     "name": "stdout",
     "output_type": "stream",
     "text": [
      "====================================================================================================\n",
      "요청한 문장: 직각을 표현해줘\n",
      "추출된 개념: Right Angle\n",
      "추출된 인자: {}\n",
      "\n",
      "생성된 코드:\n",
      " <svg width=\"500\" height=\"500\" xmlns=\"http://www.w3.org/2000/svg\">\n",
      "    <text x=\"250\" y=\"50\" font-size=\"25\" text-anchor=\"middle\">직각</text>\n",
      "    <!-- 기준선 -->\n",
      "    <line x1=\"125\" y1=\"400\" x2=\"458\" y2=\"400\" stroke=\"black\" stroke-width=\"2\" />\n",
      "    <!-- 기울어진 선 -->\n",
      "    <line x1=\"125\" y1=\"400\" x2=\"125\" y2=\"67\" stroke=\"black\" stroke-width=\"2\" />\n",
      "    <!-- 직각 보조선 -->\n",
      "    <line x1=\"175\" y1=\"400\" x2=\"175\" y2=\"350\" stroke=\"black\" stroke-width=\"2\" />\n",
      "    <line x1=\"125\" y1=\"350\" x2=\"175\" y2=\"350\" stroke=\"black\" stroke-width=\"2\" />\n",
      "    </svg>\n",
      "    \n",
      "\n",
      "생성된 설명:\n",
      " ### Right Angle\n",
      "\n",
      "**정의:**\n",
      "Right Angle은 기하학에서 가장 기본적인 각도 중 하나로, 정확히 90도를 이루는 각도를 말합니다. 이 각도는 직각이라고도 불리며, 직선이나 특정 도형의 모서리에서 만나는 두 변이 서로 수직으로 만나는 경우에 나타납니다.\n",
      "\n",
      "**기본 성질:**\n",
      "1. **크기:** Right Angle은 항상 정확히 90도입니다. 이는 모든 Right Angle이 동일한 크기를 가짐을 의미합니다.\n",
      "2. **모양:** Right Angle은 보통 'L' 모양으로 쉽게 인식할 수 있습니다. 이 모양은 직각을 나타내는 데 자주 사용됩니다.\n",
      "3. **도형과의 관계:** 직각은 사각형, 직사각형, 정사각형 등 다양한 도형의 모서리에서 발견됩니다. 특히, 직사각형이나 정사각형은 네 개의 Right Angle을 가지고 있습니다.\n",
      "4. **삼각형과의 연관성:** 직각삼각형은 한 내각이 정확히 Right Angle인 삼각형을 의미합니다. 이 삼각형은 세 변의 길이 관계를 통해 피타고라스 정리를 적용할 수 있습니다.\n",
      "\n",
      "이러한 성질들로 인해 Right Angle은 수학에서 매우 중요한 개념으로 자리잡고 있습니다!\n"
     ]
    },
    {
     "data": {
      "image/svg+xml": [
       "<svg xmlns=\"http://www.w3.org/2000/svg\" width=\"500\" height=\"500\">\n",
       "    <text x=\"250\" y=\"50\" font-size=\"25\" text-anchor=\"middle\">직각</text>\n",
       "    <!-- 기준선 -->\n",
       "    <line x1=\"125\" y1=\"400\" x2=\"458\" y2=\"400\" stroke=\"black\" stroke-width=\"2\"/>\n",
       "    <!-- 기울어진 선 -->\n",
       "    <line x1=\"125\" y1=\"400\" x2=\"125\" y2=\"67\" stroke=\"black\" stroke-width=\"2\"/>\n",
       "    <!-- 직각 보조선 -->\n",
       "    <line x1=\"175\" y1=\"400\" x2=\"175\" y2=\"350\" stroke=\"black\" stroke-width=\"2\"/>\n",
       "    <line x1=\"125\" y1=\"350\" x2=\"175\" y2=\"350\" stroke=\"black\" stroke-width=\"2\"/>\n",
       "    </svg>"
      ],
      "text/plain": [
       "<IPython.core.display.SVG object>"
      ]
     },
     "metadata": {},
     "output_type": "display_data"
    },
    {
     "name": "stdout",
     "output_type": "stream",
     "text": [
      "====================================================================================================\n",
      "요청한 문장: 밑변이 3이고, 높이가 4인 직각삼각형 하나를 그려줘\n",
      "추출된 개념: Right Triangle\n",
      "추출된 인자: {'base': 3, 'height': 4}\n",
      "\n",
      "생성된 코드:\n",
      " <svg width=\"500\" height=\"500\" xmlns=\"http://www.w3.org/2000/svg\">\n",
      "    <text x=\"250\" y=\"50\" font-size=\"25\" text-anchor=\"middle\">직각삼각형</text>\n",
      "    <!-- 직각삼각형 -->\n",
      "    <line x1=\"83\" y1=\"416\" x2=\"308\" y2=\"416\" stroke=\"black\" stroke-width=\"2\" />\n",
      "    <line x1=\"308\" y1=\"416\" x2=\"308\" y2=\"166\" stroke=\"black\" stroke-width=\"2\" />\n",
      "    <line x1=\"83\" y1=\"416\" x2=\"308\" y2=\"166\" stroke=\"black\" stroke-width=\"2\" />\n",
      "    <!-- 직각 보조선 -->\n",
      "    <line x1=\"286\" y1=\"416\" x2=\"286\" y2=\"394\" stroke=\"black\" stroke-width=\"2\" />\n",
      "    <line x1=\"286\" y1=\"394\" x2=\"308\" y2=\"394\" stroke=\"black\" stroke-width=\"2\" />\n",
      "    </svg>\n",
      "    \n",
      "\n",
      "생성된 설명:\n",
      " ### Right Triangle\n",
      "\n",
      "**정의:**\n",
      "A right triangle is a special type of triangle that has one angle which measures exactly 90 degrees (a right angle). This unique angle distinguishes it from other triangles where all angles are less than 90 degrees.\n",
      "\n",
      "**기본 성질:**\n",
      "1. **한 각이 직각:** 가장 중요한 특징은 한 꼭짓점에서 직각(90°)을 이루는 것입니다.\n",
      "2. **직각을 중심으로 두 개의 다른 각:** 나머지 두 각은 합쳐 90도가 됩니다. 따라서 이 두 각은 서로 보완각(complementary angles)입니다.\n",
      "3. **피타고라스 정리 적용 가능:** 직각 삼각형에서는 가장 긴 변을 빗변(hypotenuse)이라고 부르며, 이 빗변의 길이는 다른 두 변(직각을 이루는 두 변을 밑변과 높이라고도 부릅니다)의 길이와 특별한 관계를 가집니다. 이 관계는 피타고라스 정리로 표현되는데, 수학적으로는 \\(a^2 + b^2 = c^2\\) 입니다 (여기서 \\(c\\)는 빗변의 길이이고, \\(a\\)와 \\(b\\)는 다른 두 변의 길이입니다). 하지만 문제 해결을 위해 직접적인 공식보다는 이 관계를 이해하는 것이 중요합니다.\n",
      "4. **삼각형의 종류:** 직각 삼각형은 그 각도에 따라 다양한 종류로 나눌 수 있습니다. 예를 들어, 모든 변의 길이가 정수인 직각 삼각형을 피타고라스 삼각형이라고 부르기도 합니다.\n",
      "\n",
      "이런 특징들로 인해 직각 삼각형은 건축, 공학, 그리고 다양한 실생활 문제 해결에서 매우 중요한 역할을 합니다!\n",
      "\n",
      "생성된 공식 raw:\n",
      " {'perimeter': '밑변 + 높이 + 빗변', 'area': '밑변 × 높이 ÷ 2'}\n"
     ]
    },
    {
     "data": {
      "text/latex": [
       "$\\displaystyle 밑변 + 높이 + 빗변$"
      ],
      "text/plain": [
       "<IPython.core.display.Math object>"
      ]
     },
     "metadata": {},
     "output_type": "display_data"
    },
    {
     "data": {
      "text/latex": [
       "$\\displaystyle 밑변 × 높이 ÷ 2$"
      ],
      "text/plain": [
       "<IPython.core.display.Math object>"
      ]
     },
     "metadata": {},
     "output_type": "display_data"
    },
    {
     "data": {
      "image/svg+xml": [
       "<svg xmlns=\"http://www.w3.org/2000/svg\" width=\"500\" height=\"500\">\n",
       "    <text x=\"250\" y=\"50\" font-size=\"25\" text-anchor=\"middle\">직각삼각형</text>\n",
       "    <!-- 직각삼각형 -->\n",
       "    <line x1=\"83\" y1=\"416\" x2=\"308\" y2=\"416\" stroke=\"black\" stroke-width=\"2\"/>\n",
       "    <line x1=\"308\" y1=\"416\" x2=\"308\" y2=\"166\" stroke=\"black\" stroke-width=\"2\"/>\n",
       "    <line x1=\"83\" y1=\"416\" x2=\"308\" y2=\"166\" stroke=\"black\" stroke-width=\"2\"/>\n",
       "    <!-- 직각 보조선 -->\n",
       "    <line x1=\"286\" y1=\"416\" x2=\"286\" y2=\"394\" stroke=\"black\" stroke-width=\"2\"/>\n",
       "    <line x1=\"286\" y1=\"394\" x2=\"308\" y2=\"394\" stroke=\"black\" stroke-width=\"2\"/>\n",
       "    </svg>"
      ],
      "text/plain": [
       "<IPython.core.display.SVG object>"
      ]
     },
     "metadata": {},
     "output_type": "display_data"
    },
    {
     "name": "stdout",
     "output_type": "stream",
     "text": [
      "====================================================================================================\n",
      "요청한 문장: 가로가 5, 세로가 3인 직사각형의 넓이\n",
      "추출된 개념: Rectangle\n",
      "추출된 인자: {'width': 5, 'height': 3}\n",
      "\n",
      "생성된 코드:\n",
      " <svg width=\"500\" height=\"312\" xmlns=\"http://www.w3.org/2000/svg\">\n",
      "    <text x=\"250\" y=\"50\" font-size=\"25\" text-anchor=\"middle\">직사각형</text>\n",
      "    <rect x=\"100\" y=\"100\" width=\"250\" height=\"150\" stroke=\"black\" stroke-width=\"2\" fill=\"none\" />\n",
      "    </svg>\n",
      "\n",
      "생성된 설명:\n",
      " ### Rectangle 설명\n",
      "\n",
      "**정의:**\n",
      "사각형은 네 개의 직선으로 둘러싸인 평면 도형으로, 각 내각이 직각(90도)인 특징을 가지고 있습니다. 즉, 사각형의 네 모서리는 모두 직각을 이루며, 대변이 평행하고 길이가 같은 특성을 갖습니다.\n",
      "\n",
      "**기본 성질:**\n",
      "1. **대변의 길이가 같음:** 사각형의 두 쌍의 대변은 길이가 동일합니다. 예를 들어, 가로와 세로가 같은 길이를 가집니다.\n",
      "2. **대각선이 서로 같음:** 사각형의 두 대각선은 길이가 같습니다. 즉, 사각형을 두 개의 동일한 삼각형으로 나눌 수 있습니다.\n",
      "3. **내각의 합:** 사각형의 네 내각의 합은 항상 360도입니다.\n",
      "4. **변의 배열:** 사각형은 여러 가지 형태로 배열될 수 있습니다. 예를 들어, 직사각형은 가로와 세로가 각각 다른 길이를 가질 수 있으며, 정사각형은 모든 변의 길이가 같고 모든 내각이 직각인 특별한 형태의 사각형입니다.\n",
      "\n",
      "이러한 성질들로 인해 사각형은 우리 일상생활에서 매우 흔하게 볼 수 있는 도형입니다!\n",
      "\n",
      "생성된 공식 raw:\n",
      " {'perimeter': '2 × (밑변 + 높이)', 'area': '밑변 × 높이'}\n"
     ]
    },
    {
     "data": {
      "text/latex": [
       "$\\displaystyle 2 × (밑변 + 높이)$"
      ],
      "text/plain": [
       "<IPython.core.display.Math object>"
      ]
     },
     "metadata": {},
     "output_type": "display_data"
    },
    {
     "data": {
      "text/latex": [
       "$\\displaystyle 밑변 × 높이$"
      ],
      "text/plain": [
       "<IPython.core.display.Math object>"
      ]
     },
     "metadata": {},
     "output_type": "display_data"
    },
    {
     "data": {
      "image/svg+xml": [
       "<svg xmlns=\"http://www.w3.org/2000/svg\" width=\"500\" height=\"312\">\n",
       "    <text x=\"250\" y=\"50\" font-size=\"25\" text-anchor=\"middle\">직사각형</text>\n",
       "    <rect x=\"100\" y=\"100\" width=\"250\" height=\"150\" stroke=\"black\" stroke-width=\"2\" fill=\"none\"/>\n",
       "    </svg>"
      ],
      "text/plain": [
       "<IPython.core.display.SVG object>"
      ]
     },
     "metadata": {},
     "output_type": "display_data"
    },
    {
     "name": "stdout",
     "output_type": "stream",
     "text": [
      "====================================================================================================\n",
      "요청한 문장: 한 변의 길이가 2인 정사각형 하나를 그려줘\n",
      "추출된 개념: Square\n",
      "추출된 인자: {'length': 2}\n",
      "\n",
      "생성된 코드:\n",
      " <svg width=\"500\" height=\"500\" xmlns=\"http://www.w3.org/2000/svg\">\n",
      "    <text x=\"250\" y=\"50\" font-size=\"25\" text-anchor=\"middle\">정사각형</text>\n",
      "    <rect x=\"100\" y=\"100\" width=\"200\" height=\"200\" stroke=\"black\" stroke-width=\"2\" fill=\"none\" />\n",
      "    </svg>\n",
      "\n",
      "생성된 설명:\n",
      " ### Square\n",
      "\n",
      "**정의:**\n",
      "사각형은 네 개의 변으로 이루어진 평면 도형입니다. 모든 내각이 직각(90도)이며, 반대편의 변들이 길이가 같아서 마주보는 두 변은 평행하고 길이가 동일합니다.\n",
      "\n",
      "**기본 성질:**\n",
      "1. **대변의 길이 동일:** 사각형의 마주보는 두 변은 길이가 같습니다. 예를 들어, 정사각형이나 직사각형에서는 모든 대변이 같은 길이를 가집니다.\n",
      "2. **대각선의 성질:** 사각형의 대각선은 서로를 반으로 나눕니다. 즉, 대각선이 만나는 점에서 대각선을 잇는 선분들은 서로를 절반으로 나눕니다.\n",
      "3. **변의 합:** 사각형의 네 변의 길이를 모두 더하면, 그 합은 사각형의 둘레를 나타냅니다. 예를 들어, 한 변의 길이가 \\(a\\)이고 다른 변의 길이가 \\(b\\)라면, 둘레는 \\(a + b + a + b = 2(a + b)\\)가 됩니다.\n",
      "4. **정사각형의 특징:** 정사각형은 모든 변의 길이가 같고 모든 내각이 직각인 특별한 사각형입니다. 모든 대각선도 길이가 같고 서로를 직각으로 이룹니다.\n",
      "\n",
      "이러한 성질들로 인해 사각형은 다양한 형태와 크기로 존재하며, 건축, 디자인, 그리고 일상생활에서 자주 볼 수 있는 도형입니다!\n",
      "\n",
      "생성된 공식 raw:\n",
      " {'perimeter': '4 \\\\times \\\\mathrm{한 변의 길이}', 'area': '\\\\mathrm{한 변의 길이} \\\\times \\\\mathrm{한 변의 길이}'}\n"
     ]
    },
    {
     "data": {
      "text/latex": [
       "$\\displaystyle 4 \\times \\mathrm{한 변의 길이}$"
      ],
      "text/plain": [
       "<IPython.core.display.Math object>"
      ]
     },
     "metadata": {},
     "output_type": "display_data"
    },
    {
     "data": {
      "text/latex": [
       "$\\displaystyle \\mathrm{한 변의 길이} \\times \\mathrm{한 변의 길이}$"
      ],
      "text/plain": [
       "<IPython.core.display.Math object>"
      ]
     },
     "metadata": {},
     "output_type": "display_data"
    },
    {
     "data": {
      "image/svg+xml": [
       "<svg xmlns=\"http://www.w3.org/2000/svg\" width=\"500\" height=\"500\">\n",
       "    <text x=\"250\" y=\"50\" font-size=\"25\" text-anchor=\"middle\">정사각형</text>\n",
       "    <rect x=\"100\" y=\"100\" width=\"200\" height=\"200\" stroke=\"black\" stroke-width=\"2\" fill=\"none\"/>\n",
       "    </svg>"
      ],
      "text/plain": [
       "<IPython.core.display.SVG object>"
      ]
     },
     "metadata": {},
     "output_type": "display_data"
    },
    {
     "name": "stdout",
     "output_type": "stream",
     "text": [
      "====================================================================================================\n",
      "요청한 문장: 곧은선이 뭐야?\n",
      "추출된 개념: 직선\n",
      "추출된 인자: {}\n",
      "\n",
      "생성된 코드:\n",
      " <svg width=\"500\" height=\"500\" xmlns=\"http://www.w3.org/2000/svg\">\n",
      "    <text x=\"250\" y=\"25\" font-size=\"25\" text-anchor=\"middle\">곧은선</text>\n",
      "    <text x=\"250\" y=\"75\" font-size=\"25\" text-anchor=\"middle\">선분</text>\n",
      "    <!-- 선분 -->\n",
      "    <circle cx=\"125\" cy=\"125\" r=\"1\" stroke=\"black\" stroke-width=\"2\" fill=\"black\" />\n",
      "    <circle cx=\"375\" cy=\"125\" r=\"1\" stroke=\"black\" stroke-width=\"2\" fill=\"black\" />\n",
      "    <line x1=\"125\" y1=\"125\" x2=\"375\" y2=\"125\" stroke=\"black\" stroke-width=\"2\" />\n",
      "    <!-- 반직선 -->\n",
      "    <text x=\"250\" y=\"175\" font-size=\"25\" text-anchor=\"middle\">반직선</text>\n",
      "    <circle cx=\"125\" cy=\"250\" r=\"1\" stroke=\"black\" stroke-width=\"2\" fill=\"black\" />\n",
      "    <circle cx=\"375\" cy=\"250\" r=\"1\" stroke=\"black\" stroke-width=\"2\" fill=\"black\" />\n",
      "    <line x1=\"125\" y1=\"250\" x2=\"500\" y2=\"250\" stroke=\"black\" stroke-width=\"2\" />\n",
      "    <!-- 직선 -->\n",
      "    <text x=\"250\" y=\"300\" font-size=\"25\" text-anchor=\"middle\">직선</text>\n",
      "    <circle cx=\"125\" cy=\"375\" r=\"1\" stroke=\"black\" stroke-width=\"2\" fill=\"black\" />\n",
      "    <circle cx=\"375\" cy=\"375\" r=\"1\" stroke=\"black\" stroke-width=\"2\" fill=\"black\" />\n",
      "    <line x1=\"0\" y1=\"375\" x2=\"500\" y2=\"375\" stroke=\"black\" stroke-width=\"2\" />\n",
      "    </svg>\n",
      "    \n",
      "\n",
      "생성된 설명:\n",
      " ### 직선에 대한 설명\n",
      "\n",
      "#### 정의\n",
      "직선은 평면 위에서 가장 짧은 거리로 두 점을 연결하는 선을 말합니다. 이 선은 양쪽으로 무한히 계속되며, 방향이 항상 일정합니다. 직선 위의 모든 점들은 서로 평행하게 연결되어 있어, 어떤 방향으로든 뻗어나갈 수 있습니다.\n",
      "\n",
      "#### 기본 성질\n",
      "1. **무한한 길이**: 직선은 양쪽으로 무한히 이어집니다. 즉, 시작점에서 끝점까지의 거리가 아무리 길어도 계속해서 뻗어나갈 수 있습니다.\n",
      "2. **평행한 선들**: 같은 방향으로 무한히 뻗어나가는 두 직선은 서로 평행합니다. 반대로, 서로 다른 방향으로 무한히 뻗어나가는 두 직선은 교차하지 않습니다.\n",
      "3. **직선 위의 점들**: 직선 위의 모든 점들은 서로 연결되어 있어, 어떤 두 점을 잇는 선분은 항상 직선의 일부분입니다.\n",
      "4. **직선의 대칭성**: 직선을 기준으로 대칭인 두 부분은 서로 완전히 일치합니다. 예를 들어, 한 점을 기준으로 대칭인 두 점은 직선 양쪽에 동일한 거리에 위치합니다.\n",
      "\n",
      "이러한 성질들로 인해 직선은 기하학에서 매우 중요한 개념으로 사용됩니다!\n"
     ]
    },
    {
     "data": {
      "image/svg+xml": [
       "<svg xmlns=\"http://www.w3.org/2000/svg\" width=\"500\" height=\"500\">\n",
       "    <text x=\"250\" y=\"25\" font-size=\"25\" text-anchor=\"middle\">곧은선</text>\n",
       "    <text x=\"250\" y=\"75\" font-size=\"25\" text-anchor=\"middle\">선분</text>\n",
       "    <!-- 선분 -->\n",
       "    <circle cx=\"125\" cy=\"125\" r=\"1\" stroke=\"black\" stroke-width=\"2\" fill=\"black\"/>\n",
       "    <circle cx=\"375\" cy=\"125\" r=\"1\" stroke=\"black\" stroke-width=\"2\" fill=\"black\"/>\n",
       "    <line x1=\"125\" y1=\"125\" x2=\"375\" y2=\"125\" stroke=\"black\" stroke-width=\"2\"/>\n",
       "    <!-- 반직선 -->\n",
       "    <text x=\"250\" y=\"175\" font-size=\"25\" text-anchor=\"middle\">반직선</text>\n",
       "    <circle cx=\"125\" cy=\"250\" r=\"1\" stroke=\"black\" stroke-width=\"2\" fill=\"black\"/>\n",
       "    <circle cx=\"375\" cy=\"250\" r=\"1\" stroke=\"black\" stroke-width=\"2\" fill=\"black\"/>\n",
       "    <line x1=\"125\" y1=\"250\" x2=\"500\" y2=\"250\" stroke=\"black\" stroke-width=\"2\"/>\n",
       "    <!-- 직선 -->\n",
       "    <text x=\"250\" y=\"300\" font-size=\"25\" text-anchor=\"middle\">직선</text>\n",
       "    <circle cx=\"125\" cy=\"375\" r=\"1\" stroke=\"black\" stroke-width=\"2\" fill=\"black\"/>\n",
       "    <circle cx=\"375\" cy=\"375\" r=\"1\" stroke=\"black\" stroke-width=\"2\" fill=\"black\"/>\n",
       "    <line x1=\"0\" y1=\"375\" x2=\"500\" y2=\"375\" stroke=\"black\" stroke-width=\"2\"/>\n",
       "    </svg>"
      ],
      "text/plain": [
       "<IPython.core.display.SVG object>"
      ]
     },
     "metadata": {},
     "output_type": "display_data"
    },
    {
     "name": "stdout",
     "output_type": "stream",
     "text": [
      "====================================================================================================\n",
      "요청한 문장: 대표적인 굽은선을 그려줘\n",
      "추출된 개념: 곡선\n",
      "추출된 인자: {'type': '타원', 'description': '타원은 가장 대표적인 굽은선의 한 종류로, 두 초점 사이의 거리의 합이 일정한 점들의 집합으로 정의됩니다.'}\n",
      "\n",
      "생성된 코드:\n",
      " \n",
      "    <svg width=\"500\" height=\"500\" xmlns=\"http://www.w3.org/2000/svg\">\n",
      "    <text x=\"250\" y=\"50\" font-size=\"25\" text-anchor=\"middle\">굽은선</text>\n",
      "    <!-- 복잡한 S자 곡선 (두 개의 Cubic Bézier) -->\n",
      "    <path d=\"M 100,400\n",
      "    C 100,100 400,100 400,250\n",
      "    C 400,400 100,400 100,100\"\n",
      "    stroke=\"black\" fill=\"none\" stroke-width=\"2\"/>\n",
      "    </svg>\n",
      "    \n",
      "\n",
      "생성된 설명:\n",
      " ### 곡선에 대한 설명\n",
      "\n",
      "**정의:**\n",
      "곡선은 직선이 아닌, 연속적으로 이어지는 점들의 모임으로 이루어진 도형입니다. 쉽게 말해, 직선처럼 일정한 방향으로만 움직이는 것이 아니라, 부드럽게 휘어지거나 굽어지는 형태를 가진 선을 말합니다.\n",
      "\n",
      "**기본 성질:**\n",
      "1. **연속성:** 곡선 위의 모든 점들은 부드럽게 이어져 있어, 어떤 작은 구간에서도 끊어지지 않고 이어집니다.\n",
      "2. **길이:** 곡선의 길이는 그 곡선을 따라 측정한 총 거리입니다. 이 길이는 곡선의 모양에 따라 달라집니다. 예를 들어, 원의 둘레는 반지름에 따라 결정되며, 이는 곡선의 길이를 정확히 계산하는 방법 중 하나입니다.\n",
      "3. **곡률:** 곡선이 얼마나 빠르게 방향을 바꾸는지를 나타내는 값입니다. 곡률이 크면 곡선이 더 급하게 굽어지고, 작으면 더 부드럽게 굽어집니다. 예를 들어, 원의 경우 모든 점에서 곡률이 일정합니다.\n",
      "4. **접선:** 곡선 위의 어떤 점에서 그 점을 지나는 가장 가까운 직선을 접선이라고 합니다. 이 접선은 그 점에서 곡선의 방향을 가장 잘 나타냅니다.\n",
      "\n",
      "이러한 성질들 덕분에 곡선은 자연 현상이나 공학적 설계 등 다양한 분야에서 중요한 역할을 합니다.\n"
     ]
    },
    {
     "data": {
      "image/svg+xml": [
       "<svg xmlns=\"http://www.w3.org/2000/svg\" width=\"500\" height=\"500\">\n",
       "    <text x=\"250\" y=\"50\" font-size=\"25\" text-anchor=\"middle\">굽은선</text>\n",
       "    <!-- 복잡한 S자 곡선 (두 개의 Cubic Bézier) -->\n",
       "    <path d=\"M 100,400     C 100,100 400,100 400,250     C 400,400 100,400 100,100\" stroke=\"black\" fill=\"none\" stroke-width=\"2\"/>\n",
       "    </svg>"
      ],
      "text/plain": [
       "<IPython.core.display.SVG object>"
      ]
     },
     "metadata": {},
     "output_type": "display_data"
    },
    {
     "name": "stdout",
     "output_type": "stream",
     "text": [
      "====================================================================================================\n",
      "요청한 문장: 중심이 (0,0)이고 반지름이 2인 원을 그려주세요.\n",
      "추출된 개념: Circle\n",
      "추출된 인자: {'radius': 2}\n",
      "\n",
      "생성된 코드:\n",
      " <svg width=\"500\" height=\"500\" xmlns=\"http://www.w3.org/2000/svg\">\n",
      "    <text x=\"250\" y=\"50\" font-size=\"25\" text-anchor=\"middle\">원</text>\n",
      "    <circle cx=\"250\" cy=\"250\" r=\"100\" stroke=\"black\" stroke-width=\"2\" fill=\"none\" />\n",
      "    <circle cx=\"250\" cy=\"250\" r=\"1\" stroke=\"black\" stroke-width=\"2\" fill=\"black\" />\n",
      "    <line x1=\"250\" y1=\"250\" x2=\"350\" y2=\"250\" stroke=\"black\" stroke-width=\"2\" />\n",
      "    </svg>\n",
      "    \n",
      "\n",
      "생성된 설명:\n",
      " ### Circle (원)\n",
      "\n",
      "#### 정의:\n",
      "원은 평면 위에서 한 점(중심)으로부터 일정한 거리(반지름)에 있는 모든 점들의 집합을 말합니다. 이 중심점을 기준으로 원 위의 모든 점들은 동일한 거리에 위치해 있습니다.\n",
      "\n",
      "#### 기본 성질:\n",
      "1. **둘레와 지름**: 원의 둘레는 지름에 π(약 3.14)를 곱한 값입니다. 즉, 둘레 = 지름 × π 입니다. 반대로 지름은 둘레를 π로 나누면 구할 수 있습니다.\n",
      "   \n",
      "2. **면적**: 원의 면적은 반지름의 제곱에 π를 곱한 값입니다. 공식으로 표현하면 면적 = π × 반지름2 입니다.\n",
      "\n",
      "3. **대칭성**: 원은 중심을 기준으로 완벽하게 대칭입니다. 즉, 중심을 지나는 어떤 직선을 기준으로 원을 접어도 양쪽이 완전히 일치합니다.\n",
      "\n",
      "4. **원주각과 호의 관계**: 원 위의 두 점을 잇는 호의 중앙각은 그 호에 대응하는 원주각의 두 배입니다. 예를 들어, 호의 중앙각이 θ라면 원주각은 θ/2가 됩니다.\n",
      "\n",
      "이러한 성질들로 인해 원은 기하학에서 매우 중요한 역할을 합니다. 다양한 도형과 문제 해결에 활용되며, 일상생활에서도 자주 접하게 되는 개념입니다.\n",
      "\n",
      "생성된 공식 raw:\n",
      " {'perimeter': '2 \\\\times 3.14 \\\\times 반지름', 'area': '3.14 \\\\times 반지름 \\\\times 반지름'}\n"
     ]
    },
    {
     "data": {
      "text/latex": [
       "$\\displaystyle 2 \\times 3.14 \\times 반지름$"
      ],
      "text/plain": [
       "<IPython.core.display.Math object>"
      ]
     },
     "metadata": {},
     "output_type": "display_data"
    },
    {
     "data": {
      "text/latex": [
       "$\\displaystyle 3.14 \\times 반지름 \\times 반지름$"
      ],
      "text/plain": [
       "<IPython.core.display.Math object>"
      ]
     },
     "metadata": {},
     "output_type": "display_data"
    },
    {
     "data": {
      "image/svg+xml": [
       "<svg xmlns=\"http://www.w3.org/2000/svg\" width=\"500\" height=\"500\">\n",
       "    <text x=\"250\" y=\"50\" font-size=\"25\" text-anchor=\"middle\">원</text>\n",
       "    <circle cx=\"250\" cy=\"250\" r=\"100\" stroke=\"black\" stroke-width=\"2\" fill=\"none\"/>\n",
       "    <circle cx=\"250\" cy=\"250\" r=\"1\" stroke=\"black\" stroke-width=\"2\" fill=\"black\"/>\n",
       "    <line x1=\"250\" y1=\"250\" x2=\"350\" y2=\"250\" stroke=\"black\" stroke-width=\"2\"/>\n",
       "    </svg>"
      ],
      "text/plain": [
       "<IPython.core.display.SVG object>"
      ]
     },
     "metadata": {},
     "output_type": "display_data"
    },
    {
     "name": "stdout",
     "output_type": "stream",
     "text": [
      "====================================================================================================\n",
      "요청한 문장: 37° 각도를 그려줘\n",
      "추출된 개념: 각도\n",
      "추출된 인자: {'size': 37}\n",
      "\n",
      "생성된 코드:\n",
      " <svg width=\"500\" height=\"375\" xmlns=\"http://www.w3.org/2000/svg\">\n",
      "    <text x=\"250\" y=\"50\" font-size=\"25\" text-anchor=\"middle\">각</text>\n",
      "    <!-- 기준선 -->\n",
      "    <line x1=\"125\" y1=\"333\" x2=\"375\" y2=\"333\" stroke=\"black\" stroke-width=\"2\" />\n",
      "    <!-- 기울어진 선 -->\n",
      "    <line x1=\"125\" y1=\"333\" x2=\"324.6588775118232\" y2=\"182.54624421198793\" stroke=\"black\" stroke-width=\"2\" />\n",
      "    <!-- 각도 호 -->\n",
      "    <path d=\"M 164.93177550236464,302.9092488423976 A 50,50 0 0,1 175,333\" stroke=\"black\" stroke-width=\"2\" fill=\"none\"/>\n",
      "    </svg>\n",
      "    \n",
      "\n",
      "생성된 설명:\n",
      " ### 각도에 대한 설명\n",
      "\n",
      "**정의:**\n",
      "각도는 두 직선이나 선분이 만나서 생기는 공간의 크기를 측정하는 방법입니다. 우리가 일상에서 자주 접하는 각도는 주로 도로 표지판에서 볼 수 있는 방향 지시나, 그림에서 선들이 만나는 부분을 표현할 때 사용됩니다.\n",
      "\n",
      "**기본 성질:**\n",
      "1. **직선의 각도:** 직선은 정확히 180도의 각도를 가집니다. 직선은 두 방향으로 무한히 이어지는 것처럼 보이지만, 실제로는 시작점과 끝점이 있습니다.\n",
      "   \n",
      "2. **직각 각도:** 직각은 90도를 의미합니다. 이는 우리가 흔히 사용하는 'L'자 모양의 모서리나 사각형의 모서리에서 볼 수 있습니다. 직각은 두 직선이 서로 수직으로 만나는 경우에 생깁니다.\n",
      "\n",
      "3. **평행선과 각도:** 평행한 두 직선은 만나지 않기 때문에, 그들 사이의 각도는 항상 같습니다. 예를 들어, 두 평행선 위에 그려진 삼각형의 한 각은 다른 각과 크기가 동일합니다.\n",
      "\n",
      "4. **복합 각도:** 여러 각도를 합쳐서 더 큰 각도를 만들 수 있습니다. 예를 들어, 두 개의 직각 각도를 합치면 180도가 됩니다.\n",
      "\n",
      "이러한 기본적인 개념들을 이해하면 각도에 대한 다양한 문제를 풀 때 도움이 될 것입니다!\n"
     ]
    },
    {
     "data": {
      "image/svg+xml": [
       "<svg xmlns=\"http://www.w3.org/2000/svg\" width=\"500\" height=\"375\">\n",
       "    <text x=\"250\" y=\"50\" font-size=\"25\" text-anchor=\"middle\">각</text>\n",
       "    <!-- 기준선 -->\n",
       "    <line x1=\"125\" y1=\"333\" x2=\"375\" y2=\"333\" stroke=\"black\" stroke-width=\"2\"/>\n",
       "    <!-- 기울어진 선 -->\n",
       "    <line x1=\"125\" y1=\"333\" x2=\"324.6588775118232\" y2=\"182.54624421198793\" stroke=\"black\" stroke-width=\"2\"/>\n",
       "    <!-- 각도 호 -->\n",
       "    <path d=\"M 164.93177550236464,302.9092488423976 A 50,50 0 0,1 175,333\" stroke=\"black\" stroke-width=\"2\" fill=\"none\"/>\n",
       "    </svg>"
      ],
      "text/plain": [
       "<IPython.core.display.SVG object>"
      ]
     },
     "metadata": {},
     "output_type": "display_data"
    },
    {
     "name": "stdout",
     "output_type": "stream",
     "text": [
      "====================================================================================================\n",
      "요청한 문장: 직각을 표현해줘\n",
      "추출된 개념: Right Angle\n",
      "추출된 인자: {}\n",
      "\n",
      "생성된 코드:\n",
      " <svg width=\"500\" height=\"500\" xmlns=\"http://www.w3.org/2000/svg\">\n",
      "    <text x=\"250\" y=\"50\" font-size=\"25\" text-anchor=\"middle\">직각</text>\n",
      "    <!-- 기준선 -->\n",
      "    <line x1=\"125\" y1=\"400\" x2=\"458\" y2=\"400\" stroke=\"black\" stroke-width=\"2\" />\n",
      "    <!-- 기울어진 선 -->\n",
      "    <line x1=\"125\" y1=\"400\" x2=\"125\" y2=\"67\" stroke=\"black\" stroke-width=\"2\" />\n",
      "    <!-- 직각 보조선 -->\n",
      "    <line x1=\"175\" y1=\"400\" x2=\"175\" y2=\"350\" stroke=\"black\" stroke-width=\"2\" />\n",
      "    <line x1=\"125\" y1=\"350\" x2=\"175\" y2=\"350\" stroke=\"black\" stroke-width=\"2\" />\n",
      "    </svg>\n",
      "    \n",
      "\n",
      "생성된 설명:\n",
      " ### Right Angle\n",
      "\n",
      "**정의:**\n",
      "Right Angle은 기하학에서 가장 기본적인 각도 중 하나로, 정확히 90도를 이루는 각도를 말합니다. 이 각도는 직각이라고도 불리며, 직선이나 특정 도형의 모서리에서 만나는 두 변이 서로 수직으로 만나는 경우에 나타납니다.\n",
      "\n",
      "**기본 성질:**\n",
      "1. **크기:** Right Angle은 항상 정확히 90도입니다. 이는 모든 Right Angle이 동일한 크기를 가짐을 의미합니다.\n",
      "2. **모양:** Right Angle은 보통 'L' 모양으로 쉽게 인식할 수 있습니다. 이 모양은 직각을 나타내는 데 자주 사용됩니다.\n",
      "3. **도형과의 관계:** 직각은 사각형, 직사각형, 정사각형 등 다양한 도형의 모서리에서 발견됩니다. 특히, 직사각형이나 정사각형은 네 개의 Right Angle을 가지고 있습니다.\n",
      "4. **삼각형과의 연관성:** 직각삼각형은 한 내각이 정확히 Right Angle인 삼각형을 의미합니다. 이 삼각형은 세 변의 길이 관계를 통해 피타고라스 정리를 적용할 수 있습니다.\n",
      "\n",
      "이러한 성질들로 인해 Right Angle은 수학에서 매우 중요한 개념으로 자리잡고 있습니다!\n"
     ]
    },
    {
     "data": {
      "image/svg+xml": [
       "<svg xmlns=\"http://www.w3.org/2000/svg\" width=\"500\" height=\"500\">\n",
       "    <text x=\"250\" y=\"50\" font-size=\"25\" text-anchor=\"middle\">직각</text>\n",
       "    <!-- 기준선 -->\n",
       "    <line x1=\"125\" y1=\"400\" x2=\"458\" y2=\"400\" stroke=\"black\" stroke-width=\"2\"/>\n",
       "    <!-- 기울어진 선 -->\n",
       "    <line x1=\"125\" y1=\"400\" x2=\"125\" y2=\"67\" stroke=\"black\" stroke-width=\"2\"/>\n",
       "    <!-- 직각 보조선 -->\n",
       "    <line x1=\"175\" y1=\"400\" x2=\"175\" y2=\"350\" stroke=\"black\" stroke-width=\"2\"/>\n",
       "    <line x1=\"125\" y1=\"350\" x2=\"175\" y2=\"350\" stroke=\"black\" stroke-width=\"2\"/>\n",
       "    </svg>"
      ],
      "text/plain": [
       "<IPython.core.display.SVG object>"
      ]
     },
     "metadata": {},
     "output_type": "display_data"
    },
    {
     "name": "stdout",
     "output_type": "stream",
     "text": [
      "====================================================================================================\n",
      "요청한 문장: 밑변이 3이고, 높이가 4인 직각삼각형 하나를 그려줘\n",
      "추출된 개념: Right Triangle\n",
      "추출된 인자: {'base': 3, 'height': 4}\n",
      "\n",
      "생성된 코드:\n",
      " <svg width=\"500\" height=\"500\" xmlns=\"http://www.w3.org/2000/svg\">\n",
      "    <text x=\"250\" y=\"50\" font-size=\"25\" text-anchor=\"middle\">직각삼각형</text>\n",
      "    <!-- 직각삼각형 -->\n",
      "    <line x1=\"83\" y1=\"416\" x2=\"308\" y2=\"416\" stroke=\"black\" stroke-width=\"2\" />\n",
      "    <line x1=\"308\" y1=\"416\" x2=\"308\" y2=\"166\" stroke=\"black\" stroke-width=\"2\" />\n",
      "    <line x1=\"83\" y1=\"416\" x2=\"308\" y2=\"166\" stroke=\"black\" stroke-width=\"2\" />\n",
      "    <!-- 직각 보조선 -->\n",
      "    <line x1=\"286\" y1=\"416\" x2=\"286\" y2=\"394\" stroke=\"black\" stroke-width=\"2\" />\n",
      "    <line x1=\"286\" y1=\"394\" x2=\"308\" y2=\"394\" stroke=\"black\" stroke-width=\"2\" />\n",
      "    </svg>\n",
      "    \n",
      "\n",
      "생성된 설명:\n",
      " ### Right Triangle\n",
      "\n",
      "**정의:**\n",
      "A right triangle is a special type of triangle that has one angle which measures exactly 90 degrees (a right angle). This unique angle distinguishes it from other triangles where all angles are less than 90 degrees.\n",
      "\n",
      "**기본 성질:**\n",
      "1. **한 각이 직각:** 가장 중요한 특징은 한 꼭짓점에서 직각(90°)을 이루는 것입니다.\n",
      "2. **직각을 중심으로 두 개의 다른 각:** 나머지 두 각은 합쳐 90도가 됩니다. 따라서 이 두 각은 서로 보완각(complementary angles)입니다.\n",
      "3. **피타고라스 정리 적용 가능:** 직각 삼각형에서는 가장 긴 변을 빗변(hypotenuse)이라고 부르며, 이 빗변의 길이는 다른 두 변(직각을 이루는 두 변을 밑변과 높이라고도 부릅니다)의 길이와 특별한 관계를 가집니다. 이 관계는 피타고라스 정리로 표현되는데, 수학적으로는 \\(a^2 + b^2 = c^2\\) 입니다 (여기서 \\(c\\)는 빗변의 길이이고, \\(a\\)와 \\(b\\)는 다른 두 변의 길이입니다). 하지만 문제 해결을 위해 직접적인 공식보다는 이 관계를 이해하는 것이 중요합니다.\n",
      "4. **삼각형의 종류:** 직각 삼각형은 그 각도에 따라 다양한 종류로 나눌 수 있습니다. 예를 들어, 모든 변의 길이가 정수인 직각 삼각형을 피타고라스 삼각형이라고 부르기도 합니다.\n",
      "\n",
      "이런 특징들로 인해 직각 삼각형은 건축, 공학, 그리고 다양한 실생활 문제 해결에서 매우 중요한 역할을 합니다!\n",
      "\n",
      "생성된 공식 raw:\n",
      " {'perimeter': '밑변 + 높이 + 빗변', 'area': '밑변 × 높이 ÷ 2'}\n"
     ]
    },
    {
     "data": {
      "text/latex": [
       "$\\displaystyle 밑변 + 높이 + 빗변$"
      ],
      "text/plain": [
       "<IPython.core.display.Math object>"
      ]
     },
     "metadata": {},
     "output_type": "display_data"
    },
    {
     "data": {
      "text/latex": [
       "$\\displaystyle 밑변 × 높이 ÷ 2$"
      ],
      "text/plain": [
       "<IPython.core.display.Math object>"
      ]
     },
     "metadata": {},
     "output_type": "display_data"
    },
    {
     "data": {
      "image/svg+xml": [
       "<svg xmlns=\"http://www.w3.org/2000/svg\" width=\"500\" height=\"500\">\n",
       "    <text x=\"250\" y=\"50\" font-size=\"25\" text-anchor=\"middle\">직각삼각형</text>\n",
       "    <!-- 직각삼각형 -->\n",
       "    <line x1=\"83\" y1=\"416\" x2=\"308\" y2=\"416\" stroke=\"black\" stroke-width=\"2\"/>\n",
       "    <line x1=\"308\" y1=\"416\" x2=\"308\" y2=\"166\" stroke=\"black\" stroke-width=\"2\"/>\n",
       "    <line x1=\"83\" y1=\"416\" x2=\"308\" y2=\"166\" stroke=\"black\" stroke-width=\"2\"/>\n",
       "    <!-- 직각 보조선 -->\n",
       "    <line x1=\"286\" y1=\"416\" x2=\"286\" y2=\"394\" stroke=\"black\" stroke-width=\"2\"/>\n",
       "    <line x1=\"286\" y1=\"394\" x2=\"308\" y2=\"394\" stroke=\"black\" stroke-width=\"2\"/>\n",
       "    </svg>"
      ],
      "text/plain": [
       "<IPython.core.display.SVG object>"
      ]
     },
     "metadata": {},
     "output_type": "display_data"
    },
    {
     "name": "stdout",
     "output_type": "stream",
     "text": [
      "====================================================================================================\n",
      "요청한 문장: 가로가 5, 세로가 3인 직사각형의 넓이\n",
      "추출된 개념: Rectangle\n",
      "추출된 인자: {'width': 5, 'height': 3}\n",
      "\n",
      "생성된 코드:\n",
      " <svg width=\"500\" height=\"312\" xmlns=\"http://www.w3.org/2000/svg\">\n",
      "    <text x=\"250\" y=\"50\" font-size=\"25\" text-anchor=\"middle\">직사각형</text>\n",
      "    <rect x=\"100\" y=\"100\" width=\"250\" height=\"150\" stroke=\"black\" stroke-width=\"2\" fill=\"none\" />\n",
      "    </svg>\n",
      "\n",
      "생성된 설명:\n",
      " ### Rectangle 설명\n",
      "\n",
      "**정의:**\n",
      "사각형은 네 개의 직선으로 둘러싸인 평면 도형으로, 각 내각이 직각(90도)인 특징을 가지고 있습니다. 즉, 사각형의 네 모서리는 모두 직각을 이루며, 대변이 평행하고 길이가 같은 특성을 갖습니다.\n",
      "\n",
      "**기본 성질:**\n",
      "1. **대변의 길이가 같음:** 사각형의 두 쌍의 대변은 길이가 동일합니다. 예를 들어, 가로와 세로가 같은 길이를 가집니다.\n",
      "2. **대각선이 서로 같음:** 사각형의 두 대각선은 길이가 같습니다. 즉, 사각형을 두 개의 동일한 삼각형으로 나눌 수 있습니다.\n",
      "3. **내각의 합:** 사각형의 네 내각의 합은 항상 360도입니다.\n",
      "4. **변의 배열:** 사각형은 여러 가지 형태로 배열될 수 있습니다. 예를 들어, 직사각형은 가로와 세로가 각각 다른 길이를 가질 수 있으며, 정사각형은 모든 변의 길이가 같고 모든 내각이 직각인 특별한 형태의 사각형입니다.\n",
      "\n",
      "이러한 성질들로 인해 사각형은 우리 일상생활에서 매우 흔하게 볼 수 있는 도형입니다!\n",
      "\n",
      "생성된 공식 raw:\n",
      " {'perimeter': '2 × (밑변 + 높이)', 'area': '밑변 × 높이'}\n"
     ]
    },
    {
     "data": {
      "text/latex": [
       "$\\displaystyle 2 × (밑변 + 높이)$"
      ],
      "text/plain": [
       "<IPython.core.display.Math object>"
      ]
     },
     "metadata": {},
     "output_type": "display_data"
    },
    {
     "data": {
      "text/latex": [
       "$\\displaystyle 밑변 × 높이$"
      ],
      "text/plain": [
       "<IPython.core.display.Math object>"
      ]
     },
     "metadata": {},
     "output_type": "display_data"
    },
    {
     "data": {
      "image/svg+xml": [
       "<svg xmlns=\"http://www.w3.org/2000/svg\" width=\"500\" height=\"312\">\n",
       "    <text x=\"250\" y=\"50\" font-size=\"25\" text-anchor=\"middle\">직사각형</text>\n",
       "    <rect x=\"100\" y=\"100\" width=\"250\" height=\"150\" stroke=\"black\" stroke-width=\"2\" fill=\"none\"/>\n",
       "    </svg>"
      ],
      "text/plain": [
       "<IPython.core.display.SVG object>"
      ]
     },
     "metadata": {},
     "output_type": "display_data"
    },
    {
     "name": "stdout",
     "output_type": "stream",
     "text": [
      "====================================================================================================\n",
      "요청한 문장: 한 변의 길이가 2인 정사각형 하나를 그려줘\n",
      "추출된 개념: Square\n",
      "추출된 인자: {'length': 2}\n",
      "\n",
      "생성된 코드:\n",
      " <svg width=\"500\" height=\"500\" xmlns=\"http://www.w3.org/2000/svg\">\n",
      "    <text x=\"250\" y=\"50\" font-size=\"25\" text-anchor=\"middle\">정사각형</text>\n",
      "    <rect x=\"100\" y=\"100\" width=\"200\" height=\"200\" stroke=\"black\" stroke-width=\"2\" fill=\"none\" />\n",
      "    </svg>\n",
      "\n",
      "생성된 설명:\n",
      " ### Square\n",
      "\n",
      "**정의:**\n",
      "사각형은 네 개의 변으로 이루어진 평면 도형입니다. 모든 내각이 직각(90도)이며, 반대편의 변들이 길이가 같아서 마주보는 두 변은 평행하고 길이가 동일합니다.\n",
      "\n",
      "**기본 성질:**\n",
      "1. **대변의 길이 동일:** 사각형의 마주보는 두 변은 길이가 같습니다. 예를 들어, 정사각형이나 직사각형에서는 모든 대변이 같은 길이를 가집니다.\n",
      "2. **대각선의 성질:** 사각형의 대각선은 서로를 반으로 나눕니다. 즉, 대각선이 만나는 점에서 대각선을 잇는 선분들은 서로를 절반으로 나눕니다.\n",
      "3. **변의 합:** 사각형의 네 변의 길이를 모두 더하면, 그 합은 사각형의 둘레를 나타냅니다. 예를 들어, 한 변의 길이가 \\(a\\)이고 다른 변의 길이가 \\(b\\)라면, 둘레는 \\(a + b + a + b = 2(a + b)\\)가 됩니다.\n",
      "4. **정사각형의 특징:** 정사각형은 모든 변의 길이가 같고 모든 내각이 직각인 특별한 사각형입니다. 모든 대각선도 길이가 같고 서로를 직각으로 이룹니다.\n",
      "\n",
      "이러한 성질들로 인해 사각형은 다양한 형태와 크기로 존재하며, 건축, 디자인, 그리고 일상생활에서 자주 볼 수 있는 도형입니다!\n",
      "\n",
      "생성된 공식 raw:\n",
      " {'perimeter': '4 \\\\times \\\\mathrm{한 변의 길이}', 'area': '\\\\mathrm{한 변의 길이} \\\\times \\\\mathrm{한 변의 길이}'}\n"
     ]
    },
    {
     "data": {
      "text/latex": [
       "$\\displaystyle 4 \\times \\mathrm{한 변의 길이}$"
      ],
      "text/plain": [
       "<IPython.core.display.Math object>"
      ]
     },
     "metadata": {},
     "output_type": "display_data"
    },
    {
     "data": {
      "text/latex": [
       "$\\displaystyle \\mathrm{한 변의 길이} \\times \\mathrm{한 변의 길이}$"
      ],
      "text/plain": [
       "<IPython.core.display.Math object>"
      ]
     },
     "metadata": {},
     "output_type": "display_data"
    },
    {
     "data": {
      "image/svg+xml": [
       "<svg xmlns=\"http://www.w3.org/2000/svg\" width=\"500\" height=\"500\">\n",
       "    <text x=\"250\" y=\"50\" font-size=\"25\" text-anchor=\"middle\">정사각형</text>\n",
       "    <rect x=\"100\" y=\"100\" width=\"200\" height=\"200\" stroke=\"black\" stroke-width=\"2\" fill=\"none\"/>\n",
       "    </svg>"
      ],
      "text/plain": [
       "<IPython.core.display.SVG object>"
      ]
     },
     "metadata": {},
     "output_type": "display_data"
    },
    {
     "name": "stdout",
     "output_type": "stream",
     "text": [
      "====================================================================================================\n",
      "요청한 문장: 곧은선이 뭐야?\n",
      "추출된 개념: 직선\n",
      "추출된 인자: {}\n",
      "\n",
      "생성된 코드:\n",
      " <svg width=\"500\" height=\"500\" xmlns=\"http://www.w3.org/2000/svg\">\n",
      "    <text x=\"250\" y=\"25\" font-size=\"25\" text-anchor=\"middle\">곧은선</text>\n",
      "    <text x=\"250\" y=\"75\" font-size=\"25\" text-anchor=\"middle\">선분</text>\n",
      "    <!-- 선분 -->\n",
      "    <circle cx=\"125\" cy=\"125\" r=\"1\" stroke=\"black\" stroke-width=\"2\" fill=\"black\" />\n",
      "    <circle cx=\"375\" cy=\"125\" r=\"1\" stroke=\"black\" stroke-width=\"2\" fill=\"black\" />\n",
      "    <line x1=\"125\" y1=\"125\" x2=\"375\" y2=\"125\" stroke=\"black\" stroke-width=\"2\" />\n",
      "    <!-- 반직선 -->\n",
      "    <text x=\"250\" y=\"175\" font-size=\"25\" text-anchor=\"middle\">반직선</text>\n",
      "    <circle cx=\"125\" cy=\"250\" r=\"1\" stroke=\"black\" stroke-width=\"2\" fill=\"black\" />\n",
      "    <circle cx=\"375\" cy=\"250\" r=\"1\" stroke=\"black\" stroke-width=\"2\" fill=\"black\" />\n",
      "    <line x1=\"125\" y1=\"250\" x2=\"500\" y2=\"250\" stroke=\"black\" stroke-width=\"2\" />\n",
      "    <!-- 직선 -->\n",
      "    <text x=\"250\" y=\"300\" font-size=\"25\" text-anchor=\"middle\">직선</text>\n",
      "    <circle cx=\"125\" cy=\"375\" r=\"1\" stroke=\"black\" stroke-width=\"2\" fill=\"black\" />\n",
      "    <circle cx=\"375\" cy=\"375\" r=\"1\" stroke=\"black\" stroke-width=\"2\" fill=\"black\" />\n",
      "    <line x1=\"0\" y1=\"375\" x2=\"500\" y2=\"375\" stroke=\"black\" stroke-width=\"2\" />\n",
      "    </svg>\n",
      "    \n",
      "\n",
      "생성된 설명:\n",
      " ### 직선에 대한 설명\n",
      "\n",
      "#### 정의\n",
      "직선은 평면 위에서 가장 짧은 거리로 두 점을 연결하는 선을 말합니다. 이 선은 양쪽으로 무한히 계속되며, 방향이 항상 일정합니다. 직선 위의 모든 점들은 서로 평행하게 연결되어 있어, 어떤 방향으로든 뻗어나갈 수 있습니다.\n",
      "\n",
      "#### 기본 성질\n",
      "1. **무한한 길이**: 직선은 양쪽으로 무한히 이어집니다. 즉, 시작점에서 끝점까지의 거리가 아무리 길어도 계속해서 뻗어나갈 수 있습니다.\n",
      "2. **평행한 선들**: 같은 방향으로 무한히 뻗어나가는 두 직선은 서로 평행합니다. 반대로, 서로 다른 방향으로 무한히 뻗어나가는 두 직선은 교차하지 않습니다.\n",
      "3. **직선 위의 점들**: 직선 위의 모든 점들은 서로 연결되어 있어, 어떤 두 점을 잇는 선분은 항상 직선의 일부분입니다.\n",
      "4. **직선의 대칭성**: 직선을 기준으로 대칭인 두 부분은 서로 완전히 일치합니다. 예를 들어, 한 점을 기준으로 대칭인 두 점은 직선 양쪽에 동일한 거리에 위치합니다.\n",
      "\n",
      "이러한 성질들로 인해 직선은 기하학에서 매우 중요한 개념으로 사용됩니다!\n"
     ]
    },
    {
     "data": {
      "image/svg+xml": [
       "<svg xmlns=\"http://www.w3.org/2000/svg\" width=\"500\" height=\"500\">\n",
       "    <text x=\"250\" y=\"25\" font-size=\"25\" text-anchor=\"middle\">곧은선</text>\n",
       "    <text x=\"250\" y=\"75\" font-size=\"25\" text-anchor=\"middle\">선분</text>\n",
       "    <!-- 선분 -->\n",
       "    <circle cx=\"125\" cy=\"125\" r=\"1\" stroke=\"black\" stroke-width=\"2\" fill=\"black\"/>\n",
       "    <circle cx=\"375\" cy=\"125\" r=\"1\" stroke=\"black\" stroke-width=\"2\" fill=\"black\"/>\n",
       "    <line x1=\"125\" y1=\"125\" x2=\"375\" y2=\"125\" stroke=\"black\" stroke-width=\"2\"/>\n",
       "    <!-- 반직선 -->\n",
       "    <text x=\"250\" y=\"175\" font-size=\"25\" text-anchor=\"middle\">반직선</text>\n",
       "    <circle cx=\"125\" cy=\"250\" r=\"1\" stroke=\"black\" stroke-width=\"2\" fill=\"black\"/>\n",
       "    <circle cx=\"375\" cy=\"250\" r=\"1\" stroke=\"black\" stroke-width=\"2\" fill=\"black\"/>\n",
       "    <line x1=\"125\" y1=\"250\" x2=\"500\" y2=\"250\" stroke=\"black\" stroke-width=\"2\"/>\n",
       "    <!-- 직선 -->\n",
       "    <text x=\"250\" y=\"300\" font-size=\"25\" text-anchor=\"middle\">직선</text>\n",
       "    <circle cx=\"125\" cy=\"375\" r=\"1\" stroke=\"black\" stroke-width=\"2\" fill=\"black\"/>\n",
       "    <circle cx=\"375\" cy=\"375\" r=\"1\" stroke=\"black\" stroke-width=\"2\" fill=\"black\"/>\n",
       "    <line x1=\"0\" y1=\"375\" x2=\"500\" y2=\"375\" stroke=\"black\" stroke-width=\"2\"/>\n",
       "    </svg>"
      ],
      "text/plain": [
       "<IPython.core.display.SVG object>"
      ]
     },
     "metadata": {},
     "output_type": "display_data"
    },
    {
     "name": "stdout",
     "output_type": "stream",
     "text": [
      "====================================================================================================\n",
      "요청한 문장: 대표적인 굽은선을 그려줘\n",
      "추출된 개념: 곡선\n",
      "추출된 인자: {'type': '타원', 'description': '타원은 가장 대표적인 굽은선의 한 종류로, 두 초점 사이의 거리의 합이 일정한 점들의 집합으로 정의됩니다.'}\n",
      "\n",
      "생성된 코드:\n",
      " \n",
      "    <svg width=\"500\" height=\"500\" xmlns=\"http://www.w3.org/2000/svg\">\n",
      "    <text x=\"250\" y=\"50\" font-size=\"25\" text-anchor=\"middle\">굽은선</text>\n",
      "    <!-- 복잡한 S자 곡선 (두 개의 Cubic Bézier) -->\n",
      "    <path d=\"M 100,400\n",
      "    C 100,100 400,100 400,250\n",
      "    C 400,400 100,400 100,100\"\n",
      "    stroke=\"black\" fill=\"none\" stroke-width=\"2\"/>\n",
      "    </svg>\n",
      "    \n",
      "\n",
      "생성된 설명:\n",
      " ### 곡선에 대한 설명\n",
      "\n",
      "**정의:**\n",
      "곡선은 직선이 아닌, 연속적으로 이어지는 점들의 모임으로 이루어진 도형입니다. 쉽게 말해, 직선처럼 일정한 방향으로만 움직이는 것이 아니라, 부드럽게 휘어지거나 굽어지는 형태를 가진 선을 말합니다.\n",
      "\n",
      "**기본 성질:**\n",
      "1. **연속성:** 곡선 위의 모든 점들은 부드럽게 이어져 있어, 어떤 작은 구간에서도 끊어지지 않고 이어집니다.\n",
      "2. **길이:** 곡선의 길이는 그 곡선을 따라 측정한 총 거리입니다. 이 길이는 곡선의 모양에 따라 달라집니다. 예를 들어, 원의 둘레는 반지름에 따라 결정되며, 이는 곡선의 길이를 정확히 계산하는 방법 중 하나입니다.\n",
      "3. **곡률:** 곡선이 얼마나 빠르게 방향을 바꾸는지를 나타내는 값입니다. 곡률이 크면 곡선이 더 급하게 굽어지고, 작으면 더 부드럽게 굽어집니다. 예를 들어, 원의 경우 모든 점에서 곡률이 일정합니다.\n",
      "4. **접선:** 곡선 위의 어떤 점에서 그 점을 지나는 가장 가까운 직선을 접선이라고 합니다. 이 접선은 그 점에서 곡선의 방향을 가장 잘 나타냅니다.\n",
      "\n",
      "이러한 성질들 덕분에 곡선은 자연 현상이나 공학적 설계 등 다양한 분야에서 중요한 역할을 합니다.\n"
     ]
    },
    {
     "data": {
      "image/svg+xml": [
       "<svg xmlns=\"http://www.w3.org/2000/svg\" width=\"500\" height=\"500\">\n",
       "    <text x=\"250\" y=\"50\" font-size=\"25\" text-anchor=\"middle\">굽은선</text>\n",
       "    <!-- 복잡한 S자 곡선 (두 개의 Cubic Bézier) -->\n",
       "    <path d=\"M 100,400     C 100,100 400,100 400,250     C 400,400 100,400 100,100\" stroke=\"black\" fill=\"none\" stroke-width=\"2\"/>\n",
       "    </svg>"
      ],
      "text/plain": [
       "<IPython.core.display.SVG object>"
      ]
     },
     "metadata": {},
     "output_type": "display_data"
    },
    {
     "name": "stdout",
     "output_type": "stream",
     "text": [
      "====================================================================================================\n",
      "요청한 문장: 중심이 (0,0)이고 반지름이 2인 원을 그려주세요.\n",
      "추출된 개념: Circle\n",
      "추출된 인자: {'radius': 2}\n",
      "\n",
      "생성된 코드:\n",
      " <svg width=\"500\" height=\"500\" xmlns=\"http://www.w3.org/2000/svg\">\n",
      "    <text x=\"250\" y=\"50\" font-size=\"25\" text-anchor=\"middle\">원</text>\n",
      "    <circle cx=\"250\" cy=\"250\" r=\"100\" stroke=\"black\" stroke-width=\"2\" fill=\"none\" />\n",
      "    <circle cx=\"250\" cy=\"250\" r=\"1\" stroke=\"black\" stroke-width=\"2\" fill=\"black\" />\n",
      "    <line x1=\"250\" y1=\"250\" x2=\"350\" y2=\"250\" stroke=\"black\" stroke-width=\"2\" />\n",
      "    </svg>\n",
      "    \n",
      "\n",
      "생성된 설명:\n",
      " ### Circle (원)\n",
      "\n",
      "#### 정의:\n",
      "원은 평면 위에서 한 점(중심)으로부터 일정한 거리(반지름)에 있는 모든 점들의 집합을 말합니다. 이 중심점을 기준으로 원 위의 모든 점들은 동일한 거리에 위치해 있습니다.\n",
      "\n",
      "#### 기본 성질:\n",
      "1. **둘레와 지름**: 원의 둘레는 지름에 π(약 3.14)를 곱한 값입니다. 즉, 둘레 = 지름 × π 입니다. 반대로 지름은 둘레를 π로 나누면 구할 수 있습니다.\n",
      "   \n",
      "2. **면적**: 원의 면적은 반지름의 제곱에 π를 곱한 값입니다. 공식으로 표현하면 면적 = π × 반지름2 입니다.\n",
      "\n",
      "3. **대칭성**: 원은 중심을 기준으로 완벽하게 대칭입니다. 즉, 중심을 지나는 어떤 직선을 기준으로 원을 접어도 양쪽이 완전히 일치합니다.\n",
      "\n",
      "4. **원주각과 호의 관계**: 원 위의 두 점을 잇는 호의 중앙각은 그 호에 대응하는 원주각의 두 배입니다. 예를 들어, 호의 중앙각이 θ라면 원주각은 θ/2가 됩니다.\n",
      "\n",
      "이러한 성질들로 인해 원은 기하학에서 매우 중요한 역할을 합니다. 다양한 도형과 문제 해결에 활용되며, 일상생활에서도 자주 접하게 되는 개념입니다.\n",
      "\n",
      "생성된 공식 raw:\n",
      " {'perimeter': '2 \\\\times 3.14 \\\\times 반지름', 'area': '3.14 \\\\times 반지름 \\\\times 반지름'}\n"
     ]
    },
    {
     "data": {
      "text/latex": [
       "$\\displaystyle 2 \\times 3.14 \\times 반지름$"
      ],
      "text/plain": [
       "<IPython.core.display.Math object>"
      ]
     },
     "metadata": {},
     "output_type": "display_data"
    },
    {
     "data": {
      "text/latex": [
       "$\\displaystyle 3.14 \\times 반지름 \\times 반지름$"
      ],
      "text/plain": [
       "<IPython.core.display.Math object>"
      ]
     },
     "metadata": {},
     "output_type": "display_data"
    },
    {
     "data": {
      "image/svg+xml": [
       "<svg xmlns=\"http://www.w3.org/2000/svg\" width=\"500\" height=\"500\">\n",
       "    <text x=\"250\" y=\"50\" font-size=\"25\" text-anchor=\"middle\">원</text>\n",
       "    <circle cx=\"250\" cy=\"250\" r=\"100\" stroke=\"black\" stroke-width=\"2\" fill=\"none\"/>\n",
       "    <circle cx=\"250\" cy=\"250\" r=\"1\" stroke=\"black\" stroke-width=\"2\" fill=\"black\"/>\n",
       "    <line x1=\"250\" y1=\"250\" x2=\"350\" y2=\"250\" stroke=\"black\" stroke-width=\"2\"/>\n",
       "    </svg>"
      ],
      "text/plain": [
       "<IPython.core.display.SVG object>"
      ]
     },
     "metadata": {},
     "output_type": "display_data"
    },
    {
     "name": "stdout",
     "output_type": "stream",
     "text": [
      "====================================================================================================\n",
      "요청한 문장: 37° 각도를 그려줘\n",
      "추출된 개념: 각도\n",
      "추출된 인자: {'size': 37}\n",
      "\n",
      "생성된 코드:\n",
      " <svg width=\"500\" height=\"375\" xmlns=\"http://www.w3.org/2000/svg\">\n",
      "    <text x=\"250\" y=\"50\" font-size=\"25\" text-anchor=\"middle\">각</text>\n",
      "    <!-- 기준선 -->\n",
      "    <line x1=\"125\" y1=\"333\" x2=\"375\" y2=\"333\" stroke=\"black\" stroke-width=\"2\" />\n",
      "    <!-- 기울어진 선 -->\n",
      "    <line x1=\"125\" y1=\"333\" x2=\"324.6588775118232\" y2=\"182.54624421198793\" stroke=\"black\" stroke-width=\"2\" />\n",
      "    <!-- 각도 호 -->\n",
      "    <path d=\"M 164.93177550236464,302.9092488423976 A 50,50 0 0,1 175,333\" stroke=\"black\" stroke-width=\"2\" fill=\"none\"/>\n",
      "    </svg>\n",
      "    \n",
      "\n",
      "생성된 설명:\n",
      " ### 각도에 대한 설명\n",
      "\n",
      "**정의:**\n",
      "각도는 두 직선이나 선분이 만나서 생기는 공간의 크기를 측정하는 방법입니다. 우리가 일상에서 자주 접하는 각도는 주로 도로 표지판에서 볼 수 있는 방향 지시나, 그림에서 선들이 만나는 부분을 표현할 때 사용됩니다.\n",
      "\n",
      "**기본 성질:**\n",
      "1. **직선의 각도:** 직선은 정확히 180도의 각도를 가집니다. 직선은 두 방향으로 무한히 이어지는 것처럼 보이지만, 실제로는 시작점과 끝점이 있습니다.\n",
      "   \n",
      "2. **직각 각도:** 직각은 90도를 의미합니다. 이는 우리가 흔히 사용하는 'L'자 모양의 모서리나 사각형의 모서리에서 볼 수 있습니다. 직각은 두 직선이 서로 수직으로 만나는 경우에 생깁니다.\n",
      "\n",
      "3. **평행선과 각도:** 평행한 두 직선은 만나지 않기 때문에, 그들 사이의 각도는 항상 같습니다. 예를 들어, 두 평행선 위에 그려진 삼각형의 한 각은 다른 각과 크기가 동일합니다.\n",
      "\n",
      "4. **복합 각도:** 여러 각도를 합쳐서 더 큰 각도를 만들 수 있습니다. 예를 들어, 두 개의 직각 각도를 합치면 180도가 됩니다.\n",
      "\n",
      "이러한 기본적인 개념들을 이해하면 각도에 대한 다양한 문제를 풀 때 도움이 될 것입니다!\n"
     ]
    },
    {
     "data": {
      "image/svg+xml": [
       "<svg xmlns=\"http://www.w3.org/2000/svg\" width=\"500\" height=\"375\">\n",
       "    <text x=\"250\" y=\"50\" font-size=\"25\" text-anchor=\"middle\">각</text>\n",
       "    <!-- 기준선 -->\n",
       "    <line x1=\"125\" y1=\"333\" x2=\"375\" y2=\"333\" stroke=\"black\" stroke-width=\"2\"/>\n",
       "    <!-- 기울어진 선 -->\n",
       "    <line x1=\"125\" y1=\"333\" x2=\"324.6588775118232\" y2=\"182.54624421198793\" stroke=\"black\" stroke-width=\"2\"/>\n",
       "    <!-- 각도 호 -->\n",
       "    <path d=\"M 164.93177550236464,302.9092488423976 A 50,50 0 0,1 175,333\" stroke=\"black\" stroke-width=\"2\" fill=\"none\"/>\n",
       "    </svg>"
      ],
      "text/plain": [
       "<IPython.core.display.SVG object>"
      ]
     },
     "metadata": {},
     "output_type": "display_data"
    },
    {
     "name": "stdout",
     "output_type": "stream",
     "text": [
      "====================================================================================================\n",
      "요청한 문장: 직각을 표현해줘\n",
      "추출된 개념: Right Angle\n",
      "추출된 인자: {}\n",
      "\n",
      "생성된 코드:\n",
      " <svg width=\"500\" height=\"500\" xmlns=\"http://www.w3.org/2000/svg\">\n",
      "    <text x=\"250\" y=\"50\" font-size=\"25\" text-anchor=\"middle\">직각</text>\n",
      "    <!-- 기준선 -->\n",
      "    <line x1=\"125\" y1=\"400\" x2=\"458\" y2=\"400\" stroke=\"black\" stroke-width=\"2\" />\n",
      "    <!-- 기울어진 선 -->\n",
      "    <line x1=\"125\" y1=\"400\" x2=\"125\" y2=\"67\" stroke=\"black\" stroke-width=\"2\" />\n",
      "    <!-- 직각 보조선 -->\n",
      "    <line x1=\"175\" y1=\"400\" x2=\"175\" y2=\"350\" stroke=\"black\" stroke-width=\"2\" />\n",
      "    <line x1=\"125\" y1=\"350\" x2=\"175\" y2=\"350\" stroke=\"black\" stroke-width=\"2\" />\n",
      "    </svg>\n",
      "    \n",
      "\n",
      "생성된 설명:\n",
      " ### Right Angle\n",
      "\n",
      "**정의:**\n",
      "Right Angle은 기하학에서 가장 기본적인 각도 중 하나로, 정확히 90도를 이루는 각도를 말합니다. 이 각도는 직각이라고도 불리며, 직선이나 특정 도형의 모서리에서 만나는 두 변이 서로 수직으로 만나는 경우에 나타납니다.\n",
      "\n",
      "**기본 성질:**\n",
      "1. **크기:** Right Angle은 항상 정확히 90도입니다. 이는 모든 Right Angle이 동일한 크기를 가짐을 의미합니다.\n",
      "2. **모양:** Right Angle은 보통 'L' 모양으로 쉽게 인식할 수 있습니다. 이 모양은 직각을 나타내는 데 자주 사용됩니다.\n",
      "3. **도형과의 관계:** 직각은 사각형, 직사각형, 정사각형 등 다양한 도형의 모서리에서 발견됩니다. 특히, 직사각형이나 정사각형은 네 개의 Right Angle을 가지고 있습니다.\n",
      "4. **삼각형과의 연관성:** 직각삼각형은 한 내각이 정확히 Right Angle인 삼각형을 의미합니다. 이 삼각형은 세 변의 길이 관계를 통해 피타고라스 정리를 적용할 수 있습니다.\n",
      "\n",
      "이러한 성질들로 인해 Right Angle은 수학에서 매우 중요한 개념으로 자리잡고 있습니다!\n"
     ]
    },
    {
     "data": {
      "image/svg+xml": [
       "<svg xmlns=\"http://www.w3.org/2000/svg\" width=\"500\" height=\"500\">\n",
       "    <text x=\"250\" y=\"50\" font-size=\"25\" text-anchor=\"middle\">직각</text>\n",
       "    <!-- 기준선 -->\n",
       "    <line x1=\"125\" y1=\"400\" x2=\"458\" y2=\"400\" stroke=\"black\" stroke-width=\"2\"/>\n",
       "    <!-- 기울어진 선 -->\n",
       "    <line x1=\"125\" y1=\"400\" x2=\"125\" y2=\"67\" stroke=\"black\" stroke-width=\"2\"/>\n",
       "    <!-- 직각 보조선 -->\n",
       "    <line x1=\"175\" y1=\"400\" x2=\"175\" y2=\"350\" stroke=\"black\" stroke-width=\"2\"/>\n",
       "    <line x1=\"125\" y1=\"350\" x2=\"175\" y2=\"350\" stroke=\"black\" stroke-width=\"2\"/>\n",
       "    </svg>"
      ],
      "text/plain": [
       "<IPython.core.display.SVG object>"
      ]
     },
     "metadata": {},
     "output_type": "display_data"
    },
    {
     "name": "stdout",
     "output_type": "stream",
     "text": [
      "====================================================================================================\n",
      "요청한 문장: 밑변이 3이고, 높이가 4인 직각삼각형 하나를 그려줘\n",
      "추출된 개념: Right Triangle\n",
      "추출된 인자: {'base': 3, 'height': 4}\n",
      "\n",
      "생성된 코드:\n",
      " <svg width=\"500\" height=\"500\" xmlns=\"http://www.w3.org/2000/svg\">\n",
      "    <text x=\"250\" y=\"50\" font-size=\"25\" text-anchor=\"middle\">직각삼각형</text>\n",
      "    <!-- 직각삼각형 -->\n",
      "    <line x1=\"83\" y1=\"416\" x2=\"308\" y2=\"416\" stroke=\"black\" stroke-width=\"2\" />\n",
      "    <line x1=\"308\" y1=\"416\" x2=\"308\" y2=\"166\" stroke=\"black\" stroke-width=\"2\" />\n",
      "    <line x1=\"83\" y1=\"416\" x2=\"308\" y2=\"166\" stroke=\"black\" stroke-width=\"2\" />\n",
      "    <!-- 직각 보조선 -->\n",
      "    <line x1=\"286\" y1=\"416\" x2=\"286\" y2=\"394\" stroke=\"black\" stroke-width=\"2\" />\n",
      "    <line x1=\"286\" y1=\"394\" x2=\"308\" y2=\"394\" stroke=\"black\" stroke-width=\"2\" />\n",
      "    </svg>\n",
      "    \n",
      "\n",
      "생성된 설명:\n",
      " ### Right Triangle\n",
      "\n",
      "**정의:**\n",
      "A right triangle is a special type of triangle that has one angle which measures exactly 90 degrees (a right angle). This unique angle distinguishes it from other triangles where all angles are less than 90 degrees.\n",
      "\n",
      "**기본 성질:**\n",
      "1. **한 각이 직각:** 가장 중요한 특징은 한 꼭짓점에서 직각(90°)을 이루는 것입니다.\n",
      "2. **직각을 중심으로 두 개의 다른 각:** 나머지 두 각은 합쳐 90도가 됩니다. 따라서 이 두 각은 서로 보완각(complementary angles)입니다.\n",
      "3. **피타고라스 정리 적용 가능:** 직각 삼각형에서는 가장 긴 변을 빗변(hypotenuse)이라고 부르며, 이 빗변의 길이는 다른 두 변(직각을 이루는 두 변을 밑변과 높이라고도 부릅니다)의 길이와 특별한 관계를 가집니다. 이 관계는 피타고라스 정리로 표현되는데, 수학적으로는 \\(a^2 + b^2 = c^2\\) 입니다 (여기서 \\(c\\)는 빗변의 길이이고, \\(a\\)와 \\(b\\)는 다른 두 변의 길이입니다). 하지만 문제 해결을 위해 직접적인 공식보다는 이 관계를 이해하는 것이 중요합니다.\n",
      "4. **삼각형의 종류:** 직각 삼각형은 그 각도에 따라 다양한 종류로 나눌 수 있습니다. 예를 들어, 모든 변의 길이가 정수인 직각 삼각형을 피타고라스 삼각형이라고 부르기도 합니다.\n",
      "\n",
      "이런 특징들로 인해 직각 삼각형은 건축, 공학, 그리고 다양한 실생활 문제 해결에서 매우 중요한 역할을 합니다!\n",
      "\n",
      "생성된 공식 raw:\n",
      " {'perimeter': '밑변 + 높이 + 빗변', 'area': '밑변 × 높이 ÷ 2'}\n"
     ]
    },
    {
     "data": {
      "text/latex": [
       "$\\displaystyle 밑변 + 높이 + 빗변$"
      ],
      "text/plain": [
       "<IPython.core.display.Math object>"
      ]
     },
     "metadata": {},
     "output_type": "display_data"
    },
    {
     "data": {
      "text/latex": [
       "$\\displaystyle 밑변 × 높이 ÷ 2$"
      ],
      "text/plain": [
       "<IPython.core.display.Math object>"
      ]
     },
     "metadata": {},
     "output_type": "display_data"
    },
    {
     "data": {
      "image/svg+xml": [
       "<svg xmlns=\"http://www.w3.org/2000/svg\" width=\"500\" height=\"500\">\n",
       "    <text x=\"250\" y=\"50\" font-size=\"25\" text-anchor=\"middle\">직각삼각형</text>\n",
       "    <!-- 직각삼각형 -->\n",
       "    <line x1=\"83\" y1=\"416\" x2=\"308\" y2=\"416\" stroke=\"black\" stroke-width=\"2\"/>\n",
       "    <line x1=\"308\" y1=\"416\" x2=\"308\" y2=\"166\" stroke=\"black\" stroke-width=\"2\"/>\n",
       "    <line x1=\"83\" y1=\"416\" x2=\"308\" y2=\"166\" stroke=\"black\" stroke-width=\"2\"/>\n",
       "    <!-- 직각 보조선 -->\n",
       "    <line x1=\"286\" y1=\"416\" x2=\"286\" y2=\"394\" stroke=\"black\" stroke-width=\"2\"/>\n",
       "    <line x1=\"286\" y1=\"394\" x2=\"308\" y2=\"394\" stroke=\"black\" stroke-width=\"2\"/>\n",
       "    </svg>"
      ],
      "text/plain": [
       "<IPython.core.display.SVG object>"
      ]
     },
     "metadata": {},
     "output_type": "display_data"
    },
    {
     "name": "stdout",
     "output_type": "stream",
     "text": [
      "====================================================================================================\n",
      "요청한 문장: 가로가 5, 세로가 3인 직사각형의 넓이\n",
      "추출된 개념: Rectangle\n",
      "추출된 인자: {'width': 5, 'height': 3}\n",
      "\n",
      "생성된 코드:\n",
      " <svg width=\"500\" height=\"312\" xmlns=\"http://www.w3.org/2000/svg\">\n",
      "    <text x=\"250\" y=\"50\" font-size=\"25\" text-anchor=\"middle\">직사각형</text>\n",
      "    <rect x=\"100\" y=\"100\" width=\"250\" height=\"150\" stroke=\"black\" stroke-width=\"2\" fill=\"none\" />\n",
      "    </svg>\n",
      "\n",
      "생성된 설명:\n",
      " ### Rectangle 설명\n",
      "\n",
      "**정의:**\n",
      "사각형은 네 개의 직선으로 둘러싸인 평면 도형으로, 각 내각이 직각(90도)인 특징을 가지고 있습니다. 즉, 사각형의 네 모서리는 모두 직각을 이루며, 대변이 평행하고 길이가 같은 특성을 갖습니다.\n",
      "\n",
      "**기본 성질:**\n",
      "1. **대변의 길이가 같음:** 사각형의 두 쌍의 대변은 길이가 동일합니다. 예를 들어, 가로와 세로가 같은 길이를 가집니다.\n",
      "2. **대각선이 서로 같음:** 사각형의 두 대각선은 길이가 같습니다. 즉, 사각형을 두 개의 동일한 삼각형으로 나눌 수 있습니다.\n",
      "3. **내각의 합:** 사각형의 네 내각의 합은 항상 360도입니다.\n",
      "4. **변의 배열:** 사각형은 여러 가지 형태로 배열될 수 있습니다. 예를 들어, 직사각형은 가로와 세로가 각각 다른 길이를 가질 수 있으며, 정사각형은 모든 변의 길이가 같고 모든 내각이 직각인 특별한 형태의 사각형입니다.\n",
      "\n",
      "이러한 성질들로 인해 사각형은 우리 일상생활에서 매우 흔하게 볼 수 있는 도형입니다!\n",
      "\n",
      "생성된 공식 raw:\n",
      " {'perimeter': '2 × (밑변 + 높이)', 'area': '밑변 × 높이'}\n"
     ]
    },
    {
     "data": {
      "text/latex": [
       "$\\displaystyle 2 × (밑변 + 높이)$"
      ],
      "text/plain": [
       "<IPython.core.display.Math object>"
      ]
     },
     "metadata": {},
     "output_type": "display_data"
    },
    {
     "data": {
      "text/latex": [
       "$\\displaystyle 밑변 × 높이$"
      ],
      "text/plain": [
       "<IPython.core.display.Math object>"
      ]
     },
     "metadata": {},
     "output_type": "display_data"
    },
    {
     "data": {
      "image/svg+xml": [
       "<svg xmlns=\"http://www.w3.org/2000/svg\" width=\"500\" height=\"312\">\n",
       "    <text x=\"250\" y=\"50\" font-size=\"25\" text-anchor=\"middle\">직사각형</text>\n",
       "    <rect x=\"100\" y=\"100\" width=\"250\" height=\"150\" stroke=\"black\" stroke-width=\"2\" fill=\"none\"/>\n",
       "    </svg>"
      ],
      "text/plain": [
       "<IPython.core.display.SVG object>"
      ]
     },
     "metadata": {},
     "output_type": "display_data"
    },
    {
     "name": "stdout",
     "output_type": "stream",
     "text": [
      "====================================================================================================\n",
      "요청한 문장: 한 변의 길이가 2인 정사각형 하나를 그려줘\n",
      "추출된 개념: Square\n",
      "추출된 인자: {'length': 2}\n",
      "\n",
      "생성된 코드:\n",
      " <svg width=\"500\" height=\"500\" xmlns=\"http://www.w3.org/2000/svg\">\n",
      "    <text x=\"250\" y=\"50\" font-size=\"25\" text-anchor=\"middle\">정사각형</text>\n",
      "    <rect x=\"100\" y=\"100\" width=\"200\" height=\"200\" stroke=\"black\" stroke-width=\"2\" fill=\"none\" />\n",
      "    </svg>\n",
      "\n",
      "생성된 설명:\n",
      " ### Square\n",
      "\n",
      "**정의:**\n",
      "사각형은 네 개의 변으로 이루어진 평면 도형입니다. 모든 내각이 직각(90도)이며, 반대편의 변들이 길이가 같아서 마주보는 두 변은 평행하고 길이가 동일합니다.\n",
      "\n",
      "**기본 성질:**\n",
      "1. **대변의 길이 동일:** 사각형의 마주보는 두 변은 길이가 같습니다. 예를 들어, 정사각형이나 직사각형에서는 모든 대변이 같은 길이를 가집니다.\n",
      "2. **대각선의 성질:** 사각형의 대각선은 서로를 반으로 나눕니다. 즉, 대각선이 만나는 점에서 대각선을 잇는 선분들은 서로를 절반으로 나눕니다.\n",
      "3. **변의 합:** 사각형의 네 변의 길이를 모두 더하면, 그 합은 사각형의 둘레를 나타냅니다. 예를 들어, 한 변의 길이가 \\(a\\)이고 다른 변의 길이가 \\(b\\)라면, 둘레는 \\(a + b + a + b = 2(a + b)\\)가 됩니다.\n",
      "4. **정사각형의 특징:** 정사각형은 모든 변의 길이가 같고 모든 내각이 직각인 특별한 사각형입니다. 모든 대각선도 길이가 같고 서로를 직각으로 이룹니다.\n",
      "\n",
      "이러한 성질들로 인해 사각형은 다양한 형태와 크기로 존재하며, 건축, 디자인, 그리고 일상생활에서 자주 볼 수 있는 도형입니다!\n",
      "\n",
      "생성된 공식 raw:\n",
      " {'perimeter': '4 \\\\times \\\\mathrm{한 변의 길이}', 'area': '\\\\mathrm{한 변의 길이} \\\\times \\\\mathrm{한 변의 길이}'}\n"
     ]
    },
    {
     "data": {
      "text/latex": [
       "$\\displaystyle 4 \\times \\mathrm{한 변의 길이}$"
      ],
      "text/plain": [
       "<IPython.core.display.Math object>"
      ]
     },
     "metadata": {},
     "output_type": "display_data"
    },
    {
     "data": {
      "text/latex": [
       "$\\displaystyle \\mathrm{한 변의 길이} \\times \\mathrm{한 변의 길이}$"
      ],
      "text/plain": [
       "<IPython.core.display.Math object>"
      ]
     },
     "metadata": {},
     "output_type": "display_data"
    },
    {
     "data": {
      "image/svg+xml": [
       "<svg xmlns=\"http://www.w3.org/2000/svg\" width=\"500\" height=\"500\">\n",
       "    <text x=\"250\" y=\"50\" font-size=\"25\" text-anchor=\"middle\">정사각형</text>\n",
       "    <rect x=\"100\" y=\"100\" width=\"200\" height=\"200\" stroke=\"black\" stroke-width=\"2\" fill=\"none\"/>\n",
       "    </svg>"
      ],
      "text/plain": [
       "<IPython.core.display.SVG object>"
      ]
     },
     "metadata": {},
     "output_type": "display_data"
    },
    {
     "name": "stdout",
     "output_type": "stream",
     "text": [
      "====================================================================================================\n",
      "요청한 문장: 곧은선이 뭐야?\n",
      "추출된 개념: 직선\n",
      "추출된 인자: {}\n",
      "\n",
      "생성된 코드:\n",
      " <svg width=\"500\" height=\"500\" xmlns=\"http://www.w3.org/2000/svg\">\n",
      "    <text x=\"250\" y=\"25\" font-size=\"25\" text-anchor=\"middle\">곧은선</text>\n",
      "    <text x=\"250\" y=\"75\" font-size=\"25\" text-anchor=\"middle\">선분</text>\n",
      "    <!-- 선분 -->\n",
      "    <circle cx=\"125\" cy=\"125\" r=\"1\" stroke=\"black\" stroke-width=\"2\" fill=\"black\" />\n",
      "    <circle cx=\"375\" cy=\"125\" r=\"1\" stroke=\"black\" stroke-width=\"2\" fill=\"black\" />\n",
      "    <line x1=\"125\" y1=\"125\" x2=\"375\" y2=\"125\" stroke=\"black\" stroke-width=\"2\" />\n",
      "    <!-- 반직선 -->\n",
      "    <text x=\"250\" y=\"175\" font-size=\"25\" text-anchor=\"middle\">반직선</text>\n",
      "    <circle cx=\"125\" cy=\"250\" r=\"1\" stroke=\"black\" stroke-width=\"2\" fill=\"black\" />\n",
      "    <circle cx=\"375\" cy=\"250\" r=\"1\" stroke=\"black\" stroke-width=\"2\" fill=\"black\" />\n",
      "    <line x1=\"125\" y1=\"250\" x2=\"500\" y2=\"250\" stroke=\"black\" stroke-width=\"2\" />\n",
      "    <!-- 직선 -->\n",
      "    <text x=\"250\" y=\"300\" font-size=\"25\" text-anchor=\"middle\">직선</text>\n",
      "    <circle cx=\"125\" cy=\"375\" r=\"1\" stroke=\"black\" stroke-width=\"2\" fill=\"black\" />\n",
      "    <circle cx=\"375\" cy=\"375\" r=\"1\" stroke=\"black\" stroke-width=\"2\" fill=\"black\" />\n",
      "    <line x1=\"0\" y1=\"375\" x2=\"500\" y2=\"375\" stroke=\"black\" stroke-width=\"2\" />\n",
      "    </svg>\n",
      "    \n",
      "\n",
      "생성된 설명:\n",
      " ### 직선에 대한 설명\n",
      "\n",
      "#### 정의\n",
      "직선은 평면 위에서 가장 짧은 거리로 두 점을 연결하는 선을 말합니다. 이 선은 양쪽으로 무한히 계속되며, 방향이 항상 일정합니다. 직선 위의 모든 점들은 서로 평행하게 연결되어 있어, 어떤 방향으로든 뻗어나갈 수 있습니다.\n",
      "\n",
      "#### 기본 성질\n",
      "1. **무한한 길이**: 직선은 양쪽으로 무한히 이어집니다. 즉, 시작점에서 끝점까지의 거리가 아무리 길어도 계속해서 뻗어나갈 수 있습니다.\n",
      "2. **평행한 선들**: 같은 방향으로 무한히 뻗어나가는 두 직선은 서로 평행합니다. 반대로, 서로 다른 방향으로 무한히 뻗어나가는 두 직선은 교차하지 않습니다.\n",
      "3. **직선 위의 점들**: 직선 위의 모든 점들은 서로 연결되어 있어, 어떤 두 점을 잇는 선분은 항상 직선의 일부분입니다.\n",
      "4. **직선의 대칭성**: 직선을 기준으로 대칭인 두 부분은 서로 완전히 일치합니다. 예를 들어, 한 점을 기준으로 대칭인 두 점은 직선 양쪽에 동일한 거리에 위치합니다.\n",
      "\n",
      "이러한 성질들로 인해 직선은 기하학에서 매우 중요한 개념으로 사용됩니다!\n"
     ]
    },
    {
     "data": {
      "image/svg+xml": [
       "<svg xmlns=\"http://www.w3.org/2000/svg\" width=\"500\" height=\"500\">\n",
       "    <text x=\"250\" y=\"25\" font-size=\"25\" text-anchor=\"middle\">곧은선</text>\n",
       "    <text x=\"250\" y=\"75\" font-size=\"25\" text-anchor=\"middle\">선분</text>\n",
       "    <!-- 선분 -->\n",
       "    <circle cx=\"125\" cy=\"125\" r=\"1\" stroke=\"black\" stroke-width=\"2\" fill=\"black\"/>\n",
       "    <circle cx=\"375\" cy=\"125\" r=\"1\" stroke=\"black\" stroke-width=\"2\" fill=\"black\"/>\n",
       "    <line x1=\"125\" y1=\"125\" x2=\"375\" y2=\"125\" stroke=\"black\" stroke-width=\"2\"/>\n",
       "    <!-- 반직선 -->\n",
       "    <text x=\"250\" y=\"175\" font-size=\"25\" text-anchor=\"middle\">반직선</text>\n",
       "    <circle cx=\"125\" cy=\"250\" r=\"1\" stroke=\"black\" stroke-width=\"2\" fill=\"black\"/>\n",
       "    <circle cx=\"375\" cy=\"250\" r=\"1\" stroke=\"black\" stroke-width=\"2\" fill=\"black\"/>\n",
       "    <line x1=\"125\" y1=\"250\" x2=\"500\" y2=\"250\" stroke=\"black\" stroke-width=\"2\"/>\n",
       "    <!-- 직선 -->\n",
       "    <text x=\"250\" y=\"300\" font-size=\"25\" text-anchor=\"middle\">직선</text>\n",
       "    <circle cx=\"125\" cy=\"375\" r=\"1\" stroke=\"black\" stroke-width=\"2\" fill=\"black\"/>\n",
       "    <circle cx=\"375\" cy=\"375\" r=\"1\" stroke=\"black\" stroke-width=\"2\" fill=\"black\"/>\n",
       "    <line x1=\"0\" y1=\"375\" x2=\"500\" y2=\"375\" stroke=\"black\" stroke-width=\"2\"/>\n",
       "    </svg>"
      ],
      "text/plain": [
       "<IPython.core.display.SVG object>"
      ]
     },
     "metadata": {},
     "output_type": "display_data"
    },
    {
     "name": "stdout",
     "output_type": "stream",
     "text": [
      "====================================================================================================\n",
      "요청한 문장: 대표적인 굽은선을 그려줘\n",
      "추출된 개념: 곡선\n",
      "추출된 인자: {'type': '타원', 'description': '타원은 가장 대표적인 굽은선의 한 종류로, 두 초점 사이의 거리의 합이 일정한 점들의 집합으로 정의됩니다.'}\n",
      "\n",
      "생성된 코드:\n",
      " \n",
      "    <svg width=\"500\" height=\"500\" xmlns=\"http://www.w3.org/2000/svg\">\n",
      "    <text x=\"250\" y=\"50\" font-size=\"25\" text-anchor=\"middle\">굽은선</text>\n",
      "    <!-- 복잡한 S자 곡선 (두 개의 Cubic Bézier) -->\n",
      "    <path d=\"M 100,400\n",
      "    C 100,100 400,100 400,250\n",
      "    C 400,400 100,400 100,100\"\n",
      "    stroke=\"black\" fill=\"none\" stroke-width=\"2\"/>\n",
      "    </svg>\n",
      "    \n",
      "\n",
      "생성된 설명:\n",
      " ### 곡선에 대한 설명\n",
      "\n",
      "**정의:**\n",
      "곡선은 직선이 아닌, 연속적으로 이어지는 점들의 모임으로 이루어진 도형입니다. 쉽게 말해, 직선처럼 일정한 방향으로만 움직이는 것이 아니라, 부드럽게 휘어지거나 굽어지는 형태를 가진 선을 말합니다.\n",
      "\n",
      "**기본 성질:**\n",
      "1. **연속성:** 곡선 위의 모든 점들은 부드럽게 이어져 있어, 어떤 작은 구간에서도 끊어지지 않고 이어집니다.\n",
      "2. **길이:** 곡선의 길이는 그 곡선을 따라 측정한 총 거리입니다. 이 길이는 곡선의 모양에 따라 달라집니다. 예를 들어, 원의 둘레는 반지름에 따라 결정되며, 이는 곡선의 길이를 정확히 계산하는 방법 중 하나입니다.\n",
      "3. **곡률:** 곡선이 얼마나 빠르게 방향을 바꾸는지를 나타내는 값입니다. 곡률이 크면 곡선이 더 급하게 굽어지고, 작으면 더 부드럽게 굽어집니다. 예를 들어, 원의 경우 모든 점에서 곡률이 일정합니다.\n",
      "4. **접선:** 곡선 위의 어떤 점에서 그 점을 지나는 가장 가까운 직선을 접선이라고 합니다. 이 접선은 그 점에서 곡선의 방향을 가장 잘 나타냅니다.\n",
      "\n",
      "이러한 성질들 덕분에 곡선은 자연 현상이나 공학적 설계 등 다양한 분야에서 중요한 역할을 합니다.\n"
     ]
    },
    {
     "data": {
      "image/svg+xml": [
       "<svg xmlns=\"http://www.w3.org/2000/svg\" width=\"500\" height=\"500\">\n",
       "    <text x=\"250\" y=\"50\" font-size=\"25\" text-anchor=\"middle\">굽은선</text>\n",
       "    <!-- 복잡한 S자 곡선 (두 개의 Cubic Bézier) -->\n",
       "    <path d=\"M 100,400     C 100,100 400,100 400,250     C 400,400 100,400 100,100\" stroke=\"black\" fill=\"none\" stroke-width=\"2\"/>\n",
       "    </svg>"
      ],
      "text/plain": [
       "<IPython.core.display.SVG object>"
      ]
     },
     "metadata": {},
     "output_type": "display_data"
    },
    {
     "name": "stdout",
     "output_type": "stream",
     "text": [
      "====================================================================================================\n",
      "요청한 문장: 중심이 (0,0)이고 반지름이 2인 원을 그려주세요.\n",
      "추출된 개념: Circle\n",
      "추출된 인자: {'radius': 2}\n",
      "\n",
      "생성된 코드:\n",
      " <svg width=\"500\" height=\"500\" xmlns=\"http://www.w3.org/2000/svg\">\n",
      "    <text x=\"250\" y=\"50\" font-size=\"25\" text-anchor=\"middle\">원</text>\n",
      "    <circle cx=\"250\" cy=\"250\" r=\"100\" stroke=\"black\" stroke-width=\"2\" fill=\"none\" />\n",
      "    <circle cx=\"250\" cy=\"250\" r=\"1\" stroke=\"black\" stroke-width=\"2\" fill=\"black\" />\n",
      "    <line x1=\"250\" y1=\"250\" x2=\"350\" y2=\"250\" stroke=\"black\" stroke-width=\"2\" />\n",
      "    </svg>\n",
      "    \n",
      "\n",
      "생성된 설명:\n",
      " ### Circle (원)\n",
      "\n",
      "#### 정의:\n",
      "원은 평면 위에서 한 점(중심)으로부터 일정한 거리(반지름)에 있는 모든 점들의 집합을 말합니다. 이 중심점을 기준으로 원 위의 모든 점들은 동일한 거리에 위치해 있습니다.\n",
      "\n",
      "#### 기본 성질:\n",
      "1. **둘레와 지름**: 원의 둘레는 지름에 π(약 3.14)를 곱한 값입니다. 즉, 둘레 = 지름 × π 입니다. 반대로 지름은 둘레를 π로 나누면 구할 수 있습니다.\n",
      "   \n",
      "2. **면적**: 원의 면적은 반지름의 제곱에 π를 곱한 값입니다. 공식으로 표현하면 면적 = π × 반지름2 입니다.\n",
      "\n",
      "3. **대칭성**: 원은 중심을 기준으로 완벽하게 대칭입니다. 즉, 중심을 지나는 어떤 직선을 기준으로 원을 접어도 양쪽이 완전히 일치합니다.\n",
      "\n",
      "4. **원주각과 호의 관계**: 원 위의 두 점을 잇는 호의 중앙각은 그 호에 대응하는 원주각의 두 배입니다. 예를 들어, 호의 중앙각이 θ라면 원주각은 θ/2가 됩니다.\n",
      "\n",
      "이러한 성질들로 인해 원은 기하학에서 매우 중요한 역할을 합니다. 다양한 도형과 문제 해결에 활용되며, 일상생활에서도 자주 접하게 되는 개념입니다.\n",
      "\n",
      "생성된 공식 raw:\n",
      " {'perimeter': '2 \\\\times 3.14 \\\\times 반지름', 'area': '3.14 \\\\times 반지름 \\\\times 반지름'}\n"
     ]
    },
    {
     "data": {
      "text/latex": [
       "$\\displaystyle 2 \\times 3.14 \\times 반지름$"
      ],
      "text/plain": [
       "<IPython.core.display.Math object>"
      ]
     },
     "metadata": {},
     "output_type": "display_data"
    },
    {
     "data": {
      "text/latex": [
       "$\\displaystyle 3.14 \\times 반지름 \\times 반지름$"
      ],
      "text/plain": [
       "<IPython.core.display.Math object>"
      ]
     },
     "metadata": {},
     "output_type": "display_data"
    },
    {
     "data": {
      "image/svg+xml": [
       "<svg xmlns=\"http://www.w3.org/2000/svg\" width=\"500\" height=\"500\">\n",
       "    <text x=\"250\" y=\"50\" font-size=\"25\" text-anchor=\"middle\">원</text>\n",
       "    <circle cx=\"250\" cy=\"250\" r=\"100\" stroke=\"black\" stroke-width=\"2\" fill=\"none\"/>\n",
       "    <circle cx=\"250\" cy=\"250\" r=\"1\" stroke=\"black\" stroke-width=\"2\" fill=\"black\"/>\n",
       "    <line x1=\"250\" y1=\"250\" x2=\"350\" y2=\"250\" stroke=\"black\" stroke-width=\"2\"/>\n",
       "    </svg>"
      ],
      "text/plain": [
       "<IPython.core.display.SVG object>"
      ]
     },
     "metadata": {},
     "output_type": "display_data"
    },
    {
     "name": "stdout",
     "output_type": "stream",
     "text": [
      "====================================================================================================\n",
      "요청한 문장: 37° 각도를 그려줘\n",
      "추출된 개념: 각도\n",
      "추출된 인자: {'size': 37}\n",
      "\n",
      "생성된 코드:\n",
      " <svg width=\"500\" height=\"375\" xmlns=\"http://www.w3.org/2000/svg\">\n",
      "    <text x=\"250\" y=\"50\" font-size=\"25\" text-anchor=\"middle\">각</text>\n",
      "    <!-- 기준선 -->\n",
      "    <line x1=\"125\" y1=\"333\" x2=\"375\" y2=\"333\" stroke=\"black\" stroke-width=\"2\" />\n",
      "    <!-- 기울어진 선 -->\n",
      "    <line x1=\"125\" y1=\"333\" x2=\"324.6588775118232\" y2=\"182.54624421198793\" stroke=\"black\" stroke-width=\"2\" />\n",
      "    <!-- 각도 호 -->\n",
      "    <path d=\"M 164.93177550236464,302.9092488423976 A 50,50 0 0,1 175,333\" stroke=\"black\" stroke-width=\"2\" fill=\"none\"/>\n",
      "    </svg>\n",
      "    \n",
      "\n",
      "생성된 설명:\n",
      " ### 각도에 대한 설명\n",
      "\n",
      "**정의:**\n",
      "각도는 두 직선이나 선분이 만나서 생기는 공간의 크기를 측정하는 방법입니다. 우리가 일상에서 자주 접하는 각도는 주로 도로 표지판에서 볼 수 있는 방향 지시나, 그림에서 선들이 만나는 부분을 표현할 때 사용됩니다.\n",
      "\n",
      "**기본 성질:**\n",
      "1. **직선의 각도:** 직선은 정확히 180도의 각도를 가집니다. 직선은 두 방향으로 무한히 이어지는 것처럼 보이지만, 실제로는 시작점과 끝점이 있습니다.\n",
      "   \n",
      "2. **직각 각도:** 직각은 90도를 의미합니다. 이는 우리가 흔히 사용하는 'L'자 모양의 모서리나 사각형의 모서리에서 볼 수 있습니다. 직각은 두 직선이 서로 수직으로 만나는 경우에 생깁니다.\n",
      "\n",
      "3. **평행선과 각도:** 평행한 두 직선은 만나지 않기 때문에, 그들 사이의 각도는 항상 같습니다. 예를 들어, 두 평행선 위에 그려진 삼각형의 한 각은 다른 각과 크기가 동일합니다.\n",
      "\n",
      "4. **복합 각도:** 여러 각도를 합쳐서 더 큰 각도를 만들 수 있습니다. 예를 들어, 두 개의 직각 각도를 합치면 180도가 됩니다.\n",
      "\n",
      "이러한 기본적인 개념들을 이해하면 각도에 대한 다양한 문제를 풀 때 도움이 될 것입니다!\n"
     ]
    },
    {
     "data": {
      "image/svg+xml": [
       "<svg xmlns=\"http://www.w3.org/2000/svg\" width=\"500\" height=\"375\">\n",
       "    <text x=\"250\" y=\"50\" font-size=\"25\" text-anchor=\"middle\">각</text>\n",
       "    <!-- 기준선 -->\n",
       "    <line x1=\"125\" y1=\"333\" x2=\"375\" y2=\"333\" stroke=\"black\" stroke-width=\"2\"/>\n",
       "    <!-- 기울어진 선 -->\n",
       "    <line x1=\"125\" y1=\"333\" x2=\"324.6588775118232\" y2=\"182.54624421198793\" stroke=\"black\" stroke-width=\"2\"/>\n",
       "    <!-- 각도 호 -->\n",
       "    <path d=\"M 164.93177550236464,302.9092488423976 A 50,50 0 0,1 175,333\" stroke=\"black\" stroke-width=\"2\" fill=\"none\"/>\n",
       "    </svg>"
      ],
      "text/plain": [
       "<IPython.core.display.SVG object>"
      ]
     },
     "metadata": {},
     "output_type": "display_data"
    },
    {
     "name": "stdout",
     "output_type": "stream",
     "text": [
      "====================================================================================================\n",
      "요청한 문장: 직각을 표현해줘\n",
      "추출된 개념: Right Angle\n",
      "추출된 인자: {}\n",
      "\n",
      "생성된 코드:\n",
      " <svg width=\"500\" height=\"500\" xmlns=\"http://www.w3.org/2000/svg\">\n",
      "    <text x=\"250\" y=\"50\" font-size=\"25\" text-anchor=\"middle\">직각</text>\n",
      "    <!-- 기준선 -->\n",
      "    <line x1=\"125\" y1=\"400\" x2=\"458\" y2=\"400\" stroke=\"black\" stroke-width=\"2\" />\n",
      "    <!-- 기울어진 선 -->\n",
      "    <line x1=\"125\" y1=\"400\" x2=\"125\" y2=\"67\" stroke=\"black\" stroke-width=\"2\" />\n",
      "    <!-- 직각 보조선 -->\n",
      "    <line x1=\"175\" y1=\"400\" x2=\"175\" y2=\"350\" stroke=\"black\" stroke-width=\"2\" />\n",
      "    <line x1=\"125\" y1=\"350\" x2=\"175\" y2=\"350\" stroke=\"black\" stroke-width=\"2\" />\n",
      "    </svg>\n",
      "    \n",
      "\n",
      "생성된 설명:\n",
      " ### Right Angle\n",
      "\n",
      "**정의:**\n",
      "Right Angle은 기하학에서 가장 기본적인 각도 중 하나로, 정확히 90도를 이루는 각도를 말합니다. 이 각도는 직각이라고도 불리며, 직선이나 특정 도형의 모서리에서 만나는 두 변이 서로 수직으로 만나는 경우에 나타납니다.\n",
      "\n",
      "**기본 성질:**\n",
      "1. **크기:** Right Angle은 항상 정확히 90도입니다. 이는 모든 Right Angle이 동일한 크기를 가짐을 의미합니다.\n",
      "2. **모양:** Right Angle은 보통 'L' 모양으로 쉽게 인식할 수 있습니다. 이 모양은 직각을 나타내는 데 자주 사용됩니다.\n",
      "3. **도형과의 관계:** 직각은 사각형, 직사각형, 정사각형 등 다양한 도형의 모서리에서 발견됩니다. 특히, 직사각형이나 정사각형은 네 개의 Right Angle을 가지고 있습니다.\n",
      "4. **삼각형과의 연관성:** 직각삼각형은 한 내각이 정확히 Right Angle인 삼각형을 의미합니다. 이 삼각형은 세 변의 길이 관계를 통해 피타고라스 정리를 적용할 수 있습니다.\n",
      "\n",
      "이러한 성질들로 인해 Right Angle은 수학에서 매우 중요한 개념으로 자리잡고 있습니다!\n"
     ]
    },
    {
     "data": {
      "image/svg+xml": [
       "<svg xmlns=\"http://www.w3.org/2000/svg\" width=\"500\" height=\"500\">\n",
       "    <text x=\"250\" y=\"50\" font-size=\"25\" text-anchor=\"middle\">직각</text>\n",
       "    <!-- 기준선 -->\n",
       "    <line x1=\"125\" y1=\"400\" x2=\"458\" y2=\"400\" stroke=\"black\" stroke-width=\"2\"/>\n",
       "    <!-- 기울어진 선 -->\n",
       "    <line x1=\"125\" y1=\"400\" x2=\"125\" y2=\"67\" stroke=\"black\" stroke-width=\"2\"/>\n",
       "    <!-- 직각 보조선 -->\n",
       "    <line x1=\"175\" y1=\"400\" x2=\"175\" y2=\"350\" stroke=\"black\" stroke-width=\"2\"/>\n",
       "    <line x1=\"125\" y1=\"350\" x2=\"175\" y2=\"350\" stroke=\"black\" stroke-width=\"2\"/>\n",
       "    </svg>"
      ],
      "text/plain": [
       "<IPython.core.display.SVG object>"
      ]
     },
     "metadata": {},
     "output_type": "display_data"
    },
    {
     "name": "stdout",
     "output_type": "stream",
     "text": [
      "====================================================================================================\n",
      "요청한 문장: 밑변이 3이고, 높이가 4인 직각삼각형 하나를 그려줘\n",
      "추출된 개념: Right Triangle\n",
      "추출된 인자: {'base': 3, 'height': 4}\n",
      "\n",
      "생성된 코드:\n",
      " <svg width=\"500\" height=\"500\" xmlns=\"http://www.w3.org/2000/svg\">\n",
      "    <text x=\"250\" y=\"50\" font-size=\"25\" text-anchor=\"middle\">직각삼각형</text>\n",
      "    <!-- 직각삼각형 -->\n",
      "    <line x1=\"83\" y1=\"416\" x2=\"308\" y2=\"416\" stroke=\"black\" stroke-width=\"2\" />\n",
      "    <line x1=\"308\" y1=\"416\" x2=\"308\" y2=\"166\" stroke=\"black\" stroke-width=\"2\" />\n",
      "    <line x1=\"83\" y1=\"416\" x2=\"308\" y2=\"166\" stroke=\"black\" stroke-width=\"2\" />\n",
      "    <!-- 직각 보조선 -->\n",
      "    <line x1=\"286\" y1=\"416\" x2=\"286\" y2=\"394\" stroke=\"black\" stroke-width=\"2\" />\n",
      "    <line x1=\"286\" y1=\"394\" x2=\"308\" y2=\"394\" stroke=\"black\" stroke-width=\"2\" />\n",
      "    </svg>\n",
      "    \n",
      "\n",
      "생성된 설명:\n",
      " ### Right Triangle\n",
      "\n",
      "**정의:**\n",
      "A right triangle is a special type of triangle that has one angle which measures exactly 90 degrees (a right angle). This unique angle distinguishes it from other triangles where all angles are less than 90 degrees.\n",
      "\n",
      "**기본 성질:**\n",
      "1. **한 각이 직각:** 가장 중요한 특징은 한 꼭짓점에서 직각(90°)을 이루는 것입니다.\n",
      "2. **직각을 중심으로 두 개의 다른 각:** 나머지 두 각은 합쳐 90도가 됩니다. 따라서 이 두 각은 서로 보완각(complementary angles)입니다.\n",
      "3. **피타고라스 정리 적용 가능:** 직각 삼각형에서는 가장 긴 변을 빗변(hypotenuse)이라고 부르며, 이 빗변의 길이는 다른 두 변(직각을 이루는 두 변을 밑변과 높이라고도 부릅니다)의 길이와 특별한 관계를 가집니다. 이 관계는 피타고라스 정리로 표현되는데, 수학적으로는 \\(a^2 + b^2 = c^2\\) 입니다 (여기서 \\(c\\)는 빗변의 길이이고, \\(a\\)와 \\(b\\)는 다른 두 변의 길이입니다). 하지만 문제 해결을 위해 직접적인 공식보다는 이 관계를 이해하는 것이 중요합니다.\n",
      "4. **삼각형의 종류:** 직각 삼각형은 그 각도에 따라 다양한 종류로 나눌 수 있습니다. 예를 들어, 모든 변의 길이가 정수인 직각 삼각형을 피타고라스 삼각형이라고 부르기도 합니다.\n",
      "\n",
      "이런 특징들로 인해 직각 삼각형은 건축, 공학, 그리고 다양한 실생활 문제 해결에서 매우 중요한 역할을 합니다!\n",
      "\n",
      "생성된 공식 raw:\n",
      " {'perimeter': '밑변 + 높이 + 빗변', 'area': '밑변 × 높이 ÷ 2'}\n"
     ]
    },
    {
     "data": {
      "text/latex": [
       "$\\displaystyle 밑변 + 높이 + 빗변$"
      ],
      "text/plain": [
       "<IPython.core.display.Math object>"
      ]
     },
     "metadata": {},
     "output_type": "display_data"
    },
    {
     "data": {
      "text/latex": [
       "$\\displaystyle 밑변 × 높이 ÷ 2$"
      ],
      "text/plain": [
       "<IPython.core.display.Math object>"
      ]
     },
     "metadata": {},
     "output_type": "display_data"
    },
    {
     "data": {
      "image/svg+xml": [
       "<svg xmlns=\"http://www.w3.org/2000/svg\" width=\"500\" height=\"500\">\n",
       "    <text x=\"250\" y=\"50\" font-size=\"25\" text-anchor=\"middle\">직각삼각형</text>\n",
       "    <!-- 직각삼각형 -->\n",
       "    <line x1=\"83\" y1=\"416\" x2=\"308\" y2=\"416\" stroke=\"black\" stroke-width=\"2\"/>\n",
       "    <line x1=\"308\" y1=\"416\" x2=\"308\" y2=\"166\" stroke=\"black\" stroke-width=\"2\"/>\n",
       "    <line x1=\"83\" y1=\"416\" x2=\"308\" y2=\"166\" stroke=\"black\" stroke-width=\"2\"/>\n",
       "    <!-- 직각 보조선 -->\n",
       "    <line x1=\"286\" y1=\"416\" x2=\"286\" y2=\"394\" stroke=\"black\" stroke-width=\"2\"/>\n",
       "    <line x1=\"286\" y1=\"394\" x2=\"308\" y2=\"394\" stroke=\"black\" stroke-width=\"2\"/>\n",
       "    </svg>"
      ],
      "text/plain": [
       "<IPython.core.display.SVG object>"
      ]
     },
     "metadata": {},
     "output_type": "display_data"
    },
    {
     "name": "stdout",
     "output_type": "stream",
     "text": [
      "====================================================================================================\n",
      "요청한 문장: 가로가 5, 세로가 3인 직사각형의 넓이\n",
      "추출된 개념: Rectangle\n",
      "추출된 인자: {'width': 5, 'height': 3}\n",
      "\n",
      "생성된 코드:\n",
      " <svg width=\"500\" height=\"312\" xmlns=\"http://www.w3.org/2000/svg\">\n",
      "    <text x=\"250\" y=\"50\" font-size=\"25\" text-anchor=\"middle\">직사각형</text>\n",
      "    <rect x=\"100\" y=\"100\" width=\"250\" height=\"150\" stroke=\"black\" stroke-width=\"2\" fill=\"none\" />\n",
      "    </svg>\n",
      "\n",
      "생성된 설명:\n",
      " ### Rectangle 설명\n",
      "\n",
      "**정의:**\n",
      "사각형은 네 개의 직선으로 둘러싸인 평면 도형으로, 각 내각이 직각(90도)인 특징을 가지고 있습니다. 즉, 사각형의 네 모서리는 모두 직각을 이루며, 대변이 평행하고 길이가 같은 특성을 갖습니다.\n",
      "\n",
      "**기본 성질:**\n",
      "1. **대변의 길이가 같음:** 사각형의 두 쌍의 대변은 길이가 동일합니다. 예를 들어, 가로와 세로가 같은 길이를 가집니다.\n",
      "2. **대각선이 서로 같음:** 사각형의 두 대각선은 길이가 같습니다. 즉, 사각형을 두 개의 동일한 삼각형으로 나눌 수 있습니다.\n",
      "3. **내각의 합:** 사각형의 네 내각의 합은 항상 360도입니다.\n",
      "4. **변의 배열:** 사각형은 여러 가지 형태로 배열될 수 있습니다. 예를 들어, 직사각형은 가로와 세로가 각각 다른 길이를 가질 수 있으며, 정사각형은 모든 변의 길이가 같고 모든 내각이 직각인 특별한 형태의 사각형입니다.\n",
      "\n",
      "이러한 성질들로 인해 사각형은 우리 일상생활에서 매우 흔하게 볼 수 있는 도형입니다!\n",
      "\n",
      "생성된 공식 raw:\n",
      " {'perimeter': '2 × (밑변 + 높이)', 'area': '밑변 × 높이'}\n"
     ]
    },
    {
     "data": {
      "text/latex": [
       "$\\displaystyle 2 × (밑변 + 높이)$"
      ],
      "text/plain": [
       "<IPython.core.display.Math object>"
      ]
     },
     "metadata": {},
     "output_type": "display_data"
    },
    {
     "data": {
      "text/latex": [
       "$\\displaystyle 밑변 × 높이$"
      ],
      "text/plain": [
       "<IPython.core.display.Math object>"
      ]
     },
     "metadata": {},
     "output_type": "display_data"
    },
    {
     "data": {
      "image/svg+xml": [
       "<svg xmlns=\"http://www.w3.org/2000/svg\" width=\"500\" height=\"312\">\n",
       "    <text x=\"250\" y=\"50\" font-size=\"25\" text-anchor=\"middle\">직사각형</text>\n",
       "    <rect x=\"100\" y=\"100\" width=\"250\" height=\"150\" stroke=\"black\" stroke-width=\"2\" fill=\"none\"/>\n",
       "    </svg>"
      ],
      "text/plain": [
       "<IPython.core.display.SVG object>"
      ]
     },
     "metadata": {},
     "output_type": "display_data"
    },
    {
     "name": "stdout",
     "output_type": "stream",
     "text": [
      "====================================================================================================\n",
      "요청한 문장: 한 변의 길이가 2인 정사각형 하나를 그려줘\n",
      "추출된 개념: Square\n",
      "추출된 인자: {'length': 2}\n",
      "\n",
      "생성된 코드:\n",
      " <svg width=\"500\" height=\"500\" xmlns=\"http://www.w3.org/2000/svg\">\n",
      "    <text x=\"250\" y=\"50\" font-size=\"25\" text-anchor=\"middle\">정사각형</text>\n",
      "    <rect x=\"100\" y=\"100\" width=\"200\" height=\"200\" stroke=\"black\" stroke-width=\"2\" fill=\"none\" />\n",
      "    </svg>\n",
      "\n",
      "생성된 설명:\n",
      " ### Square\n",
      "\n",
      "**정의:**\n",
      "사각형은 네 개의 변으로 이루어진 평면 도형입니다. 모든 내각이 직각(90도)이며, 반대편의 변들이 길이가 같아서 마주보는 두 변은 평행하고 길이가 동일합니다.\n",
      "\n",
      "**기본 성질:**\n",
      "1. **대변의 길이 동일:** 사각형의 마주보는 두 변은 길이가 같습니다. 예를 들어, 정사각형이나 직사각형에서는 모든 대변이 같은 길이를 가집니다.\n",
      "2. **대각선의 성질:** 사각형의 대각선은 서로를 반으로 나눕니다. 즉, 대각선이 만나는 점에서 대각선을 잇는 선분들은 서로를 절반으로 나눕니다.\n",
      "3. **변의 합:** 사각형의 네 변의 길이를 모두 더하면, 그 합은 사각형의 둘레를 나타냅니다. 예를 들어, 한 변의 길이가 \\(a\\)이고 다른 변의 길이가 \\(b\\)라면, 둘레는 \\(a + b + a + b = 2(a + b)\\)가 됩니다.\n",
      "4. **정사각형의 특징:** 정사각형은 모든 변의 길이가 같고 모든 내각이 직각인 특별한 사각형입니다. 모든 대각선도 길이가 같고 서로를 직각으로 이룹니다.\n",
      "\n",
      "이러한 성질들로 인해 사각형은 다양한 형태와 크기로 존재하며, 건축, 디자인, 그리고 일상생활에서 자주 볼 수 있는 도형입니다!\n",
      "\n",
      "생성된 공식 raw:\n",
      " {'perimeter': '4 \\\\times \\\\mathrm{한 변의 길이}', 'area': '\\\\mathrm{한 변의 길이} \\\\times \\\\mathrm{한 변의 길이}'}\n"
     ]
    },
    {
     "data": {
      "text/latex": [
       "$\\displaystyle 4 \\times \\mathrm{한 변의 길이}$"
      ],
      "text/plain": [
       "<IPython.core.display.Math object>"
      ]
     },
     "metadata": {},
     "output_type": "display_data"
    },
    {
     "data": {
      "text/latex": [
       "$\\displaystyle \\mathrm{한 변의 길이} \\times \\mathrm{한 변의 길이}$"
      ],
      "text/plain": [
       "<IPython.core.display.Math object>"
      ]
     },
     "metadata": {},
     "output_type": "display_data"
    },
    {
     "data": {
      "image/svg+xml": [
       "<svg xmlns=\"http://www.w3.org/2000/svg\" width=\"500\" height=\"500\">\n",
       "    <text x=\"250\" y=\"50\" font-size=\"25\" text-anchor=\"middle\">정사각형</text>\n",
       "    <rect x=\"100\" y=\"100\" width=\"200\" height=\"200\" stroke=\"black\" stroke-width=\"2\" fill=\"none\"/>\n",
       "    </svg>"
      ],
      "text/plain": [
       "<IPython.core.display.SVG object>"
      ]
     },
     "metadata": {},
     "output_type": "display_data"
    },
    {
     "name": "stdout",
     "output_type": "stream",
     "text": [
      "====================================================================================================\n",
      "요청한 문장: 곧은선이 뭐야?\n",
      "추출된 개념: 직선\n",
      "추출된 인자: {}\n",
      "\n",
      "생성된 코드:\n",
      " <svg width=\"500\" height=\"500\" xmlns=\"http://www.w3.org/2000/svg\">\n",
      "    <text x=\"250\" y=\"25\" font-size=\"25\" text-anchor=\"middle\">곧은선</text>\n",
      "    <text x=\"250\" y=\"75\" font-size=\"25\" text-anchor=\"middle\">선분</text>\n",
      "    <!-- 선분 -->\n",
      "    <circle cx=\"125\" cy=\"125\" r=\"1\" stroke=\"black\" stroke-width=\"2\" fill=\"black\" />\n",
      "    <circle cx=\"375\" cy=\"125\" r=\"1\" stroke=\"black\" stroke-width=\"2\" fill=\"black\" />\n",
      "    <line x1=\"125\" y1=\"125\" x2=\"375\" y2=\"125\" stroke=\"black\" stroke-width=\"2\" />\n",
      "    <!-- 반직선 -->\n",
      "    <text x=\"250\" y=\"175\" font-size=\"25\" text-anchor=\"middle\">반직선</text>\n",
      "    <circle cx=\"125\" cy=\"250\" r=\"1\" stroke=\"black\" stroke-width=\"2\" fill=\"black\" />\n",
      "    <circle cx=\"375\" cy=\"250\" r=\"1\" stroke=\"black\" stroke-width=\"2\" fill=\"black\" />\n",
      "    <line x1=\"125\" y1=\"250\" x2=\"500\" y2=\"250\" stroke=\"black\" stroke-width=\"2\" />\n",
      "    <!-- 직선 -->\n",
      "    <text x=\"250\" y=\"300\" font-size=\"25\" text-anchor=\"middle\">직선</text>\n",
      "    <circle cx=\"125\" cy=\"375\" r=\"1\" stroke=\"black\" stroke-width=\"2\" fill=\"black\" />\n",
      "    <circle cx=\"375\" cy=\"375\" r=\"1\" stroke=\"black\" stroke-width=\"2\" fill=\"black\" />\n",
      "    <line x1=\"0\" y1=\"375\" x2=\"500\" y2=\"375\" stroke=\"black\" stroke-width=\"2\" />\n",
      "    </svg>\n",
      "    \n",
      "\n",
      "생성된 설명:\n",
      " ### 직선에 대한 설명\n",
      "\n",
      "#### 정의\n",
      "직선은 평면 위에서 가장 짧은 거리로 두 점을 연결하는 선을 말합니다. 이 선은 양쪽으로 무한히 계속되며, 방향이 항상 일정합니다. 직선 위의 모든 점들은 서로 평행하게 연결되어 있어, 어떤 방향으로든 뻗어나갈 수 있습니다.\n",
      "\n",
      "#### 기본 성질\n",
      "1. **무한한 길이**: 직선은 양쪽으로 무한히 이어집니다. 즉, 시작점에서 끝점까지의 거리가 아무리 길어도 계속해서 뻗어나갈 수 있습니다.\n",
      "2. **평행한 선들**: 같은 방향으로 무한히 뻗어나가는 두 직선은 서로 평행합니다. 반대로, 서로 다른 방향으로 무한히 뻗어나가는 두 직선은 교차하지 않습니다.\n",
      "3. **직선 위의 점들**: 직선 위의 모든 점들은 서로 연결되어 있어, 어떤 두 점을 잇는 선분은 항상 직선의 일부분입니다.\n",
      "4. **직선의 대칭성**: 직선을 기준으로 대칭인 두 부분은 서로 완전히 일치합니다. 예를 들어, 한 점을 기준으로 대칭인 두 점은 직선 양쪽에 동일한 거리에 위치합니다.\n",
      "\n",
      "이러한 성질들로 인해 직선은 기하학에서 매우 중요한 개념으로 사용됩니다!\n"
     ]
    },
    {
     "data": {
      "image/svg+xml": [
       "<svg xmlns=\"http://www.w3.org/2000/svg\" width=\"500\" height=\"500\">\n",
       "    <text x=\"250\" y=\"25\" font-size=\"25\" text-anchor=\"middle\">곧은선</text>\n",
       "    <text x=\"250\" y=\"75\" font-size=\"25\" text-anchor=\"middle\">선분</text>\n",
       "    <!-- 선분 -->\n",
       "    <circle cx=\"125\" cy=\"125\" r=\"1\" stroke=\"black\" stroke-width=\"2\" fill=\"black\"/>\n",
       "    <circle cx=\"375\" cy=\"125\" r=\"1\" stroke=\"black\" stroke-width=\"2\" fill=\"black\"/>\n",
       "    <line x1=\"125\" y1=\"125\" x2=\"375\" y2=\"125\" stroke=\"black\" stroke-width=\"2\"/>\n",
       "    <!-- 반직선 -->\n",
       "    <text x=\"250\" y=\"175\" font-size=\"25\" text-anchor=\"middle\">반직선</text>\n",
       "    <circle cx=\"125\" cy=\"250\" r=\"1\" stroke=\"black\" stroke-width=\"2\" fill=\"black\"/>\n",
       "    <circle cx=\"375\" cy=\"250\" r=\"1\" stroke=\"black\" stroke-width=\"2\" fill=\"black\"/>\n",
       "    <line x1=\"125\" y1=\"250\" x2=\"500\" y2=\"250\" stroke=\"black\" stroke-width=\"2\"/>\n",
       "    <!-- 직선 -->\n",
       "    <text x=\"250\" y=\"300\" font-size=\"25\" text-anchor=\"middle\">직선</text>\n",
       "    <circle cx=\"125\" cy=\"375\" r=\"1\" stroke=\"black\" stroke-width=\"2\" fill=\"black\"/>\n",
       "    <circle cx=\"375\" cy=\"375\" r=\"1\" stroke=\"black\" stroke-width=\"2\" fill=\"black\"/>\n",
       "    <line x1=\"0\" y1=\"375\" x2=\"500\" y2=\"375\" stroke=\"black\" stroke-width=\"2\"/>\n",
       "    </svg>"
      ],
      "text/plain": [
       "<IPython.core.display.SVG object>"
      ]
     },
     "metadata": {},
     "output_type": "display_data"
    },
    {
     "name": "stdout",
     "output_type": "stream",
     "text": [
      "====================================================================================================\n",
      "요청한 문장: 대표적인 굽은선을 그려줘\n",
      "추출된 개념: 곡선\n",
      "추출된 인자: {'type': '타원', 'description': '타원은 가장 대표적인 굽은선의 한 종류로, 두 초점 사이의 거리의 합이 일정한 점들의 집합으로 정의됩니다.'}\n",
      "\n",
      "생성된 코드:\n",
      " \n",
      "    <svg width=\"500\" height=\"500\" xmlns=\"http://www.w3.org/2000/svg\">\n",
      "    <text x=\"250\" y=\"50\" font-size=\"25\" text-anchor=\"middle\">굽은선</text>\n",
      "    <!-- 복잡한 S자 곡선 (두 개의 Cubic Bézier) -->\n",
      "    <path d=\"M 100,400\n",
      "    C 100,100 400,100 400,250\n",
      "    C 400,400 100,400 100,100\"\n",
      "    stroke=\"black\" fill=\"none\" stroke-width=\"2\"/>\n",
      "    </svg>\n",
      "    \n",
      "\n",
      "생성된 설명:\n",
      " ### 곡선에 대한 설명\n",
      "\n",
      "**정의:**\n",
      "곡선은 직선이 아닌, 연속적으로 이어지는 점들의 모임으로 이루어진 도형입니다. 쉽게 말해, 직선처럼 일정한 방향으로만 움직이는 것이 아니라, 부드럽게 휘어지거나 굽어지는 형태를 가진 선을 말합니다.\n",
      "\n",
      "**기본 성질:**\n",
      "1. **연속성:** 곡선 위의 모든 점들은 부드럽게 이어져 있어, 어떤 작은 구간에서도 끊어지지 않고 이어집니다.\n",
      "2. **길이:** 곡선의 길이는 그 곡선을 따라 측정한 총 거리입니다. 이 길이는 곡선의 모양에 따라 달라집니다. 예를 들어, 원의 둘레는 반지름에 따라 결정되며, 이는 곡선의 길이를 정확히 계산하는 방법 중 하나입니다.\n",
      "3. **곡률:** 곡선이 얼마나 빠르게 방향을 바꾸는지를 나타내는 값입니다. 곡률이 크면 곡선이 더 급하게 굽어지고, 작으면 더 부드럽게 굽어집니다. 예를 들어, 원의 경우 모든 점에서 곡률이 일정합니다.\n",
      "4. **접선:** 곡선 위의 어떤 점에서 그 점을 지나는 가장 가까운 직선을 접선이라고 합니다. 이 접선은 그 점에서 곡선의 방향을 가장 잘 나타냅니다.\n",
      "\n",
      "이러한 성질들 덕분에 곡선은 자연 현상이나 공학적 설계 등 다양한 분야에서 중요한 역할을 합니다.\n"
     ]
    },
    {
     "data": {
      "image/svg+xml": [
       "<svg xmlns=\"http://www.w3.org/2000/svg\" width=\"500\" height=\"500\">\n",
       "    <text x=\"250\" y=\"50\" font-size=\"25\" text-anchor=\"middle\">굽은선</text>\n",
       "    <!-- 복잡한 S자 곡선 (두 개의 Cubic Bézier) -->\n",
       "    <path d=\"M 100,400     C 100,100 400,100 400,250     C 400,400 100,400 100,100\" stroke=\"black\" fill=\"none\" stroke-width=\"2\"/>\n",
       "    </svg>"
      ],
      "text/plain": [
       "<IPython.core.display.SVG object>"
      ]
     },
     "metadata": {},
     "output_type": "display_data"
    },
    {
     "name": "stdout",
     "output_type": "stream",
     "text": [
      "====================================================================================================\n",
      "요청한 문장: 중심이 (0,0)이고 반지름이 2인 원을 그려주세요.\n",
      "추출된 개념: Circle\n",
      "추출된 인자: {'radius': 2}\n",
      "\n",
      "생성된 코드:\n",
      " <svg width=\"500\" height=\"500\" xmlns=\"http://www.w3.org/2000/svg\">\n",
      "    <text x=\"250\" y=\"50\" font-size=\"25\" text-anchor=\"middle\">원</text>\n",
      "    <circle cx=\"250\" cy=\"250\" r=\"100\" stroke=\"black\" stroke-width=\"2\" fill=\"none\" />\n",
      "    <circle cx=\"250\" cy=\"250\" r=\"1\" stroke=\"black\" stroke-width=\"2\" fill=\"black\" />\n",
      "    <line x1=\"250\" y1=\"250\" x2=\"350\" y2=\"250\" stroke=\"black\" stroke-width=\"2\" />\n",
      "    </svg>\n",
      "    \n",
      "\n",
      "생성된 설명:\n",
      " ### Circle (원)\n",
      "\n",
      "#### 정의:\n",
      "원은 평면 위에서 한 점(중심)으로부터 일정한 거리(반지름)에 있는 모든 점들의 집합을 말합니다. 이 중심점을 기준으로 원 위의 모든 점들은 동일한 거리에 위치해 있습니다.\n",
      "\n",
      "#### 기본 성질:\n",
      "1. **둘레와 지름**: 원의 둘레는 지름에 π(약 3.14)를 곱한 값입니다. 즉, 둘레 = 지름 × π 입니다. 반대로 지름은 둘레를 π로 나누면 구할 수 있습니다.\n",
      "   \n",
      "2. **면적**: 원의 면적은 반지름의 제곱에 π를 곱한 값입니다. 공식으로 표현하면 면적 = π × 반지름2 입니다.\n",
      "\n",
      "3. **대칭성**: 원은 중심을 기준으로 완벽하게 대칭입니다. 즉, 중심을 지나는 어떤 직선을 기준으로 원을 접어도 양쪽이 완전히 일치합니다.\n",
      "\n",
      "4. **원주각과 호의 관계**: 원 위의 두 점을 잇는 호의 중앙각은 그 호에 대응하는 원주각의 두 배입니다. 예를 들어, 호의 중앙각이 θ라면 원주각은 θ/2가 됩니다.\n",
      "\n",
      "이러한 성질들로 인해 원은 기하학에서 매우 중요한 역할을 합니다. 다양한 도형과 문제 해결에 활용되며, 일상생활에서도 자주 접하게 되는 개념입니다.\n",
      "\n",
      "생성된 공식 raw:\n",
      " {'perimeter': '2 \\\\times 3.14 \\\\times 반지름', 'area': '3.14 \\\\times 반지름 \\\\times 반지름'}\n"
     ]
    },
    {
     "data": {
      "text/latex": [
       "$\\displaystyle 2 \\times 3.14 \\times 반지름$"
      ],
      "text/plain": [
       "<IPython.core.display.Math object>"
      ]
     },
     "metadata": {},
     "output_type": "display_data"
    },
    {
     "data": {
      "text/latex": [
       "$\\displaystyle 3.14 \\times 반지름 \\times 반지름$"
      ],
      "text/plain": [
       "<IPython.core.display.Math object>"
      ]
     },
     "metadata": {},
     "output_type": "display_data"
    },
    {
     "data": {
      "image/svg+xml": [
       "<svg xmlns=\"http://www.w3.org/2000/svg\" width=\"500\" height=\"500\">\n",
       "    <text x=\"250\" y=\"50\" font-size=\"25\" text-anchor=\"middle\">원</text>\n",
       "    <circle cx=\"250\" cy=\"250\" r=\"100\" stroke=\"black\" stroke-width=\"2\" fill=\"none\"/>\n",
       "    <circle cx=\"250\" cy=\"250\" r=\"1\" stroke=\"black\" stroke-width=\"2\" fill=\"black\"/>\n",
       "    <line x1=\"250\" y1=\"250\" x2=\"350\" y2=\"250\" stroke=\"black\" stroke-width=\"2\"/>\n",
       "    </svg>"
      ],
      "text/plain": [
       "<IPython.core.display.SVG object>"
      ]
     },
     "metadata": {},
     "output_type": "display_data"
    },
    {
     "name": "stdout",
     "output_type": "stream",
     "text": [
      "====================================================================================================\n",
      "요청한 문장: 37° 각도를 그려줘\n",
      "추출된 개념: 각도\n",
      "추출된 인자: {'size': 37}\n",
      "\n",
      "생성된 코드:\n",
      " <svg width=\"500\" height=\"375\" xmlns=\"http://www.w3.org/2000/svg\">\n",
      "    <text x=\"250\" y=\"50\" font-size=\"25\" text-anchor=\"middle\">각</text>\n",
      "    <!-- 기준선 -->\n",
      "    <line x1=\"125\" y1=\"333\" x2=\"375\" y2=\"333\" stroke=\"black\" stroke-width=\"2\" />\n",
      "    <!-- 기울어진 선 -->\n",
      "    <line x1=\"125\" y1=\"333\" x2=\"324.6588775118232\" y2=\"182.54624421198793\" stroke=\"black\" stroke-width=\"2\" />\n",
      "    <!-- 각도 호 -->\n",
      "    <path d=\"M 164.93177550236464,302.9092488423976 A 50,50 0 0,1 175,333\" stroke=\"black\" stroke-width=\"2\" fill=\"none\"/>\n",
      "    </svg>\n",
      "    \n",
      "\n",
      "생성된 설명:\n",
      " ### 각도에 대한 설명\n",
      "\n",
      "**정의:**\n",
      "각도는 두 직선이나 선분이 만나서 생기는 공간의 크기를 측정하는 방법입니다. 우리가 일상에서 자주 접하는 각도는 주로 도로 표지판에서 볼 수 있는 방향 지시나, 그림에서 선들이 만나는 부분을 표현할 때 사용됩니다.\n",
      "\n",
      "**기본 성질:**\n",
      "1. **직선의 각도:** 직선은 정확히 180도의 각도를 가집니다. 직선은 두 방향으로 무한히 이어지는 것처럼 보이지만, 실제로는 시작점과 끝점이 있습니다.\n",
      "   \n",
      "2. **직각 각도:** 직각은 90도를 의미합니다. 이는 우리가 흔히 사용하는 'L'자 모양의 모서리나 사각형의 모서리에서 볼 수 있습니다. 직각은 두 직선이 서로 수직으로 만나는 경우에 생깁니다.\n",
      "\n",
      "3. **평행선과 각도:** 평행한 두 직선은 만나지 않기 때문에, 그들 사이의 각도는 항상 같습니다. 예를 들어, 두 평행선 위에 그려진 삼각형의 한 각은 다른 각과 크기가 동일합니다.\n",
      "\n",
      "4. **복합 각도:** 여러 각도를 합쳐서 더 큰 각도를 만들 수 있습니다. 예를 들어, 두 개의 직각 각도를 합치면 180도가 됩니다.\n",
      "\n",
      "이러한 기본적인 개념들을 이해하면 각도에 대한 다양한 문제를 풀 때 도움이 될 것입니다!\n"
     ]
    },
    {
     "data": {
      "image/svg+xml": [
       "<svg xmlns=\"http://www.w3.org/2000/svg\" width=\"500\" height=\"375\">\n",
       "    <text x=\"250\" y=\"50\" font-size=\"25\" text-anchor=\"middle\">각</text>\n",
       "    <!-- 기준선 -->\n",
       "    <line x1=\"125\" y1=\"333\" x2=\"375\" y2=\"333\" stroke=\"black\" stroke-width=\"2\"/>\n",
       "    <!-- 기울어진 선 -->\n",
       "    <line x1=\"125\" y1=\"333\" x2=\"324.6588775118232\" y2=\"182.54624421198793\" stroke=\"black\" stroke-width=\"2\"/>\n",
       "    <!-- 각도 호 -->\n",
       "    <path d=\"M 164.93177550236464,302.9092488423976 A 50,50 0 0,1 175,333\" stroke=\"black\" stroke-width=\"2\" fill=\"none\"/>\n",
       "    </svg>"
      ],
      "text/plain": [
       "<IPython.core.display.SVG object>"
      ]
     },
     "metadata": {},
     "output_type": "display_data"
    },
    {
     "name": "stdout",
     "output_type": "stream",
     "text": [
      "====================================================================================================\n",
      "요청한 문장: 직각을 표현해줘\n",
      "추출된 개념: Right Angle\n",
      "추출된 인자: {}\n",
      "\n",
      "생성된 코드:\n",
      " <svg width=\"500\" height=\"500\" xmlns=\"http://www.w3.org/2000/svg\">\n",
      "    <text x=\"250\" y=\"50\" font-size=\"25\" text-anchor=\"middle\">직각</text>\n",
      "    <!-- 기준선 -->\n",
      "    <line x1=\"125\" y1=\"400\" x2=\"458\" y2=\"400\" stroke=\"black\" stroke-width=\"2\" />\n",
      "    <!-- 기울어진 선 -->\n",
      "    <line x1=\"125\" y1=\"400\" x2=\"125\" y2=\"67\" stroke=\"black\" stroke-width=\"2\" />\n",
      "    <!-- 직각 보조선 -->\n",
      "    <line x1=\"175\" y1=\"400\" x2=\"175\" y2=\"350\" stroke=\"black\" stroke-width=\"2\" />\n",
      "    <line x1=\"125\" y1=\"350\" x2=\"175\" y2=\"350\" stroke=\"black\" stroke-width=\"2\" />\n",
      "    </svg>\n",
      "    \n",
      "\n",
      "생성된 설명:\n",
      " ### Right Angle\n",
      "\n",
      "**정의:**\n",
      "Right Angle은 기하학에서 가장 기본적인 각도 중 하나로, 정확히 90도를 이루는 각도를 말합니다. 이 각도는 직각이라고도 불리며, 직선이나 특정 도형의 모서리에서 만나는 두 변이 서로 수직으로 만나는 경우에 나타납니다.\n",
      "\n",
      "**기본 성질:**\n",
      "1. **크기:** Right Angle은 항상 정확히 90도입니다. 이는 모든 Right Angle이 동일한 크기를 가짐을 의미합니다.\n",
      "2. **모양:** Right Angle은 보통 'L' 모양으로 쉽게 인식할 수 있습니다. 이 모양은 직각을 나타내는 데 자주 사용됩니다.\n",
      "3. **도형과의 관계:** 직각은 사각형, 직사각형, 정사각형 등 다양한 도형의 모서리에서 발견됩니다. 특히, 직사각형이나 정사각형은 네 개의 Right Angle을 가지고 있습니다.\n",
      "4. **삼각형과의 연관성:** 직각삼각형은 한 내각이 정확히 Right Angle인 삼각형을 의미합니다. 이 삼각형은 세 변의 길이 관계를 통해 피타고라스 정리를 적용할 수 있습니다.\n",
      "\n",
      "이러한 성질들로 인해 Right Angle은 수학에서 매우 중요한 개념으로 자리잡고 있습니다!\n"
     ]
    },
    {
     "data": {
      "image/svg+xml": [
       "<svg xmlns=\"http://www.w3.org/2000/svg\" width=\"500\" height=\"500\">\n",
       "    <text x=\"250\" y=\"50\" font-size=\"25\" text-anchor=\"middle\">직각</text>\n",
       "    <!-- 기준선 -->\n",
       "    <line x1=\"125\" y1=\"400\" x2=\"458\" y2=\"400\" stroke=\"black\" stroke-width=\"2\"/>\n",
       "    <!-- 기울어진 선 -->\n",
       "    <line x1=\"125\" y1=\"400\" x2=\"125\" y2=\"67\" stroke=\"black\" stroke-width=\"2\"/>\n",
       "    <!-- 직각 보조선 -->\n",
       "    <line x1=\"175\" y1=\"400\" x2=\"175\" y2=\"350\" stroke=\"black\" stroke-width=\"2\"/>\n",
       "    <line x1=\"125\" y1=\"350\" x2=\"175\" y2=\"350\" stroke=\"black\" stroke-width=\"2\"/>\n",
       "    </svg>"
      ],
      "text/plain": [
       "<IPython.core.display.SVG object>"
      ]
     },
     "metadata": {},
     "output_type": "display_data"
    },
    {
     "name": "stdout",
     "output_type": "stream",
     "text": [
      "====================================================================================================\n",
      "요청한 문장: 밑변이 3이고, 높이가 4인 직각삼각형 하나를 그려줘\n",
      "추출된 개념: Right Triangle\n",
      "추출된 인자: {'base': 3, 'height': 4}\n",
      "\n",
      "생성된 코드:\n",
      " <svg width=\"500\" height=\"500\" xmlns=\"http://www.w3.org/2000/svg\">\n",
      "    <text x=\"250\" y=\"50\" font-size=\"25\" text-anchor=\"middle\">직각삼각형</text>\n",
      "    <!-- 직각삼각형 -->\n",
      "    <line x1=\"83\" y1=\"416\" x2=\"308\" y2=\"416\" stroke=\"black\" stroke-width=\"2\" />\n",
      "    <line x1=\"308\" y1=\"416\" x2=\"308\" y2=\"166\" stroke=\"black\" stroke-width=\"2\" />\n",
      "    <line x1=\"83\" y1=\"416\" x2=\"308\" y2=\"166\" stroke=\"black\" stroke-width=\"2\" />\n",
      "    <!-- 직각 보조선 -->\n",
      "    <line x1=\"286\" y1=\"416\" x2=\"286\" y2=\"394\" stroke=\"black\" stroke-width=\"2\" />\n",
      "    <line x1=\"286\" y1=\"394\" x2=\"308\" y2=\"394\" stroke=\"black\" stroke-width=\"2\" />\n",
      "    </svg>\n",
      "    \n",
      "\n",
      "생성된 설명:\n",
      " ### Right Triangle\n",
      "\n",
      "**정의:**\n",
      "A right triangle is a special type of triangle that has one angle which measures exactly 90 degrees (a right angle). This unique angle distinguishes it from other triangles where all angles are less than 90 degrees.\n",
      "\n",
      "**기본 성질:**\n",
      "1. **한 각이 직각:** 가장 중요한 특징은 한 꼭짓점에서 직각(90°)을 이루는 것입니다.\n",
      "2. **직각을 중심으로 두 개의 다른 각:** 나머지 두 각은 합쳐 90도가 됩니다. 따라서 이 두 각은 서로 보완각(complementary angles)입니다.\n",
      "3. **피타고라스 정리 적용 가능:** 직각 삼각형에서는 가장 긴 변을 빗변(hypotenuse)이라고 부르며, 이 빗변의 길이는 다른 두 변(직각을 이루는 두 변을 밑변과 높이라고도 부릅니다)의 길이와 특별한 관계를 가집니다. 이 관계는 피타고라스 정리로 표현되는데, 수학적으로는 \\(a^2 + b^2 = c^2\\) 입니다 (여기서 \\(c\\)는 빗변의 길이이고, \\(a\\)와 \\(b\\)는 다른 두 변의 길이입니다). 하지만 문제 해결을 위해 직접적인 공식보다는 이 관계를 이해하는 것이 중요합니다.\n",
      "4. **삼각형의 종류:** 직각 삼각형은 그 각도에 따라 다양한 종류로 나눌 수 있습니다. 예를 들어, 모든 변의 길이가 정수인 직각 삼각형을 피타고라스 삼각형이라고 부르기도 합니다.\n",
      "\n",
      "이런 특징들로 인해 직각 삼각형은 건축, 공학, 그리고 다양한 실생활 문제 해결에서 매우 중요한 역할을 합니다!\n",
      "\n",
      "생성된 공식 raw:\n",
      " {'perimeter': '밑변 + 높이 + 빗변', 'area': '밑변 × 높이 ÷ 2'}\n"
     ]
    },
    {
     "data": {
      "text/latex": [
       "$\\displaystyle 밑변 + 높이 + 빗변$"
      ],
      "text/plain": [
       "<IPython.core.display.Math object>"
      ]
     },
     "metadata": {},
     "output_type": "display_data"
    },
    {
     "data": {
      "text/latex": [
       "$\\displaystyle 밑변 × 높이 ÷ 2$"
      ],
      "text/plain": [
       "<IPython.core.display.Math object>"
      ]
     },
     "metadata": {},
     "output_type": "display_data"
    },
    {
     "data": {
      "image/svg+xml": [
       "<svg xmlns=\"http://www.w3.org/2000/svg\" width=\"500\" height=\"500\">\n",
       "    <text x=\"250\" y=\"50\" font-size=\"25\" text-anchor=\"middle\">직각삼각형</text>\n",
       "    <!-- 직각삼각형 -->\n",
       "    <line x1=\"83\" y1=\"416\" x2=\"308\" y2=\"416\" stroke=\"black\" stroke-width=\"2\"/>\n",
       "    <line x1=\"308\" y1=\"416\" x2=\"308\" y2=\"166\" stroke=\"black\" stroke-width=\"2\"/>\n",
       "    <line x1=\"83\" y1=\"416\" x2=\"308\" y2=\"166\" stroke=\"black\" stroke-width=\"2\"/>\n",
       "    <!-- 직각 보조선 -->\n",
       "    <line x1=\"286\" y1=\"416\" x2=\"286\" y2=\"394\" stroke=\"black\" stroke-width=\"2\"/>\n",
       "    <line x1=\"286\" y1=\"394\" x2=\"308\" y2=\"394\" stroke=\"black\" stroke-width=\"2\"/>\n",
       "    </svg>"
      ],
      "text/plain": [
       "<IPython.core.display.SVG object>"
      ]
     },
     "metadata": {},
     "output_type": "display_data"
    },
    {
     "name": "stdout",
     "output_type": "stream",
     "text": [
      "====================================================================================================\n",
      "요청한 문장: 가로가 5, 세로가 3인 직사각형의 넓이\n",
      "추출된 개념: Rectangle\n",
      "추출된 인자: {'width': 5, 'height': 3}\n",
      "\n",
      "생성된 코드:\n",
      " <svg width=\"500\" height=\"312\" xmlns=\"http://www.w3.org/2000/svg\">\n",
      "    <text x=\"250\" y=\"50\" font-size=\"25\" text-anchor=\"middle\">직사각형</text>\n",
      "    <rect x=\"100\" y=\"100\" width=\"250\" height=\"150\" stroke=\"black\" stroke-width=\"2\" fill=\"none\" />\n",
      "    </svg>\n",
      "\n",
      "생성된 설명:\n",
      " ### Rectangle 설명\n",
      "\n",
      "**정의:**\n",
      "사각형은 네 개의 직선으로 둘러싸인 평면 도형으로, 각 내각이 직각(90도)인 특징을 가지고 있습니다. 즉, 사각형의 네 모서리는 모두 직각을 이루며, 대변이 평행하고 길이가 같은 특성을 갖습니다.\n",
      "\n",
      "**기본 성질:**\n",
      "1. **대변의 길이가 같음:** 사각형의 두 쌍의 대변은 길이가 동일합니다. 예를 들어, 가로와 세로가 같은 길이를 가집니다.\n",
      "2. **대각선이 서로 같음:** 사각형의 두 대각선은 길이가 같습니다. 즉, 사각형을 두 개의 동일한 삼각형으로 나눌 수 있습니다.\n",
      "3. **내각의 합:** 사각형의 네 내각의 합은 항상 360도입니다.\n",
      "4. **변의 배열:** 사각형은 여러 가지 형태로 배열될 수 있습니다. 예를 들어, 직사각형은 가로와 세로가 각각 다른 길이를 가질 수 있으며, 정사각형은 모든 변의 길이가 같고 모든 내각이 직각인 특별한 형태의 사각형입니다.\n",
      "\n",
      "이러한 성질들로 인해 사각형은 우리 일상생활에서 매우 흔하게 볼 수 있는 도형입니다!\n",
      "\n",
      "생성된 공식 raw:\n",
      " {'perimeter': '2 × (밑변 + 높이)', 'area': '밑변 × 높이'}\n"
     ]
    },
    {
     "data": {
      "text/latex": [
       "$\\displaystyle 2 × (밑변 + 높이)$"
      ],
      "text/plain": [
       "<IPython.core.display.Math object>"
      ]
     },
     "metadata": {},
     "output_type": "display_data"
    },
    {
     "data": {
      "text/latex": [
       "$\\displaystyle 밑변 × 높이$"
      ],
      "text/plain": [
       "<IPython.core.display.Math object>"
      ]
     },
     "metadata": {},
     "output_type": "display_data"
    },
    {
     "data": {
      "image/svg+xml": [
       "<svg xmlns=\"http://www.w3.org/2000/svg\" width=\"500\" height=\"312\">\n",
       "    <text x=\"250\" y=\"50\" font-size=\"25\" text-anchor=\"middle\">직사각형</text>\n",
       "    <rect x=\"100\" y=\"100\" width=\"250\" height=\"150\" stroke=\"black\" stroke-width=\"2\" fill=\"none\"/>\n",
       "    </svg>"
      ],
      "text/plain": [
       "<IPython.core.display.SVG object>"
      ]
     },
     "metadata": {},
     "output_type": "display_data"
    },
    {
     "name": "stdout",
     "output_type": "stream",
     "text": [
      "====================================================================================================\n",
      "요청한 문장: 한 변의 길이가 2인 정사각형 하나를 그려줘\n",
      "추출된 개념: Square\n",
      "추출된 인자: {'length': 2}\n",
      "\n",
      "생성된 코드:\n",
      " <svg width=\"500\" height=\"500\" xmlns=\"http://www.w3.org/2000/svg\">\n",
      "    <text x=\"250\" y=\"50\" font-size=\"25\" text-anchor=\"middle\">정사각형</text>\n",
      "    <rect x=\"100\" y=\"100\" width=\"200\" height=\"200\" stroke=\"black\" stroke-width=\"2\" fill=\"none\" />\n",
      "    </svg>\n",
      "\n",
      "생성된 설명:\n",
      " ### Square\n",
      "\n",
      "**정의:**\n",
      "사각형은 네 개의 변으로 이루어진 평면 도형입니다. 모든 내각이 직각(90도)이며, 반대편의 변들이 길이가 같아서 마주보는 두 변은 평행하고 길이가 동일합니다.\n",
      "\n",
      "**기본 성질:**\n",
      "1. **대변의 길이 동일:** 사각형의 마주보는 두 변은 길이가 같습니다. 예를 들어, 정사각형이나 직사각형에서는 모든 대변이 같은 길이를 가집니다.\n",
      "2. **대각선의 성질:** 사각형의 대각선은 서로를 반으로 나눕니다. 즉, 대각선이 만나는 점에서 대각선을 잇는 선분들은 서로를 절반으로 나눕니다.\n",
      "3. **변의 합:** 사각형의 네 변의 길이를 모두 더하면, 그 합은 사각형의 둘레를 나타냅니다. 예를 들어, 한 변의 길이가 \\(a\\)이고 다른 변의 길이가 \\(b\\)라면, 둘레는 \\(a + b + a + b = 2(a + b)\\)가 됩니다.\n",
      "4. **정사각형의 특징:** 정사각형은 모든 변의 길이가 같고 모든 내각이 직각인 특별한 사각형입니다. 모든 대각선도 길이가 같고 서로를 직각으로 이룹니다.\n",
      "\n",
      "이러한 성질들로 인해 사각형은 다양한 형태와 크기로 존재하며, 건축, 디자인, 그리고 일상생활에서 자주 볼 수 있는 도형입니다!\n",
      "\n",
      "생성된 공식 raw:\n",
      " {'perimeter': '4 \\\\times \\\\mathrm{한 변의 길이}', 'area': '\\\\mathrm{한 변의 길이} \\\\times \\\\mathrm{한 변의 길이}'}\n"
     ]
    },
    {
     "data": {
      "text/latex": [
       "$\\displaystyle 4 \\times \\mathrm{한 변의 길이}$"
      ],
      "text/plain": [
       "<IPython.core.display.Math object>"
      ]
     },
     "metadata": {},
     "output_type": "display_data"
    },
    {
     "data": {
      "text/latex": [
       "$\\displaystyle \\mathrm{한 변의 길이} \\times \\mathrm{한 변의 길이}$"
      ],
      "text/plain": [
       "<IPython.core.display.Math object>"
      ]
     },
     "metadata": {},
     "output_type": "display_data"
    },
    {
     "data": {
      "image/svg+xml": [
       "<svg xmlns=\"http://www.w3.org/2000/svg\" width=\"500\" height=\"500\">\n",
       "    <text x=\"250\" y=\"50\" font-size=\"25\" text-anchor=\"middle\">정사각형</text>\n",
       "    <rect x=\"100\" y=\"100\" width=\"200\" height=\"200\" stroke=\"black\" stroke-width=\"2\" fill=\"none\"/>\n",
       "    </svg>"
      ],
      "text/plain": [
       "<IPython.core.display.SVG object>"
      ]
     },
     "metadata": {},
     "output_type": "display_data"
    },
    {
     "name": "stdout",
     "output_type": "stream",
     "text": [
      "====================================================================================================\n",
      "요청한 문장: 곧은선이 뭐야?\n",
      "추출된 개념: 직선\n",
      "추출된 인자: {}\n",
      "\n",
      "생성된 코드:\n",
      " <svg width=\"500\" height=\"500\" xmlns=\"http://www.w3.org/2000/svg\">\n",
      "    <text x=\"250\" y=\"25\" font-size=\"25\" text-anchor=\"middle\">곧은선</text>\n",
      "    <text x=\"250\" y=\"75\" font-size=\"25\" text-anchor=\"middle\">선분</text>\n",
      "    <!-- 선분 -->\n",
      "    <circle cx=\"125\" cy=\"125\" r=\"1\" stroke=\"black\" stroke-width=\"2\" fill=\"black\" />\n",
      "    <circle cx=\"375\" cy=\"125\" r=\"1\" stroke=\"black\" stroke-width=\"2\" fill=\"black\" />\n",
      "    <line x1=\"125\" y1=\"125\" x2=\"375\" y2=\"125\" stroke=\"black\" stroke-width=\"2\" />\n",
      "    <!-- 반직선 -->\n",
      "    <text x=\"250\" y=\"175\" font-size=\"25\" text-anchor=\"middle\">반직선</text>\n",
      "    <circle cx=\"125\" cy=\"250\" r=\"1\" stroke=\"black\" stroke-width=\"2\" fill=\"black\" />\n",
      "    <circle cx=\"375\" cy=\"250\" r=\"1\" stroke=\"black\" stroke-width=\"2\" fill=\"black\" />\n",
      "    <line x1=\"125\" y1=\"250\" x2=\"500\" y2=\"250\" stroke=\"black\" stroke-width=\"2\" />\n",
      "    <!-- 직선 -->\n",
      "    <text x=\"250\" y=\"300\" font-size=\"25\" text-anchor=\"middle\">직선</text>\n",
      "    <circle cx=\"125\" cy=\"375\" r=\"1\" stroke=\"black\" stroke-width=\"2\" fill=\"black\" />\n",
      "    <circle cx=\"375\" cy=\"375\" r=\"1\" stroke=\"black\" stroke-width=\"2\" fill=\"black\" />\n",
      "    <line x1=\"0\" y1=\"375\" x2=\"500\" y2=\"375\" stroke=\"black\" stroke-width=\"2\" />\n",
      "    </svg>\n",
      "    \n",
      "\n",
      "생성된 설명:\n",
      " ### 직선에 대한 설명\n",
      "\n",
      "#### 정의\n",
      "직선은 평면 위에서 가장 짧은 거리로 두 점을 연결하는 선을 말합니다. 이 선은 양쪽으로 무한히 계속되며, 방향이 항상 일정합니다. 직선 위의 모든 점들은 서로 평행하게 연결되어 있어, 어떤 방향으로든 뻗어나갈 수 있습니다.\n",
      "\n",
      "#### 기본 성질\n",
      "1. **무한한 길이**: 직선은 양쪽으로 무한히 이어집니다. 즉, 시작점에서 끝점까지의 거리가 아무리 길어도 계속해서 뻗어나갈 수 있습니다.\n",
      "2. **평행한 선들**: 같은 방향으로 무한히 뻗어나가는 두 직선은 서로 평행합니다. 반대로, 서로 다른 방향으로 무한히 뻗어나가는 두 직선은 교차하지 않습니다.\n",
      "3. **직선 위의 점들**: 직선 위의 모든 점들은 서로 연결되어 있어, 어떤 두 점을 잇는 선분은 항상 직선의 일부분입니다.\n",
      "4. **직선의 대칭성**: 직선을 기준으로 대칭인 두 부분은 서로 완전히 일치합니다. 예를 들어, 한 점을 기준으로 대칭인 두 점은 직선 양쪽에 동일한 거리에 위치합니다.\n",
      "\n",
      "이러한 성질들로 인해 직선은 기하학에서 매우 중요한 개념으로 사용됩니다!\n"
     ]
    },
    {
     "data": {
      "image/svg+xml": [
       "<svg xmlns=\"http://www.w3.org/2000/svg\" width=\"500\" height=\"500\">\n",
       "    <text x=\"250\" y=\"25\" font-size=\"25\" text-anchor=\"middle\">곧은선</text>\n",
       "    <text x=\"250\" y=\"75\" font-size=\"25\" text-anchor=\"middle\">선분</text>\n",
       "    <!-- 선분 -->\n",
       "    <circle cx=\"125\" cy=\"125\" r=\"1\" stroke=\"black\" stroke-width=\"2\" fill=\"black\"/>\n",
       "    <circle cx=\"375\" cy=\"125\" r=\"1\" stroke=\"black\" stroke-width=\"2\" fill=\"black\"/>\n",
       "    <line x1=\"125\" y1=\"125\" x2=\"375\" y2=\"125\" stroke=\"black\" stroke-width=\"2\"/>\n",
       "    <!-- 반직선 -->\n",
       "    <text x=\"250\" y=\"175\" font-size=\"25\" text-anchor=\"middle\">반직선</text>\n",
       "    <circle cx=\"125\" cy=\"250\" r=\"1\" stroke=\"black\" stroke-width=\"2\" fill=\"black\"/>\n",
       "    <circle cx=\"375\" cy=\"250\" r=\"1\" stroke=\"black\" stroke-width=\"2\" fill=\"black\"/>\n",
       "    <line x1=\"125\" y1=\"250\" x2=\"500\" y2=\"250\" stroke=\"black\" stroke-width=\"2\"/>\n",
       "    <!-- 직선 -->\n",
       "    <text x=\"250\" y=\"300\" font-size=\"25\" text-anchor=\"middle\">직선</text>\n",
       "    <circle cx=\"125\" cy=\"375\" r=\"1\" stroke=\"black\" stroke-width=\"2\" fill=\"black\"/>\n",
       "    <circle cx=\"375\" cy=\"375\" r=\"1\" stroke=\"black\" stroke-width=\"2\" fill=\"black\"/>\n",
       "    <line x1=\"0\" y1=\"375\" x2=\"500\" y2=\"375\" stroke=\"black\" stroke-width=\"2\"/>\n",
       "    </svg>"
      ],
      "text/plain": [
       "<IPython.core.display.SVG object>"
      ]
     },
     "metadata": {},
     "output_type": "display_data"
    },
    {
     "name": "stdout",
     "output_type": "stream",
     "text": [
      "====================================================================================================\n",
      "요청한 문장: 대표적인 굽은선을 그려줘\n",
      "추출된 개념: 곡선\n",
      "추출된 인자: {'type': '타원', 'description': '타원은 가장 대표적인 굽은선의 한 종류로, 두 초점 사이의 거리의 합이 일정한 점들의 집합으로 정의됩니다.'}\n",
      "\n",
      "생성된 코드:\n",
      " \n",
      "    <svg width=\"500\" height=\"500\" xmlns=\"http://www.w3.org/2000/svg\">\n",
      "    <text x=\"250\" y=\"50\" font-size=\"25\" text-anchor=\"middle\">굽은선</text>\n",
      "    <!-- 복잡한 S자 곡선 (두 개의 Cubic Bézier) -->\n",
      "    <path d=\"M 100,400\n",
      "    C 100,100 400,100 400,250\n",
      "    C 400,400 100,400 100,100\"\n",
      "    stroke=\"black\" fill=\"none\" stroke-width=\"2\"/>\n",
      "    </svg>\n",
      "    \n",
      "\n",
      "생성된 설명:\n",
      " ### 곡선에 대한 설명\n",
      "\n",
      "**정의:**\n",
      "곡선은 직선이 아닌, 연속적으로 이어지는 점들의 모임으로 이루어진 도형입니다. 쉽게 말해, 직선처럼 일정한 방향으로만 움직이는 것이 아니라, 부드럽게 휘어지거나 굽어지는 형태를 가진 선을 말합니다.\n",
      "\n",
      "**기본 성질:**\n",
      "1. **연속성:** 곡선 위의 모든 점들은 부드럽게 이어져 있어, 어떤 작은 구간에서도 끊어지지 않고 이어집니다.\n",
      "2. **길이:** 곡선의 길이는 그 곡선을 따라 측정한 총 거리입니다. 이 길이는 곡선의 모양에 따라 달라집니다. 예를 들어, 원의 둘레는 반지름에 따라 결정되며, 이는 곡선의 길이를 정확히 계산하는 방법 중 하나입니다.\n",
      "3. **곡률:** 곡선이 얼마나 빠르게 방향을 바꾸는지를 나타내는 값입니다. 곡률이 크면 곡선이 더 급하게 굽어지고, 작으면 더 부드럽게 굽어집니다. 예를 들어, 원의 경우 모든 점에서 곡률이 일정합니다.\n",
      "4. **접선:** 곡선 위의 어떤 점에서 그 점을 지나는 가장 가까운 직선을 접선이라고 합니다. 이 접선은 그 점에서 곡선의 방향을 가장 잘 나타냅니다.\n",
      "\n",
      "이러한 성질들 덕분에 곡선은 자연 현상이나 공학적 설계 등 다양한 분야에서 중요한 역할을 합니다.\n"
     ]
    },
    {
     "data": {
      "image/svg+xml": [
       "<svg xmlns=\"http://www.w3.org/2000/svg\" width=\"500\" height=\"500\">\n",
       "    <text x=\"250\" y=\"50\" font-size=\"25\" text-anchor=\"middle\">굽은선</text>\n",
       "    <!-- 복잡한 S자 곡선 (두 개의 Cubic Bézier) -->\n",
       "    <path d=\"M 100,400     C 100,100 400,100 400,250     C 400,400 100,400 100,100\" stroke=\"black\" fill=\"none\" stroke-width=\"2\"/>\n",
       "    </svg>"
      ],
      "text/plain": [
       "<IPython.core.display.SVG object>"
      ]
     },
     "metadata": {},
     "output_type": "display_data"
    },
    {
     "name": "stdout",
     "output_type": "stream",
     "text": [
      "====================================================================================================\n",
      "요청한 문장: 중심이 (0,0)이고 반지름이 2인 원을 그려주세요.\n",
      "추출된 개념: Circle\n",
      "추출된 인자: {'radius': 2}\n",
      "\n",
      "생성된 코드:\n",
      " <svg width=\"500\" height=\"500\" xmlns=\"http://www.w3.org/2000/svg\">\n",
      "    <text x=\"250\" y=\"50\" font-size=\"25\" text-anchor=\"middle\">원</text>\n",
      "    <circle cx=\"250\" cy=\"250\" r=\"100\" stroke=\"black\" stroke-width=\"2\" fill=\"none\" />\n",
      "    <circle cx=\"250\" cy=\"250\" r=\"1\" stroke=\"black\" stroke-width=\"2\" fill=\"black\" />\n",
      "    <line x1=\"250\" y1=\"250\" x2=\"350\" y2=\"250\" stroke=\"black\" stroke-width=\"2\" />\n",
      "    </svg>\n",
      "    \n",
      "\n",
      "생성된 설명:\n",
      " ### Circle (원)\n",
      "\n",
      "#### 정의:\n",
      "원은 평면 위에서 한 점(중심)으로부터 일정한 거리(반지름)에 있는 모든 점들의 집합을 말합니다. 이 중심점을 기준으로 원 위의 모든 점들은 동일한 거리에 위치해 있습니다.\n",
      "\n",
      "#### 기본 성질:\n",
      "1. **둘레와 지름**: 원의 둘레는 지름에 π(약 3.14)를 곱한 값입니다. 즉, 둘레 = 지름 × π 입니다. 반대로 지름은 둘레를 π로 나누면 구할 수 있습니다.\n",
      "   \n",
      "2. **면적**: 원의 면적은 반지름의 제곱에 π를 곱한 값입니다. 공식으로 표현하면 면적 = π × 반지름2 입니다.\n",
      "\n",
      "3. **대칭성**: 원은 중심을 기준으로 완벽하게 대칭입니다. 즉, 중심을 지나는 어떤 직선을 기준으로 원을 접어도 양쪽이 완전히 일치합니다.\n",
      "\n",
      "4. **원주각과 호의 관계**: 원 위의 두 점을 잇는 호의 중앙각은 그 호에 대응하는 원주각의 두 배입니다. 예를 들어, 호의 중앙각이 θ라면 원주각은 θ/2가 됩니다.\n",
      "\n",
      "이러한 성질들로 인해 원은 기하학에서 매우 중요한 역할을 합니다. 다양한 도형과 문제 해결에 활용되며, 일상생활에서도 자주 접하게 되는 개념입니다.\n",
      "\n",
      "생성된 공식 raw:\n",
      " {'perimeter': '2 \\\\times 3.14 \\\\times 반지름', 'area': '3.14 \\\\times 반지름 \\\\times 반지름'}\n"
     ]
    },
    {
     "data": {
      "text/latex": [
       "$\\displaystyle 2 \\times 3.14 \\times 반지름$"
      ],
      "text/plain": [
       "<IPython.core.display.Math object>"
      ]
     },
     "metadata": {},
     "output_type": "display_data"
    },
    {
     "data": {
      "text/latex": [
       "$\\displaystyle 3.14 \\times 반지름 \\times 반지름$"
      ],
      "text/plain": [
       "<IPython.core.display.Math object>"
      ]
     },
     "metadata": {},
     "output_type": "display_data"
    },
    {
     "data": {
      "image/svg+xml": [
       "<svg xmlns=\"http://www.w3.org/2000/svg\" width=\"500\" height=\"500\">\n",
       "    <text x=\"250\" y=\"50\" font-size=\"25\" text-anchor=\"middle\">원</text>\n",
       "    <circle cx=\"250\" cy=\"250\" r=\"100\" stroke=\"black\" stroke-width=\"2\" fill=\"none\"/>\n",
       "    <circle cx=\"250\" cy=\"250\" r=\"1\" stroke=\"black\" stroke-width=\"2\" fill=\"black\"/>\n",
       "    <line x1=\"250\" y1=\"250\" x2=\"350\" y2=\"250\" stroke=\"black\" stroke-width=\"2\"/>\n",
       "    </svg>"
      ],
      "text/plain": [
       "<IPython.core.display.SVG object>"
      ]
     },
     "metadata": {},
     "output_type": "display_data"
    },
    {
     "name": "stdout",
     "output_type": "stream",
     "text": [
      "====================================================================================================\n",
      "요청한 문장: 37° 각도를 그려줘\n",
      "추출된 개념: 각도\n",
      "추출된 인자: {'size': 37}\n",
      "\n",
      "생성된 코드:\n",
      " <svg width=\"500\" height=\"375\" xmlns=\"http://www.w3.org/2000/svg\">\n",
      "    <text x=\"250\" y=\"50\" font-size=\"25\" text-anchor=\"middle\">각</text>\n",
      "    <!-- 기준선 -->\n",
      "    <line x1=\"125\" y1=\"333\" x2=\"375\" y2=\"333\" stroke=\"black\" stroke-width=\"2\" />\n",
      "    <!-- 기울어진 선 -->\n",
      "    <line x1=\"125\" y1=\"333\" x2=\"324.6588775118232\" y2=\"182.54624421198793\" stroke=\"black\" stroke-width=\"2\" />\n",
      "    <!-- 각도 호 -->\n",
      "    <path d=\"M 164.93177550236464,302.9092488423976 A 50,50 0 0,1 175,333\" stroke=\"black\" stroke-width=\"2\" fill=\"none\"/>\n",
      "    </svg>\n",
      "    \n",
      "\n",
      "생성된 설명:\n",
      " ### 각도에 대한 설명\n",
      "\n",
      "**정의:**\n",
      "각도는 두 직선이나 선분이 만나서 생기는 공간의 크기를 측정하는 방법입니다. 우리가 일상에서 자주 접하는 각도는 주로 도로 표지판에서 볼 수 있는 방향 지시나, 그림에서 선들이 만나는 부분을 표현할 때 사용됩니다.\n",
      "\n",
      "**기본 성질:**\n",
      "1. **직선의 각도:** 직선은 정확히 180도의 각도를 가집니다. 직선은 두 방향으로 무한히 이어지는 것처럼 보이지만, 실제로는 시작점과 끝점이 있습니다.\n",
      "   \n",
      "2. **직각 각도:** 직각은 90도를 의미합니다. 이는 우리가 흔히 사용하는 'L'자 모양의 모서리나 사각형의 모서리에서 볼 수 있습니다. 직각은 두 직선이 서로 수직으로 만나는 경우에 생깁니다.\n",
      "\n",
      "3. **평행선과 각도:** 평행한 두 직선은 만나지 않기 때문에, 그들 사이의 각도는 항상 같습니다. 예를 들어, 두 평행선 위에 그려진 삼각형의 한 각은 다른 각과 크기가 동일합니다.\n",
      "\n",
      "4. **복합 각도:** 여러 각도를 합쳐서 더 큰 각도를 만들 수 있습니다. 예를 들어, 두 개의 직각 각도를 합치면 180도가 됩니다.\n",
      "\n",
      "이러한 기본적인 개념들을 이해하면 각도에 대한 다양한 문제를 풀 때 도움이 될 것입니다!\n"
     ]
    },
    {
     "data": {
      "image/svg+xml": [
       "<svg xmlns=\"http://www.w3.org/2000/svg\" width=\"500\" height=\"375\">\n",
       "    <text x=\"250\" y=\"50\" font-size=\"25\" text-anchor=\"middle\">각</text>\n",
       "    <!-- 기준선 -->\n",
       "    <line x1=\"125\" y1=\"333\" x2=\"375\" y2=\"333\" stroke=\"black\" stroke-width=\"2\"/>\n",
       "    <!-- 기울어진 선 -->\n",
       "    <line x1=\"125\" y1=\"333\" x2=\"324.6588775118232\" y2=\"182.54624421198793\" stroke=\"black\" stroke-width=\"2\"/>\n",
       "    <!-- 각도 호 -->\n",
       "    <path d=\"M 164.93177550236464,302.9092488423976 A 50,50 0 0,1 175,333\" stroke=\"black\" stroke-width=\"2\" fill=\"none\"/>\n",
       "    </svg>"
      ],
      "text/plain": [
       "<IPython.core.display.SVG object>"
      ]
     },
     "metadata": {},
     "output_type": "display_data"
    },
    {
     "name": "stdout",
     "output_type": "stream",
     "text": [
      "====================================================================================================\n",
      "요청한 문장: 직각을 표현해줘\n",
      "추출된 개념: Right Angle\n",
      "추출된 인자: {}\n",
      "\n",
      "생성된 코드:\n",
      " <svg width=\"500\" height=\"500\" xmlns=\"http://www.w3.org/2000/svg\">\n",
      "    <text x=\"250\" y=\"50\" font-size=\"25\" text-anchor=\"middle\">직각</text>\n",
      "    <!-- 기준선 -->\n",
      "    <line x1=\"125\" y1=\"400\" x2=\"458\" y2=\"400\" stroke=\"black\" stroke-width=\"2\" />\n",
      "    <!-- 기울어진 선 -->\n",
      "    <line x1=\"125\" y1=\"400\" x2=\"125\" y2=\"67\" stroke=\"black\" stroke-width=\"2\" />\n",
      "    <!-- 직각 보조선 -->\n",
      "    <line x1=\"175\" y1=\"400\" x2=\"175\" y2=\"350\" stroke=\"black\" stroke-width=\"2\" />\n",
      "    <line x1=\"125\" y1=\"350\" x2=\"175\" y2=\"350\" stroke=\"black\" stroke-width=\"2\" />\n",
      "    </svg>\n",
      "    \n",
      "\n",
      "생성된 설명:\n",
      " ### Right Angle\n",
      "\n",
      "**정의:**\n",
      "Right Angle은 기하학에서 가장 기본적인 각도 중 하나로, 정확히 90도를 이루는 각도를 말합니다. 이 각도는 직각이라고도 불리며, 직선이나 특정 도형의 모서리에서 만나는 두 변이 서로 수직으로 만나는 경우에 나타납니다.\n",
      "\n",
      "**기본 성질:**\n",
      "1. **크기:** Right Angle은 항상 정확히 90도입니다. 이는 모든 Right Angle이 동일한 크기를 가짐을 의미합니다.\n",
      "2. **모양:** Right Angle은 보통 'L' 모양으로 쉽게 인식할 수 있습니다. 이 모양은 직각을 나타내는 데 자주 사용됩니다.\n",
      "3. **도형과의 관계:** 직각은 사각형, 직사각형, 정사각형 등 다양한 도형의 모서리에서 발견됩니다. 특히, 직사각형이나 정사각형은 네 개의 Right Angle을 가지고 있습니다.\n",
      "4. **삼각형과의 연관성:** 직각삼각형은 한 내각이 정확히 Right Angle인 삼각형을 의미합니다. 이 삼각형은 세 변의 길이 관계를 통해 피타고라스 정리를 적용할 수 있습니다.\n",
      "\n",
      "이러한 성질들로 인해 Right Angle은 수학에서 매우 중요한 개념으로 자리잡고 있습니다!\n"
     ]
    },
    {
     "data": {
      "image/svg+xml": [
       "<svg xmlns=\"http://www.w3.org/2000/svg\" width=\"500\" height=\"500\">\n",
       "    <text x=\"250\" y=\"50\" font-size=\"25\" text-anchor=\"middle\">직각</text>\n",
       "    <!-- 기준선 -->\n",
       "    <line x1=\"125\" y1=\"400\" x2=\"458\" y2=\"400\" stroke=\"black\" stroke-width=\"2\"/>\n",
       "    <!-- 기울어진 선 -->\n",
       "    <line x1=\"125\" y1=\"400\" x2=\"125\" y2=\"67\" stroke=\"black\" stroke-width=\"2\"/>\n",
       "    <!-- 직각 보조선 -->\n",
       "    <line x1=\"175\" y1=\"400\" x2=\"175\" y2=\"350\" stroke=\"black\" stroke-width=\"2\"/>\n",
       "    <line x1=\"125\" y1=\"350\" x2=\"175\" y2=\"350\" stroke=\"black\" stroke-width=\"2\"/>\n",
       "    </svg>"
      ],
      "text/plain": [
       "<IPython.core.display.SVG object>"
      ]
     },
     "metadata": {},
     "output_type": "display_data"
    },
    {
     "name": "stdout",
     "output_type": "stream",
     "text": [
      "====================================================================================================\n",
      "요청한 문장: 밑변이 3이고, 높이가 4인 직각삼각형 하나를 그려줘\n",
      "추출된 개념: Right Triangle\n",
      "추출된 인자: {'base': 3, 'height': 4}\n",
      "\n",
      "생성된 코드:\n",
      " <svg width=\"500\" height=\"500\" xmlns=\"http://www.w3.org/2000/svg\">\n",
      "    <text x=\"250\" y=\"50\" font-size=\"25\" text-anchor=\"middle\">직각삼각형</text>\n",
      "    <!-- 직각삼각형 -->\n",
      "    <line x1=\"83\" y1=\"416\" x2=\"308\" y2=\"416\" stroke=\"black\" stroke-width=\"2\" />\n",
      "    <line x1=\"308\" y1=\"416\" x2=\"308\" y2=\"166\" stroke=\"black\" stroke-width=\"2\" />\n",
      "    <line x1=\"83\" y1=\"416\" x2=\"308\" y2=\"166\" stroke=\"black\" stroke-width=\"2\" />\n",
      "    <!-- 직각 보조선 -->\n",
      "    <line x1=\"286\" y1=\"416\" x2=\"286\" y2=\"394\" stroke=\"black\" stroke-width=\"2\" />\n",
      "    <line x1=\"286\" y1=\"394\" x2=\"308\" y2=\"394\" stroke=\"black\" stroke-width=\"2\" />\n",
      "    </svg>\n",
      "    \n",
      "\n",
      "생성된 설명:\n",
      " ### Right Triangle\n",
      "\n",
      "**정의:**\n",
      "A right triangle is a special type of triangle that has one angle which measures exactly 90 degrees (a right angle). This unique angle distinguishes it from other triangles where all angles are less than 90 degrees.\n",
      "\n",
      "**기본 성질:**\n",
      "1. **한 각이 직각:** 가장 중요한 특징은 한 꼭짓점에서 직각(90°)을 이루는 것입니다.\n",
      "2. **직각을 중심으로 두 개의 다른 각:** 나머지 두 각은 합쳐 90도가 됩니다. 따라서 이 두 각은 서로 보완각(complementary angles)입니다.\n",
      "3. **피타고라스 정리 적용 가능:** 직각 삼각형에서는 가장 긴 변을 빗변(hypotenuse)이라고 부르며, 이 빗변의 길이는 다른 두 변(직각을 이루는 두 변을 밑변과 높이라고도 부릅니다)의 길이와 특별한 관계를 가집니다. 이 관계는 피타고라스 정리로 표현되는데, 수학적으로는 \\(a^2 + b^2 = c^2\\) 입니다 (여기서 \\(c\\)는 빗변의 길이이고, \\(a\\)와 \\(b\\)는 다른 두 변의 길이입니다). 하지만 문제 해결을 위해 직접적인 공식보다는 이 관계를 이해하는 것이 중요합니다.\n",
      "4. **삼각형의 종류:** 직각 삼각형은 그 각도에 따라 다양한 종류로 나눌 수 있습니다. 예를 들어, 모든 변의 길이가 정수인 직각 삼각형을 피타고라스 삼각형이라고 부르기도 합니다.\n",
      "\n",
      "이런 특징들로 인해 직각 삼각형은 건축, 공학, 그리고 다양한 실생활 문제 해결에서 매우 중요한 역할을 합니다!\n",
      "\n",
      "생성된 공식 raw:\n",
      " {'perimeter': '밑변 + 높이 + 빗변', 'area': '밑변 × 높이 ÷ 2'}\n"
     ]
    },
    {
     "data": {
      "text/latex": [
       "$\\displaystyle 밑변 + 높이 + 빗변$"
      ],
      "text/plain": [
       "<IPython.core.display.Math object>"
      ]
     },
     "metadata": {},
     "output_type": "display_data"
    },
    {
     "data": {
      "text/latex": [
       "$\\displaystyle 밑변 × 높이 ÷ 2$"
      ],
      "text/plain": [
       "<IPython.core.display.Math object>"
      ]
     },
     "metadata": {},
     "output_type": "display_data"
    },
    {
     "data": {
      "image/svg+xml": [
       "<svg xmlns=\"http://www.w3.org/2000/svg\" width=\"500\" height=\"500\">\n",
       "    <text x=\"250\" y=\"50\" font-size=\"25\" text-anchor=\"middle\">직각삼각형</text>\n",
       "    <!-- 직각삼각형 -->\n",
       "    <line x1=\"83\" y1=\"416\" x2=\"308\" y2=\"416\" stroke=\"black\" stroke-width=\"2\"/>\n",
       "    <line x1=\"308\" y1=\"416\" x2=\"308\" y2=\"166\" stroke=\"black\" stroke-width=\"2\"/>\n",
       "    <line x1=\"83\" y1=\"416\" x2=\"308\" y2=\"166\" stroke=\"black\" stroke-width=\"2\"/>\n",
       "    <!-- 직각 보조선 -->\n",
       "    <line x1=\"286\" y1=\"416\" x2=\"286\" y2=\"394\" stroke=\"black\" stroke-width=\"2\"/>\n",
       "    <line x1=\"286\" y1=\"394\" x2=\"308\" y2=\"394\" stroke=\"black\" stroke-width=\"2\"/>\n",
       "    </svg>"
      ],
      "text/plain": [
       "<IPython.core.display.SVG object>"
      ]
     },
     "metadata": {},
     "output_type": "display_data"
    },
    {
     "name": "stdout",
     "output_type": "stream",
     "text": [
      "====================================================================================================\n",
      "요청한 문장: 가로가 5, 세로가 3인 직사각형의 넓이\n",
      "추출된 개념: Rectangle\n",
      "추출된 인자: {'width': 5, 'height': 3}\n",
      "\n",
      "생성된 코드:\n",
      " <svg width=\"500\" height=\"312\" xmlns=\"http://www.w3.org/2000/svg\">\n",
      "    <text x=\"250\" y=\"50\" font-size=\"25\" text-anchor=\"middle\">직사각형</text>\n",
      "    <rect x=\"100\" y=\"100\" width=\"250\" height=\"150\" stroke=\"black\" stroke-width=\"2\" fill=\"none\" />\n",
      "    </svg>\n",
      "\n",
      "생성된 설명:\n",
      " ### Rectangle 설명\n",
      "\n",
      "**정의:**\n",
      "사각형은 네 개의 직선으로 둘러싸인 평면 도형으로, 각 내각이 직각(90도)인 특징을 가지고 있습니다. 즉, 사각형의 네 모서리는 모두 직각을 이루며, 대변이 평행하고 길이가 같은 특성을 갖습니다.\n",
      "\n",
      "**기본 성질:**\n",
      "1. **대변의 길이가 같음:** 사각형의 두 쌍의 대변은 길이가 동일합니다. 예를 들어, 가로와 세로가 같은 길이를 가집니다.\n",
      "2. **대각선이 서로 같음:** 사각형의 두 대각선은 길이가 같습니다. 즉, 사각형을 두 개의 동일한 삼각형으로 나눌 수 있습니다.\n",
      "3. **내각의 합:** 사각형의 네 내각의 합은 항상 360도입니다.\n",
      "4. **변의 배열:** 사각형은 여러 가지 형태로 배열될 수 있습니다. 예를 들어, 직사각형은 가로와 세로가 각각 다른 길이를 가질 수 있으며, 정사각형은 모든 변의 길이가 같고 모든 내각이 직각인 특별한 형태의 사각형입니다.\n",
      "\n",
      "이러한 성질들로 인해 사각형은 우리 일상생활에서 매우 흔하게 볼 수 있는 도형입니다!\n",
      "\n",
      "생성된 공식 raw:\n",
      " {'perimeter': '2 × (밑변 + 높이)', 'area': '밑변 × 높이'}\n"
     ]
    },
    {
     "data": {
      "text/latex": [
       "$\\displaystyle 2 × (밑변 + 높이)$"
      ],
      "text/plain": [
       "<IPython.core.display.Math object>"
      ]
     },
     "metadata": {},
     "output_type": "display_data"
    },
    {
     "data": {
      "text/latex": [
       "$\\displaystyle 밑변 × 높이$"
      ],
      "text/plain": [
       "<IPython.core.display.Math object>"
      ]
     },
     "metadata": {},
     "output_type": "display_data"
    },
    {
     "data": {
      "image/svg+xml": [
       "<svg xmlns=\"http://www.w3.org/2000/svg\" width=\"500\" height=\"312\">\n",
       "    <text x=\"250\" y=\"50\" font-size=\"25\" text-anchor=\"middle\">직사각형</text>\n",
       "    <rect x=\"100\" y=\"100\" width=\"250\" height=\"150\" stroke=\"black\" stroke-width=\"2\" fill=\"none\"/>\n",
       "    </svg>"
      ],
      "text/plain": [
       "<IPython.core.display.SVG object>"
      ]
     },
     "metadata": {},
     "output_type": "display_data"
    },
    {
     "name": "stdout",
     "output_type": "stream",
     "text": [
      "====================================================================================================\n",
      "요청한 문장: 한 변의 길이가 2인 정사각형 하나를 그려줘\n",
      "추출된 개념: Square\n",
      "추출된 인자: {'length': 2}\n",
      "\n",
      "생성된 코드:\n",
      " <svg width=\"500\" height=\"500\" xmlns=\"http://www.w3.org/2000/svg\">\n",
      "    <text x=\"250\" y=\"50\" font-size=\"25\" text-anchor=\"middle\">정사각형</text>\n",
      "    <rect x=\"100\" y=\"100\" width=\"200\" height=\"200\" stroke=\"black\" stroke-width=\"2\" fill=\"none\" />\n",
      "    </svg>\n",
      "\n",
      "생성된 설명:\n",
      " ### Square\n",
      "\n",
      "**정의:**\n",
      "사각형은 네 개의 변으로 이루어진 평면 도형입니다. 모든 내각이 직각(90도)이며, 반대편의 변들이 길이가 같아서 마주보는 두 변은 평행하고 길이가 동일합니다.\n",
      "\n",
      "**기본 성질:**\n",
      "1. **대변의 길이 동일:** 사각형의 마주보는 두 변은 길이가 같습니다. 예를 들어, 정사각형이나 직사각형에서는 모든 대변이 같은 길이를 가집니다.\n",
      "2. **대각선의 성질:** 사각형의 대각선은 서로를 반으로 나눕니다. 즉, 대각선이 만나는 점에서 대각선을 잇는 선분들은 서로를 절반으로 나눕니다.\n",
      "3. **변의 합:** 사각형의 네 변의 길이를 모두 더하면, 그 합은 사각형의 둘레를 나타냅니다. 예를 들어, 한 변의 길이가 \\(a\\)이고 다른 변의 길이가 \\(b\\)라면, 둘레는 \\(a + b + a + b = 2(a + b)\\)가 됩니다.\n",
      "4. **정사각형의 특징:** 정사각형은 모든 변의 길이가 같고 모든 내각이 직각인 특별한 사각형입니다. 모든 대각선도 길이가 같고 서로를 직각으로 이룹니다.\n",
      "\n",
      "이러한 성질들로 인해 사각형은 다양한 형태와 크기로 존재하며, 건축, 디자인, 그리고 일상생활에서 자주 볼 수 있는 도형입니다!\n",
      "\n",
      "생성된 공식 raw:\n",
      " {'perimeter': '4 \\\\times \\\\mathrm{한 변의 길이}', 'area': '\\\\mathrm{한 변의 길이} \\\\times \\\\mathrm{한 변의 길이}'}\n"
     ]
    },
    {
     "data": {
      "text/latex": [
       "$\\displaystyle 4 \\times \\mathrm{한 변의 길이}$"
      ],
      "text/plain": [
       "<IPython.core.display.Math object>"
      ]
     },
     "metadata": {},
     "output_type": "display_data"
    },
    {
     "data": {
      "text/latex": [
       "$\\displaystyle \\mathrm{한 변의 길이} \\times \\mathrm{한 변의 길이}$"
      ],
      "text/plain": [
       "<IPython.core.display.Math object>"
      ]
     },
     "metadata": {},
     "output_type": "display_data"
    },
    {
     "data": {
      "image/svg+xml": [
       "<svg xmlns=\"http://www.w3.org/2000/svg\" width=\"500\" height=\"500\">\n",
       "    <text x=\"250\" y=\"50\" font-size=\"25\" text-anchor=\"middle\">정사각형</text>\n",
       "    <rect x=\"100\" y=\"100\" width=\"200\" height=\"200\" stroke=\"black\" stroke-width=\"2\" fill=\"none\"/>\n",
       "    </svg>"
      ],
      "text/plain": [
       "<IPython.core.display.SVG object>"
      ]
     },
     "metadata": {},
     "output_type": "display_data"
    },
    {
     "name": "stdout",
     "output_type": "stream",
     "text": [
      "====================================================================================================\n",
      "1min 50s ± 1.14 s per loop (mean ± std. dev. of 6 runs, 5 loops each)\n"
     ]
    }
   ],
   "source": [
    "%%timeit -n 5 -r 6\n",
    "\n",
    "input_samples = [\n",
    "    \"곧은선이 뭐야?\",\n",
    "    \"대표적인 굽은선을 그려줘\",\n",
    "    \"중심이 (0,0)이고 반지름이 2인 원을 그려주세요.\",\n",
    "    \"37° 각도를 그려줘\",\n",
    "    \"직각을 표현해줘\",\n",
    "    \"밑변이 3이고, 높이가 4인 직각삼각형 하나를 그려줘\",\n",
    "    \"가로가 5, 세로가 3인 직사각형의 넓이\",\n",
    "    \"한 변의 길이가 2인 정사각형 하나를 그려줘\",\n",
    "]\n",
    "\n",
    "# 그래프 호출\n",
    "for i, user_input in enumerate(input_samples):\n",
    "    result = app.invoke({\"user_request\": user_input})\n",
    "\n",
    "    # 결과 출력\n",
    "    print(\"요청한 문장:\", result[\"user_request\"])\n",
    "    print(\"추출된 개념:\", result[\"math_concept\"])\n",
    "    print(\"추출된 인자:\", result[\"parameters\"])\n",
    "    print(\"\\n생성된 코드:\\n\", result[\"generated_code\"])\n",
    "    print(\"\\n생성된 설명:\\n\", result[\"comments\"])\n",
    "    if \"formulas\" in result.keys():\n",
    "        print(\"\\n생성된 공식 raw:\\n\", result[\"formulas\"])\n",
    "        show_formulas(result[\"formulas\"][\"perimeter\"])\n",
    "        show_formulas(result[\"formulas\"][\"area\"])\n",
    "    show_svg(result[\"generated_code\"])\n",
    "    print(\"=\" * 100)"
   ]
  }
 ],
 "metadata": {
  "kernelspec": {
   "display_name": "Python 3 (ipykernel)",
   "language": "python",
   "name": "python3"
  },
  "language_info": {
   "codemirror_mode": {
    "name": "ipython",
    "version": 3
   },
   "file_extension": ".py",
   "mimetype": "text/x-python",
   "name": "python",
   "nbconvert_exporter": "python",
   "pygments_lexer": "ipython3",
   "version": "3.10.12"
  }
 },
 "nbformat": 4,
 "nbformat_minor": 5
}
