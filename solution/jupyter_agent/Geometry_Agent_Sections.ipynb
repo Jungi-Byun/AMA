{
 "cells": [
  {
   "cell_type": "code",
   "execution_count": 1,
   "id": "56126aa2-e3ad-4c84-b952-0c65c9b229e7",
   "metadata": {},
   "outputs": [],
   "source": [
    "!pip install -q langchain langgraph transformers accelerate"
   ]
  },
  {
   "cell_type": "code",
   "execution_count": 2,
   "id": "db9e9f5f-d6da-4ccd-b561-dfbb59a8afe6",
   "metadata": {},
   "outputs": [
    {
     "name": "stderr",
     "output_type": "stream",
     "text": [
      "/home/jungi.byun/AMA/solution/jupyter_env/lib/python3.10/site-packages/tqdm/auto.py:21: TqdmWarning: IProgress not found. Please update jupyter and ipywidgets. See https://ipywidgets.readthedocs.io/en/stable/user_install.html\n",
      "  from .autonotebook import tqdm as notebook_tqdm\n",
      "2025-07-09 19:04:55.843707: I tensorflow/core/util/port.cc:153] oneDNN custom operations are on. You may see slightly different numerical results due to floating-point round-off errors from different computation orders. To turn them off, set the environment variable `TF_ENABLE_ONEDNN_OPTS=0`.\n",
      "2025-07-09 19:04:55.873629: E external/local_xla/xla/stream_executor/cuda/cuda_fft.cc:467] Unable to register cuFFT factory: Attempting to register factory for plugin cuFFT when one has already been registered\n",
      "WARNING: All log messages before absl::InitializeLog() is called are written to STDERR\n",
      "E0000 00:00:1752055495.908736 3951711 cuda_dnn.cc:8579] Unable to register cuDNN factory: Attempting to register factory for plugin cuDNN when one has already been registered\n",
      "E0000 00:00:1752055495.919827 3951711 cuda_blas.cc:1407] Unable to register cuBLAS factory: Attempting to register factory for plugin cuBLAS when one has already been registered\n",
      "W0000 00:00:1752055495.946671 3951711 computation_placer.cc:177] computation placer already registered. Please check linkage and avoid linking the same target more than once.\n",
      "W0000 00:00:1752055495.946703 3951711 computation_placer.cc:177] computation placer already registered. Please check linkage and avoid linking the same target more than once.\n",
      "W0000 00:00:1752055495.946705 3951711 computation_placer.cc:177] computation placer already registered. Please check linkage and avoid linking the same target more than once.\n",
      "W0000 00:00:1752055495.946708 3951711 computation_placer.cc:177] computation placer already registered. Please check linkage and avoid linking the same target more than once.\n",
      "2025-07-09 19:04:55.958292: I tensorflow/core/platform/cpu_feature_guard.cc:210] This TensorFlow binary is optimized to use available CPU instructions in performance-critical operations.\n",
      "To enable the following instructions: AVX2 AVX512F AVX512_VNNI FMA, in other operations, rebuild TensorFlow with the appropriate compiler flags.\n",
      "Loading checkpoint shards: 100%|████████████████████████████████████████████████████████████████████████████████████████████████████████████████████████████████████████████████████████████████████████████████████████████████████████| 2/2 [00:00<00:00, 24.65it/s]\n"
     ]
    }
   ],
   "source": [
    "from transformers import AutoTokenizer, AutoModelForCausalLM\n",
    "\n",
    "model_name = \"LGAI-EXAONE/EXAONE-3.5-2.4B-Instruct\"\n",
    "\n",
    "tokenizer = AutoTokenizer.from_pretrained(model_name)\n",
    "model = AutoModelForCausalLM.from_pretrained(model_name, trust_remote_code=True).to(\"cuda\")"
   ]
  },
  {
   "cell_type": "code",
   "execution_count": 3,
   "id": "93e0dc6e-c822-4238-a026-69ca349e65ce",
   "metadata": {},
   "outputs": [],
   "source": [
    "from typing import TypedDict, Optional, Dict, Any, Annotated, List\n",
    "from langgraph.graph import StateGraph, END\n",
    "\n",
    "class GeometryState(TypedDict):\n",
    "    user_request: str\n",
    "    math_concept: str = \"\"\n",
    "    parameters: Optional[Dict[str, Any]]\n",
    "    generated_code: str = \"\"\n",
    "    comments: str = \"\"\n",
    "    formulas: Optional[Dict[str, str]]"
   ]
  },
  {
   "cell_type": "code",
   "execution_count": 4,
   "id": "5fd19638-e3f0-444b-8268-e8ca5dd52cdf",
   "metadata": {},
   "outputs": [],
   "source": [
    "import json\n",
    "\n",
    "def extract_shape_node(state: GeometryState) -> GeometryState:\n",
    "    messages = [\n",
    "        {\n",
    "            \"role\": \"system\",\n",
    "            \"content\": \"\"\"\n",
    "                사용자가 제공하는 수학과 관련된 문장{state[\"user_request\"]}에서 어떠한 개념을 설명하면 사용자의 이해를 도울 수 있을지, JSON 형식으로 출력하세요.\n",
    "                아래 JSON의 schema에 맞게 하나만 출력하세요. 다른 설명은 절대 추가하지 마세요.\n",
    "                쉼표, 따옴표, 중괄호 등 문법을 엄격히 지키세요. 문제가 있어도 반드시 완전한 JSON으로만 출력하세요.\n",
    "                반드시 문장{state[\"user_request\"]}에서 직접 유도할 수 있는 가장 정확한 개념만 선택하세요.\n",
    "                예를 들어 각, 예각, 예각삼각형을 잘 구분해야 합니다.\n",
    "                출력 형식 예시 (값은 사용자가 제공하는 수학과 관련된 문장{state[\"user_request\"]}에서 나온 개념과 인자를 사용해야 합니다):\n",
    "                {\n",
    "                    \"math_concept\": \"원\"\n",
    "                    \"parameters\": {\n",
    "                        \"radius\": 1\n",
    "                    }\n",
    "                }\n",
    "                사용자의 이해를 도울 수 있는 수학 개념과 이에 연관된 인자는 다음과 같습니다. 각 개념에 연관되지않는 인자는 JSON에 포함하지마세요.\n",
    "                (사용자가 제공하는 수학과 관련된 문장에서 찾은 개념의 영단어와 문장을 영어로 번역한 것과 비교하여 찾고, 반드시 한국어로 된 개념을 사용하세요.)\n",
    "                    - 선분(Line Segment) 또는 반직선(Half Line) 또는 곧은선, 직선(Line, Straight Line)\n",
    "                        - 인자 없음\n",
    "                    - 굽은선, 곡선(Curve)\n",
    "                        - 인자 없음\n",
    "                    - 각(Angle) 또는 각도(Angle)\n",
    "                        - size(예: 60° = 60): 각의 크기(int), 90은 직각을 사용하세요\n",
    "                    - 직각(Right Angle) 또는 수직(Perpendicular), 수선(Perpendicular Line)\n",
    "                    - 직각삼각형(Right Triangle)\n",
    "                        - base: 직각삼각형의 밑변의 길이(int)\n",
    "                        - height: 직각삼각형의 높이(int)\n",
    "                    - 사각형(Quadrangle) 또는 직사각형(Rectangle)\n",
    "                        - width: 직사각형의 가로(밑변)의 길이(int)\n",
    "                        - height: 직사각형의 세로(높이)의 길이(int)\n",
    "                    - 정사각형(Square)\n",
    "                        - length: 정사각형의 한변의 길이(int)\n",
    "                    - 원(Circle)\n",
    "                        - radius: 원의 반지름의 길이(int)\n",
    "                    - 예각(Acute angle)\n",
    "                        - size(예: 30° = 30): 예각의 크기(int)\n",
    "                    - 둔각(Obtuse angle)\n",
    "                        - size(예: 120° = 120): 둔각의 크기(int)\n",
    "                    - 정삼각형(Equilateral)\n",
    "                        - length: 정삼각형의 한변(등변)의 길이(int)\n",
    "                    - 이등변삼각형(Isosceles)\n",
    "                        - length: 이등변삼각형의 등변의 길이(int)\n",
    "                        - angle: 이등변삼각형의 등변 사잇각의 크기(int)\n",
    "                    - 삼각형(Triangle) 또는 예각삼각형(Acute Triangle)\n",
    "                        - 인자 없음\n",
    "                    - 둔각삼각형(Obtuse Triangle)\n",
    "                        - 인자 없음\n",
    "             \"\"\"\n",
    "        },\n",
    "        {\n",
    "            \"role\": \"user\",\n",
    "            \"content\": state[\"user_request\"]\n",
    "        }\n",
    "    ]\n",
    "    \n",
    "    input_ids = tokenizer.apply_chat_template(\n",
    "        messages,\n",
    "        tokenize=True,\n",
    "        add_generation_prompt=True,\n",
    "        return_tensors=\"pt\"\n",
    "    )\n",
    "\n",
    "    output = model.generate(\n",
    "        input_ids.to(\"cuda\"),\n",
    "        eos_token_id=tokenizer.eos_token_id,\n",
    "        max_new_tokens=256,\n",
    "        do_sample=True,\n",
    "    )\n",
    "\n",
    "    decoded = tokenizer.decode(output[0], skip_special_tokens=True)\n",
    "    \n",
    "    # 마크다운 제거 로직\n",
    "    decoded = decoded[decoded.find(\"```json\") + len(\"```json\"):decoded.rfind(\"```\")]\n",
    "    parsed = json.loads(decoded)\n",
    "\n",
    "    state[\"math_concept\"] = parsed[\"math_concept\"]\n",
    "    if parsed[\"parameters\"] is not None:\n",
    "        state[\"parameters\"] = parsed[\"parameters\"]\n",
    "        \n",
    "    return state"
   ]
  },
  {
   "cell_type": "code",
   "execution_count": 5,
   "id": "1e954fe4-9fae-4e3b-9f70-2fd465108978",
   "metadata": {},
   "outputs": [],
   "source": [
    "def gen_lines_prototype(svg_frame=500, stroke=\"black\", stroke_width=2):\n",
    "    \"\"\"\n",
    "    곧은선(선분, 반직선, 직선)을 그리는 코드 문자열을 생성합니다.\n",
    "\n",
    "    Parameters:\n",
    "        svg_frame (int): SVG 전체 너비 및 높이\n",
    "        stroke (str): 선 색상\n",
    "        stroke_width (int): 선 두께\n",
    "\n",
    "    Returns:\n",
    "        svg_content (str): SVG 코드 문자열\n",
    "    \"\"\"\n",
    "\n",
    "    x0, y0 = svg_frame // 4, svg_frame // 4\n",
    "    x1, y1 = svg_frame // 4, svg_frame // 2\n",
    "    x2, y2 = svg_frame // 4, (svg_frame * 3) // 4\n",
    "\n",
    "    distance = svg_frame // 2\n",
    "\n",
    "    svg_content = f'''<svg width=\"{svg_frame}\" height=\"{svg_frame}\" xmlns=\"http://www.w3.org/2000/svg\">\n",
    "    <text x=\"{svg_frame // 2}\" y=\"{svg_frame // 20}\" font-size=\"{svg_frame // 20}\" text-anchor=\"middle\">곧은선</text>\n",
    "    <text x=\"{svg_frame // 2}\" y=\"{(svg_frame * 3) // 20}\" font-size=\"{svg_frame // 20}\" text-anchor=\"middle\">선분</text>\n",
    "    <!-- 선분 -->\n",
    "    <circle cx=\"{x0}\" cy=\"{y0}\" r=\"1\" stroke=\"{stroke}\" stroke-width=\"{stroke_width}\" fill=\"black\" />\n",
    "    <circle cx=\"{x0 + distance}\" cy=\"{y0}\" r=\"1\" stroke=\"{stroke}\" stroke-width=\"{stroke_width}\" fill=\"black\" />\n",
    "    <line x1=\"{x0}\" y1=\"{y0}\" x2=\"{x0 + distance}\" y2=\"{y0}\" stroke=\"{stroke}\" stroke-width=\"{stroke_width}\" />\n",
    "    <!-- 반직선 -->\n",
    "    <text x=\"{svg_frame // 2}\" y=\"{(svg_frame * 7) // 20}\" font-size=\"{svg_frame // 20}\" text-anchor=\"middle\">반직선</text>\n",
    "    <circle cx=\"{x1}\" cy=\"{y1}\" r=\"1\" stroke=\"{stroke}\" stroke-width=\"{stroke_width}\" fill=\"black\" />\n",
    "    <circle cx=\"{x1 + distance}\" cy=\"{y1}\" r=\"1\" stroke=\"{stroke}\" stroke-width=\"{stroke_width}\" fill=\"black\" />\n",
    "    <line x1=\"{x1}\" y1=\"{y1}\" x2=\"{svg_frame}\" y2=\"{y1}\" stroke=\"{stroke}\" stroke-width=\"{stroke_width}\" />\n",
    "    <!-- 직선 -->\n",
    "    <text x=\"{svg_frame // 2}\" y=\"{(svg_frame * 3) // 5}\" font-size=\"{svg_frame // 20}\" text-anchor=\"middle\">직선</text>\n",
    "    <circle cx=\"{x2}\" cy=\"{y2}\" r=\"1\" stroke=\"{stroke}\" stroke-width=\"{stroke_width}\" fill=\"black\" />\n",
    "    <circle cx=\"{x2 + distance}\" cy=\"{y2}\" r=\"1\" stroke=\"{stroke}\" stroke-width=\"{stroke_width}\" fill=\"black\" />\n",
    "    <line x1=\"0\" y1=\"{y2}\" x2=\"{svg_frame}\" y2=\"{y2}\" stroke=\"{stroke}\" stroke-width=\"{stroke_width}\" />\n",
    "    </svg>\n",
    "    '''\n",
    "    \n",
    "    return svg_content"
   ]
  },
  {
   "cell_type": "code",
   "execution_count": 6,
   "id": "ecc06698-ae04-4170-9cc3-75b673321dec",
   "metadata": {},
   "outputs": [],
   "source": [
    "import math\n",
    "\n",
    "def gen_curves_prototype(svg_frame=500, stroke=\"black\", stroke_width=2):\n",
    "    \"\"\"\n",
    "    굽은선(곡선)을 그리는 코드 문자열을 생성합니다.\n",
    "\n",
    "    Parameters:\n",
    "        svg_frame (int): SVG 전체 너비 및 높이\n",
    "        stroke (str): 선 색상\n",
    "        stroke_width (int): 선 두께\n",
    "\n",
    "    Returns:\n",
    "        svg_content (str): SVG 코드 문자열\n",
    "    \"\"\"\n",
    "    \n",
    "    svg_content = f'''\n",
    "    <svg width=\"{svg_frame}\" height=\"{svg_frame}\" xmlns=\"http://www.w3.org/2000/svg\">\n",
    "    <text x=\"{svg_frame // 2}\" y=\"{svg_frame // 10}\" font-size=\"{svg_frame // 20}\" text-anchor=\"middle\">굽은선</text>\n",
    "    <!-- 복잡한 S자 곡선 (두 개의 Cubic Bézier) -->\n",
    "    <path d=\"M {svg_frame // 5},{(svg_frame * 4) // 5}\n",
    "    C {svg_frame // 5},{svg_frame // 5} {(svg_frame * 4) // 5},{svg_frame // 5} {(svg_frame * 4) // 5},{svg_frame // 2}\n",
    "    C {(svg_frame * 4) // 5},{(svg_frame * 4) // 5} {svg_frame // 5},{(svg_frame * 4) // 5} {svg_frame // 5},{svg_frame // 5}\"\n",
    "    stroke=\"{stroke}\" fill=\"none\" stroke-width=\"{stroke_width}\"/>\n",
    "    </svg>\n",
    "    '''\n",
    "    return svg_content"
   ]
  },
  {
   "cell_type": "code",
   "execution_count": 7,
   "id": "9b1f0da9-7e46-4613-9b14-5c92a3cbc04b",
   "metadata": {},
   "outputs": [],
   "source": [
    "def gen_circle_prototype(variants=None, svg_frame=500, stroke=\"black\", stroke_width=2, fill=\"none\"):\n",
    "    \"\"\"\n",
    "    원을 그리는 코드 문자열을 생성합니다.\n",
    "    \n",
    "    Parameters:\n",
    "        variants (dict): 원의 인자\n",
    "            radius (int): 원의 반지름\n",
    "        svg_frame (int): SVG 전체 너비 및 높이\n",
    "        stroke (str): 선 색상\n",
    "        stroke_width (int): 선 두께\n",
    "        fill (str): 내부 색상\n",
    "\n",
    "    Returns:\n",
    "        svg_content (str): SVG 코드 문자열\n",
    "    \"\"\"\n",
    "\n",
    "    cx = svg_frame // 2\n",
    "    cy = cx\n",
    "    \n",
    "    if (variants is None) or (\"radius\" not in variants.keys()) or (variants[\"radius\"] is None) or (variants[\"radius\"] <= 0):\n",
    "        r = svg_frame // 3\n",
    "    else:\n",
    "        r = min(variants[\"radius\"] * 50, svg_frame // 3)\n",
    "    \n",
    "    svg_content = f'''<svg width=\"{svg_frame}\" height=\"{svg_frame}\" xmlns=\"http://www.w3.org/2000/svg\">\n",
    "    <text x=\"{svg_frame // 2}\" y=\"{svg_frame // 10}\" font-size=\"{svg_frame // 20}\" text-anchor=\"middle\">원</text>\n",
    "    <circle cx=\"{cx}\" cy=\"{cy}\" r=\"{r}\" stroke=\"{stroke}\" stroke-width=\"{stroke_width}\" fill=\"{fill}\" />\n",
    "    <circle cx=\"{cx}\" cy=\"{cy}\" r=\"1\" stroke=\"{stroke}\" stroke-width=\"{stroke_width}\" fill=\"black\" />\n",
    "    <line x1=\"{cx}\" y1=\"{cy}\" x2=\"{cx + r}\" y2=\"{cy}\" stroke=\"{stroke}\" stroke-width=\"{stroke_width}\" />\n",
    "    <!-- 보조선 -->\n",
    "    <path d=\"M {cx}, {cy} Q {cx + (r // 2)}, {cy - (r // 8)} {cx + r}, {cy}\" fill=\"none\" stroke=\"{stroke}\" stroke-width=\"{stroke_width}\" stroke-dasharray=\"5,3\" />\n",
    "    <text x=\"{cx + (r // 2)}\" y=\"{cy - (r // 8)}\" font-size=\"{svg_frame // 40}\" text-anchor=\"middle\">반지름</text>\n",
    "    </svg>\n",
    "    '''\n",
    "\n",
    "    return svg_content"
   ]
  },
  {
   "cell_type": "code",
   "execution_count": 8,
   "id": "d1b3356c-a7e7-4171-91c1-1e763d47e342",
   "metadata": {},
   "outputs": [],
   "source": [
    "def gen_rectangle_prototype(variants=None, is_square=False, svg_frame=500, stroke=\"black\", stroke_width=2, fill=\"none\"):\n",
    "    \"\"\"\n",
    "    직사각형을 그리는 코드 문자열을 생성합니다.\n",
    "\n",
    "    Parameters:\n",
    "        variants (dict): 사각형 인자\n",
    "            width (int): 직사각형 너비\n",
    "            height (int): 직사각형 높이\n",
    "            length (int): 정사각형 한 변의 길이\n",
    "        is_square (bool): 정사각형 여부\n",
    "        svg_frame (int): SVG 전체 너비 및 높이\n",
    "        stroke (str): 테두리 색상\n",
    "        stroke_width (int): 테두리 두께\n",
    "        fill (str): 내부 색상\n",
    "\n",
    "    Returns:\n",
    "        svg_content (str): SVG 코드 문자열\n",
    "    \"\"\"\n",
    "\n",
    "    x = svg_frame // 5\n",
    "    y = svg_frame // 5\n",
    "    if is_square:\n",
    "        r_width = (svg_frame * 3) // 5 if (variants is None) or (\"length\" not in variants.keys()) or (variants[\"length\"] is None) or (variants[\"length\"] <= 0) else min((svg_frame * 3) // 5, variants[\"length\"] * 100)\n",
    "        r_height = r_width\n",
    "        svg_height = svg_frame\n",
    "        name = \"정사각형\"\n",
    "    else:\n",
    "        r_width = (svg_frame * 3) // 5  if (variants is None) or (\"width\" not in variants.keys()) or (variants[\"width\"] is None) or (variants[\"width\"] <= 0) else min((svg_frame * 3) // 5, variants[\"width\"] * 50)\n",
    "        r_height = r_width // 2 if (variants is None) or (\"height\" not in variants.keys()) or (variants[\"height\"] is None) or (variants[\"height\"] <= 0) else min(r_width // 2, variants[\"height\"] * 50)\n",
    "        svg_height = min(500, ((y + r_height) * 5) // 4)\n",
    "        name = \"직사각형\"\n",
    "\n",
    "    # 사각형이 가로로 중앙에 위치하도록\n",
    "    x = (svg_frame - r_width) // 2\n",
    "\n",
    "    # 직사각형, 정사각형에 따른 용어 변경\n",
    "    if is_square:\n",
    "        base_term = \"한변\"\n",
    "        height_term = \"한변\"\n",
    "    else:\n",
    "        base_term = \"밑변\"\n",
    "        height_term = \"높이\"\n",
    "\n",
    "    epsilon = min(r_width, r_height) // 5\n",
    "    \n",
    "    # svg_width = x + width + x, svg_height = y + height + y\n",
    "    svg_content = f'''<svg width=\"{svg_frame}\" height=\"{svg_height}\" xmlns=\"http://www.w3.org/2000/svg\">\n",
    "    <text x=\"{svg_frame // 2}\" y=\"{svg_frame // 10}\" font-size=\"{svg_frame // 20}\" text-anchor=\"middle\">{name}</text>\n",
    "    <rect x=\"{x}\" y=\"{y}\" width=\"{r_width}\" height=\"{r_height}\" stroke=\"{stroke}\" stroke-width=\"{stroke_width}\" fill=\"{fill}\" />\n",
    "    <!-- 보조선들 -->\n",
    "    <path d=\"M {x}, {y + r_height} Q {x + (r_width // 2)}, {y + r_height - epsilon} {x + r_width}, {y + r_height}\" fill=\"none\" stroke=\"{stroke}\" stroke-width=\"{stroke_width}\" stroke-dasharray=\"5,3\" />\n",
    "    <text x=\"{x + (r_width // 2)}\" y=\"{y + r_height - epsilon}\" font-size=\"{svg_frame // 40}\" text-anchor=\"middle\">{base_term}</text>\n",
    "    <path d=\"M {x + r_width}, {y} Q {x + r_width - epsilon}, {y + (r_height // 2)} {x + r_width}, {y + r_height}\" fill=\"none\" stroke=\"{stroke}\" stroke-width=\"{stroke_width}\" stroke-dasharray=\"5,3\" />\n",
    "    <text x=\"{x + r_width - epsilon}\" y=\"{y + (r_height // 2)}\" font-size=\"{svg_frame // 40}\" text-anchor=\"middle\">{height_term}</text>\n",
    "    </svg>'''\n",
    "    return svg_content"
   ]
  },
  {
   "cell_type": "code",
   "execution_count": 9,
   "id": "b44b7ceb-bef7-408a-8401-f4e9a47f4486",
   "metadata": {},
   "outputs": [],
   "source": [
    "import math\n",
    "\n",
    "def gen_angle_prototype(variants=None, svg_frame=500, stroke=\"black\", stroke_width=2):\n",
    "    \"\"\"\n",
    "    기준선과 기울어진 선 + 각도를 나타내는 호를 그리는 코드 문자열을 생성합니다.\n",
    "\n",
    "    Parameters:\n",
    "        variants (dict): 각도 인자\n",
    "            size (int): 각의 크기\n",
    "        svg_frame (int): SVG 전체 너비 및 높이\n",
    "        stroke (str): 테두리 색상\n",
    "        stroke_width (int): 테두리 두께\n",
    "\n",
    "    Returns:\n",
    "        svg_content (str): SVG 코드 문자열\n",
    "    \"\"\"\n",
    "\n",
    "    angle_deg = 60 if (variants is None) or (\"size\" not in variants.keys()) or (variants[\"size\"] is None) else variants[\"size\"]\n",
    "    if 180 < angle_deg:\n",
    "        angle_deg = angle_deg % 180\n",
    "    \n",
    "    # 기준점\n",
    "    x0, y0 = svg_frame // 4 if angle_deg < 90 else svg_frame // 2, (svg_frame * 2) // 3\n",
    "\n",
    "    # 기준선 끝점 (수평)\n",
    "    line_length = svg_frame // 2\n",
    "    x1 = x0 + line_length\n",
    "    y1 = y0\n",
    "\n",
    "    # 기울어진 선 끝점\n",
    "    rad = math.radians(angle_deg)\n",
    "    x2 = x0 + line_length * math.cos(-rad)\n",
    "    y2 = y0 + line_length * math.sin(-rad)\n",
    "\n",
    "    # 호의 시작점 (반지름만큼 떨어진 점)\n",
    "    arc_radius = svg_frame // 10\n",
    "    arc_start_x = x0 + arc_radius * math.cos(-rad)\n",
    "    arc_start_y = y0 + arc_radius * math.sin(-rad)\n",
    "\n",
    "    # 호의 끝점 (반지름과 각도로 계산)\n",
    "    arc_end_x = x0 + arc_radius\n",
    "    arc_end_y = y0\n",
    "\n",
    "    # SVG 내용\n",
    "    svg_content = f'''<svg width=\"{svg_frame}\" height=\"{(svg_frame * 3) // 4}\" xmlns=\"http://www.w3.org/2000/svg\">\n",
    "    <text x=\"{svg_frame // 2}\" y=\"{svg_frame // 10}\" font-size=\"{svg_frame // 20}\" text-anchor=\"middle\">각</text>\n",
    "    <!-- 기준선 -->\n",
    "    <line x1=\"{x0}\" y1=\"{y0}\" x2=\"{x1}\" y2=\"{y1}\" stroke=\"{stroke}\" stroke-width=\"{stroke_width}\" />\n",
    "    <!-- 기울어진 선 -->\n",
    "    <line x1=\"{x0}\" y1=\"{y0}\" x2=\"{x2}\" y2=\"{y2}\" stroke=\"{stroke}\" stroke-width=\"{stroke_width}\" />\n",
    "    <!-- 각도 호 -->\n",
    "    <path d=\"M {arc_start_x},{arc_start_y} A {arc_radius},{arc_radius} 0 0,1 {arc_end_x},{arc_end_y}\" stroke=\"{stroke}\" stroke-width=\"{stroke_width}\" fill=\"none\"/>\n",
    "    <!-- 보조선 -->\n",
    "    <text x=\"{x0 + arc_radius * 1.25 * math.cos(-rad / 2)}\" y=\"{y0 + arc_radius * 1.25 * math.sin(-rad / 2)}\" font-size=\"{svg_frame // 40}\" text-anchor=\"middle\">{angle_deg}°</text>\n",
    "    </svg>\n",
    "    '''\n",
    "\n",
    "    return svg_content"
   ]
  },
  {
   "cell_type": "code",
   "execution_count": 10,
   "id": "e2035951-7cde-4ac3-92d5-2965b21f573d",
   "metadata": {},
   "outputs": [],
   "source": [
    "def gen_right_angle_prototype(concept, svg_frame=500, stroke=\"black\", stroke_width=2):\n",
    "    \"\"\"\n",
    "    직각과 직각을 나타내는 보조선을 그리는 코드 문자열을 생성합니다.\n",
    "\n",
    "    Parameters:\n",
    "        svg_frame (int): SVG 전체 너비 및 높이\n",
    "        stroke (str): 테두리 색상\n",
    "        stroke_width (int): 테두리 두께\n",
    "\n",
    "    Returns:\n",
    "        svg_content (str): SVG 코드 문자열\n",
    "    \"\"\"\n",
    "\n",
    "    concept_e2k = {\"Right Angle\": \"직각\", \"Perpendicular\": \"수직\", \"Perpendicular Line\": \"수선\"}\n",
    "    concept = concept_e2k[concept] if concept in concept_e2k.keys() else concept\n",
    "    \n",
    "    # 기준점\n",
    "    x0, y0 = svg_frame // 4, (svg_frame * 4) // 5\n",
    "\n",
    "    # 기준선 끝점 (수평)\n",
    "    line_length = (svg_frame * 3) // 5\n",
    "    x1 = x0 + line_length\n",
    "    y1 = y0\n",
    "\n",
    "    # 수직 선 끝점\n",
    "    x2 = x0 + line_length // 3\n",
    "    y2 = y0 - line_length\n",
    "\n",
    "    # 직각 보조선\n",
    "    epsilon = svg_frame // 10\n",
    "\n",
    "    h1 = x2 + epsilon\n",
    "    h2 = y0 - epsilon\n",
    "\n",
    "    # SVG 내용\n",
    "    svg_content = f'''<svg width=\"{svg_frame}\" height=\"{svg_frame}\" xmlns=\"http://www.w3.org/2000/svg\">\n",
    "    <text x=\"{svg_frame // 2}\" y=\"{svg_frame // 10}\" font-size=\"{svg_frame // 20}\" text-anchor=\"middle\">{concept}</text>\n",
    "    <!-- 기준선 -->\n",
    "    <line x1=\"{x0}\" y1=\"{y0}\" x2=\"{x1}\" y2=\"{y1}\" stroke=\"{stroke}\" stroke-width=\"{stroke_width}\" />\n",
    "    <!-- 기울어진 선 -->\n",
    "    <line x1=\"{x2}\" y1=\"{y0}\" x2=\"{x2}\" y2=\"{y2}\" stroke=\"{stroke}\" stroke-width=\"{stroke_width}\" />\n",
    "    <!-- 직각 보조선 -->\n",
    "    <line x1=\"{h1}\" y1=\"{y0}\" x2=\"{h1}\" y2=\"{h2}\" stroke=\"{stroke}\" stroke-width=\"{stroke_width}\" />\n",
    "    <line x1=\"{x2}\" y1=\"{h2}\" x2=\"{h1}\" y2=\"{h2}\" stroke=\"{stroke}\" stroke-width=\"{stroke_width}\" />\n",
    "    </svg>\n",
    "    '''\n",
    "    \n",
    "    return svg_content"
   ]
  },
  {
   "cell_type": "code",
   "execution_count": 11,
   "id": "7d4b359d-562a-49df-8ed3-e3a1f4348d55",
   "metadata": {},
   "outputs": [],
   "source": [
    "def gen_right_triangle_prototype(variants=None, svg_frame=500, stroke=\"black\", stroke_width=2):\n",
    "    \"\"\"\n",
    "    직각삼각형을 그리는 코드 문자열을 생성합니다.\n",
    "\n",
    "    Parameters:\n",
    "        variants (dict): 직각삼각형의 인자\n",
    "            base (int): 직각삼각형의 밑변\n",
    "            height (int): 직각삼각형의 높이\n",
    "        svg_frame (int): SVG 전체 너비 및 높이\n",
    "        stroke (str): 테두리 색상\n",
    "        stroke_width (int): 테두리 두께\n",
    "\n",
    "    Returns:\n",
    "        svg_content (str): SVG 코드 문자열\n",
    "    \"\"\"\n",
    "\n",
    "    # 기준점\n",
    "    rt_base = (svg_frame * 2) // 3 if (variants is None) or (\"base\" not in variants.keys()) or (variants[\"base\"] is None) or (variants[\"base\"] <= 0) else min(variants[\"base\"] * 75, (svg_frame * 2) // 3)\n",
    "    rt_height = svg_frame // 2 if (variants is None) or (\"height\" not in variants.keys()) or (variants[\"height\"] is None) or (variants[\"height\"] <= 0) else min(variants[\"height\"] * 75, svg_frame // 2)\n",
    "    x0, y0 = svg_frame // 6, (svg_frame * 5) // 6\n",
    "    x1, y1 = min(x0 + rt_base, (svg_frame * 5) // 6), y0\n",
    "    x2, y2 = x1, max(y1 - rt_height, svg_frame // 3)\n",
    "\n",
    "    epsilon = min(rt_base, rt_height) // 10\n",
    "\n",
    "    h1 = x1 - epsilon\n",
    "    h2 = y1 - epsilon\n",
    "    \n",
    "    # SVG 내용\n",
    "    svg_content = f'''<svg width=\"{svg_frame}\" height=\"{svg_frame}\" xmlns=\"http://www.w3.org/2000/svg\">\n",
    "    <text x=\"{svg_frame // 2}\" y=\"{svg_frame // 10}\" font-size=\"{svg_frame // 20}\" text-anchor=\"middle\">직각삼각형</text>\n",
    "    <!-- 직각삼각형 -->\n",
    "    <line x1=\"{x0}\" y1=\"{y0}\" x2=\"{x1}\" y2=\"{y1}\" stroke=\"{stroke}\" stroke-width=\"{stroke_width}\" />\n",
    "    <line x1=\"{x1}\" y1=\"{y1}\" x2=\"{x2}\" y2=\"{y2}\" stroke=\"{stroke}\" stroke-width=\"{stroke_width}\" />\n",
    "    <line x1=\"{x0}\" y1=\"{y0}\" x2=\"{x2}\" y2=\"{y2}\" stroke=\"{stroke}\" stroke-width=\"{stroke_width}\" />\n",
    "    <!-- 직각 보조선 -->\n",
    "    <line x1=\"{h1}\" y1=\"{y1}\" x2=\"{h1}\" y2=\"{h2}\" stroke=\"{stroke}\" stroke-width=\"{stroke_width}\" />\n",
    "    <line x1=\"{h1}\" y1=\"{h2}\" x2=\"{x1}\" y2=\"{h2}\" stroke=\"{stroke}\" stroke-width=\"{stroke_width}\" />\n",
    "    <!-- 보조선들 -->\n",
    "    <path d=\"M {x0}, {y0} Q {(x0 + x1) // 2}, {((y0 + y1) // 2) - epsilon} {x1}, {y1}\" fill=\"none\" stroke=\"{stroke}\" stroke-width=\"{stroke_width}\" stroke-dasharray=\"5,3\" />\n",
    "    <text x=\"{(x0 + x1) // 2}\" y=\"{((y0 + y1) // 2) - epsilon}\" font-size=\"{svg_frame // 40}\" text-anchor=\"middle\">밑변</text>\n",
    "    <path d=\"M {x1}, {y1} Q {((x1 + x2) // 2) - epsilon}, {(y1 + y2) // 2} {x2}, {y2}\" fill=\"none\" stroke=\"{stroke}\" stroke-width=\"{stroke_width}\" stroke-dasharray=\"5,3\" />\n",
    "    <text x=\"{((x1 + x2) // 2) - 1.2 * epsilon}\" y=\"{(y1 + y2) // 2}\" font-size=\"{svg_frame // 40}\" text-anchor=\"middle\">높이</text>\n",
    "    <path d=\"M {x0}, {y0} Q {((x0 + x2) // 2) - epsilon}, {(y0 + y2) // 2 - epsilon} {x2}, {y2}\" fill=\"none\" stroke=\"{stroke}\" stroke-width=\"{stroke_width}\" stroke-dasharray=\"5,3\" />\n",
    "    <text x=\"{((x0 + x2) // 2) - 1.2 * epsilon}\" y=\"{(y0 + y2) // 2 - epsilon}\" font-size=\"{svg_frame // 40}\" text-anchor=\"middle\">빗변</text>\n",
    "    </svg>\n",
    "    '''\n",
    "    return svg_content"
   ]
  },
  {
   "cell_type": "code",
   "execution_count": 12,
   "id": "168b0daa-e2e7-4d39-8e0e-44dc47713104",
   "metadata": {},
   "outputs": [],
   "source": [
    "import math\n",
    "\n",
    "def gen_isosceles_prototype(variants=None, is_equilateral=False, svg_frame=500, stroke=\"black\", stroke_width=2):\n",
    "    \"\"\"\n",
    "    이등변삼각형 및 정삼각형을 그리는 코드 문자열을 생성합니다.\n",
    "\n",
    "    Parameters:\n",
    "        variants (dict): 이등변삼각형/정삼각형의 인자\n",
    "            length (int): 이등변삼각형/정삼각형의 등변의 길이\n",
    "            angle (int): 등변 사잇각\n",
    "        is_equilateral (bool): 정삼각형 여부\n",
    "        svg_frame (int): SVG 전체 너비 및 높이\n",
    "        stroke (str): 테두리 색상\n",
    "        stroke_width (int): 테두리 두께\n",
    "\n",
    "    Returns:\n",
    "        svg_content (str): SVG 코드 문자열\n",
    "    \"\"\"\n",
    "\n",
    "    if is_equilateral:\n",
    "        # 정삼각형\n",
    "        rad = math.pi / 3\n",
    "        lateral = svg_frame // 2 if (variants is None) or (\"length\" not in variants.keys()) or (variants[\"length\"] is None) or (variants[\"length\"] <= 0) else min(variants[\"length\"] * 75, svg_frame // 2)\n",
    "        x0, y0 = svg_frame // 2, svg_frame // 4\n",
    "        x1, y1 = x0 + lateral * math.cos(rad), y0 + lateral * math.sin(rad)\n",
    "        x2, y2 = x0 + lateral * math.cos(2 * rad), y0 + lateral * math.sin(2 * rad)\n",
    "\n",
    "        epsilon = lateral // 10\n",
    "        same_tick = lateral // 30\n",
    "\n",
    "        # SVG 내용\n",
    "        svg_content = f'''<svg width=\"{svg_frame}\" height=\"{svg_frame}\" xmlns=\"http://www.w3.org/2000/svg\">\n",
    "        <text x=\"{svg_frame // 2}\" y=\"{svg_frame // 10}\" font-size=\"{svg_frame // 20}\" text-anchor=\"middle\">정삼각형</text>\n",
    "        <!-- 정삼각형 -->\n",
    "        <polygon points=\"{x0},{y0} {x1},{y1} {x2},{y2}\" stroke=\"{stroke}\" stroke-width=\"{stroke_width}\" fill=\"none\"/>\n",
    "        <!-- 보조선들 -->\n",
    "        <path d=\"M {x0}, {y0} Q {(x0 + x1) / 2 + epsilon}, {((y0 + y1) / 2) - epsilon} {x1}, {y1}\" fill=\"none\" stroke=\"{stroke}\" stroke-width=\"{stroke_width}\" stroke-dasharray=\"5,3\" />\n",
    "        <text x=\"{(x0 + x1) / 2 + 1.5 * epsilon}\" y=\"{((y0 + y1) / 2) - epsilon}\" font-size=\"{svg_frame // 40}\" text-anchor=\"middle\">한변</text>\n",
    "        <line x1=\"{(x0 + x1) / 2 - same_tick * math.cos(rad + math.pi / 2)}\" y1=\"{(y0 + y1) / 2 - same_tick * math.sin(rad + math.pi / 2)}\" x2=\"{(x0 + x1)/ 2 + same_tick * math.cos(rad + math.pi / 2)}\" y2=\"{(y0 + y1) / 2 + same_tick * math.sin(rad + math.pi / 2)}\" stroke=\"{stroke}\" stroke-width=\"{stroke_width}\" />\n",
    "        <line x1=\"{(x1 + x2) / 2 - same_tick * math.cos(math.pi / 2)}\" y1=\"{(y1 + y2) / 2 - same_tick * math.sin(math.pi / 2)}\" x2=\"{(x1 + x2) / 2 + same_tick * math.cos(math.pi / 2)}\" y2=\"{(y1 + y2) / 2 + same_tick * math.sin(math.pi / 2)}\" stroke=\"{stroke}\" stroke-width=\"{stroke_width}\" />\n",
    "        <line x1=\"{(x0 + x2) / 2 - same_tick * math.cos(2 * rad + math.pi / 2)}\" y1=\"{(y0 + y2) / 2 - same_tick * math.sin(2 * rad + math.pi / 2)}\" x2=\"{(x0 + x2) / 2 + same_tick * math.cos(2 * rad + math.pi / 2)}\" y2=\"{(y0 + y2) / 2 + same_tick * math.sin(2 * rad + math.pi / 2)}\" stroke=\"{stroke}\" stroke-width=\"{stroke_width}\" />\n",
    "        </svg>\n",
    "        '''\n",
    "    else:\n",
    "        # 이등변삼각형\n",
    "        rad = math.pi / 6 if (variants is None) or (\"angle\" not in variants.keys()) or (variants[\"angle\"] is None) or (variants[\"angle\"] <= 0) else math.radians(min(variants[\"angle\"], 178))\n",
    "        lateral = svg_frame // 2 if (variants is None) or (\"length\" not in variants.keys()) or (variants[\"length\"] is None) or (variants[\"length\"] <= 0) else min(variants[\"length\"] * 75, svg_frame // 2)\n",
    "        x0, y0 = svg_frame // 2, svg_frame // 4\n",
    "        x1, y1 = x0 + lateral * math.cos((math.pi - rad) / 2), y0 + lateral * math.sin((math.pi - rad) / 2)\n",
    "        x2, y2 = x0 + lateral * math.cos((math.pi + rad) / 2), y0 + lateral * math.sin((math.pi + rad) / 2)\n",
    "\n",
    "        epsilon = lateral // 10\n",
    "        same_tick = lateral // 30\n",
    "\n",
    "        # SVG 내용\n",
    "        svg_content = f'''<svg width=\"{svg_frame}\" height=\"{svg_frame}\" xmlns=\"http://www.w3.org/2000/svg\">\n",
    "        <text x=\"{svg_frame // 2}\" y=\"{svg_frame // 10}\" font-size=\"{svg_frame // 20}\" text-anchor=\"middle\">이등변삼각형</text>\n",
    "        <!-- 아등변삼각형 -->\n",
    "        <polygon points=\"{x0},{y0} {x1},{y1} {x2},{y2}\" stroke=\"{stroke}\" stroke-width=\"{stroke_width}\" fill=\"none\"/>\n",
    "        <!-- 보조선들 -->\n",
    "        <path d=\"M {x0}, {y0} Q {(x0 + x1) // 2 + epsilon}, {((y0 + y1) // 2) - epsilon} {x1}, {y1}\" fill=\"none\" stroke=\"{stroke}\" stroke-width=\"{stroke_width}\" stroke-dasharray=\"5,3\" />\n",
    "        <text x=\"{(x0 + x1) // 2 + epsilon}\" y=\"{((y0 + y1) // 2) - epsilon}\" font-size=\"{svg_frame // 40}\" text-anchor=\"middle\">등변</text>\n",
    "        <line x1=\"{(x0 + x1) / 2 - same_tick * math.cos((math.pi - rad) / 2 + math.pi / 2)}\" y1=\"{(y0 + y1) / 2 - same_tick * math.sin((math.pi - rad) / 2 + math.pi / 2)}\" x2=\"{(x0 + x1)/ 2 + same_tick * math.cos((math.pi - rad) / 2 + math.pi / 2)}\" y2=\"{(y0 + y1) / 2 + same_tick * math.sin((math.pi - rad) / 2 + math.pi / 2)}\" stroke=\"{stroke}\" stroke-width=\"{stroke_width}\" />\n",
    "        <line x1=\"{(x0 + x2) / 2 - same_tick * math.cos((math.pi + rad) / 2 + math.pi / 2)}\" y1=\"{(y0 + y2) / 2 - same_tick * math.sin((math.pi + rad) / 2 + math.pi / 2)}\" x2=\"{(x0 + x2)/ 2 + same_tick * math.cos((math.pi + rad) / 2 + math.pi / 2)}\" y2=\"{(y0 + y2) / 2 + same_tick * math.sin((math.pi + rad) / 2 + math.pi / 2)}\" stroke=\"{stroke}\" stroke-width=\"{stroke_width}\" />\n",
    "        </svg>\n",
    "        '''\n",
    "        \n",
    "    return svg_content"
   ]
  },
  {
   "cell_type": "code",
   "execution_count": 13,
   "id": "e430ca60-2f1e-44e5-b32f-93ca1842458e",
   "metadata": {},
   "outputs": [],
   "source": [
    "import math\n",
    "\n",
    "def gen_triangles_by_angles_prototype(concept, svg_frame=500, stroke=\"black\", stroke_width=2):\n",
    "    \"\"\"\n",
    "    예각 및 둔각 삼각형을 그리는 코드 문자열을 생성합니다.\n",
    "\n",
    "    Parameters:\n",
    "        concept (str): 각에 따른 삼각형 종류(예각삼각형(Acute Triangle), 둔각삼각형(Obtuse Triangle))\n",
    "        svg_frame (int): SVG 전체 너비 및 높이\n",
    "        stroke (str): 테두리 색상\n",
    "        stroke_width (int): 테두리 두께\n",
    "\n",
    "    Returns:\n",
    "        svg_content (str): SVG 코드 문자열\n",
    "    \"\"\"\n",
    "\n",
    "    if concept == \"예각삼각형\" or concept == \"Acute Triangle\":\n",
    "        # 예각 삼각형\n",
    "        # 예각 삼각형의 세 꼭짓점 좌표 (모두 각이 90도 미만)\n",
    "        x0, y0 = svg_frame // 2, svg_frame // 4\n",
    "        x1, y1 = svg_frame // 3, (svg_frame * 4) // 5\n",
    "        x2, y2 = (svg_frame * 4) // 5, y1\n",
    "\n",
    "        # SVG 문자열 생성\n",
    "        svg_content = f'''<svg width=\"{svg_frame}\" height=\"{svg_frame}\" xmlns=\"http://www.w3.org/2000/svg\">\n",
    "        <text x=\"{svg_frame // 2}\" y=\"{svg_frame // 10}\" font-size=\"{svg_frame // 20}\" text-anchor=\"middle\">예각삼각형</text>\n",
    "        <polygon points=\"{x0},{y0} {x1},{y1} {x2},{y2}\" stroke=\"black\" stroke-width=\"2\" fill=\"none\" />\n",
    "        </svg>\n",
    "        '''\n",
    "    else:\n",
    "        # 둔각삼각형\n",
    "        x0, y0 = (svg_frame * 3) // 4, svg_frame // 4\n",
    "        x1, y1 = (svg_frame * 3) // 5, (svg_frame * 4) // 5\n",
    "        x2, y2 = svg_frame // 4, y1\n",
    "\n",
    "        # SVG 문자열 생성\n",
    "        svg_content = f'''<svg width=\"{svg_frame}\" height=\"{svg_frame}\" xmlns=\"http://www.w3.org/2000/svg\">\n",
    "        <text x=\"{svg_frame // 2}\" y=\"{svg_frame // 10}\" font-size=\"{svg_frame // 20}\" text-anchor=\"middle\">둔각삼각형</text>\n",
    "        <polygon points=\"{x0},{y0} {x1},{y1} {x2},{y2}\" stroke=\"black\" stroke-width=\"2\" fill=\"none\" />\n",
    "        </svg>\n",
    "        '''\n",
    "        \n",
    "    return svg_content"
   ]
  },
  {
   "cell_type": "code",
   "execution_count": 14,
   "id": "f3155185-b773-43d2-87ed-5363f16b2754",
   "metadata": {},
   "outputs": [],
   "source": [
    "import random\n",
    "\n",
    "supported_triangles = [\"직각삼각형\", \"정삼각형\", \"이등변삼각형\", \"예각삼각형\", \"둔각삼각형\"]\n",
    "\n",
    "def generate_code_node(state: GeometryState) -> GeometryState:\n",
    "    concept = state[\"math_concept\"]\n",
    "    parameters = state[\"parameters\"] if \"parameters\" in state.keys() else None\n",
    "\n",
    "    \n",
    "    if concept == \"삼각형\" or concept == \"Triangle\":\n",
    "        concept = random.choice(supported_triangles)\n",
    "\n",
    "    if concept == \"원\" or concept == \"원주\" or concept == \"원주율\" or concept == \"Circle\":\n",
    "        code = gen_circle_prototype(parameters)\n",
    "    elif concept == \"선분\" or concept == \"반직선\" or concept == \"직선\" or concept == \"곧은선\" or concept == \"Line\":\n",
    "        code = gen_lines_prototype()\n",
    "    elif concept == \"곡선\" or concept == \"굽은선\" or concept == \"Curve\":\n",
    "        code = gen_curves_prototype()\n",
    "    elif concept == \"각\" or concept == \"각도\" or concept == \"Angle\":\n",
    "        code = gen_angle_prototype(parameters)\n",
    "    elif concept == \"직각\" or concept == \"Right Angle\" or concept == \"수직\" or concept == \"Perpendicular\" or concept == \"수선\" or concept == \"Perpendicular Line\":\n",
    "        code = gen_right_angle_prototype(concept)\n",
    "    elif concept == \"직각삼각형\" or concept == \"Right Triangle\":\n",
    "        code = gen_right_triangle_prototype(parameters)\n",
    "    elif concept == \"직사각형\" or concept == \"Rectangle\" :\n",
    "        code = gen_rectangle_prototype(parameters)\n",
    "    elif concept == \"정사각형\" or concept == \"Square\":\n",
    "        code = gen_rectangle_prototype(parameters, True)\n",
    "    elif concept == \"예각\" or concept == \"Acute angle\" or concept == \"둔각\" or concept == \"Obtuse angle\":\n",
    "        code = gen_angle_prototype(parameters)\n",
    "    elif concept == \"정삼각형\" or concept == \"Equilateral\":\n",
    "        code = gen_isosceles_prototype(parameters, True)\n",
    "    elif concept == \"이등변삼각형\" or concept == \"Isosceles\":\n",
    "        code = gen_isosceles_prototype(parameters)\n",
    "    elif concept == \"예각삼각형\" or concept == \"Acute Triangle\" or concept == \"둔각삼각형\" or concept == \"Obtuse Triangle\":\n",
    "        code = gen_triangles_by_angles_prototype(concept)\n",
    "    else:\n",
    "        code = f'''<svg width=\"{500}\" height=\"{500}\" xmlns=\"http://www.w3.org/2000/svg\">\n",
    "        <text x=\"{250}\" y=\"{50}\" font-size=\"{12}\" text-anchor=\"middle\"># {concept}을(를) 그리는 코드는 아직 구현되지 않았습니다.</text>\n",
    "        </svg>\n",
    "        '''\n",
    "\n",
    "    # return {**state, \"generated_code\": code}\n",
    "    return {\"generated_code\": code}"
   ]
  },
  {
   "cell_type": "code",
   "execution_count": 15,
   "id": "d72bdc11-4c66-4c42-a85e-29d534ea72f1",
   "metadata": {},
   "outputs": [],
   "source": [
    "def generate_comments_node(state: GeometryState) -> GeometryState:\n",
    "    messages = [\n",
    "        {\n",
    "            \"role\": \"system\",\n",
    "            \"content\": '''\n",
    "                당신은 초등학생들이 수학 문제를 풀 때 힌트를 제공하는 초등학교 선생님입니다.\n",
    "                수학 개념{state[\"user_request\"]}에 대한 설명을 다음 내용을 포함하여 간결하게 한국어로만 제공해주세요.\n",
    "                    - 정의\n",
    "                    - 기본 성질(공식은 제외하세요)\n",
    "                원주율을 반드시 π(\\pi)가 아닌 3.14로하여 제공해주세요.\n",
    "             '''\n",
    "        },\n",
    "        {\n",
    "            \"role\": \"user\",\n",
    "            \"content\": state[\"user_request\"]\n",
    "        }\n",
    "    ]\n",
    "    \n",
    "    input_ids = tokenizer.apply_chat_template(\n",
    "        messages,\n",
    "        tokenize=True,\n",
    "        add_generation_prompt=True,\n",
    "        return_tensors=\"pt\"\n",
    "    )\n",
    "\n",
    "    output = model.generate(\n",
    "        input_ids.to(\"cuda\"),\n",
    "        eos_token_id=tokenizer.eos_token_id,\n",
    "        max_new_tokens=512,\n",
    "        do_sample=False,\n",
    "    )\n",
    "\n",
    "    decoded = tokenizer.decode(output[0], skip_special_tokens=True)\n",
    "\n",
    "    # 답변 추출 로직\n",
    "    decoded = decoded[decoded.find(\"[|assistant|]\") + len(\"[|assistant|]\"):]\n",
    "\n",
    "    # state[\"comments\"] = decoded\n",
    "\n",
    "    return {\"comments\": decoded}"
   ]
  },
  {
   "cell_type": "code",
   "execution_count": 16,
   "id": "0d724d3f-a394-4067-a213-3cfffbf75347",
   "metadata": {},
   "outputs": [],
   "source": [
    "def generate_formulas_node(state: GeometryState) -> GeometryState:\n",
    "    supported_shape = {\"직각삼각형\": \"Right Triangle\", \"직사각형\": \"Rectangle\", \"정사각형\": \"Square\", \"원\": \"Circle\"}\n",
    "\n",
    "    math_concept = state[\"math_concept\"]\n",
    "    if math_concept not in supported_shape.keys() and math_concept not in supported_shape.values():\n",
    "        return state\n",
    "        \n",
    "    messages = [\n",
    "        {\n",
    "            \"role\": \"system\",\n",
    "            \"content\": '''\n",
    "                당신은 초등학생들이 수학 문제를 풀 때 힌트를 제공하는 초등학교 선생님입니다.\n",
    "                초등학생의 이해를 돕기위해, 수학 개념{state[\"math_concept\"]}에 대한 둘레와 넓이 공식을 JSON 형식으로 출력하세요.\n",
    "                아래 JSON의 schema에 맞게 하나만 출력하세요. 다른 설명은 절대 추가하지 마세요.\n",
    "                쉼표, 따옴표, 중괄호 등 문법을 엄격히 지키세요. 문제가 있어도 반드시 완전한 JSON으로만 출력하세요.\n",
    "                출력 형식 예시 (값은 {state[\"math_concept\"]}에 대한 둘레와 넓이 공식을 사용하세요.):\n",
    "                {\n",
    "                    \"formulas\": {\n",
    "                        \"perimeter\": \"2 \\\\times 3.14(원주율) \\\\times \\mathrm{반지름}\",\n",
    "                        \"area\": \"3.14(원주율) \\\\times \\mathrm{반지름} \\\\times \\mathrm{반지름}\",\n",
    "                    }\n",
    "                }\n",
    "                공식을 제공할 수 있는 개념은 다음과 같습니다. (사용자가 제공하는 수학과 관련된 문장에서 찾은 개념의 영단어와 문장을 영어로 번역한 것과 비교하여 찾아보세요)\n",
    "                    - 직각삼각형(Right Triangle)\n",
    "                        - 둘레: 밑변 + 높이 + 빗변\n",
    "                        - 넓이: 밑변 × 높이 ÷ 2\n",
    "                    - 직사각형(Rectangle)\n",
    "                        - 둘레: 2 × (밑변 + 높이)\n",
    "                        - 넓이: 밑변 × 높이                    \n",
    "                    - 정사각형(Square)\n",
    "                        - 둘레: 4 × 한 변의 길이\n",
    "                        - 넓이: 한 변의 길이 × 한 변의 길이\n",
    "                    - 원(Circle) 또는 원주\n",
    "                        - 둘레(원주): 2 × 3.14 × 반지름\n",
    "                        - 넓이: 3.14 × 반지름 × 반지름\n",
    "                원주율을 π(\\pi)가 아닌 3.14로하여 제공해주세요.\n",
    "             '''\n",
    "        },\n",
    "        {\n",
    "            \"role\": \"user\",\n",
    "            \"content\": state[\"math_concept\"]\n",
    "        }\n",
    "    ]\n",
    "    \n",
    "    input_ids = tokenizer.apply_chat_template(\n",
    "        messages,\n",
    "        tokenize=True,\n",
    "        add_generation_prompt=True,\n",
    "        return_tensors=\"pt\"\n",
    "    )\n",
    "\n",
    "    output = model.generate(\n",
    "        input_ids.to(\"cuda\"),\n",
    "        eos_token_id=tokenizer.eos_token_id,\n",
    "        max_new_tokens=512,\n",
    "        do_sample=False,\n",
    "    )\n",
    "\n",
    "    decoded = tokenizer.decode(output[0], skip_special_tokens=True)\n",
    "\n",
    "    # 마크다운 제거 로직\n",
    "    decoded = decoded[decoded.find(\"```json\") + len(\"```json\"):decoded.rfind(\"```\")]\n",
    "    decoded = decoded.replace('\\\\', '\\\\\\\\')\n",
    "    parsed = json.loads(decoded)\n",
    "    \n",
    "    # state[\"formulas\"] = parsed[\"formulas\"]\n",
    "\n",
    "    return {\"formulas\": parsed[\"formulas\"]}"
   ]
  },
  {
   "cell_type": "code",
   "execution_count": 17,
   "id": "91a84abd-13f0-43ea-8773-6241fd4364d9",
   "metadata": {},
   "outputs": [],
   "source": [
    "def merge_hints(state: GeometryState) -> GeometryState:\n",
    "    return state"
   ]
  },
  {
   "cell_type": "code",
   "execution_count": 18,
   "id": "458f97ba-b654-4475-bcfb-d5eb555adb6e",
   "metadata": {},
   "outputs": [
    {
     "data": {
      "image/png": "[encoded data removed]",
      "text/plain": [
       "<langgraph.graph.state.CompiledStateGraph object at 0x7fd740a99180>"
      ]
     },
     "execution_count": 18,
     "metadata": {},
     "output_type": "execute_result"
    }
   ],
   "source": [
    "# LangGraph StateGraph 생성\n",
    "geometry_agent = StateGraph(GeometryState)\n",
    "\n",
    "# 노드 등록\n",
    "geometry_agent.add_node(\"extract_shape\", extract_shape_node)\n",
    "geometry_agent.add_node(\"generate_code\", generate_code_node)\n",
    "geometry_agent.add_node(\"generate_comments\", generate_comments_node)\n",
    "geometry_agent.add_node(\"generate_formulas\", generate_formulas_node)\n",
    "geometry_agent.add_node(\"aggregate_hints\", merge_hints)\n",
    "\n",
    "# 엣지 연결\n",
    "geometry_agent.set_entry_point(\"extract_shape\")\n",
    "geometry_agent.add_edge(\"extract_shape\", \"generate_code\")\n",
    "geometry_agent.add_edge(\"extract_shape\", \"generate_comments\")\n",
    "geometry_agent.add_edge(\"extract_shape\", \"generate_formulas\")\n",
    "geometry_agent.add_edge(\"generate_code\", \"aggregate_hints\")\n",
    "geometry_agent.add_edge(\"generate_comments\", \"aggregate_hints\")\n",
    "geometry_agent.add_edge(\"generate_formulas\", \"aggregate_hints\")\n",
    "geometry_agent.add_edge(\"aggregate_hints\", END)\n",
    "\n",
    "# 그래프 완성\n",
    "app = geometry_agent.compile()\n",
    "app"
   ]
  },
  {
   "cell_type": "code",
   "execution_count": 19,
   "id": "2ec9779a-d022-47e1-b135-c734fd8d8794",
   "metadata": {},
   "outputs": [],
   "source": [
    "from IPython.display import SVG, display\n",
    "\n",
    "def show_svg(svg_content):\n",
    "    display(SVG(svg_content))"
   ]
  },
  {
   "cell_type": "code",
   "execution_count": 20,
   "id": "3c6ccd28-e436-45aa-a61c-b2b5e67a2247",
   "metadata": {},
   "outputs": [],
   "source": [
    "from IPython.display import Math, display\n",
    "\n",
    "def show_formulas(formula):\n",
    "    display(Math(formula))"
   ]
  },
  {
   "cell_type": "code",
   "execution_count": 21,
   "id": "6d0fefa0-d076-434c-b6a9-61c687fb4b0c",
   "metadata": {},
   "outputs": [],
   "source": [
    "# inputs = [\n",
    "#     \"곧은선이 뭐야?\",\n",
    "#     \"대표적인 굽은선을 그려줘\",\n",
    "#     \"중심이 (0,0)이고 반지름이 2인 원을 그려주세요.\",\n",
    "#     \"37° 각도를 그려줘\",\n",
    "#     \"직각을 표현해줘\",\n",
    "#     \"밑변이 3이고, 높이가 4인 직각삼각형 하나를 그려줘\",\n",
    "#     \"가로가 5, 세로가 3인 직사각형의 넓이\",\n",
    "#     \"한 변의 길이가 2인 정사각형 하나를 그려줘\",\n",
    "#     \"예각의 예시를 그려줘\",\n",
    "#     \"둔각을 설명한다\",\n",
    "#     \"정삼각형에 대해 이해한다\",\n",
    "#     \"이등변삼각형은 정삼각형인가요?\",\n",
    "#     \"예각삼각형\",\n",
    "#     \"둔각삼각형\",\n",
    "#     \"\"\"### 요약 내용:\n",
    "# - **핵심 개념**: 원주의 계산 방법, 특히 지름과 원주율을 이용한 원주 길이의 계산. 주어진 예제에서는 지름이 4cm일 때 원주를 계산하는 방법을 다룸.\n",
    "# - **학습 목표**: 학생들이 원주의 개념을 이해하고, 주어진 지름과 원주율 값을 이용해 원주를 정확하게 계산할 수 있도록 하는 것.\n",
    "#     \"\"\",\n",
    "# ]"
   ]
  },
  {
   "cell_type": "code",
   "execution_count": 22,
   "id": "8fca4170-a664-43f2-9e70-b7f67e989e6d",
   "metadata": {},
   "outputs": [],
   "source": [
    "inputs = [\n",
    "    \"직선 알아보기\",\n",
    "    \"각 알아보기\",\n",
    "    \"직각 알아보기\",\n",
    "    \"직각삼각형 알아보기\",\n",
    "    \"직사각형의 성질 알아보기\",\n",
    "    \"직사각형의 특징 알아보기\",\n",
    "    \"정사각형의 특징 알아보기\",\n",
    "    \"원의 반지름과 지름 알아보기\",\n",
    "    \"지름의 성질 알아보기\",\n",
    "    \"원 그리기\",\n",
    "    \"원을 이용하여 여러가지 모양 그리기\",\n",
    "    \"각의 크기 비교하기\",\n",
    "    \"각도기를 이용하여 각도 재기\",\n",
    "    \"각도를 나타내는 단위 알아보기\",\n",
    "    \"각도기와 자를 이용하여 각 그리기\",\n",
    "    \"예각과 둔각 알아보기\",\n",
    "    \"각도를 어림하고 각도기로 재어 확인하기\",\n",
    "    \"각도의 합 또는 차의 활용\",\n",
    "    \"두 각도의 차 구하기\",\n",
    "    \"삼각형에서 나머지 한 각의 크기 구하기\",\n",
    "    \"삼각형의 세 각의 크기의 합 구하기\",\n",
    "    \"사각형의 나머지 한 각의 크기 구하기\",\n",
    "    \"사각형의 네 각의 크기의 합 구하기\",\n",
    "    \"삼각형의 변의 길이에 따라 분류하기\",\n",
    "    \"이등변삼각형 알아보기\",\n",
    "    \"이등변삼각형의 성질 알아보기\",\n",
    "    \"각을 이용하여 이등변삼각형 그리기\",\n",
    "    \"정삼각형의 성질 알아보기\",\n",
    "    \"정삼각형 알아보기\",\n",
    "    \"예각삼각형 알아보기\",\n",
    "    \"삼각형을 각의 크기에 따라 분류하기\",\n",
    "    \"둔각삼각형 알아보기\",\n",
    "    \"삼각자와 각도기를 이용한 수선 긋기\",\n",
    "    \"수직\",\n",
    "    \"삼각자를 사용하여 평행선 긋기\",\n",
    "    \"주어진 거리의 평행선 긋기\",\n",
    "    \"평행 알아보기\",\n",
    "    \"평행선 사이의 거리 알아보기\",\n",
    "    \"사다리꼴 알아보기\",\n",
    "    \"평행사변형의 성질 알아보기\",\n",
    "    \"평행사변형 알아보기\",\n",
    "    \"마름모 알아보기\",\n",
    "    \"마름모의 성질 알아보기\",\n",
    "    \"직사각형과 정사각형의 성질 활용\",\n",
    "    \"다각형과 다각형의 이름 알아보기\",\n",
    "    \"정다각형과 정다각형의 이름 알아보기\",\n",
    "    \"대각선의 성질 알아보기\",\n",
    "    \"대각선 알아보기\",\n",
    "    \"모양 만들기\",\n",
    "]\n",
    "\n",
    "input_samples = inputs[:] # 일정 범위만 잘라서 테스트"
   ]
  },
  {
   "cell_type": "code",
   "execution_count": 23,
   "id": "00d8ca65-5075-4d4d-86f2-e9586500dffb",
   "metadata": {},
   "outputs": [
    {
     "name": "stdout",
     "output_type": "stream",
     "text": [
      "요청한 문장: 직선 알아보기\n",
      "추출된 개념: 직선\n",
      "추출된 인자: {}\n",
      "\n",
      "생성된 코드:\n",
      " <svg width=\"500\" height=\"500\" xmlns=\"http://www.w3.org/2000/svg\">\n",
      "    <text x=\"250\" y=\"25\" font-size=\"25\" text-anchor=\"middle\">곧은선</text>\n",
      "    <text x=\"250\" y=\"75\" font-size=\"25\" text-anchor=\"middle\">선분</text>\n",
      "    <!-- 선분 -->\n",
      "    <circle cx=\"125\" cy=\"125\" r=\"1\" stroke=\"black\" stroke-width=\"2\" fill=\"black\" />\n",
      "    <circle cx=\"375\" cy=\"125\" r=\"1\" stroke=\"black\" stroke-width=\"2\" fill=\"black\" />\n",
      "    <line x1=\"125\" y1=\"125\" x2=\"375\" y2=\"125\" stroke=\"black\" stroke-width=\"2\" />\n",
      "    <!-- 반직선 -->\n",
      "    <text x=\"250\" y=\"175\" font-size=\"25\" text-anchor=\"middle\">반직선</text>\n",
      "    <circle cx=\"125\" cy=\"250\" r=\"1\" stroke=\"black\" stroke-width=\"2\" fill=\"black\" />\n",
      "    <circle cx=\"375\" cy=\"250\" r=\"1\" stroke=\"black\" stroke-width=\"2\" fill=\"black\" />\n",
      "    <line x1=\"125\" y1=\"250\" x2=\"500\" y2=\"250\" stroke=\"black\" stroke-width=\"2\" />\n",
      "    <!-- 직선 -->\n",
      "    <text x=\"250\" y=\"300\" font-size=\"25\" text-anchor=\"middle\">직선</text>\n",
      "    <circle cx=\"125\" cy=\"375\" r=\"1\" stroke=\"black\" stroke-width=\"2\" fill=\"black\" />\n",
      "    <circle cx=\"375\" cy=\"375\" r=\"1\" stroke=\"black\" stroke-width=\"2\" fill=\"black\" />\n",
      "    <line x1=\"0\" y1=\"375\" x2=\"500\" y2=\"375\" stroke=\"black\" stroke-width=\"2\" />\n",
      "    </svg>\n",
      "    \n",
      "\n",
      "생성된 설명:\n",
      " ### 직선 알아보기\n",
      "\n",
      "#### 정의\n",
      "직선은 평면 위에서 가장 간단한 형태의 도형 중 하나로, 양쪽 끝이 없이 무한히 이어지는 선을 말합니다. 직선 위의 모든 점들은 서로 일정한 방향으로 연결되어 있어, 어떤 두 점을 잇는 선분의 길이가 항상 같아 보입니다.\n",
      "\n",
      "#### 기본 성질\n",
      "1. **무한히 이어짐**: 직선은 양쪽 끝이 없이 무한히 계속됩니다. 즉, 시작점에서 끝점으로 가는 동안 계속해서 이어집니다.\n",
      "2. **평행 이동 가능**: 직선 위의 어떤 점을 이동시켜도 그 점이 직선 위에 있으면서 다른 위치에 있게 되지만, 여전히 직선 위에 있습니다.\n",
      "3. **교차하지 않음**: 두 개의 다른 직선은 평면 위에서 한 점에서만 만나며, 그 외의 모든 위치에서는 서로 겹치지 않습니다.\n",
      "4. **직선의 방향**: 직선은 방향을 가지고 있어, 특정 방향으로 계속 이어집니다. 예를 들어, 수평선이나 수직선은 각각 특정 방향을 나타냅니다.\n",
      "\n",
      "이러한 성질들로 인해 직선은 기하학에서 매우 중요한 개념으로 사용됩니다!\n"
     ]
    },
    {
     "data": {
      "image/svg+xml": [
       "<svg xmlns=\"http://www.w3.org/2000/svg\" width=\"500\" height=\"500\">\n",
       "    <text x=\"250\" y=\"25\" font-size=\"25\" text-anchor=\"middle\">곧은선</text>\n",
       "    <text x=\"250\" y=\"75\" font-size=\"25\" text-anchor=\"middle\">선분</text>\n",
       "    <!-- 선분 -->\n",
       "    <circle cx=\"125\" cy=\"125\" r=\"1\" stroke=\"black\" stroke-width=\"2\" fill=\"black\"/>\n",
       "    <circle cx=\"375\" cy=\"125\" r=\"1\" stroke=\"black\" stroke-width=\"2\" fill=\"black\"/>\n",
       "    <line x1=\"125\" y1=\"125\" x2=\"375\" y2=\"125\" stroke=\"black\" stroke-width=\"2\"/>\n",
       "    <!-- 반직선 -->\n",
       "    <text x=\"250\" y=\"175\" font-size=\"25\" text-anchor=\"middle\">반직선</text>\n",
       "    <circle cx=\"125\" cy=\"250\" r=\"1\" stroke=\"black\" stroke-width=\"2\" fill=\"black\"/>\n",
       "    <circle cx=\"375\" cy=\"250\" r=\"1\" stroke=\"black\" stroke-width=\"2\" fill=\"black\"/>\n",
       "    <line x1=\"125\" y1=\"250\" x2=\"500\" y2=\"250\" stroke=\"black\" stroke-width=\"2\"/>\n",
       "    <!-- 직선 -->\n",
       "    <text x=\"250\" y=\"300\" font-size=\"25\" text-anchor=\"middle\">직선</text>\n",
       "    <circle cx=\"125\" cy=\"375\" r=\"1\" stroke=\"black\" stroke-width=\"2\" fill=\"black\"/>\n",
       "    <circle cx=\"375\" cy=\"375\" r=\"1\" stroke=\"black\" stroke-width=\"2\" fill=\"black\"/>\n",
       "    <line x1=\"0\" y1=\"375\" x2=\"500\" y2=\"375\" stroke=\"black\" stroke-width=\"2\"/>\n",
       "    </svg>"
      ],
      "text/plain": [
       "<IPython.core.display.SVG object>"
      ]
     },
     "metadata": {},
     "output_type": "display_data"
    },
    {
     "name": "stdout",
     "output_type": "stream",
     "text": [
      "====================================================================================================\n",
      "요청한 문장: 각 알아보기\n",
      "추출된 개념: 각\n",
      "추출된 인자: {'size': 45}\n",
      "\n",
      "생성된 코드:\n",
      " <svg width=\"500\" height=\"375\" xmlns=\"http://www.w3.org/2000/svg\">\n",
      "    <text x=\"250\" y=\"50\" font-size=\"25\" text-anchor=\"middle\">각</text>\n",
      "    <!-- 기준선 -->\n",
      "    <line x1=\"125\" y1=\"333\" x2=\"375\" y2=\"333\" stroke=\"black\" stroke-width=\"2\" />\n",
      "    <!-- 기울어진 선 -->\n",
      "    <line x1=\"125\" y1=\"333\" x2=\"301.7766952966369\" y2=\"156.22330470336314\" stroke=\"black\" stroke-width=\"2\" />\n",
      "    <!-- 각도 호 -->\n",
      "    <path d=\"M 160.35533905932738,297.6446609406726 A 50,50 0 0,1 175,333\" stroke=\"black\" stroke-width=\"2\" fill=\"none\"/>\n",
      "    <!-- 보조선 -->\n",
      "    <text x=\"182.74247078195543\" y=\"309.08228547718187\" font-size=\"12\" text-anchor=\"middle\">45°</text>\n",
      "    </svg>\n",
      "    \n",
      "\n",
      "생성된 설명:\n",
      " ### 각 알아보기 (Angle)\n",
      "\n",
      "**정의:**\n",
      "각 알아보기는 평면 위에서 두 직선이나 곡선이 만나는 지점에서 형성되는 도형의 크기를 말합니다. 각도는 주로 도(°) 단위로 측정되며, 이는 한 원의 중심각이 얼마나 큰지를 나타내기도 합니다.\n",
      "\n",
      "**기본 성질:**\n",
      "1. **합의 성질:** 두 각의 크기를 더하면 그 합은 항상 180°가 됩니다. 즉, 서로 마주보는 각들은 직각(90°)을 이루며, 이 두 각을 합치면 완전한 직선이 됩니다.\n",
      "   \n",
      "2. **차의 성질:** 두 각의 크기를 빼면 그 차이는 항상 180° 미만입니다. 예를 들어, 만약 한 각이 120°이고 다른 각이 60°라면, 두 각의 차이는 60°가 됩니다.\n",
      "\n",
      "3. **직선 위의 각:** 직선 위에 있는 두 각은 서로 보수각(complementary angles)으로, 합이 항상 180°가 됩니다.\n",
      "\n",
      "이러한 성질들을 이해하면 각도를 더 쉽게 파악하고 문제를 해결하는 데 도움이 될 것입니다.\n"
     ]
    },
    {
     "data": {
      "image/svg+xml": [
       "<svg xmlns=\"http://www.w3.org/2000/svg\" width=\"500\" height=\"375\">\n",
       "    <text x=\"250\" y=\"50\" font-size=\"25\" text-anchor=\"middle\">각</text>\n",
       "    <!-- 기준선 -->\n",
       "    <line x1=\"125\" y1=\"333\" x2=\"375\" y2=\"333\" stroke=\"black\" stroke-width=\"2\"/>\n",
       "    <!-- 기울어진 선 -->\n",
       "    <line x1=\"125\" y1=\"333\" x2=\"301.7766952966369\" y2=\"156.22330470336314\" stroke=\"black\" stroke-width=\"2\"/>\n",
       "    <!-- 각도 호 -->\n",
       "    <path d=\"M 160.35533905932738,297.6446609406726 A 50,50 0 0,1 175,333\" stroke=\"black\" stroke-width=\"2\" fill=\"none\"/>\n",
       "    <!-- 보조선 -->\n",
       "    <text x=\"182.74247078195543\" y=\"309.08228547718187\" font-size=\"12\" text-anchor=\"middle\">45°</text>\n",
       "    </svg>"
      ],
      "text/plain": [
       "<IPython.core.display.SVG object>"
      ]
     },
     "metadata": {},
     "output_type": "display_data"
    },
    {
     "name": "stdout",
     "output_type": "stream",
     "text": [
      "====================================================================================================\n",
      "요청한 문장: 직각 알아보기\n",
      "추출된 개념: 직각\n",
      "추출된 인자: {}\n",
      "\n",
      "생성된 코드:\n",
      " <svg width=\"500\" height=\"500\" xmlns=\"http://www.w3.org/2000/svg\">\n",
      "    <text x=\"250\" y=\"50\" font-size=\"25\" text-anchor=\"middle\">직각</text>\n",
      "    <!-- 기준선 -->\n",
      "    <line x1=\"125\" y1=\"400\" x2=\"425\" y2=\"400\" stroke=\"black\" stroke-width=\"2\" />\n",
      "    <!-- 기울어진 선 -->\n",
      "    <line x1=\"225\" y1=\"400\" x2=\"225\" y2=\"100\" stroke=\"black\" stroke-width=\"2\" />\n",
      "    <!-- 직각 보조선 -->\n",
      "    <line x1=\"275\" y1=\"400\" x2=\"275\" y2=\"350\" stroke=\"black\" stroke-width=\"2\" />\n",
      "    <line x1=\"225\" y1=\"350\" x2=\"275\" y2=\"350\" stroke=\"black\" stroke-width=\"2\" />\n",
      "    </svg>\n",
      "    \n",
      "\n",
      "생성된 설명:\n",
      " ### 직각 알아보기\n",
      "\n",
      "#### 정의\n",
      "직각은 두 선분이 서로 만나서 **90도**의 각을 이루는 것을 말해요. 쉽게 말해, 직각은 평평한 표면에서 만나는 선들이 만드는 특별한 각도예요.\n",
      "\n",
      "#### 기본 성질\n",
      "1. **두 직각이 만나면 평행사변형이 된다**: 만약 두 개의 직각이 서로 맞닿아 있다면, 그 두 선분이 만드는 각을 포함하는 도형은 평행사변형이 될 수 있어요.\n",
      "2. **직각의 합은 항상 180도**: 한 직선 위에 있는 모든 각들의 합은 항상 180도예요. 따라서 두 개의 직각이 만나면 그 합은 정확히 180도가 됩니다.\n",
      "3. **직각을 이루는 선분들은 서로 수직**: 직각을 이루는 두 선분은 서로 수직으로 만나요. 즉, 한 선분이 다른 선분과 만나는 각도가 정확히 90도라는 뜻이에요.\n",
      "\n",
      "이런 성질들을 기억하면 직각을 찾거나 이해하는 데 도움이 될 거예요!\n"
     ]
    },
    {
     "data": {
      "image/svg+xml": [
       "<svg xmlns=\"http://www.w3.org/2000/svg\" width=\"500\" height=\"500\">\n",
       "    <text x=\"250\" y=\"50\" font-size=\"25\" text-anchor=\"middle\">직각</text>\n",
       "    <!-- 기준선 -->\n",
       "    <line x1=\"125\" y1=\"400\" x2=\"425\" y2=\"400\" stroke=\"black\" stroke-width=\"2\"/>\n",
       "    <!-- 기울어진 선 -->\n",
       "    <line x1=\"225\" y1=\"400\" x2=\"225\" y2=\"100\" stroke=\"black\" stroke-width=\"2\"/>\n",
       "    <!-- 직각 보조선 -->\n",
       "    <line x1=\"275\" y1=\"400\" x2=\"275\" y2=\"350\" stroke=\"black\" stroke-width=\"2\"/>\n",
       "    <line x1=\"225\" y1=\"350\" x2=\"275\" y2=\"350\" stroke=\"black\" stroke-width=\"2\"/>\n",
       "    </svg>"
      ],
      "text/plain": [
       "<IPython.core.display.SVG object>"
      ]
     },
     "metadata": {},
     "output_type": "display_data"
    },
    {
     "name": "stdout",
     "output_type": "stream",
     "text": [
      "====================================================================================================\n",
      "요청한 문장: 직각삼각형 알아보기\n",
      "추출된 개념: 직각삼각형\n",
      "추출된 인자: {}\n",
      "\n",
      "생성된 코드:\n",
      " <svg width=\"500\" height=\"500\" xmlns=\"http://www.w3.org/2000/svg\">\n",
      "    <text x=\"250\" y=\"50\" font-size=\"25\" text-anchor=\"middle\">직각삼각형</text>\n",
      "    <!-- 직각삼각형 -->\n",
      "    <line x1=\"83\" y1=\"416\" x2=\"416\" y2=\"416\" stroke=\"black\" stroke-width=\"2\" />\n",
      "    <line x1=\"416\" y1=\"416\" x2=\"416\" y2=\"166\" stroke=\"black\" stroke-width=\"2\" />\n",
      "    <line x1=\"83\" y1=\"416\" x2=\"416\" y2=\"166\" stroke=\"black\" stroke-width=\"2\" />\n",
      "    <!-- 직각 보조선 -->\n",
      "    <line x1=\"391\" y1=\"416\" x2=\"391\" y2=\"391\" stroke=\"black\" stroke-width=\"2\" />\n",
      "    <line x1=\"391\" y1=\"391\" x2=\"416\" y2=\"391\" stroke=\"black\" stroke-width=\"2\" />\n",
      "    <!-- 보조선들 -->\n",
      "    <path d=\"M 83, 416 Q 249, 391 416, 416\" fill=\"none\" stroke=\"black\" stroke-width=\"2\" stroke-dasharray=\"5,3\" />\n",
      "    <text x=\"249\" y=\"391\" font-size=\"12\" text-anchor=\"middle\">밑변</text>\n",
      "    <path d=\"M 416, 416 Q 391, 291 416, 166\" fill=\"none\" stroke=\"black\" stroke-width=\"2\" stroke-dasharray=\"5,3\" />\n",
      "    <text x=\"386.0\" y=\"291\" font-size=\"12\" text-anchor=\"middle\">높이</text>\n",
      "    <path d=\"M 83, 416 Q 224, 266 416, 166\" fill=\"none\" stroke=\"black\" stroke-width=\"2\" stroke-dasharray=\"5,3\" />\n",
      "    <text x=\"219.0\" y=\"266\" font-size=\"12\" text-anchor=\"middle\">빗변</text>\n",
      "    </svg>\n",
      "    \n",
      "\n",
      "생성된 설명:\n",
      " ### 직각삼각형 알아보기\n",
      "\n",
      "#### 정의\n",
      "직각삼각형은 삼각형의 세 변 중 하나가 **직각**을 이루는 삼각형을 말합니다. 직각은 정확히 90도인 각도를 의미합니다. 이 직각이 있는 삼각형에서는 두 개의 다른 각이 각각 90도가 아닌 다른 두 각의 합이 항상 90도가 됩니다.\n",
      "\n",
      "#### 기본 성질\n",
      "1. **직각의 위치**: 직각삼각형에는 항상 하나의 직각이 있습니다. 이 직각은 삼각형의 가장 긴 변(빗변)과 마주보는 변 사이에 위치합니다.\n",
      "   \n",
      "2. **변의 길이 관계**: 직각삼각형에서는 피타고라스 정리가 적용됩니다. 하지만 여기서는 간단히 설명하자면, 가장 긴 변(빗변)의 길이는 다른 두 변(직각을 이루는 두 변)의 길이와 특별한 관계를 가지고 있습니다. 이 관계는 직각삼각형의 특성 중 하나로, 각 변의 길이를 알면 삼각형의 형태를 이해하는 데 도움이 됩니다.\n",
      "\n",
      "3. **예시**: 예를 들어, 책상 위에 놓인 책을 생각해보세요. 책의 모서리가 직각을 이루는 경우, 책의 모서리가 직각삼각형의 직각을 이루는 변이 될 수 있습니다. 책의 길이와 너비가 다른 두 변이라면, 책의 대각선 길이(빗변)는 이 두 변의 길이를 이용해 계산할 수 있습니다.\n",
      "\n",
      "이런 특성들로 인해 직각삼각형은 건축, 공학, 그리고 다양한 실생활에서 중요한 역할을 합니다.\n",
      "\n",
      "생성된 공식 raw:\n",
      " {'perimeter': '밑변 + 높이 + 빗변', 'area': '밑변 × 높이 ÷ 2'}\n"
     ]
    },
    {
     "data": {
      "text/latex": [
       "$\\displaystyle 밑변 + 높이 + 빗변$"
      ],
      "text/plain": [
       "<IPython.core.display.Math object>"
      ]
     },
     "metadata": {},
     "output_type": "display_data"
    },
    {
     "data": {
      "text/latex": [
       "$\\displaystyle 밑변 × 높이 ÷ 2$"
      ],
      "text/plain": [
       "<IPython.core.display.Math object>"
      ]
     },
     "metadata": {},
     "output_type": "display_data"
    },
    {
     "data": {
      "image/svg+xml": [
       "<svg xmlns=\"http://www.w3.org/2000/svg\" width=\"500\" height=\"500\">\n",
       "    <text x=\"250\" y=\"50\" font-size=\"25\" text-anchor=\"middle\">직각삼각형</text>\n",
       "    <!-- 직각삼각형 -->\n",
       "    <line x1=\"83\" y1=\"416\" x2=\"416\" y2=\"416\" stroke=\"black\" stroke-width=\"2\"/>\n",
       "    <line x1=\"416\" y1=\"416\" x2=\"416\" y2=\"166\" stroke=\"black\" stroke-width=\"2\"/>\n",
       "    <line x1=\"83\" y1=\"416\" x2=\"416\" y2=\"166\" stroke=\"black\" stroke-width=\"2\"/>\n",
       "    <!-- 직각 보조선 -->\n",
       "    <line x1=\"391\" y1=\"416\" x2=\"391\" y2=\"391\" stroke=\"black\" stroke-width=\"2\"/>\n",
       "    <line x1=\"391\" y1=\"391\" x2=\"416\" y2=\"391\" stroke=\"black\" stroke-width=\"2\"/>\n",
       "    <!-- 보조선들 -->\n",
       "    <path d=\"M 83, 416 Q 249, 391 416, 416\" fill=\"none\" stroke=\"black\" stroke-width=\"2\" stroke-dasharray=\"5,3\"/>\n",
       "    <text x=\"249\" y=\"391\" font-size=\"12\" text-anchor=\"middle\">밑변</text>\n",
       "    <path d=\"M 416, 416 Q 391, 291 416, 166\" fill=\"none\" stroke=\"black\" stroke-width=\"2\" stroke-dasharray=\"5,3\"/>\n",
       "    <text x=\"386.0\" y=\"291\" font-size=\"12\" text-anchor=\"middle\">높이</text>\n",
       "    <path d=\"M 83, 416 Q 224, 266 416, 166\" fill=\"none\" stroke=\"black\" stroke-width=\"2\" stroke-dasharray=\"5,3\"/>\n",
       "    <text x=\"219.0\" y=\"266\" font-size=\"12\" text-anchor=\"middle\">빗변</text>\n",
       "    </svg>"
      ],
      "text/plain": [
       "<IPython.core.display.SVG object>"
      ]
     },
     "metadata": {},
     "output_type": "display_data"
    },
    {
     "name": "stdout",
     "output_type": "stream",
     "text": [
      "====================================================================================================\n",
      "요청한 문장: 직사각형의 성질 알아보기\n",
      "추출된 개념: 직사각형\n",
      "추출된 인자: {'width': 5, 'height': 3}\n",
      "\n",
      "생성된 코드:\n",
      " <svg width=\"500\" height=\"281\" xmlns=\"http://www.w3.org/2000/svg\">\n",
      "    <text x=\"250\" y=\"50\" font-size=\"25\" text-anchor=\"middle\">직사각형</text>\n",
      "    <rect x=\"125\" y=\"100\" width=\"250\" height=\"125\" stroke=\"black\" stroke-width=\"2\" fill=\"none\" />\n",
      "    <!-- 보조선들 -->\n",
      "    <path d=\"M 125, 225 Q 250, 200 375, 225\" fill=\"none\" stroke=\"black\" stroke-width=\"2\" stroke-dasharray=\"5,3\" />\n",
      "    <text x=\"250\" y=\"200\" font-size=\"12\" text-anchor=\"middle\">밑변</text>\n",
      "    <path d=\"M 375, 100 Q 350, 162 375, 225\" fill=\"none\" stroke=\"black\" stroke-width=\"2\" stroke-dasharray=\"5,3\" />\n",
      "    <text x=\"350\" y=\"162\" font-size=\"12\" text-anchor=\"middle\">높이</text>\n",
      "    </svg>\n",
      "\n",
      "생성된 설명:\n",
      " ### 직사각형의 성질\n",
      "\n",
      "#### 정의\n",
      "직사각형은 네 개의 변을 가지고 있으며, 이 중 두 쌍의 변이 각각 평행하고 길이가 같은 특별한 사각형입니다. 즉, 모든 내각이 직각(90도)을 이루는 사각형입니다.\n",
      "\n",
      "#### 기본 성질\n",
      "1. **대변의 길이 동일**: 직사각형에서는 대변(가로와 세로에 해당하는 변)의 길이가 항상 같습니다. 예를 들어, 가로 길이가 \\(a\\)이고 세로 길이가 \\(b\\)라면, \\(a = b\\)입니다.\n",
      "   \n",
      "2. **내각의 합**: 직사각형의 모든 내각은 정확히 90도입니다. 따라서 네 개의 내각의 합은 항상 \\(360^\\circ\\)입니다.\n",
      "\n",
      "3. ** 대각선의 길이**: 직사각형의 대각선은 서로 같은 길이를 가지며, 이 길이는 피타고라스 정리를 통해 계산할 수 있습니다. 하지만 여기서는 대각선의 길이 자체보다는 그 길이가 같다는 점에 초점을 맞춥니다. 대각선의 길이는 \\(a\\sqrt{2}\\) 또는 \\(b\\sqrt{2}\\)로 표현할 수 있습니다 (여기서 \\(a\\)와 \\(b\\)는 각각 가로와 세로의 길이입니다).\n",
      "\n",
      "4. **면적 계산**: 직사각형의 면적은 가로 길이와 세로 길이를 곱한 값으로 구할 수 있습니다. 공식은 \\( \\text{면적} = a \\times b \\)입니다.\n",
      "\n",
      "이러한 성질들로 인해 직사각형은 일상생활에서 매우 흔하게 볼 수 있는 도형이며, 다양한 문제 해결에 활용됩니다.\n",
      "\n",
      "생성된 공식 raw:\n",
      " {'perimeter': '2 × (밑변 + 높이)', 'area': '밑변 × 높이'}\n"
     ]
    },
    {
     "data": {
      "text/latex": [
       "$\\displaystyle 2 × (밑변 + 높이)$"
      ],
      "text/plain": [
       "<IPython.core.display.Math object>"
      ]
     },
     "metadata": {},
     "output_type": "display_data"
    },
    {
     "data": {
      "text/latex": [
       "$\\displaystyle 밑변 × 높이$"
      ],
      "text/plain": [
       "<IPython.core.display.Math object>"
      ]
     },
     "metadata": {},
     "output_type": "display_data"
    },
    {
     "data": {
      "image/svg+xml": [
       "<svg xmlns=\"http://www.w3.org/2000/svg\" width=\"500\" height=\"281\">\n",
       "    <text x=\"250\" y=\"50\" font-size=\"25\" text-anchor=\"middle\">직사각형</text>\n",
       "    <rect x=\"125\" y=\"100\" width=\"250\" height=\"125\" stroke=\"black\" stroke-width=\"2\" fill=\"none\"/>\n",
       "    <!-- 보조선들 -->\n",
       "    <path d=\"M 125, 225 Q 250, 200 375, 225\" fill=\"none\" stroke=\"black\" stroke-width=\"2\" stroke-dasharray=\"5,3\"/>\n",
       "    <text x=\"250\" y=\"200\" font-size=\"12\" text-anchor=\"middle\">밑변</text>\n",
       "    <path d=\"M 375, 100 Q 350, 162 375, 225\" fill=\"none\" stroke=\"black\" stroke-width=\"2\" stroke-dasharray=\"5,3\"/>\n",
       "    <text x=\"350\" y=\"162\" font-size=\"12\" text-anchor=\"middle\">높이</text>\n",
       "    </svg>"
      ],
      "text/plain": [
       "<IPython.core.display.SVG object>"
      ]
     },
     "metadata": {},
     "output_type": "display_data"
    },
    {
     "name": "stdout",
     "output_type": "stream",
     "text": [
      "====================================================================================================\n",
      "요청한 문장: 직사각형의 특징 알아보기\n",
      "추출된 개념: 직사각형\n",
      "추출된 인자: {'width': None, 'height': None}\n",
      "\n",
      "생성된 코드:\n",
      " <svg width=\"500\" height=\"312\" xmlns=\"http://www.w3.org/2000/svg\">\n",
      "    <text x=\"250\" y=\"50\" font-size=\"25\" text-anchor=\"middle\">직사각형</text>\n",
      "    <rect x=\"100\" y=\"100\" width=\"300\" height=\"150\" stroke=\"black\" stroke-width=\"2\" fill=\"none\" />\n",
      "    <!-- 보조선들 -->\n",
      "    <path d=\"M 100, 250 Q 250, 220 400, 250\" fill=\"none\" stroke=\"black\" stroke-width=\"2\" stroke-dasharray=\"5,3\" />\n",
      "    <text x=\"250\" y=\"220\" font-size=\"12\" text-anchor=\"middle\">밑변</text>\n",
      "    <path d=\"M 400, 100 Q 370, 175 400, 250\" fill=\"none\" stroke=\"black\" stroke-width=\"2\" stroke-dasharray=\"5,3\" />\n",
      "    <text x=\"370\" y=\"175\" font-size=\"12\" text-anchor=\"middle\">높이</text>\n",
      "    </svg>\n",
      "\n",
      "생성된 설명:\n",
      " ### 직사각형의 특징\n",
      "\n",
      "#### 정의\n",
      "직사각형은 네 개의 변을 가지고 있으며, 이 중 서로 마주보는 두 변은 길이가 같고, 네 각은 모두 직각(90도)인 도형입니다. 즉, 모든 내각이 90도로 평평하고 직선으로 이루어져 있습니다.\n",
      "\n",
      "#### 기본 성질\n",
      "1. **대변의 길이 동일**: 직사각형에서 마주보는 두 변의 길이는 항상 같습니다. 예를 들어, 길이가 \\( l \\)인 한 변과 너비가 \\( w \\)인 다른 변은 \\( l = w \\)가 됩니다.\n",
      "   \n",
      "2. **대각선의 길이 동일**: 직사각형의 대각선은 항상 같은 길이를 가지며, 이 길이는 피타고라스 정리에 의해 \\( \\sqrt{l^2 + w^2} \\)로 계산됩니다. 하지만 여기서는 간단히 대각선의 길이가 같다는 점만 강조합니다.\n",
      "\n",
      "3. **면적 계산**: 직사각형의 면적은 길이와 너비를 곱한 값으로 구할 수 있습니다. 공식은 \\( \\text{면적} = l \\times w \\)입니다.\n",
      "\n",
      "4. **둘레**: 직사각형의 둘레는 모든 변의 길이를 더한 값입니다. 따라서 둘레는 \\( 2 \\times (l + w) \\)로 계산됩니다.\n",
      "\n",
      "이러한 특징들로 인해 직사각형은 일상생활에서 매우 흔하게 볼 수 있는 도형입니다. 예를 들어, 책의 모양이나 책상의 형태 등이 직사각형의 좋은 예시입니다.\n",
      "\n",
      "생성된 공식 raw:\n",
      " {'perimeter': '2 × (밑변 + 높이)', 'area': '밑변 × 높이'}\n"
     ]
    },
    {
     "data": {
      "text/latex": [
       "$\\displaystyle 2 × (밑변 + 높이)$"
      ],
      "text/plain": [
       "<IPython.core.display.Math object>"
      ]
     },
     "metadata": {},
     "output_type": "display_data"
    },
    {
     "data": {
      "text/latex": [
       "$\\displaystyle 밑변 × 높이$"
      ],
      "text/plain": [
       "<IPython.core.display.Math object>"
      ]
     },
     "metadata": {},
     "output_type": "display_data"
    },
    {
     "data": {
      "image/svg+xml": [
       "<svg xmlns=\"http://www.w3.org/2000/svg\" width=\"500\" height=\"312\">\n",
       "    <text x=\"250\" y=\"50\" font-size=\"25\" text-anchor=\"middle\">직사각형</text>\n",
       "    <rect x=\"100\" y=\"100\" width=\"300\" height=\"150\" stroke=\"black\" stroke-width=\"2\" fill=\"none\"/>\n",
       "    <!-- 보조선들 -->\n",
       "    <path d=\"M 100, 250 Q 250, 220 400, 250\" fill=\"none\" stroke=\"black\" stroke-width=\"2\" stroke-dasharray=\"5,3\"/>\n",
       "    <text x=\"250\" y=\"220\" font-size=\"12\" text-anchor=\"middle\">밑변</text>\n",
       "    <path d=\"M 400, 100 Q 370, 175 400, 250\" fill=\"none\" stroke=\"black\" stroke-width=\"2\" stroke-dasharray=\"5,3\"/>\n",
       "    <text x=\"370\" y=\"175\" font-size=\"12\" text-anchor=\"middle\">높이</text>\n",
       "    </svg>"
      ],
      "text/plain": [
       "<IPython.core.display.SVG object>"
      ]
     },
     "metadata": {},
     "output_type": "display_data"
    },
    {
     "name": "stdout",
     "output_type": "stream",
     "text": [
      "====================================================================================================\n",
      "요청한 문장: 정사각형의 특징 알아보기\n",
      "추출된 개념: 정사각형\n",
      "추출된 인자: {'length': 5}\n",
      "\n",
      "생성된 코드:\n",
      " <svg width=\"500\" height=\"500\" xmlns=\"http://www.w3.org/2000/svg\">\n",
      "    <text x=\"250\" y=\"50\" font-size=\"25\" text-anchor=\"middle\">정사각형</text>\n",
      "    <rect x=\"100\" y=\"100\" width=\"300\" height=\"300\" stroke=\"black\" stroke-width=\"2\" fill=\"none\" />\n",
      "    <!-- 보조선들 -->\n",
      "    <path d=\"M 100, 400 Q 250, 340 400, 400\" fill=\"none\" stroke=\"black\" stroke-width=\"2\" stroke-dasharray=\"5,3\" />\n",
      "    <text x=\"250\" y=\"340\" font-size=\"12\" text-anchor=\"middle\">한변</text>\n",
      "    <path d=\"M 400, 100 Q 340, 250 400, 400\" fill=\"none\" stroke=\"black\" stroke-width=\"2\" stroke-dasharray=\"5,3\" />\n",
      "    <text x=\"340\" y=\"250\" font-size=\"12\" text-anchor=\"middle\">한변</text>\n",
      "    </svg>\n",
      "\n",
      "생성된 설명:\n",
      " ### 정사각형의 특징\n",
      "\n",
      "#### 정의\n",
      "정사각형은 네 개의 변과 네 개의 각이 모두 같은 길이를 가지는 사각형입니다. 모든 내각은 직각(90도)이며, 이로 인해 모든 변의 길이도 동일합니다.\n",
      "\n",
      "#### 기본 성질\n",
      "1. **모든 변의 길이 동일**: 정사각형의 네 변은 모두 같은 길이를 가지고 있습니다.\n",
      "2. **모든 내각 동일**: 정사각형의 네 각은 모두 90도입니다.\n",
      "3. **대각선의 길이 동일**: 정사각형의 대각선은 서로 길이가 같으며, 이 길이는 변의 길이와 관련된 특별한 공식을 통해 계산할 수 있습니다 (예: 대각선 길이는 변의 길이의 √2 배).\n",
      "4. **중심 대칭**: 정사각형은 중심을 기준으로 대칭이므로, 어떤 직선을 그어도 그 직선이 정사각형을 두 개의 동일한 부분으로 나눌 수 있습니다.\n",
      "5. **면적 계산**: 정사각형의 면적은 변의 길이를 제곱한 값으로 구할 수 있습니다. 즉, 만약 한 변의 길이가 \\(a\\)라면 면적은 \\(a \\times a = a^2\\)입니다.\n",
      "\n",
      "이러한 특징들로 인해 정사각형은 건축, 디자인, 그리고 다양한 수학 문제에서 중요한 역할을 합니다!\n",
      "\n",
      "생성된 공식 raw:\n",
      " {'perimeter': '4 \\\\times \\\\mathrm{한 변의 길이}', 'area': '\\\\mathrm{한 변의 길이} \\\\times \\\\mathrm{한 변의 길이}'}\n"
     ]
    },
    {
     "data": {
      "text/latex": [
       "$\\displaystyle 4 \\times \\mathrm{한 변의 길이}$"
      ],
      "text/plain": [
       "<IPython.core.display.Math object>"
      ]
     },
     "metadata": {},
     "output_type": "display_data"
    },
    {
     "data": {
      "text/latex": [
       "$\\displaystyle \\mathrm{한 변의 길이} \\times \\mathrm{한 변의 길이}$"
      ],
      "text/plain": [
       "<IPython.core.display.Math object>"
      ]
     },
     "metadata": {},
     "output_type": "display_data"
    },
    {
     "data": {
      "image/svg+xml": [
       "<svg xmlns=\"http://www.w3.org/2000/svg\" width=\"500\" height=\"500\">\n",
       "    <text x=\"250\" y=\"50\" font-size=\"25\" text-anchor=\"middle\">정사각형</text>\n",
       "    <rect x=\"100\" y=\"100\" width=\"300\" height=\"300\" stroke=\"black\" stroke-width=\"2\" fill=\"none\"/>\n",
       "    <!-- 보조선들 -->\n",
       "    <path d=\"M 100, 400 Q 250, 340 400, 400\" fill=\"none\" stroke=\"black\" stroke-width=\"2\" stroke-dasharray=\"5,3\"/>\n",
       "    <text x=\"250\" y=\"340\" font-size=\"12\" text-anchor=\"middle\">한변</text>\n",
       "    <path d=\"M 400, 100 Q 340, 250 400, 400\" fill=\"none\" stroke=\"black\" stroke-width=\"2\" stroke-dasharray=\"5,3\"/>\n",
       "    <text x=\"340\" y=\"250\" font-size=\"12\" text-anchor=\"middle\">한변</text>\n",
       "    </svg>"
      ],
      "text/plain": [
       "<IPython.core.display.SVG object>"
      ]
     },
     "metadata": {},
     "output_type": "display_data"
    },
    {
     "name": "stdout",
     "output_type": "stream",
     "text": [
      "====================================================================================================\n",
      "요청한 문장: 원의 반지름과 지름 알아보기\n",
      "추출된 개념: 원\n",
      "추출된 인자: {'radius': None, 'diameter': None}\n",
      "\n",
      "생성된 코드:\n",
      " <svg width=\"500\" height=\"500\" xmlns=\"http://www.w3.org/2000/svg\">\n",
      "    <text x=\"250\" y=\"50\" font-size=\"25\" text-anchor=\"middle\">원</text>\n",
      "    <circle cx=\"250\" cy=\"250\" r=\"166\" stroke=\"black\" stroke-width=\"2\" fill=\"none\" />\n",
      "    <circle cx=\"250\" cy=\"250\" r=\"1\" stroke=\"black\" stroke-width=\"2\" fill=\"black\" />\n",
      "    <line x1=\"250\" y1=\"250\" x2=\"416\" y2=\"250\" stroke=\"black\" stroke-width=\"2\" />\n",
      "    <!-- 보조선 -->\n",
      "    <path d=\"M 250, 250 Q 333, 230 416, 250\" fill=\"none\" stroke=\"black\" stroke-width=\"2\" stroke-dasharray=\"5,3\" />\n",
      "    <text x=\"333\" y=\"230\" font-size=\"12\" text-anchor=\"middle\">반지름</text>\n",
      "    </svg>\n",
      "    \n",
      "\n",
      "생성된 설명:\n",
      " ### 원의 반지름과 지름 알아보기\n",
      "\n",
      "#### 정의\n",
      "- **반지름 (Radius)**: 원의 중심에서 원의 가장자리까지의 거리를 말합니다. 쉽게 말해, 원의 중심을 지나는 직선이 원의 가장자리까지 닿는 길이입니다. 반지름은 항상 원의 크기에 따라 달라집니다.\n",
      "  \n",
      "- **지름 (Diameter)**: 원의 가장자리를 가장 멀리 지나는 직선의 길이를 의미합니다. 이 직선은 원의 중심을 지나며, 원의 가장자리 두 점을 연결합니다. 지름은 반지름의 두 배입니다. 즉, 반지름을 \\( r \\)이라고 할 때 지름은 \\( 2r \\)로 표현할 수 있습니다.\n",
      "\n",
      "#### 기본 성질\n",
      "- **관계**: 원의 지름은 반지름의 두 배입니다. 즉, 만약 반지름이 \\( r \\)이라면 지름은 \\( 2r \\)입니다.\n",
      "- **예시**: 만약 원의 반지름이 3cm라면, 그 지름은 \\( 2 \\times 3 \\)cm 즉, 6cm가 됩니다. 반대로 지름이 6cm라면 반지름은 \\( \\frac{6}{2} \\)cm 즉, 3cm가 됩니다.\n",
      "\n",
      "이렇게 반지름과 지름은 원의 크기를 이해하는 데 중요한 역할을 합니다!\n",
      "\n",
      "생성된 공식 raw:\n",
      " {'perimeter': '2 \\\\times 3.14 \\\\times \\\\mathrm{반지름}', 'area': '3.14 \\\\times \\\\mathrm{반지름} \\\\times \\\\mathrm{반지름}'}\n"
     ]
    },
    {
     "data": {
      "text/latex": [
       "$\\displaystyle 2 \\times 3.14 \\times \\mathrm{반지름}$"
      ],
      "text/plain": [
       "<IPython.core.display.Math object>"
      ]
     },
     "metadata": {},
     "output_type": "display_data"
    },
    {
     "data": {
      "text/latex": [
       "$\\displaystyle 3.14 \\times \\mathrm{반지름} \\times \\mathrm{반지름}$"
      ],
      "text/plain": [
       "<IPython.core.display.Math object>"
      ]
     },
     "metadata": {},
     "output_type": "display_data"
    },
    {
     "data": {
      "image/svg+xml": [
       "<svg xmlns=\"http://www.w3.org/2000/svg\" width=\"500\" height=\"500\">\n",
       "    <text x=\"250\" y=\"50\" font-size=\"25\" text-anchor=\"middle\">원</text>\n",
       "    <circle cx=\"250\" cy=\"250\" r=\"166\" stroke=\"black\" stroke-width=\"2\" fill=\"none\"/>\n",
       "    <circle cx=\"250\" cy=\"250\" r=\"1\" stroke=\"black\" stroke-width=\"2\" fill=\"black\"/>\n",
       "    <line x1=\"250\" y1=\"250\" x2=\"416\" y2=\"250\" stroke=\"black\" stroke-width=\"2\"/>\n",
       "    <!-- 보조선 -->\n",
       "    <path d=\"M 250, 250 Q 333, 230 416, 250\" fill=\"none\" stroke=\"black\" stroke-width=\"2\" stroke-dasharray=\"5,3\"/>\n",
       "    <text x=\"333\" y=\"230\" font-size=\"12\" text-anchor=\"middle\">반지름</text>\n",
       "    </svg>"
      ],
      "text/plain": [
       "<IPython.core.display.SVG object>"
      ]
     },
     "metadata": {},
     "output_type": "display_data"
    },
    {
     "name": "stdout",
     "output_type": "stream",
     "text": [
      "====================================================================================================\n",
      "요청한 문장: 지름의 성질 알아보기\n",
      "추출된 개념: 원\n",
      "추출된 인자: {}\n",
      "\n",
      "생성된 코드:\n",
      " <svg width=\"500\" height=\"500\" xmlns=\"http://www.w3.org/2000/svg\">\n",
      "    <text x=\"250\" y=\"50\" font-size=\"25\" text-anchor=\"middle\">원</text>\n",
      "    <circle cx=\"250\" cy=\"250\" r=\"166\" stroke=\"black\" stroke-width=\"2\" fill=\"none\" />\n",
      "    <circle cx=\"250\" cy=\"250\" r=\"1\" stroke=\"black\" stroke-width=\"2\" fill=\"black\" />\n",
      "    <line x1=\"250\" y1=\"250\" x2=\"416\" y2=\"250\" stroke=\"black\" stroke-width=\"2\" />\n",
      "    <!-- 보조선 -->\n",
      "    <path d=\"M 250, 250 Q 333, 230 416, 250\" fill=\"none\" stroke=\"black\" stroke-width=\"2\" stroke-dasharray=\"5,3\" />\n",
      "    <text x=\"333\" y=\"230\" font-size=\"12\" text-anchor=\"middle\">반지름</text>\n",
      "    </svg>\n",
      "    \n",
      "\n",
      "생성된 설명:\n",
      " ### 지름의 성질\n",
      "\n",
      "#### 정의\n",
      "지름은 원의 한 점에서 다른 한 점을 잇는 선분으로, 이 선분이 원의 중심을 지나는 것을 말합니다. 쉽게 말해, 원의 가장 넓은 직선 거리를 지름이라고 부릅니다.\n",
      "\n",
      "#### 기본 성질\n",
      "1. **중심을 지나는 선분**: 지름은 항상 원의 중심을 지나갑니다. 이는 원의 대칭성을 보여주는 중요한 특징입니다.\n",
      "2. **반지름의 두 배**: 원의 지름은 그 원의 반지름의 두 배입니다. 만약 반지름이 \\( r \\)이라면, 지름은 \\( 2r \\)이 됩니다.\n",
      "3. **직경과 둘레의 관계**: 원의 둘레는 지름에 π(\\(\\pi\\))를 곱한 값입니다. 즉, 원의 둘레 \\( C \\)는 \\( C = \\pi \\times \\text{지름} \\)로 계산됩니다. 여기서 π(\\(\\pi\\))는 약 3.14로 사용할 수 있습니다. 따라서 둘레는 \\( C = 3.14 \\times \\text{지름} \\)로 구할 수 있습니다.\n",
      "4. **면적 계산**: 원의 면적 \\( A \\)는 반지름의 제곱에 π(\\(\\pi\\))를 곱한 값입니다. 지름을 알면 반지름을 쉽게 구할 수 있으므로, 면적 계산에도 활용됩니다. 면적 \\( A \\)는 \\( A = \\pi \\times r^2 \\)로 계산되며, 지름 \\( d \\)를 사용하면 \\( A = \\pi \\times \\left(\\frac{d}{2}\\right)^2 \\)가 됩니다. 여기서 π(\\(\\pi\\))는 약 3.14로 대체할 수 있습니다.\n",
      "\n",
      "이러한 성질들을 통해 원에 대한 이해를 더욱 깊게 할 수 있습니다!\n",
      "\n",
      "생성된 공식 raw:\n",
      " {'perimeter': '2 \\\\times 3.14 \\\\times \\\\mathrm{반지름}', 'area': '3.14 \\\\times \\\\mathrm{반지름} \\\\times \\\\mathrm{반지름}'}\n"
     ]
    },
    {
     "data": {
      "text/latex": [
       "$\\displaystyle 2 \\times 3.14 \\times \\mathrm{반지름}$"
      ],
      "text/plain": [
       "<IPython.core.display.Math object>"
      ]
     },
     "metadata": {},
     "output_type": "display_data"
    },
    {
     "data": {
      "text/latex": [
       "$\\displaystyle 3.14 \\times \\mathrm{반지름} \\times \\mathrm{반지름}$"
      ],
      "text/plain": [
       "<IPython.core.display.Math object>"
      ]
     },
     "metadata": {},
     "output_type": "display_data"
    },
    {
     "data": {
      "image/svg+xml": [
       "<svg xmlns=\"http://www.w3.org/2000/svg\" width=\"500\" height=\"500\">\n",
       "    <text x=\"250\" y=\"50\" font-size=\"25\" text-anchor=\"middle\">원</text>\n",
       "    <circle cx=\"250\" cy=\"250\" r=\"166\" stroke=\"black\" stroke-width=\"2\" fill=\"none\"/>\n",
       "    <circle cx=\"250\" cy=\"250\" r=\"1\" stroke=\"black\" stroke-width=\"2\" fill=\"black\"/>\n",
       "    <line x1=\"250\" y1=\"250\" x2=\"416\" y2=\"250\" stroke=\"black\" stroke-width=\"2\"/>\n",
       "    <!-- 보조선 -->\n",
       "    <path d=\"M 250, 250 Q 333, 230 416, 250\" fill=\"none\" stroke=\"black\" stroke-width=\"2\" stroke-dasharray=\"5,3\"/>\n",
       "    <text x=\"333\" y=\"230\" font-size=\"12\" text-anchor=\"middle\">반지름</text>\n",
       "    </svg>"
      ],
      "text/plain": [
       "<IPython.core.display.SVG object>"
      ]
     },
     "metadata": {},
     "output_type": "display_data"
    },
    {
     "name": "stdout",
     "output_type": "stream",
     "text": [
      "====================================================================================================\n",
      "요청한 문장: 원 그리기\n",
      "추출된 개념: 원\n",
      "추출된 인자: {}\n",
      "\n",
      "생성된 코드:\n",
      " <svg width=\"500\" height=\"500\" xmlns=\"http://www.w3.org/2000/svg\">\n",
      "    <text x=\"250\" y=\"50\" font-size=\"25\" text-anchor=\"middle\">원</text>\n",
      "    <circle cx=\"250\" cy=\"250\" r=\"166\" stroke=\"black\" stroke-width=\"2\" fill=\"none\" />\n",
      "    <circle cx=\"250\" cy=\"250\" r=\"1\" stroke=\"black\" stroke-width=\"2\" fill=\"black\" />\n",
      "    <line x1=\"250\" y1=\"250\" x2=\"416\" y2=\"250\" stroke=\"black\" stroke-width=\"2\" />\n",
      "    <!-- 보조선 -->\n",
      "    <path d=\"M 250, 250 Q 333, 230 416, 250\" fill=\"none\" stroke=\"black\" stroke-width=\"2\" stroke-dasharray=\"5,3\" />\n",
      "    <text x=\"333\" y=\"230\" font-size=\"12\" text-anchor=\"middle\">반지름</text>\n",
      "    </svg>\n",
      "    \n",
      "\n",
      "생성된 설명:\n",
      " ### 원 그리기\n",
      "\n",
      "#### 정의\n",
      "원 그리기는 평면 위에 중심점을 정하고, 그 중심점으로부터 일정한 거리(반지름)를 유지하는 모든 점들의 집합을 그리는 것을 말합니다. 이 원은 곡선으로 이루어져 있으며, 가장 기본적인 기하학적 도형 중 하나입니다.\n",
      "\n",
      "#### 기본 성질\n",
      "1. **중심점**: 원을 그리는 데 필요한 첫 번째 요소는 중심점입니다. 이 중심점은 원의 모든 점들이 동일한 거리에 위치하게 만드는 기준점입니다.\n",
      "   \n",
      "2. **반지름**: 중심점에서 원 위의 어떤 점까지의 거리를 반지름이라고 합니다. 모든 원 위의 점들은 중심점으로부터 같은 거리에 있어야 합니다.\n",
      "\n",
      "3. **둘레 길이**: 원의 둘레 길이는 반지름의 길이에 2를 곱한 값에 π(3.14)를 곱한 것입니다. 즉, 둘레 길이 = 반지름 × 2 × π ≈ 반지름 × 6.28 입니다.\n",
      "\n",
      "4. **면적**: 원의 면적은 반지름의 제곱에 π(3.14)를 곱한 값입니다. 따라서 면적 = π × 반지름2 ≈ 반지름2 × 3.14 입니다.\n",
      "\n",
      "이러한 성질들을 이해하면 원을 그리거나 원과 관련된 다양한 문제를 해결하는 데 도움이 됩니다.\n",
      "\n",
      "생성된 공식 raw:\n",
      " {'perimeter': '2 \\\\times 3.14 \\\\times \\\\mathrm{반지름}', 'area': '3.14 \\\\times \\\\mathrm{반지름} \\\\times \\\\mathrm{반지름}'}\n"
     ]
    },
    {
     "data": {
      "text/latex": [
       "$\\displaystyle 2 \\times 3.14 \\times \\mathrm{반지름}$"
      ],
      "text/plain": [
       "<IPython.core.display.Math object>"
      ]
     },
     "metadata": {},
     "output_type": "display_data"
    },
    {
     "data": {
      "text/latex": [
       "$\\displaystyle 3.14 \\times \\mathrm{반지름} \\times \\mathrm{반지름}$"
      ],
      "text/plain": [
       "<IPython.core.display.Math object>"
      ]
     },
     "metadata": {},
     "output_type": "display_data"
    },
    {
     "data": {
      "image/svg+xml": [
       "<svg xmlns=\"http://www.w3.org/2000/svg\" width=\"500\" height=\"500\">\n",
       "    <text x=\"250\" y=\"50\" font-size=\"25\" text-anchor=\"middle\">원</text>\n",
       "    <circle cx=\"250\" cy=\"250\" r=\"166\" stroke=\"black\" stroke-width=\"2\" fill=\"none\"/>\n",
       "    <circle cx=\"250\" cy=\"250\" r=\"1\" stroke=\"black\" stroke-width=\"2\" fill=\"black\"/>\n",
       "    <line x1=\"250\" y1=\"250\" x2=\"416\" y2=\"250\" stroke=\"black\" stroke-width=\"2\"/>\n",
       "    <!-- 보조선 -->\n",
       "    <path d=\"M 250, 250 Q 333, 230 416, 250\" fill=\"none\" stroke=\"black\" stroke-width=\"2\" stroke-dasharray=\"5,3\"/>\n",
       "    <text x=\"333\" y=\"230\" font-size=\"12\" text-anchor=\"middle\">반지름</text>\n",
       "    </svg>"
      ],
      "text/plain": [
       "<IPython.core.display.SVG object>"
      ]
     },
     "metadata": {},
     "output_type": "display_data"
    },
    {
     "name": "stdout",
     "output_type": "stream",
     "text": [
      "====================================================================================================\n",
      "요청한 문장: 원을 이용하여 여러가지 모양 그리기\n",
      "추출된 개념: 원\n",
      "추출된 인자: {'radius': None}\n",
      "\n",
      "생성된 코드:\n",
      " <svg width=\"500\" height=\"500\" xmlns=\"http://www.w3.org/2000/svg\">\n",
      "    <text x=\"250\" y=\"50\" font-size=\"25\" text-anchor=\"middle\">원</text>\n",
      "    <circle cx=\"250\" cy=\"250\" r=\"166\" stroke=\"black\" stroke-width=\"2\" fill=\"none\" />\n",
      "    <circle cx=\"250\" cy=\"250\" r=\"1\" stroke=\"black\" stroke-width=\"2\" fill=\"black\" />\n",
      "    <line x1=\"250\" y1=\"250\" x2=\"416\" y2=\"250\" stroke=\"black\" stroke-width=\"2\" />\n",
      "    <!-- 보조선 -->\n",
      "    <path d=\"M 250, 250 Q 333, 230 416, 250\" fill=\"none\" stroke=\"black\" stroke-width=\"2\" stroke-dasharray=\"5,3\" />\n",
      "    <text x=\"333\" y=\"230\" font-size=\"12\" text-anchor=\"middle\">반지름</text>\n",
      "    </svg>\n",
      "    \n",
      "\n",
      "생성된 설명:\n",
      " ### 원을 이용한 다양한 모양 그리기\n",
      "\n",
      "#### 정의:\n",
      "원은 평면 위에서 한 점(중심)으로부터 일정한 거리(반지름)에 있는 모든 점들의 집합으로 정의됩니다. 이 중심점을 기준으로 원의 크기는 반지름의 길이에 따라 달라집니다.\n",
      "\n",
      "#### 기본 성질:\n",
      "1. **둘레와 넓이**:\n",
      "   - **둘레**: 원의 둘레는 반지름에 따라 달라집니다. 공식은 \\( C = 2 \\times \\pi \\times r \\) 이지만, 여기서는 \\( \\pi \\)를 3.14로 간단히 사용하겠습니다. 따라서, 둘레는 \\( C = 2 \\times 3.14 \\times r \\) 입니다. 여기서 \\( r \\)은 반지름의 길이입니다.\n",
      "   - **넓이**: 원의 넓이는 반지름의 제곱에 \\( \\pi \\)를 곱한 값입니다. 공식은 \\( A = \\pi \\times r^2 \\) 입니다. 따라서, 넓이는 \\( A = 3.14 \\times r^2 \\) 입니다.\n",
      "\n",
      "2. **중심각과 호의 길이**:\n",
      "   - **중심각**: 원의 중심에서 시작하여 원 위의 두 점을 잇는 각도입니다. 중심각이 클수록 그에 해당하는 호의 길이도 길어집니다.\n",
      "   - **호의 길이**: 중심각이 \\( \\theta \\) (라디안 단위)일 때 호의 길이는 \\( L = \\theta \\times r \\) 입니다. 여기서 \\( \\theta \\)는 라디안 단위로 측정됩니다.\n",
      "\n",
      "이러한 성질들을 활용하면 다양한 모양을 원을 이용해 쉽게 그릴 수 있습니다. 예를 들어, 원을 여러 개의 작은 원으로 나누어 별 모양이나 복잡한 도형을 만들 수도 있고, 원의 둘레를 따라 선을 그어 원뿔이나 원기둥 형태의 도형을 표현할 수도 있습니다.\n",
      "\n",
      "생성된 공식 raw:\n",
      " {'perimeter': '2 \\\\times 3.14 \\\\times \\\\mathrm{반지름}', 'area': '3.14 \\\\times \\\\mathrm{반지름} \\\\times \\\\mathrm{반지름}'}\n"
     ]
    },
    {
     "data": {
      "text/latex": [
       "$\\displaystyle 2 \\times 3.14 \\times \\mathrm{반지름}$"
      ],
      "text/plain": [
       "<IPython.core.display.Math object>"
      ]
     },
     "metadata": {},
     "output_type": "display_data"
    },
    {
     "data": {
      "text/latex": [
       "$\\displaystyle 3.14 \\times \\mathrm{반지름} \\times \\mathrm{반지름}$"
      ],
      "text/plain": [
       "<IPython.core.display.Math object>"
      ]
     },
     "metadata": {},
     "output_type": "display_data"
    },
    {
     "data": {
      "image/svg+xml": [
       "<svg xmlns=\"http://www.w3.org/2000/svg\" width=\"500\" height=\"500\">\n",
       "    <text x=\"250\" y=\"50\" font-size=\"25\" text-anchor=\"middle\">원</text>\n",
       "    <circle cx=\"250\" cy=\"250\" r=\"166\" stroke=\"black\" stroke-width=\"2\" fill=\"none\"/>\n",
       "    <circle cx=\"250\" cy=\"250\" r=\"1\" stroke=\"black\" stroke-width=\"2\" fill=\"black\"/>\n",
       "    <line x1=\"250\" y1=\"250\" x2=\"416\" y2=\"250\" stroke=\"black\" stroke-width=\"2\"/>\n",
       "    <!-- 보조선 -->\n",
       "    <path d=\"M 250, 250 Q 333, 230 416, 250\" fill=\"none\" stroke=\"black\" stroke-width=\"2\" stroke-dasharray=\"5,3\"/>\n",
       "    <text x=\"333\" y=\"230\" font-size=\"12\" text-anchor=\"middle\">반지름</text>\n",
       "    </svg>"
      ],
      "text/plain": [
       "<IPython.core.display.SVG object>"
      ]
     },
     "metadata": {},
     "output_type": "display_data"
    },
    {
     "name": "stdout",
     "output_type": "stream",
     "text": [
      "====================================================================================================\n",
      "요청한 문장: 각의 크기 비교하기\n",
      "추출된 개념: 각\n",
      "추출된 인자: {'size': 60}\n",
      "\n",
      "생성된 코드:\n",
      " <svg width=\"500\" height=\"375\" xmlns=\"http://www.w3.org/2000/svg\">\n",
      "    <text x=\"250\" y=\"50\" font-size=\"25\" text-anchor=\"middle\">각</text>\n",
      "    <!-- 기준선 -->\n",
      "    <line x1=\"125\" y1=\"333\" x2=\"375\" y2=\"333\" stroke=\"black\" stroke-width=\"2\" />\n",
      "    <!-- 기울어진 선 -->\n",
      "    <line x1=\"125\" y1=\"333\" x2=\"250.00000000000003\" y2=\"116.49364905389035\" stroke=\"black\" stroke-width=\"2\" />\n",
      "    <!-- 각도 호 -->\n",
      "    <path d=\"M 150.0,289.69872981077805 A 50,50 0 0,1 175,333\" stroke=\"black\" stroke-width=\"2\" fill=\"none\"/>\n",
      "    <!-- 보조선 -->\n",
      "    <text x=\"179.12658773652743\" y=\"301.75\" font-size=\"12\" text-anchor=\"middle\">60°</text>\n",
      "    </svg>\n",
      "    \n",
      "\n",
      "생성된 설명:\n",
      " ### 각의 크기 비교하기\n",
      "\n",
      "#### 정의\n",
      "각의 크기 비교는 두 개 이상의 각도가 얼마나 비슷한지 또는 얼마나 다른지를 알아보는 것입니다. 주로 각도를 측정하거나, 어떤 도형 내에서 각도의 크기를 이해하는 데 사용됩니다.\n",
      "\n",
      "#### 기본 성질\n",
      "1. **각도의 크기 순서**: 각도를 비교할 때는 가장 작은 각도부터 가장 큰 각도 순으로 정렬합니다. 예를 들어, 각도 A가 각도 B보다 작다면 A < B라고 표현합니다.\n",
      "   \n",
      "2. **도형 내 각도**: 원이나 다각형 내의 각도는 특별한 규칙을 따릅니다. 예를 들어, 정삼각형의 각은 모두 같고 크기는 약 60도입니다. 반면에 정사각형의 각은 모두 직각으로 90도입니다.\n",
      "\n",
      "3. **합과 차**: 각도를 더하거나 뺄 때는 각의 크기 순서를 유지해야 합니다. 예를 들어, 각도 C와 각도 D가 있을 때, C + D의 결과 각도는 C와 D의 크기 순서에 따라 결정됩니다.\n",
      "\n",
      "이러한 성질들을 이용하면 각도들을 쉽게 비교하고 이해할 수 있습니다. 각도를 그릴 때나 문제를 풀 때 이러한 기본 개념을 기억하면 도움이 됩니다!\n"
     ]
    },
    {
     "data": {
      "image/svg+xml": [
       "<svg xmlns=\"http://www.w3.org/2000/svg\" width=\"500\" height=\"375\">\n",
       "    <text x=\"250\" y=\"50\" font-size=\"25\" text-anchor=\"middle\">각</text>\n",
       "    <!-- 기준선 -->\n",
       "    <line x1=\"125\" y1=\"333\" x2=\"375\" y2=\"333\" stroke=\"black\" stroke-width=\"2\"/>\n",
       "    <!-- 기울어진 선 -->\n",
       "    <line x1=\"125\" y1=\"333\" x2=\"250.00000000000003\" y2=\"116.49364905389035\" stroke=\"black\" stroke-width=\"2\"/>\n",
       "    <!-- 각도 호 -->\n",
       "    <path d=\"M 150.0,289.69872981077805 A 50,50 0 0,1 175,333\" stroke=\"black\" stroke-width=\"2\" fill=\"none\"/>\n",
       "    <!-- 보조선 -->\n",
       "    <text x=\"179.12658773652743\" y=\"301.75\" font-size=\"12\" text-anchor=\"middle\">60°</text>\n",
       "    </svg>"
      ],
      "text/plain": [
       "<IPython.core.display.SVG object>"
      ]
     },
     "metadata": {},
     "output_type": "display_data"
    },
    {
     "name": "stdout",
     "output_type": "stream",
     "text": [
      "====================================================================================================\n",
      "요청한 문장: 각도기를 이용하여 각도 재기\n",
      "추출된 개념: 각\n",
      "추출된 인자: {'size': 90}\n",
      "\n",
      "생성된 코드:\n",
      " <svg width=\"500\" height=\"375\" xmlns=\"http://www.w3.org/2000/svg\">\n",
      "    <text x=\"250\" y=\"50\" font-size=\"25\" text-anchor=\"middle\">각</text>\n",
      "    <!-- 기준선 -->\n",
      "    <line x1=\"250\" y1=\"333\" x2=\"500\" y2=\"333\" stroke=\"black\" stroke-width=\"2\" />\n",
      "    <!-- 기울어진 선 -->\n",
      "    <line x1=\"250\" y1=\"333\" x2=\"250.00000000000003\" y2=\"83.0\" stroke=\"black\" stroke-width=\"2\" />\n",
      "    <!-- 각도 호 -->\n",
      "    <path d=\"M 250.0,283.0 A 50,50 0 0,1 300,333\" stroke=\"black\" stroke-width=\"2\" fill=\"none\"/>\n",
      "    <!-- 보조선 -->\n",
      "    <text x=\"294.19417382415924\" y=\"288.80582617584076\" font-size=\"12\" text-anchor=\"middle\">90°</text>\n",
      "    </svg>\n",
      "    \n",
      "\n",
      "생성된 설명:\n",
      " ### 각도 재기\n",
      "\n",
      "#### 정의:\n",
      "각도 재기는 두 직선이나 선분이 만나서 생기는 공간의 크기를 측정하는 방법입니다. 이는 우리가 일상생활에서 자주 사용하는 기술로, 건축, 디자인, 게임 등 다양한 분야에서 중요한 역할을 합니다.\n",
      "\n",
      "#### 기본 성질:\n",
      "1. **직선과 각도**: 직선은 180도의 각도를 만듭니다. 즉, 두 직선이 서로 만나면 그 교차점에서 생기는 각도는 항상 180도입니다.\n",
      "   \n",
      "2. **삼각형의 내각 합**: 삼각형의 세 각의 합은 항상 180도입니다. 이 성질 덕분에 삼각형의 한 각을 알게 되면 다른 두 각을 쉽게 계산할 수 있습니다.\n",
      "\n",
      "3. **각도기 사용**: 각도기는 각도를 정확하게 측정하는 도구입니다. 각도기의 중심점(보통 '0'이라고 표시됨)을 기준으로 한 쪽 선분이 이루는 각도를 읽을 수 있습니다. 각도기의 눈금은 보통 1도 단위로 나뉘어져 있어 세밀한 각도 측정이 가능합니다.\n",
      "\n",
      "이러한 기본 개념들을 활용하면 각도기를 통해 다양한 각도를 쉽게 측정할 수 있습니다!\n"
     ]
    },
    {
     "data": {
      "image/svg+xml": [
       "<svg xmlns=\"http://www.w3.org/2000/svg\" width=\"500\" height=\"375\">\n",
       "    <text x=\"250\" y=\"50\" font-size=\"25\" text-anchor=\"middle\">각</text>\n",
       "    <!-- 기준선 -->\n",
       "    <line x1=\"250\" y1=\"333\" x2=\"500\" y2=\"333\" stroke=\"black\" stroke-width=\"2\"/>\n",
       "    <!-- 기울어진 선 -->\n",
       "    <line x1=\"250\" y1=\"333\" x2=\"250.00000000000003\" y2=\"83.0\" stroke=\"black\" stroke-width=\"2\"/>\n",
       "    <!-- 각도 호 -->\n",
       "    <path d=\"M 250.0,283.0 A 50,50 0 0,1 300,333\" stroke=\"black\" stroke-width=\"2\" fill=\"none\"/>\n",
       "    <!-- 보조선 -->\n",
       "    <text x=\"294.19417382415924\" y=\"288.80582617584076\" font-size=\"12\" text-anchor=\"middle\">90°</text>\n",
       "    </svg>"
      ],
      "text/plain": [
       "<IPython.core.display.SVG object>"
      ]
     },
     "metadata": {},
     "output_type": "display_data"
    },
    {
     "name": "stdout",
     "output_type": "stream",
     "text": [
      "====================================================================================================\n",
      "요청한 문장: 각도를 나타내는 단위 알아보기\n",
      "추출된 개념: 각도 단위\n",
      "추출된 인자: {}\n",
      "\n",
      "생성된 코드:\n",
      " <svg width=\"500\" height=\"500\" xmlns=\"http://www.w3.org/2000/svg\">\n",
      "        <text x=\"250\" y=\"50\" font-size=\"12\" text-anchor=\"middle\"># 각도 단위을(를) 그리는 코드는 아직 구현되지 않았습니다.</text>\n",
      "        </svg>\n",
      "        \n",
      "\n",
      "생성된 설명:\n",
      " ## 각도를 나타내는 단위 알아보기!\n",
      "\n",
      "**1. 도 (Degree)**\n",
      "\n",
      "* **정의:** 원을 360등분했을 때 한 바퀴를 이루는 각도를 말해요. \n",
      "* **기본 성질:** \n",
      "    * 한 바퀴는 360도예요.\n",
      "    * 반 바퀴는 180도예요.\n",
      "    * 작은 각도는 1도, 큰 각도는 100도처럼 여러 단위로 나눌 수 있어요.\n",
      "\n",
      "**2. 분 (Minute)**\n",
      "\n",
      "* **정의:** 도를 다시 60등분한 각도 단위예요.\n",
      "* **기본 성질:**\n",
      "    * 한 도는 60분으로 이루어져 있어요.\n",
      "    * 예를 들어, 30도는 30분이에요.\n",
      "\n",
      "**3. 초 (Second)**\n",
      "\n",
      "* **정의:** 분을 다시 60등분한 가장 작은 각도 단위예요.\n",
      "* **기본 성질:**\n",
      "    * 한 분은 60초로 이루어져 있어요.\n",
      "    * 예를 들어, 1분은 60초예요.\n",
      "\n",
      "이렇게 각도는 작은 단위부터 큰 단위까지 다양하게 나뉘어 표현되죠!\n"
     ]
    },
    {
     "data": {
      "image/svg+xml": [
       "<svg xmlns=\"http://www.w3.org/2000/svg\" width=\"500\" height=\"500\">\n",
       "        <text x=\"250\" y=\"50\" font-size=\"12\" text-anchor=\"middle\"># 각도 단위을(를) 그리는 코드는 아직 구현되지 않았습니다.</text>\n",
       "        </svg>"
      ],
      "text/plain": [
       "<IPython.core.display.SVG object>"
      ]
     },
     "metadata": {},
     "output_type": "display_data"
    },
    {
     "name": "stdout",
     "output_type": "stream",
     "text": [
      "====================================================================================================\n",
      "요청한 문장: 각도기와 자를 이용하여 각 그리기\n",
      "추출된 개념: 각\n",
      "추출된 인자: {'angle_measure': None, 'tool': '각도기와 자'}\n",
      "\n",
      "생성된 코드:\n",
      " <svg width=\"500\" height=\"375\" xmlns=\"http://www.w3.org/2000/svg\">\n",
      "    <text x=\"250\" y=\"50\" font-size=\"25\" text-anchor=\"middle\">각</text>\n",
      "    <!-- 기준선 -->\n",
      "    <line x1=\"125\" y1=\"333\" x2=\"375\" y2=\"333\" stroke=\"black\" stroke-width=\"2\" />\n",
      "    <!-- 기울어진 선 -->\n",
      "    <line x1=\"125\" y1=\"333\" x2=\"250.00000000000003\" y2=\"116.49364905389035\" stroke=\"black\" stroke-width=\"2\" />\n",
      "    <!-- 각도 호 -->\n",
      "    <path d=\"M 150.0,289.69872981077805 A 50,50 0 0,1 175,333\" stroke=\"black\" stroke-width=\"2\" fill=\"none\"/>\n",
      "    <!-- 보조선 -->\n",
      "    <text x=\"179.12658773652743\" y=\"301.75\" font-size=\"12\" text-anchor=\"middle\">60°</text>\n",
      "    </svg>\n",
      "    \n",
      "\n",
      "생성된 설명:\n",
      " ### 각도기와 자를 이용한 각 그리기 설명\n",
      "\n",
      "#### 정의:\n",
      "각도기와 자는 기하학에서 매우 중요한 도구들입니다. 각도기는 두 직선이나 선분 사이의 각도를 정확하게 측정하는 데 사용되며, 자는 직선을 그리거나 길이를 재는 데 사용됩니다.\n",
      "\n",
      "#### 기본 성질:\n",
      "1. **각도기 사용**:\n",
      "   - **목적**: 각도기는 주로 두 선 사이의 각도를 측정하거나 그릴 때 사용됩니다.\n",
      "   - **작동 방식**: 각도기의 중앙점(보통 '0'이라는 눈금이 있는 부분)을 두 선이 만나는 지점에 맞춥니다. 그 다음, 각도기의 다른 눈금을 따라 두 선이 이루는 각도를 읽을 수 있습니다.\n",
      "   - **예시**: 만약 한 직선이 수평선과 45도 각도를 이루고 있다면, 각도기의 45도 눈금을 수평선과 직선이 만나는 지점에 맞추면 됩니다.\n",
      "\n",
      "2. **자 사용**:\n",
      "   - **목적**: 자는 직선을 그리거나 두 점 사이의 거리를 재는 데 사용됩니다.\n",
      "   - **작동 방식**: 자를 사용할 때는 먼저 자를 평평하게 놓고, 원하는 길이를 눈금에 맞추어 자릅니다. 그 후, 자를 따라 선을 그리거나 두 점 사이를 연결합니다.\n",
      "   - **예시**: 만약 10cm 길이의 선을 그려야 한다면, 자를 10cm 눈금에 맞추어 자르고 그 선을 따라 그립니다.\n",
      "\n",
      "이렇게 각도기와 자는 각각 각도 측정과 직선 그리기 등 기하학적인 작업에서 필수적인 도구로 활용됩니다. 정확한 측정과 그리기를 통해 기하학적 이해를 높일 수 있습니다.\n"
     ]
    },
    {
     "data": {
      "image/svg+xml": [
       "<svg xmlns=\"http://www.w3.org/2000/svg\" width=\"500\" height=\"375\">\n",
       "    <text x=\"250\" y=\"50\" font-size=\"25\" text-anchor=\"middle\">각</text>\n",
       "    <!-- 기준선 -->\n",
       "    <line x1=\"125\" y1=\"333\" x2=\"375\" y2=\"333\" stroke=\"black\" stroke-width=\"2\"/>\n",
       "    <!-- 기울어진 선 -->\n",
       "    <line x1=\"125\" y1=\"333\" x2=\"250.00000000000003\" y2=\"116.49364905389035\" stroke=\"black\" stroke-width=\"2\"/>\n",
       "    <!-- 각도 호 -->\n",
       "    <path d=\"M 150.0,289.69872981077805 A 50,50 0 0,1 175,333\" stroke=\"black\" stroke-width=\"2\" fill=\"none\"/>\n",
       "    <!-- 보조선 -->\n",
       "    <text x=\"179.12658773652743\" y=\"301.75\" font-size=\"12\" text-anchor=\"middle\">60°</text>\n",
       "    </svg>"
      ],
      "text/plain": [
       "<IPython.core.display.SVG object>"
      ]
     },
     "metadata": {},
     "output_type": "display_data"
    },
    {
     "name": "stdout",
     "output_type": "stream",
     "text": [
      "====================================================================================================\n",
      "요청한 문장: 예각과 둔각 알아보기\n",
      "추출된 개념: 각\n",
      "추출된 인자: {'size': 45}\n",
      "\n",
      "생성된 코드:\n",
      " <svg width=\"500\" height=\"375\" xmlns=\"http://www.w3.org/2000/svg\">\n",
      "    <text x=\"250\" y=\"50\" font-size=\"25\" text-anchor=\"middle\">각</text>\n",
      "    <!-- 기준선 -->\n",
      "    <line x1=\"125\" y1=\"333\" x2=\"375\" y2=\"333\" stroke=\"black\" stroke-width=\"2\" />\n",
      "    <!-- 기울어진 선 -->\n",
      "    <line x1=\"125\" y1=\"333\" x2=\"301.7766952966369\" y2=\"156.22330470336314\" stroke=\"black\" stroke-width=\"2\" />\n",
      "    <!-- 각도 호 -->\n",
      "    <path d=\"M 160.35533905932738,297.6446609406726 A 50,50 0 0,1 175,333\" stroke=\"black\" stroke-width=\"2\" fill=\"none\"/>\n",
      "    <!-- 보조선 -->\n",
      "    <text x=\"182.74247078195543\" y=\"309.08228547718187\" font-size=\"12\" text-anchor=\"middle\">45°</text>\n",
      "    </svg>\n",
      "    \n",
      "\n",
      "생성된 설명:\n",
      " ### 예각과 둔각 알아보기\n",
      "\n",
      "#### 정의\n",
      "- **예각**: 삼각형이나 다각형의 각 중에서 크기가 90도보다 작은 각을 말합니다. 쉽게 말해, 눈을 살짝 뜨고 있는 모양처럼 보이는 각입니다.\n",
      "- **둔각**: 삼각형이나 다각형의 각 중에서 크기가 90도보다 크고 180도보다 작은 각을 의미합니다. 이는 눈을 크게 뜨고 있는 모양처럼 보이는 각입니다.\n",
      "\n",
      "#### 기본 성질\n",
      "- **예각**:\n",
      "  - 예각은 항상 양수입니다 (0도에서 90도 사이).\n",
      "  - 삼각형에서 예각 두 개와 한 개의 직각(90도)이 있으면 직각삼각형이 됩니다.\n",
      "  \n",
      "- **둔각**:\n",
      "  - 둔각은 항상 양수이지만, 90도보다 큽니다.\n",
      "  - 삼각형에서 둔각 하나가 있으면 나머지 두 각은 모두 예각이어야 합니다 (즉, 삼각형의 내각의 합은 항상 180도입니다).\n",
      "\n",
      "이렇게 예각과 둔각은 각도의 크기에 따라 구분되며, 각각의 특징을 이해하면 다양한 도형 문제를 풀 때 도움이 됩니다!\n"
     ]
    },
    {
     "data": {
      "image/svg+xml": [
       "<svg xmlns=\"http://www.w3.org/2000/svg\" width=\"500\" height=\"375\">\n",
       "    <text x=\"250\" y=\"50\" font-size=\"25\" text-anchor=\"middle\">각</text>\n",
       "    <!-- 기준선 -->\n",
       "    <line x1=\"125\" y1=\"333\" x2=\"375\" y2=\"333\" stroke=\"black\" stroke-width=\"2\"/>\n",
       "    <!-- 기울어진 선 -->\n",
       "    <line x1=\"125\" y1=\"333\" x2=\"301.7766952966369\" y2=\"156.22330470336314\" stroke=\"black\" stroke-width=\"2\"/>\n",
       "    <!-- 각도 호 -->\n",
       "    <path d=\"M 160.35533905932738,297.6446609406726 A 50,50 0 0,1 175,333\" stroke=\"black\" stroke-width=\"2\" fill=\"none\"/>\n",
       "    <!-- 보조선 -->\n",
       "    <text x=\"182.74247078195543\" y=\"309.08228547718187\" font-size=\"12\" text-anchor=\"middle\">45°</text>\n",
       "    </svg>"
      ],
      "text/plain": [
       "<IPython.core.display.SVG object>"
      ]
     },
     "metadata": {},
     "output_type": "display_data"
    },
    {
     "name": "stdout",
     "output_type": "stream",
     "text": [
      "====================================================================================================\n",
      "요청한 문장: 각도를 어림하고 각도기로 재어 확인하기\n",
      "추출된 개념: 각\n",
      "추출된 인자: {'estimated_angle_size': None, 'verifying_method': '각도기'}\n",
      "\n",
      "생성된 코드:\n",
      " <svg width=\"500\" height=\"375\" xmlns=\"http://www.w3.org/2000/svg\">\n",
      "    <text x=\"250\" y=\"50\" font-size=\"25\" text-anchor=\"middle\">각</text>\n",
      "    <!-- 기준선 -->\n",
      "    <line x1=\"125\" y1=\"333\" x2=\"375\" y2=\"333\" stroke=\"black\" stroke-width=\"2\" />\n",
      "    <!-- 기울어진 선 -->\n",
      "    <line x1=\"125\" y1=\"333\" x2=\"250.00000000000003\" y2=\"116.49364905389035\" stroke=\"black\" stroke-width=\"2\" />\n",
      "    <!-- 각도 호 -->\n",
      "    <path d=\"M 150.0,289.69872981077805 A 50,50 0 0,1 175,333\" stroke=\"black\" stroke-width=\"2\" fill=\"none\"/>\n",
      "    <!-- 보조선 -->\n",
      "    <text x=\"179.12658773652743\" y=\"301.75\" font-size=\"12\" text-anchor=\"middle\">60°</text>\n",
      "    </svg>\n",
      "    \n",
      "\n",
      "생성된 설명:\n",
      " ### 각도에 대한 설명\n",
      "\n",
      "#### 정의\n",
      "각도는 두 직선이나 선분이 만나서 생기는 공간의 크기를 측정하는 방법입니다. 각도는 주로 도(°) 단위로 표현되며, 이는 원의 중심각이 한 바퀴(360°)를 완전히 돌았을 때의 각도 크기를 기준으로 합니다.\n",
      "\n",
      "#### 기본 성질\n",
      "1. **합과 차**: 여러 각도를 더하거나 뺄 때, 그 결과는 원래 각도와 동일한 방향을 유지합니다. 예를 들어, 45°와 60°를 더하면 105°가 됩니다.\n",
      "2. **직선의 각도**: 직선은 정확히 180°의 각도를 만듭니다. 이는 직선이 두 방향으로 무한히 퍼져나가는 특성 때문입니다.\n",
      "3. **직각**: 직각은 정확히 90°의 각도를 의미합니다. 이는 사각형이나 삼각형에서 중요한 역할을 합니다.\n",
      "4. **어림하기**: 큰 각도를 측정할 때는 눈금을 보고 대략적인 값을 추정할 수 있습니다. 예를 들어, 각도기의 눈금을 보면서 대략적인 각도를 파악할 수 있습니다.\n",
      "5. **확인하기**: 각도를 정확히 측정하려면 각도기를 사용합니다. 각도기는 특정 각도를 정확히 측정할 수 있게 해주며, 측정한 각도를 실제 도형의 각도와 비교하여 확인할 수 있습니다.\n",
      "\n",
      "이렇게 각도는 우리 주변의 다양한 도형과 구조를 이해하는 데 중요한 역할을 합니다. 어림과 정확한 측정 모두 중요하니, 상황에 맞게 적절히 활용해보세요!\n"
     ]
    },
    {
     "data": {
      "image/svg+xml": [
       "<svg xmlns=\"http://www.w3.org/2000/svg\" width=\"500\" height=\"375\">\n",
       "    <text x=\"250\" y=\"50\" font-size=\"25\" text-anchor=\"middle\">각</text>\n",
       "    <!-- 기준선 -->\n",
       "    <line x1=\"125\" y1=\"333\" x2=\"375\" y2=\"333\" stroke=\"black\" stroke-width=\"2\"/>\n",
       "    <!-- 기울어진 선 -->\n",
       "    <line x1=\"125\" y1=\"333\" x2=\"250.00000000000003\" y2=\"116.49364905389035\" stroke=\"black\" stroke-width=\"2\"/>\n",
       "    <!-- 각도 호 -->\n",
       "    <path d=\"M 150.0,289.69872981077805 A 50,50 0 0,1 175,333\" stroke=\"black\" stroke-width=\"2\" fill=\"none\"/>\n",
       "    <!-- 보조선 -->\n",
       "    <text x=\"179.12658773652743\" y=\"301.75\" font-size=\"12\" text-anchor=\"middle\">60°</text>\n",
       "    </svg>"
      ],
      "text/plain": [
       "<IPython.core.display.SVG object>"
      ]
     },
     "metadata": {},
     "output_type": "display_data"
    },
    {
     "name": "stdout",
     "output_type": "stream",
     "text": [
      "====================================================================================================\n",
      "요청한 문장: 각도의 합 또는 차의 활용\n",
      "추출된 개념: 각의 합\n",
      "추출된 인자: {}\n",
      "\n",
      "생성된 코드:\n",
      " <svg width=\"500\" height=\"500\" xmlns=\"http://www.w3.org/2000/svg\">\n",
      "        <text x=\"250\" y=\"50\" font-size=\"12\" text-anchor=\"middle\"># 각의 합을(를) 그리는 코드는 아직 구현되지 않았습니다.</text>\n",
      "        </svg>\n",
      "        \n",
      "\n",
      "생성된 설명:\n",
      " ### 각도의 합 또는 차의 활용\n",
      "\n",
      "#### 정의\n",
      "각도의 합 또는 차의 활용은 여러 각도를 더하거나 빼서 새로운 각도를 구하는 방법을 말합니다. 이는 삼각형의 각도 합이 항상 180도라는 기본 원리를 바탕으로 합니다. 또한, 각도를 더하거나 빼는 것은 실제 생활에서 각도를 계산하거나 문제를 해결할 때 유용하게 사용됩니다.\n",
      "\n",
      "#### 기본 성질\n",
      "1. **삼각형의 내각 합**: 삼각형의 세 내각의 합은 항상 180도입니다. 이를 이용하면 삼각형의 한 각도를 구할 때 다른 두 각도를 먼저 알아내는 데 도움이 됩니다.\n",
      "   \n",
      "2. **직선 각도**: 직선의 각도는 180도입니다. 따라서 직선을 기준으로 각도를 더하거나 빼면 전체 각도를 쉽게 계산할 수 있습니다.\n",
      "\n",
      "3. **각도의 덧셈과 뺄셈**: 각도를 더하거나 뺄 때는 각 단위(도, 분, 초)를 고려해야 합니다. 예를 들어, 30도와 45도를 더하면 75도가 됩니다. 각도를 뺄 때는 주의해야 할 점이 있는데, 예를 들어 120도와 60도를 빼면 60도가 되지만, 만약 120도와 60도를 빼면서 시계 방향과 반시계 방향을 고려해야 할 수도 있습니다.\n",
      "\n",
      "이러한 성질들을 활용하면 다양한 각도 문제를 해결하는 데 도움이 됩니다. 예를 들어, 건물의 각도를 계산하거나, 지도에서 방향을 찾는 데에도 활용될 수 있습니다.\n"
     ]
    },
    {
     "data": {
      "image/svg+xml": [
       "<svg xmlns=\"http://www.w3.org/2000/svg\" width=\"500\" height=\"500\">\n",
       "        <text x=\"250\" y=\"50\" font-size=\"12\" text-anchor=\"middle\"># 각의 합을(를) 그리는 코드는 아직 구현되지 않았습니다.</text>\n",
       "        </svg>"
      ],
      "text/plain": [
       "<IPython.core.display.SVG object>"
      ]
     },
     "metadata": {},
     "output_type": "display_data"
    },
    {
     "name": "stdout",
     "output_type": "stream",
     "text": [
      "====================================================================================================\n",
      "요청한 문장: 두 각도의 차 구하기\n",
      "추출된 개념: 각도\n",
      "추출된 인자: {'angle1': None, 'angle2': None}\n",
      "\n",
      "생성된 코드:\n",
      " <svg width=\"500\" height=\"375\" xmlns=\"http://www.w3.org/2000/svg\">\n",
      "    <text x=\"250\" y=\"50\" font-size=\"25\" text-anchor=\"middle\">각</text>\n",
      "    <!-- 기준선 -->\n",
      "    <line x1=\"125\" y1=\"333\" x2=\"375\" y2=\"333\" stroke=\"black\" stroke-width=\"2\" />\n",
      "    <!-- 기울어진 선 -->\n",
      "    <line x1=\"125\" y1=\"333\" x2=\"250.00000000000003\" y2=\"116.49364905389035\" stroke=\"black\" stroke-width=\"2\" />\n",
      "    <!-- 각도 호 -->\n",
      "    <path d=\"M 150.0,289.69872981077805 A 50,50 0 0,1 175,333\" stroke=\"black\" stroke-width=\"2\" fill=\"none\"/>\n",
      "    <!-- 보조선 -->\n",
      "    <text x=\"179.12658773652743\" y=\"301.75\" font-size=\"12\" text-anchor=\"middle\">60°</text>\n",
      "    </svg>\n",
      "    \n",
      "\n",
      "생성된 설명:\n",
      " ### 두 각도의 차 구하기\n",
      "\n",
      "#### 정의\n",
      "두 각도의 차는 한 각도에서 다른 각도를 뺀 결과를 말합니다. 즉, 만약 첫 번째 각도를 \\( \\theta_1 \\)이고 두 번째 각도를 \\( \\theta_2 \\)라고 할 때, 두 각도의 차는 \\( \\theta_2 - \\theta_1 \\)로 표현됩니다.\n",
      "\n",
      "#### 기본 성질\n",
      "1. **순서 무관성**: 각도의 차는 각도의 순서에 상관없이 계산할 수 있습니다. 즉, \\( \\theta_2 - \\theta_1 \\)은 \\( \\theta_1 - \\theta_2 \\)와 같은 결과를 줍니다.\n",
      "2. **음수 범위**: 각도의 차가 음수일 수도 있습니다. 예를 들어, \\( \\theta_2 \\)가 \\( \\theta_1 \\)보다 작을 때, 그 차이는 음수가 됩니다. 이는 시계 방향과 반시계 방향의 차이를 나타낼 수 있습니다.\n",
      "3. **합산 가능**: 두 각도의 차를 구한 후, 그 결과에 다시 같은 각도를 더하거나 빼도 원래 각도의 차이는 변하지 않습니다. 예를 들어, \\( (\\theta_2 - \\theta_1) + \\theta_1 = \\theta_2 \\) 또는 \\( (\\theta_2 - \\theta_1) - \\theta_1 = \\theta_2 - 2\\theta_1 \\) 등이 성립합니다.\n",
      "\n",
      "이렇게 각도의 차를 이해하면 다양한 각도 문제를 풀 때 유용하게 활용할 수 있습니다!\n"
     ]
    },
    {
     "data": {
      "image/svg+xml": [
       "<svg xmlns=\"http://www.w3.org/2000/svg\" width=\"500\" height=\"375\">\n",
       "    <text x=\"250\" y=\"50\" font-size=\"25\" text-anchor=\"middle\">각</text>\n",
       "    <!-- 기준선 -->\n",
       "    <line x1=\"125\" y1=\"333\" x2=\"375\" y2=\"333\" stroke=\"black\" stroke-width=\"2\"/>\n",
       "    <!-- 기울어진 선 -->\n",
       "    <line x1=\"125\" y1=\"333\" x2=\"250.00000000000003\" y2=\"116.49364905389035\" stroke=\"black\" stroke-width=\"2\"/>\n",
       "    <!-- 각도 호 -->\n",
       "    <path d=\"M 150.0,289.69872981077805 A 50,50 0 0,1 175,333\" stroke=\"black\" stroke-width=\"2\" fill=\"none\"/>\n",
       "    <!-- 보조선 -->\n",
       "    <text x=\"179.12658773652743\" y=\"301.75\" font-size=\"12\" text-anchor=\"middle\">60°</text>\n",
       "    </svg>"
      ],
      "text/plain": [
       "<IPython.core.display.SVG object>"
      ]
     },
     "metadata": {},
     "output_type": "display_data"
    },
    {
     "name": "stdout",
     "output_type": "stream",
     "text": [
      "====================================================================================================\n",
      "요청한 문장: 삼각형에서 나머지 한 각의 크기 구하기\n",
      "추출된 개념: 각\n",
      "추출된 인자: {'sum_of_angles': 180, 'other_angles': True, 'given_angle': '정보 부족'}\n",
      "\n",
      "생성된 코드:\n",
      " <svg width=\"500\" height=\"375\" xmlns=\"http://www.w3.org/2000/svg\">\n",
      "    <text x=\"250\" y=\"50\" font-size=\"25\" text-anchor=\"middle\">각</text>\n",
      "    <!-- 기준선 -->\n",
      "    <line x1=\"125\" y1=\"333\" x2=\"375\" y2=\"333\" stroke=\"black\" stroke-width=\"2\" />\n",
      "    <!-- 기울어진 선 -->\n",
      "    <line x1=\"125\" y1=\"333\" x2=\"250.00000000000003\" y2=\"116.49364905389035\" stroke=\"black\" stroke-width=\"2\" />\n",
      "    <!-- 각도 호 -->\n",
      "    <path d=\"M 150.0,289.69872981077805 A 50,50 0 0,1 175,333\" stroke=\"black\" stroke-width=\"2\" fill=\"none\"/>\n",
      "    <!-- 보조선 -->\n",
      "    <text x=\"179.12658773652743\" y=\"301.75\" font-size=\"12\" text-anchor=\"middle\">60°</text>\n",
      "    </svg>\n",
      "    \n",
      "\n",
      "생성된 설명:\n",
      " ### 삼각형의 나머지 한 각 구하기\n",
      "\n",
      "#### 정의:\n",
      "삼각형의 내각의 합은 항상 **180도**입니다. 이는 삼각형의 기본적인 성질 중 하나입니다. 만약 삼각형의 두 각의 크기를 알고 있다면, 나머지 한 각의 크기를 쉽게 구할 수 있습니다.\n",
      "\n",
      "#### 기본 성질:\n",
      "1. **내각의 합**: 삼각형의 세 내각의 합은 항상 **180도**입니다.\n",
      "2. **각의 관계**: 만약 삼각형의 두 각의 크기를 알고 있다면, 나머지 한 각은 다음과 같이 계산할 수 있습니다:\n",
      "   - **공식 대신 이해하기**: 나머지 한 각의 크기는 삼각형의 모든 각을 더한 후 180도에서 뺀 값이 됩니다. 즉, 만약 두 각의 크기를 \\( \\theta_1 \\)도와 \\( \\theta_2 \\)도라고 하면, 나머지 한 각 \\( \\theta_3 \\)는 다음과 같이 구할 수 있습니다:\n",
      "     \\[\n",
      "     \\theta_3 = 180^\\circ - (\\theta_1 + \\theta_2)\n",
      "     \\]\n",
      "\n",
      "이렇게 하면 삼각형의 모든 각의 크기를 쉽게 알아낼 수 있습니다!\n"
     ]
    },
    {
     "data": {
      "image/svg+xml": [
       "<svg xmlns=\"http://www.w3.org/2000/svg\" width=\"500\" height=\"375\">\n",
       "    <text x=\"250\" y=\"50\" font-size=\"25\" text-anchor=\"middle\">각</text>\n",
       "    <!-- 기준선 -->\n",
       "    <line x1=\"125\" y1=\"333\" x2=\"375\" y2=\"333\" stroke=\"black\" stroke-width=\"2\"/>\n",
       "    <!-- 기울어진 선 -->\n",
       "    <line x1=\"125\" y1=\"333\" x2=\"250.00000000000003\" y2=\"116.49364905389035\" stroke=\"black\" stroke-width=\"2\"/>\n",
       "    <!-- 각도 호 -->\n",
       "    <path d=\"M 150.0,289.69872981077805 A 50,50 0 0,1 175,333\" stroke=\"black\" stroke-width=\"2\" fill=\"none\"/>\n",
       "    <!-- 보조선 -->\n",
       "    <text x=\"179.12658773652743\" y=\"301.75\" font-size=\"12\" text-anchor=\"middle\">60°</text>\n",
       "    </svg>"
      ],
      "text/plain": [
       "<IPython.core.display.SVG object>"
      ]
     },
     "metadata": {},
     "output_type": "display_data"
    },
    {
     "name": "stdout",
     "output_type": "stream",
     "text": [
      "====================================================================================================\n",
      "요청한 문장: 삼각형의 세 각의 크기의 합 구하기\n",
      "추출된 개념: 삼각형의 내각의 합\n",
      "추출된 인자: {}\n",
      "\n",
      "생성된 코드:\n",
      " <svg width=\"500\" height=\"500\" xmlns=\"http://www.w3.org/2000/svg\">\n",
      "        <text x=\"250\" y=\"50\" font-size=\"12\" text-anchor=\"middle\"># 삼각형의 내각의 합을(를) 그리는 코드는 아직 구현되지 않았습니다.</text>\n",
      "        </svg>\n",
      "        \n",
      "\n",
      "생성된 설명:\n",
      " ### 삼각형의 세 각의 크기의 합\n",
      "\n",
      "#### 정의:\n",
      "삼각형은 평면 위에서 세 개의 변과 세 개의 꼭지점으로 이루어진 도형입니다. 삼각형의 각 꼭지점에서 만나는 두 변이 이루는 각도를 각이라고 부릅니다.\n",
      "\n",
      "#### 기본 성질:\n",
      "1. **각의 합**: 삼각형의 세 각의 크기의 합은 항상 **180도**입니다. 즉, 어떤 삼각형을 그려도 그 삼각형의 모든 내각을 더하면 항상 180도가 됩니다.\n",
      "   \n",
      "   예를 들어, 만약 삼각형의 세 각이 각각 \\(A\\), \\(B\\), \\(C\\)도라면, \\(A + B + C = 180^\\circ\\)가 항상 성립합니다.\n",
      "\n",
      "이렇게 삼각형의 특성 중 하나로 각의 합이 항상 일정하다는 점을 기억하면 쉽게 문제를 해결할 수 있습니다.\n"
     ]
    },
    {
     "data": {
      "image/svg+xml": [
       "<svg xmlns=\"http://www.w3.org/2000/svg\" width=\"500\" height=\"500\">\n",
       "        <text x=\"250\" y=\"50\" font-size=\"12\" text-anchor=\"middle\"># 삼각형의 내각의 합을(를) 그리는 코드는 아직 구현되지 않았습니다.</text>\n",
       "        </svg>"
      ],
      "text/plain": [
       "<IPython.core.display.SVG object>"
      ]
     },
     "metadata": {},
     "output_type": "display_data"
    },
    {
     "name": "stdout",
     "output_type": "stream",
     "text": [
      "====================================================================================================\n",
      "요청한 문장: 사각형의 나머지 한 각의 크기 구하기\n",
      "추출된 개념: 사각형의 각도\n",
      "추출된 인자: {'sides': ['삼각형의 두 등변 각의 합은 항상 180도 이므로', '한 각을 알면 나머지 한 각도 구할 수 있음.'], 'label_angle': '구체적인 각도 값이 아닌 개념 설명이므로 제외'}\n",
      "\n",
      "생성된 코드:\n",
      " <svg width=\"500\" height=\"500\" xmlns=\"http://www.w3.org/2000/svg\">\n",
      "        <text x=\"250\" y=\"50\" font-size=\"12\" text-anchor=\"middle\"># 사각형의 각도을(를) 그리는 코드는 아직 구현되지 않았습니다.</text>\n",
      "        </svg>\n",
      "        \n",
      "\n",
      "생성된 설명:\n",
      " ### 사각형의 나머지 한 각의 크기 구하기\n",
      "\n",
      "#### 정의:\n",
      "사각형은 네 개의 변과 네 개의 내각을 가진 평면 도형입니다. 모든 사각형의 내각의 합은 항상 **360도**입니다.\n",
      "\n",
      "#### 기본 성질:\n",
      "1. **대칭성**: 사각형은 대칭성이 있어, 특정 조건 하에 각이 서로 같아질 수 있습니다. 예를 들어, 직사각형이나 정사각형에서는 모든 내각이 **각각 90도**입니다.\n",
      "2. **내각의 합**: 사각형의 네 내각의 합은 항상 **360도**입니다. 만약 세 내각의 크기를 알고 있다면, 나머지 한 내각의 크기를 쉽게 구할 수 있습니다.\n",
      "\n",
      "#### 구하는 방법 예시:\n",
      "- **예시**: 만약 사각형의 세 내각의 크기가 각각 **70도**, **80도**, 그리고 **100도**라면, 나머지 한 내각의 크기를 구할 수 있습니다.\n",
      "  - 세 내각의 합: \\(70^\\circ + 80^\\circ + 100^\\circ = 250^\\circ\\)\n",
      "  - 사각형의 내각 합이 \\(360^\\circ\\)이므로, 나머지 한 내각의 크기는:\n",
      "    \\[\n",
      "    360^\\circ - 250^\\circ = 110^\\circ\n",
      "    \\]\n",
      "  - 따라서, 나머지 한 내각의 크기는 **110도**입니다.\n",
      "\n",
      "이렇게 사각형의 세 내각의 크기를 알면 나머지 한 내각의 크기를 쉽게 계산할 수 있습니다.\n"
     ]
    },
    {
     "data": {
      "image/svg+xml": [
       "<svg xmlns=\"http://www.w3.org/2000/svg\" width=\"500\" height=\"500\">\n",
       "        <text x=\"250\" y=\"50\" font-size=\"12\" text-anchor=\"middle\"># 사각형의 각도을(를) 그리는 코드는 아직 구현되지 않았습니다.</text>\n",
       "        </svg>"
      ],
      "text/plain": [
       "<IPython.core.display.SVG object>"
      ]
     },
     "metadata": {},
     "output_type": "display_data"
    },
    {
     "name": "stdout",
     "output_type": "stream",
     "text": [
      "====================================================================================================\n",
      "요청한 문장: 사각형의 네 각의 크기의 합 구하기\n",
      "추출된 개념: 각의 합\n",
      "추출된 인자: {'sum': 360}\n",
      "\n",
      "생성된 코드:\n",
      " <svg width=\"500\" height=\"500\" xmlns=\"http://www.w3.org/2000/svg\">\n",
      "        <text x=\"250\" y=\"50\" font-size=\"12\" text-anchor=\"middle\"># 각의 합을(를) 그리는 코드는 아직 구현되지 않았습니다.</text>\n",
      "        </svg>\n",
      "        \n",
      "\n",
      "생성된 설명:\n",
      " ### 사각형의 네 각의 크기의 합\n",
      "\n",
      "#### 정의:\n",
      "사각형은 네 개의 변과 네 개의 꼭지점을 가진 평면 도형입니다. 각 꼭지점에서 만나는 두 변이 이루는 각도를 각이라고 부릅니다.\n",
      "\n",
      "#### 기본 성질:\n",
      "1. **각의 합**: 사각형의 네 각의 크기의 합은 항상 **360도**입니다. 이는 사각형을 여러 개의 삼각형으로 나눌 수 있으며, 삼각형의 세 각의 합이 항상 180도라는 사실에서 유래됩니다. 따라서 네 개의 삼각형을 합치면 총 합이 360도가 됩니다.\n",
      "   \n",
      "   예를 들어, 만약 사각형의 네 각이 각각 \\(A\\), \\(B\\), \\(C\\), \\(D\\)라고 하면:\n",
      "   \\[\n",
      "   A + B + C + D = 360^\\circ\n",
      "   \\]\n",
      "\n",
      "이렇게 사각형의 네 각의 합은 항상 일정하게 유지됩니다.\n"
     ]
    },
    {
     "data": {
      "image/svg+xml": [
       "<svg xmlns=\"http://www.w3.org/2000/svg\" width=\"500\" height=\"500\">\n",
       "        <text x=\"250\" y=\"50\" font-size=\"12\" text-anchor=\"middle\"># 각의 합을(를) 그리는 코드는 아직 구현되지 않았습니다.</text>\n",
       "        </svg>"
      ],
      "text/plain": [
       "<IPython.core.display.SVG object>"
      ]
     },
     "metadata": {},
     "output_type": "display_data"
    },
    {
     "name": "stdout",
     "output_type": "stream",
     "text": [
      "====================================================================================================\n",
      "요청한 문장: 삼각형의 변의 길이에 따라 분류하기\n",
      "추출된 개념: 삼각형 분류\n",
      "추출된 인자: {'side_length': '예: 3, 4, 5'}\n",
      "\n",
      "생성된 코드:\n",
      " <svg width=\"500\" height=\"500\" xmlns=\"http://www.w3.org/2000/svg\">\n",
      "        <text x=\"250\" y=\"50\" font-size=\"12\" text-anchor=\"middle\"># 삼각형 분류을(를) 그리는 코드는 아직 구현되지 않았습니다.</text>\n",
      "        </svg>\n",
      "        \n",
      "\n",
      "생성된 설명:\n",
      " ### 삼각형의 변의 길이에 따른 분류\n",
      "\n",
      "#### 정의:\n",
      "삼각형은 세 개의 변과 세 개의 꼭지점으로 이루어진 평면 도형입니다. 삼각형은 그 변의 길이에 따라 여러 가지로 분류할 수 있습니다.\n",
      "\n",
      "#### 기본 성질:\n",
      "1. **예각삼각형**:\n",
      "   - **정의**: 모든 내각의 크기가 90도보다 작은 삼각형입니다.\n",
      "   - **특징**: 가장 긴 변(빗변)의 길이가 다른 두 변의 길이의 합보다 작습니다.\n",
      "\n",
      "2. **직각삼각형**:\n",
      "   - **정의**: 한 내각이 정확히 90도인 삼각형입니다.\n",
      "   - **특징**: 빗변(가장 긴 변)의 길이는 다른 두 변(직각을 이루는 변들)의 길이의 제곱의 합의 제곱근과 같습니다. 하지만 여기서는 변의 길이에 대한 직접적인 공식보다는 그 특징에 초점을 맞춥니다.\n",
      "\n",
      "3. **둔각삼각형**:\n",
      "   - **정의**: 한 내각의 크기가 90도보다 큰 삼각형입니다.\n",
      "   - **특징**: 가장 긴 변(빗변)의 길이가 다른 두 변의 길이의 합보다 큽니다.\n",
      "\n",
      "이렇게 삼각형은 변의 길이에 따라 예각삼각형, 직각삼각형, 둔각삼각형으로 구분됩니다. 각 종류의 삼각형은 그 특징적인 내각의 크기와 변의 길이 관계로 구별됩니다.\n"
     ]
    },
    {
     "data": {
      "image/svg+xml": [
       "<svg xmlns=\"http://www.w3.org/2000/svg\" width=\"500\" height=\"500\">\n",
       "        <text x=\"250\" y=\"50\" font-size=\"12\" text-anchor=\"middle\"># 삼각형 분류을(를) 그리는 코드는 아직 구현되지 않았습니다.</text>\n",
       "        </svg>"
      ],
      "text/plain": [
       "<IPython.core.display.SVG object>"
      ]
     },
     "metadata": {},
     "output_type": "display_data"
    },
    {
     "name": "stdout",
     "output_type": "stream",
     "text": [
      "====================================================================================================\n",
      "요청한 문장: 이등변삼각형 알아보기\n",
      "추출된 개념: 이등변삼각형\n",
      "추출된 인자: {}\n",
      "\n",
      "생성된 코드:\n",
      " <svg width=\"500\" height=\"500\" xmlns=\"http://www.w3.org/2000/svg\">\n",
      "        <text x=\"250\" y=\"50\" font-size=\"25\" text-anchor=\"middle\">이등변삼각형</text>\n",
      "        <!-- 아등변삼각형 -->\n",
      "        <polygon points=\"250,125 314.7047612756302,366.4814565722671 185.29523872436982,366.4814565722671\" stroke=\"black\" stroke-width=\"2\" fill=\"none\"/>\n",
      "        <!-- 보조선들 -->\n",
      "        <path d=\"M 250, 125 Q 307.0, 220.0 314.7047612756302, 366.4814565722671\" fill=\"none\" stroke=\"black\" stroke-width=\"2\" stroke-dasharray=\"5,3\" />\n",
      "        <text x=\"307.0\" y=\"220.0\" font-size=\"12\" text-anchor=\"middle\">등변</text>\n",
      "        <line x1=\"290.0797872481276\" y1=\"243.6701759253134\" x2=\"274.62497402750256\" y2=\"247.81128064695372\" stroke=\"black\" stroke-width=\"2\" />\n",
      "        <line x1=\"225.37502597249747\" y1=\"247.81128064695372\" x2=\"209.92021275187236\" y2=\"243.6701759253134\" stroke=\"black\" stroke-width=\"2\" />\n",
      "        </svg>\n",
      "        \n",
      "\n",
      "생성된 설명:\n",
      " ### 이등변삼각형 알아보기\n",
      "\n",
      "#### 정의\n",
      "이등변삼각형은 삼각형의 세 변 중에서 **두 변의 길이가 같은** 특별한 종류의 삼각형입니다. 쉽게 말해, 이등변삼각형은 두 개의 꼭지점에서 같은 길이의 변을 가지고 있어, 그 모양이 대칭적인 특징을 보입니다.\n",
      "\n",
      "#### 기본 성질\n",
      "1. **대칭축**: 이등변삼각형은 한 개의 대칭축을 가지고 있습니다. 이 대칭축은 두 같은 길이의 변을 연결하는 선분입니다. 이 선을 기준으로 삼각형을 접어도 두 부분이 완전히 일치합니다.\n",
      "   \n",
      "2. **내각**: 이등변삼각형의 두 개의 기저각(밑변에 인접한 각)은 항상 같습니다. 나머지 한 각은 기저각들과는 다릅니다.\n",
      "\n",
      "3. **높이와 중선**: 이등변삼각형의 대칭축은 동시에 높이와 중선이 됩니다. 즉, 이등변삼각형을 대칭축으로 자르면 두 개의 직각삼각형이 만들어지며, 이 직각삼각형들의 빗변은 이등변삼각형의 밑변의 절반 길이와 같습니다.\n",
      "\n",
      "이러한 특징들로 인해 이등변삼각형은 다양한 기하학적 문제에서 중요한 역할을 합니다!\n"
     ]
    },
    {
     "data": {
      "image/svg+xml": [
       "<svg xmlns=\"http://www.w3.org/2000/svg\" width=\"500\" height=\"500\">\n",
       "        <text x=\"250\" y=\"50\" font-size=\"25\" text-anchor=\"middle\">이등변삼각형</text>\n",
       "        <!-- 아등변삼각형 -->\n",
       "        <polygon points=\"250,125 314.7047612756302,366.4814565722671 185.29523872436982,366.4814565722671\" stroke=\"black\" stroke-width=\"2\" fill=\"none\"/>\n",
       "        <!-- 보조선들 -->\n",
       "        <path d=\"M 250, 125 Q 307.0, 220.0 314.7047612756302, 366.4814565722671\" fill=\"none\" stroke=\"black\" stroke-width=\"2\" stroke-dasharray=\"5,3\"/>\n",
       "        <text x=\"307.0\" y=\"220.0\" font-size=\"12\" text-anchor=\"middle\">등변</text>\n",
       "        <line x1=\"290.0797872481276\" y1=\"243.6701759253134\" x2=\"274.62497402750256\" y2=\"247.81128064695372\" stroke=\"black\" stroke-width=\"2\"/>\n",
       "        <line x1=\"225.37502597249747\" y1=\"247.81128064695372\" x2=\"209.92021275187236\" y2=\"243.6701759253134\" stroke=\"black\" stroke-width=\"2\"/>\n",
       "        </svg>"
      ],
      "text/plain": [
       "<IPython.core.display.SVG object>"
      ]
     },
     "metadata": {},
     "output_type": "display_data"
    },
    {
     "name": "stdout",
     "output_type": "stream",
     "text": [
      "====================================================================================================\n",
      "요청한 문장: 이등변삼각형의 성질 알아보기\n",
      "추출된 개념: 이등변삼각형\n",
      "추출된 인자: {'base_length': 5}\n",
      "\n",
      "생성된 코드:\n",
      " <svg width=\"500\" height=\"500\" xmlns=\"http://www.w3.org/2000/svg\">\n",
      "        <text x=\"250\" y=\"50\" font-size=\"25\" text-anchor=\"middle\">이등변삼각형</text>\n",
      "        <!-- 아등변삼각형 -->\n",
      "        <polygon points=\"250,125 314.7047612756302,366.4814565722671 185.29523872436982,366.4814565722671\" stroke=\"black\" stroke-width=\"2\" fill=\"none\"/>\n",
      "        <!-- 보조선들 -->\n",
      "        <path d=\"M 250, 125 Q 307.0, 220.0 314.7047612756302, 366.4814565722671\" fill=\"none\" stroke=\"black\" stroke-width=\"2\" stroke-dasharray=\"5,3\" />\n",
      "        <text x=\"307.0\" y=\"220.0\" font-size=\"12\" text-anchor=\"middle\">등변</text>\n",
      "        <line x1=\"290.0797872481276\" y1=\"243.6701759253134\" x2=\"274.62497402750256\" y2=\"247.81128064695372\" stroke=\"black\" stroke-width=\"2\" />\n",
      "        <line x1=\"225.37502597249747\" y1=\"247.81128064695372\" x2=\"209.92021275187236\" y2=\"243.6701759253134\" stroke=\"black\" stroke-width=\"2\" />\n",
      "        </svg>\n",
      "        \n",
      "\n",
      "생성된 설명:\n",
      " ### 이등변삼각형의 성질\n",
      "\n",
      "#### 정의\n",
      "이등변삼각형은 세 변 중에서 **두 변의 길이가 같은** 삼각형을 말합니다. 이 두 같은 길이의 변을 **밑변**과 **높이**라고 부르며, 이 두 변 사이의 각도가 같은 특징을 가지고 있습니다.\n",
      "\n",
      "#### 기본 성질\n",
      "1. **밑변과 높이**: 이등변삼각형은 밑변을 기준으로 높이를 세울 수 있습니다. 이 높이는 밑변을 정확히 반으로 나눕니다. 즉, 밑변을 두 개의 같은 길이의 선분으로 나누어 줍니다.\n",
      "   \n",
      "2. **두 개의 같은 각도**: 밑변에 대응하는 두 각도가 같습니다. 따라서 이등변삼각형의 두 개의 다른 각도도 서로 같습니다.\n",
      "\n",
      "3. **대칭축**: 밑변을 기준으로 이등변삼각형을 접으면 두 부분이 완전히 일치하므로, 밑변을 대칭축으로 할 수 있습니다. 이 대칭축을 중심으로 삼각형을 접어도 모양이 완전히 일치합니다.\n",
      "\n",
      "이러한 성질들로 인해 이등변삼각형은 다양한 기하학적 문제 해결에 유용하게 사용됩니다!\n"
     ]
    },
    {
     "data": {
      "image/svg+xml": [
       "<svg xmlns=\"http://www.w3.org/2000/svg\" width=\"500\" height=\"500\">\n",
       "        <text x=\"250\" y=\"50\" font-size=\"25\" text-anchor=\"middle\">이등변삼각형</text>\n",
       "        <!-- 아등변삼각형 -->\n",
       "        <polygon points=\"250,125 314.7047612756302,366.4814565722671 185.29523872436982,366.4814565722671\" stroke=\"black\" stroke-width=\"2\" fill=\"none\"/>\n",
       "        <!-- 보조선들 -->\n",
       "        <path d=\"M 250, 125 Q 307.0, 220.0 314.7047612756302, 366.4814565722671\" fill=\"none\" stroke=\"black\" stroke-width=\"2\" stroke-dasharray=\"5,3\"/>\n",
       "        <text x=\"307.0\" y=\"220.0\" font-size=\"12\" text-anchor=\"middle\">등변</text>\n",
       "        <line x1=\"290.0797872481276\" y1=\"243.6701759253134\" x2=\"274.62497402750256\" y2=\"247.81128064695372\" stroke=\"black\" stroke-width=\"2\"/>\n",
       "        <line x1=\"225.37502597249747\" y1=\"247.81128064695372\" x2=\"209.92021275187236\" y2=\"243.6701759253134\" stroke=\"black\" stroke-width=\"2\"/>\n",
       "        </svg>"
      ],
      "text/plain": [
       "<IPython.core.display.SVG object>"
      ]
     },
     "metadata": {},
     "output_type": "display_data"
    },
    {
     "name": "stdout",
     "output_type": "stream",
     "text": [
      "====================================================================================================\n"
     ]
    },
    {
     "ename": "TypeError",
     "evalue": "'<=' not supported between instances of 'dict' and 'int'",
     "output_type": "error",
     "traceback": [
      "\u001b[0;31m---------------------------------------------------------------------------\u001b[0m",
      "\u001b[0;31mTypeError\u001b[0m                                 Traceback (most recent call last)",
      "Cell \u001b[0;32mIn[23], line 5\u001b[0m\n\u001b[1;32m      1\u001b[0m \u001b[38;5;66;03m# %%timeit -n 5 -r 6\u001b[39;00m\n\u001b[1;32m      2\u001b[0m \n\u001b[1;32m      3\u001b[0m \u001b[38;5;66;03m# 그래프 호출\u001b[39;00m\n\u001b[1;32m      4\u001b[0m \u001b[38;5;28;01mfor\u001b[39;00m i, user_input \u001b[38;5;129;01min\u001b[39;00m \u001b[38;5;28menumerate\u001b[39m(input_samples):\n\u001b[0;32m----> 5\u001b[0m     result \u001b[38;5;241m=\u001b[39m \u001b[43mapp\u001b[49m\u001b[38;5;241;43m.\u001b[39;49m\u001b[43minvoke\u001b[49m\u001b[43m(\u001b[49m\u001b[43m{\u001b[49m\u001b[38;5;124;43m\"\u001b[39;49m\u001b[38;5;124;43muser_request\u001b[39;49m\u001b[38;5;124;43m\"\u001b[39;49m\u001b[43m:\u001b[49m\u001b[43m \u001b[49m\u001b[43muser_input\u001b[49m\u001b[43m}\u001b[49m\u001b[43m)\u001b[49m\n\u001b[1;32m      7\u001b[0m     \u001b[38;5;66;03m# 결과 출력\u001b[39;00m\n\u001b[1;32m      8\u001b[0m     \u001b[38;5;28mprint\u001b[39m(\u001b[38;5;124m\"\u001b[39m\u001b[38;5;124m요청한 문장:\u001b[39m\u001b[38;5;124m\"\u001b[39m, result[\u001b[38;5;124m\"\u001b[39m\u001b[38;5;124muser_request\u001b[39m\u001b[38;5;124m\"\u001b[39m])\n",
      "File \u001b[0;32m~/AMA/solution/jupyter_env/lib/python3.10/site-packages/langgraph/pregel/__init__.py:2843\u001b[0m, in \u001b[0;36mPregel.invoke\u001b[0;34m(self, input, config, stream_mode, print_mode, output_keys, interrupt_before, interrupt_after, **kwargs)\u001b[0m\n\u001b[1;32m   2840\u001b[0m chunks: \u001b[38;5;28mlist\u001b[39m[\u001b[38;5;28mdict\u001b[39m[\u001b[38;5;28mstr\u001b[39m, Any] \u001b[38;5;241m|\u001b[39m Any] \u001b[38;5;241m=\u001b[39m []\n\u001b[1;32m   2841\u001b[0m interrupts: \u001b[38;5;28mlist\u001b[39m[Interrupt] \u001b[38;5;241m=\u001b[39m []\n\u001b[0;32m-> 2843\u001b[0m \u001b[38;5;28;01mfor\u001b[39;00m chunk \u001b[38;5;129;01min\u001b[39;00m \u001b[38;5;28mself\u001b[39m\u001b[38;5;241m.\u001b[39mstream(\n\u001b[1;32m   2844\u001b[0m     \u001b[38;5;28minput\u001b[39m,\n\u001b[1;32m   2845\u001b[0m     config,\n\u001b[1;32m   2846\u001b[0m     stream_mode\u001b[38;5;241m=\u001b[39m[\u001b[38;5;124m\"\u001b[39m\u001b[38;5;124mupdates\u001b[39m\u001b[38;5;124m\"\u001b[39m, \u001b[38;5;124m\"\u001b[39m\u001b[38;5;124mvalues\u001b[39m\u001b[38;5;124m\"\u001b[39m]\n\u001b[1;32m   2847\u001b[0m     \u001b[38;5;28;01mif\u001b[39;00m stream_mode \u001b[38;5;241m==\u001b[39m \u001b[38;5;124m\"\u001b[39m\u001b[38;5;124mvalues\u001b[39m\u001b[38;5;124m\"\u001b[39m\n\u001b[1;32m   2848\u001b[0m     \u001b[38;5;28;01melse\u001b[39;00m stream_mode,\n\u001b[1;32m   2849\u001b[0m     print_mode\u001b[38;5;241m=\u001b[39mprint_mode,\n\u001b[1;32m   2850\u001b[0m     output_keys\u001b[38;5;241m=\u001b[39moutput_keys,\n\u001b[1;32m   2851\u001b[0m     interrupt_before\u001b[38;5;241m=\u001b[39minterrupt_before,\n\u001b[1;32m   2852\u001b[0m     interrupt_after\u001b[38;5;241m=\u001b[39minterrupt_after,\n\u001b[1;32m   2853\u001b[0m     \u001b[38;5;241m*\u001b[39m\u001b[38;5;241m*\u001b[39mkwargs,\n\u001b[1;32m   2854\u001b[0m ):\n\u001b[1;32m   2855\u001b[0m     \u001b[38;5;28;01mif\u001b[39;00m stream_mode \u001b[38;5;241m==\u001b[39m \u001b[38;5;124m\"\u001b[39m\u001b[38;5;124mvalues\u001b[39m\u001b[38;5;124m\"\u001b[39m:\n\u001b[1;32m   2856\u001b[0m         \u001b[38;5;28;01mif\u001b[39;00m \u001b[38;5;28mlen\u001b[39m(chunk) \u001b[38;5;241m==\u001b[39m \u001b[38;5;241m2\u001b[39m:\n",
      "File \u001b[0;32m~/AMA/solution/jupyter_env/lib/python3.10/site-packages/langgraph/pregel/__init__.py:2533\u001b[0m, in \u001b[0;36mPregel.stream\u001b[0;34m(self, input, config, stream_mode, print_mode, output_keys, interrupt_before, interrupt_after, checkpoint_during, debug, subgraphs)\u001b[0m\n\u001b[1;32m   2531\u001b[0m \u001b[38;5;28;01mfor\u001b[39;00m task \u001b[38;5;129;01min\u001b[39;00m loop\u001b[38;5;241m.\u001b[39mmatch_cached_writes():\n\u001b[1;32m   2532\u001b[0m     loop\u001b[38;5;241m.\u001b[39moutput_writes(task\u001b[38;5;241m.\u001b[39mid, task\u001b[38;5;241m.\u001b[39mwrites, cached\u001b[38;5;241m=\u001b[39m\u001b[38;5;28;01mTrue\u001b[39;00m)\n\u001b[0;32m-> 2533\u001b[0m \u001b[38;5;28;01mfor\u001b[39;00m _ \u001b[38;5;129;01min\u001b[39;00m runner\u001b[38;5;241m.\u001b[39mtick(\n\u001b[1;32m   2534\u001b[0m     [t \u001b[38;5;28;01mfor\u001b[39;00m t \u001b[38;5;129;01min\u001b[39;00m loop\u001b[38;5;241m.\u001b[39mtasks\u001b[38;5;241m.\u001b[39mvalues() \u001b[38;5;28;01mif\u001b[39;00m \u001b[38;5;129;01mnot\u001b[39;00m t\u001b[38;5;241m.\u001b[39mwrites],\n\u001b[1;32m   2535\u001b[0m     timeout\u001b[38;5;241m=\u001b[39m\u001b[38;5;28mself\u001b[39m\u001b[38;5;241m.\u001b[39mstep_timeout,\n\u001b[1;32m   2536\u001b[0m     get_waiter\u001b[38;5;241m=\u001b[39mget_waiter,\n\u001b[1;32m   2537\u001b[0m     schedule_task\u001b[38;5;241m=\u001b[39mloop\u001b[38;5;241m.\u001b[39maccept_push,\n\u001b[1;32m   2538\u001b[0m ):\n\u001b[1;32m   2539\u001b[0m     \u001b[38;5;66;03m# emit output\u001b[39;00m\n\u001b[1;32m   2540\u001b[0m     \u001b[38;5;28;01myield from\u001b[39;00m _output(\n\u001b[1;32m   2541\u001b[0m         stream_mode, print_mode, subgraphs, stream\u001b[38;5;241m.\u001b[39mget, queue\u001b[38;5;241m.\u001b[39mEmpty\n\u001b[1;32m   2542\u001b[0m     )\n\u001b[1;32m   2543\u001b[0m loop\u001b[38;5;241m.\u001b[39mafter_tick()\n",
      "File \u001b[0;32m~/AMA/solution/jupyter_env/lib/python3.10/site-packages/langgraph/pregel/runner.py:253\u001b[0m, in \u001b[0;36mPregelRunner.tick\u001b[0;34m(self, tasks, reraise, timeout, retry_policy, get_waiter, schedule_task)\u001b[0m\n\u001b[1;32m    251\u001b[0m \u001b[38;5;66;03m# panic on failure or timeout\u001b[39;00m\n\u001b[1;32m    252\u001b[0m \u001b[38;5;28;01mtry\u001b[39;00m:\n\u001b[0;32m--> 253\u001b[0m     \u001b[43m_panic_or_proceed\u001b[49m\u001b[43m(\u001b[49m\n\u001b[1;32m    254\u001b[0m \u001b[43m        \u001b[49m\u001b[43mfutures\u001b[49m\u001b[38;5;241;43m.\u001b[39;49m\u001b[43mdone\u001b[49m\u001b[38;5;241;43m.\u001b[39;49m\u001b[43munion\u001b[49m\u001b[43m(\u001b[49m\u001b[43mf\u001b[49m\u001b[43m \u001b[49m\u001b[38;5;28;43;01mfor\u001b[39;49;00m\u001b[43m \u001b[49m\u001b[43mf\u001b[49m\u001b[43m,\u001b[49m\u001b[43m \u001b[49m\u001b[43mt\u001b[49m\u001b[43m \u001b[49m\u001b[38;5;129;43;01min\u001b[39;49;00m\u001b[43m \u001b[49m\u001b[43mfutures\u001b[49m\u001b[38;5;241;43m.\u001b[39;49m\u001b[43mitems\u001b[49m\u001b[43m(\u001b[49m\u001b[43m)\u001b[49m\u001b[43m \u001b[49m\u001b[38;5;28;43;01mif\u001b[39;49;00m\u001b[43m \u001b[49m\u001b[43mt\u001b[49m\u001b[43m \u001b[49m\u001b[38;5;129;43;01mis\u001b[39;49;00m\u001b[43m \u001b[49m\u001b[38;5;129;43;01mnot\u001b[39;49;00m\u001b[43m \u001b[49m\u001b[38;5;28;43;01mNone\u001b[39;49;00m\u001b[43m)\u001b[49m\u001b[43m,\u001b[49m\n\u001b[1;32m    255\u001b[0m \u001b[43m        \u001b[49m\u001b[43mpanic\u001b[49m\u001b[38;5;241;43m=\u001b[39;49m\u001b[43mreraise\u001b[49m\u001b[43m,\u001b[49m\n\u001b[1;32m    256\u001b[0m \u001b[43m    \u001b[49m\u001b[43m)\u001b[49m\n\u001b[1;32m    257\u001b[0m \u001b[38;5;28;01mexcept\u001b[39;00m \u001b[38;5;167;01mException\u001b[39;00m \u001b[38;5;28;01mas\u001b[39;00m exc:\n\u001b[1;32m    258\u001b[0m     \u001b[38;5;28;01mif\u001b[39;00m tb \u001b[38;5;241m:=\u001b[39m exc\u001b[38;5;241m.\u001b[39m__traceback__:\n",
      "File \u001b[0;32m~/AMA/solution/jupyter_env/lib/python3.10/site-packages/langgraph/pregel/runner.py:511\u001b[0m, in \u001b[0;36m_panic_or_proceed\u001b[0;34m(futs, timeout_exc_cls, panic)\u001b[0m\n\u001b[1;32m    509\u001b[0m                 interrupts\u001b[38;5;241m.\u001b[39mappend(exc)\n\u001b[1;32m    510\u001b[0m             \u001b[38;5;28;01melif\u001b[39;00m fut \u001b[38;5;129;01mnot\u001b[39;00m \u001b[38;5;129;01min\u001b[39;00m SKIP_RERAISE_SET:\n\u001b[0;32m--> 511\u001b[0m                 \u001b[38;5;28;01mraise\u001b[39;00m exc\n\u001b[1;32m    512\u001b[0m \u001b[38;5;66;03m# raise combined interrupts\u001b[39;00m\n\u001b[1;32m    513\u001b[0m \u001b[38;5;28;01mif\u001b[39;00m interrupts:\n",
      "File \u001b[0;32m~/AMA/solution/jupyter_env/lib/python3.10/site-packages/langgraph/pregel/executor.py:81\u001b[0m, in \u001b[0;36mBackgroundExecutor.done\u001b[0;34m(self, task)\u001b[0m\n\u001b[1;32m     79\u001b[0m \u001b[38;5;250m\u001b[39m\u001b[38;5;124;03m\"\"\"Remove the task from the tasks dict when it's done.\"\"\"\u001b[39;00m\n\u001b[1;32m     80\u001b[0m \u001b[38;5;28;01mtry\u001b[39;00m:\n\u001b[0;32m---> 81\u001b[0m     \u001b[43mtask\u001b[49m\u001b[38;5;241;43m.\u001b[39;49m\u001b[43mresult\u001b[49m\u001b[43m(\u001b[49m\u001b[43m)\u001b[49m\n\u001b[1;32m     82\u001b[0m \u001b[38;5;28;01mexcept\u001b[39;00m GraphBubbleUp:\n\u001b[1;32m     83\u001b[0m     \u001b[38;5;66;03m# This exception is an interruption signal, not an error\u001b[39;00m\n\u001b[1;32m     84\u001b[0m     \u001b[38;5;66;03m# so we don't want to re-raise it on exit\u001b[39;00m\n\u001b[1;32m     85\u001b[0m     \u001b[38;5;28mself\u001b[39m\u001b[38;5;241m.\u001b[39mtasks\u001b[38;5;241m.\u001b[39mpop(task)\n",
      "File \u001b[0;32m/usr/lib/python3.10/concurrent/futures/_base.py:451\u001b[0m, in \u001b[0;36mFuture.result\u001b[0;34m(self, timeout)\u001b[0m\n\u001b[1;32m    449\u001b[0m     \u001b[38;5;28;01mraise\u001b[39;00m CancelledError()\n\u001b[1;32m    450\u001b[0m \u001b[38;5;28;01melif\u001b[39;00m \u001b[38;5;28mself\u001b[39m\u001b[38;5;241m.\u001b[39m_state \u001b[38;5;241m==\u001b[39m FINISHED:\n\u001b[0;32m--> 451\u001b[0m     \u001b[38;5;28;01mreturn\u001b[39;00m \u001b[38;5;28;43mself\u001b[39;49m\u001b[38;5;241;43m.\u001b[39;49m\u001b[43m__get_result\u001b[49m\u001b[43m(\u001b[49m\u001b[43m)\u001b[49m\n\u001b[1;32m    453\u001b[0m \u001b[38;5;28mself\u001b[39m\u001b[38;5;241m.\u001b[39m_condition\u001b[38;5;241m.\u001b[39mwait(timeout)\n\u001b[1;32m    455\u001b[0m \u001b[38;5;28;01mif\u001b[39;00m \u001b[38;5;28mself\u001b[39m\u001b[38;5;241m.\u001b[39m_state \u001b[38;5;129;01min\u001b[39;00m [CANCELLED, CANCELLED_AND_NOTIFIED]:\n",
      "File \u001b[0;32m/usr/lib/python3.10/concurrent/futures/_base.py:403\u001b[0m, in \u001b[0;36mFuture.__get_result\u001b[0;34m(self)\u001b[0m\n\u001b[1;32m    401\u001b[0m \u001b[38;5;28;01mif\u001b[39;00m \u001b[38;5;28mself\u001b[39m\u001b[38;5;241m.\u001b[39m_exception:\n\u001b[1;32m    402\u001b[0m     \u001b[38;5;28;01mtry\u001b[39;00m:\n\u001b[0;32m--> 403\u001b[0m         \u001b[38;5;28;01mraise\u001b[39;00m \u001b[38;5;28mself\u001b[39m\u001b[38;5;241m.\u001b[39m_exception\n\u001b[1;32m    404\u001b[0m     \u001b[38;5;28;01mfinally\u001b[39;00m:\n\u001b[1;32m    405\u001b[0m         \u001b[38;5;66;03m# Break a reference cycle with the exception in self._exception\u001b[39;00m\n\u001b[1;32m    406\u001b[0m         \u001b[38;5;28mself\u001b[39m \u001b[38;5;241m=\u001b[39m \u001b[38;5;28;01mNone\u001b[39;00m\n",
      "File \u001b[0;32m/usr/lib/python3.10/concurrent/futures/thread.py:58\u001b[0m, in \u001b[0;36m_WorkItem.run\u001b[0;34m(self)\u001b[0m\n\u001b[1;32m     55\u001b[0m     \u001b[38;5;28;01mreturn\u001b[39;00m\n\u001b[1;32m     57\u001b[0m \u001b[38;5;28;01mtry\u001b[39;00m:\n\u001b[0;32m---> 58\u001b[0m     result \u001b[38;5;241m=\u001b[39m \u001b[38;5;28;43mself\u001b[39;49m\u001b[38;5;241;43m.\u001b[39;49m\u001b[43mfn\u001b[49m\u001b[43m(\u001b[49m\u001b[38;5;241;43m*\u001b[39;49m\u001b[38;5;28;43mself\u001b[39;49m\u001b[38;5;241;43m.\u001b[39;49m\u001b[43margs\u001b[49m\u001b[43m,\u001b[49m\u001b[43m \u001b[49m\u001b[38;5;241;43m*\u001b[39;49m\u001b[38;5;241;43m*\u001b[39;49m\u001b[38;5;28;43mself\u001b[39;49m\u001b[38;5;241;43m.\u001b[39;49m\u001b[43mkwargs\u001b[49m\u001b[43m)\u001b[49m\n\u001b[1;32m     59\u001b[0m \u001b[38;5;28;01mexcept\u001b[39;00m \u001b[38;5;167;01mBaseException\u001b[39;00m \u001b[38;5;28;01mas\u001b[39;00m exc:\n\u001b[1;32m     60\u001b[0m     \u001b[38;5;28mself\u001b[39m\u001b[38;5;241m.\u001b[39mfuture\u001b[38;5;241m.\u001b[39mset_exception(exc)\n",
      "File \u001b[0;32m~/AMA/solution/jupyter_env/lib/python3.10/site-packages/langgraph/pregel/retry.py:42\u001b[0m, in \u001b[0;36mrun_with_retry\u001b[0;34m(task, retry_policy, configurable)\u001b[0m\n\u001b[1;32m     40\u001b[0m     task\u001b[38;5;241m.\u001b[39mwrites\u001b[38;5;241m.\u001b[39mclear()\n\u001b[1;32m     41\u001b[0m     \u001b[38;5;66;03m# run the task\u001b[39;00m\n\u001b[0;32m---> 42\u001b[0m     \u001b[38;5;28;01mreturn\u001b[39;00m \u001b[43mtask\u001b[49m\u001b[38;5;241;43m.\u001b[39;49m\u001b[43mproc\u001b[49m\u001b[38;5;241;43m.\u001b[39;49m\u001b[43minvoke\u001b[49m\u001b[43m(\u001b[49m\u001b[43mtask\u001b[49m\u001b[38;5;241;43m.\u001b[39;49m\u001b[43minput\u001b[49m\u001b[43m,\u001b[49m\u001b[43m \u001b[49m\u001b[43mconfig\u001b[49m\u001b[43m)\u001b[49m\n\u001b[1;32m     43\u001b[0m \u001b[38;5;28;01mexcept\u001b[39;00m ParentCommand \u001b[38;5;28;01mas\u001b[39;00m exc:\n\u001b[1;32m     44\u001b[0m     ns: \u001b[38;5;28mstr\u001b[39m \u001b[38;5;241m=\u001b[39m config[CONF][CONFIG_KEY_CHECKPOINT_NS]\n",
      "File \u001b[0;32m~/AMA/solution/jupyter_env/lib/python3.10/site-packages/langgraph/utils/runnable.py:623\u001b[0m, in \u001b[0;36mRunnableSeq.invoke\u001b[0;34m(self, input, config, **kwargs)\u001b[0m\n\u001b[1;32m    621\u001b[0m     \u001b[38;5;66;03m# run in context\u001b[39;00m\n\u001b[1;32m    622\u001b[0m     \u001b[38;5;28;01mwith\u001b[39;00m set_config_context(config, run) \u001b[38;5;28;01mas\u001b[39;00m context:\n\u001b[0;32m--> 623\u001b[0m         \u001b[38;5;28minput\u001b[39m \u001b[38;5;241m=\u001b[39m \u001b[43mcontext\u001b[49m\u001b[38;5;241;43m.\u001b[39;49m\u001b[43mrun\u001b[49m\u001b[43m(\u001b[49m\u001b[43mstep\u001b[49m\u001b[38;5;241;43m.\u001b[39;49m\u001b[43minvoke\u001b[49m\u001b[43m,\u001b[49m\u001b[43m \u001b[49m\u001b[38;5;28;43minput\u001b[39;49m\u001b[43m,\u001b[49m\u001b[43m \u001b[49m\u001b[43mconfig\u001b[49m\u001b[43m,\u001b[49m\u001b[43m \u001b[49m\u001b[38;5;241;43m*\u001b[39;49m\u001b[38;5;241;43m*\u001b[39;49m\u001b[43mkwargs\u001b[49m\u001b[43m)\u001b[49m\n\u001b[1;32m    624\u001b[0m \u001b[38;5;28;01melse\u001b[39;00m:\n\u001b[1;32m    625\u001b[0m     \u001b[38;5;28minput\u001b[39m \u001b[38;5;241m=\u001b[39m step\u001b[38;5;241m.\u001b[39minvoke(\u001b[38;5;28minput\u001b[39m, config)\n",
      "File \u001b[0;32m~/AMA/solution/jupyter_env/lib/python3.10/site-packages/langgraph/utils/runnable.py:377\u001b[0m, in \u001b[0;36mRunnableCallable.invoke\u001b[0;34m(self, input, config, **kwargs)\u001b[0m\n\u001b[1;32m    375\u001b[0m         run_manager\u001b[38;5;241m.\u001b[39mon_chain_end(ret)\n\u001b[1;32m    376\u001b[0m \u001b[38;5;28;01melse\u001b[39;00m:\n\u001b[0;32m--> 377\u001b[0m     ret \u001b[38;5;241m=\u001b[39m \u001b[38;5;28;43mself\u001b[39;49m\u001b[38;5;241;43m.\u001b[39;49m\u001b[43mfunc\u001b[49m\u001b[43m(\u001b[49m\u001b[38;5;241;43m*\u001b[39;49m\u001b[43margs\u001b[49m\u001b[43m,\u001b[49m\u001b[43m \u001b[49m\u001b[38;5;241;43m*\u001b[39;49m\u001b[38;5;241;43m*\u001b[39;49m\u001b[43mkwargs\u001b[49m\u001b[43m)\u001b[49m\n\u001b[1;32m    378\u001b[0m \u001b[38;5;28;01mif\u001b[39;00m \u001b[38;5;28mself\u001b[39m\u001b[38;5;241m.\u001b[39mrecurse \u001b[38;5;129;01mand\u001b[39;00m \u001b[38;5;28misinstance\u001b[39m(ret, Runnable):\n\u001b[1;32m    379\u001b[0m     \u001b[38;5;28;01mreturn\u001b[39;00m ret\u001b[38;5;241m.\u001b[39minvoke(\u001b[38;5;28minput\u001b[39m, config)\n",
      "Cell \u001b[0;32mIn[14], line 34\u001b[0m, in \u001b[0;36mgenerate_code_node\u001b[0;34m(state)\u001b[0m\n\u001b[1;32m     32\u001b[0m     code \u001b[38;5;241m=\u001b[39m gen_isosceles_prototype(parameters, \u001b[38;5;28;01mTrue\u001b[39;00m)\n\u001b[1;32m     33\u001b[0m \u001b[38;5;28;01melif\u001b[39;00m concept \u001b[38;5;241m==\u001b[39m \u001b[38;5;124m\"\u001b[39m\u001b[38;5;124m이등변삼각형\u001b[39m\u001b[38;5;124m\"\u001b[39m \u001b[38;5;129;01mor\u001b[39;00m concept \u001b[38;5;241m==\u001b[39m \u001b[38;5;124m\"\u001b[39m\u001b[38;5;124mIsosceles\u001b[39m\u001b[38;5;124m\"\u001b[39m:\n\u001b[0;32m---> 34\u001b[0m     code \u001b[38;5;241m=\u001b[39m \u001b[43mgen_isosceles_prototype\u001b[49m\u001b[43m(\u001b[49m\u001b[43mparameters\u001b[49m\u001b[43m)\u001b[49m\n\u001b[1;32m     35\u001b[0m \u001b[38;5;28;01melif\u001b[39;00m concept \u001b[38;5;241m==\u001b[39m \u001b[38;5;124m\"\u001b[39m\u001b[38;5;124m예각삼각형\u001b[39m\u001b[38;5;124m\"\u001b[39m \u001b[38;5;129;01mor\u001b[39;00m concept \u001b[38;5;241m==\u001b[39m \u001b[38;5;124m\"\u001b[39m\u001b[38;5;124mAcute Triangle\u001b[39m\u001b[38;5;124m\"\u001b[39m \u001b[38;5;129;01mor\u001b[39;00m concept \u001b[38;5;241m==\u001b[39m \u001b[38;5;124m\"\u001b[39m\u001b[38;5;124m둔각삼각형\u001b[39m\u001b[38;5;124m\"\u001b[39m \u001b[38;5;129;01mor\u001b[39;00m concept \u001b[38;5;241m==\u001b[39m \u001b[38;5;124m\"\u001b[39m\u001b[38;5;124mObtuse Triangle\u001b[39m\u001b[38;5;124m\"\u001b[39m:\n\u001b[1;32m     36\u001b[0m     code \u001b[38;5;241m=\u001b[39m gen_triangles_by_angles_prototype(concept)\n",
      "Cell \u001b[0;32mIn[12], line 46\u001b[0m, in \u001b[0;36mgen_isosceles_prototype\u001b[0;34m(variants, is_equilateral, svg_frame, stroke, stroke_width)\u001b[0m\n\u001b[1;32m     32\u001b[0m     svg_content \u001b[38;5;241m=\u001b[39m \u001b[38;5;124mf\u001b[39m\u001b[38;5;124m'''\u001b[39m\u001b[38;5;124m<svg width=\u001b[39m\u001b[38;5;124m\"\u001b[39m\u001b[38;5;132;01m{\u001b[39;00msvg_frame\u001b[38;5;132;01m}\u001b[39;00m\u001b[38;5;124m\"\u001b[39m\u001b[38;5;124m height=\u001b[39m\u001b[38;5;124m\"\u001b[39m\u001b[38;5;132;01m{\u001b[39;00msvg_frame\u001b[38;5;132;01m}\u001b[39;00m\u001b[38;5;124m\"\u001b[39m\u001b[38;5;124m xmlns=\u001b[39m\u001b[38;5;124m\"\u001b[39m\u001b[38;5;124mhttp://www.w3.org/2000/svg\u001b[39m\u001b[38;5;124m\"\u001b[39m\u001b[38;5;124m>\u001b[39m\n\u001b[1;32m     33\u001b[0m \u001b[38;5;124m    <text x=\u001b[39m\u001b[38;5;124m\"\u001b[39m\u001b[38;5;132;01m{\u001b[39;00msvg_frame\u001b[38;5;250m \u001b[39m\u001b[38;5;241m/\u001b[39m\u001b[38;5;241m/\u001b[39m\u001b[38;5;250m \u001b[39m\u001b[38;5;241m2\u001b[39m\u001b[38;5;132;01m}\u001b[39;00m\u001b[38;5;124m\"\u001b[39m\u001b[38;5;124m y=\u001b[39m\u001b[38;5;124m\"\u001b[39m\u001b[38;5;132;01m{\u001b[39;00msvg_frame\u001b[38;5;250m \u001b[39m\u001b[38;5;241m/\u001b[39m\u001b[38;5;241m/\u001b[39m\u001b[38;5;250m \u001b[39m\u001b[38;5;241m10\u001b[39m\u001b[38;5;132;01m}\u001b[39;00m\u001b[38;5;124m\"\u001b[39m\u001b[38;5;124m font-size=\u001b[39m\u001b[38;5;124m\"\u001b[39m\u001b[38;5;132;01m{\u001b[39;00msvg_frame\u001b[38;5;250m \u001b[39m\u001b[38;5;241m/\u001b[39m\u001b[38;5;241m/\u001b[39m\u001b[38;5;250m \u001b[39m\u001b[38;5;241m20\u001b[39m\u001b[38;5;132;01m}\u001b[39;00m\u001b[38;5;124m\"\u001b[39m\u001b[38;5;124m text-anchor=\u001b[39m\u001b[38;5;124m\"\u001b[39m\u001b[38;5;124mmiddle\u001b[39m\u001b[38;5;124m\"\u001b[39m\u001b[38;5;124m>정삼각형</text>\u001b[39m\n\u001b[1;32m     34\u001b[0m \u001b[38;5;124m    <!-- 정삼각형 -->\u001b[39m\n\u001b[0;32m   (...)\u001b[0m\n\u001b[1;32m     42\u001b[0m \u001b[38;5;124m    </svg>\u001b[39m\n\u001b[1;32m     43\u001b[0m \u001b[38;5;124m    \u001b[39m\u001b[38;5;124m'''\u001b[39m\n\u001b[1;32m     44\u001b[0m \u001b[38;5;28;01melse\u001b[39;00m:\n\u001b[1;32m     45\u001b[0m     \u001b[38;5;66;03m# 이등변삼각형\u001b[39;00m\n\u001b[0;32m---> 46\u001b[0m     rad \u001b[38;5;241m=\u001b[39m math\u001b[38;5;241m.\u001b[39mpi \u001b[38;5;241m/\u001b[39m \u001b[38;5;241m6\u001b[39m \u001b[38;5;28;01mif\u001b[39;00m (variants \u001b[38;5;129;01mis\u001b[39;00m \u001b[38;5;28;01mNone\u001b[39;00m) \u001b[38;5;129;01mor\u001b[39;00m (\u001b[38;5;124m\"\u001b[39m\u001b[38;5;124mangle\u001b[39m\u001b[38;5;124m\"\u001b[39m \u001b[38;5;129;01mnot\u001b[39;00m \u001b[38;5;129;01min\u001b[39;00m variants\u001b[38;5;241m.\u001b[39mkeys()) \u001b[38;5;129;01mor\u001b[39;00m (variants[\u001b[38;5;124m\"\u001b[39m\u001b[38;5;124mangle\u001b[39m\u001b[38;5;124m\"\u001b[39m] \u001b[38;5;129;01mis\u001b[39;00m \u001b[38;5;28;01mNone\u001b[39;00m) \u001b[38;5;129;01mor\u001b[39;00m (\u001b[43mvariants\u001b[49m\u001b[43m[\u001b[49m\u001b[38;5;124;43m\"\u001b[39;49m\u001b[38;5;124;43mangle\u001b[39;49m\u001b[38;5;124;43m\"\u001b[39;49m\u001b[43m]\u001b[49m\u001b[43m \u001b[49m\u001b[38;5;241;43m<\u001b[39;49m\u001b[38;5;241;43m=\u001b[39;49m\u001b[43m \u001b[49m\u001b[38;5;241;43m0\u001b[39;49m) \u001b[38;5;28;01melse\u001b[39;00m math\u001b[38;5;241m.\u001b[39mradians(\u001b[38;5;28mmin\u001b[39m(variants[\u001b[38;5;124m\"\u001b[39m\u001b[38;5;124mangle\u001b[39m\u001b[38;5;124m\"\u001b[39m], \u001b[38;5;241m178\u001b[39m))\n\u001b[1;32m     47\u001b[0m     lateral \u001b[38;5;241m=\u001b[39m svg_frame \u001b[38;5;241m/\u001b[39m\u001b[38;5;241m/\u001b[39m \u001b[38;5;241m2\u001b[39m \u001b[38;5;28;01mif\u001b[39;00m (variants \u001b[38;5;129;01mis\u001b[39;00m \u001b[38;5;28;01mNone\u001b[39;00m) \u001b[38;5;129;01mor\u001b[39;00m (\u001b[38;5;124m\"\u001b[39m\u001b[38;5;124mlength\u001b[39m\u001b[38;5;124m\"\u001b[39m \u001b[38;5;129;01mnot\u001b[39;00m \u001b[38;5;129;01min\u001b[39;00m variants\u001b[38;5;241m.\u001b[39mkeys()) \u001b[38;5;129;01mor\u001b[39;00m (variants[\u001b[38;5;124m\"\u001b[39m\u001b[38;5;124mlength\u001b[39m\u001b[38;5;124m\"\u001b[39m] \u001b[38;5;129;01mis\u001b[39;00m \u001b[38;5;28;01mNone\u001b[39;00m) \u001b[38;5;129;01mor\u001b[39;00m (variants[\u001b[38;5;124m\"\u001b[39m\u001b[38;5;124mlength\u001b[39m\u001b[38;5;124m\"\u001b[39m] \u001b[38;5;241m<\u001b[39m\u001b[38;5;241m=\u001b[39m \u001b[38;5;241m0\u001b[39m) \u001b[38;5;28;01melse\u001b[39;00m \u001b[38;5;28mmin\u001b[39m(variants[\u001b[38;5;124m\"\u001b[39m\u001b[38;5;124mlength\u001b[39m\u001b[38;5;124m\"\u001b[39m] \u001b[38;5;241m*\u001b[39m \u001b[38;5;241m75\u001b[39m, svg_frame \u001b[38;5;241m/\u001b[39m\u001b[38;5;241m/\u001b[39m \u001b[38;5;241m2\u001b[39m)\n\u001b[1;32m     48\u001b[0m     x0, y0 \u001b[38;5;241m=\u001b[39m svg_frame \u001b[38;5;241m/\u001b[39m\u001b[38;5;241m/\u001b[39m \u001b[38;5;241m2\u001b[39m, svg_frame \u001b[38;5;241m/\u001b[39m\u001b[38;5;241m/\u001b[39m \u001b[38;5;241m4\u001b[39m\n",
      "\u001b[0;31mTypeError\u001b[0m: '<=' not supported between instances of 'dict' and 'int'"
     ]
    }
   ],
   "source": [
    "# %%timeit -n 5 -r 6\n",
    "\n",
    "# 그래프 호출\n",
    "for i, user_input in enumerate(input_samples):\n",
    "    result = app.invoke({\"user_request\": user_input})\n",
    "\n",
    "    # 결과 출력\n",
    "    print(\"요청한 문장:\", result[\"user_request\"])\n",
    "    print(\"추출된 개념:\", result[\"math_concept\"])\n",
    "    print(\"추출된 인자:\", result[\"parameters\"])\n",
    "    print(\"\\n생성된 코드:\\n\", result[\"generated_code\"])\n",
    "    print(\"\\n생성된 설명:\\n\", result[\"comments\"])\n",
    "    if \"formulas\" in result.keys():\n",
    "        print(\"\\n생성된 공식 raw:\\n\", result[\"formulas\"])\n",
    "        show_formulas(result[\"formulas\"][\"perimeter\"])\n",
    "        show_formulas(result[\"formulas\"][\"area\"])\n",
    "    show_svg(result[\"generated_code\"])\n",
    "    print(\"=\" * 100)"
   ]
  }
 ],
 "metadata": {
  "kernelspec": {
   "display_name": "Python 3 (ipykernel)",
   "language": "python",
   "name": "python3"
  },
  "language_info": {
   "codemirror_mode": {
    "name": "ipython",
    "version": 3
   },
   "file_extension": ".py",
   "mimetype": "text/x-python",
   "name": "python",
   "nbconvert_exporter": "python",
   "pygments_lexer": "ipython3",
   "version": "3.10.12"
  }
 },
 "nbformat": 4,
 "nbformat_minor": 5
}
