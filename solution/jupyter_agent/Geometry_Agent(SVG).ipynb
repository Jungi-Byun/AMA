{
 "cells": [
  {
   "cell_type": "code",
   "execution_count": 1,
   "id": "56126aa2-e3ad-4c84-b952-0c65c9b229e7",
   "metadata": {},
   "outputs": [],
   "source": [
    "!pip install -q langchain langgraph transformers torch accelerate"
   ]
  },
  {
   "cell_type": "code",
   "execution_count": 2,
   "id": "db9e9f5f-d6da-4ccd-b561-dfbb59a8afe6",
   "metadata": {},
   "outputs": [
    {
     "name": "stderr",
     "output_type": "stream",
     "text": [
      "/home/jungi.byun/AMA/solution/jupyter_env/lib/python3.10/site-packages/tqdm/auto.py:21: TqdmWarning: IProgress not found. Please update jupyter and ipywidgets. See https://ipywidgets.readthedocs.io/en/stable/user_install.html\n",
      "  from .autonotebook import tqdm as notebook_tqdm\n",
      "2025-07-07 13:13:07.051104: I tensorflow/core/util/port.cc:153] oneDNN custom operations are on. You may see slightly different numerical results due to floating-point round-off errors from different computation orders. To turn them off, set the environment variable `TF_ENABLE_ONEDNN_OPTS=0`.\n",
      "2025-07-07 13:13:07.080471: E external/local_xla/xla/stream_executor/cuda/cuda_fft.cc:467] Unable to register cuFFT factory: Attempting to register factory for plugin cuFFT when one has already been registered\n",
      "WARNING: All log messages before absl::InitializeLog() is called are written to STDERR\n",
      "E0000 00:00:1751861587.115637  948233 cuda_dnn.cc:8579] Unable to register cuDNN factory: Attempting to register factory for plugin cuDNN when one has already been registered\n",
      "E0000 00:00:1751861587.126510  948233 cuda_blas.cc:1407] Unable to register cuBLAS factory: Attempting to register factory for plugin cuBLAS when one has already been registered\n",
      "W0000 00:00:1751861587.152418  948233 computation_placer.cc:177] computation placer already registered. Please check linkage and avoid linking the same target more than once.\n",
      "W0000 00:00:1751861587.152452  948233 computation_placer.cc:177] computation placer already registered. Please check linkage and avoid linking the same target more than once.\n",
      "W0000 00:00:1751861587.152454  948233 computation_placer.cc:177] computation placer already registered. Please check linkage and avoid linking the same target more than once.\n",
      "W0000 00:00:1751861587.152457  948233 computation_placer.cc:177] computation placer already registered. Please check linkage and avoid linking the same target more than once.\n",
      "2025-07-07 13:13:07.166297: I tensorflow/core/platform/cpu_feature_guard.cc:210] This TensorFlow binary is optimized to use available CPU instructions in performance-critical operations.\n",
      "To enable the following instructions: AVX2 AVX512F AVX512_VNNI FMA, in other operations, rebuild TensorFlow with the appropriate compiler flags.\n",
      "Loading checkpoint shards: 100%|███████████████████████████████████████████████████████████████████████████████████████████████████████████████████████████████████████████████████| 2/2 [00:00<00:00, 38.66it/s]\n"
     ]
    }
   ],
   "source": [
    "from transformers import AutoTokenizer, AutoModelForCausalLM\n",
    "\n",
    "model_name = \"LGAI-EXAONE/EXAONE-3.5-2.4B-Instruct\"\n",
    "\n",
    "tokenizer = AutoTokenizer.from_pretrained(model_name)\n",
    "model = AutoModelForCausalLM.from_pretrained(model_name, trust_remote_code=True).to(\"cuda\")"
   ]
  },
  {
   "cell_type": "code",
   "execution_count": 3,
   "id": "93e0dc6e-c822-4238-a026-69ca349e65ce",
   "metadata": {},
   "outputs": [],
   "source": [
    "from typing import TypedDict, Optional, Dict, Any\n",
    "from langgraph.graph import StateGraph, END\n",
    "\n",
    "class GeometryState(TypedDict):\n",
    "    user_request: str\n",
    "    math_concept: str = \"\"\n",
    "    generated_code: str = \"\""
   ]
  },
  {
   "cell_type": "code",
   "execution_count": 4,
   "id": "5fd19638-e3f0-444b-8268-e8ca5dd52cdf",
   "metadata": {},
   "outputs": [],
   "source": [
    "import json\n",
    "\n",
    "def extract_shape_node(state: GeometryState) -> GeometryState:\n",
    "    messages = [\n",
    "        {\n",
    "            \"role\": \"system\",\n",
    "            \"content\": \"\"\"\n",
    "                사용자가 제공하는 수학과 관련된 문장에서 어떠한 개념을 그려주면 사용자의 이해를 도울 수 있을지, JSON 형식으로 출력하세요.\n",
    "                아래 JSON의 schema에 맞게 하나만 출력하세요. 다른 설명은 절대 추가하지 마세요.\n",
    "                쉼표, 따옴표, 중괄호 등 문법을 엄격히 지키세요. 문제가 있어도 반드시 완전한 JSON으로만 출력하세요.\n",
    "                출력 형식 예시 (값은 사용자가 제공하는 수학과 관련된 문장에서 나온 개념을 사용해야 합니다):\n",
    "                {\n",
    "                    \"math_concept\": \"원\"\n",
    "                }\n",
    "                그릴 수 있는 개념은 다음과 같습니다. (사용자가 제공하는 수학과 관련된 문장에서 찾은 개념의 영단어와 문장을 영어로 번역한 것과 비교하여 찾아보세요)\n",
    "                    - 선분(Line Segment) 또는 반직선(Half Line) 또는 곧은선, 직선, 라인(Line, Straight Line)\n",
    "                    - 굽은선, 곡선, 커브(Curve)\n",
    "                    - 각 또는 각도(Angle)\n",
    "                    - 직각(Right Angle) 또는 수직(Perpendicular)\n",
    "                    - 직각삼각형(Right Triangle)\n",
    "                    - 직사각형(Rectangle)\n",
    "                    - 정사각형(Square)\n",
    "                    - 원(Circle)\n",
    "             \"\"\"\n",
    "        },\n",
    "        {\n",
    "            \"role\": \"user\",\n",
    "            \"content\": state[\"user_request\"]\n",
    "        }\n",
    "    ]\n",
    "    \n",
    "    input_ids = tokenizer.apply_chat_template(\n",
    "        messages,\n",
    "        tokenize=True,\n",
    "        add_generation_prompt=True,\n",
    "        return_tensors=\"pt\"\n",
    "    )\n",
    "\n",
    "    output = model.generate(\n",
    "        input_ids.to(\"cuda\"),\n",
    "        eos_token_id=tokenizer.eos_token_id,\n",
    "        max_new_tokens=128,\n",
    "        do_sample=False,\n",
    "    )\n",
    "\n",
    "    decoded = tokenizer.decode(output[0], skip_special_tokens=True)\n",
    "    \n",
    "    # 마크다운 제거 로직\n",
    "    decoded = decoded[decoded.find(\"```json\") + len(\"```json\"):decoded.rfind(\"```\")]\n",
    "    parsed = json.loads(decoded)\n",
    "\n",
    "    state[\"math_concept\"] = parsed[\"math_concept\"]\n",
    "\n",
    "    return state"
   ]
  },
  {
   "cell_type": "code",
   "execution_count": 5,
   "id": "1e954fe4-9fae-4e3b-9f70-2fd465108978",
   "metadata": {},
   "outputs": [],
   "source": [
    "def gen_lines_prototype(svg_frame=500, stroke=\"black\", stroke_width=2):\n",
    "    \"\"\"\n",
    "    곧은선(선분, 반직선, 직선)을 그립니다.\n",
    "    \"\"\"\n",
    "\n",
    "    x0, y0 = svg_frame // 4, svg_frame // 4\n",
    "    x1, y1 = svg_frame // 4, svg_frame // 2\n",
    "    x2, y2 = svg_frame // 4, (svg_frame * 3) // 4\n",
    "\n",
    "    distance = svg_frame // 2\n",
    "\n",
    "    svg_content = f'''<svg width=\"{svg_frame}\" height=\"{svg_frame}\" xmlns=\"http://www.w3.org/2000/svg\">\n",
    "    <text x=\"{svg_frame // 2}\" y=\"{svg_frame // 20}\" font-size=\"{svg_frame // 20}\" text-anchor=\"middle\">곧은선</text>\n",
    "    <text x=\"{svg_frame // 2}\" y=\"{(svg_frame * 3) // 20}\" font-size=\"{svg_frame // 20}\" text-anchor=\"middle\">선분</text>\n",
    "    <!-- 선분 -->\n",
    "    <circle cx=\"{x0}\" cy=\"{y0}\" r=\"1\" stroke=\"{stroke}\" stroke-width=\"{stroke_width}\" fill=\"black\" />\n",
    "    <circle cx=\"{x0 + distance}\" cy=\"{y0}\" r=\"1\" stroke=\"{stroke}\" stroke-width=\"{stroke_width}\" fill=\"black\" />\n",
    "    <line x1=\"{x0}\" y1=\"{y0}\" x2=\"{x0 + distance}\" y2=\"{y0}\" stroke=\"{stroke}\" stroke-width=\"{stroke_width}\" />\n",
    "    <!-- 반직선 -->\n",
    "    <text x=\"{svg_frame // 2}\" y=\"{(svg_frame * 7) // 20}\" font-size=\"{svg_frame // 20}\" text-anchor=\"middle\">반직선</text>\n",
    "    <circle cx=\"{x1}\" cy=\"{y1}\" r=\"1\" stroke=\"{stroke}\" stroke-width=\"{stroke_width}\" fill=\"black\" />\n",
    "    <circle cx=\"{x1 + distance}\" cy=\"{y1}\" r=\"1\" stroke=\"{stroke}\" stroke-width=\"{stroke_width}\" fill=\"black\" />\n",
    "    <line x1=\"{x1}\" y1=\"{y1}\" x2=\"{svg_frame}\" y2=\"{y1}\" stroke=\"{stroke}\" stroke-width=\"{stroke_width}\" />\n",
    "    <!-- 직선 -->\n",
    "    <text x=\"{svg_frame // 2}\" y=\"{(svg_frame * 3) // 5}\" font-size=\"{svg_frame // 20}\" text-anchor=\"middle\">직선</text>\n",
    "    <circle cx=\"{x2}\" cy=\"{y2}\" r=\"1\" stroke=\"{stroke}\" stroke-width=\"{stroke_width}\" fill=\"black\" />\n",
    "    <circle cx=\"{x2 + distance}\" cy=\"{y2}\" r=\"1\" stroke=\"{stroke}\" stroke-width=\"{stroke_width}\" fill=\"black\" />\n",
    "    <line x1=\"0\" y1=\"{y2}\" x2=\"{svg_frame}\" y2=\"{y2}\" stroke=\"{stroke}\" stroke-width=\"{stroke_width}\" />\n",
    "    </svg>\n",
    "    '''\n",
    "    \n",
    "    return svg_content"
   ]
  },
  {
   "cell_type": "code",
   "execution_count": 6,
   "id": "ecc06698-ae04-4170-9cc3-75b673321dec",
   "metadata": {},
   "outputs": [],
   "source": [
    "import math\n",
    "\n",
    "def gen_curves_prototype(svg_frame=500, stroke=\"black\", stroke_width=2):\n",
    "    \"\"\"\n",
    "    굽은선(곡선)을 그립니다    \n",
    "    \"\"\"\n",
    "    \n",
    "    svg_content = f'''\n",
    "    <svg width=\"{svg_frame}\" height=\"{svg_frame}\" xmlns=\"http://www.w3.org/2000/svg\">\n",
    "    <text x=\"{svg_frame // 2}\" y=\"{svg_frame // 10}\" font-size=\"{svg_frame // 20}\" text-anchor=\"middle\">굽은선</text>\n",
    "    <!-- 복잡한 S자 곡선 (두 개의 Cubic Bézier) -->\n",
    "    <path d=\"M {svg_frame // 5},{(svg_frame * 4) // 5}\n",
    "    C {svg_frame // 5},{svg_frame // 5} {(svg_frame * 4) // 5},{svg_frame // 5} {(svg_frame * 4) // 5},{svg_frame // 2}\n",
    "    C {(svg_frame * 4) // 5},{(svg_frame * 4) // 5} {svg_frame // 5},{(svg_frame * 4) // 5} {svg_frame // 5},{svg_frame // 5}\"\n",
    "    stroke=\"{stroke}\" fill=\"none\" stroke-width=\"{stroke_width}\"/>\n",
    "    </svg>\n",
    "    '''\n",
    "    return svg_content"
   ]
  },
  {
   "cell_type": "code",
   "execution_count": 7,
   "id": "9b1f0da9-7e46-4613-9b14-5c92a3cbc04b",
   "metadata": {},
   "outputs": [],
   "source": [
    "def gen_circle_prototype(svg_frame=500, stroke=\"black\", stroke_width=2, fill=\"none\"):\n",
    "    \"\"\"\n",
    "    SVG 파일로 원을 생성합니다.\n",
    "    \n",
    "    Parameters:\n",
    "        cx (int): 원의 중심 X좌표\n",
    "        cy (int): 원의 중심 Y좌표\n",
    "        r (int): 반지름\n",
    "        stroke (str): 선 색상\n",
    "        stroke_width (int): 선 두께\n",
    "        fill (str): 내부 색상\n",
    "        svg_width (int): SVG 전체 너비\n",
    "        svg_height (int): SVG 전체 높이\n",
    "    \"\"\"\n",
    "\n",
    "    cx = svg_frame // 2\n",
    "    cy = cx\n",
    "    r = svg_frame // 3\n",
    "    \n",
    "    svg_content = f'''<svg width=\"{svg_frame}\" height=\"{svg_frame}\" xmlns=\"http://www.w3.org/2000/svg\">\n",
    "    <text x=\"{svg_frame // 2}\" y=\"{svg_frame // 10}\" font-size=\"{svg_frame // 20}\" text-anchor=\"middle\">원</text>\n",
    "    <circle cx=\"{cx}\" cy=\"{cy}\" r=\"{r}\" stroke=\"{stroke}\" stroke-width=\"{stroke_width}\" fill=\"{fill}\" />\n",
    "    <circle cx=\"{cx}\" cy=\"{cy}\" r=\"1\" stroke=\"{stroke}\" stroke-width=\"{stroke_width}\" fill=\"black\" />\n",
    "    </svg>\n",
    "    '''\n",
    "\n",
    "    return svg_content"
   ]
  },
  {
   "cell_type": "code",
   "execution_count": 8,
   "id": "d1b3356c-a7e7-4171-91c1-1e763d47e342",
   "metadata": {},
   "outputs": [],
   "source": [
    "def gen_rectangle_prototype(is_square=False, svg_frame=500, stroke=\"black\", stroke_width=2, fill=\"none\"):\n",
    "    \"\"\"\n",
    "    SVG 직사각형을 그리는 코드 문자열을 생성합니다.\n",
    "\n",
    "    Parameters:\n",
    "        x (int): 왼쪽 위 꼭짓점 X좌표\n",
    "        y (int): 왼쪽 위 꼭짓점 Y좌표\n",
    "        width (int): 직사각형 가로 길이\n",
    "        height (int): 직사각형 세로 길이\n",
    "        stroke (str): 테두리 색상\n",
    "        stroke_width (int): 테두리 두께\n",
    "        fill (str): 내부 색상\n",
    "        svg_width (int): SVG 전체 폭\n",
    "        svg_height (int): SVG 전체 높이\n",
    "\n",
    "    Returns:\n",
    "        str: SVG 코드 문자열\n",
    "    \"\"\"\n",
    "\n",
    "    x = svg_frame // 5\n",
    "    y = svg_frame // 5\n",
    "    if is_square:\n",
    "        width = (svg_frame * 3) // 5\n",
    "        height = width\n",
    "        svg_height = svg_frame\n",
    "        name = \"정사각형\"\n",
    "    else:\n",
    "        width = (svg_frame * 3) // 5\n",
    "        height = width // 2\n",
    "        svg_height = (svg_frame * 7) // 10\n",
    "        name = \"직사각형\"\n",
    "\n",
    "    # svg_width = x + width + x, svg_height = y + height + y\n",
    "    svg_content = f'''<svg width=\"{svg_frame}\" height=\"{svg_height}\" xmlns=\"http://www.w3.org/2000/svg\">\n",
    "    <text x=\"{svg_frame // 2}\" y=\"{svg_frame // 10}\" font-size=\"{svg_frame // 20}\" text-anchor=\"middle\">{name}</text>\n",
    "    <rect x=\"{x}\" y=\"{y}\" width=\"{width}\" height=\"{height}\" stroke=\"{stroke}\" stroke-width=\"{stroke_width}\" fill=\"{fill}\" />\n",
    "    </svg>'''\n",
    "    return svg_content"
   ]
  },
  {
   "cell_type": "code",
   "execution_count": 9,
   "id": "b44b7ceb-bef7-408a-8401-f4e9a47f4486",
   "metadata": {},
   "outputs": [],
   "source": [
    "import math\n",
    "\n",
    "def gen_angle_prototype(angle_deg=60, svg_frame=500, stroke=\"black\", stroke_width=2, arc_color=\"black\"):\n",
    "    \"\"\"\n",
    "    기준선과 기울어진 선 + 각도를 나타내는 호를 그립니다.\n",
    "    \"\"\"\n",
    "    # 기준점\n",
    "    x0, y0 = svg_frame // 4, (svg_frame * 2) // 3\n",
    "\n",
    "    # 기준선 끝점 (수평)\n",
    "    line_length = svg_frame // 2\n",
    "    x1 = x0 + line_length\n",
    "    y1 = y0\n",
    "\n",
    "    # 기울어진 선 끝점\n",
    "    rad = math.radians(angle_deg)\n",
    "    x2 = x0 + line_length * math.cos(-rad)\n",
    "    y2 = y0 + line_length * math.sin(-rad)\n",
    "\n",
    "    # 호의 시작점 (반지름만큼 떨어진 점)\n",
    "    arc_radius = svg_frame // 10\n",
    "    arc_start_x = x0 + arc_radius * math.cos(-rad)\n",
    "    arc_start_y = y0 + arc_radius * math.sin(-rad)\n",
    "\n",
    "    # 호의 끝점 (반지름과 각도로 계산)\n",
    "    arc_end_x = x0 + arc_radius\n",
    "    arc_end_y = y0\n",
    "\n",
    "    # SVG 내용\n",
    "    svg_content = f'''<svg width=\"{svg_frame}\" height=\"{(svg_frame * 3) // 4}\" xmlns=\"http://www.w3.org/2000/svg\">\n",
    "    <text x=\"{svg_frame // 2}\" y=\"{svg_frame // 10}\" font-size=\"{svg_frame // 20}\" text-anchor=\"middle\">각</text>\n",
    "    <!-- 기준선 -->\n",
    "    <line x1=\"{x0}\" y1=\"{y0}\" x2=\"{x1}\" y2=\"{y1}\" stroke=\"{stroke}\" stroke-width=\"{stroke_width}\" />\n",
    "    <!-- 기울어진 선 -->\n",
    "    <line x1=\"{x0}\" y1=\"{y0}\" x2=\"{x2}\" y2=\"{y2}\" stroke=\"{stroke}\" stroke-width=\"{stroke_width}\" />\n",
    "    <!-- 각도 호 -->\n",
    "    <path d=\"M {arc_start_x},{arc_start_y} A {arc_radius},{arc_radius} 0 0,1 {arc_end_x},{arc_end_y}\" stroke=\"{arc_color}\" stroke-width=\"{stroke_width}\" fill=\"none\"/>\n",
    "    </svg>\n",
    "    '''\n",
    "\n",
    "    return svg_content"
   ]
  },
  {
   "cell_type": "code",
   "execution_count": 10,
   "id": "e2035951-7cde-4ac3-92d5-2965b21f573d",
   "metadata": {},
   "outputs": [],
   "source": [
    "def gen_right_angle_prototype(svg_frame=500, stroke=\"black\", stroke_width=2):\n",
    "    \"\"\"\n",
    "    직각과 직각을 나타내는 보조선을 그립니다\n",
    "    \"\"\"\n",
    "    # 기준점\n",
    "    x0, y0 = svg_frame // 4, (svg_frame * 4) // 5\n",
    "\n",
    "    # 기준선 끝점 (수평)\n",
    "    line_length = (svg_frame * 2) // 3\n",
    "    x1 = x0 + line_length\n",
    "    y1 = y0\n",
    "\n",
    "    # 기울어진 선 끝점\n",
    "    x2 = x0\n",
    "    y2 = y0 - line_length\n",
    "\n",
    "    # 직각 보조선\n",
    "    epsilon = svg_frame // 10\n",
    "\n",
    "    h1 = x0 + epsilon\n",
    "    h2 = y0 - epsilon\n",
    "\n",
    "    # SVG 내용\n",
    "    svg_content = f'''<svg width=\"{svg_frame}\" height=\"{svg_frame}\" xmlns=\"http://www.w3.org/2000/svg\">\n",
    "    <text x=\"{svg_frame // 2}\" y=\"{svg_frame // 10}\" font-size=\"{svg_frame // 20}\" text-anchor=\"middle\">직각</text>\n",
    "    <!-- 기준선 -->\n",
    "    <line x1=\"{x0}\" y1=\"{y0}\" x2=\"{x1}\" y2=\"{y1}\" stroke=\"{stroke}\" stroke-width=\"{stroke_width}\" />\n",
    "    <!-- 기울어진 선 -->\n",
    "    <line x1=\"{x0}\" y1=\"{y0}\" x2=\"{x2}\" y2=\"{y2}\" stroke=\"{stroke}\" stroke-width=\"{stroke_width}\" />\n",
    "    <!-- 직각 보조선 -->\n",
    "    <line x1=\"{h1}\" y1=\"{y0}\" x2=\"{h1}\" y2=\"{h2}\" stroke=\"{stroke}\" stroke-width=\"{stroke_width}\" />\n",
    "    <line x1=\"{x0}\" y1=\"{h2}\" x2=\"{h1}\" y2=\"{h2}\" stroke=\"{stroke}\" stroke-width=\"{stroke_width}\" />\n",
    "    </svg>\n",
    "    '''\n",
    "    \n",
    "    return svg_content"
   ]
  },
  {
   "cell_type": "code",
   "execution_count": 11,
   "id": "7d4b359d-562a-49df-8ed3-e3a1f4348d55",
   "metadata": {},
   "outputs": [],
   "source": [
    "def gen_right_triangle_prototype(svg_frame=500, stroke=\"black\", stroke_width=2):\n",
    "    \"\"\"\n",
    "    직각삼각형을 그립니다\n",
    "    \"\"\"\n",
    "    # 기준점\n",
    "    x0, y0 = svg_frame // 6, (svg_frame * 5) // 6\n",
    "    x1, y1 = (svg_frame * 5) // 6, y0\n",
    "    x2, y2 = x1, svg_frame // 3\n",
    "\n",
    "    epsilon = svg_frame // 10\n",
    "\n",
    "    h1 = x1 - epsilon\n",
    "    h2 = y1 - epsilon\n",
    "    \n",
    "    # SVG 내용\n",
    "    svg_content = f'''<svg width=\"{svg_frame}\" height=\"{svg_frame}\" xmlns=\"http://www.w3.org/2000/svg\">\n",
    "    <text x=\"{svg_frame // 2}\" y=\"{svg_frame // 10}\" font-size=\"{svg_frame // 20}\" text-anchor=\"middle\">직각삼각형</text>\n",
    "    <!-- 직각삼각형 -->\n",
    "    <line x1=\"{x0}\" y1=\"{y0}\" x2=\"{x1}\" y2=\"{y1}\" stroke=\"{stroke}\" stroke-width=\"{stroke_width}\" />\n",
    "    <line x1=\"{x1}\" y1=\"{y1}\" x2=\"{x2}\" y2=\"{y2}\" stroke=\"{stroke}\" stroke-width=\"{stroke_width}\" />\n",
    "    <line x1=\"{x0}\" y1=\"{y0}\" x2=\"{x2}\" y2=\"{y2}\" stroke=\"{stroke}\" stroke-width=\"{stroke_width}\" />\n",
    "    <!-- 직각 보조선 -->\n",
    "    <line x1=\"{h1}\" y1=\"{y1}\" x2=\"{h1}\" y2=\"{h2}\" stroke=\"{stroke}\" stroke-width=\"{stroke_width}\" />\n",
    "    <line x1=\"{h1}\" y1=\"{h2}\" x2=\"{x1}\" y2=\"{h2}\" stroke=\"{stroke}\" stroke-width=\"{stroke_width}\" />\n",
    "    </svg>\n",
    "    '''\n",
    "    return svg_content"
   ]
  },
  {
   "cell_type": "code",
   "execution_count": 12,
   "id": "f3155185-b773-43d2-87ed-5363f16b2754",
   "metadata": {},
   "outputs": [],
   "source": [
    "def generate_code_node(state: GeometryState) -> GeometryState:\n",
    "    concept = state[\"math_concept\"]\n",
    "\n",
    "    if concept == \"원\" or concept == \"Circle\":\n",
    "        code = gen_circle_prototype()\n",
    "    elif concept == \"선분\" or concept == \"반직선\" or concept == \"직선\" or concept == \"곧은선\" or concept == \"Line\":\n",
    "        code = gen_lines_prototype()\n",
    "    elif concept == \"곡선\" or concept == \"굽은선\" or concept == \"Curve\":\n",
    "        code = gen_curves_prototype()\n",
    "    elif concept == \"각\" or concept == \"각도\" or concept == \"Angle\":\n",
    "        code = gen_angle_prototype()\n",
    "    elif concept == \"직각\" or concept == \"Right Angle\":\n",
    "        code = gen_right_angle_prototype()\n",
    "    elif concept == \"직각삼각형\" or concept == \"Right Triangle\":\n",
    "        code = gen_right_triangle_prototype()\n",
    "    elif concept == \"직사각형\" or concept == \"Rectangle\" :\n",
    "        code = gen_rectangle_prototype()\n",
    "    elif concept == \"정사각형\" or concept == \"Square\":\n",
    "        code = gen_rectangle_prototype(True)\n",
    "    else:\n",
    "        code = f\"# '{concept}'을 그리는 코드는 아직 구현되지 않았습니다.\"\n",
    "\n",
    "    return {**state, \"generated_code\": code}"
   ]
  },
  {
   "cell_type": "code",
   "execution_count": 13,
   "id": "458f97ba-b654-4475-bcfb-d5eb555adb6e",
   "metadata": {},
   "outputs": [
    {
     "data": {
      "image/png": "[encoded data removed]",
      "text/plain": [
       "<langgraph.graph.state.CompiledStateGraph object at 0x7ff78ca5eda0>"
      ]
     },
     "execution_count": 13,
     "metadata": {},
     "output_type": "execute_result"
    }
   ],
   "source": [
    "# LangGraph StateGraph 생성\n",
    "geometry_agent = StateGraph(GeometryState)\n",
    "\n",
    "# 노드 등록\n",
    "geometry_agent.add_node(\"extract_shape\", extract_shape_node)\n",
    "geometry_agent.add_node(\"generate_code\", generate_code_node)\n",
    "\n",
    "# 엣지 연결\n",
    "geometry_agent.set_entry_point(\"extract_shape\")\n",
    "geometry_agent.add_edge(\"extract_shape\", \"generate_code\")\n",
    "geometry_agent.add_edge(\"generate_code\", END)\n",
    "\n",
    "# 그래프 완성\n",
    "app = geometry_agent.compile()\n",
    "app"
   ]
  },
  {
   "cell_type": "code",
   "execution_count": 14,
   "id": "2ec9779a-d022-47e1-b135-c734fd8d8794",
   "metadata": {},
   "outputs": [],
   "source": [
    "from IPython.display import SVG, display\n",
    "\n",
    "def show_svg(svg_content):\n",
    "    display(SVG(svg_content))"
   ]
  },
  {
   "cell_type": "code",
   "execution_count": 15,
   "id": "00d8ca65-5075-4d4d-86f2-e9586500dffb",
   "metadata": {},
   "outputs": [
    {
     "name": "stdout",
     "output_type": "stream",
     "text": [
      "요청한 문장: 곧은선이 뭐야?\n",
      "추출된 개념: 직선\n",
      "\n",
      "생성된 코드:\n",
      " <svg width=\"500\" height=\"500\" xmlns=\"http://www.w3.org/2000/svg\">\n",
      "    <text x=\"250\" y=\"25\" font-size=\"25\" text-anchor=\"middle\">곧은선</text>\n",
      "    <text x=\"250\" y=\"75\" font-size=\"25\" text-anchor=\"middle\">선분</text>\n",
      "    <!-- 선분 -->\n",
      "    <circle cx=\"125\" cy=\"125\" r=\"1\" stroke=\"black\" stroke-width=\"2\" fill=\"black\" />\n",
      "    <circle cx=\"375\" cy=\"125\" r=\"1\" stroke=\"black\" stroke-width=\"2\" fill=\"black\" />\n",
      "    <line x1=\"125\" y1=\"125\" x2=\"375\" y2=\"125\" stroke=\"black\" stroke-width=\"2\" />\n",
      "    <!-- 반직선 -->\n",
      "    <text x=\"250\" y=\"175\" font-size=\"25\" text-anchor=\"middle\">반직선</text>\n",
      "    <circle cx=\"125\" cy=\"250\" r=\"1\" stroke=\"black\" stroke-width=\"2\" fill=\"black\" />\n",
      "    <circle cx=\"375\" cy=\"250\" r=\"1\" stroke=\"black\" stroke-width=\"2\" fill=\"black\" />\n",
      "    <line x1=\"125\" y1=\"250\" x2=\"500\" y2=\"250\" stroke=\"black\" stroke-width=\"2\" />\n",
      "    <!-- 직선 -->\n",
      "    <text x=\"250\" y=\"300\" font-size=\"25\" text-anchor=\"middle\">직선</text>\n",
      "    <circle cx=\"125\" cy=\"375\" r=\"1\" stroke=\"black\" stroke-width=\"2\" fill=\"black\" />\n",
      "    <circle cx=\"375\" cy=\"375\" r=\"1\" stroke=\"black\" stroke-width=\"2\" fill=\"black\" />\n",
      "    <line x1=\"0\" y1=\"375\" x2=\"500\" y2=\"375\" stroke=\"black\" stroke-width=\"2\" />\n",
      "    </svg>\n",
      "    \n"
     ]
    },
    {
     "data": {
      "image/svg+xml": [
       "<svg xmlns=\"http://www.w3.org/2000/svg\" width=\"500\" height=\"500\">\n",
       "    <text x=\"250\" y=\"25\" font-size=\"25\" text-anchor=\"middle\">곧은선</text>\n",
       "    <text x=\"250\" y=\"75\" font-size=\"25\" text-anchor=\"middle\">선분</text>\n",
       "    <!-- 선분 -->\n",
       "    <circle cx=\"125\" cy=\"125\" r=\"1\" stroke=\"black\" stroke-width=\"2\" fill=\"black\"/>\n",
       "    <circle cx=\"375\" cy=\"125\" r=\"1\" stroke=\"black\" stroke-width=\"2\" fill=\"black\"/>\n",
       "    <line x1=\"125\" y1=\"125\" x2=\"375\" y2=\"125\" stroke=\"black\" stroke-width=\"2\"/>\n",
       "    <!-- 반직선 -->\n",
       "    <text x=\"250\" y=\"175\" font-size=\"25\" text-anchor=\"middle\">반직선</text>\n",
       "    <circle cx=\"125\" cy=\"250\" r=\"1\" stroke=\"black\" stroke-width=\"2\" fill=\"black\"/>\n",
       "    <circle cx=\"375\" cy=\"250\" r=\"1\" stroke=\"black\" stroke-width=\"2\" fill=\"black\"/>\n",
       "    <line x1=\"125\" y1=\"250\" x2=\"500\" y2=\"250\" stroke=\"black\" stroke-width=\"2\"/>\n",
       "    <!-- 직선 -->\n",
       "    <text x=\"250\" y=\"300\" font-size=\"25\" text-anchor=\"middle\">직선</text>\n",
       "    <circle cx=\"125\" cy=\"375\" r=\"1\" stroke=\"black\" stroke-width=\"2\" fill=\"black\"/>\n",
       "    <circle cx=\"375\" cy=\"375\" r=\"1\" stroke=\"black\" stroke-width=\"2\" fill=\"black\"/>\n",
       "    <line x1=\"0\" y1=\"375\" x2=\"500\" y2=\"375\" stroke=\"black\" stroke-width=\"2\"/>\n",
       "    </svg>"
      ],
      "text/plain": [
       "<IPython.core.display.SVG object>"
      ]
     },
     "metadata": {},
     "output_type": "display_data"
    },
    {
     "name": "stdout",
     "output_type": "stream",
     "text": [
      "====================================================================================================\n",
      "요청한 문장: 대표적인 굽은선을 그려줘\n",
      "추출된 개념: 곡선\n",
      "\n",
      "생성된 코드:\n",
      " \n",
      "    <svg width=\"500\" height=\"500\" xmlns=\"http://www.w3.org/2000/svg\">\n",
      "    <text x=\"250\" y=\"50\" font-size=\"25\" text-anchor=\"middle\">굽은선</text>\n",
      "    <!-- 복잡한 S자 곡선 (두 개의 Cubic Bézier) -->\n",
      "    <path d=\"M 100,400\n",
      "    C 100,100 400,100 400,250\n",
      "    C 400,400 100,400 100,100\"\n",
      "    stroke=\"black\" fill=\"none\" stroke-width=\"2\"/>\n",
      "    </svg>\n",
      "    \n"
     ]
    },
    {
     "data": {
      "image/svg+xml": [
       "<svg xmlns=\"http://www.w3.org/2000/svg\" width=\"500\" height=\"500\">\n",
       "    <text x=\"250\" y=\"50\" font-size=\"25\" text-anchor=\"middle\">굽은선</text>\n",
       "    <!-- 복잡한 S자 곡선 (두 개의 Cubic Bézier) -->\n",
       "    <path d=\"M 100,400     C 100,100 400,100 400,250     C 400,400 100,400 100,100\" stroke=\"black\" fill=\"none\" stroke-width=\"2\"/>\n",
       "    </svg>"
      ],
      "text/plain": [
       "<IPython.core.display.SVG object>"
      ]
     },
     "metadata": {},
     "output_type": "display_data"
    },
    {
     "name": "stdout",
     "output_type": "stream",
     "text": [
      "====================================================================================================\n",
      "요청한 문장: 중심이 (0,0)이고 반지름이 2인 원을 그려주세요.\n",
      "추출된 개념: Circle\n",
      "\n",
      "생성된 코드:\n",
      " <svg width=\"500\" height=\"500\" xmlns=\"http://www.w3.org/2000/svg\">\n",
      "    <text x=\"250\" y=\"50\" font-size=\"25\" text-anchor=\"middle\">원</text>\n",
      "    <circle cx=\"250\" cy=\"250\" r=\"166\" stroke=\"black\" stroke-width=\"2\" fill=\"none\" />\n",
      "    <circle cx=\"250\" cy=\"250\" r=\"1\" stroke=\"black\" stroke-width=\"2\" fill=\"black\" />\n",
      "    </svg>\n",
      "    \n"
     ]
    },
    {
     "data": {
      "image/svg+xml": [
       "<svg xmlns=\"http://www.w3.org/2000/svg\" width=\"500\" height=\"500\">\n",
       "    <text x=\"250\" y=\"50\" font-size=\"25\" text-anchor=\"middle\">원</text>\n",
       "    <circle cx=\"250\" cy=\"250\" r=\"166\" stroke=\"black\" stroke-width=\"2\" fill=\"none\"/>\n",
       "    <circle cx=\"250\" cy=\"250\" r=\"1\" stroke=\"black\" stroke-width=\"2\" fill=\"black\"/>\n",
       "    </svg>"
      ],
      "text/plain": [
       "<IPython.core.display.SVG object>"
      ]
     },
     "metadata": {},
     "output_type": "display_data"
    },
    {
     "name": "stdout",
     "output_type": "stream",
     "text": [
      "====================================================================================================\n",
      "요청한 문장: 임의의 각도를 그려줘\n",
      "추출된 개념: 각도\n",
      "\n",
      "생성된 코드:\n",
      " <svg width=\"500\" height=\"375\" xmlns=\"http://www.w3.org/2000/svg\">\n",
      "    <text x=\"250\" y=\"50\" font-size=\"25\" text-anchor=\"middle\">각</text>\n",
      "    <!-- 기준선 -->\n",
      "    <line x1=\"125\" y1=\"333\" x2=\"375\" y2=\"333\" stroke=\"black\" stroke-width=\"2\" />\n",
      "    <!-- 기울어진 선 -->\n",
      "    <line x1=\"125\" y1=\"333\" x2=\"250.00000000000003\" y2=\"116.49364905389035\" stroke=\"black\" stroke-width=\"2\" />\n",
      "    <!-- 각도 호 -->\n",
      "    <path d=\"M 150.0,289.69872981077805 A 50,50 0 0,1 175,333\" stroke=\"black\" stroke-width=\"2\" fill=\"none\"/>\n",
      "    </svg>\n",
      "    \n"
     ]
    },
    {
     "data": {
      "image/svg+xml": [
       "<svg xmlns=\"http://www.w3.org/2000/svg\" width=\"500\" height=\"375\">\n",
       "    <text x=\"250\" y=\"50\" font-size=\"25\" text-anchor=\"middle\">각</text>\n",
       "    <!-- 기준선 -->\n",
       "    <line x1=\"125\" y1=\"333\" x2=\"375\" y2=\"333\" stroke=\"black\" stroke-width=\"2\"/>\n",
       "    <!-- 기울어진 선 -->\n",
       "    <line x1=\"125\" y1=\"333\" x2=\"250.00000000000003\" y2=\"116.49364905389035\" stroke=\"black\" stroke-width=\"2\"/>\n",
       "    <!-- 각도 호 -->\n",
       "    <path d=\"M 150.0,289.69872981077805 A 50,50 0 0,1 175,333\" stroke=\"black\" stroke-width=\"2\" fill=\"none\"/>\n",
       "    </svg>"
      ],
      "text/plain": [
       "<IPython.core.display.SVG object>"
      ]
     },
     "metadata": {},
     "output_type": "display_data"
    },
    {
     "name": "stdout",
     "output_type": "stream",
     "text": [
      "====================================================================================================\n",
      "요청한 문장: 직각을 표현해줘\n",
      "추출된 개념: 직각\n",
      "\n",
      "생성된 코드:\n",
      " <svg width=\"500\" height=\"500\" xmlns=\"http://www.w3.org/2000/svg\">\n",
      "    <text x=\"250\" y=\"50\" font-size=\"25\" text-anchor=\"middle\">직각</text>\n",
      "    <!-- 기준선 -->\n",
      "    <line x1=\"125\" y1=\"400\" x2=\"458\" y2=\"400\" stroke=\"black\" stroke-width=\"2\" />\n",
      "    <!-- 기울어진 선 -->\n",
      "    <line x1=\"125\" y1=\"400\" x2=\"125\" y2=\"67\" stroke=\"black\" stroke-width=\"2\" />\n",
      "    <!-- 직각 보조선 -->\n",
      "    <line x1=\"175\" y1=\"400\" x2=\"175\" y2=\"350\" stroke=\"black\" stroke-width=\"2\" />\n",
      "    <line x1=\"125\" y1=\"350\" x2=\"175\" y2=\"350\" stroke=\"black\" stroke-width=\"2\" />\n",
      "    </svg>\n",
      "    \n"
     ]
    },
    {
     "data": {
      "image/svg+xml": [
       "<svg xmlns=\"http://www.w3.org/2000/svg\" width=\"500\" height=\"500\">\n",
       "    <text x=\"250\" y=\"50\" font-size=\"25\" text-anchor=\"middle\">직각</text>\n",
       "    <!-- 기준선 -->\n",
       "    <line x1=\"125\" y1=\"400\" x2=\"458\" y2=\"400\" stroke=\"black\" stroke-width=\"2\"/>\n",
       "    <!-- 기울어진 선 -->\n",
       "    <line x1=\"125\" y1=\"400\" x2=\"125\" y2=\"67\" stroke=\"black\" stroke-width=\"2\"/>\n",
       "    <!-- 직각 보조선 -->\n",
       "    <line x1=\"175\" y1=\"400\" x2=\"175\" y2=\"350\" stroke=\"black\" stroke-width=\"2\"/>\n",
       "    <line x1=\"125\" y1=\"350\" x2=\"175\" y2=\"350\" stroke=\"black\" stroke-width=\"2\"/>\n",
       "    </svg>"
      ],
      "text/plain": [
       "<IPython.core.display.SVG object>"
      ]
     },
     "metadata": {},
     "output_type": "display_data"
    },
    {
     "name": "stdout",
     "output_type": "stream",
     "text": [
      "====================================================================================================\n",
      "요청한 문장: 피타고라스 정리를 위해 직각삼각형 하나를 그려줘\n",
      "추출된 개념: Right Triangle\n",
      "\n",
      "생성된 코드:\n",
      " <svg width=\"500\" height=\"500\" xmlns=\"http://www.w3.org/2000/svg\">\n",
      "    <text x=\"250\" y=\"50\" font-size=\"25\" text-anchor=\"middle\">직각삼각형</text>\n",
      "    <!-- 직각삼각형 -->\n",
      "    <line x1=\"83\" y1=\"416\" x2=\"416\" y2=\"416\" stroke=\"black\" stroke-width=\"2\" />\n",
      "    <line x1=\"416\" y1=\"416\" x2=\"416\" y2=\"166\" stroke=\"black\" stroke-width=\"2\" />\n",
      "    <line x1=\"83\" y1=\"416\" x2=\"416\" y2=\"166\" stroke=\"black\" stroke-width=\"2\" />\n",
      "    <!-- 직각 보조선 -->\n",
      "    <line x1=\"366\" y1=\"416\" x2=\"366\" y2=\"366\" stroke=\"black\" stroke-width=\"2\" />\n",
      "    <line x1=\"366\" y1=\"366\" x2=\"416\" y2=\"366\" stroke=\"black\" stroke-width=\"2\" />\n",
      "    </svg>\n",
      "    \n"
     ]
    },
    {
     "data": {
      "image/svg+xml": [
       "<svg xmlns=\"http://www.w3.org/2000/svg\" width=\"500\" height=\"500\">\n",
       "    <text x=\"250\" y=\"50\" font-size=\"25\" text-anchor=\"middle\">직각삼각형</text>\n",
       "    <!-- 직각삼각형 -->\n",
       "    <line x1=\"83\" y1=\"416\" x2=\"416\" y2=\"416\" stroke=\"black\" stroke-width=\"2\"/>\n",
       "    <line x1=\"416\" y1=\"416\" x2=\"416\" y2=\"166\" stroke=\"black\" stroke-width=\"2\"/>\n",
       "    <line x1=\"83\" y1=\"416\" x2=\"416\" y2=\"166\" stroke=\"black\" stroke-width=\"2\"/>\n",
       "    <!-- 직각 보조선 -->\n",
       "    <line x1=\"366\" y1=\"416\" x2=\"366\" y2=\"366\" stroke=\"black\" stroke-width=\"2\"/>\n",
       "    <line x1=\"366\" y1=\"366\" x2=\"416\" y2=\"366\" stroke=\"black\" stroke-width=\"2\"/>\n",
       "    </svg>"
      ],
      "text/plain": [
       "<IPython.core.display.SVG object>"
      ]
     },
     "metadata": {},
     "output_type": "display_data"
    },
    {
     "name": "stdout",
     "output_type": "stream",
     "text": [
      "====================================================================================================\n",
      "요청한 문장: 직사각형의 넓이\n",
      "추출된 개념: Rectangle\n",
      "\n",
      "생성된 코드:\n",
      " <svg width=\"500\" height=\"350\" xmlns=\"http://www.w3.org/2000/svg\">\n",
      "    <text x=\"250\" y=\"50\" font-size=\"25\" text-anchor=\"middle\">직사각형</text>\n",
      "    <rect x=\"100\" y=\"100\" width=\"300\" height=\"150\" stroke=\"black\" stroke-width=\"2\" fill=\"none\" />\n",
      "    </svg>\n"
     ]
    },
    {
     "data": {
      "image/svg+xml": [
       "<svg xmlns=\"http://www.w3.org/2000/svg\" width=\"500\" height=\"350\">\n",
       "    <text x=\"250\" y=\"50\" font-size=\"25\" text-anchor=\"middle\">직사각형</text>\n",
       "    <rect x=\"100\" y=\"100\" width=\"300\" height=\"150\" stroke=\"black\" stroke-width=\"2\" fill=\"none\"/>\n",
       "    </svg>"
      ],
      "text/plain": [
       "<IPython.core.display.SVG object>"
      ]
     },
     "metadata": {},
     "output_type": "display_data"
    },
    {
     "name": "stdout",
     "output_type": "stream",
     "text": [
      "====================================================================================================\n",
      "요청한 문장: 정사각형 하나를 그려줘\n",
      "추출된 개념: Square\n",
      "\n",
      "생성된 코드:\n",
      " <svg width=\"500\" height=\"500\" xmlns=\"http://www.w3.org/2000/svg\">\n",
      "    <text x=\"250\" y=\"50\" font-size=\"25\" text-anchor=\"middle\">정사각형</text>\n",
      "    <rect x=\"100\" y=\"100\" width=\"300\" height=\"300\" stroke=\"black\" stroke-width=\"2\" fill=\"none\" />\n",
      "    </svg>\n"
     ]
    },
    {
     "data": {
      "image/svg+xml": [
       "<svg xmlns=\"http://www.w3.org/2000/svg\" width=\"500\" height=\"500\">\n",
       "    <text x=\"250\" y=\"50\" font-size=\"25\" text-anchor=\"middle\">정사각형</text>\n",
       "    <rect x=\"100\" y=\"100\" width=\"300\" height=\"300\" stroke=\"black\" stroke-width=\"2\" fill=\"none\"/>\n",
       "    </svg>"
      ],
      "text/plain": [
       "<IPython.core.display.SVG object>"
      ]
     },
     "metadata": {},
     "output_type": "display_data"
    },
    {
     "name": "stdout",
     "output_type": "stream",
     "text": [
      "====================================================================================================\n"
     ]
    }
   ],
   "source": [
    "input_samples = [\n",
    "    \"곧은선이 뭐야?\",\n",
    "    \"대표적인 굽은선을 그려줘\",\n",
    "    \"중심이 (0,0)이고 반지름이 2인 원을 그려주세요.\",\n",
    "    \"임의의 각도를 그려줘\",\n",
    "    \"직각을 표현해줘\",\n",
    "    \"피타고라스 정리를 위해 직각삼각형 하나를 그려줘\",\n",
    "    \"직사각형의 넓이\",\n",
    "    \"정사각형 하나를 그려줘\",\n",
    "]\n",
    "\n",
    "# 그래프 호출\n",
    "for i, user_input in enumerate(input_samples):\n",
    "    result = app.invoke({\"user_request\": user_input})\n",
    "\n",
    "    # 결과 출력\n",
    "    print(\"요청한 문장:\", result[\"user_request\"])\n",
    "    print(\"추출된 개념:\", result[\"math_concept\"])\n",
    "    print(\"\\n생성된 코드:\\n\", result[\"generated_code\"])\n",
    "    show_svg(result[\"generated_code\"])\n",
    "    print(\"=\" * 100)"
   ]
  }
 ],
 "metadata": {
  "kernelspec": {
   "display_name": "Python 3 (ipykernel)",
   "language": "python",
   "name": "python3"
  },
  "language_info": {
   "codemirror_mode": {
    "name": "ipython",
    "version": 3
   },
   "file_extension": ".py",
   "mimetype": "text/x-python",
   "name": "python",
   "nbconvert_exporter": "python",
   "pygments_lexer": "ipython3",
   "version": "3.10.12"
  }
 },
 "nbformat": 4,
 "nbformat_minor": 5
}
