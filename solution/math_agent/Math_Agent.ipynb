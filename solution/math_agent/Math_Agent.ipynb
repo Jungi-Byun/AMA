{
 "cells": [
  {
   "cell_type": "code",
   "execution_count": 1,
   "id": "2b536a1f-ca80-4297-8600-180cdd57d51f",
   "metadata": {},
   "outputs": [],
   "source": [
    "!pip install -q pandas openpyxl"
   ]
  },
  {
   "cell_type": "code",
   "execution_count": 2,
   "id": "69ae393b-af2c-43fb-a17f-8f3901ae2485",
   "metadata": {},
   "outputs": [
    {
     "name": "stdout",
     "output_type": "stream",
     "text": [
      "Q1: 어떤 가분수의 분자를 $8$로 나누었더니 몫이 $2$이고 나머지가 $2$보다 큽니다. 또 이 분수의 분모를 $3$으로 나누었더니 몫이 $1$이고, 나머지가 있습니다. 조건을 만족하는 가분수 중에서 $4$보다 작은 가분수를 구하시오.\n",
      "Q2: $\\square$ 안에 알맞은 수를 써넣으시오. $ 80 \\div 6= \\square···\\square$ (검산) $ 6 \\times \\square+\\square=\\square $\n",
      "Q3: 장미를 $8$개의 꽃병에 똑같게 나누어 꽂았습니다. 장미가 모두 $48$송이라면 꽃병 하나에 몇 송이씩 꽂았습니까?\n",
      "Q4: 색 테이프를 민호는 $0.385 m$, 나영이는 $26 cm$, 석현이는 $0.29 m$ 가지고 있습니다. 누가 가진 색 테이프의 길이가 가장 짧습니까?\n",
      "Q5: $9600$억에서 $1000$억씩 $5$번 뛰어서 센 수를 쓰시오.\n",
      "Q6: 승현이는 우표를 $226$장, 태희는 $178$장 모았습니다. 두 사람이 모은 우표는 모두 몇 장입니까?\n",
      "Q7: $ \\frac{\\triangle}{13} $ 모양의 분수 중에서 $ \\frac{1}{13} $이 $5$개인 분수보다 크고 $ \\frac{9}{13} $보다 작은 분수를 모두 쓰시오.\n",
      "Q8: 두 변의 길이가 다음과 같은 이등변삼각형을 그리려고 합니다. 나머지 한 변이 될 수 있는 길이를 모두 쓰시오. $7cm,12cm$\n",
      "Q9: 두 분수의 크기를 비교하여 $\\bigcirc$ 안에 >, =, <를 알맞게 써넣으시오. (1) $ \\frac{2}{7} \\bigcirc \\frac{5}{7} $ (2) $ \\frac{1}{4} \\bigcirc \\frac{1}{5} $\n",
      "Q10: 어떤 수에 $17$을 곱해야 할 것을 잘못하여 $17$을 뺐더니 $35$가 되었습니다. 바르게 계산하면 얼마입니까?\n"
     ]
    }
   ],
   "source": [
    "import pandas as pd\n",
    "import random\n",
    "\n",
    "# 1. Excel 파일에서 특정 시트 읽기\n",
    "file_path = \"P3P4_단답형 문제_라벨링_0.1.xlsx\"\n",
    "sheet_name = \"P3P4_단답형 문제\"\n",
    "df = pd.read_excel(file_path, sheet_name=sheet_name)\n",
    "\n",
    "# 2. 특정 컬럼 선택\n",
    "column_name = \"question\"  # 추출하고 싶은 컬럼명\n",
    "values = df[column_name].dropna().tolist()  # 결측값 제거 후 리스트로 변환\n",
    "\n",
    "# 3. 랜덤으로 N개 샘플링\n",
    "random.seed(2025)\n",
    "\n",
    "num_samples = 10  # 추출할 개수\n",
    "sampled_values = random.sample(values, k=num_samples)\n",
    "\n",
    "# 결과 확인\n",
    "for i, value in enumerate(sampled_values):\n",
    "    print(f\"Q{i + 1}: {value}\")"
   ]
  },
  {
   "cell_type": "code",
   "execution_count": 3,
   "id": "4af03f82-3867-4fb2-b051-43d5597433e0",
   "metadata": {},
   "outputs": [],
   "source": [
    "!pip install -q torch accelerate"
   ]
  },
  {
   "cell_type": "code",
   "execution_count": 4,
   "id": "4cf286af-9afd-4020-9c33-0868de356243",
   "metadata": {},
   "outputs": [],
   "source": [
    "!pip install -q git+https://github.com/lgai-exaone/transformers@add-exaone4"
   ]
  },
  {
   "cell_type": "code",
   "execution_count": 5,
   "id": "b1d2f27e-2954-4d7e-922c-41187d67743d",
   "metadata": {},
   "outputs": [
    {
     "name": "stderr",
     "output_type": "stream",
     "text": [
      "/home/jungi.byun/AMA/solution/math_agent/math_agent_env/lib/python3.10/site-packages/tqdm/auto.py:21: TqdmWarning: IProgress not found. Please update jupyter and ipywidgets. See https://ipywidgets.readthedocs.io/en/stable/user_install.html\n",
      "  from .autonotebook import tqdm as notebook_tqdm\n"
     ]
    }
   ],
   "source": [
    "import torch\n",
    "from transformers import AutoTokenizer, AutoModelForCausalLM\n",
    "\n",
    "model_name = \"LGAI-EXAONE/EXAONE-4.0-1.2B\"\n",
    "\n",
    "tokenizer = AutoTokenizer.from_pretrained(model_name)\n",
    "model = AutoModelForCausalLM.from_pretrained(model_name, trust_remote_code=True).to(\"cuda\")"
   ]
  },
  {
   "cell_type": "code",
   "execution_count": 6,
   "id": "084f9837-cdbd-446c-99c9-5937f3c25686",
   "metadata": {},
   "outputs": [
    {
     "name": "stdout",
     "output_type": "stream",
     "text": [
      "Q: 어떤 가분수의 분자를 $8$로 나누었더니 몫이 $2$이고 나머지가 $2$보다 큽니다. 또 이 분수의 분모를 $3$으로 나누었더니 몫이 $1$이고, 나머지가 있습니다. 조건을 만족하는 가분수 중에서 $4$보다 작은 가분수를 구하시오.\n",
      "\n",
      "문제를 이해해 보겠습니다. 어떤 가분수의 분자를 8로 나누었을 때 몫이 2이고 나머지가 2보다 큽니다. 그리고 분모를 3으로 나누었을 때 몫이 1이고 나머지가 있다고 합니다. 조건을 만족하는 가분수 중에서 4보다 작은 가분수를 찾아야 합니다.\n",
      "\n",
      "먼저, 가분수는 분자가 분모보다 크거나 같은 분수입니다. 조건을 수식으로 표현해 보겠습니다.\n",
      "\n",
      "첫 번째 조건: 분자를 8로 나눈 몫이 2이고 나머지가\n",
      "==================================================\n",
      "Q: $\\square$ 안에 알맞은 수를 써넣으시오. $ 80 \\div 6= \\square···\\square$ (검산) $ 6 \\times \\square+\\square=\\square $\n",
      "\n",
      "First, the problem has two parts. The first one is \\( 80 \\div 6 = \\square \\, \\square \\) and then it says (검산), which means check or verify. Then there's a second equation: \\( 6 \\times \\square + \\square = \\square \\). I need to fill in the blanks with numbers.\n",
      "\n",
      "Starting with the first division: \\( 80 \\div 6 \\). I know that 80 divided by 6 is approximately 13.333..., but since it's written as two squares, probably\n",
      "==================================================\n",
      "Q: 장미를 $8$개의 꽃병에 똑같게 나누어 꽂았습니다. 장미가 모두 $48$송이라면 꽃병 하나에 몇 송이씩 꽂았습니까?\n",
      "\n",
      "문제는 장미를 8개의 꽃병에 똑같이 나누어 꽂았고, 총 장미는 48송이라고 합니다. 꽃병 하나에 몇 송이씩 꽂았는지 구해야 합니다.\n",
      "\n",
      "먼저, 총 장미 수를 꽃병 수로 나누면 꽃병당 몇 송이인지 알 수 있습니다. 그래서 48송이를 8개의 꽃병에 나누는 거니까, 48 ÷ 8을 계산하면 됩니다.\n",
      "\n",
      "48을 8로 나누면 얼마가 될까요? 8 × 6 = 48이니까, 48 ÷ 8 = \n",
      "==================================================\n",
      "Q: 색 테이프를 민호는 $0.385 m$, 나영이는 $26 cm$, 석현이는 $0.29 m$ 가지고 있습니다. 누가 가진 색 테이프의 길이가 가장 짧습니까?\n",
      "\n",
      "문제에서 민호, 나영, 석현이 각각 가지고 있는 색 테이프의 길이는 다음과 같습니다: 민호는 0.385m, 나영은 26cm, 석현은 0.29m입니다. 누가 가진 테이프 길이가 가장 짧은지 알아내야 합니다.\n",
      "\n",
      "먼저, 모든 길이를 같은 단위로 통일해야 합니다. 현재 민호와 석현은 미터(m)로 되어 있고, 나영은 센티미터(cm)로 되어 있습니다. 미터와 센티미터를 비교하려면 둘 다 미터로 변환해야 합니다.\n",
      "\n",
      "1미터\n",
      "==================================================\n",
      "Q: $9600$억에서 $1000$억씩 $5$번 뛰어서 센 수를 쓰시오.\n",
      "\n",
      "문제는 9600억에서 1000억씩 5번 뛰어서센 수를 구하는 것입니다. \"뛰어서 센\"은 반복해서 더한다는 의미로 보입니다. 즉, 9600억에 1000억을 여러 번 더하는 것 같습니다.\n",
      "\n",
      "먼저, 한 번 추가하는 금액이 1000억이고, 이를 5번 더하므로 총 추가되는 금액은 1000억 × 5 = 5000억입니다.\n",
      "\n",
      "따라서 최종 금액은 원래\n",
      "==================================================\n",
      "Q: 승현이는 우표를 $226$장, 태희는 $178$장 모았습니다. 두 사람이 모은 우표는 모두 몇 장입니까?\n",
      "\n",
      "승현이는 우표를 226장, 태희는 178장 모았습니다. 두 사람이 모은 우표의 총합은 얼마입니까?\n",
      "\n",
      "두 사람이 모은 우표의 총합을 구하기 위해서는 두 숫자를 더해야 합니다. 따라서 226과 178을 더합니다.\n",
      "\n",
      "계산해 보겠습니다:\n",
      "\n",
      "226 + 178\n",
      "\n",
      "먼저, 일의 자리: 6 + 8 = 14. 일의 자리에 쓰고 carryover 1을 다음 자리로 가져갑니다.\n",
      "\n",
      "다음 십\n",
      "==================================================\n",
      "Q: $ \\frac{\\triangle}{13} $ 모양의 분수 중에서 $ \\frac{1}{13} $이 $5$개인 분수보다 크고 $ \\frac{9}{13} $보다 작은 분수를 모두 쓰시오.\n",
      "\n",
      "The problem is: \"Write all fractions of the form \\(\\frac{\\triangle}{13}\\) that are greater than \\(\\frac{1}{13}\\) and less than \\(\\frac{9}{13}\\).\" So, \\(\\triangle\\) is probably a digit, since it's in the numerator and denominator is 13. I think \\(\\triangle\\) represents a digit from 1 to 9, because if it were 0, it wouldn't make sense as a fraction greater than \\(\\frac{1}{13}\\).\n",
      "\n",
      "Let me denote the fraction as \\(\\frac{\n",
      "==================================================\n",
      "Q: 두 변의 길이가 다음과 같은 이등변삼각형을 그리려고 합니다. 나머지 한 변이 될 수 있는 길이를 모두 쓰시오. $7cm,12cm$\n",
      "\n",
      "문제는 두 변의 길이가 7cm와 12cm인 이등변삼각형에서 나머지 한 변의 길이를 모두 구하는 것입니다. 이등변삼각형은 두 변의 길이가 같다는 뜻이죠. 여기서는 두 변이 주어졌는데, 그 중 어떤 두 변이 같은지 명시되지 않았습니다.\n",
      "\n",
      "문제를 다시 읽어보겠습니다: \"두 변의 길이가 다음과 같은 이등변삼각형을 그리려고 합니다. 나머지 한 변이 될 수 있는 길이를 모두 쓰시오. $7cm,12cm$\"\n",
      "\n",
      "\n",
      "==================================================\n",
      "Q: 두 분수의 크기를 비교하여 $\\bigcirc$ 안에 >, =, <를 알맞게 써넣으시오. (1) $ \\frac{2}{7} \\bigcirc \\frac{5}{7} $ (2) $ \\frac{1}{4} \\bigcirc \\frac{1}{5} $\n",
      "\n",
      "문제는 두 분수의 크기를 비교하는 것입니다. 첫 번째는 (1)에서 \\( \\frac{2}{7} \\)과 \\( \\frac{5}{7} \\), 두 번째는 (2)에서 \\( \\frac{1}{4} \\)와 \\( \\frac{1}{5} \\)입니다. 각 쌍을 따로 풀어야 합니다.\n",
      "\n",
      "먼저 (1)을 생각해보겠습니다. \\( \\frac{2}{7} \\)과 \\( \\frac{5}{7} \\)입니다. 분모가 같습니다. 분모가 같으면 분자가 큰 분수가\n",
      "==================================================\n",
      "Q: 어떤 수에 $17$을 곱해야 할 것을 잘못하여 $17$을 뺐더니 $35$가 되었습니다. 바르게 계산하면 얼마입니까?\n",
      "\n",
      "문제를 이해해 보겠습니다. 어떤 수에 17을 곱했을 때 실수로 17을 빼서 35가 되었다고 합니다. 올바른 계산으로 얼마가 되어야 하는지 묻고 있습니다.\n",
      "\n",
      "먼저, 어떤 수를 x라고 합시다. 원래는 x * 17이어야 합니다. 하지만 실수로 x * 17에서 17을 빼서 x*17 - 17 = 35가 되었습니다.\n",
      "\n",
      "이 방정식을 풀 수 있습니다:\n",
      "\n",
      "x * 17 - 17 = 3\n",
      "==================================================\n"
     ]
    }
   ],
   "source": [
    "for question in sampled_values:\n",
    "    messages = [\n",
    "        {\"role\": \"user\", \"content\": question}\n",
    "    ]\n",
    "    \n",
    "    input_ids = tokenizer.apply_chat_template(\n",
    "        messages,\n",
    "        tokenize=True,\n",
    "        add_generation_prompt=True,\n",
    "        return_tensors=\"pt\",\n",
    "        enable_thinking=True,\n",
    "    )\n",
    "    \n",
    "    output = model.generate(\n",
    "        input_ids.to(model.device),\n",
    "        max_new_tokens=128,\n",
    "        do_sample=True,\n",
    "        temperature=0.6,\n",
    "        top_p=0.95\n",
    "    )\n",
    "    \n",
    "    decoded = tokenizer.decode(output[0], skip_special_tokens=True)\n",
    "\n",
    "    THINK_START_TOKEN = \"<think>\"\n",
    "    THINK_END_TOKEN = \"</think>\"\n",
    "\n",
    "    if decoded.find(THINK_END_TOKEN) != -1:\n",
    "        sol_start = decoded.find(THINK_END_TOKEN) + len(THINK_END_TOKEN)\n",
    "    elif decoded.find(THINK_START_TOKEN) != -1:\n",
    "        sol_start = decoded.find(THINK_START_TOKEN) + len(THINK_START_TOKEN)\n",
    "    else:\n",
    "        sol_start = 0\n",
    "        \n",
    "    print(f\"Q: {question}\")\n",
    "    print(decoded[sol_start:])\n",
    "    print(\"=\" * 50)"
   ]
  }
 ],
 "metadata": {
  "kernelspec": {
   "display_name": "Python 3 (ipykernel)",
   "language": "python",
   "name": "python3"
  },
  "language_info": {
   "codemirror_mode": {
    "name": "ipython",
    "version": 3
   },
   "file_extension": ".py",
   "mimetype": "text/x-python",
   "name": "python",
   "nbconvert_exporter": "python",
   "pygments_lexer": "ipython3",
   "version": "3.10.12"
  }
 },
 "nbformat": 4,
 "nbformat_minor": 5
}
