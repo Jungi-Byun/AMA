{
 "cells": [
  {
   "cell_type": "code",
   "execution_count": 1,
   "id": "56126aa2-e3ad-4c84-b952-0c65c9b229e7",
   "metadata": {},
   "outputs": [],
   "source": [
    "!pip install -q langchain langgraph transformers torch accelerate matplotlib plotly"
   ]
  },
  {
   "cell_type": "code",
   "execution_count": 2,
   "id": "db9e9f5f-d6da-4ccd-b561-dfbb59a8afe6",
   "metadata": {},
   "outputs": [
    {
     "name": "stderr",
     "output_type": "stream",
     "text": [
      "/home/jungi.byun/AMA/solution/jupyter_env/lib/python3.10/site-packages/tqdm/auto.py:21: TqdmWarning: IProgress not found. Please update jupyter and ipywidgets. See https://ipywidgets.readthedocs.io/en/stable/user_install.html\n",
      "  from .autonotebook import tqdm as notebook_tqdm\n",
      "2025-07-07 09:04:56.515277: I tensorflow/core/util/port.cc:153] oneDNN custom operations are on. You may see slightly different numerical results due to floating-point round-off errors from different computation orders. To turn them off, set the environment variable `TF_ENABLE_ONEDNN_OPTS=0`.\n",
      "2025-07-07 09:04:56.539455: E external/local_xla/xla/stream_executor/cuda/cuda_fft.cc:467] Unable to register cuFFT factory: Attempting to register factory for plugin cuFFT when one has already been registered\n",
      "WARNING: All log messages before absl::InitializeLog() is called are written to STDERR\n",
      "E0000 00:00:1751846696.566490  841081 cuda_dnn.cc:8579] Unable to register cuDNN factory: Attempting to register factory for plugin cuDNN when one has already been registered\n",
      "E0000 00:00:1751846696.575123  841081 cuda_blas.cc:1407] Unable to register cuBLAS factory: Attempting to register factory for plugin cuBLAS when one has already been registered\n",
      "W0000 00:00:1751846696.597084  841081 computation_placer.cc:177] computation placer already registered. Please check linkage and avoid linking the same target more than once.\n",
      "W0000 00:00:1751846696.597105  841081 computation_placer.cc:177] computation placer already registered. Please check linkage and avoid linking the same target more than once.\n",
      "W0000 00:00:1751846696.597108  841081 computation_placer.cc:177] computation placer already registered. Please check linkage and avoid linking the same target more than once.\n",
      "W0000 00:00:1751846696.597110  841081 computation_placer.cc:177] computation placer already registered. Please check linkage and avoid linking the same target more than once.\n",
      "2025-07-07 09:04:56.610314: I tensorflow/core/platform/cpu_feature_guard.cc:210] This TensorFlow binary is optimized to use available CPU instructions in performance-critical operations.\n",
      "To enable the following instructions: AVX2 AVX512F AVX512_VNNI FMA, in other operations, rebuild TensorFlow with the appropriate compiler flags.\n",
      "Loading checkpoint shards: 100%|███████████████████████████████████████████████████████████████████████████████████████████████████████████████████████████████████████████████████| 2/2 [00:00<00:00, 25.41it/s]\n"
     ]
    }
   ],
   "source": [
    "from transformers import AutoTokenizer, AutoModelForCausalLM\n",
    "\n",
    "model_name = \"LGAI-EXAONE/EXAONE-3.5-2.4B-Instruct\"\n",
    "\n",
    "tokenizer = AutoTokenizer.from_pretrained(model_name)\n",
    "model = AutoModelForCausalLM.from_pretrained(model_name, trust_remote_code=True).to(\"cuda\")"
   ]
  },
  {
   "cell_type": "code",
   "execution_count": 3,
   "id": "93e0dc6e-c822-4238-a026-69ca349e65ce",
   "metadata": {},
   "outputs": [],
   "source": [
    "from typing import TypedDict, Optional, Dict, Any\n",
    "from langgraph.graph import StateGraph, END\n",
    "\n",
    "class GeometryState(TypedDict):\n",
    "    user_request: str\n",
    "    math_concept: str = \"\"\n",
    "    generated_code: str = \"\""
   ]
  },
  {
   "cell_type": "code",
   "execution_count": 4,
   "id": "5fd19638-e3f0-444b-8268-e8ca5dd52cdf",
   "metadata": {},
   "outputs": [],
   "source": [
    "import json\n",
    "\n",
    "def extract_shape_node(state: GeometryState) -> GeometryState:\n",
    "    messages = [\n",
    "        {\n",
    "            \"role\": \"system\",\n",
    "            \"content\": \"\"\"\n",
    "                사용자가 제공하는 수학과 관련된 문장에서 어떠한 개념을 그려주면 사용자의 이해를 도울 수 있을지, JSON 형식으로 출력하세요.\n",
    "                아래 JSON의 schema에 맞게 하나만 출력하세요. 다른 설명은 절대 추가하지 마세요.\n",
    "                쉼표, 따옴표, 중괄호 등 문법을 엄격히 지키세요. 문제가 있어도 반드시 완전한 JSON으로만 출력하세요.\n",
    "                출력 형식 예시 (값은 사용자가 제공하는 수학과 관련된 문장에서 나온 개념을 사용해야 합니다):\n",
    "                {\n",
    "                    \"math_concept\": \"원\"\n",
    "                }\n",
    "                그릴 수 있는 개념은 다음과 같습니다. (사용자가 제공하는 수학과 관련된 문장에서 찾은 개념의 영단어와 문장을 영어로 번역한 것과 비교하여 찾아보세요)\n",
    "                    - 원(Circle)\n",
    "                    - 각 또는 각도(Angle)\n",
    "                    - 직각(Right Angle)\n",
    "                    - 직사각형(Rectangle)\n",
    "                    - 직각삼각형(Right Triangle)\n",
    "             \"\"\"\n",
    "        },\n",
    "        {\n",
    "            \"role\": \"user\",\n",
    "            \"content\": state[\"user_request\"]\n",
    "        }\n",
    "    ]\n",
    "    \n",
    "    input_ids = tokenizer.apply_chat_template(\n",
    "        messages,\n",
    "        tokenize=True,\n",
    "        add_generation_prompt=True,\n",
    "        return_tensors=\"pt\"\n",
    "    )\n",
    "\n",
    "    output = model.generate(\n",
    "        input_ids.to(\"cuda\"),\n",
    "        eos_token_id=tokenizer.eos_token_id,\n",
    "        max_new_tokens=128,\n",
    "        do_sample=False,\n",
    "    )\n",
    "\n",
    "    decoded = tokenizer.decode(output[0], skip_special_tokens=True)\n",
    "    \n",
    "    # 마크다운 제거 로직\n",
    "    decoded = decoded[decoded.find(\"```json\") + len(\"```json\"):decoded.rfind(\"```\")]\n",
    "    parsed = json.loads(decoded)\n",
    "\n",
    "    state[\"math_concept\"] = parsed[\"math_concept\"]\n",
    "\n",
    "    return state"
   ]
  },
  {
   "cell_type": "code",
   "execution_count": 5,
   "id": "940daf40-6a25-4034-a10c-553fd8dd3053",
   "metadata": {},
   "outputs": [],
   "source": [
    "GEN_CIRCLE = \"\"\"\n",
    "import matplotlib.pyplot as plt\n",
    "from io import StringIO\n",
    "\n",
    "fig, ax = plt.subplots()\n",
    "circle = plt.Circle((0, 0), radius=1, fill=False)\n",
    "ax.add_patch(circle)\n",
    "plt.plot(0,0,'o', markersize=2, color='k') \n",
    "ax.set_aspect('equal')\n",
    "ax.set_xlim(0 - 1.5, 0 + 1.5)\n",
    "ax.set_ylim(0 - 1.5, 0 + 1.5)\n",
    "\n",
    "plt.title('Circle with radius 1 at (0, 0)')\n",
    "plt.axis(\"off\")\n",
    "plt.show()\n",
    "\"\"\""
   ]
  },
  {
   "cell_type": "code",
   "execution_count": 6,
   "id": "3af286d4-a40d-4df5-98f6-2f4b9b05481f",
   "metadata": {},
   "outputs": [],
   "source": [
    "GEN_RECTANGLE = \"\"\"\n",
    "import matplotlib.pyplot as plt\n",
    "\n",
    "width = 2\n",
    "height = 1\n",
    "\n",
    "fig, ax = plt.subplots()\n",
    "left = plt.plot([0, 0], [0, height], color='k')\n",
    "right = plt.plot([width, width], [0, height], color='k')\n",
    "bottom = plt.plot([0, width],[0, 0], color='k')\n",
    "top = plt.plot([0, width], [height, height], color='k')\n",
    "ax.set_aspect('equal')\n",
    "\n",
    "plt.title('Rectangle with width 2, height 1')\n",
    "plt.axis(\"off\")\n",
    "plt.show()\n",
    "\"\"\""
   ]
  },
  {
   "cell_type": "code",
   "execution_count": 7,
   "id": "4a458159-bdd3-48ec-bf5f-0a184f0a10ad",
   "metadata": {},
   "outputs": [],
   "source": [
    "GEN_ANGLE = \"\"\"\n",
    "import numpy as np\n",
    "import matplotlib.pyplot as plt\n",
    "import math\n",
    "\n",
    "fig, ax = plt.subplots(2, 1)\n",
    "\n",
    "# acuse angle\n",
    "x_acuse = 1\n",
    "theta_acuse = math.pi / 6\n",
    "thetas_acuse = np.linspace(0, theta_acuse, 30)\n",
    "slope_acuse = math.tan(theta_acuse)\n",
    "\n",
    "ax[0].plot([0, x_acuse], [0, 0], color='k')\n",
    "ax[0].plot([0, x_acuse], [0, slope_acuse], color='k')\n",
    "ax[0].plot(0.2 * np.cos(thetas_acuse), 0.2* np.sin(thetas_acuse), color='k')\n",
    "\n",
    "ax[0].set_aspect('equal')\n",
    "\n",
    "ax[0].set_title('Angle 30°')\n",
    "ax[0].axis(\"off\")\n",
    "\n",
    "# obtuse angle\n",
    "x_obtuse = 1\n",
    "theta_obtuse = math.pi * 2 / 3\n",
    "thetas_obtuse = np.linspace(0, theta_obtuse, 30)\n",
    "slope_obtuse = math.tan(theta_obtuse)\n",
    "\n",
    "ax[1].plot([-0.5 * x_obtuse, 0], [-0.5 * slope_obtuse, 0], color='k')\n",
    "ax[1].plot([0, x_obtuse], [0, 0], color='k')\n",
    "ax[1].plot(0.2 * np.cos(thetas_obtuse), 0.2* np.sin(thetas_obtuse), color='k')\n",
    "\n",
    "ax[1].set_aspect('equal')\n",
    "\n",
    "ax[1].set_title('Angle 120°')\n",
    "ax[1].axis(\"off\")\n",
    "\n",
    "plt.tight_layout()\n",
    "plt.show()\n",
    "\"\"\""
   ]
  },
  {
   "cell_type": "code",
   "execution_count": 8,
   "id": "735a7e41-62e5-4f75-9bc7-ac545702b3fc",
   "metadata": {},
   "outputs": [],
   "source": [
    "GEN_PERP = \"\"\"\n",
    "import matplotlib.pyplot as plt\n",
    "\n",
    "l = 0.2\n",
    "\n",
    "fig, ax = plt.subplots()\n",
    "plt.axvline(x=0, linewidth=3, color='k')\n",
    "plt.axhline(y=0, linewidth=3, color='k')\n",
    "plt.plot([l, l], [0, l], color='k')\n",
    "plt.plot([0, l], [l, l], color='k')\n",
    "\n",
    "plt.xlim(0, l + 1)\n",
    "plt.ylim(0, l + 1)\n",
    "\n",
    "ax.set_aspect('equal')\n",
    "\n",
    "plt.title('Angle 90°')\n",
    "plt.axis(\"off\")\n",
    "plt.show()\n",
    "\"\"\""
   ]
  },
  {
   "cell_type": "code",
   "execution_count": 9,
   "id": "dd6f18a9-f5d3-4fb3-b82a-68e9d75337cf",
   "metadata": {},
   "outputs": [],
   "source": [
    "GEN_RIGHT_TRIANGLE = \"\"\"\n",
    "import matplotlib.pyplot as plt\n",
    "\n",
    "x = 4\n",
    "y = 3\n",
    "epsilon = 0.1 * min(x, y)\n",
    "\n",
    "fig, ax = plt.subplots()\n",
    "plt.plot([0, x], [0, 0], color='k')\n",
    "plt.plot([x, x], [0, y], color='k')\n",
    "plt.plot([0, x], [0, y], color='k')\n",
    "\n",
    "plt.plot([x - epsilon, x - epsilon], [0, epsilon], color='k')\n",
    "plt.plot([x - epsilon, x], [epsilon, epsilon], color='k')\n",
    "\n",
    "ax.set_aspect('equal')\n",
    "\n",
    "plt.title('Right Triangle')\n",
    "plt.axis(\"off\")\n",
    "plt.show()\n",
    "\"\"\""
   ]
  },
  {
   "cell_type": "code",
   "execution_count": 10,
   "id": "f3155185-b773-43d2-87ed-5363f16b2754",
   "metadata": {},
   "outputs": [],
   "source": [
    "def generate_code_node(state: GeometryState) -> GeometryState:\n",
    "    concept = state[\"math_concept\"]\n",
    "\n",
    "    if concept == \"원\" or concept == \"Circle\":\n",
    "        code = GEN_CIRCLE\n",
    "    elif concept == \"직사각형\" or concept == \"Rectangle\" :\n",
    "        code = GEN_RECTANGLE\n",
    "    elif concept == \"각\" or concept == \"각도\" or concept == \"Angle\":\n",
    "        code = GEN_ANGLE\n",
    "    elif concept == \"직각\" or concept == \"Right Angle\":\n",
    "        code = GEN_PERP\n",
    "    elif concept == \"직각삼각형\" or concept == \"Right Triangle\":\n",
    "        code = GEN_RIGHT_TRIANGLE\n",
    "    else:\n",
    "        code = f\"# '{concept}'을 그리는 코드는 아직 구현되지 않았습니다.\"\n",
    "\n",
    "    return {**state, \"generated_code\": code}"
   ]
  },
  {
   "cell_type": "code",
   "execution_count": 11,
   "id": "458f97ba-b654-4475-bcfb-d5eb555adb6e",
   "metadata": {},
   "outputs": [
    {
     "data": {
      "image/png": "[encoded data removed]",
      "text/plain": [
       "<langgraph.graph.state.CompiledStateGraph object at 0x7f55ee9d3610>"
      ]
     },
     "execution_count": 11,
     "metadata": {},
     "output_type": "execute_result"
    }
   ],
   "source": [
    "# LangGraph StateGraph 생성\n",
    "geometry_agent = StateGraph(GeometryState)\n",
    "\n",
    "# 노드 등록\n",
    "geometry_agent.add_node(\"extract_shape\", extract_shape_node)\n",
    "geometry_agent.add_node(\"generate_code\", generate_code_node)\n",
    "\n",
    "# 엣지 연결\n",
    "geometry_agent.set_entry_point(\"extract_shape\")\n",
    "geometry_agent.add_edge(\"extract_shape\", \"generate_code\")\n",
    "geometry_agent.add_edge(\"generate_code\", END)\n",
    "\n",
    "# 그래프 완성\n",
    "app = geometry_agent.compile()\n",
    "app"
   ]
  },
  {
   "cell_type": "code",
   "execution_count": 12,
   "id": "00d8ca65-5075-4d4d-86f2-e9586500dffb",
   "metadata": {},
   "outputs": [
    {
     "name": "stdout",
     "output_type": "stream",
     "text": [
      "요청한 문장: 중심이 (0,0)이고 반지름이 2인 원을 그려주세요.\n",
      "추출된 개념: 원\n",
      "\n",
      "생성된 코드:\n",
      " \n",
      "import matplotlib.pyplot as plt\n",
      "from io import StringIO\n",
      "\n",
      "fig, ax = plt.subplots()\n",
      "circle = plt.Circle((0, 0), radius=1, fill=False)\n",
      "ax.add_patch(circle)\n",
      "plt.plot(0,0,'o', markersize=2, color='k') \n",
      "ax.set_aspect('equal')\n",
      "ax.set_xlim(0 - 1.5, 0 + 1.5)\n",
      "ax.set_ylim(0 - 1.5, 0 + 1.5)\n",
      "\n",
      "plt.title('Circle with radius 1 at (0, 0)')\n",
      "plt.axis(\"off\")\n",
      "plt.show()\n",
      "\n"
     ]
    },
    {
     "data": {
      "image/png": "[encoded data removed]",
      "text/plain": [
       "<Figure size 640x480 with 1 Axes>"
      ]
     },
     "metadata": {},
     "output_type": "display_data"
    },
    {
     "name": "stdout",
     "output_type": "stream",
     "text": [
      "==================================================\n",
      "요청한 문장: 직사각형의 넓이\n",
      "추출된 개념: Rectangle\n",
      "\n",
      "생성된 코드:\n",
      " \n",
      "import matplotlib.pyplot as plt\n",
      "\n",
      "width = 2\n",
      "height = 1\n",
      "\n",
      "fig, ax = plt.subplots()\n",
      "left = plt.plot([0, 0], [0, height], color='k')\n",
      "right = plt.plot([width, width], [0, height], color='k')\n",
      "bottom = plt.plot([0, width],[0, 0], color='k')\n",
      "top = plt.plot([0, width], [height, height], color='k')\n",
      "ax.set_aspect('equal')\n",
      "\n",
      "plt.title('Rectangle with width 2, height 1')\n",
      "plt.axis(\"off\")\n",
      "plt.show()\n",
      "\n"
     ]
    },
    {
     "data": {
      "image/png": "[encoded data removed]",
      "text/plain": [
       "<Figure size 640x480 with 1 Axes>"
      ]
     },
     "metadata": {},
     "output_type": "display_data"
    },
    {
     "name": "stdout",
     "output_type": "stream",
     "text": [
      "==================================================\n",
      "요청한 문장: 임의의 각도를 그려줘\n",
      "추출된 개념: 각도\n",
      "\n",
      "생성된 코드:\n",
      " \n",
      "import numpy as np\n",
      "import matplotlib.pyplot as plt\n",
      "import math\n",
      "\n",
      "fig, ax = plt.subplots(2, 1)\n",
      "\n",
      "# acuse angle\n",
      "x_acuse = 1\n",
      "theta_acuse = math.pi / 6\n",
      "thetas_acuse = np.linspace(0, theta_acuse, 30)\n",
      "slope_acuse = math.tan(theta_acuse)\n",
      "\n",
      "ax[0].plot([0, x_acuse], [0, 0], color='k')\n",
      "ax[0].plot([0, x_acuse], [0, slope_acuse], color='k')\n",
      "ax[0].plot(0.2 * np.cos(thetas_acuse), 0.2* np.sin(thetas_acuse), color='k')\n",
      "\n",
      "ax[0].set_aspect('equal')\n",
      "\n",
      "ax[0].set_title('Angle 30°')\n",
      "ax[0].axis(\"off\")\n",
      "\n",
      "# obtuse angle\n",
      "x_obtuse = 1\n",
      "theta_obtuse = math.pi * 2 / 3\n",
      "thetas_obtuse = np.linspace(0, theta_obtuse, 30)\n",
      "slope_obtuse = math.tan(theta_obtuse)\n",
      "\n",
      "ax[1].plot([-0.5 * x_obtuse, 0], [-0.5 * slope_obtuse, 0], color='k')\n",
      "ax[1].plot([0, x_obtuse], [0, 0], color='k')\n",
      "ax[1].plot(0.2 * np.cos(thetas_obtuse), 0.2* np.sin(thetas_obtuse), color='k')\n",
      "\n",
      "ax[1].set_aspect('equal')\n",
      "\n",
      "ax[1].set_title('Angle 120°')\n",
      "ax[1].axis(\"off\")\n",
      "\n",
      "plt.tight_layout()\n",
      "plt.show()\n",
      "\n"
     ]
    },
    {
     "data": {
      "image/png": "[encoded data removed]",
      "text/plain": [
       "<Figure size 640x480 with 2 Axes>"
      ]
     },
     "metadata": {},
     "output_type": "display_data"
    },
    {
     "name": "stdout",
     "output_type": "stream",
     "text": [
      "==================================================\n",
      "요청한 문장: 직각을 표현해줘\n",
      "추출된 개념: 직각\n",
      "\n",
      "생성된 코드:\n",
      " \n",
      "import matplotlib.pyplot as plt\n",
      "\n",
      "l = 0.2\n",
      "\n",
      "fig, ax = plt.subplots()\n",
      "plt.axvline(x=0, linewidth=3, color='k')\n",
      "plt.axhline(y=0, linewidth=3, color='k')\n",
      "plt.plot([l, l], [0, l], color='k')\n",
      "plt.plot([0, l], [l, l], color='k')\n",
      "\n",
      "plt.xlim(0, l + 1)\n",
      "plt.ylim(0, l + 1)\n",
      "\n",
      "ax.set_aspect('equal')\n",
      "\n",
      "plt.title('Angle 90°')\n",
      "plt.axis(\"off\")\n",
      "plt.show()\n",
      "\n"
     ]
    },
    {
     "data": {
      "image/png": "[encoded data removed]",
      "text/plain": [
       "<Figure size 640x480 with 1 Axes>"
      ]
     },
     "metadata": {},
     "output_type": "display_data"
    },
    {
     "name": "stdout",
     "output_type": "stream",
     "text": [
      "==================================================\n",
      "요청한 문장: 피타고라스 정리를 위해 직각삼각형 하나를 그려줘\n",
      "추출된 개념: 직각삼각형\n",
      "\n",
      "생성된 코드:\n",
      " \n",
      "import matplotlib.pyplot as plt\n",
      "\n",
      "x = 4\n",
      "y = 3\n",
      "epsilon = 0.1 * min(x, y)\n",
      "\n",
      "fig, ax = plt.subplots()\n",
      "plt.plot([0, x], [0, 0], color='k')\n",
      "plt.plot([x, x], [0, y], color='k')\n",
      "plt.plot([0, x], [0, y], color='k')\n",
      "\n",
      "plt.plot([x - epsilon, x - epsilon], [0, epsilon], color='k')\n",
      "plt.plot([x - epsilon, x], [epsilon, epsilon], color='k')\n",
      "\n",
      "ax.set_aspect('equal')\n",
      "\n",
      "plt.title('Right Triangle')\n",
      "plt.axis(\"off\")\n",
      "plt.show()\n",
      "\n"
     ]
    },
    {
     "data": {
      "image/png": "[encoded data removed]",
      "text/plain": [
       "<Figure size 640x480 with 1 Axes>"
      ]
     },
     "metadata": {},
     "output_type": "display_data"
    },
    {
     "name": "stdout",
     "output_type": "stream",
     "text": [
      "==================================================\n"
     ]
    }
   ],
   "source": [
    "# 사용자 입력\n",
    "# user_input = \"중심이 (0,0)이고 반지름이 2인 원을 그려주세요.\"\n",
    "# user_input = \"직사각형의 넓이\"\n",
    "# user_input = \"임의의 각도를 그려줘\"\n",
    "# user_input = \"직각을 표현해줘\"\n",
    "user_input = \"피타고라스 정리를 위해 직각삼각형 하나를 그려줘\"\n",
    "\n",
    "import plotly.io as pio\n",
    "pio.renderers.default = \"notebook\"\n",
    "\n",
    "input_samples = [\n",
    "    \"중심이 (0,0)이고 반지름이 2인 원을 그려주세요.\",\n",
    "    \"직사각형의 넓이\",\n",
    "    \"임의의 각도를 그려줘\",\n",
    "    \"직각을 표현해줘\",\n",
    "    \"피타고라스 정리를 위해 직각삼각형 하나를 그려줘\",\n",
    "]\n",
    "\n",
    "# 그래프 호출\n",
    "for user_input in input_samples:\n",
    "    result = app.invoke({\"user_request\": user_input})\n",
    "\n",
    "    # 결과 출력\n",
    "    print(\"요청한 문장:\", result[\"user_request\"])\n",
    "    print(\"추출된 개념:\", result[\"math_concept\"])\n",
    "    print(\"\\n생성된 코드:\\n\", result[\"generated_code\"])\n",
    "    exec(result[\"generated_code\"])\n",
    "    print(\"=\" * 50)"
   ]
  }
 ],
 "metadata": {
  "kernelspec": {
   "display_name": "Python 3 (ipykernel)",
   "language": "python",
   "name": "python3"
  },
  "language_info": {
   "codemirror_mode": {
    "name": "ipython",
    "version": 3
   },
   "file_extension": ".py",
   "mimetype": "text/x-python",
   "name": "python",
   "nbconvert_exporter": "python",
   "pygments_lexer": "ipython3",
   "version": "3.10.12"
  }
 },
 "nbformat": 4,
 "nbformat_minor": 5
}
